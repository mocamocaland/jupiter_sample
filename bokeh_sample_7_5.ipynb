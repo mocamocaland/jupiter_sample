{
 "cells": [
  {
   "cell_type": "code",
   "execution_count": 4,
   "metadata": {},
   "outputs": [
    {
     "data": {
      "text/html": [
       "\n",
       "    <div class=\"bk-root\">\n",
       "        <a href=\"https://bokeh.pydata.org\" target=\"_blank\" class=\"bk-logo bk-logo-small bk-logo-notebook\"></a>\n",
       "        <span id=\"9b686a76-f769-42f1-b8d4-7a326825bc70\">Loading BokehJS ...</span>\n",
       "    </div>"
      ]
     },
     "metadata": {},
     "output_type": "display_data"
    },
    {
     "data": {
      "application/javascript": [
       "\n",
       "(function(root) {\n",
       "  function now() {\n",
       "    return new Date();\n",
       "  }\n",
       "\n",
       "  var force = true;\n",
       "\n",
       "  if (typeof (root._bokeh_onload_callbacks) === \"undefined\" || force === true) {\n",
       "    root._bokeh_onload_callbacks = [];\n",
       "    root._bokeh_is_loading = undefined;\n",
       "  }\n",
       "\n",
       "  var JS_MIME_TYPE = 'application/javascript';\n",
       "  var HTML_MIME_TYPE = 'text/html';\n",
       "  var EXEC_MIME_TYPE = 'application/vnd.bokehjs_exec.v0+json';\n",
       "  var CLASS_NAME = 'output_bokeh rendered_html';\n",
       "\n",
       "  /**\n",
       "   * Render data to the DOM node\n",
       "   */\n",
       "  function render(props, node) {\n",
       "    var script = document.createElement(\"script\");\n",
       "    node.appendChild(script);\n",
       "  }\n",
       "\n",
       "  /**\n",
       "   * Handle when an output is cleared or removed\n",
       "   */\n",
       "  function handleClearOutput(event, handle) {\n",
       "    var cell = handle.cell;\n",
       "\n",
       "    var id = cell.output_area._bokeh_element_id;\n",
       "    var server_id = cell.output_area._bokeh_server_id;\n",
       "    // Clean up Bokeh references\n",
       "    if (id !== undefined) {\n",
       "      Bokeh.index[id].model.document.clear();\n",
       "      delete Bokeh.index[id];\n",
       "    }\n",
       "\n",
       "    if (server_id !== undefined) {\n",
       "      // Clean up Bokeh references\n",
       "      var cmd = \"from bokeh.io.state import curstate; print(curstate().uuid_to_server['\" + server_id + \"'].get_sessions()[0].document.roots[0]._id)\";\n",
       "      cell.notebook.kernel.execute(cmd, {\n",
       "        iopub: {\n",
       "          output: function(msg) {\n",
       "            var element_id = msg.content.text.trim();\n",
       "            Bokeh.index[element_id].model.document.clear();\n",
       "            delete Bokeh.index[element_id];\n",
       "          }\n",
       "        }\n",
       "      });\n",
       "      // Destroy server and session\n",
       "      var cmd = \"import bokeh.io.notebook as ion; ion.destroy_server('\" + server_id + \"')\";\n",
       "      cell.notebook.kernel.execute(cmd);\n",
       "    }\n",
       "  }\n",
       "\n",
       "  /**\n",
       "   * Handle when a new output is added\n",
       "   */\n",
       "  function handleAddOutput(event, handle) {\n",
       "    var output_area = handle.output_area;\n",
       "    var output = handle.output;\n",
       "\n",
       "    // limit handleAddOutput to display_data with EXEC_MIME_TYPE content only\n",
       "    if ((output.output_type != \"display_data\") || (!output.data.hasOwnProperty(EXEC_MIME_TYPE))) {\n",
       "      return\n",
       "    }\n",
       "\n",
       "    var toinsert = output_area.element.find(`.${CLASS_NAME.split(' ')[0]}`);\n",
       "\n",
       "    if (output.metadata[EXEC_MIME_TYPE][\"id\"] !== undefined) {\n",
       "      toinsert[0].firstChild.textContent = output.data[JS_MIME_TYPE];\n",
       "      // store reference to embed id on output_area\n",
       "      output_area._bokeh_element_id = output.metadata[EXEC_MIME_TYPE][\"id\"];\n",
       "    }\n",
       "    if (output.metadata[EXEC_MIME_TYPE][\"server_id\"] !== undefined) {\n",
       "      var bk_div = document.createElement(\"div\");\n",
       "      bk_div.innerHTML = output.data[HTML_MIME_TYPE];\n",
       "      var script_attrs = bk_div.children[0].attributes;\n",
       "      for (var i = 0; i < script_attrs.length; i++) {\n",
       "        toinsert[0].firstChild.setAttribute(script_attrs[i].name, script_attrs[i].value);\n",
       "      }\n",
       "      // store reference to server id on output_area\n",
       "      output_area._bokeh_server_id = output.metadata[EXEC_MIME_TYPE][\"server_id\"];\n",
       "    }\n",
       "  }\n",
       "\n",
       "  function register_renderer(events, OutputArea) {\n",
       "\n",
       "    function append_mime(data, metadata, element) {\n",
       "      // create a DOM node to render to\n",
       "      var toinsert = this.create_output_subarea(\n",
       "        metadata,\n",
       "        CLASS_NAME,\n",
       "        EXEC_MIME_TYPE\n",
       "      );\n",
       "      this.keyboard_manager.register_events(toinsert);\n",
       "      // Render to node\n",
       "      var props = {data: data, metadata: metadata[EXEC_MIME_TYPE]};\n",
       "      render(props, toinsert[0]);\n",
       "      element.append(toinsert);\n",
       "      return toinsert\n",
       "    }\n",
       "\n",
       "    /* Handle when an output is cleared or removed */\n",
       "    events.on('clear_output.CodeCell', handleClearOutput);\n",
       "    events.on('delete.Cell', handleClearOutput);\n",
       "\n",
       "    /* Handle when a new output is added */\n",
       "    events.on('output_added.OutputArea', handleAddOutput);\n",
       "\n",
       "    /**\n",
       "     * Register the mime type and append_mime function with output_area\n",
       "     */\n",
       "    OutputArea.prototype.register_mime_type(EXEC_MIME_TYPE, append_mime, {\n",
       "      /* Is output safe? */\n",
       "      safe: true,\n",
       "      /* Index of renderer in `output_area.display_order` */\n",
       "      index: 0\n",
       "    });\n",
       "  }\n",
       "\n",
       "  // register the mime type if in Jupyter Notebook environment and previously unregistered\n",
       "  if (root.Jupyter !== undefined) {\n",
       "    var events = require('base/js/events');\n",
       "    var OutputArea = require('notebook/js/outputarea').OutputArea;\n",
       "\n",
       "    if (OutputArea.prototype.mime_types().indexOf(EXEC_MIME_TYPE) == -1) {\n",
       "      register_renderer(events, OutputArea);\n",
       "    }\n",
       "  }\n",
       "\n",
       "  \n",
       "  if (typeof (root._bokeh_timeout) === \"undefined\" || force === true) {\n",
       "    root._bokeh_timeout = Date.now() + 5000;\n",
       "    root._bokeh_failed_load = false;\n",
       "  }\n",
       "\n",
       "  var NB_LOAD_WARNING = {'data': {'text/html':\n",
       "     \"<div style='background-color: #fdd'>\\n\"+\n",
       "     \"<p>\\n\"+\n",
       "     \"BokehJS does not appear to have successfully loaded. If loading BokehJS from CDN, this \\n\"+\n",
       "     \"may be due to a slow or bad network connection. Possible fixes:\\n\"+\n",
       "     \"</p>\\n\"+\n",
       "     \"<ul>\\n\"+\n",
       "     \"<li>re-rerun `output_notebook()` to attempt to load from CDN again, or</li>\\n\"+\n",
       "     \"<li>use INLINE resources instead, as so:</li>\\n\"+\n",
       "     \"</ul>\\n\"+\n",
       "     \"<code>\\n\"+\n",
       "     \"from bokeh.resources import INLINE\\n\"+\n",
       "     \"output_notebook(resources=INLINE)\\n\"+\n",
       "     \"</code>\\n\"+\n",
       "     \"</div>\"}};\n",
       "\n",
       "  function display_loaded() {\n",
       "    var el = document.getElementById(\"9b686a76-f769-42f1-b8d4-7a326825bc70\");\n",
       "    if (el != null) {\n",
       "      el.textContent = \"BokehJS is loading...\";\n",
       "    }\n",
       "    if (root.Bokeh !== undefined) {\n",
       "      if (el != null) {\n",
       "        el.textContent = \"BokehJS \" + root.Bokeh.version + \" successfully loaded.\";\n",
       "      }\n",
       "    } else if (Date.now() < root._bokeh_timeout) {\n",
       "      setTimeout(display_loaded, 100)\n",
       "    }\n",
       "  }\n",
       "\n",
       "\n",
       "  function run_callbacks() {\n",
       "    try {\n",
       "      root._bokeh_onload_callbacks.forEach(function(callback) { callback() });\n",
       "    }\n",
       "    finally {\n",
       "      delete root._bokeh_onload_callbacks\n",
       "    }\n",
       "    console.info(\"Bokeh: all callbacks have finished\");\n",
       "  }\n",
       "\n",
       "  function load_libs(js_urls, callback) {\n",
       "    root._bokeh_onload_callbacks.push(callback);\n",
       "    if (root._bokeh_is_loading > 0) {\n",
       "      console.log(\"Bokeh: BokehJS is being loaded, scheduling callback at\", now());\n",
       "      return null;\n",
       "    }\n",
       "    if (js_urls == null || js_urls.length === 0) {\n",
       "      run_callbacks();\n",
       "      return null;\n",
       "    }\n",
       "    console.log(\"Bokeh: BokehJS not loaded, scheduling load and callback at\", now());\n",
       "    root._bokeh_is_loading = js_urls.length;\n",
       "    for (var i = 0; i < js_urls.length; i++) {\n",
       "      var url = js_urls[i];\n",
       "      var s = document.createElement('script');\n",
       "      s.src = url;\n",
       "      s.async = false;\n",
       "      s.onreadystatechange = s.onload = function() {\n",
       "        root._bokeh_is_loading--;\n",
       "        if (root._bokeh_is_loading === 0) {\n",
       "          console.log(\"Bokeh: all BokehJS libraries loaded\");\n",
       "          run_callbacks()\n",
       "        }\n",
       "      };\n",
       "      s.onerror = function() {\n",
       "        console.warn(\"failed to load library \" + url);\n",
       "      };\n",
       "      console.log(\"Bokeh: injecting script tag for BokehJS library: \", url);\n",
       "      document.getElementsByTagName(\"head\")[0].appendChild(s);\n",
       "    }\n",
       "  };var element = document.getElementById(\"9b686a76-f769-42f1-b8d4-7a326825bc70\");\n",
       "  if (element == null) {\n",
       "    console.log(\"Bokeh: ERROR: autoload.js configured with elementid '9b686a76-f769-42f1-b8d4-7a326825bc70' but no matching script tag was found. \")\n",
       "    return false;\n",
       "  }\n",
       "\n",
       "  var js_urls = [\"https://cdn.pydata.org/bokeh/release/bokeh-0.12.10.min.js\", \"https://cdn.pydata.org/bokeh/release/bokeh-widgets-0.12.10.min.js\", \"https://cdn.pydata.org/bokeh/release/bokeh-tables-0.12.10.min.js\", \"https://cdn.pydata.org/bokeh/release/bokeh-gl-0.12.10.min.js\"];\n",
       "\n",
       "  var inline_js = [\n",
       "    function(Bokeh) {\n",
       "      Bokeh.set_log_level(\"info\");\n",
       "    },\n",
       "    \n",
       "    function(Bokeh) {\n",
       "      \n",
       "    },\n",
       "    function(Bokeh) {\n",
       "      console.log(\"Bokeh: injecting CSS: https://cdn.pydata.org/bokeh/release/bokeh-0.12.10.min.css\");\n",
       "      Bokeh.embed.inject_css(\"https://cdn.pydata.org/bokeh/release/bokeh-0.12.10.min.css\");\n",
       "      console.log(\"Bokeh: injecting CSS: https://cdn.pydata.org/bokeh/release/bokeh-widgets-0.12.10.min.css\");\n",
       "      Bokeh.embed.inject_css(\"https://cdn.pydata.org/bokeh/release/bokeh-widgets-0.12.10.min.css\");\n",
       "      console.log(\"Bokeh: injecting CSS: https://cdn.pydata.org/bokeh/release/bokeh-tables-0.12.10.min.css\");\n",
       "      Bokeh.embed.inject_css(\"https://cdn.pydata.org/bokeh/release/bokeh-tables-0.12.10.min.css\");\n",
       "    }\n",
       "  ];\n",
       "\n",
       "  function run_inline_js() {\n",
       "    \n",
       "    if ((root.Bokeh !== undefined) || (force === true)) {\n",
       "      for (var i = 0; i < inline_js.length; i++) {\n",
       "        inline_js[i].call(root, root.Bokeh);\n",
       "      }if (force === true) {\n",
       "        display_loaded();\n",
       "      }} else if (Date.now() < root._bokeh_timeout) {\n",
       "      setTimeout(run_inline_js, 100);\n",
       "    } else if (!root._bokeh_failed_load) {\n",
       "      console.log(\"Bokeh: BokehJS failed to load within specified timeout.\");\n",
       "      root._bokeh_failed_load = true;\n",
       "    } else if (force !== true) {\n",
       "      var cell = $(document.getElementById(\"9b686a76-f769-42f1-b8d4-7a326825bc70\")).parents('.cell').data().cell;\n",
       "      cell.output_area.append_execute_result(NB_LOAD_WARNING)\n",
       "    }\n",
       "\n",
       "  }\n",
       "\n",
       "  if (root._bokeh_is_loading === 0) {\n",
       "    console.log(\"Bokeh: BokehJS loaded, going straight to plotting\");\n",
       "    run_inline_js();\n",
       "  } else {\n",
       "    load_libs(js_urls, function() {\n",
       "      console.log(\"Bokeh: BokehJS plotting callback run at\", now());\n",
       "      run_inline_js();\n",
       "    });\n",
       "  }\n",
       "}(window));"
      ],
      "application/vnd.bokehjs_load.v0+json": "\n(function(root) {\n  function now() {\n    return new Date();\n  }\n\n  var force = true;\n\n  if (typeof (root._bokeh_onload_callbacks) === \"undefined\" || force === true) {\n    root._bokeh_onload_callbacks = [];\n    root._bokeh_is_loading = undefined;\n  }\n\n  \n\n  \n  if (typeof (root._bokeh_timeout) === \"undefined\" || force === true) {\n    root._bokeh_timeout = Date.now() + 5000;\n    root._bokeh_failed_load = false;\n  }\n\n  var NB_LOAD_WARNING = {'data': {'text/html':\n     \"<div style='background-color: #fdd'>\\n\"+\n     \"<p>\\n\"+\n     \"BokehJS does not appear to have successfully loaded. If loading BokehJS from CDN, this \\n\"+\n     \"may be due to a slow or bad network connection. Possible fixes:\\n\"+\n     \"</p>\\n\"+\n     \"<ul>\\n\"+\n     \"<li>re-rerun `output_notebook()` to attempt to load from CDN again, or</li>\\n\"+\n     \"<li>use INLINE resources instead, as so:</li>\\n\"+\n     \"</ul>\\n\"+\n     \"<code>\\n\"+\n     \"from bokeh.resources import INLINE\\n\"+\n     \"output_notebook(resources=INLINE)\\n\"+\n     \"</code>\\n\"+\n     \"</div>\"}};\n\n  function display_loaded() {\n    var el = document.getElementById(\"9b686a76-f769-42f1-b8d4-7a326825bc70\");\n    if (el != null) {\n      el.textContent = \"BokehJS is loading...\";\n    }\n    if (root.Bokeh !== undefined) {\n      if (el != null) {\n        el.textContent = \"BokehJS \" + root.Bokeh.version + \" successfully loaded.\";\n      }\n    } else if (Date.now() < root._bokeh_timeout) {\n      setTimeout(display_loaded, 100)\n    }\n  }\n\n\n  function run_callbacks() {\n    try {\n      root._bokeh_onload_callbacks.forEach(function(callback) { callback() });\n    }\n    finally {\n      delete root._bokeh_onload_callbacks\n    }\n    console.info(\"Bokeh: all callbacks have finished\");\n  }\n\n  function load_libs(js_urls, callback) {\n    root._bokeh_onload_callbacks.push(callback);\n    if (root._bokeh_is_loading > 0) {\n      console.log(\"Bokeh: BokehJS is being loaded, scheduling callback at\", now());\n      return null;\n    }\n    if (js_urls == null || js_urls.length === 0) {\n      run_callbacks();\n      return null;\n    }\n    console.log(\"Bokeh: BokehJS not loaded, scheduling load and callback at\", now());\n    root._bokeh_is_loading = js_urls.length;\n    for (var i = 0; i < js_urls.length; i++) {\n      var url = js_urls[i];\n      var s = document.createElement('script');\n      s.src = url;\n      s.async = false;\n      s.onreadystatechange = s.onload = function() {\n        root._bokeh_is_loading--;\n        if (root._bokeh_is_loading === 0) {\n          console.log(\"Bokeh: all BokehJS libraries loaded\");\n          run_callbacks()\n        }\n      };\n      s.onerror = function() {\n        console.warn(\"failed to load library \" + url);\n      };\n      console.log(\"Bokeh: injecting script tag for BokehJS library: \", url);\n      document.getElementsByTagName(\"head\")[0].appendChild(s);\n    }\n  };var element = document.getElementById(\"9b686a76-f769-42f1-b8d4-7a326825bc70\");\n  if (element == null) {\n    console.log(\"Bokeh: ERROR: autoload.js configured with elementid '9b686a76-f769-42f1-b8d4-7a326825bc70' but no matching script tag was found. \")\n    return false;\n  }\n\n  var js_urls = [\"https://cdn.pydata.org/bokeh/release/bokeh-0.12.10.min.js\", \"https://cdn.pydata.org/bokeh/release/bokeh-widgets-0.12.10.min.js\", \"https://cdn.pydata.org/bokeh/release/bokeh-tables-0.12.10.min.js\", \"https://cdn.pydata.org/bokeh/release/bokeh-gl-0.12.10.min.js\"];\n\n  var inline_js = [\n    function(Bokeh) {\n      Bokeh.set_log_level(\"info\");\n    },\n    \n    function(Bokeh) {\n      \n    },\n    function(Bokeh) {\n      console.log(\"Bokeh: injecting CSS: https://cdn.pydata.org/bokeh/release/bokeh-0.12.10.min.css\");\n      Bokeh.embed.inject_css(\"https://cdn.pydata.org/bokeh/release/bokeh-0.12.10.min.css\");\n      console.log(\"Bokeh: injecting CSS: https://cdn.pydata.org/bokeh/release/bokeh-widgets-0.12.10.min.css\");\n      Bokeh.embed.inject_css(\"https://cdn.pydata.org/bokeh/release/bokeh-widgets-0.12.10.min.css\");\n      console.log(\"Bokeh: injecting CSS: https://cdn.pydata.org/bokeh/release/bokeh-tables-0.12.10.min.css\");\n      Bokeh.embed.inject_css(\"https://cdn.pydata.org/bokeh/release/bokeh-tables-0.12.10.min.css\");\n    }\n  ];\n\n  function run_inline_js() {\n    \n    if ((root.Bokeh !== undefined) || (force === true)) {\n      for (var i = 0; i < inline_js.length; i++) {\n        inline_js[i].call(root, root.Bokeh);\n      }if (force === true) {\n        display_loaded();\n      }} else if (Date.now() < root._bokeh_timeout) {\n      setTimeout(run_inline_js, 100);\n    } else if (!root._bokeh_failed_load) {\n      console.log(\"Bokeh: BokehJS failed to load within specified timeout.\");\n      root._bokeh_failed_load = true;\n    } else if (force !== true) {\n      var cell = $(document.getElementById(\"9b686a76-f769-42f1-b8d4-7a326825bc70\")).parents('.cell').data().cell;\n      cell.output_area.append_execute_result(NB_LOAD_WARNING)\n    }\n\n  }\n\n  if (root._bokeh_is_loading === 0) {\n    console.log(\"Bokeh: BokehJS loaded, going straight to plotting\");\n    run_inline_js();\n  } else {\n    load_libs(js_urls, function() {\n      console.log(\"Bokeh: BokehJS plotting callback run at\", now());\n      run_inline_js();\n    });\n  }\n}(window));"
     },
     "metadata": {},
     "output_type": "display_data"
    },
    {
     "data": {
      "text/html": [
       "\n",
       "<div class=\"bk-root\">\n",
       "    <div class=\"bk-plotdiv\" id=\"51be8ddc-4efb-4b45-984e-147fc067acc6\"></div>\n",
       "</div>"
      ]
     },
     "metadata": {},
     "output_type": "display_data"
    },
    {
     "data": {
      "application/javascript": [
       "(function(root) {\n",
       "  function embed_document(root) {\n",
       "    var docs_json = {\"c960620e-9ceb-436f-bbb6-c57abb925b02\":{\"roots\":{\"references\":[{\"attributes\":{\"callback\":null,\"column_names\":[\"text\"],\"data\":{\"text\":[\"helvetica\"]}},\"id\":\"a46519a5-e230-4f63-a180-1172f86ced20\",\"type\":\"ColumnDataSource\"},{\"attributes\":{\"bottom_units\":\"screen\",\"fill_alpha\":{\"value\":0.5},\"fill_color\":{\"value\":\"lightgrey\"},\"left_units\":\"screen\",\"level\":\"overlay\",\"line_alpha\":{\"value\":1.0},\"line_color\":{\"value\":\"black\"},\"line_dash\":[4,4],\"line_width\":{\"value\":2},\"plot\":null,\"render_mode\":\"css\",\"right_units\":\"screen\",\"top_units\":\"screen\"},\"id\":\"14d5a6e2-37f3-4755-be13-5566936a696b\",\"type\":\"BoxAnnotation\"},{\"attributes\":{\"text_color\":{\"value\":\"black\"},\"text_font\":\"times\",\"text_font_size\":{\"value\":\"25pt\"},\"x\":{\"value\":0},\"y\":{\"value\":1}},\"id\":\"c8d8b999-20eb-4738-8675-30719b227be8\",\"type\":\"Text\"},{\"attributes\":{\"text_alpha\":{\"value\":0.1},\"text_color\":{\"value\":\"black\"},\"text_font_size\":{\"value\":\"25pt\"},\"x\":{\"value\":0},\"y\":{\"value\":2}},\"id\":\"95195ae6-c453-4777-b22a-d58ee7bb35bf\",\"type\":\"Text\"},{\"attributes\":{\"formatter\":{\"id\":\"43bf41d3-5207-4e9b-ac4b-46733435ddfc\",\"type\":\"BasicTickFormatter\"},\"plot\":{\"id\":\"33ea2c16-086a-4882-a462-30bdfe73727c\",\"subtype\":\"Figure\",\"type\":\"Plot\"},\"ticker\":{\"id\":\"e27bde19-ddbd-41d5-8eee-8c557017fcce\",\"type\":\"BasicTicker\"}},\"id\":\"d072079c-3d6a-458a-912a-99059989f620\",\"type\":\"LinearAxis\"},{\"attributes\":{},\"id\":\"06b65c11-1f1d-4fd7-b7ff-ebd3f0b65470\",\"type\":\"BasicTickFormatter\"},{\"attributes\":{\"plot\":null,\"text\":\"\"},\"id\":\"778a34c6-3abe-4ca9-ac33-a96bf3344269\",\"type\":\"Title\"},{\"attributes\":{},\"id\":\"f7758938-8a0a-47e1-86e7-41407b0094d5\",\"type\":\"HelpTool\"},{\"attributes\":{\"text_color\":{\"value\":\"black\"},\"text_font_size\":{\"value\":\"25pt\"},\"x\":{\"value\":0},\"y\":{\"value\":2}},\"id\":\"fd0f86c6-ec36-4098-ac57-e700f011c450\",\"type\":\"Text\"},{\"attributes\":{},\"id\":\"43bf41d3-5207-4e9b-ac4b-46733435ddfc\",\"type\":\"BasicTickFormatter\"},{\"attributes\":{\"data_source\":{\"id\":\"a46519a5-e230-4f63-a180-1172f86ced20\",\"type\":\"ColumnDataSource\"},\"glyph\":{\"id\":\"fd0f86c6-ec36-4098-ac57-e700f011c450\",\"type\":\"Text\"},\"hover_glyph\":null,\"muted_glyph\":null,\"nonselection_glyph\":{\"id\":\"95195ae6-c453-4777-b22a-d58ee7bb35bf\",\"type\":\"Text\"},\"selection_glyph\":null,\"view\":{\"id\":\"46012e85-cf7a-48ed-96da-a5066313a63d\",\"type\":\"CDSView\"}},\"id\":\"30e78072-6c9e-4109-be37-c72c14469381\",\"type\":\"GlyphRenderer\"},{\"attributes\":{\"overlay\":{\"id\":\"14d5a6e2-37f3-4755-be13-5566936a696b\",\"type\":\"BoxAnnotation\"}},\"id\":\"739fbfde-b99e-4def-8d49-888bd64da310\",\"type\":\"BoxZoomTool\"},{\"attributes\":{},\"id\":\"c467ddba-0dc2-4096-b612-98c93e623115\",\"type\":\"WheelZoomTool\"},{\"attributes\":{},\"id\":\"e7852667-a9b3-4a6e-abc0-ffe8126177c3\",\"type\":\"SaveTool\"},{\"attributes\":{},\"id\":\"fd7186da-dbd8-4fca-aa08-1c1429ed0344\",\"type\":\"ResetTool\"},{\"attributes\":{},\"id\":\"f20d140d-8f9b-4767-9019-1e56093c9017\",\"type\":\"PanTool\"},{\"attributes\":{\"source\":{\"id\":\"a46519a5-e230-4f63-a180-1172f86ced20\",\"type\":\"ColumnDataSource\"}},\"id\":\"46012e85-cf7a-48ed-96da-a5066313a63d\",\"type\":\"CDSView\"},{\"attributes\":{\"data_source\":{\"id\":\"1f9fcfd9-bca7-4d27-94ed-2ff42d3b2641\",\"type\":\"ColumnDataSource\"},\"glyph\":{\"id\":\"c8d8b999-20eb-4738-8675-30719b227be8\",\"type\":\"Text\"},\"hover_glyph\":null,\"muted_glyph\":null,\"nonselection_glyph\":{\"id\":\"978e0504-9ec3-441b-b618-99cac71a0a25\",\"type\":\"Text\"},\"selection_glyph\":null,\"view\":{\"id\":\"2c769b91-7d1e-4505-941d-d995547d493d\",\"type\":\"CDSView\"}},\"id\":\"406099d0-8c89-486c-959a-4c4f148a9aea\",\"type\":\"GlyphRenderer\"},{\"attributes\":{},\"id\":\"4408145b-5d97-45a7-96d1-d6de18c516d2\",\"type\":\"LinearScale\"},{\"attributes\":{\"callback\":null,\"end\":2},\"id\":\"caccaaf4-6e6a-4dc1-8a2c-d677872b016b\",\"type\":\"Range1d\"},{\"attributes\":{\"callback\":null,\"column_names\":[\"text\"],\"data\":{\"text\":[\"times\"]}},\"id\":\"1f9fcfd9-bca7-4d27-94ed-2ff42d3b2641\",\"type\":\"ColumnDataSource\"},{\"attributes\":{},\"id\":\"e27bde19-ddbd-41d5-8eee-8c557017fcce\",\"type\":\"BasicTicker\"},{\"attributes\":{\"plot\":{\"id\":\"33ea2c16-086a-4882-a462-30bdfe73727c\",\"subtype\":\"Figure\",\"type\":\"Plot\"},\"ticker\":{\"id\":\"e27bde19-ddbd-41d5-8eee-8c557017fcce\",\"type\":\"BasicTicker\"}},\"id\":\"e5e1498f-079c-4bf9-99b5-f95d41afd456\",\"type\":\"Grid\"},{\"attributes\":{\"below\":[{\"id\":\"d072079c-3d6a-458a-912a-99059989f620\",\"type\":\"LinearAxis\"}],\"left\":[{\"id\":\"36727e49-0012-46ba-9262-391b6f59da9e\",\"type\":\"LinearAxis\"}],\"plot_height\":200,\"plot_width\":200,\"renderers\":[{\"id\":\"d072079c-3d6a-458a-912a-99059989f620\",\"type\":\"LinearAxis\"},{\"id\":\"e5e1498f-079c-4bf9-99b5-f95d41afd456\",\"type\":\"Grid\"},{\"id\":\"36727e49-0012-46ba-9262-391b6f59da9e\",\"type\":\"LinearAxis\"},{\"id\":\"b93ae1bf-18f0-4db8-8725-721bd726a2c0\",\"type\":\"Grid\"},{\"id\":\"14d5a6e2-37f3-4755-be13-5566936a696b\",\"type\":\"BoxAnnotation\"},{\"id\":\"406099d0-8c89-486c-959a-4c4f148a9aea\",\"type\":\"GlyphRenderer\"},{\"id\":\"30e78072-6c9e-4109-be37-c72c14469381\",\"type\":\"GlyphRenderer\"}],\"title\":{\"id\":\"778a34c6-3abe-4ca9-ac33-a96bf3344269\",\"type\":\"Title\"},\"toolbar\":{\"id\":\"d67b1f9d-cad5-4171-b1f9-72b3e32a5ae3\",\"type\":\"Toolbar\"},\"x_range\":{\"id\":\"caccaaf4-6e6a-4dc1-8a2c-d677872b016b\",\"type\":\"Range1d\"},\"x_scale\":{\"id\":\"d12612c0-6652-4049-af06-78293790d3d8\",\"type\":\"LinearScale\"},\"y_range\":{\"id\":\"cf63043b-429d-48d6-89eb-02379139a155\",\"type\":\"Range1d\"},\"y_scale\":{\"id\":\"4408145b-5d97-45a7-96d1-d6de18c516d2\",\"type\":\"LinearScale\"}},\"id\":\"33ea2c16-086a-4882-a462-30bdfe73727c\",\"subtype\":\"Figure\",\"type\":\"Plot\"},{\"attributes\":{\"formatter\":{\"id\":\"06b65c11-1f1d-4fd7-b7ff-ebd3f0b65470\",\"type\":\"BasicTickFormatter\"},\"plot\":{\"id\":\"33ea2c16-086a-4882-a462-30bdfe73727c\",\"subtype\":\"Figure\",\"type\":\"Plot\"},\"ticker\":{\"id\":\"7ee19401-1a1b-44cf-bc15-3ed9f97dce47\",\"type\":\"BasicTicker\"}},\"id\":\"36727e49-0012-46ba-9262-391b6f59da9e\",\"type\":\"LinearAxis\"},{\"attributes\":{\"dimension\":1,\"plot\":{\"id\":\"33ea2c16-086a-4882-a462-30bdfe73727c\",\"subtype\":\"Figure\",\"type\":\"Plot\"},\"ticker\":{\"id\":\"7ee19401-1a1b-44cf-bc15-3ed9f97dce47\",\"type\":\"BasicTicker\"}},\"id\":\"b93ae1bf-18f0-4db8-8725-721bd726a2c0\",\"type\":\"Grid\"},{\"attributes\":{\"callback\":null,\"end\":2.5,\"start\":0.5},\"id\":\"cf63043b-429d-48d6-89eb-02379139a155\",\"type\":\"Range1d\"},{\"attributes\":{},\"id\":\"7ee19401-1a1b-44cf-bc15-3ed9f97dce47\",\"type\":\"BasicTicker\"},{\"attributes\":{\"text_alpha\":{\"value\":0.1},\"text_color\":{\"value\":\"black\"},\"text_font\":\"times\",\"text_font_size\":{\"value\":\"25pt\"},\"x\":{\"value\":0},\"y\":{\"value\":1}},\"id\":\"978e0504-9ec3-441b-b618-99cac71a0a25\",\"type\":\"Text\"},{\"attributes\":{},\"id\":\"d12612c0-6652-4049-af06-78293790d3d8\",\"type\":\"LinearScale\"},{\"attributes\":{\"active_drag\":\"auto\",\"active_inspect\":\"auto\",\"active_scroll\":\"auto\",\"active_tap\":\"auto\",\"tools\":[{\"id\":\"f20d140d-8f9b-4767-9019-1e56093c9017\",\"type\":\"PanTool\"},{\"id\":\"c467ddba-0dc2-4096-b612-98c93e623115\",\"type\":\"WheelZoomTool\"},{\"id\":\"739fbfde-b99e-4def-8d49-888bd64da310\",\"type\":\"BoxZoomTool\"},{\"id\":\"e7852667-a9b3-4a6e-abc0-ffe8126177c3\",\"type\":\"SaveTool\"},{\"id\":\"fd7186da-dbd8-4fca-aa08-1c1429ed0344\",\"type\":\"ResetTool\"},{\"id\":\"f7758938-8a0a-47e1-86e7-41407b0094d5\",\"type\":\"HelpTool\"}]},\"id\":\"d67b1f9d-cad5-4171-b1f9-72b3e32a5ae3\",\"type\":\"Toolbar\"},{\"attributes\":{\"source\":{\"id\":\"1f9fcfd9-bca7-4d27-94ed-2ff42d3b2641\",\"type\":\"ColumnDataSource\"}},\"id\":\"2c769b91-7d1e-4505-941d-d995547d493d\",\"type\":\"CDSView\"}],\"root_ids\":[\"33ea2c16-086a-4882-a462-30bdfe73727c\"]},\"title\":\"Bokeh Application\",\"version\":\"0.12.10\"}};\n",
       "    var render_items = [{\"docid\":\"c960620e-9ceb-436f-bbb6-c57abb925b02\",\"elementid\":\"51be8ddc-4efb-4b45-984e-147fc067acc6\",\"modelid\":\"33ea2c16-086a-4882-a462-30bdfe73727c\"}];\n",
       "\n",
       "    root.Bokeh.embed.embed_items(docs_json, render_items);\n",
       "  }\n",
       "\n",
       "  if (root.Bokeh !== undefined) {\n",
       "    embed_document(root);\n",
       "  } else {\n",
       "    var attempts = 0;\n",
       "    var timer = setInterval(function(root) {\n",
       "      if (root.Bokeh !== undefined) {\n",
       "        embed_document(root);\n",
       "        clearInterval(timer);\n",
       "      }\n",
       "      attempts++;\n",
       "      if (attempts > 100) {\n",
       "        console.log(\"Bokeh: ERROR: Unable to embed document because BokehJS library is missing\")\n",
       "        clearInterval(timer);\n",
       "      }\n",
       "    }, 10, root)\n",
       "  }\n",
       "})(window);"
      ],
      "application/vnd.bokehjs_exec.v0+json": ""
     },
     "metadata": {
      "application/vnd.bokehjs_exec.v0+json": {
       "id": "33ea2c16-086a-4882-a462-30bdfe73727c"
      }
     },
     "output_type": "display_data"
    }
   ],
   "source": [
    "from bokeh.plotting import figure, output_notebook, show\n",
    "output_notebook()\n",
    "#フォントの設定\n",
    "p = figure(plot_width=200, plot_height=200, x_range=(0, 2), y_range=(0.5, 2.5))\n",
    "p.text(0, 1, text=['times'], text_font='times', text_font_size='25pt')\n",
    "p.text(0, 2, text=['helvetica'], text_font='helvetica', text_font_size='25pt')\n",
    "show(p)"
   ]
  },
  {
   "cell_type": "code",
   "execution_count": 5,
   "metadata": {},
   "outputs": [
    {
     "data": {
      "text/html": [
       "\n",
       "<div class=\"bk-root\">\n",
       "    <div class=\"bk-plotdiv\" id=\"3a5c1d56-0264-4b3c-a077-e6a0383e5d0e\"></div>\n",
       "</div>"
      ]
     },
     "metadata": {},
     "output_type": "display_data"
    },
    {
     "data": {
      "application/javascript": [
       "(function(root) {\n",
       "  function embed_document(root) {\n",
       "    var docs_json = {\"ec225de7-ac7a-4592-b969-9844708b02e2\":{\"roots\":{\"references\":[{\"attributes\":{},\"id\":\"b20f6e95-eb2b-44b0-9ce3-cabce013fff2\",\"type\":\"WheelZoomTool\"},{\"attributes\":{\"active_drag\":\"auto\",\"active_inspect\":\"auto\",\"active_scroll\":\"auto\",\"active_tap\":\"auto\",\"tools\":[{\"id\":\"6c42ba17-9add-4cf6-8123-2e731a4aad10\",\"type\":\"PanTool\"},{\"id\":\"b20f6e95-eb2b-44b0-9ce3-cabce013fff2\",\"type\":\"WheelZoomTool\"},{\"id\":\"5f1b80d9-2435-4c15-abba-19f960f0bd5b\",\"type\":\"BoxZoomTool\"},{\"id\":\"d7ee715e-c04d-4123-b4a2-3b7eed3677b7\",\"type\":\"SaveTool\"},{\"id\":\"99cdf163-1536-43cd-848b-19dc97938a6c\",\"type\":\"ResetTool\"},{\"id\":\"e46b3755-d42d-466d-b6f6-1166b9d95041\",\"type\":\"HelpTool\"}]},\"id\":\"1c6d1511-fc6c-4826-9480-d1f0a79e3299\",\"type\":\"Toolbar\"},{\"attributes\":{\"text_color\":{\"value\":\"black\"},\"x\":{\"value\":0},\"y\":{\"value\":1}},\"id\":\"9c10b73b-3b59-495c-ade7-097682ca80fb\",\"type\":\"Text\"},{\"attributes\":{\"callback\":null},\"id\":\"1ec3a34d-e010-49a0-99b9-ef1609f51bc4\",\"type\":\"DataRange1d\"},{\"attributes\":{},\"id\":\"6c42ba17-9add-4cf6-8123-2e731a4aad10\",\"type\":\"PanTool\"},{\"attributes\":{\"plot\":{\"id\":\"11ea5d36-21e4-4151-b602-368a3efd52cc\",\"subtype\":\"Figure\",\"type\":\"Plot\"},\"ticker\":{\"id\":\"168dec1d-95a2-44cb-a5f8-4b32092e9a49\",\"type\":\"BasicTicker\"}},\"id\":\"6602d25d-59da-4c16-984e-a289ee68aa69\",\"type\":\"Grid\"},{\"attributes\":{},\"id\":\"b721ba11-327b-4272-a2c4-9c46467d75d4\",\"type\":\"BasicTicker\"},{\"attributes\":{},\"id\":\"e46b3755-d42d-466d-b6f6-1166b9d95041\",\"type\":\"HelpTool\"},{\"attributes\":{\"bottom_units\":\"screen\",\"fill_alpha\":{\"value\":0.5},\"fill_color\":{\"value\":\"lightgrey\"},\"left_units\":\"screen\",\"level\":\"overlay\",\"line_alpha\":{\"value\":1.0},\"line_color\":{\"value\":\"black\"},\"line_dash\":[4,4],\"line_width\":{\"value\":2},\"plot\":null,\"render_mode\":\"css\",\"right_units\":\"screen\",\"top_units\":\"screen\"},\"id\":\"8487967f-8a2d-4844-aa35-a5d35201b8b5\",\"type\":\"BoxAnnotation\"},{\"attributes\":{},\"id\":\"60a74fc4-b9ab-41f7-bdcf-4686424eee44\",\"type\":\"LinearScale\"},{\"attributes\":{\"text_alpha\":{\"value\":0.1},\"text_color\":{\"value\":\"black\"},\"x\":{\"value\":0},\"y\":{\"value\":1}},\"id\":\"d409b37b-b079-460d-b28a-ab493732a1f9\",\"type\":\"Text\"},{\"attributes\":{},\"id\":\"432a4104-bb81-40fe-bac9-daebbc4e9d8c\",\"type\":\"LinearScale\"},{\"attributes\":{},\"id\":\"d7ee715e-c04d-4123-b4a2-3b7eed3677b7\",\"type\":\"SaveTool\"},{\"attributes\":{\"source\":{\"id\":\"2091ffff-d11a-417f-a868-cb926dadfafb\",\"type\":\"ColumnDataSource\"}},\"id\":\"f746d4e5-8df9-495d-a1cb-6e12d0514f00\",\"type\":\"CDSView\"},{\"attributes\":{\"data_source\":{\"id\":\"ebb14834-7004-4e15-b270-e15518a1bdf1\",\"type\":\"ColumnDataSource\"},\"glyph\":{\"id\":\"9c10b73b-3b59-495c-ade7-097682ca80fb\",\"type\":\"Text\"},\"hover_glyph\":null,\"muted_glyph\":null,\"nonselection_glyph\":{\"id\":\"d409b37b-b079-460d-b28a-ab493732a1f9\",\"type\":\"Text\"},\"selection_glyph\":null,\"view\":{\"id\":\"d4975a18-bfe9-4193-9108-90fe820dcffa\",\"type\":\"CDSView\"}},\"id\":\"397849ba-f72c-4898-acc2-91182584a73d\",\"type\":\"GlyphRenderer\"},{\"attributes\":{\"source\":{\"id\":\"ebb14834-7004-4e15-b270-e15518a1bdf1\",\"type\":\"ColumnDataSource\"}},\"id\":\"d4975a18-bfe9-4193-9108-90fe820dcffa\",\"type\":\"CDSView\"},{\"attributes\":{\"overlay\":{\"id\":\"8487967f-8a2d-4844-aa35-a5d35201b8b5\",\"type\":\"BoxAnnotation\"}},\"id\":\"5f1b80d9-2435-4c15-abba-19f960f0bd5b\",\"type\":\"BoxZoomTool\"},{\"attributes\":{},\"id\":\"168dec1d-95a2-44cb-a5f8-4b32092e9a49\",\"type\":\"BasicTicker\"},{\"attributes\":{\"formatter\":{\"id\":\"eb486943-fb1a-4e8b-bb17-df2d58d66786\",\"type\":\"BasicTickFormatter\"},\"plot\":{\"id\":\"11ea5d36-21e4-4151-b602-368a3efd52cc\",\"subtype\":\"Figure\",\"type\":\"Plot\"},\"ticker\":{\"id\":\"168dec1d-95a2-44cb-a5f8-4b32092e9a49\",\"type\":\"BasicTicker\"}},\"id\":\"92953cf7-20a2-4646-b85e-d6c75d0f340a\",\"type\":\"LinearAxis\"},{\"attributes\":{\"formatter\":{\"id\":\"06f2746b-56aa-4895-bcc3-4def0ae48c9a\",\"type\":\"BasicTickFormatter\"},\"plot\":{\"id\":\"11ea5d36-21e4-4151-b602-368a3efd52cc\",\"subtype\":\"Figure\",\"type\":\"Plot\"},\"ticker\":{\"id\":\"b721ba11-327b-4272-a2c4-9c46467d75d4\",\"type\":\"BasicTicker\"}},\"id\":\"64ebed15-0da6-4473-b376-9abe2aeaf248\",\"type\":\"LinearAxis\"},{\"attributes\":{},\"id\":\"eb486943-fb1a-4e8b-bb17-df2d58d66786\",\"type\":\"BasicTickFormatter\"},{\"attributes\":{\"callback\":null,\"column_names\":[\"text\"],\"data\":{\"text\":[\"1.5em\"]}},\"id\":\"2091ffff-d11a-417f-a868-cb926dadfafb\",\"type\":\"ColumnDataSource\"},{\"attributes\":{\"text_color\":{\"value\":\"black\"},\"text_font_size\":{\"value\":\"1.5em\"},\"x\":{\"value\":0},\"y\":{\"value\":2}},\"id\":\"b51013ad-4875-4745-a58f-711820270231\",\"type\":\"Text\"},{\"attributes\":{\"text_alpha\":{\"value\":0.1},\"text_color\":{\"value\":\"black\"},\"text_font_size\":{\"value\":\"1.5em\"},\"x\":{\"value\":0},\"y\":{\"value\":2}},\"id\":\"8e9b3340-a976-4652-8c9f-c45e0efc74e3\",\"type\":\"Text\"},{\"attributes\":{\"callback\":null,\"end\":2.5,\"start\":0.5},\"id\":\"a954bfd3-3fd6-4387-88fe-814da399b9fa\",\"type\":\"Range1d\"},{\"attributes\":{\"callback\":null,\"column_names\":[\"text\"],\"data\":{\"text\":[\"12pt\"]}},\"id\":\"ebb14834-7004-4e15-b270-e15518a1bdf1\",\"type\":\"ColumnDataSource\"},{\"attributes\":{\"below\":[{\"id\":\"92953cf7-20a2-4646-b85e-d6c75d0f340a\",\"type\":\"LinearAxis\"}],\"left\":[{\"id\":\"64ebed15-0da6-4473-b376-9abe2aeaf248\",\"type\":\"LinearAxis\"}],\"plot_height\":200,\"plot_width\":200,\"renderers\":[{\"id\":\"92953cf7-20a2-4646-b85e-d6c75d0f340a\",\"type\":\"LinearAxis\"},{\"id\":\"6602d25d-59da-4c16-984e-a289ee68aa69\",\"type\":\"Grid\"},{\"id\":\"64ebed15-0da6-4473-b376-9abe2aeaf248\",\"type\":\"LinearAxis\"},{\"id\":\"ade113c1-9fc6-40f6-888f-d3adc07456d4\",\"type\":\"Grid\"},{\"id\":\"8487967f-8a2d-4844-aa35-a5d35201b8b5\",\"type\":\"BoxAnnotation\"},{\"id\":\"397849ba-f72c-4898-acc2-91182584a73d\",\"type\":\"GlyphRenderer\"},{\"id\":\"f0086fde-8ce6-4a04-8951-b0bfc1df5711\",\"type\":\"GlyphRenderer\"}],\"title\":{\"id\":\"f17cb3d2-3200-4db7-893b-57bc12b32f4d\",\"type\":\"Title\"},\"toolbar\":{\"id\":\"1c6d1511-fc6c-4826-9480-d1f0a79e3299\",\"type\":\"Toolbar\"},\"x_range\":{\"id\":\"1ec3a34d-e010-49a0-99b9-ef1609f51bc4\",\"type\":\"DataRange1d\"},\"x_scale\":{\"id\":\"60a74fc4-b9ab-41f7-bdcf-4686424eee44\",\"type\":\"LinearScale\"},\"y_range\":{\"id\":\"a954bfd3-3fd6-4387-88fe-814da399b9fa\",\"type\":\"Range1d\"},\"y_scale\":{\"id\":\"432a4104-bb81-40fe-bac9-daebbc4e9d8c\",\"type\":\"LinearScale\"}},\"id\":\"11ea5d36-21e4-4151-b602-368a3efd52cc\",\"subtype\":\"Figure\",\"type\":\"Plot\"},{\"attributes\":{\"dimension\":1,\"plot\":{\"id\":\"11ea5d36-21e4-4151-b602-368a3efd52cc\",\"subtype\":\"Figure\",\"type\":\"Plot\"},\"ticker\":{\"id\":\"b721ba11-327b-4272-a2c4-9c46467d75d4\",\"type\":\"BasicTicker\"}},\"id\":\"ade113c1-9fc6-40f6-888f-d3adc07456d4\",\"type\":\"Grid\"},{\"attributes\":{},\"id\":\"06f2746b-56aa-4895-bcc3-4def0ae48c9a\",\"type\":\"BasicTickFormatter\"},{\"attributes\":{},\"id\":\"99cdf163-1536-43cd-848b-19dc97938a6c\",\"type\":\"ResetTool\"},{\"attributes\":{\"plot\":null,\"text\":\"\"},\"id\":\"f17cb3d2-3200-4db7-893b-57bc12b32f4d\",\"type\":\"Title\"},{\"attributes\":{\"data_source\":{\"id\":\"2091ffff-d11a-417f-a868-cb926dadfafb\",\"type\":\"ColumnDataSource\"},\"glyph\":{\"id\":\"b51013ad-4875-4745-a58f-711820270231\",\"type\":\"Text\"},\"hover_glyph\":null,\"muted_glyph\":null,\"nonselection_glyph\":{\"id\":\"8e9b3340-a976-4652-8c9f-c45e0efc74e3\",\"type\":\"Text\"},\"selection_glyph\":null,\"view\":{\"id\":\"f746d4e5-8df9-495d-a1cb-6e12d0514f00\",\"type\":\"CDSView\"}},\"id\":\"f0086fde-8ce6-4a04-8951-b0bfc1df5711\",\"type\":\"GlyphRenderer\"}],\"root_ids\":[\"11ea5d36-21e4-4151-b602-368a3efd52cc\"]},\"title\":\"Bokeh Application\",\"version\":\"0.12.10\"}};\n",
       "    var render_items = [{\"docid\":\"ec225de7-ac7a-4592-b969-9844708b02e2\",\"elementid\":\"3a5c1d56-0264-4b3c-a077-e6a0383e5d0e\",\"modelid\":\"11ea5d36-21e4-4151-b602-368a3efd52cc\"}];\n",
       "\n",
       "    root.Bokeh.embed.embed_items(docs_json, render_items);\n",
       "  }\n",
       "\n",
       "  if (root.Bokeh !== undefined) {\n",
       "    embed_document(root);\n",
       "  } else {\n",
       "    var attempts = 0;\n",
       "    var timer = setInterval(function(root) {\n",
       "      if (root.Bokeh !== undefined) {\n",
       "        embed_document(root);\n",
       "        clearInterval(timer);\n",
       "      }\n",
       "      attempts++;\n",
       "      if (attempts > 100) {\n",
       "        console.log(\"Bokeh: ERROR: Unable to embed document because BokehJS library is missing\")\n",
       "        clearInterval(timer);\n",
       "      }\n",
       "    }, 10, root)\n",
       "  }\n",
       "})(window);"
      ],
      "application/vnd.bokehjs_exec.v0+json": ""
     },
     "metadata": {
      "application/vnd.bokehjs_exec.v0+json": {
       "id": "11ea5d36-21e4-4151-b602-368a3efd52cc"
      }
     },
     "output_type": "display_data"
    }
   ],
   "source": [
    "# フォントサイズの設定\n",
    "p = figure(plot_width=200, plot_height=200, y_range=(0.5, 2.5))\n",
    "p.text(0, 1, text=['12pt'], text_font_size='12pt')\n",
    "p.text(0, 2, text=['1.5em'], text_font_size='1.5em')\n",
    "show(p)"
   ]
  },
  {
   "cell_type": "code",
   "execution_count": 6,
   "metadata": {},
   "outputs": [
    {
     "data": {
      "text/html": [
       "\n",
       "<div class=\"bk-root\">\n",
       "    <div class=\"bk-plotdiv\" id=\"b65f8503-fc3f-4ef4-8627-a2654015330f\"></div>\n",
       "</div>"
      ]
     },
     "metadata": {},
     "output_type": "display_data"
    },
    {
     "data": {
      "application/javascript": [
       "(function(root) {\n",
       "  function embed_document(root) {\n",
       "    var docs_json = {\"cd75f2d9-b114-4dc9-9485-f087146c97e5\":{\"roots\":{\"references\":[{\"attributes\":{\"callback\":null,\"column_names\":[\"text\"],\"data\":{\"text\":[\"bold\"]}},\"id\":\"32448060-1b0d-4012-ae1a-6271d96b0c28\",\"type\":\"ColumnDataSource\"},{\"attributes\":{\"callback\":null,\"column_names\":[\"text\"],\"data\":{\"text\":[\"italic\"]}},\"id\":\"ef8d6c9a-6d41-480b-a1d8-59c532ec7d63\",\"type\":\"ColumnDataSource\"},{\"attributes\":{\"text_color\":{\"value\":\"black\"},\"text_font_style\":\"bold\",\"x\":{\"value\":0},\"y\":{\"value\":2}},\"id\":\"a43e153b-9705-4128-8c56-c6c5f3558d42\",\"type\":\"Text\"},{\"attributes\":{\"below\":[{\"id\":\"e973ad22-12a6-42fd-9d96-ee04c5beeb99\",\"type\":\"LinearAxis\"}],\"left\":[{\"id\":\"e0eca8de-d701-462b-8fb2-08d31d5448f3\",\"type\":\"LinearAxis\"}],\"plot_height\":200,\"plot_width\":200,\"renderers\":[{\"id\":\"e973ad22-12a6-42fd-9d96-ee04c5beeb99\",\"type\":\"LinearAxis\"},{\"id\":\"26dae475-2b08-4d93-b559-6d1e9a40503c\",\"type\":\"Grid\"},{\"id\":\"e0eca8de-d701-462b-8fb2-08d31d5448f3\",\"type\":\"LinearAxis\"},{\"id\":\"6df8d663-196b-4d8b-8a54-429231a75a51\",\"type\":\"Grid\"},{\"id\":\"d14661a6-72f3-4df4-871e-c68f44b1b9b2\",\"type\":\"BoxAnnotation\"},{\"id\":\"e80c5882-f785-4b51-948f-9a24327587d4\",\"type\":\"GlyphRenderer\"},{\"id\":\"9273cdf4-0ac5-48cc-b138-aa657393bf69\",\"type\":\"GlyphRenderer\"}],\"title\":{\"id\":\"c6e2020d-9354-4ea0-b4c8-0465a15e1924\",\"type\":\"Title\"},\"toolbar\":{\"id\":\"5b2433a1-50d2-480d-b352-058b8d99ac92\",\"type\":\"Toolbar\"},\"x_range\":{\"id\":\"9c97662f-c4d8-4a88-8d1c-28f826b970b2\",\"type\":\"DataRange1d\"},\"x_scale\":{\"id\":\"ea9d8b76-9e59-4665-9023-fb794fb62d6c\",\"type\":\"LinearScale\"},\"y_range\":{\"id\":\"5c494cea-dc43-4edc-8077-662c24675f77\",\"type\":\"Range1d\"},\"y_scale\":{\"id\":\"60b6a968-7264-4cb1-a734-6f2d433cd6c9\",\"type\":\"LinearScale\"}},\"id\":\"8bb26db9-7b56-4dcf-b04f-f114f55674e8\",\"subtype\":\"Figure\",\"type\":\"Plot\"},{\"attributes\":{\"source\":{\"id\":\"32448060-1b0d-4012-ae1a-6271d96b0c28\",\"type\":\"ColumnDataSource\"}},\"id\":\"89c9df19-f8cf-4c3b-af8e-05e7f71d33f1\",\"type\":\"CDSView\"},{\"attributes\":{},\"id\":\"0e7590c7-6eca-4c52-b2ad-216f125e969c\",\"type\":\"SaveTool\"},{\"attributes\":{},\"id\":\"891ef04d-9242-468d-8a4f-75eec1016e01\",\"type\":\"BasicTicker\"},{\"attributes\":{\"bottom_units\":\"screen\",\"fill_alpha\":{\"value\":0.5},\"fill_color\":{\"value\":\"lightgrey\"},\"left_units\":\"screen\",\"level\":\"overlay\",\"line_alpha\":{\"value\":1.0},\"line_color\":{\"value\":\"black\"},\"line_dash\":[4,4],\"line_width\":{\"value\":2},\"plot\":null,\"render_mode\":\"css\",\"right_units\":\"screen\",\"top_units\":\"screen\"},\"id\":\"d14661a6-72f3-4df4-871e-c68f44b1b9b2\",\"type\":\"BoxAnnotation\"},{\"attributes\":{},\"id\":\"ea9d8b76-9e59-4665-9023-fb794fb62d6c\",\"type\":\"LinearScale\"},{\"attributes\":{\"overlay\":{\"id\":\"d14661a6-72f3-4df4-871e-c68f44b1b9b2\",\"type\":\"BoxAnnotation\"}},\"id\":\"30ce1e00-63aa-4cdc-9d71-f17d329058e1\",\"type\":\"BoxZoomTool\"},{\"attributes\":{},\"id\":\"f1252820-cc36-48a5-99a1-64cd8d4cba6c\",\"type\":\"BasicTickFormatter\"},{\"attributes\":{\"data_source\":{\"id\":\"ef8d6c9a-6d41-480b-a1d8-59c532ec7d63\",\"type\":\"ColumnDataSource\"},\"glyph\":{\"id\":\"e2d02a04-a2da-47fd-9185-1b76aa5b5056\",\"type\":\"Text\"},\"hover_glyph\":null,\"muted_glyph\":null,\"nonselection_glyph\":{\"id\":\"de1b5c76-8a50-4c88-a8ac-78a0ebc946e6\",\"type\":\"Text\"},\"selection_glyph\":null,\"view\":{\"id\":\"e21f5dbb-1a5a-437b-a9ea-7c7c8ba71a56\",\"type\":\"CDSView\"}},\"id\":\"e80c5882-f785-4b51-948f-9a24327587d4\",\"type\":\"GlyphRenderer\"},{\"attributes\":{\"text_alpha\":{\"value\":0.1},\"text_color\":{\"value\":\"black\"},\"text_font_style\":\"bold\",\"x\":{\"value\":0},\"y\":{\"value\":2}},\"id\":\"4caea9e1-ccce-45ab-b278-b519b80b0cf7\",\"type\":\"Text\"},{\"attributes\":{\"data_source\":{\"id\":\"32448060-1b0d-4012-ae1a-6271d96b0c28\",\"type\":\"ColumnDataSource\"},\"glyph\":{\"id\":\"a43e153b-9705-4128-8c56-c6c5f3558d42\",\"type\":\"Text\"},\"hover_glyph\":null,\"muted_glyph\":null,\"nonselection_glyph\":{\"id\":\"4caea9e1-ccce-45ab-b278-b519b80b0cf7\",\"type\":\"Text\"},\"selection_glyph\":null,\"view\":{\"id\":\"89c9df19-f8cf-4c3b-af8e-05e7f71d33f1\",\"type\":\"CDSView\"}},\"id\":\"9273cdf4-0ac5-48cc-b138-aa657393bf69\",\"type\":\"GlyphRenderer\"},{\"attributes\":{\"callback\":null,\"end\":2.5,\"start\":0.5},\"id\":\"5c494cea-dc43-4edc-8077-662c24675f77\",\"type\":\"Range1d\"},{\"attributes\":{\"text_alpha\":{\"value\":0.1},\"text_color\":{\"value\":\"black\"},\"text_font_style\":\"italic\",\"x\":{\"value\":0},\"y\":{\"value\":1}},\"id\":\"de1b5c76-8a50-4c88-a8ac-78a0ebc946e6\",\"type\":\"Text\"},{\"attributes\":{},\"id\":\"6a56b682-f98c-4cd9-b645-35354c0f3f65\",\"type\":\"WheelZoomTool\"},{\"attributes\":{\"dimension\":1,\"plot\":{\"id\":\"8bb26db9-7b56-4dcf-b04f-f114f55674e8\",\"subtype\":\"Figure\",\"type\":\"Plot\"},\"ticker\":{\"id\":\"f7d8e035-210f-4549-9407-185210537f59\",\"type\":\"BasicTicker\"}},\"id\":\"6df8d663-196b-4d8b-8a54-429231a75a51\",\"type\":\"Grid\"},{\"attributes\":{},\"id\":\"8afbfe93-3055-40a1-a990-80e306770fdb\",\"type\":\"BasicTickFormatter\"},{\"attributes\":{},\"id\":\"f7d8e035-210f-4549-9407-185210537f59\",\"type\":\"BasicTicker\"},{\"attributes\":{},\"id\":\"15e27fdc-8195-4760-a1d0-5c3e80215b03\",\"type\":\"HelpTool\"},{\"attributes\":{},\"id\":\"23975e54-4fa4-4598-9be7-af02fcfe194b\",\"type\":\"ResetTool\"},{\"attributes\":{\"plot\":{\"id\":\"8bb26db9-7b56-4dcf-b04f-f114f55674e8\",\"subtype\":\"Figure\",\"type\":\"Plot\"},\"ticker\":{\"id\":\"891ef04d-9242-468d-8a4f-75eec1016e01\",\"type\":\"BasicTicker\"}},\"id\":\"26dae475-2b08-4d93-b559-6d1e9a40503c\",\"type\":\"Grid\"},{\"attributes\":{\"source\":{\"id\":\"ef8d6c9a-6d41-480b-a1d8-59c532ec7d63\",\"type\":\"ColumnDataSource\"}},\"id\":\"e21f5dbb-1a5a-437b-a9ea-7c7c8ba71a56\",\"type\":\"CDSView\"},{\"attributes\":{},\"id\":\"60b6a968-7264-4cb1-a734-6f2d433cd6c9\",\"type\":\"LinearScale\"},{\"attributes\":{\"callback\":null},\"id\":\"9c97662f-c4d8-4a88-8d1c-28f826b970b2\",\"type\":\"DataRange1d\"},{\"attributes\":{\"plot\":null,\"text\":\"\"},\"id\":\"c6e2020d-9354-4ea0-b4c8-0465a15e1924\",\"type\":\"Title\"},{\"attributes\":{\"formatter\":{\"id\":\"f1252820-cc36-48a5-99a1-64cd8d4cba6c\",\"type\":\"BasicTickFormatter\"},\"plot\":{\"id\":\"8bb26db9-7b56-4dcf-b04f-f114f55674e8\",\"subtype\":\"Figure\",\"type\":\"Plot\"},\"ticker\":{\"id\":\"f7d8e035-210f-4549-9407-185210537f59\",\"type\":\"BasicTicker\"}},\"id\":\"e0eca8de-d701-462b-8fb2-08d31d5448f3\",\"type\":\"LinearAxis\"},{\"attributes\":{\"text_color\":{\"value\":\"black\"},\"text_font_style\":\"italic\",\"x\":{\"value\":0},\"y\":{\"value\":1}},\"id\":\"e2d02a04-a2da-47fd-9185-1b76aa5b5056\",\"type\":\"Text\"},{\"attributes\":{\"active_drag\":\"auto\",\"active_inspect\":\"auto\",\"active_scroll\":\"auto\",\"active_tap\":\"auto\",\"tools\":[{\"id\":\"053c140b-d325-4c1d-8792-169581118c3d\",\"type\":\"PanTool\"},{\"id\":\"6a56b682-f98c-4cd9-b645-35354c0f3f65\",\"type\":\"WheelZoomTool\"},{\"id\":\"30ce1e00-63aa-4cdc-9d71-f17d329058e1\",\"type\":\"BoxZoomTool\"},{\"id\":\"0e7590c7-6eca-4c52-b2ad-216f125e969c\",\"type\":\"SaveTool\"},{\"id\":\"23975e54-4fa4-4598-9be7-af02fcfe194b\",\"type\":\"ResetTool\"},{\"id\":\"15e27fdc-8195-4760-a1d0-5c3e80215b03\",\"type\":\"HelpTool\"}]},\"id\":\"5b2433a1-50d2-480d-b352-058b8d99ac92\",\"type\":\"Toolbar\"},{\"attributes\":{\"formatter\":{\"id\":\"8afbfe93-3055-40a1-a990-80e306770fdb\",\"type\":\"BasicTickFormatter\"},\"plot\":{\"id\":\"8bb26db9-7b56-4dcf-b04f-f114f55674e8\",\"subtype\":\"Figure\",\"type\":\"Plot\"},\"ticker\":{\"id\":\"891ef04d-9242-468d-8a4f-75eec1016e01\",\"type\":\"BasicTicker\"}},\"id\":\"e973ad22-12a6-42fd-9d96-ee04c5beeb99\",\"type\":\"LinearAxis\"},{\"attributes\":{},\"id\":\"053c140b-d325-4c1d-8792-169581118c3d\",\"type\":\"PanTool\"}],\"root_ids\":[\"8bb26db9-7b56-4dcf-b04f-f114f55674e8\"]},\"title\":\"Bokeh Application\",\"version\":\"0.12.10\"}};\n",
       "    var render_items = [{\"docid\":\"cd75f2d9-b114-4dc9-9485-f087146c97e5\",\"elementid\":\"b65f8503-fc3f-4ef4-8627-a2654015330f\",\"modelid\":\"8bb26db9-7b56-4dcf-b04f-f114f55674e8\"}];\n",
       "\n",
       "    root.Bokeh.embed.embed_items(docs_json, render_items);\n",
       "  }\n",
       "\n",
       "  if (root.Bokeh !== undefined) {\n",
       "    embed_document(root);\n",
       "  } else {\n",
       "    var attempts = 0;\n",
       "    var timer = setInterval(function(root) {\n",
       "      if (root.Bokeh !== undefined) {\n",
       "        embed_document(root);\n",
       "        clearInterval(timer);\n",
       "      }\n",
       "      attempts++;\n",
       "      if (attempts > 100) {\n",
       "        console.log(\"Bokeh: ERROR: Unable to embed document because BokehJS library is missing\")\n",
       "        clearInterval(timer);\n",
       "      }\n",
       "    }, 10, root)\n",
       "  }\n",
       "})(window);"
      ],
      "application/vnd.bokehjs_exec.v0+json": ""
     },
     "metadata": {
      "application/vnd.bokehjs_exec.v0+json": {
       "id": "8bb26db9-7b56-4dcf-b04f-f114f55674e8"
      }
     },
     "output_type": "display_data"
    }
   ],
   "source": [
    "# フォントスタイルの設定\n",
    "p = figure(plot_width=200, plot_height=200, y_range=(0.5, 2.5))\n",
    "p.text(0, 1, text=['italic'], text_font_style='italic')\n",
    "p.text(0, 2, text=['bold'], text_font_style='bold')\n",
    "show(p)"
   ]
  },
  {
   "cell_type": "code",
   "execution_count": 7,
   "metadata": {},
   "outputs": [
    {
     "data": {
      "text/html": [
       "\n",
       "<div class=\"bk-root\">\n",
       "    <div class=\"bk-plotdiv\" id=\"a870fad2-8be6-420b-92a0-0d721bef6fb5\"></div>\n",
       "</div>"
      ]
     },
     "metadata": {},
     "output_type": "display_data"
    },
    {
     "data": {
      "application/javascript": [
       "(function(root) {\n",
       "  function embed_document(root) {\n",
       "    var docs_json = {\"35783f5b-a5be-4d60-a6e3-eaec0a950993\":{\"roots\":{\"references\":[{\"attributes\":{\"callback\":null,\"column_names\":[\"text\"],\"data\":{\"text\":[\"red\"]}},\"id\":\"2701cc4b-c793-4451-8189-7e98189c3189\",\"type\":\"ColumnDataSource\"},{\"attributes\":{\"text_color\":{\"value\":\"red\"},\"x\":{\"value\":0},\"y\":{\"value\":2}},\"id\":\"df7249c8-0467-47a6-997c-4b11aacde284\",\"type\":\"Text\"},{\"attributes\":{},\"id\":\"30a60fdd-c331-4ca7-9948-dbb7c45b0e90\",\"type\":\"LinearScale\"},{\"attributes\":{\"formatter\":{\"id\":\"88d37d47-cac1-499b-bb06-35ea60272ddb\",\"type\":\"BasicTickFormatter\"},\"plot\":{\"id\":\"0b58e77d-9c52-436e-9d99-7e456e61a664\",\"subtype\":\"Figure\",\"type\":\"Plot\"},\"ticker\":{\"id\":\"3ce85521-c3bc-497c-88de-ca1df8b1ae69\",\"type\":\"BasicTicker\"}},\"id\":\"26a2c067-f4db-4f5f-a439-ee0eda218f6d\",\"type\":\"LinearAxis\"},{\"attributes\":{},\"id\":\"2e222ca7-9d52-49bc-892d-d64996fafb29\",\"type\":\"PanTool\"},{\"attributes\":{\"plot\":{\"id\":\"0b58e77d-9c52-436e-9d99-7e456e61a664\",\"subtype\":\"Figure\",\"type\":\"Plot\"},\"ticker\":{\"id\":\"3ce85521-c3bc-497c-88de-ca1df8b1ae69\",\"type\":\"BasicTicker\"}},\"id\":\"07416677-0165-4e83-940a-825ffe1d62ef\",\"type\":\"Grid\"},{\"attributes\":{\"callback\":null,\"end\":2.7,\"start\":-1},\"id\":\"da122be7-d050-4a32-bce8-cfef413f423f\",\"type\":\"Range1d\"},{\"attributes\":{\"active_drag\":\"auto\",\"active_inspect\":\"auto\",\"active_scroll\":\"auto\",\"active_tap\":\"auto\",\"tools\":[{\"id\":\"2e222ca7-9d52-49bc-892d-d64996fafb29\",\"type\":\"PanTool\"},{\"id\":\"ae2c09d3-9f50-4eed-b5bc-0c4b542a0752\",\"type\":\"WheelZoomTool\"},{\"id\":\"ed7da23f-7db5-43c3-b5a9-26527ee17726\",\"type\":\"BoxZoomTool\"},{\"id\":\"43b02e1a-df4b-4977-adb2-2dce54c419d3\",\"type\":\"SaveTool\"},{\"id\":\"7ef6b7ee-9efe-4fba-9c40-7972fc7ad730\",\"type\":\"ResetTool\"},{\"id\":\"9c31c944-a05e-447e-ab28-01b40fc72780\",\"type\":\"HelpTool\"}]},\"id\":\"ea7085d3-3262-4c95-abb0-adec3142e212\",\"type\":\"Toolbar\"},{\"attributes\":{},\"id\":\"88d37d47-cac1-499b-bb06-35ea60272ddb\",\"type\":\"BasicTickFormatter\"},{\"attributes\":{},\"id\":\"3ce85521-c3bc-497c-88de-ca1df8b1ae69\",\"type\":\"BasicTicker\"},{\"attributes\":{\"dimension\":1,\"plot\":{\"id\":\"0b58e77d-9c52-436e-9d99-7e456e61a664\",\"subtype\":\"Figure\",\"type\":\"Plot\"},\"ticker\":{\"id\":\"53b7a063-c62e-4872-8bf2-d47209976a95\",\"type\":\"BasicTicker\"}},\"id\":\"14bf99a2-b5f8-46ee-9d7d-68951cd6c0cf\",\"type\":\"Grid\"},{\"attributes\":{},\"id\":\"ae2c09d3-9f50-4eed-b5bc-0c4b542a0752\",\"type\":\"WheelZoomTool\"},{\"attributes\":{\"overlay\":{\"id\":\"95668f77-6686-4cdb-a4f6-a4a20d61bce0\",\"type\":\"BoxAnnotation\"}},\"id\":\"ed7da23f-7db5-43c3-b5a9-26527ee17726\",\"type\":\"BoxZoomTool\"},{\"attributes\":{\"below\":[{\"id\":\"26a2c067-f4db-4f5f-a439-ee0eda218f6d\",\"type\":\"LinearAxis\"}],\"left\":[{\"id\":\"0c4161b8-6f40-402a-80bb-b31ae39ee318\",\"type\":\"LinearAxis\"}],\"plot_height\":200,\"plot_width\":200,\"renderers\":[{\"id\":\"26a2c067-f4db-4f5f-a439-ee0eda218f6d\",\"type\":\"LinearAxis\"},{\"id\":\"07416677-0165-4e83-940a-825ffe1d62ef\",\"type\":\"Grid\"},{\"id\":\"0c4161b8-6f40-402a-80bb-b31ae39ee318\",\"type\":\"LinearAxis\"},{\"id\":\"14bf99a2-b5f8-46ee-9d7d-68951cd6c0cf\",\"type\":\"Grid\"},{\"id\":\"95668f77-6686-4cdb-a4f6-a4a20d61bce0\",\"type\":\"BoxAnnotation\"},{\"id\":\"517a0ee1-69af-4184-981b-aa5fd9127a32\",\"type\":\"GlyphRenderer\"},{\"id\":\"94ebad57-aad1-4f4b-b2cc-73070c0a129d\",\"type\":\"GlyphRenderer\"}],\"title\":{\"id\":\"8efb5ac0-7842-44b5-9dfd-579453d65736\",\"type\":\"Title\"},\"toolbar\":{\"id\":\"ea7085d3-3262-4c95-abb0-adec3142e212\",\"type\":\"Toolbar\"},\"x_range\":{\"id\":\"da122be7-d050-4a32-bce8-cfef413f423f\",\"type\":\"Range1d\"},\"x_scale\":{\"id\":\"b0c12b0f-d6fc-4ac5-9bbf-a25e3e597c13\",\"type\":\"LinearScale\"},\"y_range\":{\"id\":\"22b973e4-55ae-4441-b06a-9fb36c6c1020\",\"type\":\"Range1d\"},\"y_scale\":{\"id\":\"30a60fdd-c331-4ca7-9948-dbb7c45b0e90\",\"type\":\"LinearScale\"}},\"id\":\"0b58e77d-9c52-436e-9d99-7e456e61a664\",\"subtype\":\"Figure\",\"type\":\"Plot\"},{\"attributes\":{\"source\":{\"id\":\"2701cc4b-c793-4451-8189-7e98189c3189\",\"type\":\"ColumnDataSource\"}},\"id\":\"cea09f6e-7cd8-49f2-a281-4a01811cb6ea\",\"type\":\"CDSView\"},{\"attributes\":{\"formatter\":{\"id\":\"6b824915-3fc3-4d2d-9571-c1b59b3bdebb\",\"type\":\"BasicTickFormatter\"},\"plot\":{\"id\":\"0b58e77d-9c52-436e-9d99-7e456e61a664\",\"subtype\":\"Figure\",\"type\":\"Plot\"},\"ticker\":{\"id\":\"53b7a063-c62e-4872-8bf2-d47209976a95\",\"type\":\"BasicTicker\"}},\"id\":\"0c4161b8-6f40-402a-80bb-b31ae39ee318\",\"type\":\"LinearAxis\"},{\"attributes\":{},\"id\":\"9c31c944-a05e-447e-ab28-01b40fc72780\",\"type\":\"HelpTool\"},{\"attributes\":{},\"id\":\"53b7a063-c62e-4872-8bf2-d47209976a95\",\"type\":\"BasicTicker\"},{\"attributes\":{\"plot\":null,\"text\":\"\"},\"id\":\"8efb5ac0-7842-44b5-9dfd-579453d65736\",\"type\":\"Title\"},{\"attributes\":{\"text_alpha\":{\"value\":0.1},\"text_color\":{\"value\":\"black\"},\"x\":{\"value\":0},\"y\":{\"value\":2}},\"id\":\"69fd9d35-15c8-468e-9530-002725461a32\",\"type\":\"Text\"},{\"attributes\":{\"data_source\":{\"id\":\"2701cc4b-c793-4451-8189-7e98189c3189\",\"type\":\"ColumnDataSource\"},\"glyph\":{\"id\":\"df7249c8-0467-47a6-997c-4b11aacde284\",\"type\":\"Text\"},\"hover_glyph\":null,\"muted_glyph\":null,\"nonselection_glyph\":{\"id\":\"69fd9d35-15c8-468e-9530-002725461a32\",\"type\":\"Text\"},\"selection_glyph\":null,\"view\":{\"id\":\"cea09f6e-7cd8-49f2-a281-4a01811cb6ea\",\"type\":\"CDSView\"}},\"id\":\"517a0ee1-69af-4184-981b-aa5fd9127a32\",\"type\":\"GlyphRenderer\"},{\"attributes\":{\"source\":{\"id\":\"9204fdf1-758b-401a-954b-34fdb7ebb7b5\",\"type\":\"ColumnDataSource\"}},\"id\":\"2a37705b-dbb8-45e4-978a-099650c07c77\",\"type\":\"CDSView\"},{\"attributes\":{},\"id\":\"b0c12b0f-d6fc-4ac5-9bbf-a25e3e597c13\",\"type\":\"LinearScale\"},{\"attributes\":{\"text_alpha\":{\"value\":0.1},\"text_color\":{\"value\":\"black\"},\"x\":{\"value\":0},\"y\":{\"value\":1}},\"id\":\"0d2907ac-d9e0-490b-b2bf-deacc59a3e7e\",\"type\":\"Text\"},{\"attributes\":{},\"id\":\"43b02e1a-df4b-4977-adb2-2dce54c419d3\",\"type\":\"SaveTool\"},{\"attributes\":{\"data_source\":{\"id\":\"9204fdf1-758b-401a-954b-34fdb7ebb7b5\",\"type\":\"ColumnDataSource\"},\"glyph\":{\"id\":\"3665c579-92af-4f84-b5df-0e43a49d9de1\",\"type\":\"Text\"},\"hover_glyph\":null,\"muted_glyph\":null,\"nonselection_glyph\":{\"id\":\"0d2907ac-d9e0-490b-b2bf-deacc59a3e7e\",\"type\":\"Text\"},\"selection_glyph\":null,\"view\":{\"id\":\"2a37705b-dbb8-45e4-978a-099650c07c77\",\"type\":\"CDSView\"}},\"id\":\"94ebad57-aad1-4f4b-b2cc-73070c0a129d\",\"type\":\"GlyphRenderer\"},{\"attributes\":{\"callback\":null,\"column_names\":[\"text\"],\"data\":{\"text\":[\"(0, 255, 0, 0.5)\"]}},\"id\":\"9204fdf1-758b-401a-954b-34fdb7ebb7b5\",\"type\":\"ColumnDataSource\"},{\"attributes\":{\"text_color\":{\"value\":\"rgba(0, 255, 0, 0.5)\"},\"x\":{\"value\":0},\"y\":{\"value\":1}},\"id\":\"3665c579-92af-4f84-b5df-0e43a49d9de1\",\"type\":\"Text\"},{\"attributes\":{\"callback\":null,\"end\":2.5,\"start\":0.5},\"id\":\"22b973e4-55ae-4441-b06a-9fb36c6c1020\",\"type\":\"Range1d\"},{\"attributes\":{},\"id\":\"7ef6b7ee-9efe-4fba-9c40-7972fc7ad730\",\"type\":\"ResetTool\"},{\"attributes\":{},\"id\":\"6b824915-3fc3-4d2d-9571-c1b59b3bdebb\",\"type\":\"BasicTickFormatter\"},{\"attributes\":{\"bottom_units\":\"screen\",\"fill_alpha\":{\"value\":0.5},\"fill_color\":{\"value\":\"lightgrey\"},\"left_units\":\"screen\",\"level\":\"overlay\",\"line_alpha\":{\"value\":1.0},\"line_color\":{\"value\":\"black\"},\"line_dash\":[4,4],\"line_width\":{\"value\":2},\"plot\":null,\"render_mode\":\"css\",\"right_units\":\"screen\",\"top_units\":\"screen\"},\"id\":\"95668f77-6686-4cdb-a4f6-a4a20d61bce0\",\"type\":\"BoxAnnotation\"}],\"root_ids\":[\"0b58e77d-9c52-436e-9d99-7e456e61a664\"]},\"title\":\"Bokeh Application\",\"version\":\"0.12.10\"}};\n",
       "    var render_items = [{\"docid\":\"35783f5b-a5be-4d60-a6e3-eaec0a950993\",\"elementid\":\"a870fad2-8be6-420b-92a0-0d721bef6fb5\",\"modelid\":\"0b58e77d-9c52-436e-9d99-7e456e61a664\"}];\n",
       "\n",
       "    root.Bokeh.embed.embed_items(docs_json, render_items);\n",
       "  }\n",
       "\n",
       "  if (root.Bokeh !== undefined) {\n",
       "    embed_document(root);\n",
       "  } else {\n",
       "    var attempts = 0;\n",
       "    var timer = setInterval(function(root) {\n",
       "      if (root.Bokeh !== undefined) {\n",
       "        embed_document(root);\n",
       "        clearInterval(timer);\n",
       "      }\n",
       "      attempts++;\n",
       "      if (attempts > 100) {\n",
       "        console.log(\"Bokeh: ERROR: Unable to embed document because BokehJS library is missing\")\n",
       "        clearInterval(timer);\n",
       "      }\n",
       "    }, 10, root)\n",
       "  }\n",
       "})(window);"
      ],
      "application/vnd.bokehjs_exec.v0+json": ""
     },
     "metadata": {
      "application/vnd.bokehjs_exec.v0+json": {
       "id": "0b58e77d-9c52-436e-9d99-7e456e61a664"
      }
     },
     "output_type": "display_data"
    }
   ],
   "source": [
    "# text color\n",
    "p = figure(plot_width=200, plot_height=200, x_range=(-1, 2.7), y_range=(0.5, 2.5))\n",
    "p.text(0, 2, text=['red'], text_color='red')\n",
    "p.text(0, 1, text=['(0, 255, 0, 0.5)'], text_color=(0, 255, 0, 0.5))\n",
    "show(p)"
   ]
  },
  {
   "cell_type": "code",
   "execution_count": 9,
   "metadata": {},
   "outputs": [
    {
     "data": {
      "text/html": [
       "\n",
       "<div class=\"bk-root\">\n",
       "    <div class=\"bk-plotdiv\" id=\"7790ed22-4609-432c-a405-17ae8fdde443\"></div>\n",
       "</div>"
      ]
     },
     "metadata": {},
     "output_type": "display_data"
    },
    {
     "data": {
      "application/javascript": [
       "(function(root) {\n",
       "  function embed_document(root) {\n",
       "    var docs_json = {\"bae64e49-5d4f-42fb-a918-c37b38aabfc8\":{\"roots\":{\"references\":[{\"attributes\":{\"bottom_units\":\"screen\",\"fill_alpha\":{\"value\":0.5},\"fill_color\":{\"value\":\"lightgrey\"},\"left_units\":\"screen\",\"level\":\"overlay\",\"line_alpha\":{\"value\":1.0},\"line_color\":{\"value\":\"black\"},\"line_dash\":[4,4],\"line_width\":{\"value\":2},\"plot\":null,\"render_mode\":\"css\",\"right_units\":\"screen\",\"top_units\":\"screen\"},\"id\":\"b8e6bb27-e773-4de7-bb41-ba2a3c3d489e\",\"type\":\"BoxAnnotation\"},{\"attributes\":{},\"id\":\"1cc8d4de-bd85-403c-85ff-13e4cf2cca84\",\"type\":\"HelpTool\"},{\"attributes\":{\"formatter\":{\"id\":\"dcee41ca-52f3-4372-8230-74574b8918a6\",\"type\":\"BasicTickFormatter\"},\"plot\":{\"id\":\"3cc3f72c-5a40-4984-aed3-96998605a0e9\",\"subtype\":\"Figure\",\"type\":\"Plot\"},\"ticker\":{\"id\":\"6406a3d5-6a72-4bed-93c9-4194e0662b0e\",\"type\":\"BasicTicker\"}},\"id\":\"aed9667b-ac22-4663-beaf-89e27c3931e0\",\"type\":\"LinearAxis\"},{\"attributes\":{},\"id\":\"7c182727-a9f5-4e03-913b-0ebefc8c3c71\",\"type\":\"BasicTickFormatter\"},{\"attributes\":{\"data_source\":{\"id\":\"bbf53556-37e9-4239-b91a-9f1fe4ef8bf2\",\"type\":\"ColumnDataSource\"},\"glyph\":{\"id\":\"22fa0da2-dfe4-4d37-ad10-db15848635c2\",\"type\":\"Text\"},\"hover_glyph\":null,\"muted_glyph\":null,\"nonselection_glyph\":{\"id\":\"0bfe8c47-78de-4963-aa04-45dad5b783ec\",\"type\":\"Text\"},\"selection_glyph\":null,\"view\":{\"id\":\"e2b97fb1-bc94-42f8-bd1f-bf923d27a64f\",\"type\":\"CDSView\"}},\"id\":\"8a3c2a6c-bc0b-405c-9403-3b82fc92d62e\",\"type\":\"GlyphRenderer\"},{\"attributes\":{\"line_color\":{\"value\":\"#1f77b4\"},\"x\":{\"field\":\"x\"},\"y\":{\"field\":\"y\"}},\"id\":\"a41dafc9-9eff-4a9e-8c82-a7b257f06160\",\"type\":\"Line\"},{\"attributes\":{\"text_align\":\"center\",\"text_color\":{\"value\":\"black\"},\"x\":{\"value\":1},\"y\":{\"value\":2}},\"id\":\"22fa0da2-dfe4-4d37-ad10-db15848635c2\",\"type\":\"Text\"},{\"attributes\":{\"source\":{\"id\":\"bbf53556-37e9-4239-b91a-9f1fe4ef8bf2\",\"type\":\"ColumnDataSource\"}},\"id\":\"e2b97fb1-bc94-42f8-bd1f-bf923d27a64f\",\"type\":\"CDSView\"},{\"attributes\":{\"callback\":null,\"column_names\":[\"text\"],\"data\":{\"text\":[\"right\"]}},\"id\":\"98f2240f-37f9-40e7-ac13-aa338e49623a\",\"type\":\"ColumnDataSource\"},{\"attributes\":{\"text_align\":\"center\",\"text_alpha\":{\"value\":0.1},\"text_color\":{\"value\":\"black\"},\"x\":{\"value\":1},\"y\":{\"value\":2}},\"id\":\"0bfe8c47-78de-4963-aa04-45dad5b783ec\",\"type\":\"Text\"},{\"attributes\":{\"callback\":null,\"column_names\":[\"x\",\"y\"],\"data\":{\"x\":[1,1],\"y\":[0.5,3.5]}},\"id\":\"6d3f81a0-0080-4016-b1c0-15a0102925d4\",\"type\":\"ColumnDataSource\"},{\"attributes\":{},\"id\":\"cdaea535-32e4-45f7-9a81-5fcc01754a26\",\"type\":\"LinearScale\"},{\"attributes\":{\"text_align\":\"right\",\"text_color\":{\"value\":\"black\"},\"x\":{\"value\":1},\"y\":{\"value\":1}},\"id\":\"f9955b8b-21f5-4014-8d92-9ac80154b1b2\",\"type\":\"Text\"},{\"attributes\":{\"text_align\":\"right\",\"text_alpha\":{\"value\":0.1},\"text_color\":{\"value\":\"black\"},\"x\":{\"value\":1},\"y\":{\"value\":1}},\"id\":\"41849497-7ef4-4213-a2c2-8492832b3678\",\"type\":\"Text\"},{\"attributes\":{\"data_source\":{\"id\":\"98f2240f-37f9-40e7-ac13-aa338e49623a\",\"type\":\"ColumnDataSource\"},\"glyph\":{\"id\":\"f9955b8b-21f5-4014-8d92-9ac80154b1b2\",\"type\":\"Text\"},\"hover_glyph\":null,\"muted_glyph\":null,\"nonselection_glyph\":{\"id\":\"41849497-7ef4-4213-a2c2-8492832b3678\",\"type\":\"Text\"},\"selection_glyph\":null,\"view\":{\"id\":\"6ecc2733-d5ac-4dd8-919b-82484e2b7ce6\",\"type\":\"CDSView\"}},\"id\":\"2241cc2c-e1e4-4dee-8f6f-ac57b37b37c0\",\"type\":\"GlyphRenderer\"},{\"attributes\":{\"data_source\":{\"id\":\"6d3f81a0-0080-4016-b1c0-15a0102925d4\",\"type\":\"ColumnDataSource\"},\"glyph\":{\"id\":\"a41dafc9-9eff-4a9e-8c82-a7b257f06160\",\"type\":\"Line\"},\"hover_glyph\":null,\"muted_glyph\":null,\"nonselection_glyph\":{\"id\":\"bc5d0d84-78c8-4ac1-ac08-8980e2a00ac5\",\"type\":\"Line\"},\"selection_glyph\":null,\"view\":{\"id\":\"f98bc454-32c2-4bb6-b059-e9b0b597958b\",\"type\":\"CDSView\"}},\"id\":\"c1fd97c8-10df-4074-8095-c29234bc36df\",\"type\":\"GlyphRenderer\"},{\"attributes\":{\"source\":{\"id\":\"98f2240f-37f9-40e7-ac13-aa338e49623a\",\"type\":\"ColumnDataSource\"}},\"id\":\"6ecc2733-d5ac-4dd8-919b-82484e2b7ce6\",\"type\":\"CDSView\"},{\"attributes\":{\"line_alpha\":{\"value\":0.1},\"line_color\":{\"value\":\"#1f77b4\"},\"x\":{\"field\":\"x\"},\"y\":{\"field\":\"y\"}},\"id\":\"bc5d0d84-78c8-4ac1-ac08-8980e2a00ac5\",\"type\":\"Line\"},{\"attributes\":{\"source\":{\"id\":\"6d3f81a0-0080-4016-b1c0-15a0102925d4\",\"type\":\"ColumnDataSource\"}},\"id\":\"f98bc454-32c2-4bb6-b059-e9b0b597958b\",\"type\":\"CDSView\"},{\"attributes\":{\"below\":[{\"id\":\"aed9667b-ac22-4663-beaf-89e27c3931e0\",\"type\":\"LinearAxis\"}],\"left\":[{\"id\":\"65e40d22-9de5-4ea9-8e86-4ee686a1797a\",\"type\":\"LinearAxis\"}],\"plot_height\":200,\"plot_width\":200,\"renderers\":[{\"id\":\"aed9667b-ac22-4663-beaf-89e27c3931e0\",\"type\":\"LinearAxis\"},{\"id\":\"9e6176e1-096e-4afb-b51e-f17c5629f86a\",\"type\":\"Grid\"},{\"id\":\"65e40d22-9de5-4ea9-8e86-4ee686a1797a\",\"type\":\"LinearAxis\"},{\"id\":\"0f1d0ae6-c161-4690-a2c5-4c9c27cf8c83\",\"type\":\"Grid\"},{\"id\":\"b8e6bb27-e773-4de7-bb41-ba2a3c3d489e\",\"type\":\"BoxAnnotation\"},{\"id\":\"294aabd5-0239-4330-91b8-5ebb927fe79c\",\"type\":\"GlyphRenderer\"},{\"id\":\"8a3c2a6c-bc0b-405c-9403-3b82fc92d62e\",\"type\":\"GlyphRenderer\"},{\"id\":\"2241cc2c-e1e4-4dee-8f6f-ac57b37b37c0\",\"type\":\"GlyphRenderer\"},{\"id\":\"c1fd97c8-10df-4074-8095-c29234bc36df\",\"type\":\"GlyphRenderer\"}],\"title\":{\"id\":\"c0560d00-c34d-452b-9797-b781b8e08e5d\",\"type\":\"Title\"},\"toolbar\":{\"id\":\"da6e4dc9-c1dc-48af-b7f5-e91365ac24c7\",\"type\":\"Toolbar\"},\"x_range\":{\"id\":\"5e4db179-117b-4339-b1e4-c05a48032fe6\",\"type\":\"DataRange1d\"},\"x_scale\":{\"id\":\"cdaea535-32e4-45f7-9a81-5fcc01754a26\",\"type\":\"LinearScale\"},\"y_range\":{\"id\":\"08ded6ad-a597-4c5f-998b-1a5571bd88fa\",\"type\":\"Range1d\"},\"y_scale\":{\"id\":\"7ff61c10-67fa-43c3-8526-5aacd2e2af42\",\"type\":\"LinearScale\"}},\"id\":\"3cc3f72c-5a40-4984-aed3-96998605a0e9\",\"subtype\":\"Figure\",\"type\":\"Plot\"},{\"attributes\":{\"callback\":null},\"id\":\"5e4db179-117b-4339-b1e4-c05a48032fe6\",\"type\":\"DataRange1d\"},{\"attributes\":{\"text_color\":{\"value\":\"black\"},\"x\":{\"value\":1},\"y\":{\"value\":3}},\"id\":\"4b5d3557-aab2-4316-b82a-1cfbdad498ce\",\"type\":\"Text\"},{\"attributes\":{\"callback\":null,\"column_names\":[\"text\"],\"data\":{\"text\":[\"left\"]}},\"id\":\"36c5a099-0166-46fc-b7ba-ffdcf0d33da2\",\"type\":\"ColumnDataSource\"},{\"attributes\":{\"callback\":null,\"end\":3.5,\"start\":0.5},\"id\":\"08ded6ad-a597-4c5f-998b-1a5571bd88fa\",\"type\":\"Range1d\"},{\"attributes\":{\"dimension\":1,\"plot\":{\"id\":\"3cc3f72c-5a40-4984-aed3-96998605a0e9\",\"subtype\":\"Figure\",\"type\":\"Plot\"},\"ticker\":{\"id\":\"451b9a2f-c543-45f9-b81e-a951f3ed719f\",\"type\":\"BasicTicker\"}},\"id\":\"0f1d0ae6-c161-4690-a2c5-4c9c27cf8c83\",\"type\":\"Grid\"},{\"attributes\":{},\"id\":\"451b9a2f-c543-45f9-b81e-a951f3ed719f\",\"type\":\"BasicTicker\"},{\"attributes\":{\"active_drag\":\"auto\",\"active_inspect\":\"auto\",\"active_scroll\":\"auto\",\"active_tap\":\"auto\",\"tools\":[{\"id\":\"fff98515-54d0-42fa-8fd0-b468c78fb6f5\",\"type\":\"PanTool\"},{\"id\":\"ab8993b2-db11-4924-875d-8d8e5831c2ff\",\"type\":\"WheelZoomTool\"},{\"id\":\"811812c0-7c8e-460b-b145-1ffc45c0d511\",\"type\":\"BoxZoomTool\"},{\"id\":\"62580f91-4d3e-46ea-83e9-8600a3bf25bb\",\"type\":\"SaveTool\"},{\"id\":\"0d69ac35-5ce3-42a6-aeb3-33c64a560f94\",\"type\":\"ResetTool\"},{\"id\":\"1cc8d4de-bd85-403c-85ff-13e4cf2cca84\",\"type\":\"HelpTool\"}]},\"id\":\"da6e4dc9-c1dc-48af-b7f5-e91365ac24c7\",\"type\":\"Toolbar\"},{\"attributes\":{\"callback\":null,\"column_names\":[\"text\"],\"data\":{\"text\":[\"center\"]}},\"id\":\"bbf53556-37e9-4239-b91a-9f1fe4ef8bf2\",\"type\":\"ColumnDataSource\"},{\"attributes\":{},\"id\":\"7ff61c10-67fa-43c3-8526-5aacd2e2af42\",\"type\":\"LinearScale\"},{\"attributes\":{},\"id\":\"fff98515-54d0-42fa-8fd0-b468c78fb6f5\",\"type\":\"PanTool\"},{\"attributes\":{\"data_source\":{\"id\":\"36c5a099-0166-46fc-b7ba-ffdcf0d33da2\",\"type\":\"ColumnDataSource\"},\"glyph\":{\"id\":\"4b5d3557-aab2-4316-b82a-1cfbdad498ce\",\"type\":\"Text\"},\"hover_glyph\":null,\"muted_glyph\":null,\"nonselection_glyph\":{\"id\":\"b5677e79-ddda-4a2b-8c36-f81fa2df8d79\",\"type\":\"Text\"},\"selection_glyph\":null,\"view\":{\"id\":\"038700e6-3ce9-45f8-aa91-6a60880db1c6\",\"type\":\"CDSView\"}},\"id\":\"294aabd5-0239-4330-91b8-5ebb927fe79c\",\"type\":\"GlyphRenderer\"},{\"attributes\":{\"overlay\":{\"id\":\"b8e6bb27-e773-4de7-bb41-ba2a3c3d489e\",\"type\":\"BoxAnnotation\"}},\"id\":\"811812c0-7c8e-460b-b145-1ffc45c0d511\",\"type\":\"BoxZoomTool\"},{\"attributes\":{},\"id\":\"0d69ac35-5ce3-42a6-aeb3-33c64a560f94\",\"type\":\"ResetTool\"},{\"attributes\":{},\"id\":\"62580f91-4d3e-46ea-83e9-8600a3bf25bb\",\"type\":\"SaveTool\"},{\"attributes\":{},\"id\":\"ab8993b2-db11-4924-875d-8d8e5831c2ff\",\"type\":\"WheelZoomTool\"},{\"attributes\":{\"plot\":{\"id\":\"3cc3f72c-5a40-4984-aed3-96998605a0e9\",\"subtype\":\"Figure\",\"type\":\"Plot\"},\"ticker\":{\"id\":\"6406a3d5-6a72-4bed-93c9-4194e0662b0e\",\"type\":\"BasicTicker\"}},\"id\":\"9e6176e1-096e-4afb-b51e-f17c5629f86a\",\"type\":\"Grid\"},{\"attributes\":{},\"id\":\"dcee41ca-52f3-4372-8230-74574b8918a6\",\"type\":\"BasicTickFormatter\"},{\"attributes\":{\"text_alpha\":{\"value\":0.1},\"text_color\":{\"value\":\"black\"},\"x\":{\"value\":1},\"y\":{\"value\":3}},\"id\":\"b5677e79-ddda-4a2b-8c36-f81fa2df8d79\",\"type\":\"Text\"},{\"attributes\":{\"source\":{\"id\":\"36c5a099-0166-46fc-b7ba-ffdcf0d33da2\",\"type\":\"ColumnDataSource\"}},\"id\":\"038700e6-3ce9-45f8-aa91-6a60880db1c6\",\"type\":\"CDSView\"},{\"attributes\":{},\"id\":\"6406a3d5-6a72-4bed-93c9-4194e0662b0e\",\"type\":\"BasicTicker\"},{\"attributes\":{\"plot\":null,\"text\":\"\"},\"id\":\"c0560d00-c34d-452b-9797-b781b8e08e5d\",\"type\":\"Title\"},{\"attributes\":{\"formatter\":{\"id\":\"7c182727-a9f5-4e03-913b-0ebefc8c3c71\",\"type\":\"BasicTickFormatter\"},\"plot\":{\"id\":\"3cc3f72c-5a40-4984-aed3-96998605a0e9\",\"subtype\":\"Figure\",\"type\":\"Plot\"},\"ticker\":{\"id\":\"451b9a2f-c543-45f9-b81e-a951f3ed719f\",\"type\":\"BasicTicker\"}},\"id\":\"65e40d22-9de5-4ea9-8e86-4ee686a1797a\",\"type\":\"LinearAxis\"}],\"root_ids\":[\"3cc3f72c-5a40-4984-aed3-96998605a0e9\"]},\"title\":\"Bokeh Application\",\"version\":\"0.12.10\"}};\n",
       "    var render_items = [{\"docid\":\"bae64e49-5d4f-42fb-a918-c37b38aabfc8\",\"elementid\":\"7790ed22-4609-432c-a405-17ae8fdde443\",\"modelid\":\"3cc3f72c-5a40-4984-aed3-96998605a0e9\"}];\n",
       "\n",
       "    root.Bokeh.embed.embed_items(docs_json, render_items);\n",
       "  }\n",
       "\n",
       "  if (root.Bokeh !== undefined) {\n",
       "    embed_document(root);\n",
       "  } else {\n",
       "    var attempts = 0;\n",
       "    var timer = setInterval(function(root) {\n",
       "      if (root.Bokeh !== undefined) {\n",
       "        embed_document(root);\n",
       "        clearInterval(timer);\n",
       "      }\n",
       "      attempts++;\n",
       "      if (attempts > 100) {\n",
       "        console.log(\"Bokeh: ERROR: Unable to embed document because BokehJS library is missing\")\n",
       "        clearInterval(timer);\n",
       "      }\n",
       "    }, 10, root)\n",
       "  }\n",
       "})(window);"
      ],
      "application/vnd.bokehjs_exec.v0+json": ""
     },
     "metadata": {
      "application/vnd.bokehjs_exec.v0+json": {
       "id": "3cc3f72c-5a40-4984-aed3-96998605a0e9"
      }
     },
     "output_type": "display_data"
    }
   ],
   "source": [
    "#テキストの位置の設定例\n",
    "p = figure(plot_width=200, plot_height=200, y_range=(0.5, 3.5))\n",
    "p.text(1, 3, text=['left'], text_align='left')\n",
    "p.text(1, 2, text=['center'], text_align='center')\n",
    "p.text(1, 1, text=['right'], text_align='right')\n",
    "p.line([1, 1], [0.5, 3.5])\n",
    "show(p)"
   ]
  },
  {
   "cell_type": "code",
   "execution_count": null,
   "metadata": {},
   "outputs": [],
   "source": [
    "git "
   ]
  }
 ],
 "metadata": {
  "kernelspec": {
   "display_name": "Python 3",
   "language": "python",
   "name": "python3"
  },
  "language_info": {
   "codemirror_mode": {
    "name": "ipython",
    "version": 3
   },
   "file_extension": ".py",
   "mimetype": "text/x-python",
   "name": "python",
   "nbconvert_exporter": "python",
   "pygments_lexer": "ipython3",
   "version": "3.6.1"
  }
 },
 "nbformat": 4,
 "nbformat_minor": 2
}
