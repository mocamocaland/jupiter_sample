{
 "cells": [
  {
   "cell_type": "code",
   "execution_count": 11,
   "metadata": {},
   "outputs": [
    {
     "data": {
      "text/html": [
       "\n",
       "    <div class=\"bk-root\">\n",
       "        <a href=\"https://bokeh.pydata.org\" target=\"_blank\" class=\"bk-logo bk-logo-small bk-logo-notebook\"></a>\n",
       "        <span id=\"c6cd0893-1a51-44b7-a457-67339fd638d9\">Loading BokehJS ...</span>\n",
       "    </div>"
      ]
     },
     "metadata": {},
     "output_type": "display_data"
    },
    {
     "data": {
      "application/javascript": [
       "\n",
       "(function(root) {\n",
       "  function now() {\n",
       "    return new Date();\n",
       "  }\n",
       "\n",
       "  var force = true;\n",
       "\n",
       "  if (typeof (root._bokeh_onload_callbacks) === \"undefined\" || force === true) {\n",
       "    root._bokeh_onload_callbacks = [];\n",
       "    root._bokeh_is_loading = undefined;\n",
       "  }\n",
       "\n",
       "  var JS_MIME_TYPE = 'application/javascript';\n",
       "  var HTML_MIME_TYPE = 'text/html';\n",
       "  var EXEC_MIME_TYPE = 'application/vnd.bokehjs_exec.v0+json';\n",
       "  var CLASS_NAME = 'output_bokeh rendered_html';\n",
       "\n",
       "  /**\n",
       "   * Render data to the DOM node\n",
       "   */\n",
       "  function render(props, node) {\n",
       "    var script = document.createElement(\"script\");\n",
       "    node.appendChild(script);\n",
       "  }\n",
       "\n",
       "  /**\n",
       "   * Handle when an output is cleared or removed\n",
       "   */\n",
       "  function handleClearOutput(event, handle) {\n",
       "    var cell = handle.cell;\n",
       "\n",
       "    var id = cell.output_area._bokeh_element_id;\n",
       "    var server_id = cell.output_area._bokeh_server_id;\n",
       "    // Clean up Bokeh references\n",
       "    if (id !== undefined) {\n",
       "      Bokeh.index[id].model.document.clear();\n",
       "      delete Bokeh.index[id];\n",
       "    }\n",
       "\n",
       "    if (server_id !== undefined) {\n",
       "      // Clean up Bokeh references\n",
       "      var cmd = \"from bokeh.io.state import curstate; print(curstate().uuid_to_server['\" + server_id + \"'].get_sessions()[0].document.roots[0]._id)\";\n",
       "      cell.notebook.kernel.execute(cmd, {\n",
       "        iopub: {\n",
       "          output: function(msg) {\n",
       "            var element_id = msg.content.text.trim();\n",
       "            Bokeh.index[element_id].model.document.clear();\n",
       "            delete Bokeh.index[element_id];\n",
       "          }\n",
       "        }\n",
       "      });\n",
       "      // Destroy server and session\n",
       "      var cmd = \"import bokeh.io.notebook as ion; ion.destroy_server('\" + server_id + \"')\";\n",
       "      cell.notebook.kernel.execute(cmd);\n",
       "    }\n",
       "  }\n",
       "\n",
       "  /**\n",
       "   * Handle when a new output is added\n",
       "   */\n",
       "  function handleAddOutput(event, handle) {\n",
       "    var output_area = handle.output_area;\n",
       "    var output = handle.output;\n",
       "\n",
       "    // limit handleAddOutput to display_data with EXEC_MIME_TYPE content only\n",
       "    if ((output.output_type != \"display_data\") || (!output.data.hasOwnProperty(EXEC_MIME_TYPE))) {\n",
       "      return\n",
       "    }\n",
       "\n",
       "    var toinsert = output_area.element.find(`.${CLASS_NAME.split(' ')[0]}`);\n",
       "\n",
       "    if (output.metadata[EXEC_MIME_TYPE][\"id\"] !== undefined) {\n",
       "      toinsert[0].firstChild.textContent = output.data[JS_MIME_TYPE];\n",
       "      // store reference to embed id on output_area\n",
       "      output_area._bokeh_element_id = output.metadata[EXEC_MIME_TYPE][\"id\"];\n",
       "    }\n",
       "    if (output.metadata[EXEC_MIME_TYPE][\"server_id\"] !== undefined) {\n",
       "      var bk_div = document.createElement(\"div\");\n",
       "      bk_div.innerHTML = output.data[HTML_MIME_TYPE];\n",
       "      var script_attrs = bk_div.children[0].attributes;\n",
       "      for (var i = 0; i < script_attrs.length; i++) {\n",
       "        toinsert[0].firstChild.setAttribute(script_attrs[i].name, script_attrs[i].value);\n",
       "      }\n",
       "      // store reference to server id on output_area\n",
       "      output_area._bokeh_server_id = output.metadata[EXEC_MIME_TYPE][\"server_id\"];\n",
       "    }\n",
       "  }\n",
       "\n",
       "  function register_renderer(events, OutputArea) {\n",
       "\n",
       "    function append_mime(data, metadata, element) {\n",
       "      // create a DOM node to render to\n",
       "      var toinsert = this.create_output_subarea(\n",
       "        metadata,\n",
       "        CLASS_NAME,\n",
       "        EXEC_MIME_TYPE\n",
       "      );\n",
       "      this.keyboard_manager.register_events(toinsert);\n",
       "      // Render to node\n",
       "      var props = {data: data, metadata: metadata[EXEC_MIME_TYPE]};\n",
       "      render(props, toinsert[0]);\n",
       "      element.append(toinsert);\n",
       "      return toinsert\n",
       "    }\n",
       "\n",
       "    /* Handle when an output is cleared or removed */\n",
       "    events.on('clear_output.CodeCell', handleClearOutput);\n",
       "    events.on('delete.Cell', handleClearOutput);\n",
       "\n",
       "    /* Handle when a new output is added */\n",
       "    events.on('output_added.OutputArea', handleAddOutput);\n",
       "\n",
       "    /**\n",
       "     * Register the mime type and append_mime function with output_area\n",
       "     */\n",
       "    OutputArea.prototype.register_mime_type(EXEC_MIME_TYPE, append_mime, {\n",
       "      /* Is output safe? */\n",
       "      safe: true,\n",
       "      /* Index of renderer in `output_area.display_order` */\n",
       "      index: 0\n",
       "    });\n",
       "  }\n",
       "\n",
       "  // register the mime type if in Jupyter Notebook environment and previously unregistered\n",
       "  if (root.Jupyter !== undefined) {\n",
       "    var events = require('base/js/events');\n",
       "    var OutputArea = require('notebook/js/outputarea').OutputArea;\n",
       "\n",
       "    if (OutputArea.prototype.mime_types().indexOf(EXEC_MIME_TYPE) == -1) {\n",
       "      register_renderer(events, OutputArea);\n",
       "    }\n",
       "  }\n",
       "\n",
       "  \n",
       "  if (typeof (root._bokeh_timeout) === \"undefined\" || force === true) {\n",
       "    root._bokeh_timeout = Date.now() + 5000;\n",
       "    root._bokeh_failed_load = false;\n",
       "  }\n",
       "\n",
       "  var NB_LOAD_WARNING = {'data': {'text/html':\n",
       "     \"<div style='background-color: #fdd'>\\n\"+\n",
       "     \"<p>\\n\"+\n",
       "     \"BokehJS does not appear to have successfully loaded. If loading BokehJS from CDN, this \\n\"+\n",
       "     \"may be due to a slow or bad network connection. Possible fixes:\\n\"+\n",
       "     \"</p>\\n\"+\n",
       "     \"<ul>\\n\"+\n",
       "     \"<li>re-rerun `output_notebook()` to attempt to load from CDN again, or</li>\\n\"+\n",
       "     \"<li>use INLINE resources instead, as so:</li>\\n\"+\n",
       "     \"</ul>\\n\"+\n",
       "     \"<code>\\n\"+\n",
       "     \"from bokeh.resources import INLINE\\n\"+\n",
       "     \"output_notebook(resources=INLINE)\\n\"+\n",
       "     \"</code>\\n\"+\n",
       "     \"</div>\"}};\n",
       "\n",
       "  function display_loaded() {\n",
       "    var el = document.getElementById(\"c6cd0893-1a51-44b7-a457-67339fd638d9\");\n",
       "    if (el != null) {\n",
       "      el.textContent = \"BokehJS is loading...\";\n",
       "    }\n",
       "    if (root.Bokeh !== undefined) {\n",
       "      if (el != null) {\n",
       "        el.textContent = \"BokehJS \" + root.Bokeh.version + \" successfully loaded.\";\n",
       "      }\n",
       "    } else if (Date.now() < root._bokeh_timeout) {\n",
       "      setTimeout(display_loaded, 100)\n",
       "    }\n",
       "  }\n",
       "\n",
       "\n",
       "  function run_callbacks() {\n",
       "    try {\n",
       "      root._bokeh_onload_callbacks.forEach(function(callback) { callback() });\n",
       "    }\n",
       "    finally {\n",
       "      delete root._bokeh_onload_callbacks\n",
       "    }\n",
       "    console.info(\"Bokeh: all callbacks have finished\");\n",
       "  }\n",
       "\n",
       "  function load_libs(js_urls, callback) {\n",
       "    root._bokeh_onload_callbacks.push(callback);\n",
       "    if (root._bokeh_is_loading > 0) {\n",
       "      console.log(\"Bokeh: BokehJS is being loaded, scheduling callback at\", now());\n",
       "      return null;\n",
       "    }\n",
       "    if (js_urls == null || js_urls.length === 0) {\n",
       "      run_callbacks();\n",
       "      return null;\n",
       "    }\n",
       "    console.log(\"Bokeh: BokehJS not loaded, scheduling load and callback at\", now());\n",
       "    root._bokeh_is_loading = js_urls.length;\n",
       "    for (var i = 0; i < js_urls.length; i++) {\n",
       "      var url = js_urls[i];\n",
       "      var s = document.createElement('script');\n",
       "      s.src = url;\n",
       "      s.async = false;\n",
       "      s.onreadystatechange = s.onload = function() {\n",
       "        root._bokeh_is_loading--;\n",
       "        if (root._bokeh_is_loading === 0) {\n",
       "          console.log(\"Bokeh: all BokehJS libraries loaded\");\n",
       "          run_callbacks()\n",
       "        }\n",
       "      };\n",
       "      s.onerror = function() {\n",
       "        console.warn(\"failed to load library \" + url);\n",
       "      };\n",
       "      console.log(\"Bokeh: injecting script tag for BokehJS library: \", url);\n",
       "      document.getElementsByTagName(\"head\")[0].appendChild(s);\n",
       "    }\n",
       "  };var element = document.getElementById(\"c6cd0893-1a51-44b7-a457-67339fd638d9\");\n",
       "  if (element == null) {\n",
       "    console.log(\"Bokeh: ERROR: autoload.js configured with elementid 'c6cd0893-1a51-44b7-a457-67339fd638d9' but no matching script tag was found. \")\n",
       "    return false;\n",
       "  }\n",
       "\n",
       "  var js_urls = [\"https://cdn.pydata.org/bokeh/release/bokeh-0.12.10.min.js\", \"https://cdn.pydata.org/bokeh/release/bokeh-widgets-0.12.10.min.js\", \"https://cdn.pydata.org/bokeh/release/bokeh-tables-0.12.10.min.js\", \"https://cdn.pydata.org/bokeh/release/bokeh-gl-0.12.10.min.js\"];\n",
       "\n",
       "  var inline_js = [\n",
       "    function(Bokeh) {\n",
       "      Bokeh.set_log_level(\"info\");\n",
       "    },\n",
       "    \n",
       "    function(Bokeh) {\n",
       "      \n",
       "    },\n",
       "    function(Bokeh) {\n",
       "      console.log(\"Bokeh: injecting CSS: https://cdn.pydata.org/bokeh/release/bokeh-0.12.10.min.css\");\n",
       "      Bokeh.embed.inject_css(\"https://cdn.pydata.org/bokeh/release/bokeh-0.12.10.min.css\");\n",
       "      console.log(\"Bokeh: injecting CSS: https://cdn.pydata.org/bokeh/release/bokeh-widgets-0.12.10.min.css\");\n",
       "      Bokeh.embed.inject_css(\"https://cdn.pydata.org/bokeh/release/bokeh-widgets-0.12.10.min.css\");\n",
       "      console.log(\"Bokeh: injecting CSS: https://cdn.pydata.org/bokeh/release/bokeh-tables-0.12.10.min.css\");\n",
       "      Bokeh.embed.inject_css(\"https://cdn.pydata.org/bokeh/release/bokeh-tables-0.12.10.min.css\");\n",
       "    }\n",
       "  ];\n",
       "\n",
       "  function run_inline_js() {\n",
       "    \n",
       "    if ((root.Bokeh !== undefined) || (force === true)) {\n",
       "      for (var i = 0; i < inline_js.length; i++) {\n",
       "        inline_js[i].call(root, root.Bokeh);\n",
       "      }if (force === true) {\n",
       "        display_loaded();\n",
       "      }} else if (Date.now() < root._bokeh_timeout) {\n",
       "      setTimeout(run_inline_js, 100);\n",
       "    } else if (!root._bokeh_failed_load) {\n",
       "      console.log(\"Bokeh: BokehJS failed to load within specified timeout.\");\n",
       "      root._bokeh_failed_load = true;\n",
       "    } else if (force !== true) {\n",
       "      var cell = $(document.getElementById(\"c6cd0893-1a51-44b7-a457-67339fd638d9\")).parents('.cell').data().cell;\n",
       "      cell.output_area.append_execute_result(NB_LOAD_WARNING)\n",
       "    }\n",
       "\n",
       "  }\n",
       "\n",
       "  if (root._bokeh_is_loading === 0) {\n",
       "    console.log(\"Bokeh: BokehJS loaded, going straight to plotting\");\n",
       "    run_inline_js();\n",
       "  } else {\n",
       "    load_libs(js_urls, function() {\n",
       "      console.log(\"Bokeh: BokehJS plotting callback run at\", now());\n",
       "      run_inline_js();\n",
       "    });\n",
       "  }\n",
       "}(window));"
      ],
      "application/vnd.bokehjs_load.v0+json": "\n(function(root) {\n  function now() {\n    return new Date();\n  }\n\n  var force = true;\n\n  if (typeof (root._bokeh_onload_callbacks) === \"undefined\" || force === true) {\n    root._bokeh_onload_callbacks = [];\n    root._bokeh_is_loading = undefined;\n  }\n\n  \n\n  \n  if (typeof (root._bokeh_timeout) === \"undefined\" || force === true) {\n    root._bokeh_timeout = Date.now() + 5000;\n    root._bokeh_failed_load = false;\n  }\n\n  var NB_LOAD_WARNING = {'data': {'text/html':\n     \"<div style='background-color: #fdd'>\\n\"+\n     \"<p>\\n\"+\n     \"BokehJS does not appear to have successfully loaded. If loading BokehJS from CDN, this \\n\"+\n     \"may be due to a slow or bad network connection. Possible fixes:\\n\"+\n     \"</p>\\n\"+\n     \"<ul>\\n\"+\n     \"<li>re-rerun `output_notebook()` to attempt to load from CDN again, or</li>\\n\"+\n     \"<li>use INLINE resources instead, as so:</li>\\n\"+\n     \"</ul>\\n\"+\n     \"<code>\\n\"+\n     \"from bokeh.resources import INLINE\\n\"+\n     \"output_notebook(resources=INLINE)\\n\"+\n     \"</code>\\n\"+\n     \"</div>\"}};\n\n  function display_loaded() {\n    var el = document.getElementById(\"c6cd0893-1a51-44b7-a457-67339fd638d9\");\n    if (el != null) {\n      el.textContent = \"BokehJS is loading...\";\n    }\n    if (root.Bokeh !== undefined) {\n      if (el != null) {\n        el.textContent = \"BokehJS \" + root.Bokeh.version + \" successfully loaded.\";\n      }\n    } else if (Date.now() < root._bokeh_timeout) {\n      setTimeout(display_loaded, 100)\n    }\n  }\n\n\n  function run_callbacks() {\n    try {\n      root._bokeh_onload_callbacks.forEach(function(callback) { callback() });\n    }\n    finally {\n      delete root._bokeh_onload_callbacks\n    }\n    console.info(\"Bokeh: all callbacks have finished\");\n  }\n\n  function load_libs(js_urls, callback) {\n    root._bokeh_onload_callbacks.push(callback);\n    if (root._bokeh_is_loading > 0) {\n      console.log(\"Bokeh: BokehJS is being loaded, scheduling callback at\", now());\n      return null;\n    }\n    if (js_urls == null || js_urls.length === 0) {\n      run_callbacks();\n      return null;\n    }\n    console.log(\"Bokeh: BokehJS not loaded, scheduling load and callback at\", now());\n    root._bokeh_is_loading = js_urls.length;\n    for (var i = 0; i < js_urls.length; i++) {\n      var url = js_urls[i];\n      var s = document.createElement('script');\n      s.src = url;\n      s.async = false;\n      s.onreadystatechange = s.onload = function() {\n        root._bokeh_is_loading--;\n        if (root._bokeh_is_loading === 0) {\n          console.log(\"Bokeh: all BokehJS libraries loaded\");\n          run_callbacks()\n        }\n      };\n      s.onerror = function() {\n        console.warn(\"failed to load library \" + url);\n      };\n      console.log(\"Bokeh: injecting script tag for BokehJS library: \", url);\n      document.getElementsByTagName(\"head\")[0].appendChild(s);\n    }\n  };var element = document.getElementById(\"c6cd0893-1a51-44b7-a457-67339fd638d9\");\n  if (element == null) {\n    console.log(\"Bokeh: ERROR: autoload.js configured with elementid 'c6cd0893-1a51-44b7-a457-67339fd638d9' but no matching script tag was found. \")\n    return false;\n  }\n\n  var js_urls = [\"https://cdn.pydata.org/bokeh/release/bokeh-0.12.10.min.js\", \"https://cdn.pydata.org/bokeh/release/bokeh-widgets-0.12.10.min.js\", \"https://cdn.pydata.org/bokeh/release/bokeh-tables-0.12.10.min.js\", \"https://cdn.pydata.org/bokeh/release/bokeh-gl-0.12.10.min.js\"];\n\n  var inline_js = [\n    function(Bokeh) {\n      Bokeh.set_log_level(\"info\");\n    },\n    \n    function(Bokeh) {\n      \n    },\n    function(Bokeh) {\n      console.log(\"Bokeh: injecting CSS: https://cdn.pydata.org/bokeh/release/bokeh-0.12.10.min.css\");\n      Bokeh.embed.inject_css(\"https://cdn.pydata.org/bokeh/release/bokeh-0.12.10.min.css\");\n      console.log(\"Bokeh: injecting CSS: https://cdn.pydata.org/bokeh/release/bokeh-widgets-0.12.10.min.css\");\n      Bokeh.embed.inject_css(\"https://cdn.pydata.org/bokeh/release/bokeh-widgets-0.12.10.min.css\");\n      console.log(\"Bokeh: injecting CSS: https://cdn.pydata.org/bokeh/release/bokeh-tables-0.12.10.min.css\");\n      Bokeh.embed.inject_css(\"https://cdn.pydata.org/bokeh/release/bokeh-tables-0.12.10.min.css\");\n    }\n  ];\n\n  function run_inline_js() {\n    \n    if ((root.Bokeh !== undefined) || (force === true)) {\n      for (var i = 0; i < inline_js.length; i++) {\n        inline_js[i].call(root, root.Bokeh);\n      }if (force === true) {\n        display_loaded();\n      }} else if (Date.now() < root._bokeh_timeout) {\n      setTimeout(run_inline_js, 100);\n    } else if (!root._bokeh_failed_load) {\n      console.log(\"Bokeh: BokehJS failed to load within specified timeout.\");\n      root._bokeh_failed_load = true;\n    } else if (force !== true) {\n      var cell = $(document.getElementById(\"c6cd0893-1a51-44b7-a457-67339fd638d9\")).parents('.cell').data().cell;\n      cell.output_area.append_execute_result(NB_LOAD_WARNING)\n    }\n\n  }\n\n  if (root._bokeh_is_loading === 0) {\n    console.log(\"Bokeh: BokehJS loaded, going straight to plotting\");\n    run_inline_js();\n  } else {\n    load_libs(js_urls, function() {\n      console.log(\"Bokeh: BokehJS plotting callback run at\", now());\n      run_inline_js();\n    });\n  }\n}(window));"
     },
     "metadata": {},
     "output_type": "display_data"
    },
    {
     "data": {
      "text/html": [
       "\n",
       "<div class=\"bk-root\">\n",
       "    <div class=\"bk-plotdiv\" id=\"23b7960e-46b1-46fd-a53b-d54f39bb4e20\"></div>\n",
       "</div>"
      ]
     },
     "metadata": {},
     "output_type": "display_data"
    },
    {
     "data": {
      "application/javascript": [
       "(function(root) {\n",
       "  function embed_document(root) {\n",
       "    var docs_json = {\"c7143e47-a369-439d-8269-c113f72b022c\":{\"roots\":{\"references\":[{\"attributes\":{\"callback\":null,\"column_names\":[\"text\"],\"data\":{\"text\":[\"times\"]}},\"id\":\"a70b04ca-cf47-4e98-9db3-a82b8c3b34ba\",\"type\":\"ColumnDataSource\"},{\"attributes\":{\"source\":{\"id\":\"a70b04ca-cf47-4e98-9db3-a82b8c3b34ba\",\"type\":\"ColumnDataSource\"}},\"id\":\"f3e425e2-6516-49f5-a405-dea58a9663cf\",\"type\":\"CDSView\"},{\"attributes\":{\"text_alpha\":{\"value\":0.1},\"text_color\":{\"value\":\"black\"},\"text_font\":\"times\",\"text_font_size\":{\"value\":\"25pt\"},\"x\":{\"value\":0},\"y\":{\"value\":1}},\"id\":\"318f1d7f-12f6-4e04-be05-123ede6ed704\",\"type\":\"Text\"},{\"attributes\":{\"dimension\":1,\"plot\":{\"id\":\"881055c0-c1be-4b23-897d-472e9e6d495c\",\"subtype\":\"Figure\",\"type\":\"Plot\"},\"ticker\":{\"id\":\"b66d9a63-e206-4551-9f6c-c430794ad4f9\",\"type\":\"BasicTicker\"}},\"id\":\"b88cade9-b7fa-4f35-8f21-8980fdf1658a\",\"type\":\"Grid\"},{\"attributes\":{\"data_source\":{\"id\":\"a70b04ca-cf47-4e98-9db3-a82b8c3b34ba\",\"type\":\"ColumnDataSource\"},\"glyph\":{\"id\":\"78fa75b5-7ad6-46d2-b73e-9949129dad18\",\"type\":\"Text\"},\"hover_glyph\":null,\"muted_glyph\":null,\"nonselection_glyph\":{\"id\":\"318f1d7f-12f6-4e04-be05-123ede6ed704\",\"type\":\"Text\"},\"selection_glyph\":null,\"view\":{\"id\":\"f3e425e2-6516-49f5-a405-dea58a9663cf\",\"type\":\"CDSView\"}},\"id\":\"e803f8b0-8219-4179-b668-4fbba460ccfe\",\"type\":\"GlyphRenderer\"},{\"attributes\":{\"active_drag\":\"auto\",\"active_inspect\":\"auto\",\"active_scroll\":\"auto\",\"active_tap\":\"auto\",\"tools\":[{\"id\":\"e77efa8b-dcd4-43ff-ba15-0cfe7380e9e0\",\"type\":\"PanTool\"},{\"id\":\"b36d09e1-b76b-4af7-a6f0-cfe96831b543\",\"type\":\"WheelZoomTool\"},{\"id\":\"313396f9-6b9a-4dbd-98f9-26336f693ce9\",\"type\":\"BoxZoomTool\"},{\"id\":\"f7ffe4e1-6719-461a-aa09-6ddd05243ef0\",\"type\":\"SaveTool\"},{\"id\":\"084b3ad7-db6a-485d-bfb8-f56650f98205\",\"type\":\"ResetTool\"},{\"id\":\"ce396c6b-cc46-4e37-a973-e5694a02f6b4\",\"type\":\"HelpTool\"}]},\"id\":\"a348b425-5fa8-4b9d-bc15-650c47d868ec\",\"type\":\"Toolbar\"},{\"attributes\":{},\"id\":\"689d0273-2a18-46af-bcc9-aef08c6b1fb0\",\"type\":\"LinearScale\"},{\"attributes\":{\"callback\":null,\"end\":2.5,\"start\":0.5},\"id\":\"3d9c0d7a-0426-40f2-ae1b-257d0db2aa22\",\"type\":\"Range1d\"},{\"attributes\":{},\"id\":\"61d629dc-9b88-4617-ba0e-a459d1fdfc1b\",\"type\":\"LinearScale\"},{\"attributes\":{\"plot\":{\"id\":\"881055c0-c1be-4b23-897d-472e9e6d495c\",\"subtype\":\"Figure\",\"type\":\"Plot\"},\"ticker\":{\"id\":\"7a50a83e-22fd-41c2-b544-d8188cdfd4c5\",\"type\":\"BasicTicker\"}},\"id\":\"7a93afd1-a897-41c9-97e0-c50edd6fead8\",\"type\":\"Grid\"},{\"attributes\":{\"formatter\":{\"id\":\"4cb3ae11-4cdb-4b38-a8c6-2a5aaa5e9d27\",\"type\":\"BasicTickFormatter\"},\"plot\":{\"id\":\"881055c0-c1be-4b23-897d-472e9e6d495c\",\"subtype\":\"Figure\",\"type\":\"Plot\"},\"ticker\":{\"id\":\"7a50a83e-22fd-41c2-b544-d8188cdfd4c5\",\"type\":\"BasicTicker\"}},\"id\":\"889bc680-1b18-4f5e-8498-ae527c368e66\",\"type\":\"LinearAxis\"},{\"attributes\":{},\"id\":\"7a50a83e-22fd-41c2-b544-d8188cdfd4c5\",\"type\":\"BasicTicker\"},{\"attributes\":{\"formatter\":{\"id\":\"9e3abe2c-02ce-4e1a-b191-3bd86111ab8e\",\"type\":\"BasicTickFormatter\"},\"plot\":{\"id\":\"881055c0-c1be-4b23-897d-472e9e6d495c\",\"subtype\":\"Figure\",\"type\":\"Plot\"},\"ticker\":{\"id\":\"b66d9a63-e206-4551-9f6c-c430794ad4f9\",\"type\":\"BasicTicker\"}},\"id\":\"b5676779-b324-4a3d-9e27-900865be8669\",\"type\":\"LinearAxis\"},{\"attributes\":{},\"id\":\"b66d9a63-e206-4551-9f6c-c430794ad4f9\",\"type\":\"BasicTicker\"},{\"attributes\":{\"callback\":null,\"column_names\":[\"text\"],\"data\":{\"text\":[\"helvetica\"]}},\"id\":\"29fcd7bb-7c22-490d-af7d-491561785720\",\"type\":\"ColumnDataSource\"},{\"attributes\":{\"bottom_units\":\"screen\",\"fill_alpha\":{\"value\":0.5},\"fill_color\":{\"value\":\"lightgrey\"},\"left_units\":\"screen\",\"level\":\"overlay\",\"line_alpha\":{\"value\":1.0},\"line_color\":{\"value\":\"black\"},\"line_dash\":[4,4],\"line_width\":{\"value\":2},\"plot\":null,\"render_mode\":\"css\",\"right_units\":\"screen\",\"top_units\":\"screen\"},\"id\":\"176b313d-a6cb-4e2d-aceb-5b50af1bbf84\",\"type\":\"BoxAnnotation\"},{\"attributes\":{},\"id\":\"e77efa8b-dcd4-43ff-ba15-0cfe7380e9e0\",\"type\":\"PanTool\"},{\"attributes\":{},\"id\":\"4cb3ae11-4cdb-4b38-a8c6-2a5aaa5e9d27\",\"type\":\"BasicTickFormatter\"},{\"attributes\":{},\"id\":\"b36d09e1-b76b-4af7-a6f0-cfe96831b543\",\"type\":\"WheelZoomTool\"},{\"attributes\":{\"overlay\":{\"id\":\"176b313d-a6cb-4e2d-aceb-5b50af1bbf84\",\"type\":\"BoxAnnotation\"}},\"id\":\"313396f9-6b9a-4dbd-98f9-26336f693ce9\",\"type\":\"BoxZoomTool\"},{\"attributes\":{\"text_color\":{\"value\":\"black\"},\"text_font\":\"times\",\"text_font_size\":{\"value\":\"25pt\"},\"x\":{\"value\":0},\"y\":{\"value\":1}},\"id\":\"78fa75b5-7ad6-46d2-b73e-9949129dad18\",\"type\":\"Text\"},{\"attributes\":{},\"id\":\"f7ffe4e1-6719-461a-aa09-6ddd05243ef0\",\"type\":\"SaveTool\"},{\"attributes\":{},\"id\":\"084b3ad7-db6a-485d-bfb8-f56650f98205\",\"type\":\"ResetTool\"},{\"attributes\":{},\"id\":\"ce396c6b-cc46-4e37-a973-e5694a02f6b4\",\"type\":\"HelpTool\"},{\"attributes\":{\"data_source\":{\"id\":\"29fcd7bb-7c22-490d-af7d-491561785720\",\"type\":\"ColumnDataSource\"},\"glyph\":{\"id\":\"1f01ae8c-ec39-4f0f-8760-c34f3490ba4e\",\"type\":\"Text\"},\"hover_glyph\":null,\"muted_glyph\":null,\"nonselection_glyph\":{\"id\":\"a44cf2c8-43c5-4a5c-96fb-f241b99e6189\",\"type\":\"Text\"},\"selection_glyph\":null,\"view\":{\"id\":\"e2b4c825-446e-4971-b472-10963da81088\",\"type\":\"CDSView\"}},\"id\":\"2db70f64-e8d6-4dd5-8abc-d3e4ccbccb10\",\"type\":\"GlyphRenderer\"},{\"attributes\":{\"plot\":null,\"text\":\"\"},\"id\":\"3688425f-028d-42a6-866f-23fa0f9ff713\",\"type\":\"Title\"},{\"attributes\":{\"callback\":null,\"end\":2},\"id\":\"a87f1b04-dd5f-4362-bdad-6ef39e9cf3a8\",\"type\":\"Range1d\"},{\"attributes\":{},\"id\":\"9e3abe2c-02ce-4e1a-b191-3bd86111ab8e\",\"type\":\"BasicTickFormatter\"},{\"attributes\":{\"text_color\":{\"value\":\"black\"},\"text_font_size\":{\"value\":\"25pt\"},\"x\":{\"value\":0},\"y\":{\"value\":2}},\"id\":\"1f01ae8c-ec39-4f0f-8760-c34f3490ba4e\",\"type\":\"Text\"},{\"attributes\":{\"source\":{\"id\":\"29fcd7bb-7c22-490d-af7d-491561785720\",\"type\":\"ColumnDataSource\"}},\"id\":\"e2b4c825-446e-4971-b472-10963da81088\",\"type\":\"CDSView\"},{\"attributes\":{\"below\":[{\"id\":\"889bc680-1b18-4f5e-8498-ae527c368e66\",\"type\":\"LinearAxis\"}],\"left\":[{\"id\":\"b5676779-b324-4a3d-9e27-900865be8669\",\"type\":\"LinearAxis\"}],\"plot_height\":200,\"plot_width\":200,\"renderers\":[{\"id\":\"889bc680-1b18-4f5e-8498-ae527c368e66\",\"type\":\"LinearAxis\"},{\"id\":\"7a93afd1-a897-41c9-97e0-c50edd6fead8\",\"type\":\"Grid\"},{\"id\":\"b5676779-b324-4a3d-9e27-900865be8669\",\"type\":\"LinearAxis\"},{\"id\":\"b88cade9-b7fa-4f35-8f21-8980fdf1658a\",\"type\":\"Grid\"},{\"id\":\"176b313d-a6cb-4e2d-aceb-5b50af1bbf84\",\"type\":\"BoxAnnotation\"},{\"id\":\"e803f8b0-8219-4179-b668-4fbba460ccfe\",\"type\":\"GlyphRenderer\"},{\"id\":\"2db70f64-e8d6-4dd5-8abc-d3e4ccbccb10\",\"type\":\"GlyphRenderer\"}],\"title\":{\"id\":\"3688425f-028d-42a6-866f-23fa0f9ff713\",\"type\":\"Title\"},\"toolbar\":{\"id\":\"a348b425-5fa8-4b9d-bc15-650c47d868ec\",\"type\":\"Toolbar\"},\"x_range\":{\"id\":\"a87f1b04-dd5f-4362-bdad-6ef39e9cf3a8\",\"type\":\"Range1d\"},\"x_scale\":{\"id\":\"61d629dc-9b88-4617-ba0e-a459d1fdfc1b\",\"type\":\"LinearScale\"},\"y_range\":{\"id\":\"3d9c0d7a-0426-40f2-ae1b-257d0db2aa22\",\"type\":\"Range1d\"},\"y_scale\":{\"id\":\"689d0273-2a18-46af-bcc9-aef08c6b1fb0\",\"type\":\"LinearScale\"}},\"id\":\"881055c0-c1be-4b23-897d-472e9e6d495c\",\"subtype\":\"Figure\",\"type\":\"Plot\"},{\"attributes\":{\"text_alpha\":{\"value\":0.1},\"text_color\":{\"value\":\"black\"},\"text_font_size\":{\"value\":\"25pt\"},\"x\":{\"value\":0},\"y\":{\"value\":2}},\"id\":\"a44cf2c8-43c5-4a5c-96fb-f241b99e6189\",\"type\":\"Text\"}],\"root_ids\":[\"881055c0-c1be-4b23-897d-472e9e6d495c\"]},\"title\":\"Bokeh Application\",\"version\":\"0.12.10\"}};\n",
       "    var render_items = [{\"docid\":\"c7143e47-a369-439d-8269-c113f72b022c\",\"elementid\":\"23b7960e-46b1-46fd-a53b-d54f39bb4e20\",\"modelid\":\"881055c0-c1be-4b23-897d-472e9e6d495c\"}];\n",
       "\n",
       "    root.Bokeh.embed.embed_items(docs_json, render_items);\n",
       "  }\n",
       "\n",
       "  if (root.Bokeh !== undefined) {\n",
       "    embed_document(root);\n",
       "  } else {\n",
       "    var attempts = 0;\n",
       "    var timer = setInterval(function(root) {\n",
       "      if (root.Bokeh !== undefined) {\n",
       "        embed_document(root);\n",
       "        clearInterval(timer);\n",
       "      }\n",
       "      attempts++;\n",
       "      if (attempts > 100) {\n",
       "        console.log(\"Bokeh: ERROR: Unable to embed document because BokehJS library is missing\")\n",
       "        clearInterval(timer);\n",
       "      }\n",
       "    }, 10, root)\n",
       "  }\n",
       "})(window);"
      ],
      "application/vnd.bokehjs_exec.v0+json": ""
     },
     "metadata": {
      "application/vnd.bokehjs_exec.v0+json": {
       "id": "881055c0-c1be-4b23-897d-472e9e6d495c"
      }
     },
     "output_type": "display_data"
    }
   ],
   "source": [
    "from bokeh.plotting import figure, output_notebook, show\n",
    "output_notebook()\n",
    "#フォントの設定\n",
    "p = figure(plot_width=200, plot_height=200, x_range=(0, 2), y_range=(0.5, 2.5))\n",
    "p.text(0, 1, text=['times'], text_font='times', text_font_size='25pt')\n",
    "p.text(0, 2, text=['helvetica'], text_font='helvetica', text_font_size='25pt')\n",
    "show(p)"
   ]
  },
  {
   "cell_type": "code",
   "execution_count": 12,
   "metadata": {},
   "outputs": [
    {
     "data": {
      "text/html": [
       "\n",
       "<div class=\"bk-root\">\n",
       "    <div class=\"bk-plotdiv\" id=\"93ddc1ab-23a8-42af-aa48-dc8f55d10eb0\"></div>\n",
       "</div>"
      ]
     },
     "metadata": {},
     "output_type": "display_data"
    },
    {
     "data": {
      "application/javascript": [
       "(function(root) {\n",
       "  function embed_document(root) {\n",
       "    var docs_json = {\"fae2f959-bb45-4f5c-ab78-775970be5ec4\":{\"roots\":{\"references\":[{\"attributes\":{\"active_drag\":\"auto\",\"active_inspect\":\"auto\",\"active_scroll\":\"auto\",\"active_tap\":\"auto\",\"tools\":[{\"id\":\"3456d0e3-27f3-44f6-b043-97225a8dc4f5\",\"type\":\"PanTool\"},{\"id\":\"c54548cb-dfe0-4f74-b4cd-b028971f609b\",\"type\":\"WheelZoomTool\"},{\"id\":\"2f61976b-76c3-42c8-895b-0738d6a2fd06\",\"type\":\"BoxZoomTool\"},{\"id\":\"c5480aa5-a2bc-4e88-ba8f-ffb1f81988d1\",\"type\":\"SaveTool\"},{\"id\":\"4761c4a8-c78c-4b72-89fe-19aade9a72f1\",\"type\":\"ResetTool\"},{\"id\":\"8ef21449-38ef-43f4-8626-e17039a91c09\",\"type\":\"HelpTool\"}]},\"id\":\"ecb652b2-e839-4501-bb73-2a224e029841\",\"type\":\"Toolbar\"},{\"attributes\":{\"formatter\":{\"id\":\"4e25be0f-8b26-4788-ad2f-288b828504a4\",\"type\":\"BasicTickFormatter\"},\"plot\":{\"id\":\"9df6a913-9fcb-47fb-9df5-5285d1e3550e\",\"subtype\":\"Figure\",\"type\":\"Plot\"},\"ticker\":{\"id\":\"695ea826-0641-4b07-9db2-bfc43b2ded1f\",\"type\":\"BasicTicker\"}},\"id\":\"a3e18635-638f-4cf5-8ffe-a8d75ad52923\",\"type\":\"LinearAxis\"},{\"attributes\":{},\"id\":\"695ea826-0641-4b07-9db2-bfc43b2ded1f\",\"type\":\"BasicTicker\"},{\"attributes\":{\"text_alpha\":{\"value\":0.1},\"text_color\":{\"value\":\"black\"},\"text_font_size\":{\"value\":\"1.5em\"},\"x\":{\"value\":0},\"y\":{\"value\":2}},\"id\":\"5cc1612a-768a-4a18-bec4-8d9e6602ca81\",\"type\":\"Text\"},{\"attributes\":{\"source\":{\"id\":\"f46328ad-e474-42e4-846f-4f6632a966cc\",\"type\":\"ColumnDataSource\"}},\"id\":\"ad9e274e-0a37-4c1b-b759-873ace717cd6\",\"type\":\"CDSView\"},{\"attributes\":{},\"id\":\"8ef21449-38ef-43f4-8626-e17039a91c09\",\"type\":\"HelpTool\"},{\"attributes\":{},\"id\":\"c54548cb-dfe0-4f74-b4cd-b028971f609b\",\"type\":\"WheelZoomTool\"},{\"attributes\":{\"text_alpha\":{\"value\":0.1},\"text_color\":{\"value\":\"black\"},\"x\":{\"value\":0},\"y\":{\"value\":1}},\"id\":\"3521139a-a332-41af-bbb7-18a32c157405\",\"type\":\"Text\"},{\"attributes\":{\"data_source\":{\"id\":\"87a39ed5-32ea-4849-bf63-f62de7d7d98d\",\"type\":\"ColumnDataSource\"},\"glyph\":{\"id\":\"adf01834-2dd1-4da2-b3f4-8d77f1d49585\",\"type\":\"Text\"},\"hover_glyph\":null,\"muted_glyph\":null,\"nonselection_glyph\":{\"id\":\"3521139a-a332-41af-bbb7-18a32c157405\",\"type\":\"Text\"},\"selection_glyph\":null,\"view\":{\"id\":\"eb6a0138-b134-4580-96fb-d46c067095e1\",\"type\":\"CDSView\"}},\"id\":\"72609f05-22c3-4a51-a597-5d9efe4144b5\",\"type\":\"GlyphRenderer\"},{\"attributes\":{\"source\":{\"id\":\"87a39ed5-32ea-4849-bf63-f62de7d7d98d\",\"type\":\"ColumnDataSource\"}},\"id\":\"eb6a0138-b134-4580-96fb-d46c067095e1\",\"type\":\"CDSView\"},{\"attributes\":{\"bottom_units\":\"screen\",\"fill_alpha\":{\"value\":0.5},\"fill_color\":{\"value\":\"lightgrey\"},\"left_units\":\"screen\",\"level\":\"overlay\",\"line_alpha\":{\"value\":1.0},\"line_color\":{\"value\":\"black\"},\"line_dash\":[4,4],\"line_width\":{\"value\":2},\"plot\":null,\"render_mode\":\"css\",\"right_units\":\"screen\",\"top_units\":\"screen\"},\"id\":\"34c83592-ea52-41b8-a138-8ebfdf247ee3\",\"type\":\"BoxAnnotation\"},{\"attributes\":{},\"id\":\"4e25be0f-8b26-4788-ad2f-288b828504a4\",\"type\":\"BasicTickFormatter\"},{\"attributes\":{\"data_source\":{\"id\":\"f46328ad-e474-42e4-846f-4f6632a966cc\",\"type\":\"ColumnDataSource\"},\"glyph\":{\"id\":\"265afa2e-6bb6-4fca-8d76-646f1c47f1b8\",\"type\":\"Text\"},\"hover_glyph\":null,\"muted_glyph\":null,\"nonselection_glyph\":{\"id\":\"5cc1612a-768a-4a18-bec4-8d9e6602ca81\",\"type\":\"Text\"},\"selection_glyph\":null,\"view\":{\"id\":\"ad9e274e-0a37-4c1b-b759-873ace717cd6\",\"type\":\"CDSView\"}},\"id\":\"1e9ac5ce-24c5-4122-a69b-159fb1bbf1a4\",\"type\":\"GlyphRenderer\"},{\"attributes\":{\"text_color\":{\"value\":\"black\"},\"x\":{\"value\":0},\"y\":{\"value\":1}},\"id\":\"adf01834-2dd1-4da2-b3f4-8d77f1d49585\",\"type\":\"Text\"},{\"attributes\":{},\"id\":\"7d21976e-a7e5-491b-a80a-7dd813c464be\",\"type\":\"LinearScale\"},{\"attributes\":{\"dimension\":1,\"plot\":{\"id\":\"9df6a913-9fcb-47fb-9df5-5285d1e3550e\",\"subtype\":\"Figure\",\"type\":\"Plot\"},\"ticker\":{\"id\":\"e1412504-ceff-4a72-8744-801e16017e63\",\"type\":\"BasicTicker\"}},\"id\":\"1709b56d-f316-404b-89c5-0e94e45dc4d9\",\"type\":\"Grid\"},{\"attributes\":{},\"id\":\"e1412504-ceff-4a72-8744-801e16017e63\",\"type\":\"BasicTicker\"},{\"attributes\":{\"text_color\":{\"value\":\"black\"},\"text_font_size\":{\"value\":\"1.5em\"},\"x\":{\"value\":0},\"y\":{\"value\":2}},\"id\":\"265afa2e-6bb6-4fca-8d76-646f1c47f1b8\",\"type\":\"Text\"},{\"attributes\":{\"callback\":null,\"end\":2.5,\"start\":0.5},\"id\":\"857f8e16-62e8-4115-8347-b0ab9665cd1d\",\"type\":\"Range1d\"},{\"attributes\":{\"plot\":{\"id\":\"9df6a913-9fcb-47fb-9df5-5285d1e3550e\",\"subtype\":\"Figure\",\"type\":\"Plot\"},\"ticker\":{\"id\":\"695ea826-0641-4b07-9db2-bfc43b2ded1f\",\"type\":\"BasicTicker\"}},\"id\":\"34787f08-b5a0-4998-8508-99e302f26007\",\"type\":\"Grid\"},{\"attributes\":{\"callback\":null,\"column_names\":[\"text\"],\"data\":{\"text\":[\"1.5em\"]}},\"id\":\"f46328ad-e474-42e4-846f-4f6632a966cc\",\"type\":\"ColumnDataSource\"},{\"attributes\":{\"callback\":null},\"id\":\"3425506c-a8e8-43dc-95a8-b14c8ef7a8f4\",\"type\":\"DataRange1d\"},{\"attributes\":{},\"id\":\"a75ce591-c398-4c9d-8051-db5834e6c196\",\"type\":\"LinearScale\"},{\"attributes\":{},\"id\":\"3456d0e3-27f3-44f6-b043-97225a8dc4f5\",\"type\":\"PanTool\"},{\"attributes\":{\"plot\":null,\"text\":\"\"},\"id\":\"04f98831-9b99-4894-a217-3c1ad7b056bb\",\"type\":\"Title\"},{\"attributes\":{\"below\":[{\"id\":\"a3e18635-638f-4cf5-8ffe-a8d75ad52923\",\"type\":\"LinearAxis\"}],\"left\":[{\"id\":\"ef5aa026-ee47-4bc1-b8f0-b74f6e2ae394\",\"type\":\"LinearAxis\"}],\"plot_height\":200,\"plot_width\":200,\"renderers\":[{\"id\":\"a3e18635-638f-4cf5-8ffe-a8d75ad52923\",\"type\":\"LinearAxis\"},{\"id\":\"34787f08-b5a0-4998-8508-99e302f26007\",\"type\":\"Grid\"},{\"id\":\"ef5aa026-ee47-4bc1-b8f0-b74f6e2ae394\",\"type\":\"LinearAxis\"},{\"id\":\"1709b56d-f316-404b-89c5-0e94e45dc4d9\",\"type\":\"Grid\"},{\"id\":\"34c83592-ea52-41b8-a138-8ebfdf247ee3\",\"type\":\"BoxAnnotation\"},{\"id\":\"72609f05-22c3-4a51-a597-5d9efe4144b5\",\"type\":\"GlyphRenderer\"},{\"id\":\"1e9ac5ce-24c5-4122-a69b-159fb1bbf1a4\",\"type\":\"GlyphRenderer\"}],\"title\":{\"id\":\"04f98831-9b99-4894-a217-3c1ad7b056bb\",\"type\":\"Title\"},\"toolbar\":{\"id\":\"ecb652b2-e839-4501-bb73-2a224e029841\",\"type\":\"Toolbar\"},\"x_range\":{\"id\":\"3425506c-a8e8-43dc-95a8-b14c8ef7a8f4\",\"type\":\"DataRange1d\"},\"x_scale\":{\"id\":\"7d21976e-a7e5-491b-a80a-7dd813c464be\",\"type\":\"LinearScale\"},\"y_range\":{\"id\":\"857f8e16-62e8-4115-8347-b0ab9665cd1d\",\"type\":\"Range1d\"},\"y_scale\":{\"id\":\"a75ce591-c398-4c9d-8051-db5834e6c196\",\"type\":\"LinearScale\"}},\"id\":\"9df6a913-9fcb-47fb-9df5-5285d1e3550e\",\"subtype\":\"Figure\",\"type\":\"Plot\"},{\"attributes\":{},\"id\":\"c5480aa5-a2bc-4e88-ba8f-ffb1f81988d1\",\"type\":\"SaveTool\"},{\"attributes\":{\"callback\":null,\"column_names\":[\"text\"],\"data\":{\"text\":[\"12pt\"]}},\"id\":\"87a39ed5-32ea-4849-bf63-f62de7d7d98d\",\"type\":\"ColumnDataSource\"},{\"attributes\":{},\"id\":\"f110288c-97ba-4270-900f-be2ab226b2a2\",\"type\":\"BasicTickFormatter\"},{\"attributes\":{},\"id\":\"4761c4a8-c78c-4b72-89fe-19aade9a72f1\",\"type\":\"ResetTool\"},{\"attributes\":{\"formatter\":{\"id\":\"f110288c-97ba-4270-900f-be2ab226b2a2\",\"type\":\"BasicTickFormatter\"},\"plot\":{\"id\":\"9df6a913-9fcb-47fb-9df5-5285d1e3550e\",\"subtype\":\"Figure\",\"type\":\"Plot\"},\"ticker\":{\"id\":\"e1412504-ceff-4a72-8744-801e16017e63\",\"type\":\"BasicTicker\"}},\"id\":\"ef5aa026-ee47-4bc1-b8f0-b74f6e2ae394\",\"type\":\"LinearAxis\"},{\"attributes\":{\"overlay\":{\"id\":\"34c83592-ea52-41b8-a138-8ebfdf247ee3\",\"type\":\"BoxAnnotation\"}},\"id\":\"2f61976b-76c3-42c8-895b-0738d6a2fd06\",\"type\":\"BoxZoomTool\"}],\"root_ids\":[\"9df6a913-9fcb-47fb-9df5-5285d1e3550e\"]},\"title\":\"Bokeh Application\",\"version\":\"0.12.10\"}};\n",
       "    var render_items = [{\"docid\":\"fae2f959-bb45-4f5c-ab78-775970be5ec4\",\"elementid\":\"93ddc1ab-23a8-42af-aa48-dc8f55d10eb0\",\"modelid\":\"9df6a913-9fcb-47fb-9df5-5285d1e3550e\"}];\n",
       "\n",
       "    root.Bokeh.embed.embed_items(docs_json, render_items);\n",
       "  }\n",
       "\n",
       "  if (root.Bokeh !== undefined) {\n",
       "    embed_document(root);\n",
       "  } else {\n",
       "    var attempts = 0;\n",
       "    var timer = setInterval(function(root) {\n",
       "      if (root.Bokeh !== undefined) {\n",
       "        embed_document(root);\n",
       "        clearInterval(timer);\n",
       "      }\n",
       "      attempts++;\n",
       "      if (attempts > 100) {\n",
       "        console.log(\"Bokeh: ERROR: Unable to embed document because BokehJS library is missing\")\n",
       "        clearInterval(timer);\n",
       "      }\n",
       "    }, 10, root)\n",
       "  }\n",
       "})(window);"
      ],
      "application/vnd.bokehjs_exec.v0+json": ""
     },
     "metadata": {
      "application/vnd.bokehjs_exec.v0+json": {
       "id": "9df6a913-9fcb-47fb-9df5-5285d1e3550e"
      }
     },
     "output_type": "display_data"
    }
   ],
   "source": [
    "# フォントサイズの設定\n",
    "p = figure(plot_width=200, plot_height=200, y_range=(0.5, 2.5))\n",
    "p.text(0, 1, text=['12pt'], text_font_size='12pt')\n",
    "p.text(0, 2, text=['1.5em'], text_font_size='1.5em')\n",
    "show(p)"
   ]
  },
  {
   "cell_type": "code",
   "execution_count": 13,
   "metadata": {},
   "outputs": [
    {
     "data": {
      "text/html": [
       "\n",
       "<div class=\"bk-root\">\n",
       "    <div class=\"bk-plotdiv\" id=\"bf9d3890-0674-42a4-9aa0-a27eb22d53e3\"></div>\n",
       "</div>"
      ]
     },
     "metadata": {},
     "output_type": "display_data"
    },
    {
     "data": {
      "application/javascript": [
       "(function(root) {\n",
       "  function embed_document(root) {\n",
       "    var docs_json = {\"602bb2e1-9887-44bc-9259-19c41c858811\":{\"roots\":{\"references\":[{\"attributes\":{},\"id\":\"3e982a87-7650-45fb-a4b5-90c9cb3b1e2a\",\"type\":\"ResetTool\"},{\"attributes\":{},\"id\":\"15a68b2f-9647-4471-acf3-6a51856083de\",\"type\":\"HelpTool\"},{\"attributes\":{\"text_alpha\":{\"value\":0.1},\"text_color\":{\"value\":\"black\"},\"text_font_style\":\"bold\",\"x\":{\"value\":0},\"y\":{\"value\":2}},\"id\":\"a5c39cf6-a6da-4891-a325-1d38b2a5ecac\",\"type\":\"Text\"},{\"attributes\":{\"text_color\":{\"value\":\"black\"},\"text_font_style\":\"bold\",\"x\":{\"value\":0},\"y\":{\"value\":2}},\"id\":\"29fc53e4-75d6-42e0-8347-7d4709da32de\",\"type\":\"Text\"},{\"attributes\":{},\"id\":\"fb4ff72a-e4d1-470b-a198-27fdb9089f3d\",\"type\":\"PanTool\"},{\"attributes\":{\"bottom_units\":\"screen\",\"fill_alpha\":{\"value\":0.5},\"fill_color\":{\"value\":\"lightgrey\"},\"left_units\":\"screen\",\"level\":\"overlay\",\"line_alpha\":{\"value\":1.0},\"line_color\":{\"value\":\"black\"},\"line_dash\":[4,4],\"line_width\":{\"value\":2},\"plot\":null,\"render_mode\":\"css\",\"right_units\":\"screen\",\"top_units\":\"screen\"},\"id\":\"37422985-969d-4208-99ea-16b6616e96d7\",\"type\":\"BoxAnnotation\"},{\"attributes\":{\"overlay\":{\"id\":\"37422985-969d-4208-99ea-16b6616e96d7\",\"type\":\"BoxAnnotation\"}},\"id\":\"69e1ed62-5c66-4887-8374-607427b31763\",\"type\":\"BoxZoomTool\"},{\"attributes\":{},\"id\":\"55fa0375-a60e-4869-b0fc-32bca58f8e02\",\"type\":\"BasicTickFormatter\"},{\"attributes\":{},\"id\":\"71dc91fe-3cce-4296-a7ca-b179001ff098\",\"type\":\"SaveTool\"},{\"attributes\":{\"data_source\":{\"id\":\"039ef115-27d2-4ee8-832a-5376451d0d71\",\"type\":\"ColumnDataSource\"},\"glyph\":{\"id\":\"29fc53e4-75d6-42e0-8347-7d4709da32de\",\"type\":\"Text\"},\"hover_glyph\":null,\"muted_glyph\":null,\"nonselection_glyph\":{\"id\":\"a5c39cf6-a6da-4891-a325-1d38b2a5ecac\",\"type\":\"Text\"},\"selection_glyph\":null,\"view\":{\"id\":\"d9bc0ffd-0917-4fc5-8793-e7125cb2e703\",\"type\":\"CDSView\"}},\"id\":\"b3377739-5417-4578-bb88-d98da9ead314\",\"type\":\"GlyphRenderer\"},{\"attributes\":{\"source\":{\"id\":\"039ef115-27d2-4ee8-832a-5376451d0d71\",\"type\":\"ColumnDataSource\"}},\"id\":\"d9bc0ffd-0917-4fc5-8793-e7125cb2e703\",\"type\":\"CDSView\"},{\"attributes\":{\"callback\":null,\"column_names\":[\"text\"],\"data\":{\"text\":[\"bold\"]}},\"id\":\"039ef115-27d2-4ee8-832a-5376451d0d71\",\"type\":\"ColumnDataSource\"},{\"attributes\":{},\"id\":\"ac804d56-1fb0-4a64-9f8b-dd0ca46a828b\",\"type\":\"LinearScale\"},{\"attributes\":{\"text_color\":{\"value\":\"black\"},\"text_font_style\":\"italic\",\"x\":{\"value\":0},\"y\":{\"value\":1}},\"id\":\"e14184a1-52f2-4ae0-ad75-b7a2b91ec4b4\",\"type\":\"Text\"},{\"attributes\":{\"plot\":null,\"text\":\"\"},\"id\":\"ca3bb88f-0206-428e-b250-a6cc8b259caf\",\"type\":\"Title\"},{\"attributes\":{\"data_source\":{\"id\":\"b67d70d3-f5f6-4fc0-9508-dd5e5a613b82\",\"type\":\"ColumnDataSource\"},\"glyph\":{\"id\":\"e14184a1-52f2-4ae0-ad75-b7a2b91ec4b4\",\"type\":\"Text\"},\"hover_glyph\":null,\"muted_glyph\":null,\"nonselection_glyph\":{\"id\":\"e8925f52-cd5c-4919-b5f8-54daa8fd6f3b\",\"type\":\"Text\"},\"selection_glyph\":null,\"view\":{\"id\":\"6f9923b5-a377-4df5-8cb8-5521fb2196b4\",\"type\":\"CDSView\"}},\"id\":\"d0d8dd19-b191-4d62-8c93-b188dced8989\",\"type\":\"GlyphRenderer\"},{\"attributes\":{},\"id\":\"f5ede863-637d-467f-bed7-0fca6e398552\",\"type\":\"LinearScale\"},{\"attributes\":{\"callback\":null,\"end\":2.5,\"start\":0.5},\"id\":\"cbf06d67-7451-4d50-9a97-70f6e2c1f823\",\"type\":\"Range1d\"},{\"attributes\":{\"text_alpha\":{\"value\":0.1},\"text_color\":{\"value\":\"black\"},\"text_font_style\":\"italic\",\"x\":{\"value\":0},\"y\":{\"value\":1}},\"id\":\"e8925f52-cd5c-4919-b5f8-54daa8fd6f3b\",\"type\":\"Text\"},{\"attributes\":{\"source\":{\"id\":\"b67d70d3-f5f6-4fc0-9508-dd5e5a613b82\",\"type\":\"ColumnDataSource\"}},\"id\":\"6f9923b5-a377-4df5-8cb8-5521fb2196b4\",\"type\":\"CDSView\"},{\"attributes\":{\"callback\":null},\"id\":\"c2447b60-64ad-4c80-addd-5a97fb32a9fa\",\"type\":\"DataRange1d\"},{\"attributes\":{},\"id\":\"d0ddd733-3438-479f-9e91-5779d9f3f095\",\"type\":\"WheelZoomTool\"},{\"attributes\":{\"active_drag\":\"auto\",\"active_inspect\":\"auto\",\"active_scroll\":\"auto\",\"active_tap\":\"auto\",\"tools\":[{\"id\":\"fb4ff72a-e4d1-470b-a198-27fdb9089f3d\",\"type\":\"PanTool\"},{\"id\":\"d0ddd733-3438-479f-9e91-5779d9f3f095\",\"type\":\"WheelZoomTool\"},{\"id\":\"69e1ed62-5c66-4887-8374-607427b31763\",\"type\":\"BoxZoomTool\"},{\"id\":\"71dc91fe-3cce-4296-a7ca-b179001ff098\",\"type\":\"SaveTool\"},{\"id\":\"3e982a87-7650-45fb-a4b5-90c9cb3b1e2a\",\"type\":\"ResetTool\"},{\"id\":\"15a68b2f-9647-4471-acf3-6a51856083de\",\"type\":\"HelpTool\"}]},\"id\":\"05ed477b-3bbc-473d-8be0-3f7d54d05704\",\"type\":\"Toolbar\"},{\"attributes\":{\"callback\":null,\"column_names\":[\"text\"],\"data\":{\"text\":[\"italic\"]}},\"id\":\"b67d70d3-f5f6-4fc0-9508-dd5e5a613b82\",\"type\":\"ColumnDataSource\"},{\"attributes\":{\"below\":[{\"id\":\"6fbef0a9-0e16-4b92-85c0-4da8fedb6a1f\",\"type\":\"LinearAxis\"}],\"left\":[{\"id\":\"502b01e6-0705-4edb-a13b-4645c5bf2393\",\"type\":\"LinearAxis\"}],\"plot_height\":200,\"plot_width\":200,\"renderers\":[{\"id\":\"6fbef0a9-0e16-4b92-85c0-4da8fedb6a1f\",\"type\":\"LinearAxis\"},{\"id\":\"c9a4355a-c217-446e-9280-c64c5ab61e98\",\"type\":\"Grid\"},{\"id\":\"502b01e6-0705-4edb-a13b-4645c5bf2393\",\"type\":\"LinearAxis\"},{\"id\":\"2b69b28d-5be4-4dfc-8f4a-0f1dde7cdb85\",\"type\":\"Grid\"},{\"id\":\"37422985-969d-4208-99ea-16b6616e96d7\",\"type\":\"BoxAnnotation\"},{\"id\":\"d0d8dd19-b191-4d62-8c93-b188dced8989\",\"type\":\"GlyphRenderer\"},{\"id\":\"b3377739-5417-4578-bb88-d98da9ead314\",\"type\":\"GlyphRenderer\"}],\"title\":{\"id\":\"ca3bb88f-0206-428e-b250-a6cc8b259caf\",\"type\":\"Title\"},\"toolbar\":{\"id\":\"05ed477b-3bbc-473d-8be0-3f7d54d05704\",\"type\":\"Toolbar\"},\"x_range\":{\"id\":\"c2447b60-64ad-4c80-addd-5a97fb32a9fa\",\"type\":\"DataRange1d\"},\"x_scale\":{\"id\":\"f5ede863-637d-467f-bed7-0fca6e398552\",\"type\":\"LinearScale\"},\"y_range\":{\"id\":\"cbf06d67-7451-4d50-9a97-70f6e2c1f823\",\"type\":\"Range1d\"},\"y_scale\":{\"id\":\"ac804d56-1fb0-4a64-9f8b-dd0ca46a828b\",\"type\":\"LinearScale\"}},\"id\":\"c6349dab-f744-4a84-a917-018e02bf8bee\",\"subtype\":\"Figure\",\"type\":\"Plot\"},{\"attributes\":{\"plot\":{\"id\":\"c6349dab-f744-4a84-a917-018e02bf8bee\",\"subtype\":\"Figure\",\"type\":\"Plot\"},\"ticker\":{\"id\":\"f6b31064-5486-4d75-b26e-f0000289eadc\",\"type\":\"BasicTicker\"}},\"id\":\"c9a4355a-c217-446e-9280-c64c5ab61e98\",\"type\":\"Grid\"},{\"attributes\":{},\"id\":\"f6b31064-5486-4d75-b26e-f0000289eadc\",\"type\":\"BasicTicker\"},{\"attributes\":{\"formatter\":{\"id\":\"0e4b5bfe-f852-46a5-ae06-7e7755db95b5\",\"type\":\"BasicTickFormatter\"},\"plot\":{\"id\":\"c6349dab-f744-4a84-a917-018e02bf8bee\",\"subtype\":\"Figure\",\"type\":\"Plot\"},\"ticker\":{\"id\":\"f6b31064-5486-4d75-b26e-f0000289eadc\",\"type\":\"BasicTicker\"}},\"id\":\"6fbef0a9-0e16-4b92-85c0-4da8fedb6a1f\",\"type\":\"LinearAxis\"},{\"attributes\":{},\"id\":\"0e4b5bfe-f852-46a5-ae06-7e7755db95b5\",\"type\":\"BasicTickFormatter\"},{\"attributes\":{},\"id\":\"d0a7055b-428b-4d41-9572-b20d51c4656f\",\"type\":\"BasicTicker\"},{\"attributes\":{\"formatter\":{\"id\":\"55fa0375-a60e-4869-b0fc-32bca58f8e02\",\"type\":\"BasicTickFormatter\"},\"plot\":{\"id\":\"c6349dab-f744-4a84-a917-018e02bf8bee\",\"subtype\":\"Figure\",\"type\":\"Plot\"},\"ticker\":{\"id\":\"d0a7055b-428b-4d41-9572-b20d51c4656f\",\"type\":\"BasicTicker\"}},\"id\":\"502b01e6-0705-4edb-a13b-4645c5bf2393\",\"type\":\"LinearAxis\"},{\"attributes\":{\"dimension\":1,\"plot\":{\"id\":\"c6349dab-f744-4a84-a917-018e02bf8bee\",\"subtype\":\"Figure\",\"type\":\"Plot\"},\"ticker\":{\"id\":\"d0a7055b-428b-4d41-9572-b20d51c4656f\",\"type\":\"BasicTicker\"}},\"id\":\"2b69b28d-5be4-4dfc-8f4a-0f1dde7cdb85\",\"type\":\"Grid\"}],\"root_ids\":[\"c6349dab-f744-4a84-a917-018e02bf8bee\"]},\"title\":\"Bokeh Application\",\"version\":\"0.12.10\"}};\n",
       "    var render_items = [{\"docid\":\"602bb2e1-9887-44bc-9259-19c41c858811\",\"elementid\":\"bf9d3890-0674-42a4-9aa0-a27eb22d53e3\",\"modelid\":\"c6349dab-f744-4a84-a917-018e02bf8bee\"}];\n",
       "\n",
       "    root.Bokeh.embed.embed_items(docs_json, render_items);\n",
       "  }\n",
       "\n",
       "  if (root.Bokeh !== undefined) {\n",
       "    embed_document(root);\n",
       "  } else {\n",
       "    var attempts = 0;\n",
       "    var timer = setInterval(function(root) {\n",
       "      if (root.Bokeh !== undefined) {\n",
       "        embed_document(root);\n",
       "        clearInterval(timer);\n",
       "      }\n",
       "      attempts++;\n",
       "      if (attempts > 100) {\n",
       "        console.log(\"Bokeh: ERROR: Unable to embed document because BokehJS library is missing\")\n",
       "        clearInterval(timer);\n",
       "      }\n",
       "    }, 10, root)\n",
       "  }\n",
       "})(window);"
      ],
      "application/vnd.bokehjs_exec.v0+json": ""
     },
     "metadata": {
      "application/vnd.bokehjs_exec.v0+json": {
       "id": "c6349dab-f744-4a84-a917-018e02bf8bee"
      }
     },
     "output_type": "display_data"
    }
   ],
   "source": [
    "# フォントスタイルの設定\n",
    "p = figure(plot_width=200, plot_height=200, y_range=(0.5, 2.5))\n",
    "p.text(0, 1, text=['italic'], text_font_style='italic')\n",
    "p.text(0, 2, text=['bold'], text_font_style='bold')\n",
    "show(p)"
   ]
  },
  {
   "cell_type": "code",
   "execution_count": 14,
   "metadata": {},
   "outputs": [
    {
     "data": {
      "text/html": [
       "\n",
       "<div class=\"bk-root\">\n",
       "    <div class=\"bk-plotdiv\" id=\"7d1ad476-adcd-49b7-a375-be98601a6b2c\"></div>\n",
       "</div>"
      ]
     },
     "metadata": {},
     "output_type": "display_data"
    },
    {
     "data": {
      "application/javascript": [
       "(function(root) {\n",
       "  function embed_document(root) {\n",
       "    var docs_json = {\"35c8dd6f-1542-4fca-a1cb-897f3da579bf\":{\"roots\":{\"references\":[{\"attributes\":{\"bottom_units\":\"screen\",\"fill_alpha\":{\"value\":0.5},\"fill_color\":{\"value\":\"lightgrey\"},\"left_units\":\"screen\",\"level\":\"overlay\",\"line_alpha\":{\"value\":1.0},\"line_color\":{\"value\":\"black\"},\"line_dash\":[4,4],\"line_width\":{\"value\":2},\"plot\":null,\"render_mode\":\"css\",\"right_units\":\"screen\",\"top_units\":\"screen\"},\"id\":\"bf59f91d-462d-4b64-b28b-2dd6e4c35dde\",\"type\":\"BoxAnnotation\"},{\"attributes\":{\"plot\":{\"id\":\"e1325003-209c-4fe7-a1a7-2e3a67616a4f\",\"subtype\":\"Figure\",\"type\":\"Plot\"},\"ticker\":{\"id\":\"4111d83f-8030-4755-8276-a88756da7399\",\"type\":\"BasicTicker\"}},\"id\":\"d51bf07e-121a-4a40-bef5-f55693d8dc45\",\"type\":\"Grid\"},{\"attributes\":{\"source\":{\"id\":\"01b0f5f4-be06-4d17-bdfc-4c1b91fc5926\",\"type\":\"ColumnDataSource\"}},\"id\":\"72ba6908-9bae-415c-adf7-f699d1860d9d\",\"type\":\"CDSView\"},{\"attributes\":{\"callback\":null,\"column_names\":[\"text\"],\"data\":{\"text\":[\"red\"]}},\"id\":\"01b0f5f4-be06-4d17-bdfc-4c1b91fc5926\",\"type\":\"ColumnDataSource\"},{\"attributes\":{\"below\":[{\"id\":\"4237c8f7-96d9-4244-bb89-edfc105b30c4\",\"type\":\"LinearAxis\"}],\"left\":[{\"id\":\"03d64a0f-ecfe-4be4-b4ec-b9bdd1f79a01\",\"type\":\"LinearAxis\"}],\"plot_height\":200,\"plot_width\":200,\"renderers\":[{\"id\":\"4237c8f7-96d9-4244-bb89-edfc105b30c4\",\"type\":\"LinearAxis\"},{\"id\":\"d51bf07e-121a-4a40-bef5-f55693d8dc45\",\"type\":\"Grid\"},{\"id\":\"03d64a0f-ecfe-4be4-b4ec-b9bdd1f79a01\",\"type\":\"LinearAxis\"},{\"id\":\"1f077dd6-65df-4005-bc39-0997f6002a01\",\"type\":\"Grid\"},{\"id\":\"bf59f91d-462d-4b64-b28b-2dd6e4c35dde\",\"type\":\"BoxAnnotation\"},{\"id\":\"b0091765-ce9e-4ce0-8d77-d9175722e645\",\"type\":\"GlyphRenderer\"},{\"id\":\"69c2fb87-b4a3-4cc1-8258-fc94d19af481\",\"type\":\"GlyphRenderer\"}],\"title\":{\"id\":\"d40ea10a-55d6-4474-861d-909d7e06b063\",\"type\":\"Title\"},\"toolbar\":{\"id\":\"b248584e-b248-47ed-a5f1-45306b50059b\",\"type\":\"Toolbar\"},\"x_range\":{\"id\":\"fc096007-30e3-405e-b136-a6b16e2ce347\",\"type\":\"Range1d\"},\"x_scale\":{\"id\":\"cc4ab808-b86d-4e43-95d8-1662de7a5b52\",\"type\":\"LinearScale\"},\"y_range\":{\"id\":\"cb2eec5f-58a1-4c85-bb08-331cacc969a2\",\"type\":\"Range1d\"},\"y_scale\":{\"id\":\"f7070603-a41e-4ddf-863d-dd6ad4c42269\",\"type\":\"LinearScale\"}},\"id\":\"e1325003-209c-4fe7-a1a7-2e3a67616a4f\",\"subtype\":\"Figure\",\"type\":\"Plot\"},{\"attributes\":{\"text_color\":{\"value\":\"red\"},\"x\":{\"value\":0},\"y\":{\"value\":2}},\"id\":\"192b17bb-949e-403e-9406-85f52d548f02\",\"type\":\"Text\"},{\"attributes\":{\"callback\":null,\"column_names\":[\"text\"],\"data\":{\"text\":[\"(0, 255, 0, 0.5)\"]}},\"id\":\"a76bacfc-0e00-43b3-ac23-cdbde95d684e\",\"type\":\"ColumnDataSource\"},{\"attributes\":{\"text_alpha\":{\"value\":0.1},\"text_color\":{\"value\":\"black\"},\"x\":{\"value\":0},\"y\":{\"value\":2}},\"id\":\"97f6e9aa-3aa8-4681-b503-2f19cc863d72\",\"type\":\"Text\"},{\"attributes\":{},\"id\":\"4111d83f-8030-4755-8276-a88756da7399\",\"type\":\"BasicTicker\"},{\"attributes\":{\"formatter\":{\"id\":\"0f971cd4-c815-499f-a67d-4c86e44d64a9\",\"type\":\"BasicTickFormatter\"},\"plot\":{\"id\":\"e1325003-209c-4fe7-a1a7-2e3a67616a4f\",\"subtype\":\"Figure\",\"type\":\"Plot\"},\"ticker\":{\"id\":\"4111d83f-8030-4755-8276-a88756da7399\",\"type\":\"BasicTicker\"}},\"id\":\"4237c8f7-96d9-4244-bb89-edfc105b30c4\",\"type\":\"LinearAxis\"},{\"attributes\":{},\"id\":\"cc4ab808-b86d-4e43-95d8-1662de7a5b52\",\"type\":\"LinearScale\"},{\"attributes\":{\"formatter\":{\"id\":\"b06bbacc-cc6b-4d44-b999-f9d7b180d523\",\"type\":\"BasicTickFormatter\"},\"plot\":{\"id\":\"e1325003-209c-4fe7-a1a7-2e3a67616a4f\",\"subtype\":\"Figure\",\"type\":\"Plot\"},\"ticker\":{\"id\":\"354bf220-9349-415f-9763-32cbd2db28e5\",\"type\":\"BasicTicker\"}},\"id\":\"03d64a0f-ecfe-4be4-b4ec-b9bdd1f79a01\",\"type\":\"LinearAxis\"},{\"attributes\":{\"overlay\":{\"id\":\"bf59f91d-462d-4b64-b28b-2dd6e4c35dde\",\"type\":\"BoxAnnotation\"}},\"id\":\"1eae3a01-3850-4ce0-abb9-d32dce2d270b\",\"type\":\"BoxZoomTool\"},{\"attributes\":{},\"id\":\"f7070603-a41e-4ddf-863d-dd6ad4c42269\",\"type\":\"LinearScale\"},{\"attributes\":{},\"id\":\"8118f1fe-3f36-4f88-9903-aa1f57c8a21e\",\"type\":\"HelpTool\"},{\"attributes\":{},\"id\":\"0f971cd4-c815-499f-a67d-4c86e44d64a9\",\"type\":\"BasicTickFormatter\"},{\"attributes\":{},\"id\":\"71af8061-56ac-4c13-8938-83139fb9a53e\",\"type\":\"WheelZoomTool\"},{\"attributes\":{\"source\":{\"id\":\"a76bacfc-0e00-43b3-ac23-cdbde95d684e\",\"type\":\"ColumnDataSource\"}},\"id\":\"00e3f73e-9394-465c-9693-e411bacbdcb3\",\"type\":\"CDSView\"},{\"attributes\":{},\"id\":\"56b866a9-3522-4895-9cb9-17fa9d4eb840\",\"type\":\"PanTool\"},{\"attributes\":{},\"id\":\"654d7b4b-ba14-49dd-8ed4-5617353657a9\",\"type\":\"SaveTool\"},{\"attributes\":{},\"id\":\"354bf220-9349-415f-9763-32cbd2db28e5\",\"type\":\"BasicTicker\"},{\"attributes\":{},\"id\":\"2d83d4a5-fff8-4b44-ba8a-8487b4a19e81\",\"type\":\"ResetTool\"},{\"attributes\":{\"plot\":null,\"text\":\"\"},\"id\":\"d40ea10a-55d6-4474-861d-909d7e06b063\",\"type\":\"Title\"},{\"attributes\":{\"text_color\":{\"value\":\"rgba(0, 255, 0, 0.5)\"},\"x\":{\"value\":0},\"y\":{\"value\":1}},\"id\":\"e9129d3a-1071-4201-b89e-3aaf4a7f5da3\",\"type\":\"Text\"},{\"attributes\":{\"data_source\":{\"id\":\"a76bacfc-0e00-43b3-ac23-cdbde95d684e\",\"type\":\"ColumnDataSource\"},\"glyph\":{\"id\":\"e9129d3a-1071-4201-b89e-3aaf4a7f5da3\",\"type\":\"Text\"},\"hover_glyph\":null,\"muted_glyph\":null,\"nonselection_glyph\":{\"id\":\"e66d4be0-76b0-48a7-889f-95d3dd746fe6\",\"type\":\"Text\"},\"selection_glyph\":null,\"view\":{\"id\":\"00e3f73e-9394-465c-9693-e411bacbdcb3\",\"type\":\"CDSView\"}},\"id\":\"69c2fb87-b4a3-4cc1-8258-fc94d19af481\",\"type\":\"GlyphRenderer\"},{\"attributes\":{},\"id\":\"b06bbacc-cc6b-4d44-b999-f9d7b180d523\",\"type\":\"BasicTickFormatter\"},{\"attributes\":{\"callback\":null,\"end\":2.7,\"start\":-1},\"id\":\"fc096007-30e3-405e-b136-a6b16e2ce347\",\"type\":\"Range1d\"},{\"attributes\":{\"text_alpha\":{\"value\":0.1},\"text_color\":{\"value\":\"black\"},\"x\":{\"value\":0},\"y\":{\"value\":1}},\"id\":\"e66d4be0-76b0-48a7-889f-95d3dd746fe6\",\"type\":\"Text\"},{\"attributes\":{\"callback\":null,\"end\":2.5,\"start\":0.5},\"id\":\"cb2eec5f-58a1-4c85-bb08-331cacc969a2\",\"type\":\"Range1d\"},{\"attributes\":{\"dimension\":1,\"plot\":{\"id\":\"e1325003-209c-4fe7-a1a7-2e3a67616a4f\",\"subtype\":\"Figure\",\"type\":\"Plot\"},\"ticker\":{\"id\":\"354bf220-9349-415f-9763-32cbd2db28e5\",\"type\":\"BasicTicker\"}},\"id\":\"1f077dd6-65df-4005-bc39-0997f6002a01\",\"type\":\"Grid\"},{\"attributes\":{\"data_source\":{\"id\":\"01b0f5f4-be06-4d17-bdfc-4c1b91fc5926\",\"type\":\"ColumnDataSource\"},\"glyph\":{\"id\":\"192b17bb-949e-403e-9406-85f52d548f02\",\"type\":\"Text\"},\"hover_glyph\":null,\"muted_glyph\":null,\"nonselection_glyph\":{\"id\":\"97f6e9aa-3aa8-4681-b503-2f19cc863d72\",\"type\":\"Text\"},\"selection_glyph\":null,\"view\":{\"id\":\"72ba6908-9bae-415c-adf7-f699d1860d9d\",\"type\":\"CDSView\"}},\"id\":\"b0091765-ce9e-4ce0-8d77-d9175722e645\",\"type\":\"GlyphRenderer\"},{\"attributes\":{\"active_drag\":\"auto\",\"active_inspect\":\"auto\",\"active_scroll\":\"auto\",\"active_tap\":\"auto\",\"tools\":[{\"id\":\"56b866a9-3522-4895-9cb9-17fa9d4eb840\",\"type\":\"PanTool\"},{\"id\":\"71af8061-56ac-4c13-8938-83139fb9a53e\",\"type\":\"WheelZoomTool\"},{\"id\":\"1eae3a01-3850-4ce0-abb9-d32dce2d270b\",\"type\":\"BoxZoomTool\"},{\"id\":\"654d7b4b-ba14-49dd-8ed4-5617353657a9\",\"type\":\"SaveTool\"},{\"id\":\"2d83d4a5-fff8-4b44-ba8a-8487b4a19e81\",\"type\":\"ResetTool\"},{\"id\":\"8118f1fe-3f36-4f88-9903-aa1f57c8a21e\",\"type\":\"HelpTool\"}]},\"id\":\"b248584e-b248-47ed-a5f1-45306b50059b\",\"type\":\"Toolbar\"}],\"root_ids\":[\"e1325003-209c-4fe7-a1a7-2e3a67616a4f\"]},\"title\":\"Bokeh Application\",\"version\":\"0.12.10\"}};\n",
       "    var render_items = [{\"docid\":\"35c8dd6f-1542-4fca-a1cb-897f3da579bf\",\"elementid\":\"7d1ad476-adcd-49b7-a375-be98601a6b2c\",\"modelid\":\"e1325003-209c-4fe7-a1a7-2e3a67616a4f\"}];\n",
       "\n",
       "    root.Bokeh.embed.embed_items(docs_json, render_items);\n",
       "  }\n",
       "\n",
       "  if (root.Bokeh !== undefined) {\n",
       "    embed_document(root);\n",
       "  } else {\n",
       "    var attempts = 0;\n",
       "    var timer = setInterval(function(root) {\n",
       "      if (root.Bokeh !== undefined) {\n",
       "        embed_document(root);\n",
       "        clearInterval(timer);\n",
       "      }\n",
       "      attempts++;\n",
       "      if (attempts > 100) {\n",
       "        console.log(\"Bokeh: ERROR: Unable to embed document because BokehJS library is missing\")\n",
       "        clearInterval(timer);\n",
       "      }\n",
       "    }, 10, root)\n",
       "  }\n",
       "})(window);"
      ],
      "application/vnd.bokehjs_exec.v0+json": ""
     },
     "metadata": {
      "application/vnd.bokehjs_exec.v0+json": {
       "id": "e1325003-209c-4fe7-a1a7-2e3a67616a4f"
      }
     },
     "output_type": "display_data"
    }
   ],
   "source": [
    "# text color\n",
    "p = figure(plot_width=200, plot_height=200, x_range=(-1, 2.7), y_range=(0.5, 2.5))\n",
    "p.text(0, 2, text=['red'], text_color='red')\n",
    "p.text(0, 1, text=['(0, 255, 0, 0.5)'], text_color=(0, 255, 0, 0.5))\n",
    "show(p)"
   ]
  },
  {
   "cell_type": "code",
   "execution_count": 15,
   "metadata": {},
   "outputs": [
    {
     "data": {
      "text/html": [
       "\n",
       "<div class=\"bk-root\">\n",
       "    <div class=\"bk-plotdiv\" id=\"791d8aa3-bec0-46a3-99a3-da15369907b6\"></div>\n",
       "</div>"
      ]
     },
     "metadata": {},
     "output_type": "display_data"
    },
    {
     "data": {
      "application/javascript": [
       "(function(root) {\n",
       "  function embed_document(root) {\n",
       "    var docs_json = {\"ab1a7f83-7ac3-40d5-9483-9f33e5476fc4\":{\"roots\":{\"references\":[{\"attributes\":{\"overlay\":{\"id\":\"7a756158-843c-4602-a20a-4b813da8ad12\",\"type\":\"BoxAnnotation\"}},\"id\":\"08e9b59a-6f1e-4b7f-b245-fbdae035287c\",\"type\":\"BoxZoomTool\"},{\"attributes\":{},\"id\":\"72618ead-6328-499b-8849-29293d35bf7d\",\"type\":\"BasicTickFormatter\"},{\"attributes\":{\"data_source\":{\"id\":\"ee037702-0751-43d9-ba77-eab4e84d6a97\",\"type\":\"ColumnDataSource\"},\"glyph\":{\"id\":\"d2db768e-98cc-4d7f-a346-40086fee6940\",\"type\":\"Text\"},\"hover_glyph\":null,\"muted_glyph\":null,\"nonselection_glyph\":{\"id\":\"3ad76cd1-e00a-4f2d-a031-faa1758a56d2\",\"type\":\"Text\"},\"selection_glyph\":null,\"view\":{\"id\":\"b50f261d-c6ec-4271-9d96-4311883596ed\",\"type\":\"CDSView\"}},\"id\":\"87bb15e6-034c-49f3-9557-339ad6bac191\",\"type\":\"GlyphRenderer\"},{\"attributes\":{},\"id\":\"d528d609-a8ec-4595-9ce9-d99efd6619e0\",\"type\":\"WheelZoomTool\"},{\"attributes\":{\"source\":{\"id\":\"44964325-2486-4259-8449-20275991255f\",\"type\":\"ColumnDataSource\"}},\"id\":\"604e4b19-67a1-442d-9cce-cb6362f4273c\",\"type\":\"CDSView\"},{\"attributes\":{\"text_align\":\"center\",\"text_alpha\":{\"value\":0.1},\"text_color\":{\"value\":\"black\"},\"x\":{\"value\":1},\"y\":{\"value\":2}},\"id\":\"aa09fb11-b65f-496d-8899-503c4a7c36c4\",\"type\":\"Text\"},{\"attributes\":{\"data_source\":{\"id\":\"44964325-2486-4259-8449-20275991255f\",\"type\":\"ColumnDataSource\"},\"glyph\":{\"id\":\"2c95343b-0692-4b1e-bea4-d4ad289f8d52\",\"type\":\"Text\"},\"hover_glyph\":null,\"muted_glyph\":null,\"nonselection_glyph\":{\"id\":\"aa09fb11-b65f-496d-8899-503c4a7c36c4\",\"type\":\"Text\"},\"selection_glyph\":null,\"view\":{\"id\":\"604e4b19-67a1-442d-9cce-cb6362f4273c\",\"type\":\"CDSView\"}},\"id\":\"3c51ef5b-59fa-491d-ba9f-604db9a386f4\",\"type\":\"GlyphRenderer\"},{\"attributes\":{\"text_align\":\"center\",\"text_color\":{\"value\":\"black\"},\"x\":{\"value\":1},\"y\":{\"value\":2}},\"id\":\"2c95343b-0692-4b1e-bea4-d4ad289f8d52\",\"type\":\"Text\"},{\"attributes\":{\"callback\":null,\"column_names\":[\"x\",\"y\"],\"data\":{\"x\":[1,1],\"y\":[0.5,3.5]}},\"id\":\"8b509071-e9e2-4735-aaf7-01a935019e7a\",\"type\":\"ColumnDataSource\"},{\"attributes\":{\"text_align\":\"right\",\"text_alpha\":{\"value\":0.1},\"text_color\":{\"value\":\"black\"},\"x\":{\"value\":1},\"y\":{\"value\":1}},\"id\":\"3ad76cd1-e00a-4f2d-a031-faa1758a56d2\",\"type\":\"Text\"},{\"attributes\":{\"text_align\":\"right\",\"text_color\":{\"value\":\"black\"},\"x\":{\"value\":1},\"y\":{\"value\":1}},\"id\":\"d2db768e-98cc-4d7f-a346-40086fee6940\",\"type\":\"Text\"},{\"attributes\":{\"plot\":null,\"text\":\"\"},\"id\":\"85d587d5-ac87-4daa-a842-abd671f70a99\",\"type\":\"Title\"},{\"attributes\":{\"callback\":null,\"column_names\":[\"text\"],\"data\":{\"text\":[\"right\"]}},\"id\":\"ee037702-0751-43d9-ba77-eab4e84d6a97\",\"type\":\"ColumnDataSource\"},{\"attributes\":{\"data_source\":{\"id\":\"b2c0aca1-42a1-4bbb-8de5-870c375ea355\",\"type\":\"ColumnDataSource\"},\"glyph\":{\"id\":\"6826a8e7-d167-4edb-a4c1-93d136ca797d\",\"type\":\"Text\"},\"hover_glyph\":null,\"muted_glyph\":null,\"nonselection_glyph\":{\"id\":\"3ae90171-eb00-496e-ae81-9e2c0bde1e7a\",\"type\":\"Text\"},\"selection_glyph\":null,\"view\":{\"id\":\"ee08cd11-ec0d-4a76-a814-b0e340cd92cb\",\"type\":\"CDSView\"}},\"id\":\"66f8d711-7c56-4667-87c6-1e8e1f13c929\",\"type\":\"GlyphRenderer\"},{\"attributes\":{},\"id\":\"8138b70e-9fcf-4d81-8e0e-a17639a5544a\",\"type\":\"ResetTool\"},{\"attributes\":{\"line_alpha\":{\"value\":0.1},\"line_color\":{\"value\":\"#1f77b4\"},\"x\":{\"field\":\"x\"},\"y\":{\"field\":\"y\"}},\"id\":\"fb8661e1-05d0-4715-b48c-9151b7d60e0c\",\"type\":\"Line\"},{\"attributes\":{\"plot\":{\"id\":\"a6514d71-f79d-4d2e-8cc8-c605db1a27de\",\"subtype\":\"Figure\",\"type\":\"Plot\"},\"ticker\":{\"id\":\"4fde9895-a869-4441-a84b-036de4c2cfb0\",\"type\":\"BasicTicker\"}},\"id\":\"954d10df-021c-4bf9-91ef-41b52a4e3858\",\"type\":\"Grid\"},{\"attributes\":{\"source\":{\"id\":\"b2c0aca1-42a1-4bbb-8de5-870c375ea355\",\"type\":\"ColumnDataSource\"}},\"id\":\"ee08cd11-ec0d-4a76-a814-b0e340cd92cb\",\"type\":\"CDSView\"},{\"attributes\":{\"below\":[{\"id\":\"7a4dfd20-17ec-443d-8dff-0f60af0f953d\",\"type\":\"LinearAxis\"}],\"left\":[{\"id\":\"27877e6d-36e8-4f59-b1a9-dffacd491772\",\"type\":\"LinearAxis\"}],\"plot_height\":200,\"plot_width\":200,\"renderers\":[{\"id\":\"7a4dfd20-17ec-443d-8dff-0f60af0f953d\",\"type\":\"LinearAxis\"},{\"id\":\"954d10df-021c-4bf9-91ef-41b52a4e3858\",\"type\":\"Grid\"},{\"id\":\"27877e6d-36e8-4f59-b1a9-dffacd491772\",\"type\":\"LinearAxis\"},{\"id\":\"5e7ee620-5a18-4427-a4b2-1a94d2866566\",\"type\":\"Grid\"},{\"id\":\"7a756158-843c-4602-a20a-4b813da8ad12\",\"type\":\"BoxAnnotation\"},{\"id\":\"66f8d711-7c56-4667-87c6-1e8e1f13c929\",\"type\":\"GlyphRenderer\"},{\"id\":\"3c51ef5b-59fa-491d-ba9f-604db9a386f4\",\"type\":\"GlyphRenderer\"},{\"id\":\"87bb15e6-034c-49f3-9557-339ad6bac191\",\"type\":\"GlyphRenderer\"},{\"id\":\"21071582-5b73-4c35-bb91-cc896dc9f643\",\"type\":\"GlyphRenderer\"}],\"title\":{\"id\":\"85d587d5-ac87-4daa-a842-abd671f70a99\",\"type\":\"Title\"},\"toolbar\":{\"id\":\"efc2e45e-24c3-4735-b9e5-f8bcee81a657\",\"type\":\"Toolbar\"},\"x_range\":{\"id\":\"41df0d84-3133-497f-8196-d480b9712a45\",\"type\":\"DataRange1d\"},\"x_scale\":{\"id\":\"c9f66946-fe3b-4b04-8314-1cd2c81a0242\",\"type\":\"LinearScale\"},\"y_range\":{\"id\":\"f12990ae-80b8-45a5-8aa9-cc602b13edcc\",\"type\":\"Range1d\"},\"y_scale\":{\"id\":\"95ef5dc8-9782-47f8-a120-82d79d5213af\",\"type\":\"LinearScale\"}},\"id\":\"a6514d71-f79d-4d2e-8cc8-c605db1a27de\",\"subtype\":\"Figure\",\"type\":\"Plot\"},{\"attributes\":{},\"id\":\"ae224104-b581-4574-b707-82eec7bf0bd5\",\"type\":\"HelpTool\"},{\"attributes\":{\"formatter\":{\"id\":\"e772db01-c8e5-4db8-b3f6-0c26e908b9b2\",\"type\":\"BasicTickFormatter\"},\"plot\":{\"id\":\"a6514d71-f79d-4d2e-8cc8-c605db1a27de\",\"subtype\":\"Figure\",\"type\":\"Plot\"},\"ticker\":{\"id\":\"f6460680-d960-446d-9e10-d91728b1c095\",\"type\":\"BasicTicker\"}},\"id\":\"27877e6d-36e8-4f59-b1a9-dffacd491772\",\"type\":\"LinearAxis\"},{\"attributes\":{},\"id\":\"c9f66946-fe3b-4b04-8314-1cd2c81a0242\",\"type\":\"LinearScale\"},{\"attributes\":{},\"id\":\"4fde9895-a869-4441-a84b-036de4c2cfb0\",\"type\":\"BasicTicker\"},{\"attributes\":{\"callback\":null},\"id\":\"41df0d84-3133-497f-8196-d480b9712a45\",\"type\":\"DataRange1d\"},{\"attributes\":{\"text_color\":{\"value\":\"black\"},\"x\":{\"value\":1},\"y\":{\"value\":3}},\"id\":\"6826a8e7-d167-4edb-a4c1-93d136ca797d\",\"type\":\"Text\"},{\"attributes\":{\"callback\":null,\"column_names\":[\"text\"],\"data\":{\"text\":[\"center\"]}},\"id\":\"44964325-2486-4259-8449-20275991255f\",\"type\":\"ColumnDataSource\"},{\"attributes\":{\"callback\":null,\"column_names\":[\"text\"],\"data\":{\"text\":[\"left\"]}},\"id\":\"b2c0aca1-42a1-4bbb-8de5-870c375ea355\",\"type\":\"ColumnDataSource\"},{\"attributes\":{\"active_drag\":\"auto\",\"active_inspect\":\"auto\",\"active_scroll\":\"auto\",\"active_tap\":\"auto\",\"tools\":[{\"id\":\"d3bc8f60-150b-4dc7-815a-085a4c4b74fc\",\"type\":\"PanTool\"},{\"id\":\"d528d609-a8ec-4595-9ce9-d99efd6619e0\",\"type\":\"WheelZoomTool\"},{\"id\":\"08e9b59a-6f1e-4b7f-b245-fbdae035287c\",\"type\":\"BoxZoomTool\"},{\"id\":\"b610c5c5-8d7b-4a26-9559-6f9e7b4f91c0\",\"type\":\"SaveTool\"},{\"id\":\"8138b70e-9fcf-4d81-8e0e-a17639a5544a\",\"type\":\"ResetTool\"},{\"id\":\"ae224104-b581-4574-b707-82eec7bf0bd5\",\"type\":\"HelpTool\"}]},\"id\":\"efc2e45e-24c3-4735-b9e5-f8bcee81a657\",\"type\":\"Toolbar\"},{\"attributes\":{},\"id\":\"95ef5dc8-9782-47f8-a120-82d79d5213af\",\"type\":\"LinearScale\"},{\"attributes\":{\"dimension\":1,\"plot\":{\"id\":\"a6514d71-f79d-4d2e-8cc8-c605db1a27de\",\"subtype\":\"Figure\",\"type\":\"Plot\"},\"ticker\":{\"id\":\"f6460680-d960-446d-9e10-d91728b1c095\",\"type\":\"BasicTicker\"}},\"id\":\"5e7ee620-5a18-4427-a4b2-1a94d2866566\",\"type\":\"Grid\"},{\"attributes\":{\"data_source\":{\"id\":\"8b509071-e9e2-4735-aaf7-01a935019e7a\",\"type\":\"ColumnDataSource\"},\"glyph\":{\"id\":\"5517d3ce-bdf5-41a5-9de6-969bf9db19b7\",\"type\":\"Line\"},\"hover_glyph\":null,\"muted_glyph\":null,\"nonselection_glyph\":{\"id\":\"fb8661e1-05d0-4715-b48c-9151b7d60e0c\",\"type\":\"Line\"},\"selection_glyph\":null,\"view\":{\"id\":\"011c993b-1611-454b-a363-ad6306864612\",\"type\":\"CDSView\"}},\"id\":\"21071582-5b73-4c35-bb91-cc896dc9f643\",\"type\":\"GlyphRenderer\"},{\"attributes\":{},\"id\":\"e772db01-c8e5-4db8-b3f6-0c26e908b9b2\",\"type\":\"BasicTickFormatter\"},{\"attributes\":{\"callback\":null,\"end\":3.5,\"start\":0.5},\"id\":\"f12990ae-80b8-45a5-8aa9-cc602b13edcc\",\"type\":\"Range1d\"},{\"attributes\":{},\"id\":\"f6460680-d960-446d-9e10-d91728b1c095\",\"type\":\"BasicTicker\"},{\"attributes\":{},\"id\":\"b610c5c5-8d7b-4a26-9559-6f9e7b4f91c0\",\"type\":\"SaveTool\"},{\"attributes\":{\"line_color\":{\"value\":\"#1f77b4\"},\"x\":{\"field\":\"x\"},\"y\":{\"field\":\"y\"}},\"id\":\"5517d3ce-bdf5-41a5-9de6-969bf9db19b7\",\"type\":\"Line\"},{\"attributes\":{},\"id\":\"d3bc8f60-150b-4dc7-815a-085a4c4b74fc\",\"type\":\"PanTool\"},{\"attributes\":{\"text_alpha\":{\"value\":0.1},\"text_color\":{\"value\":\"black\"},\"x\":{\"value\":1},\"y\":{\"value\":3}},\"id\":\"3ae90171-eb00-496e-ae81-9e2c0bde1e7a\",\"type\":\"Text\"},{\"attributes\":{\"bottom_units\":\"screen\",\"fill_alpha\":{\"value\":0.5},\"fill_color\":{\"value\":\"lightgrey\"},\"left_units\":\"screen\",\"level\":\"overlay\",\"line_alpha\":{\"value\":1.0},\"line_color\":{\"value\":\"black\"},\"line_dash\":[4,4],\"line_width\":{\"value\":2},\"plot\":null,\"render_mode\":\"css\",\"right_units\":\"screen\",\"top_units\":\"screen\"},\"id\":\"7a756158-843c-4602-a20a-4b813da8ad12\",\"type\":\"BoxAnnotation\"},{\"attributes\":{\"formatter\":{\"id\":\"72618ead-6328-499b-8849-29293d35bf7d\",\"type\":\"BasicTickFormatter\"},\"plot\":{\"id\":\"a6514d71-f79d-4d2e-8cc8-c605db1a27de\",\"subtype\":\"Figure\",\"type\":\"Plot\"},\"ticker\":{\"id\":\"4fde9895-a869-4441-a84b-036de4c2cfb0\",\"type\":\"BasicTicker\"}},\"id\":\"7a4dfd20-17ec-443d-8dff-0f60af0f953d\",\"type\":\"LinearAxis\"},{\"attributes\":{\"source\":{\"id\":\"ee037702-0751-43d9-ba77-eab4e84d6a97\",\"type\":\"ColumnDataSource\"}},\"id\":\"b50f261d-c6ec-4271-9d96-4311883596ed\",\"type\":\"CDSView\"},{\"attributes\":{\"source\":{\"id\":\"8b509071-e9e2-4735-aaf7-01a935019e7a\",\"type\":\"ColumnDataSource\"}},\"id\":\"011c993b-1611-454b-a363-ad6306864612\",\"type\":\"CDSView\"}],\"root_ids\":[\"a6514d71-f79d-4d2e-8cc8-c605db1a27de\"]},\"title\":\"Bokeh Application\",\"version\":\"0.12.10\"}};\n",
       "    var render_items = [{\"docid\":\"ab1a7f83-7ac3-40d5-9483-9f33e5476fc4\",\"elementid\":\"791d8aa3-bec0-46a3-99a3-da15369907b6\",\"modelid\":\"a6514d71-f79d-4d2e-8cc8-c605db1a27de\"}];\n",
       "\n",
       "    root.Bokeh.embed.embed_items(docs_json, render_items);\n",
       "  }\n",
       "\n",
       "  if (root.Bokeh !== undefined) {\n",
       "    embed_document(root);\n",
       "  } else {\n",
       "    var attempts = 0;\n",
       "    var timer = setInterval(function(root) {\n",
       "      if (root.Bokeh !== undefined) {\n",
       "        embed_document(root);\n",
       "        clearInterval(timer);\n",
       "      }\n",
       "      attempts++;\n",
       "      if (attempts > 100) {\n",
       "        console.log(\"Bokeh: ERROR: Unable to embed document because BokehJS library is missing\")\n",
       "        clearInterval(timer);\n",
       "      }\n",
       "    }, 10, root)\n",
       "  }\n",
       "})(window);"
      ],
      "application/vnd.bokehjs_exec.v0+json": ""
     },
     "metadata": {
      "application/vnd.bokehjs_exec.v0+json": {
       "id": "a6514d71-f79d-4d2e-8cc8-c605db1a27de"
      }
     },
     "output_type": "display_data"
    }
   ],
   "source": [
    "#テキストの位置の設定例\n",
    "p = figure(plot_width=200, plot_height=200, y_range=(0.5, 3.5))\n",
    "p.text(1, 3, text=['left'], text_align='left')\n",
    "p.text(1, 2, text=['center'], text_align='center')\n",
    "p.text(1, 1, text=['right'], text_align='right')\n",
    "p.line([1, 1], [0.5, 3.5])\n",
    "show(p)"
   ]
  },
  {
   "cell_type": "code",
   "execution_count": 17,
   "metadata": {},
   "outputs": [
    {
     "data": {
      "text/html": [
       "\n",
       "<div class=\"bk-root\">\n",
       "    <div class=\"bk-plotdiv\" id=\"9cd57d14-b1d0-4017-9413-13fc93705ba7\"></div>\n",
       "</div>"
      ]
     },
     "metadata": {},
     "output_type": "display_data"
    },
    {
     "data": {
      "application/javascript": [
       "(function(root) {\n",
       "  function embed_document(root) {\n",
       "    var docs_json = {\"409d6de2-5cce-467b-ad53-cbc7fad83b6d\":{\"roots\":{\"references\":[{\"attributes\":{\"data_source\":{\"id\":\"daf04c50-459c-45ce-883d-74f5551de6f3\",\"type\":\"ColumnDataSource\"},\"glyph\":{\"id\":\"16ab3105-a4b6-4388-81e7-4ab901329e47\",\"type\":\"Line\"},\"hover_glyph\":null,\"muted_glyph\":null,\"nonselection_glyph\":{\"id\":\"7304c0d0-6ae2-4723-8376-e76374e26055\",\"type\":\"Line\"},\"selection_glyph\":null,\"view\":{\"id\":\"e868a53b-5a3d-40ae-af2b-9d6ef713400e\",\"type\":\"CDSView\"}},\"id\":\"962b145b-d41d-427d-a2d9-9ef087016631\",\"type\":\"GlyphRenderer\"},{\"attributes\":{\"text_color\":{\"value\":\"black\"},\"x\":{\"value\":2},\"y\":{\"value\":1}},\"id\":\"0e377e9a-0787-41ed-ba19-c32bbcef3561\",\"type\":\"Text\"},{\"attributes\":{\"source\":{\"id\":\"c103cdf7-2c59-4310-8fd3-5c08be739078\",\"type\":\"ColumnDataSource\"}},\"id\":\"6b91d7ef-16cb-4144-9f44-df1dd3e01126\",\"type\":\"CDSView\"},{\"attributes\":{\"line_color\":{\"value\":\"#1f77b4\"},\"x\":{\"field\":\"x\"},\"y\":{\"field\":\"y\"}},\"id\":\"16ab3105-a4b6-4388-81e7-4ab901329e47\",\"type\":\"Line\"},{\"attributes\":{\"text_alpha\":{\"value\":0.1},\"text_color\":{\"value\":\"black\"},\"x\":{\"value\":2},\"y\":{\"value\":1}},\"id\":\"1dcdb381-cbc7-4f7a-b3ce-8e8e57b9da6a\",\"type\":\"Text\"},{\"attributes\":{\"line_alpha\":{\"value\":0.1},\"line_color\":{\"value\":\"#1f77b4\"},\"x\":{\"field\":\"x\"},\"y\":{\"field\":\"y\"}},\"id\":\"7304c0d0-6ae2-4723-8376-e76374e26055\",\"type\":\"Line\"},{\"attributes\":{\"data_source\":{\"id\":\"702b46e5-68e1-4479-ae4a-ca0cbdb26bb9\",\"type\":\"ColumnDataSource\"},\"glyph\":{\"id\":\"0e377e9a-0787-41ed-ba19-c32bbcef3561\",\"type\":\"Text\"},\"hover_glyph\":null,\"muted_glyph\":null,\"nonselection_glyph\":{\"id\":\"1dcdb381-cbc7-4f7a-b3ce-8e8e57b9da6a\",\"type\":\"Text\"},\"selection_glyph\":null,\"view\":{\"id\":\"2b40cdc3-af42-49b2-995e-36fd32bc83b5\",\"type\":\"CDSView\"}},\"id\":\"ae21856e-4140-4898-b55c-f5d76a6b03cf\",\"type\":\"GlyphRenderer\"},{\"attributes\":{\"callback\":null,\"column_names\":[\"text\"],\"data\":{\"text\":[\"bottom\"]}},\"id\":\"702b46e5-68e1-4479-ae4a-ca0cbdb26bb9\",\"type\":\"ColumnDataSource\"},{\"attributes\":{\"callback\":null,\"column_names\":[\"x\",\"y\"],\"data\":{\"x\":[-0.5,10.5],\"y\":[1,1]}},\"id\":\"c7058c1c-0881-48af-983f-c4f918d6af1f\",\"type\":\"ColumnDataSource\"},{\"attributes\":{\"line_alpha\":{\"value\":0.1},\"line_color\":{\"value\":\"#1f77b4\"},\"x\":{\"field\":\"x\"},\"y\":{\"field\":\"y\"}},\"id\":\"befee40c-9899-44bf-8f7c-5a65d5666e96\",\"type\":\"Line\"},{\"attributes\":{},\"id\":\"351b5223-f193-415d-9366-8e03fae005cb\",\"type\":\"BasicTickFormatter\"},{\"attributes\":{\"data_source\":{\"id\":\"b3cec576-c48d-4e98-8630-2f03d031240f\",\"type\":\"ColumnDataSource\"},\"glyph\":{\"id\":\"70f56392-a22a-49c6-9421-2433068daca8\",\"type\":\"Line\"},\"hover_glyph\":null,\"muted_glyph\":null,\"nonselection_glyph\":{\"id\":\"befee40c-9899-44bf-8f7c-5a65d5666e96\",\"type\":\"Line\"},\"selection_glyph\":null,\"view\":{\"id\":\"a65f3545-03ec-4445-ae6f-a9baf384588b\",\"type\":\"CDSView\"}},\"id\":\"8faed7fa-461f-4edb-96ba-6ccaecc91132\",\"type\":\"GlyphRenderer\"},{\"attributes\":{\"source\":{\"id\":\"daf04c50-459c-45ce-883d-74f5551de6f3\",\"type\":\"ColumnDataSource\"}},\"id\":\"e868a53b-5a3d-40ae-af2b-9d6ef713400e\",\"type\":\"CDSView\"},{\"attributes\":{},\"id\":\"0217de3a-efa4-47db-922f-e6eba6e263c4\",\"type\":\"WheelZoomTool\"},{\"attributes\":{},\"id\":\"ddc72b9e-cf2e-49b0-8f89-3fa5f74c9424\",\"type\":\"ResetTool\"},{\"attributes\":{\"source\":{\"id\":\"702b46e5-68e1-4479-ae4a-ca0cbdb26bb9\",\"type\":\"ColumnDataSource\"}},\"id\":\"2b40cdc3-af42-49b2-995e-36fd32bc83b5\",\"type\":\"CDSView\"},{\"attributes\":{},\"id\":\"8125a0c8-f628-4d15-b35b-42204d3099b8\",\"type\":\"HelpTool\"},{\"attributes\":{\"text_baseline\":\"top\",\"text_color\":{\"value\":\"black\"},\"x\":{\"value\":0},\"y\":{\"value\":1}},\"id\":\"75236f47-40f7-4af2-bd10-9396cbdad587\",\"type\":\"Text\"},{\"attributes\":{\"bottom_units\":\"screen\",\"fill_alpha\":{\"value\":0.5},\"fill_color\":{\"value\":\"lightgrey\"},\"left_units\":\"screen\",\"level\":\"overlay\",\"line_alpha\":{\"value\":1.0},\"line_color\":{\"value\":\"black\"},\"line_dash\":[4,4],\"line_width\":{\"value\":2},\"plot\":null,\"render_mode\":\"css\",\"right_units\":\"screen\",\"top_units\":\"screen\"},\"id\":\"8d4c5601-ab55-430b-82a2-52fce879ecb9\",\"type\":\"BoxAnnotation\"},{\"attributes\":{\"formatter\":{\"id\":\"351b5223-f193-415d-9366-8e03fae005cb\",\"type\":\"BasicTickFormatter\"},\"plot\":{\"id\":\"27d8e24e-142d-485e-9b4d-75651f659f24\",\"subtype\":\"Figure\",\"type\":\"Plot\"},\"ticker\":{\"id\":\"37a6da58-b20f-4187-bc38-966b8d5e0d4b\",\"type\":\"BasicTicker\"}},\"id\":\"91c4c09e-7e5e-46ed-a43f-5fd7f45cd742\",\"type\":\"LinearAxis\"},{\"attributes\":{\"text_alpha\":{\"value\":0.1},\"text_baseline\":\"middle\",\"text_color\":{\"value\":\"black\"},\"x\":{\"value\":1},\"y\":{\"value\":1}},\"id\":\"daa0dca0-364d-4796-be9e-81218b8805d6\",\"type\":\"Text\"},{\"attributes\":{},\"id\":\"b5d80577-4a4d-42da-b057-8dd6daedfaec\",\"type\":\"BasicTicker\"},{\"attributes\":{\"overlay\":{\"id\":\"8d4c5601-ab55-430b-82a2-52fce879ecb9\",\"type\":\"BoxAnnotation\"}},\"id\":\"c24c7798-d41e-4ce3-a832-3af6e62994a3\",\"type\":\"BoxZoomTool\"},{\"attributes\":{},\"id\":\"7e76343e-31a9-401c-af0a-827d8cf8db48\",\"type\":\"PanTool\"},{\"attributes\":{\"data_source\":{\"id\":\"5718c18a-ce06-4c89-8f3b-bd3013bd3498\",\"type\":\"ColumnDataSource\"},\"glyph\":{\"id\":\"75236f47-40f7-4af2-bd10-9396cbdad587\",\"type\":\"Text\"},\"hover_glyph\":null,\"muted_glyph\":null,\"nonselection_glyph\":{\"id\":\"9eb6104c-ba9e-48ad-8ecf-dbe6316c8a96\",\"type\":\"Text\"},\"selection_glyph\":null,\"view\":{\"id\":\"04e45ac3-6011-4511-9e4f-647f314422e4\",\"type\":\"CDSView\"}},\"id\":\"29023c86-76b7-472e-a3f1-f2e8b0125d19\",\"type\":\"GlyphRenderer\"},{\"attributes\":{\"line_color\":{\"value\":\"#1f77b4\"},\"x\":{\"field\":\"x\"},\"y\":{\"field\":\"y\"}},\"id\":\"db584876-d24e-40b3-82db-1ad8cb02b408\",\"type\":\"Line\"},{\"attributes\":{\"callback\":null,\"column_names\":[\"text\"],\"data\":{\"text\":[\"middle\"]}},\"id\":\"c103cdf7-2c59-4310-8fd3-5c08be739078\",\"type\":\"ColumnDataSource\"},{\"attributes\":{\"data_source\":{\"id\":\"c103cdf7-2c59-4310-8fd3-5c08be739078\",\"type\":\"ColumnDataSource\"},\"glyph\":{\"id\":\"854cd3a1-9997-4233-84a9-35072981a068\",\"type\":\"Text\"},\"hover_glyph\":null,\"muted_glyph\":null,\"nonselection_glyph\":{\"id\":\"daa0dca0-364d-4796-be9e-81218b8805d6\",\"type\":\"Text\"},\"selection_glyph\":null,\"view\":{\"id\":\"6b91d7ef-16cb-4144-9f44-df1dd3e01126\",\"type\":\"CDSView\"}},\"id\":\"529d7fc0-2440-4f3e-aed9-4b054c4d93a2\",\"type\":\"GlyphRenderer\"},{\"attributes\":{},\"id\":\"9ee5a0fb-44f3-456e-98f1-ec1dfdd6f827\",\"type\":\"LinearScale\"},{\"attributes\":{\"plot\":{\"id\":\"27d8e24e-142d-485e-9b4d-75651f659f24\",\"subtype\":\"Figure\",\"type\":\"Plot\"},\"ticker\":{\"id\":\"37a6da58-b20f-4187-bc38-966b8d5e0d4b\",\"type\":\"BasicTicker\"}},\"id\":\"76c1d7ef-302f-4b7c-8d36-a79278299bf0\",\"type\":\"Grid\"},{\"attributes\":{\"text_alpha\":{\"value\":0.1},\"text_baseline\":\"top\",\"text_color\":{\"value\":\"black\"},\"x\":{\"value\":0},\"y\":{\"value\":1}},\"id\":\"9eb6104c-ba9e-48ad-8ecf-dbe6316c8a96\",\"type\":\"Text\"},{\"attributes\":{\"dimension\":1,\"plot\":{\"id\":\"27d8e24e-142d-485e-9b4d-75651f659f24\",\"subtype\":\"Figure\",\"type\":\"Plot\"},\"ticker\":{\"id\":\"b5d80577-4a4d-42da-b057-8dd6daedfaec\",\"type\":\"BasicTicker\"}},\"id\":\"8ad67e76-2f8f-40fa-911b-d0e50d1b1a9f\",\"type\":\"Grid\"},{\"attributes\":{\"text_baseline\":\"middle\",\"text_color\":{\"value\":\"black\"},\"x\":{\"value\":1},\"y\":{\"value\":1}},\"id\":\"854cd3a1-9997-4233-84a9-35072981a068\",\"type\":\"Text\"},{\"attributes\":{},\"id\":\"df333a41-26c9-43c8-9056-abd6c1830751\",\"type\":\"SaveTool\"},{\"attributes\":{\"callback\":null,\"column_names\":[\"x\",\"y\"],\"data\":{\"x\":[-0.5,10.5],\"y\":[1,1]}},\"id\":\"daf04c50-459c-45ce-883d-74f5551de6f3\",\"type\":\"ColumnDataSource\"},{\"attributes\":{\"source\":{\"id\":\"b3cec576-c48d-4e98-8630-2f03d031240f\",\"type\":\"ColumnDataSource\"}},\"id\":\"a65f3545-03ec-4445-ae6f-a9baf384588b\",\"type\":\"CDSView\"},{\"attributes\":{},\"id\":\"254684f1-d3d8-45e0-adac-f62f04da05f0\",\"type\":\"LinearScale\"},{\"attributes\":{\"active_drag\":\"auto\",\"active_inspect\":\"auto\",\"active_scroll\":\"auto\",\"active_tap\":\"auto\",\"tools\":[{\"id\":\"7e76343e-31a9-401c-af0a-827d8cf8db48\",\"type\":\"PanTool\"},{\"id\":\"0217de3a-efa4-47db-922f-e6eba6e263c4\",\"type\":\"WheelZoomTool\"},{\"id\":\"c24c7798-d41e-4ce3-a832-3af6e62994a3\",\"type\":\"BoxZoomTool\"},{\"id\":\"df333a41-26c9-43c8-9056-abd6c1830751\",\"type\":\"SaveTool\"},{\"id\":\"ddc72b9e-cf2e-49b0-8f89-3fa5f74c9424\",\"type\":\"ResetTool\"},{\"id\":\"8125a0c8-f628-4d15-b35b-42204d3099b8\",\"type\":\"HelpTool\"}]},\"id\":\"2a0e1725-8537-475f-bd44-10cc571e0f3b\",\"type\":\"Toolbar\"},{\"attributes\":{\"below\":[{\"id\":\"91c4c09e-7e5e-46ed-a43f-5fd7f45cd742\",\"type\":\"LinearAxis\"}],\"left\":[{\"id\":\"fa9cad53-7113-4854-a989-fffa0cc24859\",\"type\":\"LinearAxis\"}],\"plot_height\":200,\"renderers\":[{\"id\":\"91c4c09e-7e5e-46ed-a43f-5fd7f45cd742\",\"type\":\"LinearAxis\"},{\"id\":\"76c1d7ef-302f-4b7c-8d36-a79278299bf0\",\"type\":\"Grid\"},{\"id\":\"fa9cad53-7113-4854-a989-fffa0cc24859\",\"type\":\"LinearAxis\"},{\"id\":\"8ad67e76-2f8f-40fa-911b-d0e50d1b1a9f\",\"type\":\"Grid\"},{\"id\":\"8d4c5601-ab55-430b-82a2-52fce879ecb9\",\"type\":\"BoxAnnotation\"},{\"id\":\"29023c86-76b7-472e-a3f1-f2e8b0125d19\",\"type\":\"GlyphRenderer\"},{\"id\":\"8faed7fa-461f-4edb-96ba-6ccaecc91132\",\"type\":\"GlyphRenderer\"},{\"id\":\"529d7fc0-2440-4f3e-aed9-4b054c4d93a2\",\"type\":\"GlyphRenderer\"},{\"id\":\"962b145b-d41d-427d-a2d9-9ef087016631\",\"type\":\"GlyphRenderer\"},{\"id\":\"ae21856e-4140-4898-b55c-f5d76a6b03cf\",\"type\":\"GlyphRenderer\"},{\"id\":\"3cb0a657-1166-4894-b295-be28ca53d5ba\",\"type\":\"GlyphRenderer\"},{\"id\":\"13f4557c-73de-4bdc-8e66-e6b730cc56bc\",\"type\":\"GlyphRenderer\"},{\"id\":\"29c30a56-1fad-4cbd-94a7-8a32b974173b\",\"type\":\"GlyphRenderer\"},{\"id\":\"09cf8ac6-50c0-4edf-943e-c556db4fcdab\",\"type\":\"GlyphRenderer\"},{\"id\":\"c75b133f-3d64-4286-ba85-4f44931d2f1a\",\"type\":\"GlyphRenderer\"}],\"title\":{\"id\":\"38f995c5-39c2-46bc-bf83-b0aba9e8a7f4\",\"type\":\"Title\"},\"toolbar\":{\"id\":\"2a0e1725-8537-475f-bd44-10cc571e0f3b\",\"type\":\"Toolbar\"},\"x_range\":{\"id\":\"c30956a1-13a8-43c3-a80d-9a819a451b3e\",\"type\":\"Range1d\"},\"x_scale\":{\"id\":\"254684f1-d3d8-45e0-adac-f62f04da05f0\",\"type\":\"LinearScale\"},\"y_range\":{\"id\":\"d9d41930-ba02-4716-8c66-d312012ddd01\",\"type\":\"DataRange1d\"},\"y_scale\":{\"id\":\"9ee5a0fb-44f3-456e-98f1-ec1dfdd6f827\",\"type\":\"LinearScale\"}},\"id\":\"27d8e24e-142d-485e-9b4d-75651f659f24\",\"subtype\":\"Figure\",\"type\":\"Plot\"},{\"attributes\":{\"callback\":null,\"column_names\":[\"text\"],\"data\":{\"text\":[\"top\"]}},\"id\":\"5718c18a-ce06-4c89-8f3b-bd3013bd3498\",\"type\":\"ColumnDataSource\"},{\"attributes\":{\"callback\":null},\"id\":\"d9d41930-ba02-4716-8c66-d312012ddd01\",\"type\":\"DataRange1d\"},{\"attributes\":{\"callback\":null,\"end\":5,\"start\":-0.5},\"id\":\"c30956a1-13a8-43c3-a80d-9a819a451b3e\",\"type\":\"Range1d\"},{\"attributes\":{},\"id\":\"b5d3a9c5-144b-4aa4-a278-6f330e91f8f6\",\"type\":\"BasicTickFormatter\"},{\"attributes\":{\"callback\":null,\"column_names\":[\"x\",\"y\"],\"data\":{\"x\":[-0.5,10.5],\"y\":[1,1]}},\"id\":\"b3cec576-c48d-4e98-8630-2f03d031240f\",\"type\":\"ColumnDataSource\"},{\"attributes\":{\"source\":{\"id\":\"5718c18a-ce06-4c89-8f3b-bd3013bd3498\",\"type\":\"ColumnDataSource\"}},\"id\":\"04e45ac3-6011-4511-9e4f-647f314422e4\",\"type\":\"CDSView\"},{\"attributes\":{\"line_color\":{\"value\":\"#1f77b4\"},\"x\":{\"field\":\"x\"},\"y\":{\"field\":\"y\"}},\"id\":\"70f56392-a22a-49c6-9421-2433068daca8\",\"type\":\"Line\"},{\"attributes\":{},\"id\":\"37a6da58-b20f-4187-bc38-966b8d5e0d4b\",\"type\":\"BasicTicker\"},{\"attributes\":{\"formatter\":{\"id\":\"b5d3a9c5-144b-4aa4-a278-6f330e91f8f6\",\"type\":\"BasicTickFormatter\"},\"plot\":{\"id\":\"27d8e24e-142d-485e-9b4d-75651f659f24\",\"subtype\":\"Figure\",\"type\":\"Plot\"},\"ticker\":{\"id\":\"b5d80577-4a4d-42da-b057-8dd6daedfaec\",\"type\":\"BasicTicker\"}},\"id\":\"fa9cad53-7113-4854-a989-fffa0cc24859\",\"type\":\"LinearAxis\"},{\"attributes\":{\"source\":{\"id\":\"c361b4d1-55a1-4e9a-8be7-bdd4b2cbcf51\",\"type\":\"ColumnDataSource\"}},\"id\":\"0ae55d23-de8c-4120-8136-e89913548ac1\",\"type\":\"CDSView\"},{\"attributes\":{\"plot\":null,\"text\":\"\"},\"id\":\"38f995c5-39c2-46bc-bf83-b0aba9e8a7f4\",\"type\":\"Title\"},{\"attributes\":{\"source\":{\"id\":\"fa2b78c6-9dcc-4c01-b568-f23a8b321327\",\"type\":\"ColumnDataSource\"}},\"id\":\"90c6315f-016f-4ded-a6d4-76acddd6c3cb\",\"type\":\"CDSView\"},{\"attributes\":{\"data_source\":{\"id\":\"fa2b78c6-9dcc-4c01-b568-f23a8b321327\",\"type\":\"ColumnDataSource\"},\"glyph\":{\"id\":\"33d18a57-f017-4ee6-82f5-ef67b2e75cce\",\"type\":\"Line\"},\"hover_glyph\":null,\"muted_glyph\":null,\"nonselection_glyph\":{\"id\":\"c4524766-8210-43f3-9917-0bc2a24ddc86\",\"type\":\"Line\"},\"selection_glyph\":null,\"view\":{\"id\":\"90c6315f-016f-4ded-a6d4-76acddd6c3cb\",\"type\":\"CDSView\"}},\"id\":\"29c30a56-1fad-4cbd-94a7-8a32b974173b\",\"type\":\"GlyphRenderer\"},{\"attributes\":{\"source\":{\"id\":\"c7058c1c-0881-48af-983f-c4f918d6af1f\",\"type\":\"ColumnDataSource\"}},\"id\":\"a41268b9-2319-4c4c-8e66-69d2a9b04a2f\",\"type\":\"CDSView\"},{\"attributes\":{\"line_color\":{\"value\":\"#1f77b4\"},\"x\":{\"field\":\"x\"},\"y\":{\"field\":\"y\"}},\"id\":\"09df7ffe-e6c1-4710-b8e2-374992a6807a\",\"type\":\"Line\"},{\"attributes\":{\"data_source\":{\"id\":\"c7058c1c-0881-48af-983f-c4f918d6af1f\",\"type\":\"ColumnDataSource\"},\"glyph\":{\"id\":\"db584876-d24e-40b3-82db-1ad8cb02b408\",\"type\":\"Line\"},\"hover_glyph\":null,\"muted_glyph\":null,\"nonselection_glyph\":{\"id\":\"62f262f0-2522-41a2-ae1c-1f9567ee3392\",\"type\":\"Line\"},\"selection_glyph\":null,\"view\":{\"id\":\"a41268b9-2319-4c4c-8e66-69d2a9b04a2f\",\"type\":\"CDSView\"}},\"id\":\"3cb0a657-1166-4894-b295-be28ca53d5ba\",\"type\":\"GlyphRenderer\"},{\"attributes\":{\"callback\":null,\"column_names\":[\"x\",\"y\"],\"data\":{\"x\":[-0.5,10.5],\"y\":[1,1]}},\"id\":\"0c3968c0-5cb4-4031-a749-4c484185df27\",\"type\":\"ColumnDataSource\"},{\"attributes\":{\"callback\":null,\"column_names\":[\"text\"],\"data\":{\"text\":[\"alphabetic\"]}},\"id\":\"d973e154-ddac-4283-8171-11c7dd4f591c\",\"type\":\"ColumnDataSource\"},{\"attributes\":{\"source\":{\"id\":\"0c3968c0-5cb4-4031-a749-4c484185df27\",\"type\":\"ColumnDataSource\"}},\"id\":\"214ff0f1-f8d1-4a1e-8845-bb57360b0c99\",\"type\":\"CDSView\"},{\"attributes\":{\"line_alpha\":{\"value\":0.1},\"line_color\":{\"value\":\"#1f77b4\"},\"x\":{\"field\":\"x\"},\"y\":{\"field\":\"y\"}},\"id\":\"5245ae78-fe9b-4579-80b7-33760be8d309\",\"type\":\"Line\"},{\"attributes\":{\"callback\":null,\"column_names\":[\"text\"],\"data\":{\"text\":[\"hanging\"]}},\"id\":\"c361b4d1-55a1-4e9a-8be7-bdd4b2cbcf51\",\"type\":\"ColumnDataSource\"},{\"attributes\":{\"line_alpha\":{\"value\":0.1},\"line_color\":{\"value\":\"#1f77b4\"},\"x\":{\"field\":\"x\"},\"y\":{\"field\":\"y\"}},\"id\":\"62f262f0-2522-41a2-ae1c-1f9567ee3392\",\"type\":\"Line\"},{\"attributes\":{\"data_source\":{\"id\":\"c361b4d1-55a1-4e9a-8be7-bdd4b2cbcf51\",\"type\":\"ColumnDataSource\"},\"glyph\":{\"id\":\"0ebe751d-d41a-4161-8dee-3eac269bef23\",\"type\":\"Text\"},\"hover_glyph\":null,\"muted_glyph\":null,\"nonselection_glyph\":{\"id\":\"0073f53a-0b35-4527-868c-3701a87bd769\",\"type\":\"Text\"},\"selection_glyph\":null,\"view\":{\"id\":\"0ae55d23-de8c-4120-8136-e89913548ac1\",\"type\":\"CDSView\"}},\"id\":\"09cf8ac6-50c0-4edf-943e-c556db4fcdab\",\"type\":\"GlyphRenderer\"},{\"attributes\":{\"text_alpha\":{\"value\":0.1},\"text_baseline\":\"alphabetic\",\"text_color\":{\"value\":\"black\"},\"x\":{\"value\":3},\"y\":{\"value\":1}},\"id\":\"8bdd7493-29d2-460d-bddb-77af58ba9ccd\",\"type\":\"Text\"},{\"attributes\":{\"line_color\":{\"value\":\"#1f77b4\"},\"x\":{\"field\":\"x\"},\"y\":{\"field\":\"y\"}},\"id\":\"33d18a57-f017-4ee6-82f5-ef67b2e75cce\",\"type\":\"Line\"},{\"attributes\":{\"data_source\":{\"id\":\"0c3968c0-5cb4-4031-a749-4c484185df27\",\"type\":\"ColumnDataSource\"},\"glyph\":{\"id\":\"09df7ffe-e6c1-4710-b8e2-374992a6807a\",\"type\":\"Line\"},\"hover_glyph\":null,\"muted_glyph\":null,\"nonselection_glyph\":{\"id\":\"5245ae78-fe9b-4579-80b7-33760be8d309\",\"type\":\"Line\"},\"selection_glyph\":null,\"view\":{\"id\":\"214ff0f1-f8d1-4a1e-8845-bb57360b0c99\",\"type\":\"CDSView\"}},\"id\":\"c75b133f-3d64-4286-ba85-4f44931d2f1a\",\"type\":\"GlyphRenderer\"},{\"attributes\":{\"text_baseline\":\"hanging\",\"text_color\":{\"value\":\"black\"},\"x\":{\"value\":4},\"y\":{\"value\":1}},\"id\":\"0ebe751d-d41a-4161-8dee-3eac269bef23\",\"type\":\"Text\"},{\"attributes\":{\"data_source\":{\"id\":\"d973e154-ddac-4283-8171-11c7dd4f591c\",\"type\":\"ColumnDataSource\"},\"glyph\":{\"id\":\"0a5151a8-466a-4a75-ac88-76605a233468\",\"type\":\"Text\"},\"hover_glyph\":null,\"muted_glyph\":null,\"nonselection_glyph\":{\"id\":\"8bdd7493-29d2-460d-bddb-77af58ba9ccd\",\"type\":\"Text\"},\"selection_glyph\":null,\"view\":{\"id\":\"2c3e1e2b-cc6b-4905-90af-4d28c5eb0a4d\",\"type\":\"CDSView\"}},\"id\":\"13f4557c-73de-4bdc-8e66-e6b730cc56bc\",\"type\":\"GlyphRenderer\"},{\"attributes\":{\"callback\":null,\"column_names\":[\"x\",\"y\"],\"data\":{\"x\":[-0.5,10.5],\"y\":[1,1]}},\"id\":\"fa2b78c6-9dcc-4c01-b568-f23a8b321327\",\"type\":\"ColumnDataSource\"},{\"attributes\":{\"line_alpha\":{\"value\":0.1},\"line_color\":{\"value\":\"#1f77b4\"},\"x\":{\"field\":\"x\"},\"y\":{\"field\":\"y\"}},\"id\":\"c4524766-8210-43f3-9917-0bc2a24ddc86\",\"type\":\"Line\"},{\"attributes\":{\"text_baseline\":\"alphabetic\",\"text_color\":{\"value\":\"black\"},\"x\":{\"value\":3},\"y\":{\"value\":1}},\"id\":\"0a5151a8-466a-4a75-ac88-76605a233468\",\"type\":\"Text\"},{\"attributes\":{\"text_alpha\":{\"value\":0.1},\"text_baseline\":\"hanging\",\"text_color\":{\"value\":\"black\"},\"x\":{\"value\":4},\"y\":{\"value\":1}},\"id\":\"0073f53a-0b35-4527-868c-3701a87bd769\",\"type\":\"Text\"},{\"attributes\":{\"source\":{\"id\":\"d973e154-ddac-4283-8171-11c7dd4f591c\",\"type\":\"ColumnDataSource\"}},\"id\":\"2c3e1e2b-cc6b-4905-90af-4d28c5eb0a4d\",\"type\":\"CDSView\"}],\"root_ids\":[\"27d8e24e-142d-485e-9b4d-75651f659f24\"]},\"title\":\"Bokeh Application\",\"version\":\"0.12.10\"}};\n",
       "    var render_items = [{\"docid\":\"409d6de2-5cce-467b-ad53-cbc7fad83b6d\",\"elementid\":\"9cd57d14-b1d0-4017-9413-13fc93705ba7\",\"modelid\":\"27d8e24e-142d-485e-9b4d-75651f659f24\"}];\n",
       "\n",
       "    root.Bokeh.embed.embed_items(docs_json, render_items);\n",
       "  }\n",
       "\n",
       "  if (root.Bokeh !== undefined) {\n",
       "    embed_document(root);\n",
       "  } else {\n",
       "    var attempts = 0;\n",
       "    var timer = setInterval(function(root) {\n",
       "      if (root.Bokeh !== undefined) {\n",
       "        embed_document(root);\n",
       "        clearInterval(timer);\n",
       "      }\n",
       "      attempts++;\n",
       "      if (attempts > 100) {\n",
       "        console.log(\"Bokeh: ERROR: Unable to embed document because BokehJS library is missing\")\n",
       "        clearInterval(timer);\n",
       "      }\n",
       "    }, 10, root)\n",
       "  }\n",
       "})(window);"
      ],
      "application/vnd.bokehjs_exec.v0+json": ""
     },
     "metadata": {
      "application/vnd.bokehjs_exec.v0+json": {
       "id": "27d8e24e-142d-485e-9b4d-75651f659f24"
      }
     },
     "output_type": "display_data"
    }
   ],
   "source": [
    "#　垂直揃えの設定\n",
    "p = figure(plot_width=600, plot_height=200, x_range=[-0.5, 5])\n",
    "\n",
    "baselines = ['top', 'middle', 'bottom', 'alphabetic', 'hanging']\n",
    "\n",
    "for y, baseline in enumerate(baselines):\n",
    "    p.text(y, 1, text=[baseline], text_baseline=baseline)\n",
    "    p.line([-0.5, 10.5], [1, 1])\n",
    "    \n",
    "show(p)"
   ]
  },
  {
   "cell_type": "code",
   "execution_count": 19,
   "metadata": {},
   "outputs": [],
   "source": [
    "test=1"
   ]
  },
  {
   "cell_type": "code",
   "execution_count": null,
   "metadata": {},
   "outputs": [],
   "source": []
  }
 ],
 "metadata": {
  "kernelspec": {
   "display_name": "Python 3",
   "language": "python",
   "name": "python3"
  },
  "language_info": {
   "codemirror_mode": {
    "name": "ipython",
    "version": 3
   },
   "file_extension": ".py",
   "mimetype": "text/x-python",
   "name": "python",
   "nbconvert_exporter": "python",
   "pygments_lexer": "ipython3",
   "version": "3.6.1"
  }
 },
 "nbformat": 4,
 "nbformat_minor": 2
}
