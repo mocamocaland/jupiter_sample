{
 "cells": [
  {
   "cell_type": "code",
   "execution_count": 2,
   "metadata": {},
   "outputs": [
    {
     "data": {
      "text/html": [
       "\n",
       "    <div class=\"bk-root\">\n",
       "        <a href=\"https://bokeh.pydata.org\" target=\"_blank\" class=\"bk-logo bk-logo-small bk-logo-notebook\"></a>\n",
       "        <span id=\"0ec7b905-5a2f-4218-9309-6d8d05551ec4\">Loading BokehJS ...</span>\n",
       "    </div>"
      ]
     },
     "metadata": {},
     "output_type": "display_data"
    },
    {
     "data": {
      "application/javascript": [
       "\n",
       "(function(root) {\n",
       "  function now() {\n",
       "    return new Date();\n",
       "  }\n",
       "\n",
       "  var force = true;\n",
       "\n",
       "  if (typeof (root._bokeh_onload_callbacks) === \"undefined\" || force === true) {\n",
       "    root._bokeh_onload_callbacks = [];\n",
       "    root._bokeh_is_loading = undefined;\n",
       "  }\n",
       "\n",
       "  var JS_MIME_TYPE = 'application/javascript';\n",
       "  var HTML_MIME_TYPE = 'text/html';\n",
       "  var EXEC_MIME_TYPE = 'application/vnd.bokehjs_exec.v0+json';\n",
       "  var CLASS_NAME = 'output_bokeh rendered_html';\n",
       "\n",
       "  /**\n",
       "   * Render data to the DOM node\n",
       "   */\n",
       "  function render(props, node) {\n",
       "    var script = document.createElement(\"script\");\n",
       "    node.appendChild(script);\n",
       "  }\n",
       "\n",
       "  /**\n",
       "   * Handle when an output is cleared or removed\n",
       "   */\n",
       "  function handleClearOutput(event, handle) {\n",
       "    var cell = handle.cell;\n",
       "\n",
       "    var id = cell.output_area._bokeh_element_id;\n",
       "    var server_id = cell.output_area._bokeh_server_id;\n",
       "    // Clean up Bokeh references\n",
       "    if (id !== undefined) {\n",
       "      Bokeh.index[id].model.document.clear();\n",
       "      delete Bokeh.index[id];\n",
       "    }\n",
       "\n",
       "    if (server_id !== undefined) {\n",
       "      // Clean up Bokeh references\n",
       "      var cmd = \"from bokeh.io.state import curstate; print(curstate().uuid_to_server['\" + server_id + \"'].get_sessions()[0].document.roots[0]._id)\";\n",
       "      cell.notebook.kernel.execute(cmd, {\n",
       "        iopub: {\n",
       "          output: function(msg) {\n",
       "            var element_id = msg.content.text.trim();\n",
       "            Bokeh.index[element_id].model.document.clear();\n",
       "            delete Bokeh.index[element_id];\n",
       "          }\n",
       "        }\n",
       "      });\n",
       "      // Destroy server and session\n",
       "      var cmd = \"import bokeh.io.notebook as ion; ion.destroy_server('\" + server_id + \"')\";\n",
       "      cell.notebook.kernel.execute(cmd);\n",
       "    }\n",
       "  }\n",
       "\n",
       "  /**\n",
       "   * Handle when a new output is added\n",
       "   */\n",
       "  function handleAddOutput(event, handle) {\n",
       "    var output_area = handle.output_area;\n",
       "    var output = handle.output;\n",
       "\n",
       "    // limit handleAddOutput to display_data with EXEC_MIME_TYPE content only\n",
       "    if ((output.output_type != \"display_data\") || (!output.data.hasOwnProperty(EXEC_MIME_TYPE))) {\n",
       "      return\n",
       "    }\n",
       "\n",
       "    var toinsert = output_area.element.find(`.${CLASS_NAME.split(' ')[0]}`);\n",
       "\n",
       "    if (output.metadata[EXEC_MIME_TYPE][\"id\"] !== undefined) {\n",
       "      toinsert[0].firstChild.textContent = output.data[JS_MIME_TYPE];\n",
       "      // store reference to embed id on output_area\n",
       "      output_area._bokeh_element_id = output.metadata[EXEC_MIME_TYPE][\"id\"];\n",
       "    }\n",
       "    if (output.metadata[EXEC_MIME_TYPE][\"server_id\"] !== undefined) {\n",
       "      var bk_div = document.createElement(\"div\");\n",
       "      bk_div.innerHTML = output.data[HTML_MIME_TYPE];\n",
       "      var script_attrs = bk_div.children[0].attributes;\n",
       "      for (var i = 0; i < script_attrs.length; i++) {\n",
       "        toinsert[0].firstChild.setAttribute(script_attrs[i].name, script_attrs[i].value);\n",
       "      }\n",
       "      // store reference to server id on output_area\n",
       "      output_area._bokeh_server_id = output.metadata[EXEC_MIME_TYPE][\"server_id\"];\n",
       "    }\n",
       "  }\n",
       "\n",
       "  function register_renderer(events, OutputArea) {\n",
       "\n",
       "    function append_mime(data, metadata, element) {\n",
       "      // create a DOM node to render to\n",
       "      var toinsert = this.create_output_subarea(\n",
       "        metadata,\n",
       "        CLASS_NAME,\n",
       "        EXEC_MIME_TYPE\n",
       "      );\n",
       "      this.keyboard_manager.register_events(toinsert);\n",
       "      // Render to node\n",
       "      var props = {data: data, metadata: metadata[EXEC_MIME_TYPE]};\n",
       "      render(props, toinsert[0]);\n",
       "      element.append(toinsert);\n",
       "      return toinsert\n",
       "    }\n",
       "\n",
       "    /* Handle when an output is cleared or removed */\n",
       "    events.on('clear_output.CodeCell', handleClearOutput);\n",
       "    events.on('delete.Cell', handleClearOutput);\n",
       "\n",
       "    /* Handle when a new output is added */\n",
       "    events.on('output_added.OutputArea', handleAddOutput);\n",
       "\n",
       "    /**\n",
       "     * Register the mime type and append_mime function with output_area\n",
       "     */\n",
       "    OutputArea.prototype.register_mime_type(EXEC_MIME_TYPE, append_mime, {\n",
       "      /* Is output safe? */\n",
       "      safe: true,\n",
       "      /* Index of renderer in `output_area.display_order` */\n",
       "      index: 0\n",
       "    });\n",
       "  }\n",
       "\n",
       "  // register the mime type if in Jupyter Notebook environment and previously unregistered\n",
       "  if (root.Jupyter !== undefined) {\n",
       "    var events = require('base/js/events');\n",
       "    var OutputArea = require('notebook/js/outputarea').OutputArea;\n",
       "\n",
       "    if (OutputArea.prototype.mime_types().indexOf(EXEC_MIME_TYPE) == -1) {\n",
       "      register_renderer(events, OutputArea);\n",
       "    }\n",
       "  }\n",
       "\n",
       "  \n",
       "  if (typeof (root._bokeh_timeout) === \"undefined\" || force === true) {\n",
       "    root._bokeh_timeout = Date.now() + 5000;\n",
       "    root._bokeh_failed_load = false;\n",
       "  }\n",
       "\n",
       "  var NB_LOAD_WARNING = {'data': {'text/html':\n",
       "     \"<div style='background-color: #fdd'>\\n\"+\n",
       "     \"<p>\\n\"+\n",
       "     \"BokehJS does not appear to have successfully loaded. If loading BokehJS from CDN, this \\n\"+\n",
       "     \"may be due to a slow or bad network connection. Possible fixes:\\n\"+\n",
       "     \"</p>\\n\"+\n",
       "     \"<ul>\\n\"+\n",
       "     \"<li>re-rerun `output_notebook()` to attempt to load from CDN again, or</li>\\n\"+\n",
       "     \"<li>use INLINE resources instead, as so:</li>\\n\"+\n",
       "     \"</ul>\\n\"+\n",
       "     \"<code>\\n\"+\n",
       "     \"from bokeh.resources import INLINE\\n\"+\n",
       "     \"output_notebook(resources=INLINE)\\n\"+\n",
       "     \"</code>\\n\"+\n",
       "     \"</div>\"}};\n",
       "\n",
       "  function display_loaded() {\n",
       "    var el = document.getElementById(\"0ec7b905-5a2f-4218-9309-6d8d05551ec4\");\n",
       "    if (el != null) {\n",
       "      el.textContent = \"BokehJS is loading...\";\n",
       "    }\n",
       "    if (root.Bokeh !== undefined) {\n",
       "      if (el != null) {\n",
       "        el.textContent = \"BokehJS \" + root.Bokeh.version + \" successfully loaded.\";\n",
       "      }\n",
       "    } else if (Date.now() < root._bokeh_timeout) {\n",
       "      setTimeout(display_loaded, 100)\n",
       "    }\n",
       "  }\n",
       "\n",
       "\n",
       "  function run_callbacks() {\n",
       "    try {\n",
       "      root._bokeh_onload_callbacks.forEach(function(callback) { callback() });\n",
       "    }\n",
       "    finally {\n",
       "      delete root._bokeh_onload_callbacks\n",
       "    }\n",
       "    console.info(\"Bokeh: all callbacks have finished\");\n",
       "  }\n",
       "\n",
       "  function load_libs(js_urls, callback) {\n",
       "    root._bokeh_onload_callbacks.push(callback);\n",
       "    if (root._bokeh_is_loading > 0) {\n",
       "      console.log(\"Bokeh: BokehJS is being loaded, scheduling callback at\", now());\n",
       "      return null;\n",
       "    }\n",
       "    if (js_urls == null || js_urls.length === 0) {\n",
       "      run_callbacks();\n",
       "      return null;\n",
       "    }\n",
       "    console.log(\"Bokeh: BokehJS not loaded, scheduling load and callback at\", now());\n",
       "    root._bokeh_is_loading = js_urls.length;\n",
       "    for (var i = 0; i < js_urls.length; i++) {\n",
       "      var url = js_urls[i];\n",
       "      var s = document.createElement('script');\n",
       "      s.src = url;\n",
       "      s.async = false;\n",
       "      s.onreadystatechange = s.onload = function() {\n",
       "        root._bokeh_is_loading--;\n",
       "        if (root._bokeh_is_loading === 0) {\n",
       "          console.log(\"Bokeh: all BokehJS libraries loaded\");\n",
       "          run_callbacks()\n",
       "        }\n",
       "      };\n",
       "      s.onerror = function() {\n",
       "        console.warn(\"failed to load library \" + url);\n",
       "      };\n",
       "      console.log(\"Bokeh: injecting script tag for BokehJS library: \", url);\n",
       "      document.getElementsByTagName(\"head\")[0].appendChild(s);\n",
       "    }\n",
       "  };var element = document.getElementById(\"0ec7b905-5a2f-4218-9309-6d8d05551ec4\");\n",
       "  if (element == null) {\n",
       "    console.log(\"Bokeh: ERROR: autoload.js configured with elementid '0ec7b905-5a2f-4218-9309-6d8d05551ec4' but no matching script tag was found. \")\n",
       "    return false;\n",
       "  }\n",
       "\n",
       "  var js_urls = [\"https://cdn.pydata.org/bokeh/release/bokeh-0.12.10.min.js\", \"https://cdn.pydata.org/bokeh/release/bokeh-widgets-0.12.10.min.js\", \"https://cdn.pydata.org/bokeh/release/bokeh-tables-0.12.10.min.js\", \"https://cdn.pydata.org/bokeh/release/bokeh-gl-0.12.10.min.js\"];\n",
       "\n",
       "  var inline_js = [\n",
       "    function(Bokeh) {\n",
       "      Bokeh.set_log_level(\"info\");\n",
       "    },\n",
       "    \n",
       "    function(Bokeh) {\n",
       "      \n",
       "    },\n",
       "    function(Bokeh) {\n",
       "      console.log(\"Bokeh: injecting CSS: https://cdn.pydata.org/bokeh/release/bokeh-0.12.10.min.css\");\n",
       "      Bokeh.embed.inject_css(\"https://cdn.pydata.org/bokeh/release/bokeh-0.12.10.min.css\");\n",
       "      console.log(\"Bokeh: injecting CSS: https://cdn.pydata.org/bokeh/release/bokeh-widgets-0.12.10.min.css\");\n",
       "      Bokeh.embed.inject_css(\"https://cdn.pydata.org/bokeh/release/bokeh-widgets-0.12.10.min.css\");\n",
       "      console.log(\"Bokeh: injecting CSS: https://cdn.pydata.org/bokeh/release/bokeh-tables-0.12.10.min.css\");\n",
       "      Bokeh.embed.inject_css(\"https://cdn.pydata.org/bokeh/release/bokeh-tables-0.12.10.min.css\");\n",
       "    }\n",
       "  ];\n",
       "\n",
       "  function run_inline_js() {\n",
       "    \n",
       "    if ((root.Bokeh !== undefined) || (force === true)) {\n",
       "      for (var i = 0; i < inline_js.length; i++) {\n",
       "        inline_js[i].call(root, root.Bokeh);\n",
       "      }if (force === true) {\n",
       "        display_loaded();\n",
       "      }} else if (Date.now() < root._bokeh_timeout) {\n",
       "      setTimeout(run_inline_js, 100);\n",
       "    } else if (!root._bokeh_failed_load) {\n",
       "      console.log(\"Bokeh: BokehJS failed to load within specified timeout.\");\n",
       "      root._bokeh_failed_load = true;\n",
       "    } else if (force !== true) {\n",
       "      var cell = $(document.getElementById(\"0ec7b905-5a2f-4218-9309-6d8d05551ec4\")).parents('.cell').data().cell;\n",
       "      cell.output_area.append_execute_result(NB_LOAD_WARNING)\n",
       "    }\n",
       "\n",
       "  }\n",
       "\n",
       "  if (root._bokeh_is_loading === 0) {\n",
       "    console.log(\"Bokeh: BokehJS loaded, going straight to plotting\");\n",
       "    run_inline_js();\n",
       "  } else {\n",
       "    load_libs(js_urls, function() {\n",
       "      console.log(\"Bokeh: BokehJS plotting callback run at\", now());\n",
       "      run_inline_js();\n",
       "    });\n",
       "  }\n",
       "}(window));"
      ],
      "application/vnd.bokehjs_load.v0+json": "\n(function(root) {\n  function now() {\n    return new Date();\n  }\n\n  var force = true;\n\n  if (typeof (root._bokeh_onload_callbacks) === \"undefined\" || force === true) {\n    root._bokeh_onload_callbacks = [];\n    root._bokeh_is_loading = undefined;\n  }\n\n  \n\n  \n  if (typeof (root._bokeh_timeout) === \"undefined\" || force === true) {\n    root._bokeh_timeout = Date.now() + 5000;\n    root._bokeh_failed_load = false;\n  }\n\n  var NB_LOAD_WARNING = {'data': {'text/html':\n     \"<div style='background-color: #fdd'>\\n\"+\n     \"<p>\\n\"+\n     \"BokehJS does not appear to have successfully loaded. If loading BokehJS from CDN, this \\n\"+\n     \"may be due to a slow or bad network connection. Possible fixes:\\n\"+\n     \"</p>\\n\"+\n     \"<ul>\\n\"+\n     \"<li>re-rerun `output_notebook()` to attempt to load from CDN again, or</li>\\n\"+\n     \"<li>use INLINE resources instead, as so:</li>\\n\"+\n     \"</ul>\\n\"+\n     \"<code>\\n\"+\n     \"from bokeh.resources import INLINE\\n\"+\n     \"output_notebook(resources=INLINE)\\n\"+\n     \"</code>\\n\"+\n     \"</div>\"}};\n\n  function display_loaded() {\n    var el = document.getElementById(\"0ec7b905-5a2f-4218-9309-6d8d05551ec4\");\n    if (el != null) {\n      el.textContent = \"BokehJS is loading...\";\n    }\n    if (root.Bokeh !== undefined) {\n      if (el != null) {\n        el.textContent = \"BokehJS \" + root.Bokeh.version + \" successfully loaded.\";\n      }\n    } else if (Date.now() < root._bokeh_timeout) {\n      setTimeout(display_loaded, 100)\n    }\n  }\n\n\n  function run_callbacks() {\n    try {\n      root._bokeh_onload_callbacks.forEach(function(callback) { callback() });\n    }\n    finally {\n      delete root._bokeh_onload_callbacks\n    }\n    console.info(\"Bokeh: all callbacks have finished\");\n  }\n\n  function load_libs(js_urls, callback) {\n    root._bokeh_onload_callbacks.push(callback);\n    if (root._bokeh_is_loading > 0) {\n      console.log(\"Bokeh: BokehJS is being loaded, scheduling callback at\", now());\n      return null;\n    }\n    if (js_urls == null || js_urls.length === 0) {\n      run_callbacks();\n      return null;\n    }\n    console.log(\"Bokeh: BokehJS not loaded, scheduling load and callback at\", now());\n    root._bokeh_is_loading = js_urls.length;\n    for (var i = 0; i < js_urls.length; i++) {\n      var url = js_urls[i];\n      var s = document.createElement('script');\n      s.src = url;\n      s.async = false;\n      s.onreadystatechange = s.onload = function() {\n        root._bokeh_is_loading--;\n        if (root._bokeh_is_loading === 0) {\n          console.log(\"Bokeh: all BokehJS libraries loaded\");\n          run_callbacks()\n        }\n      };\n      s.onerror = function() {\n        console.warn(\"failed to load library \" + url);\n      };\n      console.log(\"Bokeh: injecting script tag for BokehJS library: \", url);\n      document.getElementsByTagName(\"head\")[0].appendChild(s);\n    }\n  };var element = document.getElementById(\"0ec7b905-5a2f-4218-9309-6d8d05551ec4\");\n  if (element == null) {\n    console.log(\"Bokeh: ERROR: autoload.js configured with elementid '0ec7b905-5a2f-4218-9309-6d8d05551ec4' but no matching script tag was found. \")\n    return false;\n  }\n\n  var js_urls = [\"https://cdn.pydata.org/bokeh/release/bokeh-0.12.10.min.js\", \"https://cdn.pydata.org/bokeh/release/bokeh-widgets-0.12.10.min.js\", \"https://cdn.pydata.org/bokeh/release/bokeh-tables-0.12.10.min.js\", \"https://cdn.pydata.org/bokeh/release/bokeh-gl-0.12.10.min.js\"];\n\n  var inline_js = [\n    function(Bokeh) {\n      Bokeh.set_log_level(\"info\");\n    },\n    \n    function(Bokeh) {\n      \n    },\n    function(Bokeh) {\n      console.log(\"Bokeh: injecting CSS: https://cdn.pydata.org/bokeh/release/bokeh-0.12.10.min.css\");\n      Bokeh.embed.inject_css(\"https://cdn.pydata.org/bokeh/release/bokeh-0.12.10.min.css\");\n      console.log(\"Bokeh: injecting CSS: https://cdn.pydata.org/bokeh/release/bokeh-widgets-0.12.10.min.css\");\n      Bokeh.embed.inject_css(\"https://cdn.pydata.org/bokeh/release/bokeh-widgets-0.12.10.min.css\");\n      console.log(\"Bokeh: injecting CSS: https://cdn.pydata.org/bokeh/release/bokeh-tables-0.12.10.min.css\");\n      Bokeh.embed.inject_css(\"https://cdn.pydata.org/bokeh/release/bokeh-tables-0.12.10.min.css\");\n    }\n  ];\n\n  function run_inline_js() {\n    \n    if ((root.Bokeh !== undefined) || (force === true)) {\n      for (var i = 0; i < inline_js.length; i++) {\n        inline_js[i].call(root, root.Bokeh);\n      }if (force === true) {\n        display_loaded();\n      }} else if (Date.now() < root._bokeh_timeout) {\n      setTimeout(run_inline_js, 100);\n    } else if (!root._bokeh_failed_load) {\n      console.log(\"Bokeh: BokehJS failed to load within specified timeout.\");\n      root._bokeh_failed_load = true;\n    } else if (force !== true) {\n      var cell = $(document.getElementById(\"0ec7b905-5a2f-4218-9309-6d8d05551ec4\")).parents('.cell').data().cell;\n      cell.output_area.append_execute_result(NB_LOAD_WARNING)\n    }\n\n  }\n\n  if (root._bokeh_is_loading === 0) {\n    console.log(\"Bokeh: BokehJS loaded, going straight to plotting\");\n    run_inline_js();\n  } else {\n    load_libs(js_urls, function() {\n      console.log(\"Bokeh: BokehJS plotting callback run at\", now());\n      run_inline_js();\n    });\n  }\n}(window));"
     },
     "metadata": {},
     "output_type": "display_data"
    },
    {
     "data": {
      "text/html": [
       "\n",
       "<div class=\"bk-root\">\n",
       "    <div class=\"bk-plotdiv\" id=\"2e0c25b3-bf5f-41c1-a91a-339b5d375af4\"></div>\n",
       "</div>"
      ]
     },
     "metadata": {},
     "output_type": "display_data"
    },
    {
     "data": {
      "application/javascript": [
       "(function(root) {\n",
       "  function embed_document(root) {\n",
       "    var docs_json = {\"c7b2ebbc-cb45-4573-84be-6da72e46cc18\":{\"roots\":{\"references\":[{\"attributes\":{\"dimension\":1,\"grid_line_dash\":[6],\"grid_line_width\":{\"value\":3},\"plot\":{\"id\":\"f1d51c31-c137-4214-b400-a6f0c2ed73e9\",\"subtype\":\"Figure\",\"type\":\"Plot\"},\"ticker\":{\"id\":\"1e52f5b3-bd15-4cb9-a97e-c6ad28eeb10c\",\"type\":\"BasicTicker\"}},\"id\":\"61acb4cb-d280-4c98-a996-6b237f293637\",\"type\":\"Grid\"},{\"attributes\":{\"callback\":null,\"column_names\":[\"x\",\"y\"],\"data\":{\"x\":[0],\"y\":[0]}},\"id\":\"9c602cc1-b4e3-44e9-ac52-4486604329a7\",\"type\":\"ColumnDataSource\"},{\"attributes\":{\"active_drag\":\"auto\",\"active_inspect\":\"auto\",\"active_scroll\":\"auto\",\"active_tap\":\"auto\",\"tools\":[{\"id\":\"fb63d4c5-6bb3-4243-a8f2-b3c1d72c669b\",\"type\":\"PanTool\"},{\"id\":\"07c6f6bf-a035-42eb-99f8-8368db579fa1\",\"type\":\"WheelZoomTool\"},{\"id\":\"bbce1557-16fa-4c37-9cfc-2452d0c18f6e\",\"type\":\"BoxZoomTool\"},{\"id\":\"081c791a-761a-4c43-b8b4-4df8c620ec50\",\"type\":\"SaveTool\"},{\"id\":\"29afd63c-09da-421c-b236-053ceef08b3b\",\"type\":\"ResetTool\"},{\"id\":\"9caa6ef4-df37-431f-84cf-a82658e082f9\",\"type\":\"HelpTool\"}]},\"id\":\"e7654cae-46eb-4e97-9c62-c34589d67c34\",\"type\":\"Toolbar\"},{\"attributes\":{},\"id\":\"4539f840-0f79-4368-93f4-89a4e74a463e\",\"type\":\"LinearScale\"},{\"attributes\":{\"callback\":null},\"id\":\"0c4b369e-09cc-4379-888a-ac97d8d427b9\",\"type\":\"DataRange1d\"},{\"attributes\":{\"callback\":null},\"id\":\"1fd6e75b-e693-4d49-a095-7ff48be9956f\",\"type\":\"DataRange1d\"},{\"attributes\":{\"fill_alpha\":{\"value\":0.1},\"fill_color\":{\"value\":\"#1f77b4\"},\"line_alpha\":{\"value\":0.1},\"line_color\":{\"value\":\"#1f77b4\"},\"x\":{\"field\":\"x\"},\"y\":{\"field\":\"y\"}},\"id\":\"740dcf54-7a29-4f81-8d99-72c51e5695d8\",\"type\":\"Circle\"},{\"attributes\":{},\"id\":\"2315c598-3c02-4130-ad13-56aec3223fa8\",\"type\":\"LinearScale\"},{\"attributes\":{\"grid_line_alpha\":{\"value\":0.5},\"grid_line_color\":{\"value\":\"red\"},\"grid_line_width\":{\"value\":3},\"plot\":{\"id\":\"f1d51c31-c137-4214-b400-a6f0c2ed73e9\",\"subtype\":\"Figure\",\"type\":\"Plot\"},\"ticker\":{\"id\":\"e11ad091-eafe-4912-898d-36f84d9e32ed\",\"type\":\"BasicTicker\"}},\"id\":\"12a81c08-6d73-467a-9771-d89383aa69d6\",\"type\":\"Grid\"},{\"attributes\":{\"formatter\":{\"id\":\"e8182e25-7a1d-4ee9-8274-7d7382a575a5\",\"type\":\"BasicTickFormatter\"},\"plot\":{\"id\":\"f1d51c31-c137-4214-b400-a6f0c2ed73e9\",\"subtype\":\"Figure\",\"type\":\"Plot\"},\"ticker\":{\"id\":\"e11ad091-eafe-4912-898d-36f84d9e32ed\",\"type\":\"BasicTicker\"}},\"id\":\"7d0507b6-269b-463a-a906-32db94f411ad\",\"type\":\"LinearAxis\"},{\"attributes\":{},\"id\":\"e11ad091-eafe-4912-898d-36f84d9e32ed\",\"type\":\"BasicTicker\"},{\"attributes\":{\"formatter\":{\"id\":\"3c3b60bb-8164-4415-9798-f9260ce2fd92\",\"type\":\"BasicTickFormatter\"},\"plot\":{\"id\":\"f1d51c31-c137-4214-b400-a6f0c2ed73e9\",\"subtype\":\"Figure\",\"type\":\"Plot\"},\"ticker\":{\"id\":\"1e52f5b3-bd15-4cb9-a97e-c6ad28eeb10c\",\"type\":\"BasicTicker\"}},\"id\":\"966a3bfe-5fd3-4f4c-b6e6-928c8a30b8c6\",\"type\":\"LinearAxis\"},{\"attributes\":{},\"id\":\"1e52f5b3-bd15-4cb9-a97e-c6ad28eeb10c\",\"type\":\"BasicTicker\"},{\"attributes\":{},\"id\":\"07c6f6bf-a035-42eb-99f8-8368db579fa1\",\"type\":\"WheelZoomTool\"},{\"attributes\":{\"overlay\":{\"id\":\"3dfc175e-249b-4ad2-8958-6f2a4fa64933\",\"type\":\"BoxAnnotation\"}},\"id\":\"bbce1557-16fa-4c37-9cfc-2452d0c18f6e\",\"type\":\"BoxZoomTool\"},{\"attributes\":{\"data_source\":{\"id\":\"9c602cc1-b4e3-44e9-ac52-4486604329a7\",\"type\":\"ColumnDataSource\"},\"glyph\":{\"id\":\"facba523-4772-4324-ad03-96c120ee0057\",\"type\":\"Circle\"},\"hover_glyph\":null,\"muted_glyph\":null,\"nonselection_glyph\":{\"id\":\"740dcf54-7a29-4f81-8d99-72c51e5695d8\",\"type\":\"Circle\"},\"selection_glyph\":null,\"view\":{\"id\":\"dd9431f8-923f-479e-aeb3-dc8a8f55ef4e\",\"type\":\"CDSView\"}},\"id\":\"0ac00cfd-8db7-42af-9fb0-6f998b95c359\",\"type\":\"GlyphRenderer\"},{\"attributes\":{\"fill_color\":{\"value\":\"#1f77b4\"},\"line_color\":{\"value\":\"#1f77b4\"},\"x\":{\"field\":\"x\"},\"y\":{\"field\":\"y\"}},\"id\":\"facba523-4772-4324-ad03-96c120ee0057\",\"type\":\"Circle\"},{\"attributes\":{\"bottom_units\":\"screen\",\"fill_alpha\":{\"value\":0.5},\"fill_color\":{\"value\":\"lightgrey\"},\"left_units\":\"screen\",\"level\":\"overlay\",\"line_alpha\":{\"value\":1.0},\"line_color\":{\"value\":\"black\"},\"line_dash\":[4,4],\"line_width\":{\"value\":2},\"plot\":null,\"render_mode\":\"css\",\"right_units\":\"screen\",\"top_units\":\"screen\"},\"id\":\"3dfc175e-249b-4ad2-8958-6f2a4fa64933\",\"type\":\"BoxAnnotation\"},{\"attributes\":{},\"id\":\"fb63d4c5-6bb3-4243-a8f2-b3c1d72c669b\",\"type\":\"PanTool\"},{\"attributes\":{\"source\":{\"id\":\"9c602cc1-b4e3-44e9-ac52-4486604329a7\",\"type\":\"ColumnDataSource\"}},\"id\":\"dd9431f8-923f-479e-aeb3-dc8a8f55ef4e\",\"type\":\"CDSView\"},{\"attributes\":{},\"id\":\"081c791a-761a-4c43-b8b4-4df8c620ec50\",\"type\":\"SaveTool\"},{\"attributes\":{},\"id\":\"29afd63c-09da-421c-b236-053ceef08b3b\",\"type\":\"ResetTool\"},{\"attributes\":{},\"id\":\"9caa6ef4-df37-431f-84cf-a82658e082f9\",\"type\":\"HelpTool\"},{\"attributes\":{},\"id\":\"3c3b60bb-8164-4415-9798-f9260ce2fd92\",\"type\":\"BasicTickFormatter\"},{\"attributes\":{},\"id\":\"e8182e25-7a1d-4ee9-8274-7d7382a575a5\",\"type\":\"BasicTickFormatter\"},{\"attributes\":{\"plot\":null,\"text\":\"\"},\"id\":\"046c25fe-4504-42d6-a2b9-fad45e4b9b40\",\"type\":\"Title\"},{\"attributes\":{\"below\":[{\"id\":\"7d0507b6-269b-463a-a906-32db94f411ad\",\"type\":\"LinearAxis\"}],\"left\":[{\"id\":\"966a3bfe-5fd3-4f4c-b6e6-928c8a30b8c6\",\"type\":\"LinearAxis\"}],\"plot_height\":200,\"plot_width\":200,\"renderers\":[{\"id\":\"7d0507b6-269b-463a-a906-32db94f411ad\",\"type\":\"LinearAxis\"},{\"id\":\"12a81c08-6d73-467a-9771-d89383aa69d6\",\"type\":\"Grid\"},{\"id\":\"966a3bfe-5fd3-4f4c-b6e6-928c8a30b8c6\",\"type\":\"LinearAxis\"},{\"id\":\"61acb4cb-d280-4c98-a996-6b237f293637\",\"type\":\"Grid\"},{\"id\":\"3dfc175e-249b-4ad2-8958-6f2a4fa64933\",\"type\":\"BoxAnnotation\"},{\"id\":\"0ac00cfd-8db7-42af-9fb0-6f998b95c359\",\"type\":\"GlyphRenderer\"}],\"title\":{\"id\":\"046c25fe-4504-42d6-a2b9-fad45e4b9b40\",\"type\":\"Title\"},\"toolbar\":{\"id\":\"e7654cae-46eb-4e97-9c62-c34589d67c34\",\"type\":\"Toolbar\"},\"x_range\":{\"id\":\"0c4b369e-09cc-4379-888a-ac97d8d427b9\",\"type\":\"DataRange1d\"},\"x_scale\":{\"id\":\"4539f840-0f79-4368-93f4-89a4e74a463e\",\"type\":\"LinearScale\"},\"y_range\":{\"id\":\"1fd6e75b-e693-4d49-a095-7ff48be9956f\",\"type\":\"DataRange1d\"},\"y_scale\":{\"id\":\"2315c598-3c02-4130-ad13-56aec3223fa8\",\"type\":\"LinearScale\"}},\"id\":\"f1d51c31-c137-4214-b400-a6f0c2ed73e9\",\"subtype\":\"Figure\",\"type\":\"Plot\"}],\"root_ids\":[\"f1d51c31-c137-4214-b400-a6f0c2ed73e9\"]},\"title\":\"Bokeh Application\",\"version\":\"0.12.10\"}};\n",
       "    var render_items = [{\"docid\":\"c7b2ebbc-cb45-4573-84be-6da72e46cc18\",\"elementid\":\"2e0c25b3-bf5f-41c1-a91a-339b5d375af4\",\"modelid\":\"f1d51c31-c137-4214-b400-a6f0c2ed73e9\"}];\n",
       "\n",
       "    root.Bokeh.embed.embed_items(docs_json, render_items);\n",
       "  }\n",
       "\n",
       "  if (root.Bokeh !== undefined) {\n",
       "    embed_document(root);\n",
       "  } else {\n",
       "    var attempts = 0;\n",
       "    var timer = setInterval(function(root) {\n",
       "      if (root.Bokeh !== undefined) {\n",
       "        embed_document(root);\n",
       "        clearInterval(timer);\n",
       "      }\n",
       "      attempts++;\n",
       "      if (attempts > 100) {\n",
       "        console.log(\"Bokeh: ERROR: Unable to embed document because BokehJS library is missing\")\n",
       "        clearInterval(timer);\n",
       "      }\n",
       "    }, 10, root)\n",
       "  }\n",
       "})(window);"
      ],
      "application/vnd.bokehjs_exec.v0+json": ""
     },
     "metadata": {
      "application/vnd.bokehjs_exec.v0+json": {
       "id": "f1d51c31-c137-4214-b400-a6f0c2ed73e9"
      }
     },
     "output_type": "display_data"
    }
   ],
   "source": [
    "from bokeh.plotting import figure, output_notebook, show\n",
    "\n",
    "output_notebook()\n",
    "\n",
    "# 主目盛り線の書式設定\n",
    "\n",
    "p = figure(plot_width=200, plot_height=200)\n",
    "p.circle([0], [0])\n",
    "p.grid.grid_line_width = 3\n",
    "p.xgrid.grid_line_color = 'red'\n",
    "p.xgrid.grid_line_alpha = 0.5\n",
    "p.ygrid.grid_line_dash = 'dashed'\n",
    "\n",
    "show(p)"
   ]
  },
  {
   "cell_type": "code",
   "execution_count": 3,
   "metadata": {},
   "outputs": [
    {
     "data": {
      "text/html": [
       "\n",
       "<div class=\"bk-root\">\n",
       "    <div class=\"bk-plotdiv\" id=\"dc397734-1156-4cf2-b2b4-5ca880fd9120\"></div>\n",
       "</div>"
      ]
     },
     "metadata": {},
     "output_type": "display_data"
    },
    {
     "data": {
      "application/javascript": [
       "(function(root) {\n",
       "  function embed_document(root) {\n",
       "    var docs_json = {\"504bb99c-b4e2-4789-aff4-755dae717ac1\":{\"roots\":{\"references\":[{\"attributes\":{\"bottom_units\":\"screen\",\"fill_alpha\":{\"value\":0.5},\"fill_color\":{\"value\":\"lightgrey\"},\"left_units\":\"screen\",\"level\":\"overlay\",\"line_alpha\":{\"value\":1.0},\"line_color\":{\"value\":\"black\"},\"line_dash\":[4,4],\"line_width\":{\"value\":2},\"plot\":null,\"render_mode\":\"css\",\"right_units\":\"screen\",\"top_units\":\"screen\"},\"id\":\"30206f93-5ad1-4cd9-b3a7-0c821064104f\",\"type\":\"BoxAnnotation\"},{\"attributes\":{},\"id\":\"cf223e0f-6e92-4a61-b6bd-81b21869dd79\",\"type\":\"LinearScale\"},{\"attributes\":{},\"id\":\"7c95dcc3-54ae-44bc-a057-5fa9eaeeac6d\",\"type\":\"LinearScale\"},{\"attributes\":{},\"id\":\"c304f2b3-997f-47a8-8e49-b33c87eb5cf7\",\"type\":\"BasicTicker\"},{\"attributes\":{\"plot\":{\"id\":\"3815f018-db15-4ad2-a178-10a6165a92c8\",\"subtype\":\"Figure\",\"type\":\"Plot\"},\"ticker\":{\"id\":\"306b155d-77e3-4f47-882c-76c1dfc884ca\",\"type\":\"BasicTicker\"}},\"id\":\"77feeb6d-d5ee-47ae-bde7-803455ddfea4\",\"type\":\"Grid\"},{\"attributes\":{\"formatter\":{\"id\":\"cb326238-6576-4b16-bc73-b1dadb9ef22f\",\"type\":\"BasicTickFormatter\"},\"plot\":{\"id\":\"3815f018-db15-4ad2-a178-10a6165a92c8\",\"subtype\":\"Figure\",\"type\":\"Plot\"},\"ticker\":{\"id\":\"306b155d-77e3-4f47-882c-76c1dfc884ca\",\"type\":\"BasicTicker\"}},\"id\":\"bbdf9100-7853-4f25-95fc-15548cd939df\",\"type\":\"LinearAxis\"},{\"attributes\":{\"formatter\":{\"id\":\"eec2ff69-9fc8-4e58-a7c9-b7be42e81df5\",\"type\":\"BasicTickFormatter\"},\"plot\":{\"id\":\"3815f018-db15-4ad2-a178-10a6165a92c8\",\"subtype\":\"Figure\",\"type\":\"Plot\"},\"ticker\":{\"id\":\"c304f2b3-997f-47a8-8e49-b33c87eb5cf7\",\"type\":\"BasicTicker\"}},\"id\":\"8249b81a-f3f7-4621-8643-f9e81a093fb3\",\"type\":\"LinearAxis\"},{\"attributes\":{},\"id\":\"306b155d-77e3-4f47-882c-76c1dfc884ca\",\"type\":\"BasicTicker\"},{\"attributes\":{\"dimension\":1,\"minor_grid_line_alpha\":{\"value\":0.2},\"minor_grid_line_color\":{\"value\":\"black\"},\"plot\":{\"id\":\"3815f018-db15-4ad2-a178-10a6165a92c8\",\"subtype\":\"Figure\",\"type\":\"Plot\"},\"ticker\":{\"id\":\"c304f2b3-997f-47a8-8e49-b33c87eb5cf7\",\"type\":\"BasicTicker\"}},\"id\":\"6dcfd574-8e5e-4c27-bc7c-0f00d2830847\",\"type\":\"Grid\"},{\"attributes\":{},\"id\":\"2dfb8403-3aa3-4260-896e-9c2d52de4a33\",\"type\":\"SaveTool\"},{\"attributes\":{\"callback\":null},\"id\":\"eb5d2174-bc91-46a6-9e7c-193f024e6be9\",\"type\":\"DataRange1d\"},{\"attributes\":{},\"id\":\"9db1543d-7e2d-4e42-994a-8bce259b3a39\",\"type\":\"PanTool\"},{\"attributes\":{\"fill_alpha\":{\"value\":0.1},\"fill_color\":{\"value\":\"#1f77b4\"},\"line_alpha\":{\"value\":0.1},\"line_color\":{\"value\":\"#1f77b4\"},\"x\":{\"field\":\"x\"},\"y\":{\"field\":\"y\"}},\"id\":\"2e94ec47-8e12-4c99-9d24-46cdc8ef74ee\",\"type\":\"Circle\"},{\"attributes\":{},\"id\":\"b3919da8-a21e-4d69-bd95-7564564bb4e7\",\"type\":\"WheelZoomTool\"},{\"attributes\":{},\"id\":\"27d1cb21-9570-407d-8762-4e9c12a556f3\",\"type\":\"HelpTool\"},{\"attributes\":{},\"id\":\"eec2ff69-9fc8-4e58-a7c9-b7be42e81df5\",\"type\":\"BasicTickFormatter\"},{\"attributes\":{\"plot\":null,\"text\":\"\"},\"id\":\"fc4dcc75-54a0-4668-928e-8441407f7ae1\",\"type\":\"Title\"},{\"attributes\":{\"source\":{\"id\":\"a04464d4-3fec-42fb-ad52-aaa07831402c\",\"type\":\"ColumnDataSource\"}},\"id\":\"9bca932a-2346-46af-98fb-45861cf0629d\",\"type\":\"CDSView\"},{\"attributes\":{\"data_source\":{\"id\":\"a04464d4-3fec-42fb-ad52-aaa07831402c\",\"type\":\"ColumnDataSource\"},\"glyph\":{\"id\":\"385a5ea6-143f-43be-8cc7-aef4c9627df3\",\"type\":\"Circle\"},\"hover_glyph\":null,\"muted_glyph\":null,\"nonselection_glyph\":{\"id\":\"2e94ec47-8e12-4c99-9d24-46cdc8ef74ee\",\"type\":\"Circle\"},\"selection_glyph\":null,\"view\":{\"id\":\"9bca932a-2346-46af-98fb-45861cf0629d\",\"type\":\"CDSView\"}},\"id\":\"9bb2c122-f25c-4160-8cd8-364de4e3ac2e\",\"type\":\"GlyphRenderer\"},{\"attributes\":{},\"id\":\"cb326238-6576-4b16-bc73-b1dadb9ef22f\",\"type\":\"BasicTickFormatter\"},{\"attributes\":{\"fill_color\":{\"value\":\"#1f77b4\"},\"line_color\":{\"value\":\"#1f77b4\"},\"x\":{\"field\":\"x\"},\"y\":{\"field\":\"y\"}},\"id\":\"385a5ea6-143f-43be-8cc7-aef4c9627df3\",\"type\":\"Circle\"},{\"attributes\":{\"below\":[{\"id\":\"bbdf9100-7853-4f25-95fc-15548cd939df\",\"type\":\"LinearAxis\"}],\"left\":[{\"id\":\"8249b81a-f3f7-4621-8643-f9e81a093fb3\",\"type\":\"LinearAxis\"}],\"plot_height\":200,\"plot_width\":200,\"renderers\":[{\"id\":\"bbdf9100-7853-4f25-95fc-15548cd939df\",\"type\":\"LinearAxis\"},{\"id\":\"77feeb6d-d5ee-47ae-bde7-803455ddfea4\",\"type\":\"Grid\"},{\"id\":\"8249b81a-f3f7-4621-8643-f9e81a093fb3\",\"type\":\"LinearAxis\"},{\"id\":\"6dcfd574-8e5e-4c27-bc7c-0f00d2830847\",\"type\":\"Grid\"},{\"id\":\"30206f93-5ad1-4cd9-b3a7-0c821064104f\",\"type\":\"BoxAnnotation\"},{\"id\":\"9bb2c122-f25c-4160-8cd8-364de4e3ac2e\",\"type\":\"GlyphRenderer\"}],\"title\":{\"id\":\"fc4dcc75-54a0-4668-928e-8441407f7ae1\",\"type\":\"Title\"},\"toolbar\":{\"id\":\"468a146f-36a2-4e29-8c63-d76d0651d431\",\"type\":\"Toolbar\"},\"x_range\":{\"id\":\"56aad585-680b-4c09-a549-f69347f38058\",\"type\":\"DataRange1d\"},\"x_scale\":{\"id\":\"7c95dcc3-54ae-44bc-a057-5fa9eaeeac6d\",\"type\":\"LinearScale\"},\"y_range\":{\"id\":\"eb5d2174-bc91-46a6-9e7c-193f024e6be9\",\"type\":\"DataRange1d\"},\"y_scale\":{\"id\":\"cf223e0f-6e92-4a61-b6bd-81b21869dd79\",\"type\":\"LinearScale\"}},\"id\":\"3815f018-db15-4ad2-a178-10a6165a92c8\",\"subtype\":\"Figure\",\"type\":\"Plot\"},{\"attributes\":{\"callback\":null,\"column_names\":[\"x\",\"y\"],\"data\":{\"x\":[0],\"y\":[0]}},\"id\":\"a04464d4-3fec-42fb-ad52-aaa07831402c\",\"type\":\"ColumnDataSource\"},{\"attributes\":{\"active_drag\":\"auto\",\"active_inspect\":\"auto\",\"active_scroll\":\"auto\",\"active_tap\":\"auto\",\"tools\":[{\"id\":\"9db1543d-7e2d-4e42-994a-8bce259b3a39\",\"type\":\"PanTool\"},{\"id\":\"b3919da8-a21e-4d69-bd95-7564564bb4e7\",\"type\":\"WheelZoomTool\"},{\"id\":\"0698c2cf-16a4-4632-ae63-f355a8b359bd\",\"type\":\"BoxZoomTool\"},{\"id\":\"2dfb8403-3aa3-4260-896e-9c2d52de4a33\",\"type\":\"SaveTool\"},{\"id\":\"9ce32f68-bd21-4599-9b6c-a4596cc1c21e\",\"type\":\"ResetTool\"},{\"id\":\"27d1cb21-9570-407d-8762-4e9c12a556f3\",\"type\":\"HelpTool\"}]},\"id\":\"468a146f-36a2-4e29-8c63-d76d0651d431\",\"type\":\"Toolbar\"},{\"attributes\":{},\"id\":\"9ce32f68-bd21-4599-9b6c-a4596cc1c21e\",\"type\":\"ResetTool\"},{\"attributes\":{\"callback\":null},\"id\":\"56aad585-680b-4c09-a549-f69347f38058\",\"type\":\"DataRange1d\"},{\"attributes\":{\"overlay\":{\"id\":\"30206f93-5ad1-4cd9-b3a7-0c821064104f\",\"type\":\"BoxAnnotation\"}},\"id\":\"0698c2cf-16a4-4632-ae63-f355a8b359bd\",\"type\":\"BoxZoomTool\"}],\"root_ids\":[\"3815f018-db15-4ad2-a178-10a6165a92c8\"]},\"title\":\"Bokeh Application\",\"version\":\"0.12.10\"}};\n",
       "    var render_items = [{\"docid\":\"504bb99c-b4e2-4789-aff4-755dae717ac1\",\"elementid\":\"dc397734-1156-4cf2-b2b4-5ca880fd9120\",\"modelid\":\"3815f018-db15-4ad2-a178-10a6165a92c8\"}];\n",
       "\n",
       "    root.Bokeh.embed.embed_items(docs_json, render_items);\n",
       "  }\n",
       "\n",
       "  if (root.Bokeh !== undefined) {\n",
       "    embed_document(root);\n",
       "  } else {\n",
       "    var attempts = 0;\n",
       "    var timer = setInterval(function(root) {\n",
       "      if (root.Bokeh !== undefined) {\n",
       "        embed_document(root);\n",
       "        clearInterval(timer);\n",
       "      }\n",
       "      attempts++;\n",
       "      if (attempts > 100) {\n",
       "        console.log(\"Bokeh: ERROR: Unable to embed document because BokehJS library is missing\")\n",
       "        clearInterval(timer);\n",
       "      }\n",
       "    }, 10, root)\n",
       "  }\n",
       "})(window);"
      ],
      "application/vnd.bokehjs_exec.v0+json": ""
     },
     "metadata": {
      "application/vnd.bokehjs_exec.v0+json": {
       "id": "3815f018-db15-4ad2-a178-10a6165a92c8"
      }
     },
     "output_type": "display_data"
    }
   ],
   "source": [
    "#　補助目盛り線\n",
    "p = figure(plot_width=200, plot_height=200)\n",
    "p.circle([0], [0])\n",
    "p.ygrid.minor_grid_line_color = 'black'\n",
    "p.ygrid.minor_grid_line_alpha = 0.2\n",
    "show(p)"
   ]
  },
  {
   "cell_type": "code",
   "execution_count": 8,
   "metadata": {},
   "outputs": [
    {
     "data": {
      "text/html": [
       "\n",
       "<div class=\"bk-root\">\n",
       "    <div class=\"bk-plotdiv\" id=\"036fa430-76b5-42ed-b40b-79c01bf37947\"></div>\n",
       "</div>"
      ]
     },
     "metadata": {},
     "output_type": "display_data"
    },
    {
     "data": {
      "application/javascript": [
       "(function(root) {\n",
       "  function embed_document(root) {\n",
       "    var docs_json = {\"7039cbb0-f3a3-4dbf-a297-ae25374b15ef\":{\"roots\":{\"references\":[{\"attributes\":{\"data_source\":{\"id\":\"7bc23e9c-8313-4f20-8fe2-cd41e49ad0bf\",\"type\":\"ColumnDataSource\"},\"glyph\":{\"id\":\"b2dd1094-9b8c-499e-83c2-f9192331f83c\",\"type\":\"Circle\"},\"hover_glyph\":null,\"muted_glyph\":null,\"nonselection_glyph\":{\"id\":\"1c793f48-8a08-4082-b0b8-24b96a1d5a1d\",\"type\":\"Circle\"},\"selection_glyph\":null,\"view\":{\"id\":\"fcb16862-7108-4ddf-990f-3afeac197f72\",\"type\":\"CDSView\"}},\"id\":\"cf0a109a-a148-4894-823f-6f0e4ba2b4ee\",\"type\":\"GlyphRenderer\"},{\"attributes\":{},\"id\":\"cfae3d18-fc61-4ac9-9bc5-9593413baf58\",\"type\":\"LinearScale\"},{\"attributes\":{\"plot\":{\"id\":\"739d8436-92cd-458d-9435-e67923005740\",\"subtype\":\"Figure\",\"type\":\"Plot\"},\"ticker\":{\"id\":\"cdfee4e9-7f74-4495-a954-3e2781b66d52\",\"type\":\"BasicTicker\"}},\"id\":\"31d418fc-c706-4621-83f5-2662c9985ad5\",\"type\":\"Grid\"},{\"attributes\":{\"formatter\":{\"id\":\"cb560d37-af7b-4123-948e-39c749caebba\",\"type\":\"BasicTickFormatter\"},\"major_tick_line_width\":{\"value\":3},\"plot\":{\"id\":\"739d8436-92cd-458d-9435-e67923005740\",\"subtype\":\"Figure\",\"type\":\"Plot\"},\"ticker\":{\"id\":\"cdfee4e9-7f74-4495-a954-3e2781b66d52\",\"type\":\"BasicTicker\"}},\"id\":\"b5e26878-393f-49ce-93ca-848d828a63cb\",\"type\":\"LinearAxis\"},{\"attributes\":{},\"id\":\"cdfee4e9-7f74-4495-a954-3e2781b66d52\",\"type\":\"BasicTicker\"},{\"attributes\":{\"formatter\":{\"id\":\"a3eddc2a-f1b3-4d46-af9c-6c5db7923b0f\",\"type\":\"BasicTickFormatter\"},\"major_tick_line_color\":{\"value\":\"blue\"},\"plot\":{\"id\":\"739d8436-92cd-458d-9435-e67923005740\",\"subtype\":\"Figure\",\"type\":\"Plot\"},\"ticker\":{\"id\":\"1ca4a58c-e933-4aa6-b42c-6dbb6e498f92\",\"type\":\"BasicTicker\"}},\"id\":\"b19208c7-17a7-4cf3-9c82-86afc021ddec\",\"type\":\"LinearAxis\"},{\"attributes\":{},\"id\":\"1ca4a58c-e933-4aa6-b42c-6dbb6e498f92\",\"type\":\"BasicTicker\"},{\"attributes\":{\"dimension\":1,\"plot\":{\"id\":\"739d8436-92cd-458d-9435-e67923005740\",\"subtype\":\"Figure\",\"type\":\"Plot\"},\"ticker\":{\"id\":\"1ca4a58c-e933-4aa6-b42c-6dbb6e498f92\",\"type\":\"BasicTicker\"}},\"id\":\"dd40473e-a851-40e6-be54-867365a2c153\",\"type\":\"Grid\"},{\"attributes\":{\"callback\":null},\"id\":\"6aaa3b1c-8478-4365-9cd2-a004dd13db5a\",\"type\":\"DataRange1d\"},{\"attributes\":{\"source\":{\"id\":\"7bc23e9c-8313-4f20-8fe2-cd41e49ad0bf\",\"type\":\"ColumnDataSource\"}},\"id\":\"fcb16862-7108-4ddf-990f-3afeac197f72\",\"type\":\"CDSView\"},{\"attributes\":{\"callback\":null},\"id\":\"99ab5469-eaa3-4cf0-9c94-2082a15779a0\",\"type\":\"DataRange1d\"},{\"attributes\":{\"bottom_units\":\"screen\",\"fill_alpha\":{\"value\":0.5},\"fill_color\":{\"value\":\"lightgrey\"},\"left_units\":\"screen\",\"level\":\"overlay\",\"line_alpha\":{\"value\":1.0},\"line_color\":{\"value\":\"black\"},\"line_dash\":[4,4],\"line_width\":{\"value\":2},\"plot\":null,\"render_mode\":\"css\",\"right_units\":\"screen\",\"top_units\":\"screen\"},\"id\":\"9d7098a0-a722-41d3-b8ee-050739800353\",\"type\":\"BoxAnnotation\"},{\"attributes\":{},\"id\":\"fab12225-51b3-4603-bd45-692bda6850f0\",\"type\":\"PanTool\"},{\"attributes\":{},\"id\":\"cb560d37-af7b-4123-948e-39c749caebba\",\"type\":\"BasicTickFormatter\"},{\"attributes\":{},\"id\":\"d8b40321-239c-45fb-bbf9-9540a79a530a\",\"type\":\"WheelZoomTool\"},{\"attributes\":{\"overlay\":{\"id\":\"9d7098a0-a722-41d3-b8ee-050739800353\",\"type\":\"BoxAnnotation\"}},\"id\":\"73596ce5-835d-40e4-8c3c-0c776fb75b8b\",\"type\":\"BoxZoomTool\"},{\"attributes\":{},\"id\":\"b9faad5e-fd4d-4a51-9aa2-ae305fe0e884\",\"type\":\"LinearScale\"},{\"attributes\":{},\"id\":\"5ab45d7a-8d05-401c-af07-9941f80a2473\",\"type\":\"SaveTool\"},{\"attributes\":{},\"id\":\"a3eddc2a-f1b3-4d46-af9c-6c5db7923b0f\",\"type\":\"BasicTickFormatter\"},{\"attributes\":{},\"id\":\"8a71d662-eccd-4502-a6f2-41a770130ea6\",\"type\":\"ResetTool\"},{\"attributes\":{},\"id\":\"607358de-8e65-4149-bb2d-ba1f0ed8dcaf\",\"type\":\"HelpTool\"},{\"attributes\":{\"plot\":null,\"text\":\"\"},\"id\":\"0417805d-1e8d-48cf-94b6-3ea066706d35\",\"type\":\"Title\"},{\"attributes\":{\"callback\":null,\"column_names\":[\"x\",\"y\"],\"data\":{\"x\":[0],\"y\":[0]}},\"id\":\"7bc23e9c-8313-4f20-8fe2-cd41e49ad0bf\",\"type\":\"ColumnDataSource\"},{\"attributes\":{\"below\":[{\"id\":\"b5e26878-393f-49ce-93ca-848d828a63cb\",\"type\":\"LinearAxis\"}],\"left\":[{\"id\":\"b19208c7-17a7-4cf3-9c82-86afc021ddec\",\"type\":\"LinearAxis\"}],\"plot_height\":200,\"plot_width\":200,\"renderers\":[{\"id\":\"b5e26878-393f-49ce-93ca-848d828a63cb\",\"type\":\"LinearAxis\"},{\"id\":\"31d418fc-c706-4621-83f5-2662c9985ad5\",\"type\":\"Grid\"},{\"id\":\"b19208c7-17a7-4cf3-9c82-86afc021ddec\",\"type\":\"LinearAxis\"},{\"id\":\"dd40473e-a851-40e6-be54-867365a2c153\",\"type\":\"Grid\"},{\"id\":\"9d7098a0-a722-41d3-b8ee-050739800353\",\"type\":\"BoxAnnotation\"},{\"id\":\"cf0a109a-a148-4894-823f-6f0e4ba2b4ee\",\"type\":\"GlyphRenderer\"}],\"title\":{\"id\":\"0417805d-1e8d-48cf-94b6-3ea066706d35\",\"type\":\"Title\"},\"toolbar\":{\"id\":\"2d4145a2-5131-44df-914c-7a29a1920c02\",\"type\":\"Toolbar\"},\"x_range\":{\"id\":\"6aaa3b1c-8478-4365-9cd2-a004dd13db5a\",\"type\":\"DataRange1d\"},\"x_scale\":{\"id\":\"b9faad5e-fd4d-4a51-9aa2-ae305fe0e884\",\"type\":\"LinearScale\"},\"y_range\":{\"id\":\"99ab5469-eaa3-4cf0-9c94-2082a15779a0\",\"type\":\"DataRange1d\"},\"y_scale\":{\"id\":\"cfae3d18-fc61-4ac9-9bc5-9593413baf58\",\"type\":\"LinearScale\"}},\"id\":\"739d8436-92cd-458d-9435-e67923005740\",\"subtype\":\"Figure\",\"type\":\"Plot\"},{\"attributes\":{\"fill_color\":{\"value\":\"#1f77b4\"},\"line_color\":{\"value\":\"#1f77b4\"},\"x\":{\"field\":\"x\"},\"y\":{\"field\":\"y\"}},\"id\":\"b2dd1094-9b8c-499e-83c2-f9192331f83c\",\"type\":\"Circle\"},{\"attributes\":{\"fill_alpha\":{\"value\":0.1},\"fill_color\":{\"value\":\"#1f77b4\"},\"line_alpha\":{\"value\":0.1},\"line_color\":{\"value\":\"#1f77b4\"},\"x\":{\"field\":\"x\"},\"y\":{\"field\":\"y\"}},\"id\":\"1c793f48-8a08-4082-b0b8-24b96a1d5a1d\",\"type\":\"Circle\"},{\"attributes\":{\"active_drag\":\"auto\",\"active_inspect\":\"auto\",\"active_scroll\":\"auto\",\"active_tap\":\"auto\",\"tools\":[{\"id\":\"fab12225-51b3-4603-bd45-692bda6850f0\",\"type\":\"PanTool\"},{\"id\":\"d8b40321-239c-45fb-bbf9-9540a79a530a\",\"type\":\"WheelZoomTool\"},{\"id\":\"73596ce5-835d-40e4-8c3c-0c776fb75b8b\",\"type\":\"BoxZoomTool\"},{\"id\":\"5ab45d7a-8d05-401c-af07-9941f80a2473\",\"type\":\"SaveTool\"},{\"id\":\"8a71d662-eccd-4502-a6f2-41a770130ea6\",\"type\":\"ResetTool\"},{\"id\":\"607358de-8e65-4149-bb2d-ba1f0ed8dcaf\",\"type\":\"HelpTool\"}]},\"id\":\"2d4145a2-5131-44df-914c-7a29a1920c02\",\"type\":\"Toolbar\"}],\"root_ids\":[\"739d8436-92cd-458d-9435-e67923005740\"]},\"title\":\"Bokeh Application\",\"version\":\"0.12.10\"}};\n",
       "    var render_items = [{\"docid\":\"7039cbb0-f3a3-4dbf-a297-ae25374b15ef\",\"elementid\":\"036fa430-76b5-42ed-b40b-79c01bf37947\",\"modelid\":\"739d8436-92cd-458d-9435-e67923005740\"}];\n",
       "\n",
       "    root.Bokeh.embed.embed_items(docs_json, render_items);\n",
       "  }\n",
       "\n",
       "  if (root.Bokeh !== undefined) {\n",
       "    embed_document(root);\n",
       "  } else {\n",
       "    var attempts = 0;\n",
       "    var timer = setInterval(function(root) {\n",
       "      if (root.Bokeh !== undefined) {\n",
       "        embed_document(root);\n",
       "        clearInterval(timer);\n",
       "      }\n",
       "      attempts++;\n",
       "      if (attempts > 100) {\n",
       "        console.log(\"Bokeh: ERROR: Unable to embed document because BokehJS library is missing\")\n",
       "        clearInterval(timer);\n",
       "      }\n",
       "    }, 10, root)\n",
       "  }\n",
       "})(window);"
      ],
      "application/vnd.bokehjs_exec.v0+json": ""
     },
     "metadata": {
      "application/vnd.bokehjs_exec.v0+json": {
       "id": "739d8436-92cd-458d-9435-e67923005740"
      }
     },
     "output_type": "display_data"
    }
   ],
   "source": [
    "#編みかけ設定\n",
    "\n",
    "p = figure(plot_width=200, plot_height=200)\n",
    "p.circle([0, 1, 2], [0, 1, 2])\n",
    "p.ygrid.band_fill_color = 'red'\n",
    "p.ygrid.band_fill_alpha show(p)\n"
   ]
  },
  {
   "cell_type": "code",
   "execution_count": 9,
   "metadata": {},
   "outputs": [
    {
     "data": {
      "text/html": [
       "\n",
       "<div class=\"bk-root\">\n",
       "    <div class=\"bk-plotdiv\" id=\"89011469-bb66-4794-985d-240206bcb399\"></div>\n",
       "</div>"
      ]
     },
     "metadata": {},
     "output_type": "display_data"
    },
    {
     "data": {
      "application/javascript": [
       "(function(root) {\n",
       "  function embed_document(root) {\n",
       "    var docs_json = {\"a38fa6ca-5a71-4f4a-956e-dd56d1b2986f\":{\"roots\":{\"references\":[{\"attributes\":{\"bottom_units\":\"screen\",\"fill_alpha\":{\"value\":0.5},\"fill_color\":{\"value\":\"lightgrey\"},\"left_units\":\"screen\",\"level\":\"overlay\",\"line_alpha\":{\"value\":1.0},\"line_color\":{\"value\":\"black\"},\"line_dash\":[4,4],\"line_width\":{\"value\":2},\"plot\":null,\"render_mode\":\"css\",\"right_units\":\"screen\",\"top_units\":\"screen\"},\"id\":\"ce7af0a7-7df7-406f-9c9d-2b682a44fd45\",\"type\":\"BoxAnnotation\"},{\"attributes\":{},\"id\":\"0ec7f48d-5a7e-4d05-86bd-4c271a3a976b\",\"type\":\"HelpTool\"},{\"attributes\":{\"formatter\":{\"id\":\"f306ba05-fedf-41de-a1e6-9771e67ed4dd\",\"type\":\"BasicTickFormatter\"},\"major_label_text_font_size\":{\"value\":\"10pt\"},\"plot\":{\"id\":\"5d595cd0-def1-469a-ba7e-72c96ccf0f02\",\"subtype\":\"Figure\",\"type\":\"Plot\"},\"ticker\":{\"id\":\"06c75837-e087-4e77-a9a8-7f3a26c3c641\",\"type\":\"BasicTicker\"}},\"id\":\"1be3615e-4614-4fff-9c2f-52f4259b1e0b\",\"type\":\"LinearAxis\"},{\"attributes\":{\"data_source\":{\"id\":\"dc9fc465-1055-4f07-9dfb-58788bca7729\",\"type\":\"ColumnDataSource\"},\"glyph\":{\"id\":\"c30aefdd-c94d-4473-8ec9-1435a68fa8da\",\"type\":\"Circle\"},\"hover_glyph\":null,\"muted_glyph\":null,\"nonselection_glyph\":{\"id\":\"f92b8fff-ae20-4450-b7df-9d982273959f\",\"type\":\"Circle\"},\"selection_glyph\":null,\"view\":{\"id\":\"035a6fb9-3c8c-437a-8f07-512f41cc5d20\",\"type\":\"CDSView\"}},\"id\":\"f87c7088-5fbd-4b34-a952-992a90404a8c\",\"type\":\"GlyphRenderer\"},{\"attributes\":{\"callback\":null,\"column_names\":[\"x\",\"y\"],\"data\":{\"x\":[0],\"y\":[0]}},\"id\":\"dc9fc465-1055-4f07-9dfb-58788bca7729\",\"type\":\"ColumnDataSource\"},{\"attributes\":{\"below\":[{\"id\":\"2579d802-16be-407b-b52b-cbb7322f376e\",\"type\":\"LinearAxis\"}],\"left\":[{\"id\":\"1be3615e-4614-4fff-9c2f-52f4259b1e0b\",\"type\":\"LinearAxis\"}],\"plot_height\":200,\"plot_width\":200,\"renderers\":[{\"id\":\"2579d802-16be-407b-b52b-cbb7322f376e\",\"type\":\"LinearAxis\"},{\"id\":\"a1d03ac4-4023-40e4-a4c4-4405582e1038\",\"type\":\"Grid\"},{\"id\":\"1be3615e-4614-4fff-9c2f-52f4259b1e0b\",\"type\":\"LinearAxis\"},{\"id\":\"842e7276-2a34-45e4-8a9b-434b5c46e9b3\",\"type\":\"Grid\"},{\"id\":\"ce7af0a7-7df7-406f-9c9d-2b682a44fd45\",\"type\":\"BoxAnnotation\"},{\"id\":\"f87c7088-5fbd-4b34-a952-992a90404a8c\",\"type\":\"GlyphRenderer\"}],\"title\":{\"id\":\"ee9206bc-5767-4e86-81ee-722bf9ac503d\",\"type\":\"Title\"},\"toolbar\":{\"id\":\"c7b6ba2d-dbb6-4362-b5d8-4db4fe8a688b\",\"type\":\"Toolbar\"},\"x_range\":{\"id\":\"7689f8d0-6c94-4010-b7a7-0926bf6ea001\",\"type\":\"DataRange1d\"},\"x_scale\":{\"id\":\"47d65fb9-a975-42dd-b3c0-327089c4d541\",\"type\":\"LinearScale\"},\"y_range\":{\"id\":\"c0e938e5-30ce-4464-9c66-6b0359253ec7\",\"type\":\"DataRange1d\"},\"y_scale\":{\"id\":\"deaeda54-2ef1-46fb-80a4-2e6d28358e6e\",\"type\":\"LinearScale\"}},\"id\":\"5d595cd0-def1-469a-ba7e-72c96ccf0f02\",\"subtype\":\"Figure\",\"type\":\"Plot\"},{\"attributes\":{\"plot\":null,\"text\":\"\"},\"id\":\"ee9206bc-5767-4e86-81ee-722bf9ac503d\",\"type\":\"Title\"},{\"attributes\":{\"formatter\":{\"id\":\"8660f489-476e-4489-92ab-221fec977d45\",\"type\":\"BasicTickFormatter\"},\"major_label_text_color\":{\"value\":\"red\"},\"plot\":{\"id\":\"5d595cd0-def1-469a-ba7e-72c96ccf0f02\",\"subtype\":\"Figure\",\"type\":\"Plot\"},\"ticker\":{\"id\":\"655cb3d4-24e0-4a8d-bf1c-c4c93d90ae23\",\"type\":\"BasicTicker\"}},\"id\":\"2579d802-16be-407b-b52b-cbb7322f376e\",\"type\":\"LinearAxis\"},{\"attributes\":{\"callback\":null},\"id\":\"c0e938e5-30ce-4464-9c66-6b0359253ec7\",\"type\":\"DataRange1d\"},{\"attributes\":{\"active_drag\":\"auto\",\"active_inspect\":\"auto\",\"active_scroll\":\"auto\",\"active_tap\":\"auto\",\"tools\":[{\"id\":\"79c4f667-ee42-4a14-9104-1f758f51ee7c\",\"type\":\"PanTool\"},{\"id\":\"db9826c1-68ee-43e2-bb7d-a404664bd93c\",\"type\":\"WheelZoomTool\"},{\"id\":\"511e0979-9734-41b8-b350-7716f541093c\",\"type\":\"BoxZoomTool\"},{\"id\":\"9fffc7e1-408c-46ec-8586-a8c72b6b8fa2\",\"type\":\"SaveTool\"},{\"id\":\"64547496-adc0-4996-b4f9-bb8c9015307d\",\"type\":\"ResetTool\"},{\"id\":\"0ec7f48d-5a7e-4d05-86bd-4c271a3a976b\",\"type\":\"HelpTool\"}]},\"id\":\"c7b6ba2d-dbb6-4362-b5d8-4db4fe8a688b\",\"type\":\"Toolbar\"},{\"attributes\":{},\"id\":\"47d65fb9-a975-42dd-b3c0-327089c4d541\",\"type\":\"LinearScale\"},{\"attributes\":{},\"id\":\"8660f489-476e-4489-92ab-221fec977d45\",\"type\":\"BasicTickFormatter\"},{\"attributes\":{},\"id\":\"655cb3d4-24e0-4a8d-bf1c-c4c93d90ae23\",\"type\":\"BasicTicker\"},{\"attributes\":{\"callback\":null},\"id\":\"7689f8d0-6c94-4010-b7a7-0926bf6ea001\",\"type\":\"DataRange1d\"},{\"attributes\":{},\"id\":\"db9826c1-68ee-43e2-bb7d-a404664bd93c\",\"type\":\"WheelZoomTool\"},{\"attributes\":{},\"id\":\"deaeda54-2ef1-46fb-80a4-2e6d28358e6e\",\"type\":\"LinearScale\"},{\"attributes\":{\"plot\":{\"id\":\"5d595cd0-def1-469a-ba7e-72c96ccf0f02\",\"subtype\":\"Figure\",\"type\":\"Plot\"},\"ticker\":{\"id\":\"655cb3d4-24e0-4a8d-bf1c-c4c93d90ae23\",\"type\":\"BasicTicker\"}},\"id\":\"a1d03ac4-4023-40e4-a4c4-4405582e1038\",\"type\":\"Grid\"},{\"attributes\":{},\"id\":\"9fffc7e1-408c-46ec-8586-a8c72b6b8fa2\",\"type\":\"SaveTool\"},{\"attributes\":{},\"id\":\"64547496-adc0-4996-b4f9-bb8c9015307d\",\"type\":\"ResetTool\"},{\"attributes\":{\"source\":{\"id\":\"dc9fc465-1055-4f07-9dfb-58788bca7729\",\"type\":\"ColumnDataSource\"}},\"id\":\"035a6fb9-3c8c-437a-8f07-512f41cc5d20\",\"type\":\"CDSView\"},{\"attributes\":{\"overlay\":{\"id\":\"ce7af0a7-7df7-406f-9c9d-2b682a44fd45\",\"type\":\"BoxAnnotation\"}},\"id\":\"511e0979-9734-41b8-b350-7716f541093c\",\"type\":\"BoxZoomTool\"},{\"attributes\":{},\"id\":\"79c4f667-ee42-4a14-9104-1f758f51ee7c\",\"type\":\"PanTool\"},{\"attributes\":{},\"id\":\"f306ba05-fedf-41de-a1e6-9771e67ed4dd\",\"type\":\"BasicTickFormatter\"},{\"attributes\":{\"fill_color\":{\"value\":\"#1f77b4\"},\"line_color\":{\"value\":\"#1f77b4\"},\"x\":{\"field\":\"x\"},\"y\":{\"field\":\"y\"}},\"id\":\"c30aefdd-c94d-4473-8ec9-1435a68fa8da\",\"type\":\"Circle\"},{\"attributes\":{\"fill_alpha\":{\"value\":0.1},\"fill_color\":{\"value\":\"#1f77b4\"},\"line_alpha\":{\"value\":0.1},\"line_color\":{\"value\":\"#1f77b4\"},\"x\":{\"field\":\"x\"},\"y\":{\"field\":\"y\"}},\"id\":\"f92b8fff-ae20-4450-b7df-9d982273959f\",\"type\":\"Circle\"},{\"attributes\":{\"dimension\":1,\"plot\":{\"id\":\"5d595cd0-def1-469a-ba7e-72c96ccf0f02\",\"subtype\":\"Figure\",\"type\":\"Plot\"},\"ticker\":{\"id\":\"06c75837-e087-4e77-a9a8-7f3a26c3c641\",\"type\":\"BasicTicker\"}},\"id\":\"842e7276-2a34-45e4-8a9b-434b5c46e9b3\",\"type\":\"Grid\"},{\"attributes\":{},\"id\":\"06c75837-e087-4e77-a9a8-7f3a26c3c641\",\"type\":\"BasicTicker\"}],\"root_ids\":[\"5d595cd0-def1-469a-ba7e-72c96ccf0f02\"]},\"title\":\"Bokeh Application\",\"version\":\"0.12.10\"}};\n",
       "    var render_items = [{\"docid\":\"a38fa6ca-5a71-4f4a-956e-dd56d1b2986f\",\"elementid\":\"89011469-bb66-4794-985d-240206bcb399\",\"modelid\":\"5d595cd0-def1-469a-ba7e-72c96ccf0f02\"}];\n",
       "\n",
       "    root.Bokeh.embed.embed_items(docs_json, render_items);\n",
       "  }\n",
       "\n",
       "  if (root.Bokeh !== undefined) {\n",
       "    embed_document(root);\n",
       "  } else {\n",
       "    var attempts = 0;\n",
       "    var timer = setInterval(function(root) {\n",
       "      if (root.Bokeh !== undefined) {\n",
       "        embed_document(root);\n",
       "        clearInterval(timer);\n",
       "      }\n",
       "      attempts++;\n",
       "      if (attempts > 100) {\n",
       "        console.log(\"Bokeh: ERROR: Unable to embed document because BokehJS library is missing\")\n",
       "        clearInterval(timer);\n",
       "      }\n",
       "    }, 10, root)\n",
       "  }\n",
       "})(window);"
      ],
      "application/vnd.bokehjs_exec.v0+json": ""
     },
     "metadata": {
      "application/vnd.bokehjs_exec.v0+json": {
       "id": "5d595cd0-def1-469a-ba7e-72c96ccf0f02"
      }
     },
     "output_type": "display_data"
    }
   ],
   "source": [
    "# 目盛りラベルの書式設定\n",
    "p = figure(plot_width=200, plot_height=200)\n",
    "p.circle([0], [0])\n",
    "p.xaxis.major_label_text_color = 'red'\n",
    "p.yaxis.major_label_text_font_size = '10pt'\n",
    "show(p)"
   ]
  },
  {
   "cell_type": "code",
   "execution_count": 10,
   "metadata": {},
   "outputs": [
    {
     "data": {
      "text/html": [
       "\n",
       "<div class=\"bk-root\">\n",
       "    <div class=\"bk-plotdiv\" id=\"53bf181c-5f19-429d-8202-5f30d18fe0c1\"></div>\n",
       "</div>"
      ]
     },
     "metadata": {},
     "output_type": "display_data"
    },
    {
     "data": {
      "application/javascript": [
       "(function(root) {\n",
       "  function embed_document(root) {\n",
       "    var docs_json = {\"0266a442-3168-499c-b7c3-8b66651a79fc\":{\"roots\":{\"references\":[{\"attributes\":{\"dimension\":1,\"plot\":{\"id\":\"d1bf5ccf-b202-4cea-b6b2-93b050113cde\",\"subtype\":\"Figure\",\"type\":\"Plot\"},\"ticker\":{\"id\":\"7a4bd2db-90c4-4c37-aa8e-d6e833e20c87\",\"type\":\"BasicTicker\"}},\"id\":\"4c16b41d-2354-4473-a8f6-8f63f61b2b68\",\"type\":\"Grid\"},{\"attributes\":{\"fill_alpha\":{\"value\":0.1},\"fill_color\":{\"value\":\"#1f77b4\"},\"line_alpha\":{\"value\":0.1},\"line_color\":{\"value\":\"#1f77b4\"},\"x\":{\"field\":\"x\"},\"y\":{\"field\":\"y\"}},\"id\":\"e14f5aa2-8069-4405-bc8c-062a3d8eaae1\",\"type\":\"Circle\"},{\"attributes\":{},\"id\":\"eb63bb79-0c80-4902-bb05-cd623e7a83a5\",\"type\":\"BasicTickFormatter\"},{\"attributes\":{\"bottom_units\":\"screen\",\"fill_alpha\":{\"value\":0.5},\"fill_color\":{\"value\":\"lightgrey\"},\"left_units\":\"screen\",\"level\":\"overlay\",\"line_alpha\":{\"value\":1.0},\"line_color\":{\"value\":\"black\"},\"line_dash\":[4,4],\"line_width\":{\"value\":2},\"plot\":null,\"render_mode\":\"css\",\"right_units\":\"screen\",\"top_units\":\"screen\"},\"id\":\"a454c778-5892-406a-909a-0c512b181ed0\",\"type\":\"BoxAnnotation\"},{\"attributes\":{},\"id\":\"0b894b57-86f6-4a79-9101-f8ab732a354d\",\"type\":\"PanTool\"},{\"attributes\":{},\"id\":\"7ea69ebb-0db6-4aac-8645-64e8165f5ec5\",\"type\":\"WheelZoomTool\"},{\"attributes\":{\"overlay\":{\"id\":\"a454c778-5892-406a-909a-0c512b181ed0\",\"type\":\"BoxAnnotation\"}},\"id\":\"4a87ef6c-1c1b-4f2a-a959-53ebe8aea46f\",\"type\":\"BoxZoomTool\"},{\"attributes\":{},\"id\":\"78019eea-f024-4010-b466-ddd27b9f9a81\",\"type\":\"SaveTool\"},{\"attributes\":{},\"id\":\"f1678252-150f-43a1-8d34-c0232129aefd\",\"type\":\"LinearScale\"},{\"attributes\":{},\"id\":\"91ef8810-e0d7-4238-843e-76a10dc4000e\",\"type\":\"ResetTool\"},{\"attributes\":{},\"id\":\"f1b87d66-f561-443e-9beb-afe0ef28a18a\",\"type\":\"HelpTool\"},{\"attributes\":{},\"id\":\"d351f027-922d-42cf-8427-64818716ffa1\",\"type\":\"BasicTickFormatter\"},{\"attributes\":{\"callback\":null,\"column_names\":[\"x\",\"y\"],\"data\":{\"x\":[0],\"y\":[0]}},\"id\":\"9094e8b9-3813-44a9-86cf-0948099a32cf\",\"type\":\"ColumnDataSource\"},{\"attributes\":{\"plot\":null,\"text\":\"\"},\"id\":\"37c64e3f-2ee0-4944-9bdf-da3e70073b76\",\"type\":\"Title\"},{\"attributes\":{\"formatter\":{\"id\":\"d351f027-922d-42cf-8427-64818716ffa1\",\"type\":\"BasicTickFormatter\"},\"major_tick_in\":-10,\"major_tick_out\":15,\"plot\":{\"id\":\"d1bf5ccf-b202-4cea-b6b2-93b050113cde\",\"subtype\":\"Figure\",\"type\":\"Plot\"},\"ticker\":{\"id\":\"7a4bd2db-90c4-4c37-aa8e-d6e833e20c87\",\"type\":\"BasicTicker\"}},\"id\":\"6440ec1b-cbf0-4f9f-be9e-ec81ea71c921\",\"type\":\"LinearAxis\"},{\"attributes\":{},\"id\":\"7a4bd2db-90c4-4c37-aa8e-d6e833e20c87\",\"type\":\"BasicTicker\"},{\"attributes\":{\"callback\":null},\"id\":\"54e329ed-23d6-4561-a2e1-0c653dabfd71\",\"type\":\"DataRange1d\"},{\"attributes\":{\"callback\":null},\"id\":\"ca2a680d-2765-4bc2-bb40-359e005d3766\",\"type\":\"DataRange1d\"},{\"attributes\":{\"source\":{\"id\":\"9094e8b9-3813-44a9-86cf-0948099a32cf\",\"type\":\"ColumnDataSource\"}},\"id\":\"52f7687d-96f7-41d7-87ff-2c9b5faa6a72\",\"type\":\"CDSView\"},{\"attributes\":{\"formatter\":{\"id\":\"eb63bb79-0c80-4902-bb05-cd623e7a83a5\",\"type\":\"BasicTickFormatter\"},\"major_tick_in\":15,\"major_tick_out\":5,\"plot\":{\"id\":\"d1bf5ccf-b202-4cea-b6b2-93b050113cde\",\"subtype\":\"Figure\",\"type\":\"Plot\"},\"ticker\":{\"id\":\"9135d5b9-a811-4b94-9a3b-e6f3c034115c\",\"type\":\"BasicTicker\"}},\"id\":\"8ca96f71-f8f4-41b9-b6b8-04985f48b841\",\"type\":\"LinearAxis\"},{\"attributes\":{},\"id\":\"9135d5b9-a811-4b94-9a3b-e6f3c034115c\",\"type\":\"BasicTicker\"},{\"attributes\":{\"below\":[{\"id\":\"8ca96f71-f8f4-41b9-b6b8-04985f48b841\",\"type\":\"LinearAxis\"}],\"left\":[{\"id\":\"6440ec1b-cbf0-4f9f-be9e-ec81ea71c921\",\"type\":\"LinearAxis\"}],\"plot_height\":200,\"plot_width\":200,\"renderers\":[{\"id\":\"8ca96f71-f8f4-41b9-b6b8-04985f48b841\",\"type\":\"LinearAxis\"},{\"id\":\"37d8d4e6-b545-42db-b0a8-ce2b07dc1238\",\"type\":\"Grid\"},{\"id\":\"6440ec1b-cbf0-4f9f-be9e-ec81ea71c921\",\"type\":\"LinearAxis\"},{\"id\":\"4c16b41d-2354-4473-a8f6-8f63f61b2b68\",\"type\":\"Grid\"},{\"id\":\"a454c778-5892-406a-909a-0c512b181ed0\",\"type\":\"BoxAnnotation\"},{\"id\":\"287bdd5a-4df1-4d96-9dc1-e58c48c15f36\",\"type\":\"GlyphRenderer\"}],\"title\":{\"id\":\"37c64e3f-2ee0-4944-9bdf-da3e70073b76\",\"type\":\"Title\"},\"toolbar\":{\"id\":\"50a0d6ca-1dc7-4271-8f7c-1309b8b7c669\",\"type\":\"Toolbar\"},\"x_range\":{\"id\":\"54e329ed-23d6-4561-a2e1-0c653dabfd71\",\"type\":\"DataRange1d\"},\"x_scale\":{\"id\":\"787eb90f-f278-4fe9-a4b1-59ea42ab4f7b\",\"type\":\"LinearScale\"},\"y_range\":{\"id\":\"ca2a680d-2765-4bc2-bb40-359e005d3766\",\"type\":\"DataRange1d\"},\"y_scale\":{\"id\":\"f1678252-150f-43a1-8d34-c0232129aefd\",\"type\":\"LinearScale\"}},\"id\":\"d1bf5ccf-b202-4cea-b6b2-93b050113cde\",\"subtype\":\"Figure\",\"type\":\"Plot\"},{\"attributes\":{\"active_drag\":\"auto\",\"active_inspect\":\"auto\",\"active_scroll\":\"auto\",\"active_tap\":\"auto\",\"tools\":[{\"id\":\"0b894b57-86f6-4a79-9101-f8ab732a354d\",\"type\":\"PanTool\"},{\"id\":\"7ea69ebb-0db6-4aac-8645-64e8165f5ec5\",\"type\":\"WheelZoomTool\"},{\"id\":\"4a87ef6c-1c1b-4f2a-a959-53ebe8aea46f\",\"type\":\"BoxZoomTool\"},{\"id\":\"78019eea-f024-4010-b466-ddd27b9f9a81\",\"type\":\"SaveTool\"},{\"id\":\"91ef8810-e0d7-4238-843e-76a10dc4000e\",\"type\":\"ResetTool\"},{\"id\":\"f1b87d66-f561-443e-9beb-afe0ef28a18a\",\"type\":\"HelpTool\"}]},\"id\":\"50a0d6ca-1dc7-4271-8f7c-1309b8b7c669\",\"type\":\"Toolbar\"},{\"attributes\":{\"fill_color\":{\"value\":\"#1f77b4\"},\"line_color\":{\"value\":\"#1f77b4\"},\"x\":{\"field\":\"x\"},\"y\":{\"field\":\"y\"}},\"id\":\"b367e9c8-9d7c-4012-a424-5ecd20575ca9\",\"type\":\"Circle\"},{\"attributes\":{\"data_source\":{\"id\":\"9094e8b9-3813-44a9-86cf-0948099a32cf\",\"type\":\"ColumnDataSource\"},\"glyph\":{\"id\":\"b367e9c8-9d7c-4012-a424-5ecd20575ca9\",\"type\":\"Circle\"},\"hover_glyph\":null,\"muted_glyph\":null,\"nonselection_glyph\":{\"id\":\"e14f5aa2-8069-4405-bc8c-062a3d8eaae1\",\"type\":\"Circle\"},\"selection_glyph\":null,\"view\":{\"id\":\"52f7687d-96f7-41d7-87ff-2c9b5faa6a72\",\"type\":\"CDSView\"}},\"id\":\"287bdd5a-4df1-4d96-9dc1-e58c48c15f36\",\"type\":\"GlyphRenderer\"},{\"attributes\":{},\"id\":\"787eb90f-f278-4fe9-a4b1-59ea42ab4f7b\",\"type\":\"LinearScale\"},{\"attributes\":{\"plot\":{\"id\":\"d1bf5ccf-b202-4cea-b6b2-93b050113cde\",\"subtype\":\"Figure\",\"type\":\"Plot\"},\"ticker\":{\"id\":\"9135d5b9-a811-4b94-9a3b-e6f3c034115c\",\"type\":\"BasicTicker\"}},\"id\":\"37d8d4e6-b545-42db-b0a8-ce2b07dc1238\",\"type\":\"Grid\"}],\"root_ids\":[\"d1bf5ccf-b202-4cea-b6b2-93b050113cde\"]},\"title\":\"Bokeh Application\",\"version\":\"0.12.10\"}};\n",
       "    var render_items = [{\"docid\":\"0266a442-3168-499c-b7c3-8b66651a79fc\",\"elementid\":\"53bf181c-5f19-429d-8202-5f30d18fe0c1\",\"modelid\":\"d1bf5ccf-b202-4cea-b6b2-93b050113cde\"}];\n",
       "\n",
       "    root.Bokeh.embed.embed_items(docs_json, render_items);\n",
       "  }\n",
       "\n",
       "  if (root.Bokeh !== undefined) {\n",
       "    embed_document(root);\n",
       "  } else {\n",
       "    var attempts = 0;\n",
       "    var timer = setInterval(function(root) {\n",
       "      if (root.Bokeh !== undefined) {\n",
       "        embed_document(root);\n",
       "        clearInterval(timer);\n",
       "      }\n",
       "      attempts++;\n",
       "      if (attempts > 100) {\n",
       "        console.log(\"Bokeh: ERROR: Unable to embed document because BokehJS library is missing\")\n",
       "        clearInterval(timer);\n",
       "      }\n",
       "    }, 10, root)\n",
       "  }\n",
       "})(window);"
      ],
      "application/vnd.bokehjs_exec.v0+json": ""
     },
     "metadata": {
      "application/vnd.bokehjs_exec.v0+json": {
       "id": "d1bf5ccf-b202-4cea-b6b2-93b050113cde"
      }
     },
     "output_type": "display_data"
    }
   ],
   "source": [
    "# 目盛りラベルの長さ設定\n",
    "p = figure(plot_width=200, plot_height=200)\n",
    "p.circle([0], [0])\n",
    "p.xaxis.major_tick_in = 15\n",
    "p.xaxis.major_tick_out = 5\n",
    "p.yaxis.major_tick_in = 15\n",
    "p.yaxis.major_tick_out = 15\n",
    "p.yaxis.major_tick_in = -10\n",
    "\n",
    "show(p)"
   ]
  },
  {
   "cell_type": "code",
   "execution_count": 12,
   "metadata": {},
   "outputs": [
    {
     "data": {
      "text/html": [
       "\n",
       "<div class=\"bk-root\">\n",
       "    <div class=\"bk-plotdiv\" id=\"147f6ade-7142-449e-83ff-320d61af3c52\"></div>\n",
       "</div>"
      ]
     },
     "metadata": {},
     "output_type": "display_data"
    },
    {
     "data": {
      "application/javascript": [
       "(function(root) {\n",
       "  function embed_document(root) {\n",
       "    var docs_json = {\"bf503d33-0024-4405-9b03-b2b05acf6ea7\":{\"roots\":{\"references\":[{\"attributes\":{},\"id\":\"0fa1910b-b123-446c-8ece-2168ea7731c7\",\"type\":\"HelpTool\"},{\"attributes\":{\"overlay\":{\"id\":\"73bb9205-12f0-4110-b3d6-42cb80e993f4\",\"type\":\"BoxAnnotation\"}},\"id\":\"1cfe3893-8e5c-470a-b262-863743a76d15\",\"type\":\"BoxZoomTool\"},{\"attributes\":{},\"id\":\"32c1ca7f-5e2b-4586-82b3-3df13be50482\",\"type\":\"ResetTool\"},{\"attributes\":{\"callback\":null},\"id\":\"1d0eee4b-db05-4fbe-998c-52e0a32ef696\",\"type\":\"DataRange1d\"},{\"attributes\":{\"bottom_units\":\"screen\",\"fill_alpha\":{\"value\":0.5},\"fill_color\":{\"value\":\"lightgrey\"},\"left_units\":\"screen\",\"level\":\"overlay\",\"line_alpha\":{\"value\":1.0},\"line_color\":{\"value\":\"black\"},\"line_dash\":[4,4],\"line_width\":{\"value\":2},\"plot\":null,\"render_mode\":\"css\",\"right_units\":\"screen\",\"top_units\":\"screen\"},\"id\":\"73bb9205-12f0-4110-b3d6-42cb80e993f4\",\"type\":\"BoxAnnotation\"},{\"attributes\":{\"active_drag\":\"auto\",\"active_inspect\":\"auto\",\"active_scroll\":\"auto\",\"active_tap\":\"auto\",\"tools\":[{\"id\":\"e6a84ac3-1083-405e-9256-34c2d9adcea5\",\"type\":\"PanTool\"},{\"id\":\"ebb65ba2-64cc-453c-a59e-82fe6de99aa4\",\"type\":\"WheelZoomTool\"},{\"id\":\"1cfe3893-8e5c-470a-b262-863743a76d15\",\"type\":\"BoxZoomTool\"},{\"id\":\"d0275069-cc42-4106-878d-0828e2074540\",\"type\":\"SaveTool\"},{\"id\":\"32c1ca7f-5e2b-4586-82b3-3df13be50482\",\"type\":\"ResetTool\"},{\"id\":\"0fa1910b-b123-446c-8ece-2168ea7731c7\",\"type\":\"HelpTool\"}]},\"id\":\"e54e1d89-f3a1-4fa3-aeea-d18e078ac16c\",\"type\":\"Toolbar\"},{\"attributes\":{},\"id\":\"e6a84ac3-1083-405e-9256-34c2d9adcea5\",\"type\":\"PanTool\"},{\"attributes\":{\"callback\":null,\"column_names\":[\"x\",\"y\"],\"data\":{\"x\":[1,1.5,2.2,3],\"y\":[1,2,3,4]}},\"id\":\"fd13bfb3-2ab3-4435-a6ab-04d76555db81\",\"type\":\"ColumnDataSource\"},{\"attributes\":{},\"id\":\"c74b66e1-6eef-435d-8bc0-0fa9492815b0\",\"type\":\"BasicTickFormatter\"},{\"attributes\":{\"below\":[{\"id\":\"485b8428-a545-4ee0-8a7c-23f1dad14dd7\",\"type\":\"LinearAxis\"}],\"left\":[{\"id\":\"14936aaa-de93-4145-bb5b-02f2d68389d1\",\"type\":\"LinearAxis\"}],\"plot_height\":200,\"plot_width\":200,\"renderers\":[{\"id\":\"485b8428-a545-4ee0-8a7c-23f1dad14dd7\",\"type\":\"LinearAxis\"},{\"id\":\"ec913802-f9f8-46fd-af17-3a7e810067bb\",\"type\":\"Grid\"},{\"id\":\"14936aaa-de93-4145-bb5b-02f2d68389d1\",\"type\":\"LinearAxis\"},{\"id\":\"d8592ddb-eccd-44e9-b9a0-62dbe979067a\",\"type\":\"Grid\"},{\"id\":\"73bb9205-12f0-4110-b3d6-42cb80e993f4\",\"type\":\"BoxAnnotation\"},{\"id\":\"23af793c-d98f-4e2f-baff-281b41c2cda0\",\"type\":\"GlyphRenderer\"}],\"title\":{\"id\":\"84f10b29-a922-4002-9c2f-f6e0b7b38207\",\"type\":\"Title\"},\"toolbar\":{\"id\":\"e54e1d89-f3a1-4fa3-aeea-d18e078ac16c\",\"type\":\"Toolbar\"},\"x_range\":{\"id\":\"1d0eee4b-db05-4fbe-998c-52e0a32ef696\",\"type\":\"DataRange1d\"},\"x_scale\":{\"id\":\"899208c4-ddac-4fc1-a63d-827869a26512\",\"type\":\"LinearScale\"},\"y_range\":{\"id\":\"cc5b173b-86d7-40b2-9cdc-2e5f39d540e4\",\"type\":\"DataRange1d\"},\"y_scale\":{\"id\":\"f01c9295-1f35-4b06-88e7-0736e5209bc0\",\"type\":\"LinearScale\"}},\"id\":\"31cef5f9-f3de-4abd-98d3-fa46bc701f6e\",\"subtype\":\"Figure\",\"type\":\"Plot\"},{\"attributes\":{\"plot\":null,\"text\":\"\"},\"id\":\"84f10b29-a922-4002-9c2f-f6e0b7b38207\",\"type\":\"Title\"},{\"attributes\":{\"fill_color\":{\"value\":\"#1f77b4\"},\"line_color\":{\"value\":\"#1f77b4\"},\"x\":{\"field\":\"x\"},\"y\":{\"field\":\"y\"}},\"id\":\"240a8a7a-ba88-4132-8d71-e2e874d0eb1d\",\"type\":\"Circle\"},{\"attributes\":{\"fill_alpha\":{\"value\":0.1},\"fill_color\":{\"value\":\"#1f77b4\"},\"line_alpha\":{\"value\":0.1},\"line_color\":{\"value\":\"#1f77b4\"},\"x\":{\"field\":\"x\"},\"y\":{\"field\":\"y\"}},\"id\":\"93283a35-e01e-4316-ba35-1f98e6540639\",\"type\":\"Circle\"},{\"attributes\":{\"ticks\":[1.5,2.2]},\"id\":\"0e2e3036-9e17-4d01-b983-1c7356764f38\",\"type\":\"FixedTicker\"},{\"attributes\":{\"callback\":null},\"id\":\"cc5b173b-86d7-40b2-9cdc-2e5f39d540e4\",\"type\":\"DataRange1d\"},{\"attributes\":{\"source\":{\"id\":\"fd13bfb3-2ab3-4435-a6ab-04d76555db81\",\"type\":\"ColumnDataSource\"}},\"id\":\"14fd5e56-b81e-4d75-9b20-8caf6088214a\",\"type\":\"CDSView\"},{\"attributes\":{\"dimension\":1,\"plot\":{\"id\":\"31cef5f9-f3de-4abd-98d3-fa46bc701f6e\",\"subtype\":\"Figure\",\"type\":\"Plot\"},\"ticker\":{\"id\":\"b156a7a8-f390-4f6e-b321-ca5cbdae6ea5\",\"type\":\"BasicTicker\"}},\"id\":\"d8592ddb-eccd-44e9-b9a0-62dbe979067a\",\"type\":\"Grid\"},{\"attributes\":{},\"id\":\"ebb65ba2-64cc-453c-a59e-82fe6de99aa4\",\"type\":\"WheelZoomTool\"},{\"attributes\":{},\"id\":\"b156a7a8-f390-4f6e-b321-ca5cbdae6ea5\",\"type\":\"BasicTicker\"},{\"attributes\":{\"formatter\":{\"id\":\"c74b66e1-6eef-435d-8bc0-0fa9492815b0\",\"type\":\"BasicTickFormatter\"},\"plot\":{\"id\":\"31cef5f9-f3de-4abd-98d3-fa46bc701f6e\",\"subtype\":\"Figure\",\"type\":\"Plot\"},\"ticker\":{\"id\":\"b54cf197-2835-4fcb-9fc2-8b2f153ce42d\",\"type\":\"FixedTicker\"}},\"id\":\"14936aaa-de93-4145-bb5b-02f2d68389d1\",\"type\":\"LinearAxis\"},{\"attributes\":{},\"id\":\"52f7a1f6-6246-47b4-b67b-87f6aa481a58\",\"type\":\"BasicTicker\"},{\"attributes\":{\"formatter\":{\"id\":\"02a4281c-47db-4632-8d77-704dbd7f1967\",\"type\":\"BasicTickFormatter\"},\"plot\":{\"id\":\"31cef5f9-f3de-4abd-98d3-fa46bc701f6e\",\"subtype\":\"Figure\",\"type\":\"Plot\"},\"ticker\":{\"id\":\"0e2e3036-9e17-4d01-b983-1c7356764f38\",\"type\":\"FixedTicker\"}},\"id\":\"485b8428-a545-4ee0-8a7c-23f1dad14dd7\",\"type\":\"LinearAxis\"},{\"attributes\":{\"ticks\":[2,3]},\"id\":\"b54cf197-2835-4fcb-9fc2-8b2f153ce42d\",\"type\":\"FixedTicker\"},{\"attributes\":{\"plot\":{\"id\":\"31cef5f9-f3de-4abd-98d3-fa46bc701f6e\",\"subtype\":\"Figure\",\"type\":\"Plot\"},\"ticker\":{\"id\":\"52f7a1f6-6246-47b4-b67b-87f6aa481a58\",\"type\":\"BasicTicker\"}},\"id\":\"ec913802-f9f8-46fd-af17-3a7e810067bb\",\"type\":\"Grid\"},{\"attributes\":{},\"id\":\"02a4281c-47db-4632-8d77-704dbd7f1967\",\"type\":\"BasicTickFormatter\"},{\"attributes\":{},\"id\":\"f01c9295-1f35-4b06-88e7-0736e5209bc0\",\"type\":\"LinearScale\"},{\"attributes\":{},\"id\":\"899208c4-ddac-4fc1-a63d-827869a26512\",\"type\":\"LinearScale\"},{\"attributes\":{\"data_source\":{\"id\":\"fd13bfb3-2ab3-4435-a6ab-04d76555db81\",\"type\":\"ColumnDataSource\"},\"glyph\":{\"id\":\"240a8a7a-ba88-4132-8d71-e2e874d0eb1d\",\"type\":\"Circle\"},\"hover_glyph\":null,\"muted_glyph\":null,\"nonselection_glyph\":{\"id\":\"93283a35-e01e-4316-ba35-1f98e6540639\",\"type\":\"Circle\"},\"selection_glyph\":null,\"view\":{\"id\":\"14fd5e56-b81e-4d75-9b20-8caf6088214a\",\"type\":\"CDSView\"}},\"id\":\"23af793c-d98f-4e2f-baff-281b41c2cda0\",\"type\":\"GlyphRenderer\"},{\"attributes\":{},\"id\":\"d0275069-cc42-4106-878d-0828e2074540\",\"type\":\"SaveTool\"}],\"root_ids\":[\"31cef5f9-f3de-4abd-98d3-fa46bc701f6e\"]},\"title\":\"Bokeh Application\",\"version\":\"0.12.10\"}};\n",
       "    var render_items = [{\"docid\":\"bf503d33-0024-4405-9b03-b2b05acf6ea7\",\"elementid\":\"147f6ade-7142-449e-83ff-320d61af3c52\",\"modelid\":\"31cef5f9-f3de-4abd-98d3-fa46bc701f6e\"}];\n",
       "\n",
       "    root.Bokeh.embed.embed_items(docs_json, render_items);\n",
       "  }\n",
       "\n",
       "  if (root.Bokeh !== undefined) {\n",
       "    embed_document(root);\n",
       "  } else {\n",
       "    var attempts = 0;\n",
       "    var timer = setInterval(function(root) {\n",
       "      if (root.Bokeh !== undefined) {\n",
       "        embed_document(root);\n",
       "        clearInterval(timer);\n",
       "      }\n",
       "      attempts++;\n",
       "      if (attempts > 100) {\n",
       "        console.log(\"Bokeh: ERROR: Unable to embed document because BokehJS library is missing\")\n",
       "        clearInterval(timer);\n",
       "      }\n",
       "    }, 10, root)\n",
       "  }\n",
       "})(window);"
      ],
      "application/vnd.bokehjs_exec.v0+json": ""
     },
     "metadata": {
      "application/vnd.bokehjs_exec.v0+json": {
       "id": "31cef5f9-f3de-4abd-98d3-fa46bc701f6e"
      }
     },
     "output_type": "display_data"
    }
   ],
   "source": [
    "# FixecdTicker \n",
    "from bokeh.models import FixedTicker\n",
    "\n",
    "p = figure(plot_width=200, plot_height=200)\n",
    "p.circle([1, 1.5, 2.2, 3], [1, 2, 3, 4])\n",
    "p.xaxis.ticker = FixedTicker(ticks=[1.5, 2.2])\n",
    "p.yaxis.ticker = FixedTicker(ticks=[2, 3])\n",
    "show(p)"
   ]
  },
  {
   "cell_type": "code",
   "execution_count": 14,
   "metadata": {},
   "outputs": [
    {
     "data": {
      "text/html": [
       "\n",
       "<div class=\"bk-root\">\n",
       "    <div class=\"bk-plotdiv\" id=\"5fe83f78-a5dd-4f15-aa8f-27957025ce6d\"></div>\n",
       "</div>"
      ]
     },
     "metadata": {},
     "output_type": "display_data"
    },
    {
     "data": {
      "application/javascript": [
       "(function(root) {\n",
       "  function embed_document(root) {\n",
       "    var docs_json = {\"6dc88fab-6d4c-4ffe-b402-388b4ca0227e\":{\"roots\":{\"references\":[{\"attributes\":{\"below\":[{\"id\":\"676af1a1-1026-4233-b9b4-8ca20d7ec853\",\"type\":\"LinearAxis\"}],\"left\":[{\"id\":\"af16b885-9f14-4aa6-bc1b-68e07d3c75c3\",\"type\":\"LinearAxis\"}],\"plot_height\":200,\"plot_width\":200,\"renderers\":[{\"id\":\"676af1a1-1026-4233-b9b4-8ca20d7ec853\",\"type\":\"LinearAxis\"},{\"id\":\"12852922-37af-4f6c-b839-ed519588f579\",\"type\":\"Grid\"},{\"id\":\"af16b885-9f14-4aa6-bc1b-68e07d3c75c3\",\"type\":\"LinearAxis\"},{\"id\":\"6f59c8c7-1de1-42b2-8e7f-da4f239894f6\",\"type\":\"Grid\"},{\"id\":\"999ef6bf-f2c9-4825-a4b2-faa6e6b910d4\",\"type\":\"BoxAnnotation\"},{\"id\":\"17446900-6198-4f17-b2f6-ecfc8d08695f\",\"type\":\"GlyphRenderer\"}],\"title\":{\"id\":\"05e59303-029b-40a5-b196-f93704305886\",\"type\":\"Title\"},\"toolbar\":{\"id\":\"c48faeac-2741-406e-8e38-4e802d6567eb\",\"type\":\"Toolbar\"},\"x_range\":{\"id\":\"e75b74c9-c943-497d-a432-e082001ae155\",\"type\":\"DataRange1d\"},\"x_scale\":{\"id\":\"e4b7c1be-1942-41f5-8cd1-bf327e4ebc0f\",\"type\":\"LinearScale\"},\"y_range\":{\"id\":\"86dba12a-1247-4f4b-ab33-b2d523423b4b\",\"type\":\"DataRange1d\"},\"y_scale\":{\"id\":\"7c6476d8-5415-4056-b160-5412112fbfd9\",\"type\":\"LinearScale\"}},\"id\":\"6129ef93-338e-4725-94f7-cd8677c1a2f4\",\"subtype\":\"Figure\",\"type\":\"Plot\"},{\"attributes\":{\"data_source\":{\"id\":\"04be809e-60e8-415b-bfc6-fc6ab416cd89\",\"type\":\"ColumnDataSource\"},\"glyph\":{\"id\":\"b5aa0c4f-f8eb-4a43-87bd-cbb86a4e07bc\",\"type\":\"Circle\"},\"hover_glyph\":null,\"muted_glyph\":null,\"nonselection_glyph\":{\"id\":\"9d454309-8a55-47d2-89be-5d0a6844bc03\",\"type\":\"Circle\"},\"selection_glyph\":null,\"view\":{\"id\":\"d20ca7bb-16b6-4a1c-b695-5a0fba51ff16\",\"type\":\"CDSView\"}},\"id\":\"17446900-6198-4f17-b2f6-ecfc8d08695f\",\"type\":\"GlyphRenderer\"},{\"attributes\":{\"active_drag\":\"auto\",\"active_inspect\":\"auto\",\"active_scroll\":\"auto\",\"active_tap\":\"auto\",\"tools\":[{\"id\":\"8d59549c-dd11-443d-9520-fa6cccfe599b\",\"type\":\"PanTool\"},{\"id\":\"62ed5d6a-9fbe-434e-9c2d-14f5f5b3923a\",\"type\":\"WheelZoomTool\"},{\"id\":\"bf984363-11b4-49d5-8291-48bfbac6c566\",\"type\":\"BoxZoomTool\"},{\"id\":\"be0c8dd3-eb50-464c-a8c1-2b72de734c29\",\"type\":\"SaveTool\"},{\"id\":\"180190f9-1451-435a-9baf-5d18a9d39155\",\"type\":\"ResetTool\"},{\"id\":\"6cf25e49-6d2e-4b5f-847e-d100aa8d8db9\",\"type\":\"HelpTool\"}]},\"id\":\"c48faeac-2741-406e-8e38-4e802d6567eb\",\"type\":\"Toolbar\"},{\"attributes\":{\"callback\":null},\"id\":\"86dba12a-1247-4f4b-ab33-b2d523423b4b\",\"type\":\"DataRange1d\"},{\"attributes\":{\"fill_color\":{\"value\":\"#1f77b4\"},\"line_color\":{\"value\":\"#1f77b4\"},\"x\":{\"field\":\"x\"},\"y\":{\"field\":\"y\"}},\"id\":\"b5aa0c4f-f8eb-4a43-87bd-cbb86a4e07bc\",\"type\":\"Circle\"},{\"attributes\":{\"plot\":null,\"text\":\"\"},\"id\":\"05e59303-029b-40a5-b196-f93704305886\",\"type\":\"Title\"},{\"attributes\":{\"format\":\"0.00\"},\"id\":\"f56b0afb-2176-4447-9512-cb02e852cd5a\",\"type\":\"NumeralTickFormatter\"},{\"attributes\":{},\"id\":\"408abc50-0ecf-422c-a64d-aa3fc7b17c90\",\"type\":\"BasicTicker\"},{\"attributes\":{\"plot\":{\"id\":\"6129ef93-338e-4725-94f7-cd8677c1a2f4\",\"subtype\":\"Figure\",\"type\":\"Plot\"},\"ticker\":{\"id\":\"408abc50-0ecf-422c-a64d-aa3fc7b17c90\",\"type\":\"BasicTicker\"}},\"id\":\"12852922-37af-4f6c-b839-ed519588f579\",\"type\":\"Grid\"},{\"attributes\":{\"source\":{\"id\":\"04be809e-60e8-415b-bfc6-fc6ab416cd89\",\"type\":\"ColumnDataSource\"}},\"id\":\"d20ca7bb-16b6-4a1c-b695-5a0fba51ff16\",\"type\":\"CDSView\"},{\"attributes\":{\"callback\":null},\"id\":\"e75b74c9-c943-497d-a432-e082001ae155\",\"type\":\"DataRange1d\"},{\"attributes\":{\"formatter\":{\"id\":\"03ea4220-c2a6-4320-94f0-5f89a0eac224\",\"type\":\"NumeralTickFormatter\"},\"plot\":{\"id\":\"6129ef93-338e-4725-94f7-cd8677c1a2f4\",\"subtype\":\"Figure\",\"type\":\"Plot\"},\"ticker\":{\"id\":\"1c598985-b799-454f-8109-b41a5046323e\",\"type\":\"BasicTicker\"}},\"id\":\"af16b885-9f14-4aa6-bc1b-68e07d3c75c3\",\"type\":\"LinearAxis\"},{\"attributes\":{},\"id\":\"1c598985-b799-454f-8109-b41a5046323e\",\"type\":\"BasicTicker\"},{\"attributes\":{\"formatter\":{\"id\":\"f56b0afb-2176-4447-9512-cb02e852cd5a\",\"type\":\"NumeralTickFormatter\"},\"plot\":{\"id\":\"6129ef93-338e-4725-94f7-cd8677c1a2f4\",\"subtype\":\"Figure\",\"type\":\"Plot\"},\"ticker\":{\"id\":\"408abc50-0ecf-422c-a64d-aa3fc7b17c90\",\"type\":\"BasicTicker\"}},\"id\":\"676af1a1-1026-4233-b9b4-8ca20d7ec853\",\"type\":\"LinearAxis\"},{\"attributes\":{\"dimension\":1,\"plot\":{\"id\":\"6129ef93-338e-4725-94f7-cd8677c1a2f4\",\"subtype\":\"Figure\",\"type\":\"Plot\"},\"ticker\":{\"id\":\"1c598985-b799-454f-8109-b41a5046323e\",\"type\":\"BasicTicker\"}},\"id\":\"6f59c8c7-1de1-42b2-8e7f-da4f239894f6\",\"type\":\"Grid\"},{\"attributes\":{\"bottom_units\":\"screen\",\"fill_alpha\":{\"value\":0.5},\"fill_color\":{\"value\":\"lightgrey\"},\"left_units\":\"screen\",\"level\":\"overlay\",\"line_alpha\":{\"value\":1.0},\"line_color\":{\"value\":\"black\"},\"line_dash\":[4,4],\"line_width\":{\"value\":2},\"plot\":null,\"render_mode\":\"css\",\"right_units\":\"screen\",\"top_units\":\"screen\"},\"id\":\"999ef6bf-f2c9-4825-a4b2-faa6e6b910d4\",\"type\":\"BoxAnnotation\"},{\"attributes\":{},\"id\":\"8d59549c-dd11-443d-9520-fa6cccfe599b\",\"type\":\"PanTool\"},{\"attributes\":{},\"id\":\"62ed5d6a-9fbe-434e-9c2d-14f5f5b3923a\",\"type\":\"WheelZoomTool\"},{\"attributes\":{\"overlay\":{\"id\":\"999ef6bf-f2c9-4825-a4b2-faa6e6b910d4\",\"type\":\"BoxAnnotation\"}},\"id\":\"bf984363-11b4-49d5-8291-48bfbac6c566\",\"type\":\"BoxZoomTool\"},{\"attributes\":{},\"id\":\"be0c8dd3-eb50-464c-a8c1-2b72de734c29\",\"type\":\"SaveTool\"},{\"attributes\":{},\"id\":\"180190f9-1451-435a-9baf-5d18a9d39155\",\"type\":\"ResetTool\"},{\"attributes\":{},\"id\":\"6cf25e49-6d2e-4b5f-847e-d100aa8d8db9\",\"type\":\"HelpTool\"},{\"attributes\":{},\"id\":\"7c6476d8-5415-4056-b160-5412112fbfd9\",\"type\":\"LinearScale\"},{\"attributes\":{\"fill_alpha\":{\"value\":0.1},\"fill_color\":{\"value\":\"#1f77b4\"},\"line_alpha\":{\"value\":0.1},\"line_color\":{\"value\":\"#1f77b4\"},\"x\":{\"field\":\"x\"},\"y\":{\"field\":\"y\"}},\"id\":\"9d454309-8a55-47d2-89be-5d0a6844bc03\",\"type\":\"Circle\"},{\"attributes\":{},\"id\":\"e4b7c1be-1942-41f5-8cd1-bf327e4ebc0f\",\"type\":\"LinearScale\"},{\"attributes\":{\"callback\":null,\"column_names\":[\"x\",\"y\"],\"data\":{\"x\":[0.123],\"y\":[0.45]}},\"id\":\"04be809e-60e8-415b-bfc6-fc6ab416cd89\",\"type\":\"ColumnDataSource\"},{\"attributes\":{\"format\":\"0.0%\"},\"id\":\"03ea4220-c2a6-4320-94f0-5f89a0eac224\",\"type\":\"NumeralTickFormatter\"}],\"root_ids\":[\"6129ef93-338e-4725-94f7-cd8677c1a2f4\"]},\"title\":\"Bokeh Application\",\"version\":\"0.12.10\"}};\n",
       "    var render_items = [{\"docid\":\"6dc88fab-6d4c-4ffe-b402-388b4ca0227e\",\"elementid\":\"5fe83f78-a5dd-4f15-aa8f-27957025ce6d\",\"modelid\":\"6129ef93-338e-4725-94f7-cd8677c1a2f4\"}];\n",
       "\n",
       "    root.Bokeh.embed.embed_items(docs_json, render_items);\n",
       "  }\n",
       "\n",
       "  if (root.Bokeh !== undefined) {\n",
       "    embed_document(root);\n",
       "  } else {\n",
       "    var attempts = 0;\n",
       "    var timer = setInterval(function(root) {\n",
       "      if (root.Bokeh !== undefined) {\n",
       "        embed_document(root);\n",
       "        clearInterval(timer);\n",
       "      }\n",
       "      attempts++;\n",
       "      if (attempts > 100) {\n",
       "        console.log(\"Bokeh: ERROR: Unable to embed document because BokehJS library is missing\")\n",
       "        clearInterval(timer);\n",
       "      }\n",
       "    }, 10, root)\n",
       "  }\n",
       "})(window);"
      ],
      "application/vnd.bokehjs_exec.v0+json": ""
     },
     "metadata": {
      "application/vnd.bokehjs_exec.v0+json": {
       "id": "6129ef93-338e-4725-94f7-cd8677c1a2f4"
      }
     },
     "output_type": "display_data"
    }
   ],
   "source": [
    "# NumeralTickFormatter\n",
    "\n",
    "from bokeh.models import NumeralTickFormatter\n",
    "\n",
    "p = figure(plot_width=200, plot_height=200)\n",
    "p.circle([0.123], [0.45])\n",
    "p.xaxis.formatter = NumeralTickFormatter(format=\"0.00\")\n",
    "p.yaxis.formatter = NumeralTickFormatter(format=\"0.0%\")\n",
    "show(p)"
   ]
  },
  {
   "cell_type": "code",
   "execution_count": 16,
   "metadata": {},
   "outputs": [
    {
     "data": {
      "text/html": [
       "\n",
       "<div class=\"bk-root\">\n",
       "    <div class=\"bk-plotdiv\" id=\"1303f4f1-25c2-419b-9868-5462fabb4875\"></div>\n",
       "</div>"
      ]
     },
     "metadata": {},
     "output_type": "display_data"
    },
    {
     "data": {
      "application/javascript": [
       "(function(root) {\n",
       "  function embed_document(root) {\n",
       "    var docs_json = {\"71a83926-40f6-47d2-8122-5cabc54c767a\":{\"roots\":{\"references\":[{\"attributes\":{},\"id\":\"acc03cce-0305-46fb-8fd4-21abdf4919d9\",\"type\":\"LinearScale\"},{\"attributes\":{\"plot\":{\"id\":\"57fd3361-292f-4ddd-a26f-e3a9d07b0988\",\"subtype\":\"Figure\",\"type\":\"Plot\"},\"ticker\":{\"id\":\"61ac70ab-dea9-43b3-97ee-64889f84b148\",\"type\":\"BasicTicker\"}},\"id\":\"b929cb1f-9323-4a89-940f-c4cfcabab2ca\",\"type\":\"Grid\"},{\"attributes\":{\"formatter\":{\"id\":\"718e097d-b9df-4cdc-8c60-a273dfc6f278\",\"type\":\"PrintfTickFormatter\"},\"plot\":{\"id\":\"57fd3361-292f-4ddd-a26f-e3a9d07b0988\",\"subtype\":\"Figure\",\"type\":\"Plot\"},\"ticker\":{\"id\":\"61ac70ab-dea9-43b3-97ee-64889f84b148\",\"type\":\"BasicTicker\"}},\"id\":\"03e28fc6-3d58-48c0-a07d-9488766ca0c7\",\"type\":\"LinearAxis\"},{\"attributes\":{},\"id\":\"61ac70ab-dea9-43b3-97ee-64889f84b148\",\"type\":\"BasicTicker\"},{\"attributes\":{\"formatter\":{\"id\":\"c65c95ac-0a61-4338-b27f-f652235719b1\",\"type\":\"PrintfTickFormatter\"},\"plot\":{\"id\":\"57fd3361-292f-4ddd-a26f-e3a9d07b0988\",\"subtype\":\"Figure\",\"type\":\"Plot\"},\"ticker\":{\"id\":\"f1b6b3e8-6c30-4259-bbf3-6e278c614074\",\"type\":\"BasicTicker\"}},\"id\":\"fae640ef-e4c0-46a1-a7a4-567c07457b46\",\"type\":\"LinearAxis\"},{\"attributes\":{\"format\":\"%.2f\"},\"id\":\"718e097d-b9df-4cdc-8c60-a273dfc6f278\",\"type\":\"PrintfTickFormatter\"},{\"attributes\":{\"bottom_units\":\"screen\",\"fill_alpha\":{\"value\":0.5},\"fill_color\":{\"value\":\"lightgrey\"},\"left_units\":\"screen\",\"level\":\"overlay\",\"line_alpha\":{\"value\":1.0},\"line_color\":{\"value\":\"black\"},\"line_dash\":[4,4],\"line_width\":{\"value\":2},\"plot\":null,\"render_mode\":\"css\",\"right_units\":\"screen\",\"top_units\":\"screen\"},\"id\":\"03d9df3c-186c-46dd-bd5f-b2334738d9d4\",\"type\":\"BoxAnnotation\"},{\"attributes\":{},\"id\":\"704aecca-9563-4bb5-bc3e-8f7bdee44595\",\"type\":\"PanTool\"},{\"attributes\":{},\"id\":\"e599e07f-2d2a-4b21-a2d5-6b156e37ef48\",\"type\":\"WheelZoomTool\"},{\"attributes\":{\"overlay\":{\"id\":\"03d9df3c-186c-46dd-bd5f-b2334738d9d4\",\"type\":\"BoxAnnotation\"}},\"id\":\"f7b7adf0-45cc-4c4e-bf99-c305a5f87ce5\",\"type\":\"BoxZoomTool\"},{\"attributes\":{},\"id\":\"f8a678b3-09d0-43bb-9bab-46ec0fb5df00\",\"type\":\"SaveTool\"},{\"attributes\":{},\"id\":\"b45f5dde-e462-4cf9-af73-97e26c756825\",\"type\":\"ResetTool\"},{\"attributes\":{},\"id\":\"58e0a131-1468-4e9b-90c6-320cbc37a88d\",\"type\":\"HelpTool\"},{\"attributes\":{\"fill_alpha\":{\"value\":0.1},\"fill_color\":{\"value\":\"#1f77b4\"},\"line_alpha\":{\"value\":0.1},\"line_color\":{\"value\":\"#1f77b4\"},\"x\":{\"field\":\"x\"},\"y\":{\"field\":\"y\"}},\"id\":\"45eb7ead-213d-4628-b0a6-13510835e45c\",\"type\":\"Circle\"},{\"attributes\":{\"data_source\":{\"id\":\"1b15e108-094e-48fa-a0c1-60861eda35a0\",\"type\":\"ColumnDataSource\"},\"glyph\":{\"id\":\"e9cf0622-c5d6-42f6-9d2f-ab110d0d6b61\",\"type\":\"Circle\"},\"hover_glyph\":null,\"muted_glyph\":null,\"nonselection_glyph\":{\"id\":\"45eb7ead-213d-4628-b0a6-13510835e45c\",\"type\":\"Circle\"},\"selection_glyph\":null,\"view\":{\"id\":\"bad17395-3ebf-45f0-ac13-9896024e27bd\",\"type\":\"CDSView\"}},\"id\":\"289bbdd6-8f29-4dfa-9ad4-0dad6c324296\",\"type\":\"GlyphRenderer\"},{\"attributes\":{\"dimension\":1,\"plot\":{\"id\":\"57fd3361-292f-4ddd-a26f-e3a9d07b0988\",\"subtype\":\"Figure\",\"type\":\"Plot\"},\"ticker\":{\"id\":\"f1b6b3e8-6c30-4259-bbf3-6e278c614074\",\"type\":\"BasicTicker\"}},\"id\":\"df17ee48-b99c-486a-b8a0-0a796d8963f8\",\"type\":\"Grid\"},{\"attributes\":{\"callback\":null},\"id\":\"5e1d0129-f56e-49ce-903e-ba39624be762\",\"type\":\"DataRange1d\"},{\"attributes\":{\"fill_color\":{\"value\":\"#1f77b4\"},\"line_color\":{\"value\":\"#1f77b4\"},\"x\":{\"field\":\"x\"},\"y\":{\"field\":\"y\"}},\"id\":\"e9cf0622-c5d6-42f6-9d2f-ab110d0d6b61\",\"type\":\"Circle\"},{\"attributes\":{\"format\":\"%e\"},\"id\":\"c65c95ac-0a61-4338-b27f-f652235719b1\",\"type\":\"PrintfTickFormatter\"},{\"attributes\":{\"below\":[{\"id\":\"03e28fc6-3d58-48c0-a07d-9488766ca0c7\",\"type\":\"LinearAxis\"}],\"left\":[{\"id\":\"fae640ef-e4c0-46a1-a7a4-567c07457b46\",\"type\":\"LinearAxis\"}],\"plot_height\":200,\"plot_width\":200,\"renderers\":[{\"id\":\"03e28fc6-3d58-48c0-a07d-9488766ca0c7\",\"type\":\"LinearAxis\"},{\"id\":\"b929cb1f-9323-4a89-940f-c4cfcabab2ca\",\"type\":\"Grid\"},{\"id\":\"fae640ef-e4c0-46a1-a7a4-567c07457b46\",\"type\":\"LinearAxis\"},{\"id\":\"df17ee48-b99c-486a-b8a0-0a796d8963f8\",\"type\":\"Grid\"},{\"id\":\"03d9df3c-186c-46dd-bd5f-b2334738d9d4\",\"type\":\"BoxAnnotation\"},{\"id\":\"289bbdd6-8f29-4dfa-9ad4-0dad6c324296\",\"type\":\"GlyphRenderer\"}],\"title\":{\"id\":\"b9c22d12-2840-492e-bcd4-adc4f0814f84\",\"type\":\"Title\"},\"toolbar\":{\"id\":\"2130a464-e16a-413b-8acb-1c4a8173f691\",\"type\":\"Toolbar\"},\"x_range\":{\"id\":\"5e1d0129-f56e-49ce-903e-ba39624be762\",\"type\":\"DataRange1d\"},\"x_scale\":{\"id\":\"d3bec557-f943-46b9-9f59-afeaec9293c1\",\"type\":\"LinearScale\"},\"y_range\":{\"id\":\"d022efde-669e-40cb-afbd-b90969b38ac0\",\"type\":\"DataRange1d\"},\"y_scale\":{\"id\":\"acc03cce-0305-46fb-8fd4-21abdf4919d9\",\"type\":\"LinearScale\"}},\"id\":\"57fd3361-292f-4ddd-a26f-e3a9d07b0988\",\"subtype\":\"Figure\",\"type\":\"Plot\"},{\"attributes\":{\"callback\":null,\"column_names\":[\"x\",\"y\"],\"data\":{\"x\":[0.123],\"y\":[0.45]}},\"id\":\"1b15e108-094e-48fa-a0c1-60861eda35a0\",\"type\":\"ColumnDataSource\"},{\"attributes\":{},\"id\":\"f1b6b3e8-6c30-4259-bbf3-6e278c614074\",\"type\":\"BasicTicker\"},{\"attributes\":{\"active_drag\":\"auto\",\"active_inspect\":\"auto\",\"active_scroll\":\"auto\",\"active_tap\":\"auto\",\"tools\":[{\"id\":\"704aecca-9563-4bb5-bc3e-8f7bdee44595\",\"type\":\"PanTool\"},{\"id\":\"e599e07f-2d2a-4b21-a2d5-6b156e37ef48\",\"type\":\"WheelZoomTool\"},{\"id\":\"f7b7adf0-45cc-4c4e-bf99-c305a5f87ce5\",\"type\":\"BoxZoomTool\"},{\"id\":\"f8a678b3-09d0-43bb-9bab-46ec0fb5df00\",\"type\":\"SaveTool\"},{\"id\":\"b45f5dde-e462-4cf9-af73-97e26c756825\",\"type\":\"ResetTool\"},{\"id\":\"58e0a131-1468-4e9b-90c6-320cbc37a88d\",\"type\":\"HelpTool\"}]},\"id\":\"2130a464-e16a-413b-8acb-1c4a8173f691\",\"type\":\"Toolbar\"},{\"attributes\":{\"callback\":null},\"id\":\"d022efde-669e-40cb-afbd-b90969b38ac0\",\"type\":\"DataRange1d\"},{\"attributes\":{\"source\":{\"id\":\"1b15e108-094e-48fa-a0c1-60861eda35a0\",\"type\":\"ColumnDataSource\"}},\"id\":\"bad17395-3ebf-45f0-ac13-9896024e27bd\",\"type\":\"CDSView\"},{\"attributes\":{\"plot\":null,\"text\":\"\"},\"id\":\"b9c22d12-2840-492e-bcd4-adc4f0814f84\",\"type\":\"Title\"},{\"attributes\":{},\"id\":\"d3bec557-f943-46b9-9f59-afeaec9293c1\",\"type\":\"LinearScale\"}],\"root_ids\":[\"57fd3361-292f-4ddd-a26f-e3a9d07b0988\"]},\"title\":\"Bokeh Application\",\"version\":\"0.12.10\"}};\n",
       "    var render_items = [{\"docid\":\"71a83926-40f6-47d2-8122-5cabc54c767a\",\"elementid\":\"1303f4f1-25c2-419b-9868-5462fabb4875\",\"modelid\":\"57fd3361-292f-4ddd-a26f-e3a9d07b0988\"}];\n",
       "\n",
       "    root.Bokeh.embed.embed_items(docs_json, render_items);\n",
       "  }\n",
       "\n",
       "  if (root.Bokeh !== undefined) {\n",
       "    embed_document(root);\n",
       "  } else {\n",
       "    var attempts = 0;\n",
       "    var timer = setInterval(function(root) {\n",
       "      if (root.Bokeh !== undefined) {\n",
       "        embed_document(root);\n",
       "        clearInterval(timer);\n",
       "      }\n",
       "      attempts++;\n",
       "      if (attempts > 100) {\n",
       "        console.log(\"Bokeh: ERROR: Unable to embed document because BokehJS library is missing\")\n",
       "        clearInterval(timer);\n",
       "      }\n",
       "    }, 10, root)\n",
       "  }\n",
       "})(window);"
      ],
      "application/vnd.bokehjs_exec.v0+json": ""
     },
     "metadata": {
      "application/vnd.bokehjs_exec.v0+json": {
       "id": "57fd3361-292f-4ddd-a26f-e3a9d07b0988"
      }
     },
     "output_type": "display_data"
    }
   ],
   "source": [
    "# PrintTickFormatter 目盛りラベルの表示形式設定\n",
    "\n",
    "from bokeh.models import PrintfTickFormatter\n",
    "\n",
    "p = figure(plot_width=200, plot_height=200)\n",
    "p.circle([0.123], [0.45])\n",
    "p.xaxis.formatter = PrintfTickFormatter(format=\"%.2f\") #小数点2桁まで表示\n",
    "p.yaxis.formatter = PrintfTickFormatter(format=\"%e\") #科学的記数法\n",
    "show(p)"
   ]
  },
  {
   "cell_type": "code",
   "execution_count": 17,
   "metadata": {},
   "outputs": [
    {
     "data": {
      "text/html": [
       "\n",
       "<div class=\"bk-root\">\n",
       "    <div class=\"bk-plotdiv\" id=\"f5abac0e-c62b-43e2-94f4-cca43a01f2ba\"></div>\n",
       "</div>"
      ]
     },
     "metadata": {},
     "output_type": "display_data"
    },
    {
     "data": {
      "application/javascript": [
       "(function(root) {\n",
       "  function embed_document(root) {\n",
       "    var docs_json = {\"0dc6f3b3-70cb-45ba-bb40-5dc8f8d667a6\":{\"roots\":{\"references\":[{\"attributes\":{\"fill_alpha\":{\"value\":0.1},\"fill_color\":{\"value\":\"#1f77b4\"},\"line_alpha\":{\"value\":0.1},\"line_color\":{\"value\":\"#1f77b4\"},\"x\":{\"field\":\"x\"},\"y\":{\"field\":\"y\"}},\"id\":\"99816b4a-dc8e-48c2-a512-2306f4147c55\",\"type\":\"Circle\"},{\"attributes\":{},\"id\":\"b8d7acd2-64dc-49b8-bf91-1b0b721753f9\",\"type\":\"HelpTool\"},{\"attributes\":{},\"id\":\"131cadb7-40fe-424a-8265-8ed811de8881\",\"type\":\"BasicTicker\"},{\"attributes\":{\"dimension\":1,\"plot\":{\"id\":\"44902d52-9da0-491e-9f61-1db5e4ccc726\",\"subtype\":\"Figure\",\"type\":\"Plot\"},\"ticker\":{\"id\":\"131cadb7-40fe-424a-8265-8ed811de8881\",\"type\":\"BasicTicker\"}},\"id\":\"54905187-52c8-4310-90d0-d157c17f128e\",\"type\":\"Grid\"},{\"attributes\":{},\"id\":\"e3afd763-ba5f-4a10-99bb-c89c99c8ffc5\",\"type\":\"WheelZoomTool\"},{\"attributes\":{\"formatter\":{\"id\":\"a36d1353-d849-461a-8b4d-411546e7f8d4\",\"type\":\"BasicTickFormatter\"},\"major_label_orientation\":\"vertical\",\"plot\":{\"id\":\"44902d52-9da0-491e-9f61-1db5e4ccc726\",\"subtype\":\"Figure\",\"type\":\"Plot\"},\"ticker\":{\"id\":\"131cadb7-40fe-424a-8265-8ed811de8881\",\"type\":\"BasicTicker\"}},\"id\":\"25cdbc63-287d-4885-a76f-3f8165f15435\",\"type\":\"LinearAxis\"},{\"attributes\":{},\"id\":\"748f276d-c7ed-429d-b369-2d125c95229e\",\"type\":\"ResetTool\"},{\"attributes\":{\"fill_color\":{\"value\":\"#1f77b4\"},\"line_color\":{\"value\":\"#1f77b4\"},\"x\":{\"field\":\"x\"},\"y\":{\"field\":\"y\"}},\"id\":\"09110032-c31d-49dc-a45f-d930266bf3b6\",\"type\":\"Circle\"},{\"attributes\":{},\"id\":\"93d3d80a-2988-48c9-8818-53ea21332be8\",\"type\":\"PanTool\"},{\"attributes\":{\"plot\":null,\"text\":\"\"},\"id\":\"dee61227-b624-47b0-a361-b2e7ee0815fd\",\"type\":\"Title\"},{\"attributes\":{\"callback\":null},\"id\":\"4208ec6a-c423-4c3a-b137-c3cc2204aa21\",\"type\":\"DataRange1d\"},{\"attributes\":{\"active_drag\":\"auto\",\"active_inspect\":\"auto\",\"active_scroll\":\"auto\",\"active_tap\":\"auto\",\"tools\":[{\"id\":\"93d3d80a-2988-48c9-8818-53ea21332be8\",\"type\":\"PanTool\"},{\"id\":\"e3afd763-ba5f-4a10-99bb-c89c99c8ffc5\",\"type\":\"WheelZoomTool\"},{\"id\":\"c81c700b-bfa0-4391-80f1-f75725f71047\",\"type\":\"BoxZoomTool\"},{\"id\":\"114eec24-b7c8-4633-9028-a818552920b6\",\"type\":\"SaveTool\"},{\"id\":\"748f276d-c7ed-429d-b369-2d125c95229e\",\"type\":\"ResetTool\"},{\"id\":\"b8d7acd2-64dc-49b8-bf91-1b0b721753f9\",\"type\":\"HelpTool\"}]},\"id\":\"b1ad0770-6da7-4f35-bf3e-669248441525\",\"type\":\"Toolbar\"},{\"attributes\":{\"callback\":null},\"id\":\"17d70cfb-ca8e-4b44-ba02-de342ebd2da6\",\"type\":\"DataRange1d\"},{\"attributes\":{},\"id\":\"a36d1353-d849-461a-8b4d-411546e7f8d4\",\"type\":\"BasicTickFormatter\"},{\"attributes\":{\"source\":{\"id\":\"1a62e776-d161-489a-a5ea-5c58fe11aee2\",\"type\":\"ColumnDataSource\"}},\"id\":\"95281cb3-bf53-4a30-b724-78f704f9c025\",\"type\":\"CDSView\"},{\"attributes\":{\"below\":[{\"id\":\"8622813f-82ae-4985-9f66-37abebb66d1e\",\"type\":\"LinearAxis\"}],\"left\":[{\"id\":\"25cdbc63-287d-4885-a76f-3f8165f15435\",\"type\":\"LinearAxis\"}],\"plot_height\":200,\"plot_width\":200,\"renderers\":[{\"id\":\"8622813f-82ae-4985-9f66-37abebb66d1e\",\"type\":\"LinearAxis\"},{\"id\":\"2097daec-f76e-4203-8130-7439dba0a901\",\"type\":\"Grid\"},{\"id\":\"25cdbc63-287d-4885-a76f-3f8165f15435\",\"type\":\"LinearAxis\"},{\"id\":\"54905187-52c8-4310-90d0-d157c17f128e\",\"type\":\"Grid\"},{\"id\":\"3843a0ff-2398-47b8-ac35-520d2971ab3f\",\"type\":\"BoxAnnotation\"},{\"id\":\"06874e24-c730-4458-a471-f51c670f396c\",\"type\":\"GlyphRenderer\"}],\"title\":{\"id\":\"dee61227-b624-47b0-a361-b2e7ee0815fd\",\"type\":\"Title\"},\"toolbar\":{\"id\":\"b1ad0770-6da7-4f35-bf3e-669248441525\",\"type\":\"Toolbar\"},\"x_range\":{\"id\":\"4208ec6a-c423-4c3a-b137-c3cc2204aa21\",\"type\":\"DataRange1d\"},\"x_scale\":{\"id\":\"6b75a085-7b15-4a3a-aa7a-9edf6e3f75d2\",\"type\":\"LinearScale\"},\"y_range\":{\"id\":\"17d70cfb-ca8e-4b44-ba02-de342ebd2da6\",\"type\":\"DataRange1d\"},\"y_scale\":{\"id\":\"c3b01921-fcb8-457e-8c9c-0bbd3af8a056\",\"type\":\"LinearScale\"}},\"id\":\"44902d52-9da0-491e-9f61-1db5e4ccc726\",\"subtype\":\"Figure\",\"type\":\"Plot\"},{\"attributes\":{},\"id\":\"c3b01921-fcb8-457e-8c9c-0bbd3af8a056\",\"type\":\"LinearScale\"},{\"attributes\":{},\"id\":\"6b75a085-7b15-4a3a-aa7a-9edf6e3f75d2\",\"type\":\"LinearScale\"},{\"attributes\":{},\"id\":\"114eec24-b7c8-4633-9028-a818552920b6\",\"type\":\"SaveTool\"},{\"attributes\":{},\"id\":\"c6de217e-ad6a-4002-bc44-d518748a1c46\",\"type\":\"BasicTickFormatter\"},{\"attributes\":{\"formatter\":{\"id\":\"c6de217e-ad6a-4002-bc44-d518748a1c46\",\"type\":\"BasicTickFormatter\"},\"major_label_orientation\":0.6,\"plot\":{\"id\":\"44902d52-9da0-491e-9f61-1db5e4ccc726\",\"subtype\":\"Figure\",\"type\":\"Plot\"},\"ticker\":{\"id\":\"f95ecef0-19ac-4e63-b089-64dd9d095fef\",\"type\":\"BasicTicker\"}},\"id\":\"8622813f-82ae-4985-9f66-37abebb66d1e\",\"type\":\"LinearAxis\"},{\"attributes\":{\"bottom_units\":\"screen\",\"fill_alpha\":{\"value\":0.5},\"fill_color\":{\"value\":\"lightgrey\"},\"left_units\":\"screen\",\"level\":\"overlay\",\"line_alpha\":{\"value\":1.0},\"line_color\":{\"value\":\"black\"},\"line_dash\":[4,4],\"line_width\":{\"value\":2},\"plot\":null,\"render_mode\":\"css\",\"right_units\":\"screen\",\"top_units\":\"screen\"},\"id\":\"3843a0ff-2398-47b8-ac35-520d2971ab3f\",\"type\":\"BoxAnnotation\"},{\"attributes\":{},\"id\":\"f95ecef0-19ac-4e63-b089-64dd9d095fef\",\"type\":\"BasicTicker\"},{\"attributes\":{\"overlay\":{\"id\":\"3843a0ff-2398-47b8-ac35-520d2971ab3f\",\"type\":\"BoxAnnotation\"}},\"id\":\"c81c700b-bfa0-4391-80f1-f75725f71047\",\"type\":\"BoxZoomTool\"},{\"attributes\":{\"callback\":null,\"column_names\":[\"x\",\"y\"],\"data\":{\"x\":[0],\"y\":[0]}},\"id\":\"1a62e776-d161-489a-a5ea-5c58fe11aee2\",\"type\":\"ColumnDataSource\"},{\"attributes\":{\"plot\":{\"id\":\"44902d52-9da0-491e-9f61-1db5e4ccc726\",\"subtype\":\"Figure\",\"type\":\"Plot\"},\"ticker\":{\"id\":\"f95ecef0-19ac-4e63-b089-64dd9d095fef\",\"type\":\"BasicTicker\"}},\"id\":\"2097daec-f76e-4203-8130-7439dba0a901\",\"type\":\"Grid\"},{\"attributes\":{\"data_source\":{\"id\":\"1a62e776-d161-489a-a5ea-5c58fe11aee2\",\"type\":\"ColumnDataSource\"},\"glyph\":{\"id\":\"09110032-c31d-49dc-a45f-d930266bf3b6\",\"type\":\"Circle\"},\"hover_glyph\":null,\"muted_glyph\":null,\"nonselection_glyph\":{\"id\":\"99816b4a-dc8e-48c2-a512-2306f4147c55\",\"type\":\"Circle\"},\"selection_glyph\":null,\"view\":{\"id\":\"95281cb3-bf53-4a30-b724-78f704f9c025\",\"type\":\"CDSView\"}},\"id\":\"06874e24-c730-4458-a471-f51c670f396c\",\"type\":\"GlyphRenderer\"}],\"root_ids\":[\"44902d52-9da0-491e-9f61-1db5e4ccc726\"]},\"title\":\"Bokeh Application\",\"version\":\"0.12.10\"}};\n",
       "    var render_items = [{\"docid\":\"0dc6f3b3-70cb-45ba-bb40-5dc8f8d667a6\",\"elementid\":\"f5abac0e-c62b-43e2-94f4-cca43a01f2ba\",\"modelid\":\"44902d52-9da0-491e-9f61-1db5e4ccc726\"}];\n",
       "\n",
       "    root.Bokeh.embed.embed_items(docs_json, render_items);\n",
       "  }\n",
       "\n",
       "  if (root.Bokeh !== undefined) {\n",
       "    embed_document(root);\n",
       "  } else {\n",
       "    var attempts = 0;\n",
       "    var timer = setInterval(function(root) {\n",
       "      if (root.Bokeh !== undefined) {\n",
       "        embed_document(root);\n",
       "        clearInterval(timer);\n",
       "      }\n",
       "      attempts++;\n",
       "      if (attempts > 100) {\n",
       "        console.log(\"Bokeh: ERROR: Unable to embed document because BokehJS library is missing\")\n",
       "        clearInterval(timer);\n",
       "      }\n",
       "    }, 10, root)\n",
       "  }\n",
       "})(window);"
      ],
      "application/vnd.bokehjs_exec.v0+json": ""
     },
     "metadata": {
      "application/vnd.bokehjs_exec.v0+json": {
       "id": "44902d52-9da0-491e-9f61-1db5e4ccc726"
      }
     },
     "output_type": "display_data"
    }
   ],
   "source": [
    "# 目盛りラベルの表示角度\n",
    "\n",
    "p = figure(plot_width=200, plot_height=200)\n",
    "p.circle([0], [0])\n",
    "p.xaxis.major_label_orientation = 0.6\n",
    "p.yaxis.major_label_orientation = \"vertical\"\n",
    "show(p)"
   ]
  },
  {
   "cell_type": "code",
   "execution_count": null,
   "metadata": {},
   "outputs": [],
   "source": []
  }
 ],
 "metadata": {
  "kernelspec": {
   "display_name": "Python 3",
   "language": "python",
   "name": "python3"
  },
  "language_info": {
   "codemirror_mode": {
    "name": "ipython",
    "version": 3
   },
   "file_extension": ".py",
   "mimetype": "text/x-python",
   "name": "python",
   "nbconvert_exporter": "python",
   "pygments_lexer": "ipython3",
   "version": "3.6.1"
  }
 },
 "nbformat": 4,
 "nbformat_minor": 2
}
