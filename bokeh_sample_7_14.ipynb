{
 "cells": [
  {
   "cell_type": "code",
   "execution_count": 1,
   "metadata": {},
   "outputs": [
    {
     "data": {
      "text/html": [
       "\n",
       "    <div class=\"bk-root\">\n",
       "        <a href=\"https://bokeh.pydata.org\" target=\"_blank\" class=\"bk-logo bk-logo-small bk-logo-notebook\"></a>\n",
       "        <span id=\"ba953c05-0a45-4321-acba-50441846c5b9\">Loading BokehJS ...</span>\n",
       "    </div>"
      ]
     },
     "metadata": {},
     "output_type": "display_data"
    },
    {
     "data": {
      "application/javascript": [
       "\n",
       "(function(root) {\n",
       "  function now() {\n",
       "    return new Date();\n",
       "  }\n",
       "\n",
       "  var force = true;\n",
       "\n",
       "  if (typeof (root._bokeh_onload_callbacks) === \"undefined\" || force === true) {\n",
       "    root._bokeh_onload_callbacks = [];\n",
       "    root._bokeh_is_loading = undefined;\n",
       "  }\n",
       "\n",
       "  var JS_MIME_TYPE = 'application/javascript';\n",
       "  var HTML_MIME_TYPE = 'text/html';\n",
       "  var EXEC_MIME_TYPE = 'application/vnd.bokehjs_exec.v0+json';\n",
       "  var CLASS_NAME = 'output_bokeh rendered_html';\n",
       "\n",
       "  /**\n",
       "   * Render data to the DOM node\n",
       "   */\n",
       "  function render(props, node) {\n",
       "    var script = document.createElement(\"script\");\n",
       "    node.appendChild(script);\n",
       "  }\n",
       "\n",
       "  /**\n",
       "   * Handle when an output is cleared or removed\n",
       "   */\n",
       "  function handleClearOutput(event, handle) {\n",
       "    var cell = handle.cell;\n",
       "\n",
       "    var id = cell.output_area._bokeh_element_id;\n",
       "    var server_id = cell.output_area._bokeh_server_id;\n",
       "    // Clean up Bokeh references\n",
       "    if (id !== undefined) {\n",
       "      Bokeh.index[id].model.document.clear();\n",
       "      delete Bokeh.index[id];\n",
       "    }\n",
       "\n",
       "    if (server_id !== undefined) {\n",
       "      // Clean up Bokeh references\n",
       "      var cmd = \"from bokeh.io.state import curstate; print(curstate().uuid_to_server['\" + server_id + \"'].get_sessions()[0].document.roots[0]._id)\";\n",
       "      cell.notebook.kernel.execute(cmd, {\n",
       "        iopub: {\n",
       "          output: function(msg) {\n",
       "            var element_id = msg.content.text.trim();\n",
       "            Bokeh.index[element_id].model.document.clear();\n",
       "            delete Bokeh.index[element_id];\n",
       "          }\n",
       "        }\n",
       "      });\n",
       "      // Destroy server and session\n",
       "      var cmd = \"import bokeh.io.notebook as ion; ion.destroy_server('\" + server_id + \"')\";\n",
       "      cell.notebook.kernel.execute(cmd);\n",
       "    }\n",
       "  }\n",
       "\n",
       "  /**\n",
       "   * Handle when a new output is added\n",
       "   */\n",
       "  function handleAddOutput(event, handle) {\n",
       "    var output_area = handle.output_area;\n",
       "    var output = handle.output;\n",
       "\n",
       "    // limit handleAddOutput to display_data with EXEC_MIME_TYPE content only\n",
       "    if ((output.output_type != \"display_data\") || (!output.data.hasOwnProperty(EXEC_MIME_TYPE))) {\n",
       "      return\n",
       "    }\n",
       "\n",
       "    var toinsert = output_area.element.find(`.${CLASS_NAME.split(' ')[0]}`);\n",
       "\n",
       "    if (output.metadata[EXEC_MIME_TYPE][\"id\"] !== undefined) {\n",
       "      toinsert[0].firstChild.textContent = output.data[JS_MIME_TYPE];\n",
       "      // store reference to embed id on output_area\n",
       "      output_area._bokeh_element_id = output.metadata[EXEC_MIME_TYPE][\"id\"];\n",
       "    }\n",
       "    if (output.metadata[EXEC_MIME_TYPE][\"server_id\"] !== undefined) {\n",
       "      var bk_div = document.createElement(\"div\");\n",
       "      bk_div.innerHTML = output.data[HTML_MIME_TYPE];\n",
       "      var script_attrs = bk_div.children[0].attributes;\n",
       "      for (var i = 0; i < script_attrs.length; i++) {\n",
       "        toinsert[0].firstChild.setAttribute(script_attrs[i].name, script_attrs[i].value);\n",
       "      }\n",
       "      // store reference to server id on output_area\n",
       "      output_area._bokeh_server_id = output.metadata[EXEC_MIME_TYPE][\"server_id\"];\n",
       "    }\n",
       "  }\n",
       "\n",
       "  function register_renderer(events, OutputArea) {\n",
       "\n",
       "    function append_mime(data, metadata, element) {\n",
       "      // create a DOM node to render to\n",
       "      var toinsert = this.create_output_subarea(\n",
       "        metadata,\n",
       "        CLASS_NAME,\n",
       "        EXEC_MIME_TYPE\n",
       "      );\n",
       "      this.keyboard_manager.register_events(toinsert);\n",
       "      // Render to node\n",
       "      var props = {data: data, metadata: metadata[EXEC_MIME_TYPE]};\n",
       "      render(props, toinsert[0]);\n",
       "      element.append(toinsert);\n",
       "      return toinsert\n",
       "    }\n",
       "\n",
       "    /* Handle when an output is cleared or removed */\n",
       "    events.on('clear_output.CodeCell', handleClearOutput);\n",
       "    events.on('delete.Cell', handleClearOutput);\n",
       "\n",
       "    /* Handle when a new output is added */\n",
       "    events.on('output_added.OutputArea', handleAddOutput);\n",
       "\n",
       "    /**\n",
       "     * Register the mime type and append_mime function with output_area\n",
       "     */\n",
       "    OutputArea.prototype.register_mime_type(EXEC_MIME_TYPE, append_mime, {\n",
       "      /* Is output safe? */\n",
       "      safe: true,\n",
       "      /* Index of renderer in `output_area.display_order` */\n",
       "      index: 0\n",
       "    });\n",
       "  }\n",
       "\n",
       "  // register the mime type if in Jupyter Notebook environment and previously unregistered\n",
       "  if (root.Jupyter !== undefined) {\n",
       "    var events = require('base/js/events');\n",
       "    var OutputArea = require('notebook/js/outputarea').OutputArea;\n",
       "\n",
       "    if (OutputArea.prototype.mime_types().indexOf(EXEC_MIME_TYPE) == -1) {\n",
       "      register_renderer(events, OutputArea);\n",
       "    }\n",
       "  }\n",
       "\n",
       "  \n",
       "  if (typeof (root._bokeh_timeout) === \"undefined\" || force === true) {\n",
       "    root._bokeh_timeout = Date.now() + 5000;\n",
       "    root._bokeh_failed_load = false;\n",
       "  }\n",
       "\n",
       "  var NB_LOAD_WARNING = {'data': {'text/html':\n",
       "     \"<div style='background-color: #fdd'>\\n\"+\n",
       "     \"<p>\\n\"+\n",
       "     \"BokehJS does not appear to have successfully loaded. If loading BokehJS from CDN, this \\n\"+\n",
       "     \"may be due to a slow or bad network connection. Possible fixes:\\n\"+\n",
       "     \"</p>\\n\"+\n",
       "     \"<ul>\\n\"+\n",
       "     \"<li>re-rerun `output_notebook()` to attempt to load from CDN again, or</li>\\n\"+\n",
       "     \"<li>use INLINE resources instead, as so:</li>\\n\"+\n",
       "     \"</ul>\\n\"+\n",
       "     \"<code>\\n\"+\n",
       "     \"from bokeh.resources import INLINE\\n\"+\n",
       "     \"output_notebook(resources=INLINE)\\n\"+\n",
       "     \"</code>\\n\"+\n",
       "     \"</div>\"}};\n",
       "\n",
       "  function display_loaded() {\n",
       "    var el = document.getElementById(\"ba953c05-0a45-4321-acba-50441846c5b9\");\n",
       "    if (el != null) {\n",
       "      el.textContent = \"BokehJS is loading...\";\n",
       "    }\n",
       "    if (root.Bokeh !== undefined) {\n",
       "      if (el != null) {\n",
       "        el.textContent = \"BokehJS \" + root.Bokeh.version + \" successfully loaded.\";\n",
       "      }\n",
       "    } else if (Date.now() < root._bokeh_timeout) {\n",
       "      setTimeout(display_loaded, 100)\n",
       "    }\n",
       "  }\n",
       "\n",
       "\n",
       "  function run_callbacks() {\n",
       "    try {\n",
       "      root._bokeh_onload_callbacks.forEach(function(callback) { callback() });\n",
       "    }\n",
       "    finally {\n",
       "      delete root._bokeh_onload_callbacks\n",
       "    }\n",
       "    console.info(\"Bokeh: all callbacks have finished\");\n",
       "  }\n",
       "\n",
       "  function load_libs(js_urls, callback) {\n",
       "    root._bokeh_onload_callbacks.push(callback);\n",
       "    if (root._bokeh_is_loading > 0) {\n",
       "      console.log(\"Bokeh: BokehJS is being loaded, scheduling callback at\", now());\n",
       "      return null;\n",
       "    }\n",
       "    if (js_urls == null || js_urls.length === 0) {\n",
       "      run_callbacks();\n",
       "      return null;\n",
       "    }\n",
       "    console.log(\"Bokeh: BokehJS not loaded, scheduling load and callback at\", now());\n",
       "    root._bokeh_is_loading = js_urls.length;\n",
       "    for (var i = 0; i < js_urls.length; i++) {\n",
       "      var url = js_urls[i];\n",
       "      var s = document.createElement('script');\n",
       "      s.src = url;\n",
       "      s.async = false;\n",
       "      s.onreadystatechange = s.onload = function() {\n",
       "        root._bokeh_is_loading--;\n",
       "        if (root._bokeh_is_loading === 0) {\n",
       "          console.log(\"Bokeh: all BokehJS libraries loaded\");\n",
       "          run_callbacks()\n",
       "        }\n",
       "      };\n",
       "      s.onerror = function() {\n",
       "        console.warn(\"failed to load library \" + url);\n",
       "      };\n",
       "      console.log(\"Bokeh: injecting script tag for BokehJS library: \", url);\n",
       "      document.getElementsByTagName(\"head\")[0].appendChild(s);\n",
       "    }\n",
       "  };var element = document.getElementById(\"ba953c05-0a45-4321-acba-50441846c5b9\");\n",
       "  if (element == null) {\n",
       "    console.log(\"Bokeh: ERROR: autoload.js configured with elementid 'ba953c05-0a45-4321-acba-50441846c5b9' but no matching script tag was found. \")\n",
       "    return false;\n",
       "  }\n",
       "\n",
       "  var js_urls = [\"https://cdn.pydata.org/bokeh/release/bokeh-0.12.10.min.js\", \"https://cdn.pydata.org/bokeh/release/bokeh-widgets-0.12.10.min.js\", \"https://cdn.pydata.org/bokeh/release/bokeh-tables-0.12.10.min.js\", \"https://cdn.pydata.org/bokeh/release/bokeh-gl-0.12.10.min.js\"];\n",
       "\n",
       "  var inline_js = [\n",
       "    function(Bokeh) {\n",
       "      Bokeh.set_log_level(\"info\");\n",
       "    },\n",
       "    \n",
       "    function(Bokeh) {\n",
       "      \n",
       "    },\n",
       "    function(Bokeh) {\n",
       "      console.log(\"Bokeh: injecting CSS: https://cdn.pydata.org/bokeh/release/bokeh-0.12.10.min.css\");\n",
       "      Bokeh.embed.inject_css(\"https://cdn.pydata.org/bokeh/release/bokeh-0.12.10.min.css\");\n",
       "      console.log(\"Bokeh: injecting CSS: https://cdn.pydata.org/bokeh/release/bokeh-widgets-0.12.10.min.css\");\n",
       "      Bokeh.embed.inject_css(\"https://cdn.pydata.org/bokeh/release/bokeh-widgets-0.12.10.min.css\");\n",
       "      console.log(\"Bokeh: injecting CSS: https://cdn.pydata.org/bokeh/release/bokeh-tables-0.12.10.min.css\");\n",
       "      Bokeh.embed.inject_css(\"https://cdn.pydata.org/bokeh/release/bokeh-tables-0.12.10.min.css\");\n",
       "    }\n",
       "  ];\n",
       "\n",
       "  function run_inline_js() {\n",
       "    \n",
       "    if ((root.Bokeh !== undefined) || (force === true)) {\n",
       "      for (var i = 0; i < inline_js.length; i++) {\n",
       "        inline_js[i].call(root, root.Bokeh);\n",
       "      }if (force === true) {\n",
       "        display_loaded();\n",
       "      }} else if (Date.now() < root._bokeh_timeout) {\n",
       "      setTimeout(run_inline_js, 100);\n",
       "    } else if (!root._bokeh_failed_load) {\n",
       "      console.log(\"Bokeh: BokehJS failed to load within specified timeout.\");\n",
       "      root._bokeh_failed_load = true;\n",
       "    } else if (force !== true) {\n",
       "      var cell = $(document.getElementById(\"ba953c05-0a45-4321-acba-50441846c5b9\")).parents('.cell').data().cell;\n",
       "      cell.output_area.append_execute_result(NB_LOAD_WARNING)\n",
       "    }\n",
       "\n",
       "  }\n",
       "\n",
       "  if (root._bokeh_is_loading === 0) {\n",
       "    console.log(\"Bokeh: BokehJS loaded, going straight to plotting\");\n",
       "    run_inline_js();\n",
       "  } else {\n",
       "    load_libs(js_urls, function() {\n",
       "      console.log(\"Bokeh: BokehJS plotting callback run at\", now());\n",
       "      run_inline_js();\n",
       "    });\n",
       "  }\n",
       "}(window));"
      ],
      "application/vnd.bokehjs_load.v0+json": "\n(function(root) {\n  function now() {\n    return new Date();\n  }\n\n  var force = true;\n\n  if (typeof (root._bokeh_onload_callbacks) === \"undefined\" || force === true) {\n    root._bokeh_onload_callbacks = [];\n    root._bokeh_is_loading = undefined;\n  }\n\n  \n\n  \n  if (typeof (root._bokeh_timeout) === \"undefined\" || force === true) {\n    root._bokeh_timeout = Date.now() + 5000;\n    root._bokeh_failed_load = false;\n  }\n\n  var NB_LOAD_WARNING = {'data': {'text/html':\n     \"<div style='background-color: #fdd'>\\n\"+\n     \"<p>\\n\"+\n     \"BokehJS does not appear to have successfully loaded. If loading BokehJS from CDN, this \\n\"+\n     \"may be due to a slow or bad network connection. Possible fixes:\\n\"+\n     \"</p>\\n\"+\n     \"<ul>\\n\"+\n     \"<li>re-rerun `output_notebook()` to attempt to load from CDN again, or</li>\\n\"+\n     \"<li>use INLINE resources instead, as so:</li>\\n\"+\n     \"</ul>\\n\"+\n     \"<code>\\n\"+\n     \"from bokeh.resources import INLINE\\n\"+\n     \"output_notebook(resources=INLINE)\\n\"+\n     \"</code>\\n\"+\n     \"</div>\"}};\n\n  function display_loaded() {\n    var el = document.getElementById(\"ba953c05-0a45-4321-acba-50441846c5b9\");\n    if (el != null) {\n      el.textContent = \"BokehJS is loading...\";\n    }\n    if (root.Bokeh !== undefined) {\n      if (el != null) {\n        el.textContent = \"BokehJS \" + root.Bokeh.version + \" successfully loaded.\";\n      }\n    } else if (Date.now() < root._bokeh_timeout) {\n      setTimeout(display_loaded, 100)\n    }\n  }\n\n\n  function run_callbacks() {\n    try {\n      root._bokeh_onload_callbacks.forEach(function(callback) { callback() });\n    }\n    finally {\n      delete root._bokeh_onload_callbacks\n    }\n    console.info(\"Bokeh: all callbacks have finished\");\n  }\n\n  function load_libs(js_urls, callback) {\n    root._bokeh_onload_callbacks.push(callback);\n    if (root._bokeh_is_loading > 0) {\n      console.log(\"Bokeh: BokehJS is being loaded, scheduling callback at\", now());\n      return null;\n    }\n    if (js_urls == null || js_urls.length === 0) {\n      run_callbacks();\n      return null;\n    }\n    console.log(\"Bokeh: BokehJS not loaded, scheduling load and callback at\", now());\n    root._bokeh_is_loading = js_urls.length;\n    for (var i = 0; i < js_urls.length; i++) {\n      var url = js_urls[i];\n      var s = document.createElement('script');\n      s.src = url;\n      s.async = false;\n      s.onreadystatechange = s.onload = function() {\n        root._bokeh_is_loading--;\n        if (root._bokeh_is_loading === 0) {\n          console.log(\"Bokeh: all BokehJS libraries loaded\");\n          run_callbacks()\n        }\n      };\n      s.onerror = function() {\n        console.warn(\"failed to load library \" + url);\n      };\n      console.log(\"Bokeh: injecting script tag for BokehJS library: \", url);\n      document.getElementsByTagName(\"head\")[0].appendChild(s);\n    }\n  };var element = document.getElementById(\"ba953c05-0a45-4321-acba-50441846c5b9\");\n  if (element == null) {\n    console.log(\"Bokeh: ERROR: autoload.js configured with elementid 'ba953c05-0a45-4321-acba-50441846c5b9' but no matching script tag was found. \")\n    return false;\n  }\n\n  var js_urls = [\"https://cdn.pydata.org/bokeh/release/bokeh-0.12.10.min.js\", \"https://cdn.pydata.org/bokeh/release/bokeh-widgets-0.12.10.min.js\", \"https://cdn.pydata.org/bokeh/release/bokeh-tables-0.12.10.min.js\", \"https://cdn.pydata.org/bokeh/release/bokeh-gl-0.12.10.min.js\"];\n\n  var inline_js = [\n    function(Bokeh) {\n      Bokeh.set_log_level(\"info\");\n    },\n    \n    function(Bokeh) {\n      \n    },\n    function(Bokeh) {\n      console.log(\"Bokeh: injecting CSS: https://cdn.pydata.org/bokeh/release/bokeh-0.12.10.min.css\");\n      Bokeh.embed.inject_css(\"https://cdn.pydata.org/bokeh/release/bokeh-0.12.10.min.css\");\n      console.log(\"Bokeh: injecting CSS: https://cdn.pydata.org/bokeh/release/bokeh-widgets-0.12.10.min.css\");\n      Bokeh.embed.inject_css(\"https://cdn.pydata.org/bokeh/release/bokeh-widgets-0.12.10.min.css\");\n      console.log(\"Bokeh: injecting CSS: https://cdn.pydata.org/bokeh/release/bokeh-tables-0.12.10.min.css\");\n      Bokeh.embed.inject_css(\"https://cdn.pydata.org/bokeh/release/bokeh-tables-0.12.10.min.css\");\n    }\n  ];\n\n  function run_inline_js() {\n    \n    if ((root.Bokeh !== undefined) || (force === true)) {\n      for (var i = 0; i < inline_js.length; i++) {\n        inline_js[i].call(root, root.Bokeh);\n      }if (force === true) {\n        display_loaded();\n      }} else if (Date.now() < root._bokeh_timeout) {\n      setTimeout(run_inline_js, 100);\n    } else if (!root._bokeh_failed_load) {\n      console.log(\"Bokeh: BokehJS failed to load within specified timeout.\");\n      root._bokeh_failed_load = true;\n    } else if (force !== true) {\n      var cell = $(document.getElementById(\"ba953c05-0a45-4321-acba-50441846c5b9\")).parents('.cell').data().cell;\n      cell.output_area.append_execute_result(NB_LOAD_WARNING)\n    }\n\n  }\n\n  if (root._bokeh_is_loading === 0) {\n    console.log(\"Bokeh: BokehJS loaded, going straight to plotting\");\n    run_inline_js();\n  } else {\n    load_libs(js_urls, function() {\n      console.log(\"Bokeh: BokehJS plotting callback run at\", now());\n      run_inline_js();\n    });\n  }\n}(window));"
     },
     "metadata": {},
     "output_type": "display_data"
    },
    {
     "name": "stderr",
     "output_type": "stream",
     "text": [
      "W-1001 (NO_DATA_RENDERERS): Plot has no data renderers: Figure(id='eb40a242-6118-496c-b52f-8661440b04b2', ...)\n"
     ]
    },
    {
     "data": {
      "text/html": [
       "\n",
       "<div class=\"bk-root\">\n",
       "    <div class=\"bk-plotdiv\" id=\"610a3cb5-6b84-4146-a368-fc7c605aad08\"></div>\n",
       "</div>"
      ]
     },
     "metadata": {},
     "output_type": "display_data"
    },
    {
     "data": {
      "application/javascript": [
       "(function(root) {\n",
       "  function embed_document(root) {\n",
       "    var docs_json = {\"aad6105e-3dc5-4761-8a69-521e1723fe44\":{\"roots\":{\"references\":[{\"attributes\":{\"plot\":{\"id\":\"eb40a242-6118-496c-b52f-8661440b04b2\",\"subtype\":\"Figure\",\"type\":\"Plot\"},\"ticker\":{\"id\":\"de91f011-ee38-494e-af18-002b2cbd3e68\",\"type\":\"BasicTicker\"}},\"id\":\"5c25bdff-2f5f-4ebe-8fae-b19336aeb452\",\"type\":\"Grid\"},{\"attributes\":{\"callback\":null},\"id\":\"cd7e8568-97e6-4f54-8ae9-de5dd73ca15f\",\"type\":\"DataRange1d\"},{\"attributes\":{\"formatter\":{\"id\":\"efab6db2-c029-4254-91c1-696a5464434d\",\"type\":\"BasicTickFormatter\"},\"plot\":{\"id\":\"eb40a242-6118-496c-b52f-8661440b04b2\",\"subtype\":\"Figure\",\"type\":\"Plot\"},\"ticker\":{\"id\":\"dbe6fc3c-82a5-4721-8096-ea54d3ff11b6\",\"type\":\"BasicTicker\"}},\"id\":\"683eb14a-efed-4e1f-af30-94c30c5b51da\",\"type\":\"LinearAxis\"},{\"attributes\":{},\"id\":\"dbe6fc3c-82a5-4721-8096-ea54d3ff11b6\",\"type\":\"BasicTicker\"},{\"attributes\":{\"dimension\":1,\"plot\":{\"id\":\"eb40a242-6118-496c-b52f-8661440b04b2\",\"subtype\":\"Figure\",\"type\":\"Plot\"},\"ticker\":{\"id\":\"dbe6fc3c-82a5-4721-8096-ea54d3ff11b6\",\"type\":\"BasicTicker\"}},\"id\":\"96d778b5-5d93-49e9-ac6b-f2816421cdde\",\"type\":\"Grid\"},{\"attributes\":{\"bottom_units\":\"screen\",\"fill_alpha\":{\"value\":0.5},\"fill_color\":{\"value\":\"lightgrey\"},\"left_units\":\"screen\",\"level\":\"overlay\",\"line_alpha\":{\"value\":1.0},\"line_color\":{\"value\":\"black\"},\"line_dash\":[4,4],\"line_width\":{\"value\":2},\"plot\":null,\"render_mode\":\"css\",\"right_units\":\"screen\",\"top_units\":\"screen\"},\"id\":\"5c12f534-c432-4b90-868e-f7ad8e6bea5a\",\"type\":\"BoxAnnotation\"},{\"attributes\":{},\"id\":\"29042af7-4f6a-4b2c-8e2f-ecf689996d1f\",\"type\":\"LinearScale\"},{\"attributes\":{\"plot\":null,\"text\":\"\"},\"id\":\"cd4dfec1-78de-446f-b19e-9a0c61a804ab\",\"type\":\"Title\"},{\"attributes\":{},\"id\":\"74587c83-4e51-40c1-8a61-65d7d32fed89\",\"type\":\"PanTool\"},{\"attributes\":{},\"id\":\"efab6db2-c029-4254-91c1-696a5464434d\",\"type\":\"BasicTickFormatter\"},{\"attributes\":{\"active_drag\":\"auto\",\"active_inspect\":\"auto\",\"active_scroll\":\"auto\",\"active_tap\":\"auto\",\"tools\":[{\"id\":\"74587c83-4e51-40c1-8a61-65d7d32fed89\",\"type\":\"PanTool\"},{\"id\":\"833c83a0-e9bf-4da0-8cb1-5a009c2218e1\",\"type\":\"WheelZoomTool\"},{\"id\":\"e8e71255-ce91-489c-bfda-ec58ba6e1f3d\",\"type\":\"BoxZoomTool\"},{\"id\":\"a16af4db-b991-4418-96a7-0dda11100378\",\"type\":\"SaveTool\"},{\"id\":\"c6511644-83bf-497e-9c9f-9f06a4a8b1ad\",\"type\":\"ResetTool\"},{\"id\":\"ec77ab58-15dd-4243-a00c-d582ed6bbc09\",\"type\":\"HelpTool\"}]},\"id\":\"56e422a6-9887-47d5-83fd-bf2576339102\",\"type\":\"Toolbar\"},{\"attributes\":{},\"id\":\"833c83a0-e9bf-4da0-8cb1-5a009c2218e1\",\"type\":\"WheelZoomTool\"},{\"attributes\":{\"overlay\":{\"id\":\"5c12f534-c432-4b90-868e-f7ad8e6bea5a\",\"type\":\"BoxAnnotation\"}},\"id\":\"e8e71255-ce91-489c-bfda-ec58ba6e1f3d\",\"type\":\"BoxZoomTool\"},{\"attributes\":{\"callback\":null},\"id\":\"de00afa2-c57c-41fb-b4f2-b74556d58008\",\"type\":\"DataRange1d\"},{\"attributes\":{},\"id\":\"a16af4db-b991-4418-96a7-0dda11100378\",\"type\":\"SaveTool\"},{\"attributes\":{\"below\":[{\"id\":\"71eb2fd6-f9d5-43b2-be43-050f8c59075f\",\"type\":\"LinearAxis\"}],\"left\":[{\"id\":\"683eb14a-efed-4e1f-af30-94c30c5b51da\",\"type\":\"LinearAxis\"}],\"plot_height\":200,\"plot_width\":200,\"renderers\":[{\"id\":\"71eb2fd6-f9d5-43b2-be43-050f8c59075f\",\"type\":\"LinearAxis\"},{\"id\":\"5c25bdff-2f5f-4ebe-8fae-b19336aeb452\",\"type\":\"Grid\"},{\"id\":\"683eb14a-efed-4e1f-af30-94c30c5b51da\",\"type\":\"LinearAxis\"},{\"id\":\"96d778b5-5d93-49e9-ac6b-f2816421cdde\",\"type\":\"Grid\"},{\"id\":\"5c12f534-c432-4b90-868e-f7ad8e6bea5a\",\"type\":\"BoxAnnotation\"}],\"title\":{\"id\":\"cd4dfec1-78de-446f-b19e-9a0c61a804ab\",\"type\":\"Title\"},\"toolbar\":{\"id\":\"56e422a6-9887-47d5-83fd-bf2576339102\",\"type\":\"Toolbar\"},\"x_range\":{\"id\":\"cd7e8568-97e6-4f54-8ae9-de5dd73ca15f\",\"type\":\"DataRange1d\"},\"x_scale\":{\"id\":\"227e9de5-f7d8-4a9c-8eb8-d089890d4d95\",\"type\":\"LinearScale\"},\"y_range\":{\"id\":\"de00afa2-c57c-41fb-b4f2-b74556d58008\",\"type\":\"DataRange1d\"},\"y_scale\":{\"id\":\"29042af7-4f6a-4b2c-8e2f-ecf689996d1f\",\"type\":\"LinearScale\"}},\"id\":\"eb40a242-6118-496c-b52f-8661440b04b2\",\"subtype\":\"Figure\",\"type\":\"Plot\"},{\"attributes\":{},\"id\":\"227e9de5-f7d8-4a9c-8eb8-d089890d4d95\",\"type\":\"LinearScale\"},{\"attributes\":{},\"id\":\"c6511644-83bf-497e-9c9f-9f06a4a8b1ad\",\"type\":\"ResetTool\"},{\"attributes\":{},\"id\":\"b7e41fc0-bf35-47aa-8c66-1e050702a2cb\",\"type\":\"BasicTickFormatter\"},{\"attributes\":{},\"id\":\"ec77ab58-15dd-4243-a00c-d582ed6bbc09\",\"type\":\"HelpTool\"},{\"attributes\":{\"formatter\":{\"id\":\"b7e41fc0-bf35-47aa-8c66-1e050702a2cb\",\"type\":\"BasicTickFormatter\"},\"plot\":{\"id\":\"eb40a242-6118-496c-b52f-8661440b04b2\",\"subtype\":\"Figure\",\"type\":\"Plot\"},\"ticker\":{\"id\":\"de91f011-ee38-494e-af18-002b2cbd3e68\",\"type\":\"BasicTicker\"}},\"id\":\"71eb2fd6-f9d5-43b2-be43-050f8c59075f\",\"type\":\"LinearAxis\"},{\"attributes\":{},\"id\":\"de91f011-ee38-494e-af18-002b2cbd3e68\",\"type\":\"BasicTicker\"}],\"root_ids\":[\"eb40a242-6118-496c-b52f-8661440b04b2\"]},\"title\":\"Bokeh Application\",\"version\":\"0.12.10\"}};\n",
       "    var render_items = [{\"docid\":\"aad6105e-3dc5-4761-8a69-521e1723fe44\",\"elementid\":\"610a3cb5-6b84-4146-a368-fc7c605aad08\",\"modelid\":\"eb40a242-6118-496c-b52f-8661440b04b2\",\"notebook_comms_target\":\"c5155442-bdbd-4f25-8fcd-ab77f2a3051e\"}];\n",
       "\n",
       "    root.Bokeh.embed.embed_items(docs_json, render_items);\n",
       "  }\n",
       "\n",
       "  if (root.Bokeh !== undefined) {\n",
       "    embed_document(root);\n",
       "  } else {\n",
       "    var attempts = 0;\n",
       "    var timer = setInterval(function(root) {\n",
       "      if (root.Bokeh !== undefined) {\n",
       "        embed_document(root);\n",
       "        clearInterval(timer);\n",
       "      }\n",
       "      attempts++;\n",
       "      if (attempts > 100) {\n",
       "        console.log(\"Bokeh: ERROR: Unable to embed document because BokehJS library is missing\")\n",
       "        clearInterval(timer);\n",
       "      }\n",
       "    }, 10, root)\n",
       "  }\n",
       "})(window);"
      ],
      "application/vnd.bokehjs_exec.v0+json": ""
     },
     "metadata": {
      "application/vnd.bokehjs_exec.v0+json": {
       "id": "eb40a242-6118-496c-b52f-8661440b04b2"
      }
     },
     "output_type": "display_data"
    },
    {
     "data": {
      "text/html": [
       "<p><code>&lt;Bokeh Notebook handle for <strong>In[1]</strong>&gt;</code></p>"
      ],
      "text/plain": [
       "<bokeh.io.notebook.CommsHandle at 0x1079edef0>"
      ]
     },
     "execution_count": 1,
     "metadata": {},
     "output_type": "execute_result"
    }
   ],
   "source": [
    "from bokeh.plotting import figure\n",
    "from bokeh.io import output_notebook, show, push_notebook\n",
    "\n",
    "\n",
    "output_notebook()\n",
    "p = figure(plot_width=200, plot_height=200)\n",
    "\n",
    "#図を作成　動的に変更\n",
    "show(p, notebook_handle=True)"
   ]
  },
  {
   "cell_type": "code",
   "execution_count": 2,
   "metadata": {},
   "outputs": [],
   "source": [
    "# タイトルを変更\n",
    "p.title.text = 'title'\n",
    "push_notebook()"
   ]
  },
  {
   "cell_type": "code",
   "execution_count": 3,
   "metadata": {},
   "outputs": [
    {
     "name": "stderr",
     "output_type": "stream",
     "text": [
      "W-1001 (NO_DATA_RENDERERS): Plot has no data renderers: Figure(id='eb40a242-6118-496c-b52f-8661440b04b2', ...)\n"
     ]
    },
    {
     "data": {
      "text/html": [
       "\n",
       "<div class=\"bk-root\">\n",
       "    <div class=\"bk-plotdiv\" id=\"b82d4156-822d-4f46-9db0-7b59d3f3b73c\"></div>\n",
       "</div>"
      ]
     },
     "metadata": {},
     "output_type": "display_data"
    },
    {
     "data": {
      "application/javascript": [
       "(function(root) {\n",
       "  function embed_document(root) {\n",
       "    var docs_json = {\"2cb007f5-73b1-48d4-8edf-316b3c3b59ab\":{\"roots\":{\"references\":[{\"attributes\":{\"plot\":{\"id\":\"eb40a242-6118-496c-b52f-8661440b04b2\",\"subtype\":\"Figure\",\"type\":\"Plot\"},\"ticker\":{\"id\":\"de91f011-ee38-494e-af18-002b2cbd3e68\",\"type\":\"BasicTicker\"}},\"id\":\"5c25bdff-2f5f-4ebe-8fae-b19336aeb452\",\"type\":\"Grid\"},{\"attributes\":{\"callback\":null},\"id\":\"cd7e8568-97e6-4f54-8ae9-de5dd73ca15f\",\"type\":\"DataRange1d\"},{\"attributes\":{\"formatter\":{\"id\":\"efab6db2-c029-4254-91c1-696a5464434d\",\"type\":\"BasicTickFormatter\"},\"plot\":{\"id\":\"eb40a242-6118-496c-b52f-8661440b04b2\",\"subtype\":\"Figure\",\"type\":\"Plot\"},\"ticker\":{\"id\":\"dbe6fc3c-82a5-4721-8096-ea54d3ff11b6\",\"type\":\"BasicTicker\"}},\"id\":\"683eb14a-efed-4e1f-af30-94c30c5b51da\",\"type\":\"LinearAxis\"},{\"attributes\":{},\"id\":\"dbe6fc3c-82a5-4721-8096-ea54d3ff11b6\",\"type\":\"BasicTicker\"},{\"attributes\":{\"dimension\":1,\"plot\":{\"id\":\"eb40a242-6118-496c-b52f-8661440b04b2\",\"subtype\":\"Figure\",\"type\":\"Plot\"},\"ticker\":{\"id\":\"dbe6fc3c-82a5-4721-8096-ea54d3ff11b6\",\"type\":\"BasicTicker\"}},\"id\":\"96d778b5-5d93-49e9-ac6b-f2816421cdde\",\"type\":\"Grid\"},{\"attributes\":{\"bottom_units\":\"screen\",\"fill_alpha\":{\"value\":0.5},\"fill_color\":{\"value\":\"lightgrey\"},\"left_units\":\"screen\",\"level\":\"overlay\",\"line_alpha\":{\"value\":1.0},\"line_color\":{\"value\":\"black\"},\"line_dash\":[4,4],\"line_width\":{\"value\":2},\"plot\":null,\"render_mode\":\"css\",\"right_units\":\"screen\",\"top_units\":\"screen\"},\"id\":\"5c12f534-c432-4b90-868e-f7ad8e6bea5a\",\"type\":\"BoxAnnotation\"},{\"attributes\":{},\"id\":\"29042af7-4f6a-4b2c-8e2f-ecf689996d1f\",\"type\":\"LinearScale\"},{\"attributes\":{\"plot\":null,\"text\":\"title\"},\"id\":\"cd4dfec1-78de-446f-b19e-9a0c61a804ab\",\"type\":\"Title\"},{\"attributes\":{},\"id\":\"74587c83-4e51-40c1-8a61-65d7d32fed89\",\"type\":\"PanTool\"},{\"attributes\":{},\"id\":\"efab6db2-c029-4254-91c1-696a5464434d\",\"type\":\"BasicTickFormatter\"},{\"attributes\":{\"active_drag\":\"auto\",\"active_inspect\":\"auto\",\"active_scroll\":\"auto\",\"active_tap\":\"auto\",\"tools\":[{\"id\":\"74587c83-4e51-40c1-8a61-65d7d32fed89\",\"type\":\"PanTool\"},{\"id\":\"833c83a0-e9bf-4da0-8cb1-5a009c2218e1\",\"type\":\"WheelZoomTool\"},{\"id\":\"e8e71255-ce91-489c-bfda-ec58ba6e1f3d\",\"type\":\"BoxZoomTool\"},{\"id\":\"a16af4db-b991-4418-96a7-0dda11100378\",\"type\":\"SaveTool\"},{\"id\":\"c6511644-83bf-497e-9c9f-9f06a4a8b1ad\",\"type\":\"ResetTool\"},{\"id\":\"ec77ab58-15dd-4243-a00c-d582ed6bbc09\",\"type\":\"HelpTool\"}]},\"id\":\"56e422a6-9887-47d5-83fd-bf2576339102\",\"type\":\"Toolbar\"},{\"attributes\":{},\"id\":\"833c83a0-e9bf-4da0-8cb1-5a009c2218e1\",\"type\":\"WheelZoomTool\"},{\"attributes\":{\"overlay\":{\"id\":\"5c12f534-c432-4b90-868e-f7ad8e6bea5a\",\"type\":\"BoxAnnotation\"}},\"id\":\"e8e71255-ce91-489c-bfda-ec58ba6e1f3d\",\"type\":\"BoxZoomTool\"},{\"attributes\":{\"callback\":null},\"id\":\"de00afa2-c57c-41fb-b4f2-b74556d58008\",\"type\":\"DataRange1d\"},{\"attributes\":{},\"id\":\"a16af4db-b991-4418-96a7-0dda11100378\",\"type\":\"SaveTool\"},{\"attributes\":{\"below\":[{\"id\":\"71eb2fd6-f9d5-43b2-be43-050f8c59075f\",\"type\":\"LinearAxis\"}],\"left\":[{\"id\":\"683eb14a-efed-4e1f-af30-94c30c5b51da\",\"type\":\"LinearAxis\"}],\"plot_height\":200,\"plot_width\":200,\"renderers\":[{\"id\":\"71eb2fd6-f9d5-43b2-be43-050f8c59075f\",\"type\":\"LinearAxis\"},{\"id\":\"5c25bdff-2f5f-4ebe-8fae-b19336aeb452\",\"type\":\"Grid\"},{\"id\":\"683eb14a-efed-4e1f-af30-94c30c5b51da\",\"type\":\"LinearAxis\"},{\"id\":\"96d778b5-5d93-49e9-ac6b-f2816421cdde\",\"type\":\"Grid\"},{\"id\":\"5c12f534-c432-4b90-868e-f7ad8e6bea5a\",\"type\":\"BoxAnnotation\"}],\"title\":{\"id\":\"cd4dfec1-78de-446f-b19e-9a0c61a804ab\",\"type\":\"Title\"},\"toolbar\":{\"id\":\"56e422a6-9887-47d5-83fd-bf2576339102\",\"type\":\"Toolbar\"},\"x_range\":{\"id\":\"cd7e8568-97e6-4f54-8ae9-de5dd73ca15f\",\"type\":\"DataRange1d\"},\"x_scale\":{\"id\":\"227e9de5-f7d8-4a9c-8eb8-d089890d4d95\",\"type\":\"LinearScale\"},\"y_range\":{\"id\":\"de00afa2-c57c-41fb-b4f2-b74556d58008\",\"type\":\"DataRange1d\"},\"y_scale\":{\"id\":\"29042af7-4f6a-4b2c-8e2f-ecf689996d1f\",\"type\":\"LinearScale\"}},\"id\":\"eb40a242-6118-496c-b52f-8661440b04b2\",\"subtype\":\"Figure\",\"type\":\"Plot\"},{\"attributes\":{},\"id\":\"227e9de5-f7d8-4a9c-8eb8-d089890d4d95\",\"type\":\"LinearScale\"},{\"attributes\":{},\"id\":\"c6511644-83bf-497e-9c9f-9f06a4a8b1ad\",\"type\":\"ResetTool\"},{\"attributes\":{},\"id\":\"b7e41fc0-bf35-47aa-8c66-1e050702a2cb\",\"type\":\"BasicTickFormatter\"},{\"attributes\":{},\"id\":\"ec77ab58-15dd-4243-a00c-d582ed6bbc09\",\"type\":\"HelpTool\"},{\"attributes\":{\"formatter\":{\"id\":\"b7e41fc0-bf35-47aa-8c66-1e050702a2cb\",\"type\":\"BasicTickFormatter\"},\"plot\":{\"id\":\"eb40a242-6118-496c-b52f-8661440b04b2\",\"subtype\":\"Figure\",\"type\":\"Plot\"},\"ticker\":{\"id\":\"de91f011-ee38-494e-af18-002b2cbd3e68\",\"type\":\"BasicTicker\"}},\"id\":\"71eb2fd6-f9d5-43b2-be43-050f8c59075f\",\"type\":\"LinearAxis\"},{\"attributes\":{},\"id\":\"de91f011-ee38-494e-af18-002b2cbd3e68\",\"type\":\"BasicTicker\"}],\"root_ids\":[\"eb40a242-6118-496c-b52f-8661440b04b2\"]},\"title\":\"Bokeh Application\",\"version\":\"0.12.10\"}};\n",
       "    var render_items = [{\"docid\":\"2cb007f5-73b1-48d4-8edf-316b3c3b59ab\",\"elementid\":\"b82d4156-822d-4f46-9db0-7b59d3f3b73c\",\"modelid\":\"eb40a242-6118-496c-b52f-8661440b04b2\",\"notebook_comms_target\":\"679ea168-d06f-41a1-83c7-58f0d9db86d3\"}];\n",
       "\n",
       "    root.Bokeh.embed.embed_items(docs_json, render_items);\n",
       "  }\n",
       "\n",
       "  if (root.Bokeh !== undefined) {\n",
       "    embed_document(root);\n",
       "  } else {\n",
       "    var attempts = 0;\n",
       "    var timer = setInterval(function(root) {\n",
       "      if (root.Bokeh !== undefined) {\n",
       "        embed_document(root);\n",
       "        clearInterval(timer);\n",
       "      }\n",
       "      attempts++;\n",
       "      if (attempts > 100) {\n",
       "        console.log(\"Bokeh: ERROR: Unable to embed document because BokehJS library is missing\")\n",
       "        clearInterval(timer);\n",
       "      }\n",
       "    }, 10, root)\n",
       "  }\n",
       "})(window);"
      ],
      "application/vnd.bokehjs_exec.v0+json": ""
     },
     "metadata": {
      "application/vnd.bokehjs_exec.v0+json": {
       "id": "eb40a242-6118-496c-b52f-8661440b04b2"
      }
     },
     "output_type": "display_data"
    },
    {
     "ename": "ValueError",
     "evalue": "PATCH-DOC message requires at least one event",
     "output_type": "error",
     "traceback": [
      "\u001b[0;31m---------------------------------------------------------------------------\u001b[0m",
      "\u001b[0;31mValueError\u001b[0m                                Traceback (most recent call last)",
      "\u001b[0;32m<ipython-input-3-c13e796eb345>\u001b[0m in \u001b[0;36m<module>\u001b[0;34m()\u001b[0m\n\u001b[1;32m      1\u001b[0m \u001b[0mt\u001b[0m \u001b[0;34m=\u001b[0m \u001b[0mshow\u001b[0m\u001b[0;34m(\u001b[0m\u001b[0mp\u001b[0m\u001b[0;34m,\u001b[0m \u001b[0mnotebook_handle\u001b[0m\u001b[0;34m=\u001b[0m\u001b[0;32mTrue\u001b[0m\u001b[0;34m)\u001b[0m\u001b[0;34m\u001b[0m\u001b[0m\n\u001b[0;32m----> 2\u001b[0;31m \u001b[0mpush_notebook\u001b[0m\u001b[0;34m(\u001b[0m\u001b[0mhandle\u001b[0m\u001b[0;34m=\u001b[0m\u001b[0mt\u001b[0m\u001b[0;34m)\u001b[0m\u001b[0;34m\u001b[0m\u001b[0m\n\u001b[0m",
      "\u001b[0;32m~/jupyter_notebook/env/lib/python3.6/site-packages/bokeh/util/api.py\u001b[0m in \u001b[0;36mwrapper\u001b[0;34m(*args, **kw)\u001b[0m\n\u001b[1;32m    188\u001b[0m         \u001b[0;34m@\u001b[0m\u001b[0mwraps\u001b[0m\u001b[0;34m(\u001b[0m\u001b[0mobj\u001b[0m\u001b[0;34m)\u001b[0m\u001b[0;34m\u001b[0m\u001b[0m\n\u001b[1;32m    189\u001b[0m         \u001b[0;32mdef\u001b[0m \u001b[0mwrapper\u001b[0m\u001b[0;34m(\u001b[0m\u001b[0;34m*\u001b[0m\u001b[0margs\u001b[0m\u001b[0;34m,\u001b[0m \u001b[0;34m**\u001b[0m\u001b[0mkw\u001b[0m\u001b[0;34m)\u001b[0m\u001b[0;34m:\u001b[0m\u001b[0;34m\u001b[0m\u001b[0m\n\u001b[0;32m--> 190\u001b[0;31m             \u001b[0;32mreturn\u001b[0m \u001b[0mobj\u001b[0m\u001b[0;34m(\u001b[0m\u001b[0;34m*\u001b[0m\u001b[0margs\u001b[0m\u001b[0;34m,\u001b[0m \u001b[0;34m**\u001b[0m\u001b[0mkw\u001b[0m\u001b[0;34m)\u001b[0m\u001b[0;34m\u001b[0m\u001b[0m\n\u001b[0m\u001b[1;32m    191\u001b[0m \u001b[0;34m\u001b[0m\u001b[0m\n\u001b[1;32m    192\u001b[0m         \u001b[0mwrapper\u001b[0m\u001b[0;34m.\u001b[0m\u001b[0m__bkversion__\u001b[0m \u001b[0;34m=\u001b[0m \u001b[0mversion\u001b[0m\u001b[0;34m\u001b[0m\u001b[0m\n",
      "\u001b[0;32m~/jupyter_notebook/env/lib/python3.6/site-packages/bokeh/io/notebook.py\u001b[0m in \u001b[0;36mpush_notebook\u001b[0;34m(document, state, handle)\u001b[0m\n\u001b[1;32m    252\u001b[0m     \u001b[0mevents\u001b[0m \u001b[0;34m=\u001b[0m \u001b[0mlist\u001b[0m\u001b[0;34m(\u001b[0m\u001b[0mhandle\u001b[0m\u001b[0;34m.\u001b[0m\u001b[0mdoc\u001b[0m\u001b[0;34m.\u001b[0m\u001b[0m_held_events\u001b[0m\u001b[0;34m)\u001b[0m\u001b[0;34m\u001b[0m\u001b[0m\n\u001b[1;32m    253\u001b[0m     \u001b[0mhandle\u001b[0m\u001b[0;34m.\u001b[0m\u001b[0mdoc\u001b[0m\u001b[0;34m.\u001b[0m\u001b[0m_held_events\u001b[0m \u001b[0;34m=\u001b[0m \u001b[0;34m[\u001b[0m\u001b[0;34m]\u001b[0m\u001b[0;34m\u001b[0m\u001b[0m\n\u001b[0;32m--> 254\u001b[0;31m     \u001b[0mmsg\u001b[0m \u001b[0;34m=\u001b[0m \u001b[0mProtocol\u001b[0m\u001b[0;34m(\u001b[0m\u001b[0;34m\"1.0\"\u001b[0m\u001b[0;34m)\u001b[0m\u001b[0;34m.\u001b[0m\u001b[0mcreate\u001b[0m\u001b[0;34m(\u001b[0m\u001b[0;34m\"PATCH-DOC\"\u001b[0m\u001b[0;34m,\u001b[0m \u001b[0mevents\u001b[0m\u001b[0;34m)\u001b[0m\u001b[0;34m\u001b[0m\u001b[0m\n\u001b[0m\u001b[1;32m    255\u001b[0m \u001b[0;34m\u001b[0m\u001b[0m\n\u001b[1;32m    256\u001b[0m     \u001b[0mhandle\u001b[0m\u001b[0;34m.\u001b[0m\u001b[0mcomms\u001b[0m\u001b[0;34m.\u001b[0m\u001b[0msend\u001b[0m\u001b[0;34m(\u001b[0m\u001b[0mmsg\u001b[0m\u001b[0;34m.\u001b[0m\u001b[0mheader_json\u001b[0m\u001b[0;34m)\u001b[0m\u001b[0;34m\u001b[0m\u001b[0m\n",
      "\u001b[0;32m~/jupyter_notebook/env/lib/python3.6/site-packages/bokeh/protocol/__init__.py\u001b[0m in \u001b[0;36mcreate\u001b[0;34m(self, msgtype, *args, **kwargs)\u001b[0m\n\u001b[1;32m     44\u001b[0m         \u001b[0;32mif\u001b[0m \u001b[0mmsgtype\u001b[0m \u001b[0;32mnot\u001b[0m \u001b[0;32min\u001b[0m \u001b[0mself\u001b[0m\u001b[0;34m.\u001b[0m\u001b[0m_messages\u001b[0m\u001b[0;34m:\u001b[0m\u001b[0;34m\u001b[0m\u001b[0m\n\u001b[1;32m     45\u001b[0m             \u001b[0;32mraise\u001b[0m \u001b[0mProtocolError\u001b[0m\u001b[0;34m(\u001b[0m\u001b[0;34m\"Unknown message type %r for protocol version %s\"\u001b[0m \u001b[0;34m%\u001b[0m \u001b[0;34m(\u001b[0m\u001b[0mmsgtype\u001b[0m\u001b[0;34m,\u001b[0m \u001b[0mself\u001b[0m\u001b[0;34m.\u001b[0m\u001b[0m_version\u001b[0m\u001b[0;34m)\u001b[0m\u001b[0;34m)\u001b[0m\u001b[0;34m\u001b[0m\u001b[0m\n\u001b[0;32m---> 46\u001b[0;31m         \u001b[0;32mreturn\u001b[0m \u001b[0mself\u001b[0m\u001b[0;34m.\u001b[0m\u001b[0m_messages\u001b[0m\u001b[0;34m[\u001b[0m\u001b[0mmsgtype\u001b[0m\u001b[0;34m]\u001b[0m\u001b[0;34m.\u001b[0m\u001b[0mcreate\u001b[0m\u001b[0;34m(\u001b[0m\u001b[0;34m*\u001b[0m\u001b[0margs\u001b[0m\u001b[0;34m,\u001b[0m \u001b[0;34m**\u001b[0m\u001b[0mkwargs\u001b[0m\u001b[0;34m)\u001b[0m\u001b[0;34m\u001b[0m\u001b[0m\n\u001b[0m\u001b[1;32m     47\u001b[0m \u001b[0;34m\u001b[0m\u001b[0m\n\u001b[1;32m     48\u001b[0m     \u001b[0;32mdef\u001b[0m \u001b[0massemble\u001b[0m\u001b[0;34m(\u001b[0m\u001b[0mself\u001b[0m\u001b[0;34m,\u001b[0m \u001b[0mheader_json\u001b[0m\u001b[0;34m,\u001b[0m \u001b[0mmetadata_json\u001b[0m\u001b[0;34m,\u001b[0m \u001b[0mcontent_json\u001b[0m\u001b[0;34m)\u001b[0m\u001b[0;34m:\u001b[0m\u001b[0;34m\u001b[0m\u001b[0m\n",
      "\u001b[0;32m~/jupyter_notebook/env/lib/python3.6/site-packages/bokeh/protocol/messages/patch_doc.py\u001b[0m in \u001b[0;36mcreate\u001b[0;34m(cls, events, use_buffers, **metadata)\u001b[0m\n\u001b[1;32m     45\u001b[0m \u001b[0;34m\u001b[0m\u001b[0m\n\u001b[1;32m     46\u001b[0m         \u001b[0;32mif\u001b[0m \u001b[0;32mnot\u001b[0m \u001b[0mevents\u001b[0m\u001b[0;34m:\u001b[0m\u001b[0;34m\u001b[0m\u001b[0m\n\u001b[0;32m---> 47\u001b[0;31m             \u001b[0;32mraise\u001b[0m \u001b[0mValueError\u001b[0m\u001b[0;34m(\u001b[0m\u001b[0;34m\"PATCH-DOC message requires at least one event\"\u001b[0m\u001b[0;34m)\u001b[0m\u001b[0;34m\u001b[0m\u001b[0m\n\u001b[0m\u001b[1;32m     48\u001b[0m \u001b[0;34m\u001b[0m\u001b[0m\n\u001b[1;32m     49\u001b[0m         \u001b[0mdocs\u001b[0m \u001b[0;34m=\u001b[0m \u001b[0;34m{\u001b[0m \u001b[0mevent\u001b[0m\u001b[0;34m.\u001b[0m\u001b[0mdocument\u001b[0m \u001b[0;32mfor\u001b[0m \u001b[0mevent\u001b[0m \u001b[0;32min\u001b[0m \u001b[0mevents\u001b[0m \u001b[0;34m}\u001b[0m\u001b[0;34m\u001b[0m\u001b[0m\n",
      "\u001b[0;31mValueError\u001b[0m: PATCH-DOC message requires at least one event"
     ]
    }
   ],
   "source": [
    "t = show(p, notebook_handle=True)\n",
    "push_notebook(handle=t)"
   ]
  },
  {
   "cell_type": "code",
   "execution_count": 4,
   "metadata": {},
   "outputs": [
    {
     "data": {
      "text/html": [
       "\n",
       "<div class=\"bk-root\">\n",
       "    <div class=\"bk-plotdiv\" id=\"6bcbf851-e099-4320-8508-6fe32726317b\"></div>\n",
       "</div>"
      ]
     },
     "metadata": {},
     "output_type": "display_data"
    },
    {
     "data": {
      "application/javascript": [
       "(function(root) {\n",
       "  function embed_document(root) {\n",
       "    var docs_json = {\"6f3bc597-3b13-449a-9ca9-9cb131944659\":{\"roots\":{\"references\":[{\"attributes\":{\"bottom_units\":\"screen\",\"fill_alpha\":{\"value\":0.5},\"fill_color\":{\"value\":\"lightgrey\"},\"left_units\":\"screen\",\"level\":\"overlay\",\"line_alpha\":{\"value\":1.0},\"line_color\":{\"value\":\"black\"},\"line_dash\":[4,4],\"line_width\":{\"value\":2},\"plot\":null,\"render_mode\":\"css\",\"right_units\":\"screen\",\"top_units\":\"screen\"},\"id\":\"c2beffdf-f122-48b9-b398-b31bc66c49e7\",\"type\":\"BoxAnnotation\"},{\"attributes\":{},\"id\":\"99d269f5-9c7a-4ab5-a823-ae8513c92097\",\"type\":\"PanTool\"},{\"attributes\":{\"fill_color\":{\"value\":\"#1f77b4\"},\"line_color\":{\"value\":\"#1f77b4\"},\"size\":{\"units\":\"screen\",\"value\":20},\"x\":{\"value\":1},\"y\":{\"value\":1}},\"id\":\"2dfcae15-a33c-4938-9957-30428798c400\",\"type\":\"Circle\"},{\"attributes\":{\"below\":[{\"id\":\"c8435120-bbc9-455a-b895-15522efdaaee\",\"type\":\"LinearAxis\"}],\"left\":[{\"id\":\"7232ec7b-1543-44da-8175-5b6cb5082c53\",\"type\":\"LinearAxis\"}],\"plot_height\":200,\"plot_width\":200,\"renderers\":[{\"id\":\"c8435120-bbc9-455a-b895-15522efdaaee\",\"type\":\"LinearAxis\"},{\"id\":\"bcedf794-f090-4ac1-aa4b-0fdd1cb6299b\",\"type\":\"Grid\"},{\"id\":\"7232ec7b-1543-44da-8175-5b6cb5082c53\",\"type\":\"LinearAxis\"},{\"id\":\"72f2d5dd-adde-42c6-87e5-854e6f85b8bd\",\"type\":\"Grid\"},{\"id\":\"c2beffdf-f122-48b9-b398-b31bc66c49e7\",\"type\":\"BoxAnnotation\"},{\"id\":\"531108fc-1c09-4694-959f-269198441217\",\"type\":\"GlyphRenderer\"}],\"title\":{\"id\":\"464139ab-19ad-41a2-86a2-7d43857ee6bb\",\"type\":\"Title\"},\"toolbar\":{\"id\":\"7611d051-8d4b-4fff-83a7-694c06e1d0e6\",\"type\":\"Toolbar\"},\"x_range\":{\"id\":\"f5f5f6d6-5d11-4edf-8811-cd1ba917bcc5\",\"type\":\"DataRange1d\"},\"x_scale\":{\"id\":\"969c133f-6ec2-4140-b57f-fc20c00aef27\",\"type\":\"LinearScale\"},\"y_range\":{\"id\":\"a7fe4bc5-44a8-4587-87d5-fb3eeaa77129\",\"type\":\"DataRange1d\"},\"y_scale\":{\"id\":\"9b3a2dd7-4906-4410-adec-a2f68b98e5fa\",\"type\":\"LinearScale\"}},\"id\":\"b7ac9d0d-49b5-4785-be10-50b0cb5aae82\",\"subtype\":\"Figure\",\"type\":\"Plot\"},{\"attributes\":{},\"id\":\"7bbe6a45-a659-427c-a758-2159a625b6aa\",\"type\":\"WheelZoomTool\"},{\"attributes\":{\"callback\":null,\"data\":{}},\"id\":\"f89224ef-bb77-4343-a404-e42ef4fe2711\",\"type\":\"ColumnDataSource\"},{\"attributes\":{},\"id\":\"969c133f-6ec2-4140-b57f-fc20c00aef27\",\"type\":\"LinearScale\"},{\"attributes\":{\"overlay\":{\"id\":\"c2beffdf-f122-48b9-b398-b31bc66c49e7\",\"type\":\"BoxAnnotation\"}},\"id\":\"02d61682-0d5e-468d-8daa-aff5b14042ea\",\"type\":\"BoxZoomTool\"},{\"attributes\":{},\"id\":\"a7472f2f-8f99-41c1-8396-24ef51ed1400\",\"type\":\"BasicTickFormatter\"},{\"attributes\":{\"source\":{\"id\":\"f89224ef-bb77-4343-a404-e42ef4fe2711\",\"type\":\"ColumnDataSource\"}},\"id\":\"d6b9005e-7367-45e2-8ed9-09d87fb6d49a\",\"type\":\"CDSView\"},{\"attributes\":{\"active_drag\":\"auto\",\"active_inspect\":\"auto\",\"active_scroll\":\"auto\",\"active_tap\":\"auto\",\"tools\":[{\"id\":\"99d269f5-9c7a-4ab5-a823-ae8513c92097\",\"type\":\"PanTool\"},{\"id\":\"7bbe6a45-a659-427c-a758-2159a625b6aa\",\"type\":\"WheelZoomTool\"},{\"id\":\"02d61682-0d5e-468d-8daa-aff5b14042ea\",\"type\":\"BoxZoomTool\"},{\"id\":\"9a7bf80f-df81-43b9-b317-850dbb0e732d\",\"type\":\"SaveTool\"},{\"id\":\"3014b1da-8f18-49c6-ba5e-8c3b952af901\",\"type\":\"ResetTool\"},{\"id\":\"ee5bb0cd-c425-4906-a51a-f4a9b28cfe89\",\"type\":\"HelpTool\"}]},\"id\":\"7611d051-8d4b-4fff-83a7-694c06e1d0e6\",\"type\":\"Toolbar\"},{\"attributes\":{},\"id\":\"9a7bf80f-df81-43b9-b317-850dbb0e732d\",\"type\":\"SaveTool\"},{\"attributes\":{},\"id\":\"3014b1da-8f18-49c6-ba5e-8c3b952af901\",\"type\":\"ResetTool\"},{\"attributes\":{\"callback\":null},\"id\":\"f5f5f6d6-5d11-4edf-8811-cd1ba917bcc5\",\"type\":\"DataRange1d\"},{\"attributes\":{},\"id\":\"ee5bb0cd-c425-4906-a51a-f4a9b28cfe89\",\"type\":\"HelpTool\"},{\"attributes\":{\"dimension\":1,\"plot\":{\"id\":\"b7ac9d0d-49b5-4785-be10-50b0cb5aae82\",\"subtype\":\"Figure\",\"type\":\"Plot\"},\"ticker\":{\"id\":\"e8abec3c-b979-48a5-9386-782fc16c17b1\",\"type\":\"BasicTicker\"}},\"id\":\"72f2d5dd-adde-42c6-87e5-854e6f85b8bd\",\"type\":\"Grid\"},{\"attributes\":{\"plot\":null,\"text\":\"\"},\"id\":\"464139ab-19ad-41a2-86a2-7d43857ee6bb\",\"type\":\"Title\"},{\"attributes\":{},\"id\":\"e8abec3c-b979-48a5-9386-782fc16c17b1\",\"type\":\"BasicTicker\"},{\"attributes\":{},\"id\":\"9b3a2dd7-4906-4410-adec-a2f68b98e5fa\",\"type\":\"LinearScale\"},{\"attributes\":{\"plot\":{\"id\":\"b7ac9d0d-49b5-4785-be10-50b0cb5aae82\",\"subtype\":\"Figure\",\"type\":\"Plot\"},\"ticker\":{\"id\":\"760c80b4-9dd4-4d60-bb59-33d73186af32\",\"type\":\"BasicTicker\"}},\"id\":\"bcedf794-f090-4ac1-aa4b-0fdd1cb6299b\",\"type\":\"Grid\"},{\"attributes\":{\"data_source\":{\"id\":\"f89224ef-bb77-4343-a404-e42ef4fe2711\",\"type\":\"ColumnDataSource\"},\"glyph\":{\"id\":\"2dfcae15-a33c-4938-9957-30428798c400\",\"type\":\"Circle\"},\"hover_glyph\":null,\"muted_glyph\":null,\"nonselection_glyph\":{\"id\":\"a1b51adc-ee96-46a8-ad03-2c92779effb3\",\"type\":\"Circle\"},\"selection_glyph\":null,\"view\":{\"id\":\"d6b9005e-7367-45e2-8ed9-09d87fb6d49a\",\"type\":\"CDSView\"}},\"id\":\"531108fc-1c09-4694-959f-269198441217\",\"type\":\"GlyphRenderer\"},{\"attributes\":{\"callback\":null},\"id\":\"a7fe4bc5-44a8-4587-87d5-fb3eeaa77129\",\"type\":\"DataRange1d\"},{\"attributes\":{\"formatter\":{\"id\":\"a7472f2f-8f99-41c1-8396-24ef51ed1400\",\"type\":\"BasicTickFormatter\"},\"plot\":{\"id\":\"b7ac9d0d-49b5-4785-be10-50b0cb5aae82\",\"subtype\":\"Figure\",\"type\":\"Plot\"},\"ticker\":{\"id\":\"760c80b4-9dd4-4d60-bb59-33d73186af32\",\"type\":\"BasicTicker\"}},\"id\":\"c8435120-bbc9-455a-b895-15522efdaaee\",\"type\":\"LinearAxis\"},{\"attributes\":{},\"id\":\"760c80b4-9dd4-4d60-bb59-33d73186af32\",\"type\":\"BasicTicker\"},{\"attributes\":{\"fill_alpha\":{\"value\":0.1},\"fill_color\":{\"value\":\"#1f77b4\"},\"line_alpha\":{\"value\":0.1},\"line_color\":{\"value\":\"#1f77b4\"},\"size\":{\"units\":\"screen\",\"value\":20},\"x\":{\"value\":1},\"y\":{\"value\":1}},\"id\":\"a1b51adc-ee96-46a8-ad03-2c92779effb3\",\"type\":\"Circle\"},{\"attributes\":{},\"id\":\"cb3123a2-80f4-480d-8cb3-0b4a6db910d9\",\"type\":\"BasicTickFormatter\"},{\"attributes\":{\"formatter\":{\"id\":\"cb3123a2-80f4-480d-8cb3-0b4a6db910d9\",\"type\":\"BasicTickFormatter\"},\"plot\":{\"id\":\"b7ac9d0d-49b5-4785-be10-50b0cb5aae82\",\"subtype\":\"Figure\",\"type\":\"Plot\"},\"ticker\":{\"id\":\"e8abec3c-b979-48a5-9386-782fc16c17b1\",\"type\":\"BasicTicker\"}},\"id\":\"7232ec7b-1543-44da-8175-5b6cb5082c53\",\"type\":\"LinearAxis\"}],\"root_ids\":[\"b7ac9d0d-49b5-4785-be10-50b0cb5aae82\"]},\"title\":\"Bokeh Application\",\"version\":\"0.12.10\"}};\n",
       "    var render_items = [{\"docid\":\"6f3bc597-3b13-449a-9ca9-9cb131944659\",\"elementid\":\"6bcbf851-e099-4320-8508-6fe32726317b\",\"modelid\":\"b7ac9d0d-49b5-4785-be10-50b0cb5aae82\",\"notebook_comms_target\":\"ce4477f3-5bd1-4a79-be40-f1727530386e\"}];\n",
       "\n",
       "    root.Bokeh.embed.embed_items(docs_json, render_items);\n",
       "  }\n",
       "\n",
       "  if (root.Bokeh !== undefined) {\n",
       "    embed_document(root);\n",
       "  } else {\n",
       "    var attempts = 0;\n",
       "    var timer = setInterval(function(root) {\n",
       "      if (root.Bokeh !== undefined) {\n",
       "        embed_document(root);\n",
       "        clearInterval(timer);\n",
       "      }\n",
       "      attempts++;\n",
       "      if (attempts > 100) {\n",
       "        console.log(\"Bokeh: ERROR: Unable to embed document because BokehJS library is missing\")\n",
       "        clearInterval(timer);\n",
       "      }\n",
       "    }, 10, root)\n",
       "  }\n",
       "})(window);"
      ],
      "application/vnd.bokehjs_exec.v0+json": ""
     },
     "metadata": {
      "application/vnd.bokehjs_exec.v0+json": {
       "id": "b7ac9d0d-49b5-4785-be10-50b0cb5aae82"
      }
     },
     "output_type": "display_data"
    }
   ],
   "source": [
    "# Circle\n",
    "p1 = figure(plot_width=200, plot_height=200)\n",
    "r1 = p1.circle(1, 1, size=20)\n",
    "t1 = show(p1, notebook_handle=True)"
   ]
  },
  {
   "cell_type": "code",
   "execution_count": 5,
   "metadata": {},
   "outputs": [],
   "source": [
    "# 図形の塗りつぶし　色の変更\n",
    "r1.glyph.fill_color = 'red'\n",
    "push_notebook(handle=t1)"
   ]
  },
  {
   "cell_type": "code",
   "execution_count": 6,
   "metadata": {},
   "outputs": [
    {
     "data": {
      "text/html": [
       "\n",
       "<div class=\"bk-root\">\n",
       "    <div class=\"bk-plotdiv\" id=\"9e873746-b83d-439f-b8c6-cc793b7575c0\"></div>\n",
       "</div>"
      ]
     },
     "metadata": {},
     "output_type": "display_data"
    },
    {
     "data": {
      "application/javascript": [
       "(function(root) {\n",
       "  function embed_document(root) {\n",
       "    var docs_json = {\"44f5284f-a38d-44b7-82c4-f89aec419d3d\":{\"roots\":{\"references\":[{\"attributes\":{},\"id\":\"2eddc943-7fd3-434e-90bd-c333a274c7c9\",\"type\":\"HelpTool\"},{\"attributes\":{},\"id\":\"65fec40a-c2df-41f2-9914-e28a77b79be8\",\"type\":\"LinearScale\"},{\"attributes\":{},\"id\":\"31e31426-2bfb-489a-be7d-6e30808d2f11\",\"type\":\"LinearScale\"},{\"attributes\":{\"plot\":{\"id\":\"451caf41-0980-4297-ac5b-06786503d907\",\"subtype\":\"Figure\",\"type\":\"Plot\"},\"ticker\":{\"id\":\"8e2d7309-ed05-4aef-8131-36ffe76bae28\",\"type\":\"BasicTicker\"}},\"id\":\"689e4233-700e-4850-9054-eb6a15df0776\",\"type\":\"Grid\"},{\"attributes\":{\"line_alpha\":{\"value\":0.1},\"line_color\":{\"value\":\"#1f77b4\"},\"x\":{\"field\":\"x\"},\"y\":{\"field\":\"y\"}},\"id\":\"b4a455a4-5b46-4ffe-8391-9e57e7e3e2b7\",\"type\":\"Line\"},{\"attributes\":{\"formatter\":{\"id\":\"0480d792-816f-4676-83a5-93d5005be366\",\"type\":\"BasicTickFormatter\"},\"plot\":{\"id\":\"451caf41-0980-4297-ac5b-06786503d907\",\"subtype\":\"Figure\",\"type\":\"Plot\"},\"ticker\":{\"id\":\"8e2d7309-ed05-4aef-8131-36ffe76bae28\",\"type\":\"BasicTicker\"}},\"id\":\"fa0d435a-1ee0-423d-8c66-694458f9f10c\",\"type\":\"LinearAxis\"},{\"attributes\":{},\"id\":\"8e2d7309-ed05-4aef-8131-36ffe76bae28\",\"type\":\"BasicTicker\"},{\"attributes\":{\"formatter\":{\"id\":\"b03be310-aed7-4c80-a8ae-31db05ac709b\",\"type\":\"BasicTickFormatter\"},\"plot\":{\"id\":\"451caf41-0980-4297-ac5b-06786503d907\",\"subtype\":\"Figure\",\"type\":\"Plot\"},\"ticker\":{\"id\":\"117a5704-0dc7-4c04-b4ac-f48b991acd00\",\"type\":\"BasicTicker\"}},\"id\":\"53bfbd6d-36db-4bc9-b4e0-abea330a7403\",\"type\":\"LinearAxis\"},{\"attributes\":{},\"id\":\"117a5704-0dc7-4c04-b4ac-f48b991acd00\",\"type\":\"BasicTicker\"},{\"attributes\":{\"dimension\":1,\"plot\":{\"id\":\"451caf41-0980-4297-ac5b-06786503d907\",\"subtype\":\"Figure\",\"type\":\"Plot\"},\"ticker\":{\"id\":\"117a5704-0dc7-4c04-b4ac-f48b991acd00\",\"type\":\"BasicTicker\"}},\"id\":\"8f60c4c6-15fa-440e-823e-8df20294dace\",\"type\":\"Grid\"},{\"attributes\":{\"line_color\":{\"value\":\"#1f77b4\"},\"x\":{\"field\":\"x\"},\"y\":{\"field\":\"y\"}},\"id\":\"cb4cb32b-caaf-44fb-b1c0-ca56f06439f3\",\"type\":\"Line\"},{\"attributes\":{\"plot\":null,\"text\":\"\"},\"id\":\"17145ff9-0cad-4521-8d1e-b81f5d7df973\",\"type\":\"Title\"},{\"attributes\":{\"source\":{\"id\":\"3bc6c757-acbd-4392-bd03-d669ca94d49a\",\"type\":\"ColumnDataSource\"}},\"id\":\"22c1378d-f16d-4d88-9a56-97bb82b589a2\",\"type\":\"CDSView\"},{\"attributes\":{\"data_source\":{\"id\":\"3bc6c757-acbd-4392-bd03-d669ca94d49a\",\"type\":\"ColumnDataSource\"},\"glyph\":{\"id\":\"cb4cb32b-caaf-44fb-b1c0-ca56f06439f3\",\"type\":\"Line\"},\"hover_glyph\":null,\"muted_glyph\":null,\"nonselection_glyph\":{\"id\":\"b4a455a4-5b46-4ffe-8391-9e57e7e3e2b7\",\"type\":\"Line\"},\"selection_glyph\":null,\"view\":{\"id\":\"22c1378d-f16d-4d88-9a56-97bb82b589a2\",\"type\":\"CDSView\"}},\"id\":\"be43eef3-7bde-42ef-b69a-45d8b3e319ef\",\"type\":\"GlyphRenderer\"},{\"attributes\":{\"active_drag\":\"auto\",\"active_inspect\":\"auto\",\"active_scroll\":\"auto\",\"active_tap\":\"auto\",\"tools\":[{\"id\":\"fe71feab-e626-46ce-b9d5-8c32e984a86c\",\"type\":\"PanTool\"},{\"id\":\"411b430a-cca4-41fe-bc47-c930bfffc39e\",\"type\":\"WheelZoomTool\"},{\"id\":\"655df024-2561-4bdf-b98d-2674c273f490\",\"type\":\"BoxZoomTool\"},{\"id\":\"15b1813f-bd8d-4854-9fb1-235b057315e7\",\"type\":\"SaveTool\"},{\"id\":\"be435eca-26d8-484d-93df-f650f0b44635\",\"type\":\"ResetTool\"},{\"id\":\"2eddc943-7fd3-434e-90bd-c333a274c7c9\",\"type\":\"HelpTool\"}]},\"id\":\"7fd6aed2-f28f-475c-89eb-02f8119af9cd\",\"type\":\"Toolbar\"},{\"attributes\":{\"below\":[{\"id\":\"fa0d435a-1ee0-423d-8c66-694458f9f10c\",\"type\":\"LinearAxis\"}],\"left\":[{\"id\":\"53bfbd6d-36db-4bc9-b4e0-abea330a7403\",\"type\":\"LinearAxis\"}],\"plot_height\":200,\"plot_width\":400,\"renderers\":[{\"id\":\"fa0d435a-1ee0-423d-8c66-694458f9f10c\",\"type\":\"LinearAxis\"},{\"id\":\"689e4233-700e-4850-9054-eb6a15df0776\",\"type\":\"Grid\"},{\"id\":\"53bfbd6d-36db-4bc9-b4e0-abea330a7403\",\"type\":\"LinearAxis\"},{\"id\":\"8f60c4c6-15fa-440e-823e-8df20294dace\",\"type\":\"Grid\"},{\"id\":\"fff1f0e8-877f-48ec-8e77-14abe7756540\",\"type\":\"BoxAnnotation\"},{\"id\":\"be43eef3-7bde-42ef-b69a-45d8b3e319ef\",\"type\":\"GlyphRenderer\"}],\"title\":{\"id\":\"17145ff9-0cad-4521-8d1e-b81f5d7df973\",\"type\":\"Title\"},\"toolbar\":{\"id\":\"7fd6aed2-f28f-475c-89eb-02f8119af9cd\",\"type\":\"Toolbar\"},\"x_range\":{\"id\":\"6db150de-c31e-4d55-9492-6311ebcc449b\",\"type\":\"DataRange1d\"},\"x_scale\":{\"id\":\"65fec40a-c2df-41f2-9914-e28a77b79be8\",\"type\":\"LinearScale\"},\"y_range\":{\"id\":\"2a69ab07-9196-4c71-b2aa-f4b226f9a4f7\",\"type\":\"DataRange1d\"},\"y_scale\":{\"id\":\"31e31426-2bfb-489a-be7d-6e30808d2f11\",\"type\":\"LinearScale\"}},\"id\":\"451caf41-0980-4297-ac5b-06786503d907\",\"subtype\":\"Figure\",\"type\":\"Plot\"},{\"attributes\":{},\"id\":\"fe71feab-e626-46ce-b9d5-8c32e984a86c\",\"type\":\"PanTool\"},{\"attributes\":{},\"id\":\"0480d792-816f-4676-83a5-93d5005be366\",\"type\":\"BasicTickFormatter\"},{\"attributes\":{\"callback\":null,\"column_names\":[\"x\",\"y\"],\"data\":{\"x\":{\"__ndarray__\":\"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\",\"dtype\":\"float64\",\"shape\":[629]},\"y\":{\"__ndarray__\":\"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\",\"dtype\":\"float64\",\"shape\":[629]}}},\"id\":\"3bc6c757-acbd-4392-bd03-d669ca94d49a\",\"type\":\"ColumnDataSource\"},{\"attributes\":{\"bottom_units\":\"screen\",\"fill_alpha\":{\"value\":0.5},\"fill_color\":{\"value\":\"lightgrey\"},\"left_units\":\"screen\",\"level\":\"overlay\",\"line_alpha\":{\"value\":1.0},\"line_color\":{\"value\":\"black\"},\"line_dash\":[4,4],\"line_width\":{\"value\":2},\"plot\":null,\"render_mode\":\"css\",\"right_units\":\"screen\",\"top_units\":\"screen\"},\"id\":\"fff1f0e8-877f-48ec-8e77-14abe7756540\",\"type\":\"BoxAnnotation\"},{\"attributes\":{},\"id\":\"411b430a-cca4-41fe-bc47-c930bfffc39e\",\"type\":\"WheelZoomTool\"},{\"attributes\":{\"overlay\":{\"id\":\"fff1f0e8-877f-48ec-8e77-14abe7756540\",\"type\":\"BoxAnnotation\"}},\"id\":\"655df024-2561-4bdf-b98d-2674c273f490\",\"type\":\"BoxZoomTool\"},{\"attributes\":{},\"id\":\"b03be310-aed7-4c80-a8ae-31db05ac709b\",\"type\":\"BasicTickFormatter\"},{\"attributes\":{},\"id\":\"15b1813f-bd8d-4854-9fb1-235b057315e7\",\"type\":\"SaveTool\"},{\"attributes\":{\"callback\":null},\"id\":\"6db150de-c31e-4d55-9492-6311ebcc449b\",\"type\":\"DataRange1d\"},{\"attributes\":{},\"id\":\"be435eca-26d8-484d-93df-f650f0b44635\",\"type\":\"ResetTool\"},{\"attributes\":{\"callback\":null},\"id\":\"2a69ab07-9196-4c71-b2aa-f4b226f9a4f7\",\"type\":\"DataRange1d\"}],\"root_ids\":[\"451caf41-0980-4297-ac5b-06786503d907\"]},\"title\":\"Bokeh Application\",\"version\":\"0.12.10\"}};\n",
       "    var render_items = [{\"docid\":\"44f5284f-a38d-44b7-82c4-f89aec419d3d\",\"elementid\":\"9e873746-b83d-439f-b8c6-cc793b7575c0\",\"modelid\":\"451caf41-0980-4297-ac5b-06786503d907\",\"notebook_comms_target\":\"f48ae0ed-b80c-4893-82d2-69ea8da7011e\"}];\n",
       "\n",
       "    root.Bokeh.embed.embed_items(docs_json, render_items);\n",
       "  }\n",
       "\n",
       "  if (root.Bokeh !== undefined) {\n",
       "    embed_document(root);\n",
       "  } else {\n",
       "    var attempts = 0;\n",
       "    var timer = setInterval(function(root) {\n",
       "      if (root.Bokeh !== undefined) {\n",
       "        embed_document(root);\n",
       "        clearInterval(timer);\n",
       "      }\n",
       "      attempts++;\n",
       "      if (attempts > 100) {\n",
       "        console.log(\"Bokeh: ERROR: Unable to embed document because BokehJS library is missing\")\n",
       "        clearInterval(timer);\n",
       "      }\n",
       "    }, 10, root)\n",
       "  }\n",
       "})(window);"
      ],
      "application/vnd.bokehjs_exec.v0+json": ""
     },
     "metadata": {
      "application/vnd.bokehjs_exec.v0+json": {
       "id": "451caf41-0980-4297-ac5b-06786503d907"
      }
     },
     "output_type": "display_data"
    }
   ],
   "source": [
    "#正弦波のアニメーション描画\n",
    "from  numpy import arange, sin, pi\n",
    "\n",
    "def calc_sin(i):\n",
    "    return sin(x + i / 10.0)\n",
    "\n",
    "x = arange(0, 2 * pi, 0.01) # X値を作成\n",
    "p2 = figure(plot_width=400, plot_height=200)\n",
    "r2 = p2.line(x, calc_sin(0)) # 初期状態の描画\n",
    "t2 = show(p2, notebook_handle=True)\n",
    "\n",
    "for i in range(1, 200):\n",
    "    # data_sourceについてはColumnDataSourceクラスの解説を参照\n",
    "    r2.data_source.data = {'x':x, 'y': calc_sin(i)}\n",
    "    push_notebook(handle=t2)\n"
   ]
  },
  {
   "cell_type": "code",
   "execution_count": 8,
   "metadata": {},
   "outputs": [
    {
     "data": {
      "text/html": [
       "\n",
       "<div class=\"bk-root\">\n",
       "    <div class=\"bk-plotdiv\" id=\"c4510e22-a65b-4552-a22f-116d58b3506e\"></div>\n",
       "</div>"
      ]
     },
     "metadata": {},
     "output_type": "display_data"
    },
    {
     "data": {
      "application/javascript": [
       "(function(root) {\n",
       "  function embed_document(root) {\n",
       "    var docs_json = {\"97ea4065-7fa3-45c1-a269-2c3b2539ae44\":{\"roots\":{\"references\":[{\"attributes\":{\"callback\":null},\"id\":\"747b1ec8-8100-4f87-883a-4a520ade555d\",\"type\":\"DataRange1d\"},{\"attributes\":{},\"id\":\"b4a12457-30ec-496b-966a-1d5174d83c0d\",\"type\":\"LinearScale\"},{\"attributes\":{\"line_color\":{\"value\":\"red\"},\"x\":{\"field\":\"x\"},\"y\":{\"field\":\"y\"}},\"id\":\"1ba94350-abc9-4834-abc0-6c61c6b3fee3\",\"type\":\"Line\"},{\"attributes\":{},\"id\":\"23644abc-92ea-4014-9649-dd67f8792cf2\",\"type\":\"HelpTool\"},{\"attributes\":{\"base\":24,\"mantissas\":[1,2,4,6,8,12],\"max_interval\":43200000.0,\"min_interval\":3600000.0,\"num_minor_ticks\":0},\"id\":\"5554d542-90e6-4f24-abf6-43206f116411\",\"type\":\"AdaptiveTicker\"},{\"attributes\":{\"plot\":null,\"text\":\"\"},\"id\":\"27505696-ec89-4e07-b5d0-4849ac1ff401\",\"type\":\"Title\"},{\"attributes\":{\"formatter\":{\"id\":\"e51f1d20-5189-4358-a480-23e7e36a2cc4\",\"type\":\"DatetimeTickFormatter\"},\"plot\":{\"id\":\"6ed9ac14-5b50-4c4b-81db-09543c2ede16\",\"subtype\":\"Figure\",\"type\":\"Plot\"},\"ticker\":{\"id\":\"3566e70b-666c-42b8-94f1-d4f35f1d2389\",\"type\":\"DatetimeTicker\"}},\"id\":\"47c496e3-734f-45ad-9078-f91dbb9a3be8\",\"type\":\"DatetimeAxis\"},{\"attributes\":{\"months\":[0,2,4,6,8,10]},\"id\":\"611d9210-3521-4a0a-ad52-c31c0bb0b7e0\",\"type\":\"MonthsTicker\"},{\"attributes\":{\"callback\":null,\"column_names\":[\"x\",\"y\"],\"data\":{\"x\":{\"__ndarray__\":\"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\",\"dtype\":\"float64\",\"shape\":[522]},\"y\":{\"__ndarray__\":\"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\",\"dtype\":\"float64\",\"shape\":[522]}}},\"id\":\"da703469-1e23-4949-98c7-87969e414b97\",\"type\":\"ColumnDataSource\"},{\"attributes\":{\"days\":[1,15]},\"id\":\"c8573298-9c83-4b81-939b-79e6d2f9a477\",\"type\":\"DaysTicker\"},{\"attributes\":{\"num_minor_ticks\":5,\"tickers\":[{\"id\":\"d68f6e14-b3a8-43b1-9c4a-f73791d87c20\",\"type\":\"AdaptiveTicker\"},{\"id\":\"eae0f95a-53e5-422e-bf0c-634aa9daf4d8\",\"type\":\"AdaptiveTicker\"},{\"id\":\"5554d542-90e6-4f24-abf6-43206f116411\",\"type\":\"AdaptiveTicker\"},{\"id\":\"569e93c4-9e8c-4d9d-b9cc-77d3eb1d93bf\",\"type\":\"DaysTicker\"},{\"id\":\"4988dbe1-9569-44a8-a7ff-e1b7b7e894ba\",\"type\":\"DaysTicker\"},{\"id\":\"b70998a7-b57f-47c6-9fb3-67e34187537d\",\"type\":\"DaysTicker\"},{\"id\":\"c8573298-9c83-4b81-939b-79e6d2f9a477\",\"type\":\"DaysTicker\"},{\"id\":\"84a415ba-4244-4d65-87eb-0f197505b982\",\"type\":\"MonthsTicker\"},{\"id\":\"611d9210-3521-4a0a-ad52-c31c0bb0b7e0\",\"type\":\"MonthsTicker\"},{\"id\":\"9cf7e3b2-2862-4f4a-8639-5483adad7b5c\",\"type\":\"MonthsTicker\"},{\"id\":\"c998e637-5c3b-409f-9fdf-636b70084424\",\"type\":\"MonthsTicker\"},{\"id\":\"4b70473b-d3ff-44df-b4dd-a3540f23e6a0\",\"type\":\"YearsTicker\"}]},\"id\":\"3566e70b-666c-42b8-94f1-d4f35f1d2389\",\"type\":\"DatetimeTicker\"},{\"attributes\":{\"data_source\":{\"id\":\"da703469-1e23-4949-98c7-87969e414b97\",\"type\":\"ColumnDataSource\"},\"glyph\":{\"id\":\"1ba94350-abc9-4834-abc0-6c61c6b3fee3\",\"type\":\"Line\"},\"hover_glyph\":null,\"muted_glyph\":null,\"nonselection_glyph\":{\"id\":\"d557d0a0-3c02-44b3-bb15-b411de11603c\",\"type\":\"Line\"},\"selection_glyph\":null,\"view\":{\"id\":\"76f35385-f638-44f7-8fa6-3f4d3680f021\",\"type\":\"CDSView\"}},\"id\":\"83036f0b-0860-4a5e-9599-a3451be4460d\",\"type\":\"GlyphRenderer\"},{\"attributes\":{},\"id\":\"213e9e9c-6152-4c22-bb57-8e9a44c20a46\",\"type\":\"WheelZoomTool\"},{\"attributes\":{\"days\":[1,4,7,10,13,16,19,22,25,28]},\"id\":\"4988dbe1-9569-44a8-a7ff-e1b7b7e894ba\",\"type\":\"DaysTicker\"},{\"attributes\":{},\"id\":\"dd82e82c-3d36-4cec-b2ad-b121294ab22e\",\"type\":\"PanTool\"},{\"attributes\":{\"bottom_units\":\"screen\",\"fill_alpha\":{\"value\":0.5},\"fill_color\":{\"value\":\"lightgrey\"},\"left_units\":\"screen\",\"level\":\"overlay\",\"line_alpha\":{\"value\":1.0},\"line_color\":{\"value\":\"black\"},\"line_dash\":[4,4],\"line_width\":{\"value\":2},\"plot\":null,\"render_mode\":\"css\",\"right_units\":\"screen\",\"top_units\":\"screen\"},\"id\":\"edf2e80e-f582-4a3e-b535-1914e78b61da\",\"type\":\"BoxAnnotation\"},{\"attributes\":{},\"id\":\"60d7a3f9-abec-4141-817b-d76921d7cadd\",\"type\":\"SaveTool\"},{\"attributes\":{\"months\":[0,1,2,3,4,5,6,7,8,9,10,11]},\"id\":\"84a415ba-4244-4d65-87eb-0f197505b982\",\"type\":\"MonthsTicker\"},{\"attributes\":{},\"id\":\"b02bfd70-a55a-4af8-ad42-02fc8b148839\",\"type\":\"BasicTicker\"},{\"attributes\":{\"source\":{\"id\":\"da703469-1e23-4949-98c7-87969e414b97\",\"type\":\"ColumnDataSource\"}},\"id\":\"76f35385-f638-44f7-8fa6-3f4d3680f021\",\"type\":\"CDSView\"},{\"attributes\":{\"days\":[1,8,15,22]},\"id\":\"b70998a7-b57f-47c6-9fb3-67e34187537d\",\"type\":\"DaysTicker\"},{\"attributes\":{\"data_source\":{\"id\":\"a6961243-3ef6-4049-9edc-5945d60fa45f\",\"type\":\"ColumnDataSource\"},\"glyph\":{\"id\":\"fb4c9eca-11a9-4194-aade-d2e84a68bb36\",\"type\":\"Line\"},\"hover_glyph\":null,\"muted_glyph\":null,\"nonselection_glyph\":{\"id\":\"24f6316a-b35a-4df7-9ef8-a76a5c7830d7\",\"type\":\"Line\"},\"selection_glyph\":null,\"view\":{\"id\":\"a635b56f-2642-4a7c-8768-aaec908e22ce\",\"type\":\"CDSView\"}},\"id\":\"b814fbbc-3920-40e3-b63f-7da492510389\",\"type\":\"GlyphRenderer\"},{\"attributes\":{},\"id\":\"8b9ab3fc-fe51-4a31-bd35-4dec35b92aa6\",\"type\":\"LinearScale\"},{\"attributes\":{\"line_color\":{\"value\":\"#1f77b4\"},\"x\":{\"field\":\"x\"},\"y\":{\"field\":\"y\"}},\"id\":\"fb4c9eca-11a9-4194-aade-d2e84a68bb36\",\"type\":\"Line\"},{\"attributes\":{\"overlay\":{\"id\":\"edf2e80e-f582-4a3e-b535-1914e78b61da\",\"type\":\"BoxAnnotation\"}},\"id\":\"db45b8e9-4e59-4687-a153-6b08b91d0cf3\",\"type\":\"BoxZoomTool\"},{\"attributes\":{\"line_alpha\":{\"value\":0.1},\"line_color\":{\"value\":\"#1f77b4\"},\"x\":{\"field\":\"x\"},\"y\":{\"field\":\"y\"}},\"id\":\"d557d0a0-3c02-44b3-bb15-b411de11603c\",\"type\":\"Line\"},{\"attributes\":{\"mantissas\":[1,2,5],\"max_interval\":500.0,\"num_minor_ticks\":0},\"id\":\"d68f6e14-b3a8-43b1-9c4a-f73791d87c20\",\"type\":\"AdaptiveTicker\"},{\"attributes\":{\"below\":[{\"id\":\"47c496e3-734f-45ad-9078-f91dbb9a3be8\",\"type\":\"DatetimeAxis\"}],\"left\":[{\"id\":\"c622a3e2-7d89-4ed6-9032-18274fd74c3e\",\"type\":\"LinearAxis\"}],\"plot_height\":250,\"plot_width\":800,\"renderers\":[{\"id\":\"47c496e3-734f-45ad-9078-f91dbb9a3be8\",\"type\":\"DatetimeAxis\"},{\"id\":\"5900dbeb-9bc4-47f4-88f3-3ebd0add9a50\",\"type\":\"Grid\"},{\"id\":\"c622a3e2-7d89-4ed6-9032-18274fd74c3e\",\"type\":\"LinearAxis\"},{\"id\":\"c699129d-2584-4e97-a504-d4b7b755b04c\",\"type\":\"Grid\"},{\"id\":\"edf2e80e-f582-4a3e-b535-1914e78b61da\",\"type\":\"BoxAnnotation\"},{\"id\":\"b814fbbc-3920-40e3-b63f-7da492510389\",\"type\":\"GlyphRenderer\"},{\"id\":\"83036f0b-0860-4a5e-9599-a3451be4460d\",\"type\":\"GlyphRenderer\"}],\"title\":{\"id\":\"27505696-ec89-4e07-b5d0-4849ac1ff401\",\"type\":\"Title\"},\"toolbar\":{\"id\":\"54cf0529-21f3-4242-9029-e3a52279c8a9\",\"type\":\"Toolbar\"},\"x_range\":{\"id\":\"747b1ec8-8100-4f87-883a-4a520ade555d\",\"type\":\"DataRange1d\"},\"x_scale\":{\"id\":\"b4a12457-30ec-496b-966a-1d5174d83c0d\",\"type\":\"LinearScale\"},\"y_range\":{\"id\":\"a6ea46a4-85cd-47b2-bfc8-580ab91eb9ed\",\"type\":\"DataRange1d\"},\"y_scale\":{\"id\":\"8b9ab3fc-fe51-4a31-bd35-4dec35b92aa6\",\"type\":\"LinearScale\"}},\"id\":\"6ed9ac14-5b50-4c4b-81db-09543c2ede16\",\"subtype\":\"Figure\",\"type\":\"Plot\"},{\"attributes\":{},\"id\":\"217b2260-cf58-4362-b26c-940104a7ff73\",\"type\":\"ResetTool\"},{\"attributes\":{\"active_drag\":\"auto\",\"active_inspect\":\"auto\",\"active_scroll\":\"auto\",\"active_tap\":\"auto\",\"tools\":[{\"id\":\"dd82e82c-3d36-4cec-b2ad-b121294ab22e\",\"type\":\"PanTool\"},{\"id\":\"213e9e9c-6152-4c22-bb57-8e9a44c20a46\",\"type\":\"WheelZoomTool\"},{\"id\":\"db45b8e9-4e59-4687-a153-6b08b91d0cf3\",\"type\":\"BoxZoomTool\"},{\"id\":\"60d7a3f9-abec-4141-817b-d76921d7cadd\",\"type\":\"SaveTool\"},{\"id\":\"217b2260-cf58-4362-b26c-940104a7ff73\",\"type\":\"ResetTool\"},{\"id\":\"23644abc-92ea-4014-9649-dd67f8792cf2\",\"type\":\"HelpTool\"}]},\"id\":\"54cf0529-21f3-4242-9029-e3a52279c8a9\",\"type\":\"Toolbar\"},{\"attributes\":{},\"id\":\"6970d70d-6f2b-4867-9ca4-0d2b609de4e2\",\"type\":\"BasicTickFormatter\"},{\"attributes\":{\"days\":[1,2,3,4,5,6,7,8,9,10,11,12,13,14,15,16,17,18,19,20,21,22,23,24,25,26,27,28,29,30,31]},\"id\":\"569e93c4-9e8c-4d9d-b9cc-77d3eb1d93bf\",\"type\":\"DaysTicker\"},{\"attributes\":{\"line_alpha\":{\"value\":0.1},\"line_color\":{\"value\":\"#1f77b4\"},\"x\":{\"field\":\"x\"},\"y\":{\"field\":\"y\"}},\"id\":\"24f6316a-b35a-4df7-9ef8-a76a5c7830d7\",\"type\":\"Line\"},{\"attributes\":{\"months\":[0,6]},\"id\":\"c998e637-5c3b-409f-9fdf-636b70084424\",\"type\":\"MonthsTicker\"},{\"attributes\":{},\"id\":\"e51f1d20-5189-4358-a480-23e7e36a2cc4\",\"type\":\"DatetimeTickFormatter\"},{\"attributes\":{\"months\":[0,4,8]},\"id\":\"9cf7e3b2-2862-4f4a-8639-5483adad7b5c\",\"type\":\"MonthsTicker\"},{\"attributes\":{},\"id\":\"4b70473b-d3ff-44df-b4dd-a3540f23e6a0\",\"type\":\"YearsTicker\"},{\"attributes\":{\"dimension\":1,\"plot\":{\"id\":\"6ed9ac14-5b50-4c4b-81db-09543c2ede16\",\"subtype\":\"Figure\",\"type\":\"Plot\"},\"ticker\":{\"id\":\"b02bfd70-a55a-4af8-ad42-02fc8b148839\",\"type\":\"BasicTicker\"}},\"id\":\"c699129d-2584-4e97-a504-d4b7b755b04c\",\"type\":\"Grid\"},{\"attributes\":{\"plot\":{\"id\":\"6ed9ac14-5b50-4c4b-81db-09543c2ede16\",\"subtype\":\"Figure\",\"type\":\"Plot\"},\"ticker\":{\"id\":\"3566e70b-666c-42b8-94f1-d4f35f1d2389\",\"type\":\"DatetimeTicker\"}},\"id\":\"5900dbeb-9bc4-47f4-88f3-3ebd0add9a50\",\"type\":\"Grid\"},{\"attributes\":{\"callback\":null},\"id\":\"a6ea46a4-85cd-47b2-bfc8-580ab91eb9ed\",\"type\":\"DataRange1d\"},{\"attributes\":{\"formatter\":{\"id\":\"6970d70d-6f2b-4867-9ca4-0d2b609de4e2\",\"type\":\"BasicTickFormatter\"},\"plot\":{\"id\":\"6ed9ac14-5b50-4c4b-81db-09543c2ede16\",\"subtype\":\"Figure\",\"type\":\"Plot\"},\"ticker\":{\"id\":\"b02bfd70-a55a-4af8-ad42-02fc8b148839\",\"type\":\"BasicTicker\"}},\"id\":\"c622a3e2-7d89-4ed6-9032-18274fd74c3e\",\"type\":\"LinearAxis\"},{\"attributes\":{\"base\":60,\"mantissas\":[1,2,5,10,15,20,30],\"max_interval\":1800000.0,\"min_interval\":1000.0,\"num_minor_ticks\":0},\"id\":\"eae0f95a-53e5-422e-bf0c-634aa9daf4d8\",\"type\":\"AdaptiveTicker\"},{\"attributes\":{\"source\":{\"id\":\"a6961243-3ef6-4049-9edc-5945d60fa45f\",\"type\":\"ColumnDataSource\"}},\"id\":\"a635b56f-2642-4a7c-8768-aaec908e22ce\",\"type\":\"CDSView\"},{\"attributes\":{\"callback\":null,\"column_names\":[\"x\",\"y\"],\"data\":{\"x\":{\"__ndarray__\":\"AAAAqyyqdEIAAMAQf6p0QgAAAEJ2q3RCAADAp8irdEIAAIANG6x0QgAAQHNtrHRCAAAA2b+sdEIAAEAKt610QgAAAHAJrnRCAADA1VuudEIAAIA7rq50QgAAQKEAr3RCAACA0vevdEIAAEA4SrB0QgAAAJ6csHRCAADAA++wdEIAAIBpQbF0QgAAwJo4snRCAACAAIuydEIAAEBm3bJ0QgAAAMwvs3RCAADAMYKzdEIAAABjebR0QgAAwMjLtHRCAACALh61dEIAAECUcLV0QgAAAPrCtXRCAABAK7q2dEIAAACRDLd0QgAAwPZet3RCAACAXLG3dEIAAEDCA7h0QgAAgPP6uHRCAABAWU25dEIAAAC/n7l0QgAAwCTyuXRCAACAikS6dEIAAMC7O7t0QgAAgCGOu3RCAABAh+C7dEIAAADtMrx0QgAAwFKFvHRCAAAAhHy9dEIAAMDpzr10QgAAgE8hvnRCAABAtXO+dEIAAAAbxr50QgAAQEy9v3RCAAAAsg/AdEIAAMAXYsB0QgAAgH20wHRCAABA4wbBdEIAAIAU/sF0QgAAQHpQwnRCAAAA4KLCdEIAAMBF9cJ0QgAAgKtHw3RCAADA3D7EdEIAAIBCkcR0QgAAQKjjxHRCAAAADjbFdEIAAMBziMV0QgAAAKV/xnRCAADACtLGdEIAAIBwJMd0QgAAQNZ2x3RCAAAAPMnHdEIAAEBtwMh0QgAAANMSyXRCAADAOGXJdEIAAICet8l0QgAAQAQKynRCAACANQHLdEIAAECbU8t0QgAAAAGmy3RCAADAZvjLdEIAAIDMSsx0QgAAwP1BzXRCAACAY5TNdEIAAEDJ5s10QgAAAC85znRCAADAlIvOdEIAAADGgs90QgAAwCvVz3RCAACAkSfQdEIAAED3edB0QgAAAF3M0HRCAABAjsPRdEIAAAD0FdJ0QgAAwFlo0nRCAACAv7rSdEIAAEAlDdN0QgAAgFYE1HRCAABAvFbUdEIAAAAiqdR0QgAAwIf71HRCAACA7U3VdEIAAMAeRdZ0QgAAgISX1nRCAABA6unWdEIAAABQPNd0QgAAwLWO13RCAAAA54XYdEIAAMBM2Nh0QgAAgLIq2XRCAABAGH3ZdEIAAAB+z9l0QgAAQK/G2nRCAAAAFRnbdEIAAMB6a9t0QgAAgOC923RCAABARhDcdEIAAIB3B910QgAAQN1Z3XRCAAAAQ6zddEIAAMCo/t10QgAAgA5R3nRCAADAP0jfdEIAAIClmt90QgAAQAvt33RCAAAAcT/gdEIAAMDWkeB0QgAAAAiJ4XRCAADAbdvhdEIAAIDTLeJ0QgAAQDmA4nRCAAAAn9LidEIAAEDQyeN0QgAAADYc5HRCAADAm27kdEIAAIABweR0QgAAQGcT5XRCAACAmArmdEIAAED+XOZ0QgAAAGSv5nRCAADAyQHndEIAAIAvVOd0QgAAwGBL6HRCAACAxp3odEIAAEAs8Oh0QgAAAJJC6XRCAADA95TpdEIAAAApjOp0QgAAwI7e6nRCAACA9DDrdEIAAEBag+t0QgAAAMDV63RCAABA8czsdEIAAABXH+10QgAAwLxx7XRCAACAIsTtdEIAAECIFu50QgAAgLkN73RCAABAH2DvdEIAAACFsu90QgAAwOoE8HRCAACAUFfwdEIAAMCBTvF0QgAAgOeg8XRCAABATfPxdEIAAACzRfJ0QgAAwBiY8nRCAAAASo/zdEIAAMCv4fN0QgAAgBU09HRCAABAe4b0dEIAAADh2PR0QgAAQBLQ9XRCAAAAeCL2dEIAAMDddPZ0QgAAgEPH9nRCAABAqRn3dEIAAIDaEPh0QgAAQEBj+HRCAAAAprX4dEIAAMALCPl0QgAAgHFa+XRCAADAolH6dEIAAIAIpPp0QgAAQG72+nRCAAAA1Ej7dEIAAMA5m/t0QgAAAGuS/HRCAADA0OT8dEIAAIA2N/10QgAAQJyJ/XRCAAAAAtz9dEIAAEAz0/50QgAAAJkl/3RCAADA/nf/dEIAAIBkyv90QgAAQMocAHVCAACA+xMBdUIAAEBhZgF1QgAAAMe4AXVCAADALAsCdUIAAICSXQJ1QgAAwMNUA3VCAACAKacDdUIAAECP+QN1QgAAAPVLBHVCAADAWp4EdUIAAACMlQV1QgAAwPHnBXVCAACAVzoGdUIAAEC9jAZ1QgAAACPfBnVCAABAVNYHdUIAAAC6KAh1QgAAwB97CHVCAACAhc0IdUIAAEDrHwl1QgAAgBwXCnVCAABAgmkKdUIAAADouwp1QgAAwE0OC3VCAACAs2ALdUIAAMDkVwx1QgAAgEqqDHVCAABAsPwMdUIAAAAWTw11QgAAwHuhDXVCAAAArZgOdUIAAMAS6w51QgAAgHg9D3VCAABA3o8PdUIAAABE4g91QgAAQHXZEHVCAAAA2ysRdUIAAMBAfhF1QgAAgKbQEXVCAABADCMSdUIAAIA9GhN1QgAAQKNsE3VCAAAACb8TdUIAAMBuERR1QgAAgNRjFHVCAADABVsVdUIAAIBrrRV1QgAAQNH/FXVCAAAAN1IWdUIAAMCcpBZ1QgAAAM6bF3VCAADAM+4XdUIAAICZQBh1QgAAQP+SGHVCAAAAZeUYdUIAAECW3Bl1QgAAAPwuGnVCAADAYYEadUIAAIDH0xp1QgAAQC0mG3VCAACAXh0cdUIAAEDEbxx1QgAAACrCHHVCAADAjxQddUIAAID1Zh11QgAAwCZeHnVCAACAjLAedUIAAEDyAh91QgAAAFhVH3VCAADAvacfdUIAAADvniB1QgAAwFTxIHVCAACAukMhdUIAAEAgliF1QgAAAIboIXVCAABAt98idUIAAAAdMiN1QgAAwIKEI3VCAACA6NYjdUIAAEBOKSR1QgAAgH8gJXVCAABA5XIldUIAAABLxSV1QgAAwLAXJnVCAACAFmomdUIAAMBHYSd1QgAAgK2zJ3VCAABAEwYodUIAAAB5WCh1QgAAwN6qKHVCAAAAEKIpdUIAAMB19Cl1QgAAgNtGKnVCAABAQZkqdUIAAACn6yp1QgAAQNjiK3VCAAAAPjUsdUIAAMCjhyx1QgAAgAnaLHVCAABAbywtdUIAAICgIy51QgAAQAZ2LnVCAAAAbMgudUIAAMDRGi91QgAAgDdtL3VCAADAaGQwdUIAAIDOtjB1QgAAQDQJMXVCAAAAmlsxdUIAAMD/rTF1QgAAADGlMnVCAADAlvcydUIAAID8STN1QgAAQGKcM3VCAAAAyO4zdUIAAED55TR1QgAAAF84NXVCAADAxIo1dUIAAIAq3TV1QgAAQJAvNnVCAACAwSY3dUIAAEAneTd1QgAAAI3LN3VCAADA8h04dUIAAIBYcDh1QgAAwIlnOXVCAACA77k5dUIAAEBVDDp1QgAAALteOnVCAADAILE6dUIAAABSqDt1QgAAwLf6O3VCAACAHU08dUIAAECDnzx1QgAAAOnxPHVCAABAGuk9dUIAAACAOz51QgAAwOWNPnVCAACAS+A+dUIAAECxMj91QgAAgOIpQHVCAABASHxAdUIAAACuzkB1QgAAwBMhQXVCAACAeXNBdUIAAMCqakJ1QgAAgBC9QnVCAABAdg9DdUIAAADcYUN1QgAAwEG0Q3VCAAAAc6tEdUIAAMDY/UR1QgAAgD5QRXVCAABApKJFdUIAAAAK9UV1QgAAQDvsRnVCAAAAoT5HdUIAAMAGkUd1QgAAgGzjR3VCAABA0jVIdUIAAIADLUl1QgAAQGl/SXVCAAAAz9FJdUIAAMA0JEp1QgAAgJp2SnVCAADAy21LdUIAAIAxwEt1QgAAQJcSTHVCAAAA/WRMdUIAAMBit0x1QgAAAJSuTXVCAADA+QBOdUIAAIBfU051QgAAQMWlTnVCAAAAK/hOdUIAAEBc7091QgAAAMJBUHVCAADAJ5RQdUIAAICN5lB1QgAAQPM4UXVCAACAJDBSdUIAAECKglJ1QgAAAPDUUnVCAADAVSdTdUIAAIC7eVN1QgAAwOxwVHVCAACAUsNUdUIAAEC4FVV1QgAAAB5oVXVCAADAg7pVdUIAAAC1sVZ1QgAAwBoEV3VCAACAgFZXdUIAAEDmqFd1QgAAAEz7V3VCAABAffJYdUIAAADjRFl1QgAAwEiXWXVCAACArulZdUIAAEAUPFp1QgAAgEUzW3VCAABAq4VbdUIAAAAR2Ft1QgAAwHYqXHVCAACA3HxcdUIAAMANdF11QgAAgHPGXXVCAABA2RhedUIAAAA/a151QgAAwKS9XnVCAAAA1rRfdUIAAMA7B2B1QgAAgKFZYHVCAABAB6xgdUIAAABt/mB1QgAAQJ71YXVCAAAABEhidUIAAMBpmmJ1QgAAgM/sYnVCAABANT9jdUIAAIBmNmR1QgAAQMyIZHVCAAAAMttkdUIAAMCXLWV1QgAAgP1/ZXVCAADALndmdUIAAICUyWZ1QgAAQPobZ3VCAAAAYG5ndUIAAMDFwGd1QgAAAPe3aHVCAADAXAppdUIAAIDCXGl1QgAAQCivaXVCAAAAjgFqdUIAAEC/+Gp1QgAAACVLa3VCAADAip1rdUIAAIDw72t1QgAAQFZCbHVCAACAhzltdUIAAEDti211QgAAAFPebXVCAADAuDBudUIAAIAeg251QgAAwE96b3VCAACAtcxvdUIAAEAbH3B1QgAAAIFxcHVCAADA5sNwdUIAAAAYu3F1QgAAwH0NcnVCAACA419ydUIAAEBJsnJ1QgAAAK8Ec3VCAABA4PtzdUIAAABGTnR1QgAAwKugdHVCAACAEfN0dUIAAEB3RXV1QgAAgKg8dnVCAABADo92dUIAAAB04XZ1QgAAwNkzd3VCAACAP4Z3dUIAAMBwfXh1QgAAgNbPeHVCAABAPCJ5dUIAAACidHl1QgAAwAfHeXVCAAAAOb56dUIAAMCeEHt1QgAAgARje3VCAABAarV7dUIAAADQB3x1QgAAQAH/fHVCAAAAZ1F9dUIAAMDMo311QgAAgDL2fXVCAABAmEh+dUIAAIDJP391QgAAQC+Sf3VCAAAAleR/dUIAAMD6NoB1QgAAgGCJgHVCAADAkYCBdUIAAID30oF1QgAAQF0lgnVCAAAAw3eCdUIAAMAoyoJ1QgAAAFrBg3VCAADAvxOEdUIAAIAlZoR1QgAAQIu4hHVCAAAA8QqFdUIAAEAiAoZ1QgAAAIhUhnVCAADA7aaGdUIAAIBT+YZ1QgAAQLlLh3VCAACA6kKIdUIAAEBQlYh1QgAAALbniHVCAADAGzqJdUIAAICBjIl1QgAAwLKDinVCAACAGNaKdUIAAEB+KIt1QgAAAOR6i3VCAADASc2LdUIAAAB7xIx1QgAAwOAWjXVCAACARmmNdUIAAECsu411QgAAABIOjnVCAABAQwWPdUIAAACpV491QgAAwA6qj3VCAACAdPyPdUIAAEDaTpB1QgAAgAtGkXVCAABAcZiRdUIAAADX6pF1QgAAwDw9knVCAACAoo+SdUIAAMDThpN1QgAAgDnZk3VCAABAnyuUdUIAAAAFfpR1QgAAwGrQlHVC\",\"dtype\":\"float64\",\"shape\":[522]},\"y\":{\"__ndarray__\":\"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\",\"dtype\":\"float64\",\"shape\":[522]}}},\"id\":\"a6961243-3ef6-4049-9edc-5945d60fa45f\",\"type\":\"ColumnDataSource\"}],\"root_ids\":[\"6ed9ac14-5b50-4c4b-81db-09543c2ede16\"]},\"title\":\"Bokeh Application\",\"version\":\"0.12.10\"}};\n",
       "    var render_items = [{\"docid\":\"97ea4065-7fa3-45c1-a269-2c3b2539ae44\",\"elementid\":\"c4510e22-a65b-4552-a22f-116d58b3506e\",\"modelid\":\"6ed9ac14-5b50-4c4b-81db-09543c2ede16\",\"notebook_comms_target\":\"517fe25f-d5fa-4184-84bd-5e00f7f94da6\"}];\n",
       "\n",
       "    root.Bokeh.embed.embed_items(docs_json, render_items);\n",
       "  }\n",
       "\n",
       "  if (root.Bokeh !== undefined) {\n",
       "    embed_document(root);\n",
       "  } else {\n",
       "    var attempts = 0;\n",
       "    var timer = setInterval(function(root) {\n",
       "      if (root.Bokeh !== undefined) {\n",
       "        embed_document(root);\n",
       "        clearInterval(timer);\n",
       "      }\n",
       "      attempts++;\n",
       "      if (attempts > 100) {\n",
       "        console.log(\"Bokeh: ERROR: Unable to embed document because BokehJS library is missing\")\n",
       "        clearInterval(timer);\n",
       "      }\n",
       "    }, 10, root)\n",
       "  }\n",
       "})(window);"
      ],
      "application/vnd.bokehjs_exec.v0+json": ""
     },
     "metadata": {
      "application/vnd.bokehjs_exec.v0+json": {
       "id": "6ed9ac14-5b50-4c4b-81db-09543c2ede16"
      }
     },
     "output_type": "display_data"
    },
    {
     "data": {
      "application/vnd.jupyter.widget-view+json": {
       "model_id": "48f0017423c545a69a773e7e73e368b7",
       "version_major": 2,
       "version_minor": 0
      },
      "text/html": [
       "<p>Failed to display Jupyter Widget of type <code>interactive</code>.</p>\n",
       "<p>\n",
       "  If you're reading this message in Jupyter Notebook or JupyterLab, it may mean\n",
       "  that the widgets JavaScript is still loading. If this message persists, it\n",
       "  likely means that the widgets JavaScript library is either not installed or\n",
       "  not enabled. See the <a href=\"https://ipywidgets.readthedocs.io/en/stable/user_install.html\">Jupyter\n",
       "  Widgets Documentation</a> for setup instructions.\n",
       "</p>\n",
       "<p>\n",
       "  If you're reading this message in another notebook frontend (for example, a static\n",
       "  rendering on GitHub or <a href=\"https://nbviewer.jupyter.org/\">NBViewer</a>),\n",
       "  it may mean that your frontend doesn't currently support widgets.\n",
       "</p>\n"
      ],
      "text/plain": [
       "interactive(children=(IntSlider(value=10, description='n', max=30, min=5), Output()), _dom_classes=('widget-interact',))"
      ]
     },
     "metadata": {},
     "output_type": "display_data"
    }
   ],
   "source": [
    "# 移動平均線を対話的に変更するグラフ\n",
    "from ipywidgets import interact\n",
    "import os\n",
    "import pandas as pd\n",
    "\n",
    "\n",
    "base_url= 'http://raw.githubusercontent.com/practical-jupyter/sample-data/master/anime/'\n",
    "anime_stock_price = os.path.join(base_url, 'anime_stock_price.csv')\n",
    "df = pd.read_csv(anime_stock_price, index_col=0, parse_dates=['Date'])\n",
    "\n",
    "p3 = figure(width=800, height=250, x_axis_type='datetime')\n",
    "p3.line(df.index, df['TOEI ANIMATION'])\n",
    "r3 = p3.line(df.index, df['TOEI ANIMATION'].rolling(10).mean(), color='red')\n",
    "t3 = show(p3, notebook_handle=True)\n",
    "\n",
    "@interact(n=(5, 30)) # 引数に整数を与えることでスライダを実装\n",
    "\n",
    "def plot_rolling_mean(n=10):\n",
    "    y = df['TOEI ANIMATION'].rolling(n).mean()# 移動平均を算出\n",
    "    r3.data_source.data = {'x': df.index, 'y': y} # ColumnDataSourceクラスの説明を参照\n",
    "    push_notebook(handle=t3)"
   ]
  },
  {
   "cell_type": "code",
   "execution_count": null,
   "metadata": {},
   "outputs": [],
   "source": []
  }
 ],
 "metadata": {
  "kernelspec": {
   "display_name": "Python 3",
   "language": "python",
   "name": "python3"
  }
 },
 "nbformat": 4,
 "nbformat_minor": 2
}
