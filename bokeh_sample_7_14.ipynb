{
 "cells": [
  {
   "cell_type": "code",
   "execution_count": 17,
   "metadata": {},
   "outputs": [
    {
     "data": {
      "text/html": [
       "\n",
       "    <div class=\"bk-root\">\n",
       "        <a href=\"https://bokeh.pydata.org\" target=\"_blank\" class=\"bk-logo bk-logo-small bk-logo-notebook\"></a>\n",
       "        <span id=\"5ccca935-3a50-4d90-915f-c239969eb24d\">Loading BokehJS ...</span>\n",
       "    </div>"
      ]
     },
     "metadata": {},
     "output_type": "display_data"
    },
    {
     "data": {
      "application/javascript": [
       "\n",
       "(function(root) {\n",
       "  function now() {\n",
       "    return new Date();\n",
       "  }\n",
       "\n",
       "  var force = true;\n",
       "\n",
       "  if (typeof (root._bokeh_onload_callbacks) === \"undefined\" || force === true) {\n",
       "    root._bokeh_onload_callbacks = [];\n",
       "    root._bokeh_is_loading = undefined;\n",
       "  }\n",
       "\n",
       "  var JS_MIME_TYPE = 'application/javascript';\n",
       "  var HTML_MIME_TYPE = 'text/html';\n",
       "  var EXEC_MIME_TYPE = 'application/vnd.bokehjs_exec.v0+json';\n",
       "  var CLASS_NAME = 'output_bokeh rendered_html';\n",
       "\n",
       "  /**\n",
       "   * Render data to the DOM node\n",
       "   */\n",
       "  function render(props, node) {\n",
       "    var script = document.createElement(\"script\");\n",
       "    node.appendChild(script);\n",
       "  }\n",
       "\n",
       "  /**\n",
       "   * Handle when an output is cleared or removed\n",
       "   */\n",
       "  function handleClearOutput(event, handle) {\n",
       "    var cell = handle.cell;\n",
       "\n",
       "    var id = cell.output_area._bokeh_element_id;\n",
       "    var server_id = cell.output_area._bokeh_server_id;\n",
       "    // Clean up Bokeh references\n",
       "    if (id !== undefined) {\n",
       "      Bokeh.index[id].model.document.clear();\n",
       "      delete Bokeh.index[id];\n",
       "    }\n",
       "\n",
       "    if (server_id !== undefined) {\n",
       "      // Clean up Bokeh references\n",
       "      var cmd = \"from bokeh.io.state import curstate; print(curstate().uuid_to_server['\" + server_id + \"'].get_sessions()[0].document.roots[0]._id)\";\n",
       "      cell.notebook.kernel.execute(cmd, {\n",
       "        iopub: {\n",
       "          output: function(msg) {\n",
       "            var element_id = msg.content.text.trim();\n",
       "            Bokeh.index[element_id].model.document.clear();\n",
       "            delete Bokeh.index[element_id];\n",
       "          }\n",
       "        }\n",
       "      });\n",
       "      // Destroy server and session\n",
       "      var cmd = \"import bokeh.io.notebook as ion; ion.destroy_server('\" + server_id + \"')\";\n",
       "      cell.notebook.kernel.execute(cmd);\n",
       "    }\n",
       "  }\n",
       "\n",
       "  /**\n",
       "   * Handle when a new output is added\n",
       "   */\n",
       "  function handleAddOutput(event, handle) {\n",
       "    var output_area = handle.output_area;\n",
       "    var output = handle.output;\n",
       "\n",
       "    // limit handleAddOutput to display_data with EXEC_MIME_TYPE content only\n",
       "    if ((output.output_type != \"display_data\") || (!output.data.hasOwnProperty(EXEC_MIME_TYPE))) {\n",
       "      return\n",
       "    }\n",
       "\n",
       "    var toinsert = output_area.element.find(`.${CLASS_NAME.split(' ')[0]}`);\n",
       "\n",
       "    if (output.metadata[EXEC_MIME_TYPE][\"id\"] !== undefined) {\n",
       "      toinsert[0].firstChild.textContent = output.data[JS_MIME_TYPE];\n",
       "      // store reference to embed id on output_area\n",
       "      output_area._bokeh_element_id = output.metadata[EXEC_MIME_TYPE][\"id\"];\n",
       "    }\n",
       "    if (output.metadata[EXEC_MIME_TYPE][\"server_id\"] !== undefined) {\n",
       "      var bk_div = document.createElement(\"div\");\n",
       "      bk_div.innerHTML = output.data[HTML_MIME_TYPE];\n",
       "      var script_attrs = bk_div.children[0].attributes;\n",
       "      for (var i = 0; i < script_attrs.length; i++) {\n",
       "        toinsert[0].firstChild.setAttribute(script_attrs[i].name, script_attrs[i].value);\n",
       "      }\n",
       "      // store reference to server id on output_area\n",
       "      output_area._bokeh_server_id = output.metadata[EXEC_MIME_TYPE][\"server_id\"];\n",
       "    }\n",
       "  }\n",
       "\n",
       "  function register_renderer(events, OutputArea) {\n",
       "\n",
       "    function append_mime(data, metadata, element) {\n",
       "      // create a DOM node to render to\n",
       "      var toinsert = this.create_output_subarea(\n",
       "        metadata,\n",
       "        CLASS_NAME,\n",
       "        EXEC_MIME_TYPE\n",
       "      );\n",
       "      this.keyboard_manager.register_events(toinsert);\n",
       "      // Render to node\n",
       "      var props = {data: data, metadata: metadata[EXEC_MIME_TYPE]};\n",
       "      render(props, toinsert[0]);\n",
       "      element.append(toinsert);\n",
       "      return toinsert\n",
       "    }\n",
       "\n",
       "    /* Handle when an output is cleared or removed */\n",
       "    events.on('clear_output.CodeCell', handleClearOutput);\n",
       "    events.on('delete.Cell', handleClearOutput);\n",
       "\n",
       "    /* Handle when a new output is added */\n",
       "    events.on('output_added.OutputArea', handleAddOutput);\n",
       "\n",
       "    /**\n",
       "     * Register the mime type and append_mime function with output_area\n",
       "     */\n",
       "    OutputArea.prototype.register_mime_type(EXEC_MIME_TYPE, append_mime, {\n",
       "      /* Is output safe? */\n",
       "      safe: true,\n",
       "      /* Index of renderer in `output_area.display_order` */\n",
       "      index: 0\n",
       "    });\n",
       "  }\n",
       "\n",
       "  // register the mime type if in Jupyter Notebook environment and previously unregistered\n",
       "  if (root.Jupyter !== undefined) {\n",
       "    var events = require('base/js/events');\n",
       "    var OutputArea = require('notebook/js/outputarea').OutputArea;\n",
       "\n",
       "    if (OutputArea.prototype.mime_types().indexOf(EXEC_MIME_TYPE) == -1) {\n",
       "      register_renderer(events, OutputArea);\n",
       "    }\n",
       "  }\n",
       "\n",
       "  \n",
       "  if (typeof (root._bokeh_timeout) === \"undefined\" || force === true) {\n",
       "    root._bokeh_timeout = Date.now() + 5000;\n",
       "    root._bokeh_failed_load = false;\n",
       "  }\n",
       "\n",
       "  var NB_LOAD_WARNING = {'data': {'text/html':\n",
       "     \"<div style='background-color: #fdd'>\\n\"+\n",
       "     \"<p>\\n\"+\n",
       "     \"BokehJS does not appear to have successfully loaded. If loading BokehJS from CDN, this \\n\"+\n",
       "     \"may be due to a slow or bad network connection. Possible fixes:\\n\"+\n",
       "     \"</p>\\n\"+\n",
       "     \"<ul>\\n\"+\n",
       "     \"<li>re-rerun `output_notebook()` to attempt to load from CDN again, or</li>\\n\"+\n",
       "     \"<li>use INLINE resources instead, as so:</li>\\n\"+\n",
       "     \"</ul>\\n\"+\n",
       "     \"<code>\\n\"+\n",
       "     \"from bokeh.resources import INLINE\\n\"+\n",
       "     \"output_notebook(resources=INLINE)\\n\"+\n",
       "     \"</code>\\n\"+\n",
       "     \"</div>\"}};\n",
       "\n",
       "  function display_loaded() {\n",
       "    var el = document.getElementById(\"5ccca935-3a50-4d90-915f-c239969eb24d\");\n",
       "    if (el != null) {\n",
       "      el.textContent = \"BokehJS is loading...\";\n",
       "    }\n",
       "    if (root.Bokeh !== undefined) {\n",
       "      if (el != null) {\n",
       "        el.textContent = \"BokehJS \" + root.Bokeh.version + \" successfully loaded.\";\n",
       "      }\n",
       "    } else if (Date.now() < root._bokeh_timeout) {\n",
       "      setTimeout(display_loaded, 100)\n",
       "    }\n",
       "  }\n",
       "\n",
       "\n",
       "  function run_callbacks() {\n",
       "    try {\n",
       "      root._bokeh_onload_callbacks.forEach(function(callback) { callback() });\n",
       "    }\n",
       "    finally {\n",
       "      delete root._bokeh_onload_callbacks\n",
       "    }\n",
       "    console.info(\"Bokeh: all callbacks have finished\");\n",
       "  }\n",
       "\n",
       "  function load_libs(js_urls, callback) {\n",
       "    root._bokeh_onload_callbacks.push(callback);\n",
       "    if (root._bokeh_is_loading > 0) {\n",
       "      console.log(\"Bokeh: BokehJS is being loaded, scheduling callback at\", now());\n",
       "      return null;\n",
       "    }\n",
       "    if (js_urls == null || js_urls.length === 0) {\n",
       "      run_callbacks();\n",
       "      return null;\n",
       "    }\n",
       "    console.log(\"Bokeh: BokehJS not loaded, scheduling load and callback at\", now());\n",
       "    root._bokeh_is_loading = js_urls.length;\n",
       "    for (var i = 0; i < js_urls.length; i++) {\n",
       "      var url = js_urls[i];\n",
       "      var s = document.createElement('script');\n",
       "      s.src = url;\n",
       "      s.async = false;\n",
       "      s.onreadystatechange = s.onload = function() {\n",
       "        root._bokeh_is_loading--;\n",
       "        if (root._bokeh_is_loading === 0) {\n",
       "          console.log(\"Bokeh: all BokehJS libraries loaded\");\n",
       "          run_callbacks()\n",
       "        }\n",
       "      };\n",
       "      s.onerror = function() {\n",
       "        console.warn(\"failed to load library \" + url);\n",
       "      };\n",
       "      console.log(\"Bokeh: injecting script tag for BokehJS library: \", url);\n",
       "      document.getElementsByTagName(\"head\")[0].appendChild(s);\n",
       "    }\n",
       "  };var element = document.getElementById(\"5ccca935-3a50-4d90-915f-c239969eb24d\");\n",
       "  if (element == null) {\n",
       "    console.log(\"Bokeh: ERROR: autoload.js configured with elementid '5ccca935-3a50-4d90-915f-c239969eb24d' but no matching script tag was found. \")\n",
       "    return false;\n",
       "  }\n",
       "\n",
       "  var js_urls = [\"https://cdn.pydata.org/bokeh/release/bokeh-0.12.10.min.js\", \"https://cdn.pydata.org/bokeh/release/bokeh-widgets-0.12.10.min.js\", \"https://cdn.pydata.org/bokeh/release/bokeh-tables-0.12.10.min.js\", \"https://cdn.pydata.org/bokeh/release/bokeh-gl-0.12.10.min.js\"];\n",
       "\n",
       "  var inline_js = [\n",
       "    function(Bokeh) {\n",
       "      Bokeh.set_log_level(\"info\");\n",
       "    },\n",
       "    \n",
       "    function(Bokeh) {\n",
       "      \n",
       "    },\n",
       "    function(Bokeh) {\n",
       "      console.log(\"Bokeh: injecting CSS: https://cdn.pydata.org/bokeh/release/bokeh-0.12.10.min.css\");\n",
       "      Bokeh.embed.inject_css(\"https://cdn.pydata.org/bokeh/release/bokeh-0.12.10.min.css\");\n",
       "      console.log(\"Bokeh: injecting CSS: https://cdn.pydata.org/bokeh/release/bokeh-widgets-0.12.10.min.css\");\n",
       "      Bokeh.embed.inject_css(\"https://cdn.pydata.org/bokeh/release/bokeh-widgets-0.12.10.min.css\");\n",
       "      console.log(\"Bokeh: injecting CSS: https://cdn.pydata.org/bokeh/release/bokeh-tables-0.12.10.min.css\");\n",
       "      Bokeh.embed.inject_css(\"https://cdn.pydata.org/bokeh/release/bokeh-tables-0.12.10.min.css\");\n",
       "    }\n",
       "  ];\n",
       "\n",
       "  function run_inline_js() {\n",
       "    \n",
       "    if ((root.Bokeh !== undefined) || (force === true)) {\n",
       "      for (var i = 0; i < inline_js.length; i++) {\n",
       "        inline_js[i].call(root, root.Bokeh);\n",
       "      }if (force === true) {\n",
       "        display_loaded();\n",
       "      }} else if (Date.now() < root._bokeh_timeout) {\n",
       "      setTimeout(run_inline_js, 100);\n",
       "    } else if (!root._bokeh_failed_load) {\n",
       "      console.log(\"Bokeh: BokehJS failed to load within specified timeout.\");\n",
       "      root._bokeh_failed_load = true;\n",
       "    } else if (force !== true) {\n",
       "      var cell = $(document.getElementById(\"5ccca935-3a50-4d90-915f-c239969eb24d\")).parents('.cell').data().cell;\n",
       "      cell.output_area.append_execute_result(NB_LOAD_WARNING)\n",
       "    }\n",
       "\n",
       "  }\n",
       "\n",
       "  if (root._bokeh_is_loading === 0) {\n",
       "    console.log(\"Bokeh: BokehJS loaded, going straight to plotting\");\n",
       "    run_inline_js();\n",
       "  } else {\n",
       "    load_libs(js_urls, function() {\n",
       "      console.log(\"Bokeh: BokehJS plotting callback run at\", now());\n",
       "      run_inline_js();\n",
       "    });\n",
       "  }\n",
       "}(window));"
      ],
      "application/vnd.bokehjs_load.v0+json": "\n(function(root) {\n  function now() {\n    return new Date();\n  }\n\n  var force = true;\n\n  if (typeof (root._bokeh_onload_callbacks) === \"undefined\" || force === true) {\n    root._bokeh_onload_callbacks = [];\n    root._bokeh_is_loading = undefined;\n  }\n\n  \n\n  \n  if (typeof (root._bokeh_timeout) === \"undefined\" || force === true) {\n    root._bokeh_timeout = Date.now() + 5000;\n    root._bokeh_failed_load = false;\n  }\n\n  var NB_LOAD_WARNING = {'data': {'text/html':\n     \"<div style='background-color: #fdd'>\\n\"+\n     \"<p>\\n\"+\n     \"BokehJS does not appear to have successfully loaded. If loading BokehJS from CDN, this \\n\"+\n     \"may be due to a slow or bad network connection. Possible fixes:\\n\"+\n     \"</p>\\n\"+\n     \"<ul>\\n\"+\n     \"<li>re-rerun `output_notebook()` to attempt to load from CDN again, or</li>\\n\"+\n     \"<li>use INLINE resources instead, as so:</li>\\n\"+\n     \"</ul>\\n\"+\n     \"<code>\\n\"+\n     \"from bokeh.resources import INLINE\\n\"+\n     \"output_notebook(resources=INLINE)\\n\"+\n     \"</code>\\n\"+\n     \"</div>\"}};\n\n  function display_loaded() {\n    var el = document.getElementById(\"5ccca935-3a50-4d90-915f-c239969eb24d\");\n    if (el != null) {\n      el.textContent = \"BokehJS is loading...\";\n    }\n    if (root.Bokeh !== undefined) {\n      if (el != null) {\n        el.textContent = \"BokehJS \" + root.Bokeh.version + \" successfully loaded.\";\n      }\n    } else if (Date.now() < root._bokeh_timeout) {\n      setTimeout(display_loaded, 100)\n    }\n  }\n\n\n  function run_callbacks() {\n    try {\n      root._bokeh_onload_callbacks.forEach(function(callback) { callback() });\n    }\n    finally {\n      delete root._bokeh_onload_callbacks\n    }\n    console.info(\"Bokeh: all callbacks have finished\");\n  }\n\n  function load_libs(js_urls, callback) {\n    root._bokeh_onload_callbacks.push(callback);\n    if (root._bokeh_is_loading > 0) {\n      console.log(\"Bokeh: BokehJS is being loaded, scheduling callback at\", now());\n      return null;\n    }\n    if (js_urls == null || js_urls.length === 0) {\n      run_callbacks();\n      return null;\n    }\n    console.log(\"Bokeh: BokehJS not loaded, scheduling load and callback at\", now());\n    root._bokeh_is_loading = js_urls.length;\n    for (var i = 0; i < js_urls.length; i++) {\n      var url = js_urls[i];\n      var s = document.createElement('script');\n      s.src = url;\n      s.async = false;\n      s.onreadystatechange = s.onload = function() {\n        root._bokeh_is_loading--;\n        if (root._bokeh_is_loading === 0) {\n          console.log(\"Bokeh: all BokehJS libraries loaded\");\n          run_callbacks()\n        }\n      };\n      s.onerror = function() {\n        console.warn(\"failed to load library \" + url);\n      };\n      console.log(\"Bokeh: injecting script tag for BokehJS library: \", url);\n      document.getElementsByTagName(\"head\")[0].appendChild(s);\n    }\n  };var element = document.getElementById(\"5ccca935-3a50-4d90-915f-c239969eb24d\");\n  if (element == null) {\n    console.log(\"Bokeh: ERROR: autoload.js configured with elementid '5ccca935-3a50-4d90-915f-c239969eb24d' but no matching script tag was found. \")\n    return false;\n  }\n\n  var js_urls = [\"https://cdn.pydata.org/bokeh/release/bokeh-0.12.10.min.js\", \"https://cdn.pydata.org/bokeh/release/bokeh-widgets-0.12.10.min.js\", \"https://cdn.pydata.org/bokeh/release/bokeh-tables-0.12.10.min.js\", \"https://cdn.pydata.org/bokeh/release/bokeh-gl-0.12.10.min.js\"];\n\n  var inline_js = [\n    function(Bokeh) {\n      Bokeh.set_log_level(\"info\");\n    },\n    \n    function(Bokeh) {\n      \n    },\n    function(Bokeh) {\n      console.log(\"Bokeh: injecting CSS: https://cdn.pydata.org/bokeh/release/bokeh-0.12.10.min.css\");\n      Bokeh.embed.inject_css(\"https://cdn.pydata.org/bokeh/release/bokeh-0.12.10.min.css\");\n      console.log(\"Bokeh: injecting CSS: https://cdn.pydata.org/bokeh/release/bokeh-widgets-0.12.10.min.css\");\n      Bokeh.embed.inject_css(\"https://cdn.pydata.org/bokeh/release/bokeh-widgets-0.12.10.min.css\");\n      console.log(\"Bokeh: injecting CSS: https://cdn.pydata.org/bokeh/release/bokeh-tables-0.12.10.min.css\");\n      Bokeh.embed.inject_css(\"https://cdn.pydata.org/bokeh/release/bokeh-tables-0.12.10.min.css\");\n    }\n  ];\n\n  function run_inline_js() {\n    \n    if ((root.Bokeh !== undefined) || (force === true)) {\n      for (var i = 0; i < inline_js.length; i++) {\n        inline_js[i].call(root, root.Bokeh);\n      }if (force === true) {\n        display_loaded();\n      }} else if (Date.now() < root._bokeh_timeout) {\n      setTimeout(run_inline_js, 100);\n    } else if (!root._bokeh_failed_load) {\n      console.log(\"Bokeh: BokehJS failed to load within specified timeout.\");\n      root._bokeh_failed_load = true;\n    } else if (force !== true) {\n      var cell = $(document.getElementById(\"5ccca935-3a50-4d90-915f-c239969eb24d\")).parents('.cell').data().cell;\n      cell.output_area.append_execute_result(NB_LOAD_WARNING)\n    }\n\n  }\n\n  if (root._bokeh_is_loading === 0) {\n    console.log(\"Bokeh: BokehJS loaded, going straight to plotting\");\n    run_inline_js();\n  } else {\n    load_libs(js_urls, function() {\n      console.log(\"Bokeh: BokehJS plotting callback run at\", now());\n      run_inline_js();\n    });\n  }\n}(window));"
     },
     "metadata": {},
     "output_type": "display_data"
    },
    {
     "name": "stderr",
     "output_type": "stream",
     "text": [
      "WARNING:/Users/chiseinotoya/jupyter_notebook/env/lib/python3.6/site-packages/bokeh/core/validation/check.py:W-1001 (NO_DATA_RENDERERS): Plot has no data renderers: Figure(id='05d36040-4fa5-4ee9-a5e4-82f4dc0a70e2', ...)\n"
     ]
    },
    {
     "data": {
      "text/html": [
       "\n",
       "<div class=\"bk-root\">\n",
       "    <div class=\"bk-plotdiv\" id=\"615828a4-90be-4ada-98c8-9f5823bec4d7\"></div>\n",
       "</div>"
      ]
     },
     "metadata": {},
     "output_type": "display_data"
    },
    {
     "data": {
      "application/javascript": [
       "(function(root) {\n",
       "  function embed_document(root) {\n",
       "    var docs_json = {\"2e441a30-fcf1-4c3b-9902-5aab635e90b3\":{\"roots\":{\"references\":[{\"attributes\":{\"active_drag\":\"auto\",\"active_inspect\":\"auto\",\"active_scroll\":\"auto\",\"active_tap\":\"auto\",\"tools\":[{\"id\":\"13c273a3-a570-4bf2-ba02-8ce9141fd031\",\"type\":\"PanTool\"},{\"id\":\"56de17c3-88cd-43ff-a35b-9e7f699f0f10\",\"type\":\"WheelZoomTool\"},{\"id\":\"c2458443-d27d-423c-a95e-3bf1e4ec5c20\",\"type\":\"BoxZoomTool\"},{\"id\":\"3d8b4a08-9684-44d9-9547-f6be23722165\",\"type\":\"SaveTool\"},{\"id\":\"e0f1df3b-41f0-4ac7-aa7d-a56dceda0ac7\",\"type\":\"ResetTool\"},{\"id\":\"d12ed7e8-787d-4c52-809e-dcb3a254d842\",\"type\":\"HelpTool\"}]},\"id\":\"ac41766b-4c5d-46ee-97bf-744c8a9c3dd2\",\"type\":\"Toolbar\"},{\"attributes\":{},\"id\":\"62547a62-c39d-48fc-a4bf-c97802e216b2\",\"type\":\"BasicTickFormatter\"},{\"attributes\":{\"below\":[{\"id\":\"78daa4ce-9cf3-44fd-96e1-3c71bb899c9c\",\"type\":\"LinearAxis\"}],\"left\":[{\"id\":\"cad57cca-8dbd-43f9-ad49-ee88b135a48a\",\"type\":\"LinearAxis\"}],\"plot_height\":200,\"plot_width\":200,\"renderers\":[{\"id\":\"78daa4ce-9cf3-44fd-96e1-3c71bb899c9c\",\"type\":\"LinearAxis\"},{\"id\":\"edd47222-1cbb-4c3a-98a6-8c941f586dac\",\"type\":\"Grid\"},{\"id\":\"cad57cca-8dbd-43f9-ad49-ee88b135a48a\",\"type\":\"LinearAxis\"},{\"id\":\"ce4206f9-8a55-4964-9ac6-cce421382c71\",\"type\":\"Grid\"},{\"id\":\"11342f2d-3166-476c-abfe-a92b8acf2b3e\",\"type\":\"BoxAnnotation\"}],\"title\":{\"id\":\"151ece55-df56-4baa-bbcc-0ff6f97da47b\",\"type\":\"Title\"},\"toolbar\":{\"id\":\"ac41766b-4c5d-46ee-97bf-744c8a9c3dd2\",\"type\":\"Toolbar\"},\"x_range\":{\"id\":\"06d48376-7b61-448f-8d5f-6353d55421d5\",\"type\":\"DataRange1d\"},\"x_scale\":{\"id\":\"857a85bb-dc7f-4033-96a1-943e420ca848\",\"type\":\"LinearScale\"},\"y_range\":{\"id\":\"ea3085ad-d756-4e09-a6af-db806e70fabb\",\"type\":\"DataRange1d\"},\"y_scale\":{\"id\":\"a6d9b417-e7c7-4d49-945d-c3c48d205b14\",\"type\":\"LinearScale\"}},\"id\":\"05d36040-4fa5-4ee9-a5e4-82f4dc0a70e2\",\"subtype\":\"Figure\",\"type\":\"Plot\"},{\"attributes\":{\"plot\":null,\"text\":\"\"},\"id\":\"151ece55-df56-4baa-bbcc-0ff6f97da47b\",\"type\":\"Title\"},{\"attributes\":{\"callback\":null},\"id\":\"06d48376-7b61-448f-8d5f-6353d55421d5\",\"type\":\"DataRange1d\"},{\"attributes\":{},\"id\":\"d12ed7e8-787d-4c52-809e-dcb3a254d842\",\"type\":\"HelpTool\"},{\"attributes\":{},\"id\":\"e0f1df3b-41f0-4ac7-aa7d-a56dceda0ac7\",\"type\":\"ResetTool\"},{\"attributes\":{},\"id\":\"3d8b4a08-9684-44d9-9547-f6be23722165\",\"type\":\"SaveTool\"},{\"attributes\":{\"overlay\":{\"id\":\"11342f2d-3166-476c-abfe-a92b8acf2b3e\",\"type\":\"BoxAnnotation\"}},\"id\":\"c2458443-d27d-423c-a95e-3bf1e4ec5c20\",\"type\":\"BoxZoomTool\"},{\"attributes\":{},\"id\":\"56de17c3-88cd-43ff-a35b-9e7f699f0f10\",\"type\":\"WheelZoomTool\"},{\"attributes\":{},\"id\":\"13c273a3-a570-4bf2-ba02-8ce9141fd031\",\"type\":\"PanTool\"},{\"attributes\":{\"bottom_units\":\"screen\",\"fill_alpha\":{\"value\":0.5},\"fill_color\":{\"value\":\"lightgrey\"},\"left_units\":\"screen\",\"level\":\"overlay\",\"line_alpha\":{\"value\":1.0},\"line_color\":{\"value\":\"black\"},\"line_dash\":[4,4],\"line_width\":{\"value\":2},\"plot\":null,\"render_mode\":\"css\",\"right_units\":\"screen\",\"top_units\":\"screen\"},\"id\":\"11342f2d-3166-476c-abfe-a92b8acf2b3e\",\"type\":\"BoxAnnotation\"},{\"attributes\":{\"dimension\":1,\"plot\":{\"id\":\"05d36040-4fa5-4ee9-a5e4-82f4dc0a70e2\",\"subtype\":\"Figure\",\"type\":\"Plot\"},\"ticker\":{\"id\":\"5fbcfb20-f990-4713-b102-e35639342549\",\"type\":\"BasicTicker\"}},\"id\":\"ce4206f9-8a55-4964-9ac6-cce421382c71\",\"type\":\"Grid\"},{\"attributes\":{},\"id\":\"5fbcfb20-f990-4713-b102-e35639342549\",\"type\":\"BasicTicker\"},{\"attributes\":{\"formatter\":{\"id\":\"62547a62-c39d-48fc-a4bf-c97802e216b2\",\"type\":\"BasicTickFormatter\"},\"plot\":{\"id\":\"05d36040-4fa5-4ee9-a5e4-82f4dc0a70e2\",\"subtype\":\"Figure\",\"type\":\"Plot\"},\"ticker\":{\"id\":\"5fbcfb20-f990-4713-b102-e35639342549\",\"type\":\"BasicTicker\"}},\"id\":\"cad57cca-8dbd-43f9-ad49-ee88b135a48a\",\"type\":\"LinearAxis\"},{\"attributes\":{},\"id\":\"e2be8f61-30b1-45de-b910-125c54107338\",\"type\":\"BasicTicker\"},{\"attributes\":{\"formatter\":{\"id\":\"3ea6b190-76b0-4e98-a5ae-7926351e8ac6\",\"type\":\"BasicTickFormatter\"},\"plot\":{\"id\":\"05d36040-4fa5-4ee9-a5e4-82f4dc0a70e2\",\"subtype\":\"Figure\",\"type\":\"Plot\"},\"ticker\":{\"id\":\"e2be8f61-30b1-45de-b910-125c54107338\",\"type\":\"BasicTicker\"}},\"id\":\"78daa4ce-9cf3-44fd-96e1-3c71bb899c9c\",\"type\":\"LinearAxis\"},{\"attributes\":{\"plot\":{\"id\":\"05d36040-4fa5-4ee9-a5e4-82f4dc0a70e2\",\"subtype\":\"Figure\",\"type\":\"Plot\"},\"ticker\":{\"id\":\"e2be8f61-30b1-45de-b910-125c54107338\",\"type\":\"BasicTicker\"}},\"id\":\"edd47222-1cbb-4c3a-98a6-8c941f586dac\",\"type\":\"Grid\"},{\"attributes\":{},\"id\":\"a6d9b417-e7c7-4d49-945d-c3c48d205b14\",\"type\":\"LinearScale\"},{\"attributes\":{},\"id\":\"857a85bb-dc7f-4033-96a1-943e420ca848\",\"type\":\"LinearScale\"},{\"attributes\":{\"callback\":null},\"id\":\"ea3085ad-d756-4e09-a6af-db806e70fabb\",\"type\":\"DataRange1d\"},{\"attributes\":{},\"id\":\"3ea6b190-76b0-4e98-a5ae-7926351e8ac6\",\"type\":\"BasicTickFormatter\"}],\"root_ids\":[\"05d36040-4fa5-4ee9-a5e4-82f4dc0a70e2\"]},\"title\":\"Bokeh Application\",\"version\":\"0.12.10\"}};\n",
       "    var render_items = [{\"docid\":\"2e441a30-fcf1-4c3b-9902-5aab635e90b3\",\"elementid\":\"615828a4-90be-4ada-98c8-9f5823bec4d7\",\"modelid\":\"05d36040-4fa5-4ee9-a5e4-82f4dc0a70e2\",\"notebook_comms_target\":\"196d9fa4-5f99-4458-8c19-8149f25ccf7f\"}];\n",
       "\n",
       "    root.Bokeh.embed.embed_items(docs_json, render_items);\n",
       "  }\n",
       "\n",
       "  if (root.Bokeh !== undefined) {\n",
       "    embed_document(root);\n",
       "  } else {\n",
       "    var attempts = 0;\n",
       "    var timer = setInterval(function(root) {\n",
       "      if (root.Bokeh !== undefined) {\n",
       "        embed_document(root);\n",
       "        clearInterval(timer);\n",
       "      }\n",
       "      attempts++;\n",
       "      if (attempts > 100) {\n",
       "        console.log(\"Bokeh: ERROR: Unable to embed document because BokehJS library is missing\")\n",
       "        clearInterval(timer);\n",
       "      }\n",
       "    }, 10, root)\n",
       "  }\n",
       "})(window);"
      ],
      "application/vnd.bokehjs_exec.v0+json": ""
     },
     "metadata": {
      "application/vnd.bokehjs_exec.v0+json": {
       "id": "05d36040-4fa5-4ee9-a5e4-82f4dc0a70e2"
      }
     },
     "output_type": "display_data"
    },
    {
     "data": {
      "text/html": [
       "<p><code>&lt;Bokeh Notebook handle for <strong>In[17]</strong>&gt;</code></p>"
      ],
      "text/plain": [
       "<bokeh.io.notebook.CommsHandle at 0x107ba08d0>"
      ]
     },
     "execution_count": 17,
     "metadata": {},
     "output_type": "execute_result"
    }
   ],
   "source": [
    "from bokeh.plotting import figure\n",
    "from bokeh.io import output_notebook, show, push_notebook\n",
    "\n",
    "\n",
    "output_notebook()\n",
    "p = figure(plot_width=200, plot_height=200)\n",
    "\n",
    "#図を作成　動的に変更\n",
    "show(p, notebook_handle=True)"
   ]
  },
  {
   "cell_type": "code",
   "execution_count": 18,
   "metadata": {},
   "outputs": [],
   "source": [
    "# タイトルを変更\n",
    "p.title.text = 'title'\n",
    "push_notebook()"
   ]
  },
  {
   "cell_type": "code",
   "execution_count": 19,
   "metadata": {},
   "outputs": [
    {
     "name": "stderr",
     "output_type": "stream",
     "text": [
      "WARNING:/Users/chiseinotoya/jupyter_notebook/env/lib/python3.6/site-packages/bokeh/core/validation/check.py:W-1001 (NO_DATA_RENDERERS): Plot has no data renderers: Figure(id='05d36040-4fa5-4ee9-a5e4-82f4dc0a70e2', ...)\n"
     ]
    },
    {
     "data": {
      "text/html": [
       "\n",
       "<div class=\"bk-root\">\n",
       "    <div class=\"bk-plotdiv\" id=\"6d300070-89e4-4d44-afa9-52a4836f1a6f\"></div>\n",
       "</div>"
      ]
     },
     "metadata": {},
     "output_type": "display_data"
    },
    {
     "data": {
      "application/javascript": [
       "(function(root) {\n",
       "  function embed_document(root) {\n",
       "    var docs_json = {\"ee323795-2312-4f86-a4b1-5d2ce00a96de\":{\"roots\":{\"references\":[{\"attributes\":{\"active_drag\":\"auto\",\"active_inspect\":\"auto\",\"active_scroll\":\"auto\",\"active_tap\":\"auto\",\"tools\":[{\"id\":\"13c273a3-a570-4bf2-ba02-8ce9141fd031\",\"type\":\"PanTool\"},{\"id\":\"56de17c3-88cd-43ff-a35b-9e7f699f0f10\",\"type\":\"WheelZoomTool\"},{\"id\":\"c2458443-d27d-423c-a95e-3bf1e4ec5c20\",\"type\":\"BoxZoomTool\"},{\"id\":\"3d8b4a08-9684-44d9-9547-f6be23722165\",\"type\":\"SaveTool\"},{\"id\":\"e0f1df3b-41f0-4ac7-aa7d-a56dceda0ac7\",\"type\":\"ResetTool\"},{\"id\":\"d12ed7e8-787d-4c52-809e-dcb3a254d842\",\"type\":\"HelpTool\"}]},\"id\":\"ac41766b-4c5d-46ee-97bf-744c8a9c3dd2\",\"type\":\"Toolbar\"},{\"attributes\":{},\"id\":\"62547a62-c39d-48fc-a4bf-c97802e216b2\",\"type\":\"BasicTickFormatter\"},{\"attributes\":{\"below\":[{\"id\":\"78daa4ce-9cf3-44fd-96e1-3c71bb899c9c\",\"type\":\"LinearAxis\"}],\"left\":[{\"id\":\"cad57cca-8dbd-43f9-ad49-ee88b135a48a\",\"type\":\"LinearAxis\"}],\"plot_height\":200,\"plot_width\":200,\"renderers\":[{\"id\":\"78daa4ce-9cf3-44fd-96e1-3c71bb899c9c\",\"type\":\"LinearAxis\"},{\"id\":\"edd47222-1cbb-4c3a-98a6-8c941f586dac\",\"type\":\"Grid\"},{\"id\":\"cad57cca-8dbd-43f9-ad49-ee88b135a48a\",\"type\":\"LinearAxis\"},{\"id\":\"ce4206f9-8a55-4964-9ac6-cce421382c71\",\"type\":\"Grid\"},{\"id\":\"11342f2d-3166-476c-abfe-a92b8acf2b3e\",\"type\":\"BoxAnnotation\"}],\"title\":{\"id\":\"151ece55-df56-4baa-bbcc-0ff6f97da47b\",\"type\":\"Title\"},\"toolbar\":{\"id\":\"ac41766b-4c5d-46ee-97bf-744c8a9c3dd2\",\"type\":\"Toolbar\"},\"x_range\":{\"id\":\"06d48376-7b61-448f-8d5f-6353d55421d5\",\"type\":\"DataRange1d\"},\"x_scale\":{\"id\":\"857a85bb-dc7f-4033-96a1-943e420ca848\",\"type\":\"LinearScale\"},\"y_range\":{\"id\":\"ea3085ad-d756-4e09-a6af-db806e70fabb\",\"type\":\"DataRange1d\"},\"y_scale\":{\"id\":\"a6d9b417-e7c7-4d49-945d-c3c48d205b14\",\"type\":\"LinearScale\"}},\"id\":\"05d36040-4fa5-4ee9-a5e4-82f4dc0a70e2\",\"subtype\":\"Figure\",\"type\":\"Plot\"},{\"attributes\":{\"plot\":null,\"text\":\"title\"},\"id\":\"151ece55-df56-4baa-bbcc-0ff6f97da47b\",\"type\":\"Title\"},{\"attributes\":{\"callback\":null},\"id\":\"06d48376-7b61-448f-8d5f-6353d55421d5\",\"type\":\"DataRange1d\"},{\"attributes\":{},\"id\":\"d12ed7e8-787d-4c52-809e-dcb3a254d842\",\"type\":\"HelpTool\"},{\"attributes\":{},\"id\":\"e0f1df3b-41f0-4ac7-aa7d-a56dceda0ac7\",\"type\":\"ResetTool\"},{\"attributes\":{},\"id\":\"3d8b4a08-9684-44d9-9547-f6be23722165\",\"type\":\"SaveTool\"},{\"attributes\":{\"overlay\":{\"id\":\"11342f2d-3166-476c-abfe-a92b8acf2b3e\",\"type\":\"BoxAnnotation\"}},\"id\":\"c2458443-d27d-423c-a95e-3bf1e4ec5c20\",\"type\":\"BoxZoomTool\"},{\"attributes\":{},\"id\":\"56de17c3-88cd-43ff-a35b-9e7f699f0f10\",\"type\":\"WheelZoomTool\"},{\"attributes\":{},\"id\":\"13c273a3-a570-4bf2-ba02-8ce9141fd031\",\"type\":\"PanTool\"},{\"attributes\":{\"bottom_units\":\"screen\",\"fill_alpha\":{\"value\":0.5},\"fill_color\":{\"value\":\"lightgrey\"},\"left_units\":\"screen\",\"level\":\"overlay\",\"line_alpha\":{\"value\":1.0},\"line_color\":{\"value\":\"black\"},\"line_dash\":[4,4],\"line_width\":{\"value\":2},\"plot\":null,\"render_mode\":\"css\",\"right_units\":\"screen\",\"top_units\":\"screen\"},\"id\":\"11342f2d-3166-476c-abfe-a92b8acf2b3e\",\"type\":\"BoxAnnotation\"},{\"attributes\":{\"dimension\":1,\"plot\":{\"id\":\"05d36040-4fa5-4ee9-a5e4-82f4dc0a70e2\",\"subtype\":\"Figure\",\"type\":\"Plot\"},\"ticker\":{\"id\":\"5fbcfb20-f990-4713-b102-e35639342549\",\"type\":\"BasicTicker\"}},\"id\":\"ce4206f9-8a55-4964-9ac6-cce421382c71\",\"type\":\"Grid\"},{\"attributes\":{},\"id\":\"5fbcfb20-f990-4713-b102-e35639342549\",\"type\":\"BasicTicker\"},{\"attributes\":{\"formatter\":{\"id\":\"62547a62-c39d-48fc-a4bf-c97802e216b2\",\"type\":\"BasicTickFormatter\"},\"plot\":{\"id\":\"05d36040-4fa5-4ee9-a5e4-82f4dc0a70e2\",\"subtype\":\"Figure\",\"type\":\"Plot\"},\"ticker\":{\"id\":\"5fbcfb20-f990-4713-b102-e35639342549\",\"type\":\"BasicTicker\"}},\"id\":\"cad57cca-8dbd-43f9-ad49-ee88b135a48a\",\"type\":\"LinearAxis\"},{\"attributes\":{},\"id\":\"e2be8f61-30b1-45de-b910-125c54107338\",\"type\":\"BasicTicker\"},{\"attributes\":{\"formatter\":{\"id\":\"3ea6b190-76b0-4e98-a5ae-7926351e8ac6\",\"type\":\"BasicTickFormatter\"},\"plot\":{\"id\":\"05d36040-4fa5-4ee9-a5e4-82f4dc0a70e2\",\"subtype\":\"Figure\",\"type\":\"Plot\"},\"ticker\":{\"id\":\"e2be8f61-30b1-45de-b910-125c54107338\",\"type\":\"BasicTicker\"}},\"id\":\"78daa4ce-9cf3-44fd-96e1-3c71bb899c9c\",\"type\":\"LinearAxis\"},{\"attributes\":{\"plot\":{\"id\":\"05d36040-4fa5-4ee9-a5e4-82f4dc0a70e2\",\"subtype\":\"Figure\",\"type\":\"Plot\"},\"ticker\":{\"id\":\"e2be8f61-30b1-45de-b910-125c54107338\",\"type\":\"BasicTicker\"}},\"id\":\"edd47222-1cbb-4c3a-98a6-8c941f586dac\",\"type\":\"Grid\"},{\"attributes\":{},\"id\":\"a6d9b417-e7c7-4d49-945d-c3c48d205b14\",\"type\":\"LinearScale\"},{\"attributes\":{},\"id\":\"857a85bb-dc7f-4033-96a1-943e420ca848\",\"type\":\"LinearScale\"},{\"attributes\":{\"callback\":null},\"id\":\"ea3085ad-d756-4e09-a6af-db806e70fabb\",\"type\":\"DataRange1d\"},{\"attributes\":{},\"id\":\"3ea6b190-76b0-4e98-a5ae-7926351e8ac6\",\"type\":\"BasicTickFormatter\"}],\"root_ids\":[\"05d36040-4fa5-4ee9-a5e4-82f4dc0a70e2\"]},\"title\":\"Bokeh Application\",\"version\":\"0.12.10\"}};\n",
       "    var render_items = [{\"docid\":\"ee323795-2312-4f86-a4b1-5d2ce00a96de\",\"elementid\":\"6d300070-89e4-4d44-afa9-52a4836f1a6f\",\"modelid\":\"05d36040-4fa5-4ee9-a5e4-82f4dc0a70e2\",\"notebook_comms_target\":\"13336e1f-ad0c-43ac-9367-b3557c950011\"}];\n",
       "\n",
       "    root.Bokeh.embed.embed_items(docs_json, render_items);\n",
       "  }\n",
       "\n",
       "  if (root.Bokeh !== undefined) {\n",
       "    embed_document(root);\n",
       "  } else {\n",
       "    var attempts = 0;\n",
       "    var timer = setInterval(function(root) {\n",
       "      if (root.Bokeh !== undefined) {\n",
       "        embed_document(root);\n",
       "        clearInterval(timer);\n",
       "      }\n",
       "      attempts++;\n",
       "      if (attempts > 100) {\n",
       "        console.log(\"Bokeh: ERROR: Unable to embed document because BokehJS library is missing\")\n",
       "        clearInterval(timer);\n",
       "      }\n",
       "    }, 10, root)\n",
       "  }\n",
       "})(window);"
      ],
      "application/vnd.bokehjs_exec.v0+json": ""
     },
     "metadata": {
      "application/vnd.bokehjs_exec.v0+json": {
       "id": "05d36040-4fa5-4ee9-a5e4-82f4dc0a70e2"
      }
     },
     "output_type": "display_data"
    },
    {
     "ename": "ValueError",
     "evalue": "PATCH-DOC message requires at least one event",
     "output_type": "error",
     "traceback": [
      "\u001b[0;31m---------------------------------------------------------------------------\u001b[0m",
      "\u001b[0;31mValueError\u001b[0m                                Traceback (most recent call last)",
      "\u001b[0;32m<ipython-input-19-c13e796eb345>\u001b[0m in \u001b[0;36m<module>\u001b[0;34m()\u001b[0m\n\u001b[1;32m      1\u001b[0m \u001b[0mt\u001b[0m \u001b[0;34m=\u001b[0m \u001b[0mshow\u001b[0m\u001b[0;34m(\u001b[0m\u001b[0mp\u001b[0m\u001b[0;34m,\u001b[0m \u001b[0mnotebook_handle\u001b[0m\u001b[0;34m=\u001b[0m\u001b[0;32mTrue\u001b[0m\u001b[0;34m)\u001b[0m\u001b[0;34m\u001b[0m\u001b[0m\n\u001b[0;32m----> 2\u001b[0;31m \u001b[0mpush_notebook\u001b[0m\u001b[0;34m(\u001b[0m\u001b[0mhandle\u001b[0m\u001b[0;34m=\u001b[0m\u001b[0mt\u001b[0m\u001b[0;34m)\u001b[0m\u001b[0;34m\u001b[0m\u001b[0m\n\u001b[0m",
      "\u001b[0;32m~/jupyter_notebook/env/lib/python3.6/site-packages/bokeh/util/api.py\u001b[0m in \u001b[0;36mwrapper\u001b[0;34m(*args, **kw)\u001b[0m\n\u001b[1;32m    188\u001b[0m         \u001b[0;34m@\u001b[0m\u001b[0mwraps\u001b[0m\u001b[0;34m(\u001b[0m\u001b[0mobj\u001b[0m\u001b[0;34m)\u001b[0m\u001b[0;34m\u001b[0m\u001b[0m\n\u001b[1;32m    189\u001b[0m         \u001b[0;32mdef\u001b[0m \u001b[0mwrapper\u001b[0m\u001b[0;34m(\u001b[0m\u001b[0;34m*\u001b[0m\u001b[0margs\u001b[0m\u001b[0;34m,\u001b[0m \u001b[0;34m**\u001b[0m\u001b[0mkw\u001b[0m\u001b[0;34m)\u001b[0m\u001b[0;34m:\u001b[0m\u001b[0;34m\u001b[0m\u001b[0m\n\u001b[0;32m--> 190\u001b[0;31m             \u001b[0;32mreturn\u001b[0m \u001b[0mobj\u001b[0m\u001b[0;34m(\u001b[0m\u001b[0;34m*\u001b[0m\u001b[0margs\u001b[0m\u001b[0;34m,\u001b[0m \u001b[0;34m**\u001b[0m\u001b[0mkw\u001b[0m\u001b[0;34m)\u001b[0m\u001b[0;34m\u001b[0m\u001b[0m\n\u001b[0m\u001b[1;32m    191\u001b[0m \u001b[0;34m\u001b[0m\u001b[0m\n\u001b[1;32m    192\u001b[0m         \u001b[0mwrapper\u001b[0m\u001b[0;34m.\u001b[0m\u001b[0m__bkversion__\u001b[0m \u001b[0;34m=\u001b[0m \u001b[0mversion\u001b[0m\u001b[0;34m\u001b[0m\u001b[0m\n",
      "\u001b[0;32m~/jupyter_notebook/env/lib/python3.6/site-packages/bokeh/io/notebook.py\u001b[0m in \u001b[0;36mpush_notebook\u001b[0;34m(document, state, handle)\u001b[0m\n\u001b[1;32m    252\u001b[0m     \u001b[0mevents\u001b[0m \u001b[0;34m=\u001b[0m \u001b[0mlist\u001b[0m\u001b[0;34m(\u001b[0m\u001b[0mhandle\u001b[0m\u001b[0;34m.\u001b[0m\u001b[0mdoc\u001b[0m\u001b[0;34m.\u001b[0m\u001b[0m_held_events\u001b[0m\u001b[0;34m)\u001b[0m\u001b[0;34m\u001b[0m\u001b[0m\n\u001b[1;32m    253\u001b[0m     \u001b[0mhandle\u001b[0m\u001b[0;34m.\u001b[0m\u001b[0mdoc\u001b[0m\u001b[0;34m.\u001b[0m\u001b[0m_held_events\u001b[0m \u001b[0;34m=\u001b[0m \u001b[0;34m[\u001b[0m\u001b[0;34m]\u001b[0m\u001b[0;34m\u001b[0m\u001b[0m\n\u001b[0;32m--> 254\u001b[0;31m     \u001b[0mmsg\u001b[0m \u001b[0;34m=\u001b[0m \u001b[0mProtocol\u001b[0m\u001b[0;34m(\u001b[0m\u001b[0;34m\"1.0\"\u001b[0m\u001b[0;34m)\u001b[0m\u001b[0;34m.\u001b[0m\u001b[0mcreate\u001b[0m\u001b[0;34m(\u001b[0m\u001b[0;34m\"PATCH-DOC\"\u001b[0m\u001b[0;34m,\u001b[0m \u001b[0mevents\u001b[0m\u001b[0;34m)\u001b[0m\u001b[0;34m\u001b[0m\u001b[0m\n\u001b[0m\u001b[1;32m    255\u001b[0m \u001b[0;34m\u001b[0m\u001b[0m\n\u001b[1;32m    256\u001b[0m     \u001b[0mhandle\u001b[0m\u001b[0;34m.\u001b[0m\u001b[0mcomms\u001b[0m\u001b[0;34m.\u001b[0m\u001b[0msend\u001b[0m\u001b[0;34m(\u001b[0m\u001b[0mmsg\u001b[0m\u001b[0;34m.\u001b[0m\u001b[0mheader_json\u001b[0m\u001b[0;34m)\u001b[0m\u001b[0;34m\u001b[0m\u001b[0m\n",
      "\u001b[0;32m~/jupyter_notebook/env/lib/python3.6/site-packages/bokeh/protocol/__init__.py\u001b[0m in \u001b[0;36mcreate\u001b[0;34m(self, msgtype, *args, **kwargs)\u001b[0m\n\u001b[1;32m     44\u001b[0m         \u001b[0;32mif\u001b[0m \u001b[0mmsgtype\u001b[0m \u001b[0;32mnot\u001b[0m \u001b[0;32min\u001b[0m \u001b[0mself\u001b[0m\u001b[0;34m.\u001b[0m\u001b[0m_messages\u001b[0m\u001b[0;34m:\u001b[0m\u001b[0;34m\u001b[0m\u001b[0m\n\u001b[1;32m     45\u001b[0m             \u001b[0;32mraise\u001b[0m \u001b[0mProtocolError\u001b[0m\u001b[0;34m(\u001b[0m\u001b[0;34m\"Unknown message type %r for protocol version %s\"\u001b[0m \u001b[0;34m%\u001b[0m \u001b[0;34m(\u001b[0m\u001b[0mmsgtype\u001b[0m\u001b[0;34m,\u001b[0m \u001b[0mself\u001b[0m\u001b[0;34m.\u001b[0m\u001b[0m_version\u001b[0m\u001b[0;34m)\u001b[0m\u001b[0;34m)\u001b[0m\u001b[0;34m\u001b[0m\u001b[0m\n\u001b[0;32m---> 46\u001b[0;31m         \u001b[0;32mreturn\u001b[0m \u001b[0mself\u001b[0m\u001b[0;34m.\u001b[0m\u001b[0m_messages\u001b[0m\u001b[0;34m[\u001b[0m\u001b[0mmsgtype\u001b[0m\u001b[0;34m]\u001b[0m\u001b[0;34m.\u001b[0m\u001b[0mcreate\u001b[0m\u001b[0;34m(\u001b[0m\u001b[0;34m*\u001b[0m\u001b[0margs\u001b[0m\u001b[0;34m,\u001b[0m \u001b[0;34m**\u001b[0m\u001b[0mkwargs\u001b[0m\u001b[0;34m)\u001b[0m\u001b[0;34m\u001b[0m\u001b[0m\n\u001b[0m\u001b[1;32m     47\u001b[0m \u001b[0;34m\u001b[0m\u001b[0m\n\u001b[1;32m     48\u001b[0m     \u001b[0;32mdef\u001b[0m \u001b[0massemble\u001b[0m\u001b[0;34m(\u001b[0m\u001b[0mself\u001b[0m\u001b[0;34m,\u001b[0m \u001b[0mheader_json\u001b[0m\u001b[0;34m,\u001b[0m \u001b[0mmetadata_json\u001b[0m\u001b[0;34m,\u001b[0m \u001b[0mcontent_json\u001b[0m\u001b[0;34m)\u001b[0m\u001b[0;34m:\u001b[0m\u001b[0;34m\u001b[0m\u001b[0m\n",
      "\u001b[0;32m~/jupyter_notebook/env/lib/python3.6/site-packages/bokeh/protocol/messages/patch_doc.py\u001b[0m in \u001b[0;36mcreate\u001b[0;34m(cls, events, use_buffers, **metadata)\u001b[0m\n\u001b[1;32m     45\u001b[0m \u001b[0;34m\u001b[0m\u001b[0m\n\u001b[1;32m     46\u001b[0m         \u001b[0;32mif\u001b[0m \u001b[0;32mnot\u001b[0m \u001b[0mevents\u001b[0m\u001b[0;34m:\u001b[0m\u001b[0;34m\u001b[0m\u001b[0m\n\u001b[0;32m---> 47\u001b[0;31m             \u001b[0;32mraise\u001b[0m \u001b[0mValueError\u001b[0m\u001b[0;34m(\u001b[0m\u001b[0;34m\"PATCH-DOC message requires at least one event\"\u001b[0m\u001b[0;34m)\u001b[0m\u001b[0;34m\u001b[0m\u001b[0m\n\u001b[0m\u001b[1;32m     48\u001b[0m \u001b[0;34m\u001b[0m\u001b[0m\n\u001b[1;32m     49\u001b[0m         \u001b[0mdocs\u001b[0m \u001b[0;34m=\u001b[0m \u001b[0;34m{\u001b[0m \u001b[0mevent\u001b[0m\u001b[0;34m.\u001b[0m\u001b[0mdocument\u001b[0m \u001b[0;32mfor\u001b[0m \u001b[0mevent\u001b[0m \u001b[0;32min\u001b[0m \u001b[0mevents\u001b[0m \u001b[0;34m}\u001b[0m\u001b[0;34m\u001b[0m\u001b[0m\n",
      "\u001b[0;31mValueError\u001b[0m: PATCH-DOC message requires at least one event"
     ]
    }
   ],
   "source": [
    "t = show(p, notebook_handle=True)\n",
    "push_notebook(handle=t)"
   ]
  },
  {
   "cell_type": "code",
   "execution_count": 20,
   "metadata": {},
   "outputs": [
    {
     "data": {
      "text/html": [
       "\n",
       "<div class=\"bk-root\">\n",
       "    <div class=\"bk-plotdiv\" id=\"d6fa23ad-195b-42e5-8ae3-2f41e145a37b\"></div>\n",
       "</div>"
      ]
     },
     "metadata": {},
     "output_type": "display_data"
    },
    {
     "data": {
      "application/javascript": [
       "(function(root) {\n",
       "  function embed_document(root) {\n",
       "    var docs_json = {\"98cab204-5e3b-4745-bd4b-1355faf1b948\":{\"roots\":{\"references\":[{\"attributes\":{},\"id\":\"cb8304a3-3e73-45de-a133-16e0bf7c668a\",\"type\":\"WheelZoomTool\"},{\"attributes\":{},\"id\":\"818dace9-5e8b-41dc-8e86-0fd140b704e5\",\"type\":\"BasicTicker\"},{\"attributes\":{},\"id\":\"f7c96283-da7e-451c-914d-fa5ba72300ed\",\"type\":\"LinearScale\"},{\"attributes\":{\"active_drag\":\"auto\",\"active_inspect\":\"auto\",\"active_scroll\":\"auto\",\"active_tap\":\"auto\",\"tools\":[{\"id\":\"590de0b6-b458-4124-b6f0-4b6f6a15940c\",\"type\":\"PanTool\"},{\"id\":\"cb8304a3-3e73-45de-a133-16e0bf7c668a\",\"type\":\"WheelZoomTool\"},{\"id\":\"af2690e8-2fca-49dd-a98d-46ad8ffc50af\",\"type\":\"BoxZoomTool\"},{\"id\":\"e4e022ea-7daa-4d1d-b8e0-f9762eb319b8\",\"type\":\"SaveTool\"},{\"id\":\"4c39df77-bca4-4755-9936-cda6fb0de66f\",\"type\":\"ResetTool\"},{\"id\":\"59e86e9b-64b5-4e62-9909-f8f432a6a7e3\",\"type\":\"HelpTool\"}]},\"id\":\"e04c553f-1396-426f-9b00-de16efcfc0eb\",\"type\":\"Toolbar\"},{\"attributes\":{\"plot\":{\"id\":\"43eee1af-6e61-4220-bef5-21284e6e40f0\",\"subtype\":\"Figure\",\"type\":\"Plot\"},\"ticker\":{\"id\":\"818dace9-5e8b-41dc-8e86-0fd140b704e5\",\"type\":\"BasicTicker\"}},\"id\":\"73496f01-d213-44c6-b007-81c712a9f197\",\"type\":\"Grid\"},{\"attributes\":{},\"id\":\"9159c1f5-58ed-4669-970b-5ad922e1fb07\",\"type\":\"BasicTickFormatter\"},{\"attributes\":{\"below\":[{\"id\":\"484440ac-a1a2-4a4c-a415-929b0dbdcb68\",\"type\":\"LinearAxis\"}],\"left\":[{\"id\":\"34cb9242-ffc9-4087-9582-d44cbf3cb38f\",\"type\":\"LinearAxis\"}],\"plot_height\":200,\"plot_width\":200,\"renderers\":[{\"id\":\"484440ac-a1a2-4a4c-a415-929b0dbdcb68\",\"type\":\"LinearAxis\"},{\"id\":\"73496f01-d213-44c6-b007-81c712a9f197\",\"type\":\"Grid\"},{\"id\":\"34cb9242-ffc9-4087-9582-d44cbf3cb38f\",\"type\":\"LinearAxis\"},{\"id\":\"c991b1d2-916e-4673-a946-530010a8bd46\",\"type\":\"Grid\"},{\"id\":\"745d7cd0-d065-4125-abd8-35ffcb338058\",\"type\":\"BoxAnnotation\"},{\"id\":\"b4470ad9-cf9a-491e-920a-8438c6628052\",\"type\":\"GlyphRenderer\"}],\"title\":{\"id\":\"9b8daf5a-8cd9-4720-9103-ea8aae79cb86\",\"type\":\"Title\"},\"toolbar\":{\"id\":\"e04c553f-1396-426f-9b00-de16efcfc0eb\",\"type\":\"Toolbar\"},\"x_range\":{\"id\":\"fb249ca2-ae11-4079-9336-488759f8abdb\",\"type\":\"DataRange1d\"},\"x_scale\":{\"id\":\"08186d0d-5dae-4bba-b7b4-b912fbad4615\",\"type\":\"LinearScale\"},\"y_range\":{\"id\":\"3afb294f-1a1b-4c4f-a58d-bff9ae597c1f\",\"type\":\"DataRange1d\"},\"y_scale\":{\"id\":\"f7c96283-da7e-451c-914d-fa5ba72300ed\",\"type\":\"LinearScale\"}},\"id\":\"43eee1af-6e61-4220-bef5-21284e6e40f0\",\"subtype\":\"Figure\",\"type\":\"Plot\"},{\"attributes\":{\"data_source\":{\"id\":\"64c68ab4-f2a8-4383-bb54-7602336d237e\",\"type\":\"ColumnDataSource\"},\"glyph\":{\"id\":\"7532d936-6ed8-416e-be18-7a59059b3f77\",\"type\":\"Circle\"},\"hover_glyph\":null,\"muted_glyph\":null,\"nonselection_glyph\":{\"id\":\"66b6ad37-748e-462e-8dee-295ff5352941\",\"type\":\"Circle\"},\"selection_glyph\":null,\"view\":{\"id\":\"f6060a23-815f-4ed2-94c4-7a9b84a8c48e\",\"type\":\"CDSView\"}},\"id\":\"b4470ad9-cf9a-491e-920a-8438c6628052\",\"type\":\"GlyphRenderer\"},{\"attributes\":{\"formatter\":{\"id\":\"9159c1f5-58ed-4669-970b-5ad922e1fb07\",\"type\":\"BasicTickFormatter\"},\"plot\":{\"id\":\"43eee1af-6e61-4220-bef5-21284e6e40f0\",\"subtype\":\"Figure\",\"type\":\"Plot\"},\"ticker\":{\"id\":\"818dace9-5e8b-41dc-8e86-0fd140b704e5\",\"type\":\"BasicTicker\"}},\"id\":\"484440ac-a1a2-4a4c-a415-929b0dbdcb68\",\"type\":\"LinearAxis\"},{\"attributes\":{\"fill_alpha\":{\"value\":0.1},\"fill_color\":{\"value\":\"#1f77b4\"},\"line_alpha\":{\"value\":0.1},\"line_color\":{\"value\":\"#1f77b4\"},\"size\":{\"units\":\"screen\",\"value\":20},\"x\":{\"value\":1},\"y\":{\"value\":1}},\"id\":\"66b6ad37-748e-462e-8dee-295ff5352941\",\"type\":\"Circle\"},{\"attributes\":{},\"id\":\"08186d0d-5dae-4bba-b7b4-b912fbad4615\",\"type\":\"LinearScale\"},{\"attributes\":{\"fill_color\":{\"value\":\"#1f77b4\"},\"line_color\":{\"value\":\"#1f77b4\"},\"size\":{\"units\":\"screen\",\"value\":20},\"x\":{\"value\":1},\"y\":{\"value\":1}},\"id\":\"7532d936-6ed8-416e-be18-7a59059b3f77\",\"type\":\"Circle\"},{\"attributes\":{},\"id\":\"e4e022ea-7daa-4d1d-b8e0-f9762eb319b8\",\"type\":\"SaveTool\"},{\"attributes\":{\"plot\":null,\"text\":\"\"},\"id\":\"9b8daf5a-8cd9-4720-9103-ea8aae79cb86\",\"type\":\"Title\"},{\"attributes\":{},\"id\":\"4c39df77-bca4-4755-9936-cda6fb0de66f\",\"type\":\"ResetTool\"},{\"attributes\":{\"callback\":null,\"data\":{}},\"id\":\"64c68ab4-f2a8-4383-bb54-7602336d237e\",\"type\":\"ColumnDataSource\"},{\"attributes\":{},\"id\":\"d2feb4a0-8697-4e1c-9ed4-ad2cb68d2acf\",\"type\":\"BasicTickFormatter\"},{\"attributes\":{\"formatter\":{\"id\":\"d2feb4a0-8697-4e1c-9ed4-ad2cb68d2acf\",\"type\":\"BasicTickFormatter\"},\"plot\":{\"id\":\"43eee1af-6e61-4220-bef5-21284e6e40f0\",\"subtype\":\"Figure\",\"type\":\"Plot\"},\"ticker\":{\"id\":\"20421ac7-ac90-4ff8-ad46-2de07edfe39a\",\"type\":\"BasicTicker\"}},\"id\":\"34cb9242-ffc9-4087-9582-d44cbf3cb38f\",\"type\":\"LinearAxis\"},{\"attributes\":{\"bottom_units\":\"screen\",\"fill_alpha\":{\"value\":0.5},\"fill_color\":{\"value\":\"lightgrey\"},\"left_units\":\"screen\",\"level\":\"overlay\",\"line_alpha\":{\"value\":1.0},\"line_color\":{\"value\":\"black\"},\"line_dash\":[4,4],\"line_width\":{\"value\":2},\"plot\":null,\"render_mode\":\"css\",\"right_units\":\"screen\",\"top_units\":\"screen\"},\"id\":\"745d7cd0-d065-4125-abd8-35ffcb338058\",\"type\":\"BoxAnnotation\"},{\"attributes\":{},\"id\":\"20421ac7-ac90-4ff8-ad46-2de07edfe39a\",\"type\":\"BasicTicker\"},{\"attributes\":{\"source\":{\"id\":\"64c68ab4-f2a8-4383-bb54-7602336d237e\",\"type\":\"ColumnDataSource\"}},\"id\":\"f6060a23-815f-4ed2-94c4-7a9b84a8c48e\",\"type\":\"CDSView\"},{\"attributes\":{\"callback\":null},\"id\":\"fb249ca2-ae11-4079-9336-488759f8abdb\",\"type\":\"DataRange1d\"},{\"attributes\":{},\"id\":\"590de0b6-b458-4124-b6f0-4b6f6a15940c\",\"type\":\"PanTool\"},{\"attributes\":{\"callback\":null},\"id\":\"3afb294f-1a1b-4c4f-a58d-bff9ae597c1f\",\"type\":\"DataRange1d\"},{\"attributes\":{},\"id\":\"59e86e9b-64b5-4e62-9909-f8f432a6a7e3\",\"type\":\"HelpTool\"},{\"attributes\":{\"dimension\":1,\"plot\":{\"id\":\"43eee1af-6e61-4220-bef5-21284e6e40f0\",\"subtype\":\"Figure\",\"type\":\"Plot\"},\"ticker\":{\"id\":\"20421ac7-ac90-4ff8-ad46-2de07edfe39a\",\"type\":\"BasicTicker\"}},\"id\":\"c991b1d2-916e-4673-a946-530010a8bd46\",\"type\":\"Grid\"},{\"attributes\":{\"overlay\":{\"id\":\"745d7cd0-d065-4125-abd8-35ffcb338058\",\"type\":\"BoxAnnotation\"}},\"id\":\"af2690e8-2fca-49dd-a98d-46ad8ffc50af\",\"type\":\"BoxZoomTool\"}],\"root_ids\":[\"43eee1af-6e61-4220-bef5-21284e6e40f0\"]},\"title\":\"Bokeh Application\",\"version\":\"0.12.10\"}};\n",
       "    var render_items = [{\"docid\":\"98cab204-5e3b-4745-bd4b-1355faf1b948\",\"elementid\":\"d6fa23ad-195b-42e5-8ae3-2f41e145a37b\",\"modelid\":\"43eee1af-6e61-4220-bef5-21284e6e40f0\",\"notebook_comms_target\":\"895d010d-ff60-4fe7-a329-d8c2905ca911\"}];\n",
       "\n",
       "    root.Bokeh.embed.embed_items(docs_json, render_items);\n",
       "  }\n",
       "\n",
       "  if (root.Bokeh !== undefined) {\n",
       "    embed_document(root);\n",
       "  } else {\n",
       "    var attempts = 0;\n",
       "    var timer = setInterval(function(root) {\n",
       "      if (root.Bokeh !== undefined) {\n",
       "        embed_document(root);\n",
       "        clearInterval(timer);\n",
       "      }\n",
       "      attempts++;\n",
       "      if (attempts > 100) {\n",
       "        console.log(\"Bokeh: ERROR: Unable to embed document because BokehJS library is missing\")\n",
       "        clearInterval(timer);\n",
       "      }\n",
       "    }, 10, root)\n",
       "  }\n",
       "})(window);"
      ],
      "application/vnd.bokehjs_exec.v0+json": ""
     },
     "metadata": {
      "application/vnd.bokehjs_exec.v0+json": {
       "id": "43eee1af-6e61-4220-bef5-21284e6e40f0"
      }
     },
     "output_type": "display_data"
    }
   ],
   "source": [
    "# Circle\n",
    "p1 = figure(plot_width=200, plot_height=200)\n",
    "r1 = p1.circle(1, 1, size=20)\n",
    "t1 = show(p1, notebook_handle=True)"
   ]
  },
  {
   "cell_type": "code",
   "execution_count": 21,
   "metadata": {},
   "outputs": [],
   "source": [
    "# 図形の塗りつぶし　色の変更\n",
    "r1.glyph.fill_color = 'red'\n",
    "push_notebook(handle=t1)"
   ]
  },
  {
   "cell_type": "code",
   "execution_count": 24,
   "metadata": {},
   "outputs": [
    {
     "data": {
      "text/html": [
       "\n",
       "<div class=\"bk-root\">\n",
       "    <div class=\"bk-plotdiv\" id=\"57042bde-23ec-4708-8093-6b7712022b86\"></div>\n",
       "</div>"
      ]
     },
     "metadata": {},
     "output_type": "display_data"
    },
    {
     "data": {
      "application/javascript": [
       "(function(root) {\n",
       "  function embed_document(root) {\n",
       "    var docs_json = {\"25d9daa7-884f-4dc8-a0c6-17b22b613abf\":{\"roots\":{\"references\":[{\"attributes\":{},\"id\":\"1bfe95d6-94e4-42d2-86cf-8e9ec9a88a14\",\"type\":\"SaveTool\"},{\"attributes\":{},\"id\":\"037239d5-5536-4913-a533-76256db3e08e\",\"type\":\"BasicTickFormatter\"},{\"attributes\":{\"overlay\":{\"id\":\"75370b46-6e16-49db-9eb1-9f181949fe14\",\"type\":\"BoxAnnotation\"}},\"id\":\"ffafdbc1-ca43-48cd-8b4c-d8867859903e\",\"type\":\"BoxZoomTool\"},{\"attributes\":{\"line_color\":{\"value\":\"#1f77b4\"},\"x\":{\"field\":\"x\"},\"y\":{\"field\":\"y\"}},\"id\":\"a6ff3ddd-4267-42a0-a06a-31a26f5d27ec\",\"type\":\"Line\"},{\"attributes\":{},\"id\":\"1e55c9da-ed90-43ac-a767-2ac5fb84c868\",\"type\":\"ResetTool\"},{\"attributes\":{\"line_alpha\":{\"value\":0.1},\"line_color\":{\"value\":\"#1f77b4\"},\"x\":{\"field\":\"x\"},\"y\":{\"field\":\"y\"}},\"id\":\"f3050ad4-51b4-4bf2-b1fd-fce19c993098\",\"type\":\"Line\"},{\"attributes\":{\"plot\":{\"id\":\"b83639fb-53b1-42fc-8506-dc82b44e2fc7\",\"subtype\":\"Figure\",\"type\":\"Plot\"},\"ticker\":{\"id\":\"157dcd83-6e40-40de-adf7-348ff8cc5509\",\"type\":\"BasicTicker\"}},\"id\":\"2d75241d-bd06-477c-afbc-b67db5d426bc\",\"type\":\"Grid\"},{\"attributes\":{},\"id\":\"33687c9d-8edf-43b1-a2a0-3b54e11e34d1\",\"type\":\"LinearScale\"},{\"attributes\":{\"plot\":null,\"text\":\"\"},\"id\":\"85182f77-5d04-46b1-8061-8a675134b766\",\"type\":\"Title\"},{\"attributes\":{\"bottom_units\":\"screen\",\"fill_alpha\":{\"value\":0.5},\"fill_color\":{\"value\":\"lightgrey\"},\"left_units\":\"screen\",\"level\":\"overlay\",\"line_alpha\":{\"value\":1.0},\"line_color\":{\"value\":\"black\"},\"line_dash\":[4,4],\"line_width\":{\"value\":2},\"plot\":null,\"render_mode\":\"css\",\"right_units\":\"screen\",\"top_units\":\"screen\"},\"id\":\"75370b46-6e16-49db-9eb1-9f181949fe14\",\"type\":\"BoxAnnotation\"},{\"attributes\":{},\"id\":\"81de6519-e41c-49fe-9dc9-bae727e78b01\",\"type\":\"WheelZoomTool\"},{\"attributes\":{},\"id\":\"5566c569-fd9c-4b9b-b9b6-6829cd16e36f\",\"type\":\"BasicTickFormatter\"},{\"attributes\":{},\"id\":\"61588edc-1ec5-41f6-92a9-801c620ba863\",\"type\":\"BasicTicker\"},{\"attributes\":{},\"id\":\"b9e3f7a4-6cc1-4274-a283-560cd1a55038\",\"type\":\"HelpTool\"},{\"attributes\":{\"data_source\":{\"id\":\"a8b32d22-7189-4650-b10f-0477445ef52d\",\"type\":\"ColumnDataSource\"},\"glyph\":{\"id\":\"a6ff3ddd-4267-42a0-a06a-31a26f5d27ec\",\"type\":\"Line\"},\"hover_glyph\":null,\"muted_glyph\":null,\"nonselection_glyph\":{\"id\":\"f3050ad4-51b4-4bf2-b1fd-fce19c993098\",\"type\":\"Line\"},\"selection_glyph\":null,\"view\":{\"id\":\"8b000793-d214-465f-925e-29cf14ef293e\",\"type\":\"CDSView\"}},\"id\":\"9c939347-744d-4689-bf5d-958446b1a0f1\",\"type\":\"GlyphRenderer\"},{\"attributes\":{\"callback\":null},\"id\":\"c8114a3c-cb77-4384-b096-70a1d92dcffb\",\"type\":\"DataRange1d\"},{\"attributes\":{},\"id\":\"ece2c8f7-0c55-4f5c-8de4-d6afa03c9f02\",\"type\":\"PanTool\"},{\"attributes\":{\"callback\":null},\"id\":\"c66cded4-ba93-472d-a8c3-430ab0c4a212\",\"type\":\"DataRange1d\"},{\"attributes\":{},\"id\":\"157dcd83-6e40-40de-adf7-348ff8cc5509\",\"type\":\"BasicTicker\"},{\"attributes\":{\"source\":{\"id\":\"a8b32d22-7189-4650-b10f-0477445ef52d\",\"type\":\"ColumnDataSource\"}},\"id\":\"8b000793-d214-465f-925e-29cf14ef293e\",\"type\":\"CDSView\"},{\"attributes\":{\"callback\":null,\"column_names\":[\"x\",\"y\"],\"data\":{\"x\":{\"__ndarray__\":\"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\",\"dtype\":\"float64\",\"shape\":[629]},\"y\":{\"__ndarray__\":\"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\",\"dtype\":\"float64\",\"shape\":[629]}}},\"id\":\"a8b32d22-7189-4650-b10f-0477445ef52d\",\"type\":\"ColumnDataSource\"},{\"attributes\":{\"dimension\":1,\"plot\":{\"id\":\"b83639fb-53b1-42fc-8506-dc82b44e2fc7\",\"subtype\":\"Figure\",\"type\":\"Plot\"},\"ticker\":{\"id\":\"61588edc-1ec5-41f6-92a9-801c620ba863\",\"type\":\"BasicTicker\"}},\"id\":\"9301c1e8-08b3-44b9-b301-35b4c0722d6a\",\"type\":\"Grid\"},{\"attributes\":{\"formatter\":{\"id\":\"037239d5-5536-4913-a533-76256db3e08e\",\"type\":\"BasicTickFormatter\"},\"plot\":{\"id\":\"b83639fb-53b1-42fc-8506-dc82b44e2fc7\",\"subtype\":\"Figure\",\"type\":\"Plot\"},\"ticker\":{\"id\":\"61588edc-1ec5-41f6-92a9-801c620ba863\",\"type\":\"BasicTicker\"}},\"id\":\"9c1fda38-1f51-4fb3-b1f3-20bf07b1927f\",\"type\":\"LinearAxis\"},{\"attributes\":{\"below\":[{\"id\":\"b96efe15-61b3-4a05-b00a-cb01c851d138\",\"type\":\"LinearAxis\"}],\"left\":[{\"id\":\"9c1fda38-1f51-4fb3-b1f3-20bf07b1927f\",\"type\":\"LinearAxis\"}],\"plot_height\":200,\"plot_width\":400,\"renderers\":[{\"id\":\"b96efe15-61b3-4a05-b00a-cb01c851d138\",\"type\":\"LinearAxis\"},{\"id\":\"2d75241d-bd06-477c-afbc-b67db5d426bc\",\"type\":\"Grid\"},{\"id\":\"9c1fda38-1f51-4fb3-b1f3-20bf07b1927f\",\"type\":\"LinearAxis\"},{\"id\":\"9301c1e8-08b3-44b9-b301-35b4c0722d6a\",\"type\":\"Grid\"},{\"id\":\"75370b46-6e16-49db-9eb1-9f181949fe14\",\"type\":\"BoxAnnotation\"},{\"id\":\"9c939347-744d-4689-bf5d-958446b1a0f1\",\"type\":\"GlyphRenderer\"}],\"title\":{\"id\":\"85182f77-5d04-46b1-8061-8a675134b766\",\"type\":\"Title\"},\"toolbar\":{\"id\":\"dc9dbf5d-0664-4ec0-b53c-d0742e5d8939\",\"type\":\"Toolbar\"},\"x_range\":{\"id\":\"c8114a3c-cb77-4384-b096-70a1d92dcffb\",\"type\":\"DataRange1d\"},\"x_scale\":{\"id\":\"45b5fca8-189c-42d7-a281-d42c27ef6e0a\",\"type\":\"LinearScale\"},\"y_range\":{\"id\":\"c66cded4-ba93-472d-a8c3-430ab0c4a212\",\"type\":\"DataRange1d\"},\"y_scale\":{\"id\":\"33687c9d-8edf-43b1-a2a0-3b54e11e34d1\",\"type\":\"LinearScale\"}},\"id\":\"b83639fb-53b1-42fc-8506-dc82b44e2fc7\",\"subtype\":\"Figure\",\"type\":\"Plot\"},{\"attributes\":{\"formatter\":{\"id\":\"5566c569-fd9c-4b9b-b9b6-6829cd16e36f\",\"type\":\"BasicTickFormatter\"},\"plot\":{\"id\":\"b83639fb-53b1-42fc-8506-dc82b44e2fc7\",\"subtype\":\"Figure\",\"type\":\"Plot\"},\"ticker\":{\"id\":\"157dcd83-6e40-40de-adf7-348ff8cc5509\",\"type\":\"BasicTicker\"}},\"id\":\"b96efe15-61b3-4a05-b00a-cb01c851d138\",\"type\":\"LinearAxis\"},{\"attributes\":{},\"id\":\"45b5fca8-189c-42d7-a281-d42c27ef6e0a\",\"type\":\"LinearScale\"},{\"attributes\":{\"active_drag\":\"auto\",\"active_inspect\":\"auto\",\"active_scroll\":\"auto\",\"active_tap\":\"auto\",\"tools\":[{\"id\":\"ece2c8f7-0c55-4f5c-8de4-d6afa03c9f02\",\"type\":\"PanTool\"},{\"id\":\"81de6519-e41c-49fe-9dc9-bae727e78b01\",\"type\":\"WheelZoomTool\"},{\"id\":\"ffafdbc1-ca43-48cd-8b4c-d8867859903e\",\"type\":\"BoxZoomTool\"},{\"id\":\"1bfe95d6-94e4-42d2-86cf-8e9ec9a88a14\",\"type\":\"SaveTool\"},{\"id\":\"1e55c9da-ed90-43ac-a767-2ac5fb84c868\",\"type\":\"ResetTool\"},{\"id\":\"b9e3f7a4-6cc1-4274-a283-560cd1a55038\",\"type\":\"HelpTool\"}]},\"id\":\"dc9dbf5d-0664-4ec0-b53c-d0742e5d8939\",\"type\":\"Toolbar\"}],\"root_ids\":[\"b83639fb-53b1-42fc-8506-dc82b44e2fc7\"]},\"title\":\"Bokeh Application\",\"version\":\"0.12.10\"}};\n",
       "    var render_items = [{\"docid\":\"25d9daa7-884f-4dc8-a0c6-17b22b613abf\",\"elementid\":\"57042bde-23ec-4708-8093-6b7712022b86\",\"modelid\":\"b83639fb-53b1-42fc-8506-dc82b44e2fc7\",\"notebook_comms_target\":\"ab1a94df-f1c1-4d7e-8980-bc8e31e272e6\"}];\n",
       "\n",
       "    root.Bokeh.embed.embed_items(docs_json, render_items);\n",
       "  }\n",
       "\n",
       "  if (root.Bokeh !== undefined) {\n",
       "    embed_document(root);\n",
       "  } else {\n",
       "    var attempts = 0;\n",
       "    var timer = setInterval(function(root) {\n",
       "      if (root.Bokeh !== undefined) {\n",
       "        embed_document(root);\n",
       "        clearInterval(timer);\n",
       "      }\n",
       "      attempts++;\n",
       "      if (attempts > 100) {\n",
       "        console.log(\"Bokeh: ERROR: Unable to embed document because BokehJS library is missing\")\n",
       "        clearInterval(timer);\n",
       "      }\n",
       "    }, 10, root)\n",
       "  }\n",
       "})(window);"
      ],
      "application/vnd.bokehjs_exec.v0+json": ""
     },
     "metadata": {
      "application/vnd.bokehjs_exec.v0+json": {
       "id": "b83639fb-53b1-42fc-8506-dc82b44e2fc7"
      }
     },
     "output_type": "display_data"
    }
   ],
   "source": [
    "from  numpy import arange, sin, pi\n",
    "\n",
    "def calc_sin(i):\n",
    "    return sin(x + i / 10.0)\n",
    "\n",
    "x = arange(0, 2 * pi, 0.01) # X値を作成\n",
    "p2 = figure(plot_width=400, plot_height=200)\n",
    "r2 = p2.line(x, calc_sin(0)) # 初期状態の描画\n",
    "t2 = show(p2, notebook_handle=True)\n",
    "\n",
    "for i in range(1, 200):\n",
    "    # data_sourceについてはColumnDataSourceクラスの解説を参照\n",
    "    r2.data_source.data = {'x':x, 'y': calc_sin(i)}\n",
    "    push_notebook(handle=t2)\n"
   ]
  },
  {
   "cell_type": "code",
   "execution_count": null,
   "metadata": {},
   "outputs": [],
   "source": []
  }
 ],
 "metadata": {
  "kernelspec": {
   "display_name": "Python 3",
   "language": "python",
   "name": "python3"
  },
  "language_info": {
   "codemirror_mode": {
    "name": "ipython",
    "version": 3
   },
   "file_extension": ".py",
   "mimetype": "text/x-python",
   "name": "python",
   "nbconvert_exporter": "python",
   "pygments_lexer": "ipython3",
   "version": "3.6.1"
  }
 },
 "nbformat": 4,
 "nbformat_minor": 2
}
