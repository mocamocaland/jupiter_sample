{
 "cells": [
  {
   "cell_type": "code",
   "execution_count": 1,
   "metadata": {},
   "outputs": [],
   "source": [
    "import os\n",
    "import pandas as pd"
   ]
  },
  {
   "cell_type": "code",
   "execution_count": 4,
   "metadata": {},
   "outputs": [
    {
     "data": {
      "text/html": [
       "<div>\n",
       "<style scoped>\n",
       "    .dataframe tbody tr th:only-of-type {\n",
       "        vertical-align: middle;\n",
       "    }\n",
       "\n",
       "    .dataframe tbody tr th {\n",
       "        vertical-align: top;\n",
       "    }\n",
       "\n",
       "    .dataframe thead th {\n",
       "        text-align: right;\n",
       "    }\n",
       "</style>\n",
       "<table border=\"1\" class=\"dataframe\">\n",
       "  <thead>\n",
       "    <tr style=\"text-align: right;\">\n",
       "      <th></th>\n",
       "      <th>TOEI ANIMATION</th>\n",
       "      <th>IG Port</th>\n",
       "    </tr>\n",
       "    <tr>\n",
       "      <th>Date</th>\n",
       "      <th></th>\n",
       "      <th></th>\n",
       "    </tr>\n",
       "  </thead>\n",
       "  <tbody>\n",
       "    <tr>\n",
       "      <th>2015-01-01</th>\n",
       "      <td>3356.86</td>\n",
       "      <td>1201.51</td>\n",
       "    </tr>\n",
       "    <tr>\n",
       "      <th>2015-01-02</th>\n",
       "      <td>3356.86</td>\n",
       "      <td>1201.51</td>\n",
       "    </tr>\n",
       "    <tr>\n",
       "      <th>2015-01-05</th>\n",
       "      <td>3396.12</td>\n",
       "      <td>1218.44</td>\n",
       "    </tr>\n",
       "    <tr>\n",
       "      <th>2015-01-06</th>\n",
       "      <td>3361.77</td>\n",
       "      <td>1201.51</td>\n",
       "    </tr>\n",
       "    <tr>\n",
       "      <th>2015-01-07</th>\n",
       "      <td>3297.97</td>\n",
       "      <td>1202.51</td>\n",
       "    </tr>\n",
       "  </tbody>\n",
       "</table>\n",
       "</div>"
      ],
      "text/plain": [
       "            TOEI ANIMATION  IG Port\n",
       "Date                               \n",
       "2015-01-01         3356.86  1201.51\n",
       "2015-01-02         3356.86  1201.51\n",
       "2015-01-05         3396.12  1218.44\n",
       "2015-01-06         3361.77  1201.51\n",
       "2015-01-07         3297.97  1202.51"
      ]
     },
     "execution_count": 4,
     "metadata": {},
     "output_type": "execute_result"
    }
   ],
   "source": [
    "base_url= 'http://raw.githubusercontent.com/practical-jupyter/sample-data/master/anime/'\n",
    "anime_stock_price_csv = os.path.join(base_url, 'anime_stock_price.csv')\n",
    "df = pd.read_csv(anime_stock_price_csv, index_col=0, parse_dates=['Date'])\n",
    "df.head()"
   ]
  },
  {
   "cell_type": "code",
   "execution_count": 5,
   "metadata": {},
   "outputs": [
    {
     "data": {
      "text/plain": [
       "Date\n",
       "2015-01-01         NaN\n",
       "2015-01-02    0.000000\n",
       "2015-01-05    0.011695\n",
       "2015-01-06   -0.010114\n",
       "2015-01-07   -0.018978\n",
       "                ...   \n",
       "2016-12-26    0.001725\n",
       "2016-12-27    0.010326\n",
       "2016-12-28    0.015333\n",
       "2016-12-29    0.013422\n",
       "2016-12-30    0.000000\n",
       "Name: TOEI ANIMATION, Length: 522, dtype: float64"
      ]
     },
     "execution_count": 5,
     "metadata": {},
     "output_type": "execute_result"
    }
   ],
   "source": [
    "pd.options.display.max_rows = 10 # pandasで表示する行数を設定\n",
    "\n",
    "pct_change = df['TOEI ANIMATION'].pct_change()\n",
    "pct_change"
   ]
  },
  {
   "cell_type": "code",
   "execution_count": 6,
   "metadata": {},
   "outputs": [
    {
     "data": {
      "text/plain": [
       "Date\n",
       "2015-01-01    1.000000\n",
       "2015-01-02    1.000000\n",
       "2015-01-05    1.011695\n",
       "2015-01-06    1.001463\n",
       "2015-01-07    0.982457\n",
       "                ...   \n",
       "2016-12-26    1.722833\n",
       "2016-12-27    1.740624\n",
       "2016-12-28    1.767312\n",
       "2016-12-29    1.791034\n",
       "2016-12-30    1.791034\n",
       "Name: TOEI ANIMATION, Length: 522, dtype: float64"
      ]
     },
     "execution_count": 6,
     "metadata": {},
     "output_type": "execute_result"
    }
   ],
   "source": [
    "#累積リターンの結果を見る\n",
    "cumulative_returns = (pct_change + 1).cumprod()\n",
    "cumulative_returns[0] = 1\n",
    "cumulative_returns"
   ]
  },
  {
   "cell_type": "code",
   "execution_count": 7,
   "metadata": {},
   "outputs": [
    {
     "data": {
      "text/plain": [
       "Date\n",
       "2015-01-01         NaN\n",
       "2015-01-02         NaN\n",
       "2015-01-05         NaN\n",
       "2015-01-06         NaN\n",
       "2015-01-07    3353.916\n",
       "                ...   \n",
       "2016-12-26    5793.260\n",
       "2016-12-27    5799.232\n",
       "2016-12-28    5821.132\n",
       "2016-12-29    5868.912\n",
       "2016-12-30    5916.692\n",
       "Name: TOEI ANIMATION, Length: 522, dtype: float64"
      ]
     },
     "execution_count": 7,
     "metadata": {},
     "output_type": "execute_result"
    }
   ],
   "source": [
    "#　移動平均の結果\n",
    "df['TOEI ANIMATION'].rolling(5).mean()"
   ]
  },
  {
   "cell_type": "code",
   "execution_count": 8,
   "metadata": {},
   "outputs": [
    {
     "data": {
      "text/plain": [
       "Date\n",
       "2015-01-01         NaN\n",
       "2015-01-02         NaN\n",
       "2015-01-05         NaN\n",
       "2015-01-06         NaN\n",
       "2015-01-07         NaN\n",
       "                ...   \n",
       "2016-12-26    0.158355\n",
       "2016-12-27    0.163235\n",
       "2016-12-28    0.170891\n",
       "2016-12-29    0.172681\n",
       "2016-12-30    0.151983\n",
       "Name: TOEI ANIMATION, Length: 522, dtype: float64"
      ]
     },
     "execution_count": 8,
     "metadata": {},
     "output_type": "execute_result"
    }
   ],
   "source": [
    "# 20日間のヒストリカルボラリティ＊　＊１年間の変動率\n",
    "import numpy as np\n",
    "\n",
    "def historical_volatility(x):\n",
    "    logreturns = np.diff(np.log(x)) # 対数収益率\n",
    "    return np.sqrt(365 * logreturns.var())\n",
    "\n",
    "df['TOEI ANIMATION'].rolling(20).apply(historical_volatility)"
   ]
  },
  {
   "cell_type": "code",
   "execution_count": 11,
   "metadata": {},
   "outputs": [
    {
     "data": {
      "text/plain": [
       "DatetimeIndex(['2017-01-01 00:00:00', '2017-01-01 01:00:00',\n",
       "               '2017-01-01 02:00:00', '2017-01-01 03:00:00',\n",
       "               '2017-01-01 04:00:00', '2017-01-01 05:00:00',\n",
       "               '2017-01-01 06:00:00', '2017-01-01 07:00:00',\n",
       "               '2017-01-01 08:00:00', '2017-01-01 09:00:00',\n",
       "               ...\n",
       "               '2017-01-31 15:00:00', '2017-01-31 16:00:00',\n",
       "               '2017-01-31 17:00:00', '2017-01-31 18:00:00',\n",
       "               '2017-01-31 19:00:00', '2017-01-31 20:00:00',\n",
       "               '2017-01-31 21:00:00', '2017-01-31 22:00:00',\n",
       "               '2017-01-31 23:00:00', '2017-02-01 00:00:00'],\n",
       "              dtype='datetime64[ns]', length=745, freq='H')"
      ]
     },
     "execution_count": 11,
     "metadata": {},
     "output_type": "execute_result"
    }
   ],
   "source": [
    "# 2017.1.1~2017.2.1までの期間について１時間の頻度でDatetimeIndexを作成\n",
    "ix = pd.date_range('2017-01', '2017-02', freq='1H')\n",
    "ix"
   ]
  },
  {
   "cell_type": "code",
   "execution_count": 13,
   "metadata": {},
   "outputs": [
    {
     "data": {
      "text/plain": [
       "2017-01-01 00:00:00      0\n",
       "2017-01-01 01:00:00      1\n",
       "2017-01-01 02:00:00      2\n",
       "2017-01-01 03:00:00      3\n",
       "2017-01-01 04:00:00      4\n",
       "                      ... \n",
       "2017-01-31 20:00:00    740\n",
       "2017-01-31 21:00:00    741\n",
       "2017-01-31 22:00:00    742\n",
       "2017-01-31 23:00:00    743\n",
       "2017-02-01 00:00:00    744\n",
       "Freq: H, Length: 745, dtype: int64"
      ]
     },
     "execution_count": 13,
     "metadata": {},
     "output_type": "execute_result"
    }
   ],
   "source": [
    "#DatetimeIndexを使用したSeries\n",
    "time_series = pd.Series(np.arange(len(ix)), index=ix)\n",
    "time_series"
   ]
  },
  {
   "cell_type": "code",
   "execution_count": 14,
   "metadata": {},
   "outputs": [
    {
     "data": {
      "text/plain": [
       "TOEI ANIMATION    5699.74\n",
       "IG Port            822.66\n",
       "Name: 2016-01-04 00:00:00, dtype: float64"
      ]
     },
     "execution_count": 14,
     "metadata": {},
     "output_type": "execute_result"
    }
   ],
   "source": [
    "# インデクサにdatetime型の値を指定\n",
    "from datetime import datetime\n",
    "df.loc[datetime(2016, 1, 4)]"
   ]
  },
  {
   "cell_type": "code",
   "execution_count": null,
   "metadata": {},
   "outputs": [],
   "source": [
    "# インデクサに日付形式の文字列を指定まる"
   ]
  }
 ],
 "metadata": {
  "kernelspec": {
   "display_name": "Python 3",
   "language": "python",
   "name": "python3"
  },
  "language_info": {
   "codemirror_mode": {
    "name": "ipython",
    "version": 3
   },
   "file_extension": ".py",
   "mimetype": "text/x-python",
   "name": "python",
   "nbconvert_exporter": "python",
   "pygments_lexer": "ipython3",
   "version": "3.6.3"
  }
 },
 "nbformat": 4,
 "nbformat_minor": 2
}
