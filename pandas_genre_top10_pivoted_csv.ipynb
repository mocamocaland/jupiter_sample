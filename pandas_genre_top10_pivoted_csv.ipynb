{
 "cells": [
  {
   "cell_type": "code",
   "execution_count": 2,
   "metadata": {},
   "outputs": [],
   "source": [
    "import os\n",
    "import pandas as pd"
   ]
  },
  {
   "cell_type": "code",
   "execution_count": 3,
   "metadata": {},
   "outputs": [],
   "source": [
    "base_url = 'https://raw.githubusercontent.com/practical-jupyter/sample-data/master/anime/'\n",
    "anime_genre_top10_pivoted_csv = os.path.join(base_url, 'anime_genre_top10_pivoted.csv')"
   ]
  },
  {
   "cell_type": "code",
   "execution_count": 4,
   "metadata": {},
   "outputs": [
    {
     "data": {
      "text/html": [
       "<div>\n",
       "<style>\n",
       "    .dataframe thead tr:only-child th {\n",
       "        text-align: right;\n",
       "    }\n",
       "\n",
       "    .dataframe thead th {\n",
       "        text-align: left;\n",
       "    }\n",
       "\n",
       "    .dataframe tbody tr th {\n",
       "        vertical-align: top;\n",
       "    }\n",
       "</style>\n",
       "<table border=\"1\" class=\"dataframe\">\n",
       "  <thead>\n",
       "    <tr style=\"text-align: right;\">\n",
       "      <th></th>\n",
       "      <th>genre</th>\n",
       "      <th>Movie</th>\n",
       "      <th>Music</th>\n",
       "      <th>ONA</th>\n",
       "      <th>OVA</th>\n",
       "      <th>Special</th>\n",
       "      <th>TV</th>\n",
       "    </tr>\n",
       "  </thead>\n",
       "  <tbody>\n",
       "    <tr>\n",
       "      <th>0</th>\n",
       "      <td>Comedy</td>\n",
       "      <td>7293127.0</td>\n",
       "      <td>20860.0</td>\n",
       "      <td>1477266.0</td>\n",
       "      <td>5614758.0</td>\n",
       "      <td>6659293.0</td>\n",
       "      <td>65420862.0</td>\n",
       "    </tr>\n",
       "    <tr>\n",
       "      <th>1</th>\n",
       "      <td>Action</td>\n",
       "      <td>10224960.0</td>\n",
       "      <td>77054.0</td>\n",
       "      <td>524907.0</td>\n",
       "      <td>5793680.0</td>\n",
       "      <td>3412689.0</td>\n",
       "      <td>63364032.0</td>\n",
       "    </tr>\n",
       "    <tr>\n",
       "      <th>2</th>\n",
       "      <td>Drama</td>\n",
       "      <td>9034099.0</td>\n",
       "      <td>100734.0</td>\n",
       "      <td>188427.0</td>\n",
       "      <td>3043374.0</td>\n",
       "      <td>1915578.0</td>\n",
       "      <td>41011557.0</td>\n",
       "    </tr>\n",
       "    <tr>\n",
       "      <th>3</th>\n",
       "      <td>Romance</td>\n",
       "      <td>5245386.0</td>\n",
       "      <td>42811.0</td>\n",
       "      <td>411331.0</td>\n",
       "      <td>3143167.0</td>\n",
       "      <td>2015820.0</td>\n",
       "      <td>40703388.0</td>\n",
       "    </tr>\n",
       "    <tr>\n",
       "      <th>4</th>\n",
       "      <td>Supernatural</td>\n",
       "      <td>5452779.0</td>\n",
       "      <td>9189.0</td>\n",
       "      <td>192989.0</td>\n",
       "      <td>2696715.0</td>\n",
       "      <td>2336723.0</td>\n",
       "      <td>38956520.0</td>\n",
       "    </tr>\n",
       "  </tbody>\n",
       "</table>\n",
       "</div>"
      ],
      "text/plain": [
       "          genre       Movie     Music        ONA        OVA    Special  \\\n",
       "0        Comedy   7293127.0   20860.0  1477266.0  5614758.0  6659293.0   \n",
       "1        Action  10224960.0   77054.0   524907.0  5793680.0  3412689.0   \n",
       "2         Drama   9034099.0  100734.0   188427.0  3043374.0  1915578.0   \n",
       "3       Romance   5245386.0   42811.0   411331.0  3143167.0  2015820.0   \n",
       "4  Supernatural   5452779.0    9189.0   192989.0  2696715.0  2336723.0   \n",
       "\n",
       "           TV  \n",
       "0  65420862.0  \n",
       "1  63364032.0  \n",
       "2  41011557.0  \n",
       "3  40703388.0  \n",
       "4  38956520.0  "
      ]
     },
     "execution_count": 4,
     "metadata": {},
     "output_type": "execute_result"
    }
   ],
   "source": [
    "df = pd.read_csv(anime_genre_top10_pivoted_csv)\n",
    "df.head()"
   ]
  },
  {
   "cell_type": "code",
   "execution_count": null,
   "metadata": {},
   "outputs": [],
   "source": []
  }
 ],
 "metadata": {
  "kernelspec": {
   "display_name": "Python 3",
   "language": "python",
   "name": "python3"
  },
  "language_info": {
   "codemirror_mode": {
    "name": "ipython",
    "version": 3
   },
   "file_extension": ".py",
   "mimetype": "text/x-python",
   "name": "python",
   "nbconvert_exporter": "python",
   "pygments_lexer": "ipython3",
   "version": "3.6.1"
  }
 },
 "nbformat": 4,
 "nbformat_minor": 2
}
