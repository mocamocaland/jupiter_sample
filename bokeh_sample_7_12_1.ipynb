{
 "cells": [
  {
   "cell_type": "code",
   "execution_count": 3,
   "metadata": {},
   "outputs": [
    {
     "data": {
      "text/html": [
       "\n",
       "    <div class=\"bk-root\">\n",
       "        <a href=\"https://bokeh.pydata.org\" target=\"_blank\" class=\"bk-logo bk-logo-small bk-logo-notebook\"></a>\n",
       "        <span id=\"15a4fdb1-805a-4ee5-a3a7-8145114477ff\">Loading BokehJS ...</span>\n",
       "    </div>"
      ]
     },
     "metadata": {},
     "output_type": "display_data"
    },
    {
     "data": {
      "application/javascript": [
       "\n",
       "(function(root) {\n",
       "  function now() {\n",
       "    return new Date();\n",
       "  }\n",
       "\n",
       "  var force = true;\n",
       "\n",
       "  if (typeof (root._bokeh_onload_callbacks) === \"undefined\" || force === true) {\n",
       "    root._bokeh_onload_callbacks = [];\n",
       "    root._bokeh_is_loading = undefined;\n",
       "  }\n",
       "\n",
       "  var JS_MIME_TYPE = 'application/javascript';\n",
       "  var HTML_MIME_TYPE = 'text/html';\n",
       "  var EXEC_MIME_TYPE = 'application/vnd.bokehjs_exec.v0+json';\n",
       "  var CLASS_NAME = 'output_bokeh rendered_html';\n",
       "\n",
       "  /**\n",
       "   * Render data to the DOM node\n",
       "   */\n",
       "  function render(props, node) {\n",
       "    var script = document.createElement(\"script\");\n",
       "    node.appendChild(script);\n",
       "  }\n",
       "\n",
       "  /**\n",
       "   * Handle when an output is cleared or removed\n",
       "   */\n",
       "  function handleClearOutput(event, handle) {\n",
       "    var cell = handle.cell;\n",
       "\n",
       "    var id = cell.output_area._bokeh_element_id;\n",
       "    var server_id = cell.output_area._bokeh_server_id;\n",
       "    // Clean up Bokeh references\n",
       "    if (id !== undefined) {\n",
       "      Bokeh.index[id].model.document.clear();\n",
       "      delete Bokeh.index[id];\n",
       "    }\n",
       "\n",
       "    if (server_id !== undefined) {\n",
       "      // Clean up Bokeh references\n",
       "      var cmd = \"from bokeh.io.state import curstate; print(curstate().uuid_to_server['\" + server_id + \"'].get_sessions()[0].document.roots[0]._id)\";\n",
       "      cell.notebook.kernel.execute(cmd, {\n",
       "        iopub: {\n",
       "          output: function(msg) {\n",
       "            var element_id = msg.content.text.trim();\n",
       "            Bokeh.index[element_id].model.document.clear();\n",
       "            delete Bokeh.index[element_id];\n",
       "          }\n",
       "        }\n",
       "      });\n",
       "      // Destroy server and session\n",
       "      var cmd = \"import bokeh.io.notebook as ion; ion.destroy_server('\" + server_id + \"')\";\n",
       "      cell.notebook.kernel.execute(cmd);\n",
       "    }\n",
       "  }\n",
       "\n",
       "  /**\n",
       "   * Handle when a new output is added\n",
       "   */\n",
       "  function handleAddOutput(event, handle) {\n",
       "    var output_area = handle.output_area;\n",
       "    var output = handle.output;\n",
       "\n",
       "    // limit handleAddOutput to display_data with EXEC_MIME_TYPE content only\n",
       "    if ((output.output_type != \"display_data\") || (!output.data.hasOwnProperty(EXEC_MIME_TYPE))) {\n",
       "      return\n",
       "    }\n",
       "\n",
       "    var toinsert = output_area.element.find(`.${CLASS_NAME.split(' ')[0]}`);\n",
       "\n",
       "    if (output.metadata[EXEC_MIME_TYPE][\"id\"] !== undefined) {\n",
       "      toinsert[0].firstChild.textContent = output.data[JS_MIME_TYPE];\n",
       "      // store reference to embed id on output_area\n",
       "      output_area._bokeh_element_id = output.metadata[EXEC_MIME_TYPE][\"id\"];\n",
       "    }\n",
       "    if (output.metadata[EXEC_MIME_TYPE][\"server_id\"] !== undefined) {\n",
       "      var bk_div = document.createElement(\"div\");\n",
       "      bk_div.innerHTML = output.data[HTML_MIME_TYPE];\n",
       "      var script_attrs = bk_div.children[0].attributes;\n",
       "      for (var i = 0; i < script_attrs.length; i++) {\n",
       "        toinsert[0].firstChild.setAttribute(script_attrs[i].name, script_attrs[i].value);\n",
       "      }\n",
       "      // store reference to server id on output_area\n",
       "      output_area._bokeh_server_id = output.metadata[EXEC_MIME_TYPE][\"server_id\"];\n",
       "    }\n",
       "  }\n",
       "\n",
       "  function register_renderer(events, OutputArea) {\n",
       "\n",
       "    function append_mime(data, metadata, element) {\n",
       "      // create a DOM node to render to\n",
       "      var toinsert = this.create_output_subarea(\n",
       "        metadata,\n",
       "        CLASS_NAME,\n",
       "        EXEC_MIME_TYPE\n",
       "      );\n",
       "      this.keyboard_manager.register_events(toinsert);\n",
       "      // Render to node\n",
       "      var props = {data: data, metadata: metadata[EXEC_MIME_TYPE]};\n",
       "      render(props, toinsert[0]);\n",
       "      element.append(toinsert);\n",
       "      return toinsert\n",
       "    }\n",
       "\n",
       "    /* Handle when an output is cleared or removed */\n",
       "    events.on('clear_output.CodeCell', handleClearOutput);\n",
       "    events.on('delete.Cell', handleClearOutput);\n",
       "\n",
       "    /* Handle when a new output is added */\n",
       "    events.on('output_added.OutputArea', handleAddOutput);\n",
       "\n",
       "    /**\n",
       "     * Register the mime type and append_mime function with output_area\n",
       "     */\n",
       "    OutputArea.prototype.register_mime_type(EXEC_MIME_TYPE, append_mime, {\n",
       "      /* Is output safe? */\n",
       "      safe: true,\n",
       "      /* Index of renderer in `output_area.display_order` */\n",
       "      index: 0\n",
       "    });\n",
       "  }\n",
       "\n",
       "  // register the mime type if in Jupyter Notebook environment and previously unregistered\n",
       "  if (root.Jupyter !== undefined) {\n",
       "    var events = require('base/js/events');\n",
       "    var OutputArea = require('notebook/js/outputarea').OutputArea;\n",
       "\n",
       "    if (OutputArea.prototype.mime_types().indexOf(EXEC_MIME_TYPE) == -1) {\n",
       "      register_renderer(events, OutputArea);\n",
       "    }\n",
       "  }\n",
       "\n",
       "  \n",
       "  if (typeof (root._bokeh_timeout) === \"undefined\" || force === true) {\n",
       "    root._bokeh_timeout = Date.now() + 5000;\n",
       "    root._bokeh_failed_load = false;\n",
       "  }\n",
       "\n",
       "  var NB_LOAD_WARNING = {'data': {'text/html':\n",
       "     \"<div style='background-color: #fdd'>\\n\"+\n",
       "     \"<p>\\n\"+\n",
       "     \"BokehJS does not appear to have successfully loaded. If loading BokehJS from CDN, this \\n\"+\n",
       "     \"may be due to a slow or bad network connection. Possible fixes:\\n\"+\n",
       "     \"</p>\\n\"+\n",
       "     \"<ul>\\n\"+\n",
       "     \"<li>re-rerun `output_notebook()` to attempt to load from CDN again, or</li>\\n\"+\n",
       "     \"<li>use INLINE resources instead, as so:</li>\\n\"+\n",
       "     \"</ul>\\n\"+\n",
       "     \"<code>\\n\"+\n",
       "     \"from bokeh.resources import INLINE\\n\"+\n",
       "     \"output_notebook(resources=INLINE)\\n\"+\n",
       "     \"</code>\\n\"+\n",
       "     \"</div>\"}};\n",
       "\n",
       "  function display_loaded() {\n",
       "    var el = document.getElementById(\"15a4fdb1-805a-4ee5-a3a7-8145114477ff\");\n",
       "    if (el != null) {\n",
       "      el.textContent = \"BokehJS is loading...\";\n",
       "    }\n",
       "    if (root.Bokeh !== undefined) {\n",
       "      if (el != null) {\n",
       "        el.textContent = \"BokehJS \" + root.Bokeh.version + \" successfully loaded.\";\n",
       "      }\n",
       "    } else if (Date.now() < root._bokeh_timeout) {\n",
       "      setTimeout(display_loaded, 100)\n",
       "    }\n",
       "  }\n",
       "\n",
       "\n",
       "  function run_callbacks() {\n",
       "    try {\n",
       "      root._bokeh_onload_callbacks.forEach(function(callback) { callback() });\n",
       "    }\n",
       "    finally {\n",
       "      delete root._bokeh_onload_callbacks\n",
       "    }\n",
       "    console.info(\"Bokeh: all callbacks have finished\");\n",
       "  }\n",
       "\n",
       "  function load_libs(js_urls, callback) {\n",
       "    root._bokeh_onload_callbacks.push(callback);\n",
       "    if (root._bokeh_is_loading > 0) {\n",
       "      console.log(\"Bokeh: BokehJS is being loaded, scheduling callback at\", now());\n",
       "      return null;\n",
       "    }\n",
       "    if (js_urls == null || js_urls.length === 0) {\n",
       "      run_callbacks();\n",
       "      return null;\n",
       "    }\n",
       "    console.log(\"Bokeh: BokehJS not loaded, scheduling load and callback at\", now());\n",
       "    root._bokeh_is_loading = js_urls.length;\n",
       "    for (var i = 0; i < js_urls.length; i++) {\n",
       "      var url = js_urls[i];\n",
       "      var s = document.createElement('script');\n",
       "      s.src = url;\n",
       "      s.async = false;\n",
       "      s.onreadystatechange = s.onload = function() {\n",
       "        root._bokeh_is_loading--;\n",
       "        if (root._bokeh_is_loading === 0) {\n",
       "          console.log(\"Bokeh: all BokehJS libraries loaded\");\n",
       "          run_callbacks()\n",
       "        }\n",
       "      };\n",
       "      s.onerror = function() {\n",
       "        console.warn(\"failed to load library \" + url);\n",
       "      };\n",
       "      console.log(\"Bokeh: injecting script tag for BokehJS library: \", url);\n",
       "      document.getElementsByTagName(\"head\")[0].appendChild(s);\n",
       "    }\n",
       "  };var element = document.getElementById(\"15a4fdb1-805a-4ee5-a3a7-8145114477ff\");\n",
       "  if (element == null) {\n",
       "    console.log(\"Bokeh: ERROR: autoload.js configured with elementid '15a4fdb1-805a-4ee5-a3a7-8145114477ff' but no matching script tag was found. \")\n",
       "    return false;\n",
       "  }\n",
       "\n",
       "  var js_urls = [\"https://cdn.pydata.org/bokeh/release/bokeh-0.12.10.min.js\", \"https://cdn.pydata.org/bokeh/release/bokeh-widgets-0.12.10.min.js\", \"https://cdn.pydata.org/bokeh/release/bokeh-tables-0.12.10.min.js\", \"https://cdn.pydata.org/bokeh/release/bokeh-gl-0.12.10.min.js\"];\n",
       "\n",
       "  var inline_js = [\n",
       "    function(Bokeh) {\n",
       "      Bokeh.set_log_level(\"info\");\n",
       "    },\n",
       "    \n",
       "    function(Bokeh) {\n",
       "      \n",
       "    },\n",
       "    function(Bokeh) {\n",
       "      console.log(\"Bokeh: injecting CSS: https://cdn.pydata.org/bokeh/release/bokeh-0.12.10.min.css\");\n",
       "      Bokeh.embed.inject_css(\"https://cdn.pydata.org/bokeh/release/bokeh-0.12.10.min.css\");\n",
       "      console.log(\"Bokeh: injecting CSS: https://cdn.pydata.org/bokeh/release/bokeh-widgets-0.12.10.min.css\");\n",
       "      Bokeh.embed.inject_css(\"https://cdn.pydata.org/bokeh/release/bokeh-widgets-0.12.10.min.css\");\n",
       "      console.log(\"Bokeh: injecting CSS: https://cdn.pydata.org/bokeh/release/bokeh-tables-0.12.10.min.css\");\n",
       "      Bokeh.embed.inject_css(\"https://cdn.pydata.org/bokeh/release/bokeh-tables-0.12.10.min.css\");\n",
       "    }\n",
       "  ];\n",
       "\n",
       "  function run_inline_js() {\n",
       "    \n",
       "    if ((root.Bokeh !== undefined) || (force === true)) {\n",
       "      for (var i = 0; i < inline_js.length; i++) {\n",
       "        inline_js[i].call(root, root.Bokeh);\n",
       "      }if (force === true) {\n",
       "        display_loaded();\n",
       "      }} else if (Date.now() < root._bokeh_timeout) {\n",
       "      setTimeout(run_inline_js, 100);\n",
       "    } else if (!root._bokeh_failed_load) {\n",
       "      console.log(\"Bokeh: BokehJS failed to load within specified timeout.\");\n",
       "      root._bokeh_failed_load = true;\n",
       "    } else if (force !== true) {\n",
       "      var cell = $(document.getElementById(\"15a4fdb1-805a-4ee5-a3a7-8145114477ff\")).parents('.cell').data().cell;\n",
       "      cell.output_area.append_execute_result(NB_LOAD_WARNING)\n",
       "    }\n",
       "\n",
       "  }\n",
       "\n",
       "  if (root._bokeh_is_loading === 0) {\n",
       "    console.log(\"Bokeh: BokehJS loaded, going straight to plotting\");\n",
       "    run_inline_js();\n",
       "  } else {\n",
       "    load_libs(js_urls, function() {\n",
       "      console.log(\"Bokeh: BokehJS plotting callback run at\", now());\n",
       "      run_inline_js();\n",
       "    });\n",
       "  }\n",
       "}(window));"
      ],
      "application/vnd.bokehjs_load.v0+json": "\n(function(root) {\n  function now() {\n    return new Date();\n  }\n\n  var force = true;\n\n  if (typeof (root._bokeh_onload_callbacks) === \"undefined\" || force === true) {\n    root._bokeh_onload_callbacks = [];\n    root._bokeh_is_loading = undefined;\n  }\n\n  \n\n  \n  if (typeof (root._bokeh_timeout) === \"undefined\" || force === true) {\n    root._bokeh_timeout = Date.now() + 5000;\n    root._bokeh_failed_load = false;\n  }\n\n  var NB_LOAD_WARNING = {'data': {'text/html':\n     \"<div style='background-color: #fdd'>\\n\"+\n     \"<p>\\n\"+\n     \"BokehJS does not appear to have successfully loaded. If loading BokehJS from CDN, this \\n\"+\n     \"may be due to a slow or bad network connection. Possible fixes:\\n\"+\n     \"</p>\\n\"+\n     \"<ul>\\n\"+\n     \"<li>re-rerun `output_notebook()` to attempt to load from CDN again, or</li>\\n\"+\n     \"<li>use INLINE resources instead, as so:</li>\\n\"+\n     \"</ul>\\n\"+\n     \"<code>\\n\"+\n     \"from bokeh.resources import INLINE\\n\"+\n     \"output_notebook(resources=INLINE)\\n\"+\n     \"</code>\\n\"+\n     \"</div>\"}};\n\n  function display_loaded() {\n    var el = document.getElementById(\"15a4fdb1-805a-4ee5-a3a7-8145114477ff\");\n    if (el != null) {\n      el.textContent = \"BokehJS is loading...\";\n    }\n    if (root.Bokeh !== undefined) {\n      if (el != null) {\n        el.textContent = \"BokehJS \" + root.Bokeh.version + \" successfully loaded.\";\n      }\n    } else if (Date.now() < root._bokeh_timeout) {\n      setTimeout(display_loaded, 100)\n    }\n  }\n\n\n  function run_callbacks() {\n    try {\n      root._bokeh_onload_callbacks.forEach(function(callback) { callback() });\n    }\n    finally {\n      delete root._bokeh_onload_callbacks\n    }\n    console.info(\"Bokeh: all callbacks have finished\");\n  }\n\n  function load_libs(js_urls, callback) {\n    root._bokeh_onload_callbacks.push(callback);\n    if (root._bokeh_is_loading > 0) {\n      console.log(\"Bokeh: BokehJS is being loaded, scheduling callback at\", now());\n      return null;\n    }\n    if (js_urls == null || js_urls.length === 0) {\n      run_callbacks();\n      return null;\n    }\n    console.log(\"Bokeh: BokehJS not loaded, scheduling load and callback at\", now());\n    root._bokeh_is_loading = js_urls.length;\n    for (var i = 0; i < js_urls.length; i++) {\n      var url = js_urls[i];\n      var s = document.createElement('script');\n      s.src = url;\n      s.async = false;\n      s.onreadystatechange = s.onload = function() {\n        root._bokeh_is_loading--;\n        if (root._bokeh_is_loading === 0) {\n          console.log(\"Bokeh: all BokehJS libraries loaded\");\n          run_callbacks()\n        }\n      };\n      s.onerror = function() {\n        console.warn(\"failed to load library \" + url);\n      };\n      console.log(\"Bokeh: injecting script tag for BokehJS library: \", url);\n      document.getElementsByTagName(\"head\")[0].appendChild(s);\n    }\n  };var element = document.getElementById(\"15a4fdb1-805a-4ee5-a3a7-8145114477ff\");\n  if (element == null) {\n    console.log(\"Bokeh: ERROR: autoload.js configured with elementid '15a4fdb1-805a-4ee5-a3a7-8145114477ff' but no matching script tag was found. \")\n    return false;\n  }\n\n  var js_urls = [\"https://cdn.pydata.org/bokeh/release/bokeh-0.12.10.min.js\", \"https://cdn.pydata.org/bokeh/release/bokeh-widgets-0.12.10.min.js\", \"https://cdn.pydata.org/bokeh/release/bokeh-tables-0.12.10.min.js\", \"https://cdn.pydata.org/bokeh/release/bokeh-gl-0.12.10.min.js\"];\n\n  var inline_js = [\n    function(Bokeh) {\n      Bokeh.set_log_level(\"info\");\n    },\n    \n    function(Bokeh) {\n      \n    },\n    function(Bokeh) {\n      console.log(\"Bokeh: injecting CSS: https://cdn.pydata.org/bokeh/release/bokeh-0.12.10.min.css\");\n      Bokeh.embed.inject_css(\"https://cdn.pydata.org/bokeh/release/bokeh-0.12.10.min.css\");\n      console.log(\"Bokeh: injecting CSS: https://cdn.pydata.org/bokeh/release/bokeh-widgets-0.12.10.min.css\");\n      Bokeh.embed.inject_css(\"https://cdn.pydata.org/bokeh/release/bokeh-widgets-0.12.10.min.css\");\n      console.log(\"Bokeh: injecting CSS: https://cdn.pydata.org/bokeh/release/bokeh-tables-0.12.10.min.css\");\n      Bokeh.embed.inject_css(\"https://cdn.pydata.org/bokeh/release/bokeh-tables-0.12.10.min.css\");\n    }\n  ];\n\n  function run_inline_js() {\n    \n    if ((root.Bokeh !== undefined) || (force === true)) {\n      for (var i = 0; i < inline_js.length; i++) {\n        inline_js[i].call(root, root.Bokeh);\n      }if (force === true) {\n        display_loaded();\n      }} else if (Date.now() < root._bokeh_timeout) {\n      setTimeout(run_inline_js, 100);\n    } else if (!root._bokeh_failed_load) {\n      console.log(\"Bokeh: BokehJS failed to load within specified timeout.\");\n      root._bokeh_failed_load = true;\n    } else if (force !== true) {\n      var cell = $(document.getElementById(\"15a4fdb1-805a-4ee5-a3a7-8145114477ff\")).parents('.cell').data().cell;\n      cell.output_area.append_execute_result(NB_LOAD_WARNING)\n    }\n\n  }\n\n  if (root._bokeh_is_loading === 0) {\n    console.log(\"Bokeh: BokehJS loaded, going straight to plotting\");\n    run_inline_js();\n  } else {\n    load_libs(js_urls, function() {\n      console.log(\"Bokeh: BokehJS plotting callback run at\", now());\n      run_inline_js();\n    });\n  }\n}(window));"
     },
     "metadata": {},
     "output_type": "display_data"
    },
    {
     "name": "stderr",
     "output_type": "stream",
     "text": [
      "W-1001 (NO_DATA_RENDERERS): Plot has no data renderers: Figure(id='a731cb1a-c93e-4efe-a0b6-02328ac32c68', ...)\n",
      "W-1001 (NO_DATA_RENDERERS): Plot has no data renderers: Figure(id='a8354839-04ae-45bd-84ea-f8427bac2864', ...)\n"
     ]
    },
    {
     "data": {
      "text/html": [
       "\n",
       "<div class=\"bk-root\">\n",
       "    <div class=\"bk-plotdiv\" id=\"98b8fcf0-f64d-4d9f-8f1b-5a8f09171002\"></div>\n",
       "</div>"
      ]
     },
     "metadata": {},
     "output_type": "display_data"
    },
    {
     "data": {
      "application/javascript": [
       "(function(root) {\n",
       "  function embed_document(root) {\n",
       "    var docs_json = {\"852d070a-3c7c-4e3d-9c5c-133bafcedf33\":{\"roots\":{\"references\":[{\"attributes\":{\"active_drag\":\"auto\",\"active_inspect\":\"auto\",\"active_scroll\":\"auto\",\"active_tap\":\"auto\",\"tools\":[{\"id\":\"90e22c6a-ffd8-4f65-98fd-39f2f47fe921\",\"type\":\"PanTool\"},{\"id\":\"4d753603-66c8-440b-a797-51e09bfb9a22\",\"type\":\"WheelZoomTool\"},{\"id\":\"7421c79b-dbc7-47cd-861b-29c7d3c36552\",\"type\":\"BoxZoomTool\"},{\"id\":\"c149a7ad-1c12-4767-becb-07ac13b3204c\",\"type\":\"SaveTool\"},{\"id\":\"017bc669-d0f8-4431-b6f0-14c84d871856\",\"type\":\"ResetTool\"},{\"id\":\"9a87c5e0-050c-44b0-a24d-8f5048848918\",\"type\":\"HelpTool\"}]},\"id\":\"c04bf879-69d3-4150-8037-be1dfb19b796\",\"type\":\"Toolbar\"},{\"attributes\":{},\"id\":\"6512e829-6199-4bea-a18d-45013406cb06\",\"type\":\"BasicTicker\"},{\"attributes\":{\"callback\":null},\"id\":\"af9853a8-8af0-4d53-a8b8-94905c0c5f3d\",\"type\":\"DataRange1d\"},{\"attributes\":{\"formatter\":{\"id\":\"e01e7820-2c67-4e2d-b1d3-5a2a9293331d\",\"type\":\"BasicTickFormatter\"},\"plot\":{\"id\":\"a731cb1a-c93e-4efe-a0b6-02328ac32c68\",\"subtype\":\"Figure\",\"type\":\"Plot\"},\"ticker\":{\"id\":\"6512e829-6199-4bea-a18d-45013406cb06\",\"type\":\"BasicTicker\"}},\"id\":\"11027304-5516-4615-928f-b38c3e0461ac\",\"type\":\"LinearAxis\"},{\"attributes\":{\"callback\":null},\"id\":\"5b98c950-14bc-4c4a-9ec3-9e127c513eea\",\"type\":\"DataRange1d\"},{\"attributes\":{\"callback\":null},\"id\":\"79a23b98-e1b6-40c6-95d2-f3f4454a6683\",\"type\":\"DataRange1d\"},{\"attributes\":{},\"id\":\"bdeeb111-b48b-4155-a25f-db291ca52a53\",\"type\":\"LinearScale\"},{\"attributes\":{},\"id\":\"15699deb-3556-4fe8-af84-a5d5dc451ae8\",\"type\":\"LinearScale\"},{\"attributes\":{\"dimension\":1,\"plot\":{\"id\":\"a731cb1a-c93e-4efe-a0b6-02328ac32c68\",\"subtype\":\"Figure\",\"type\":\"Plot\"},\"ticker\":{\"id\":\"6512e829-6199-4bea-a18d-45013406cb06\",\"type\":\"BasicTicker\"}},\"id\":\"56948ef7-0bf7-4fd4-86ea-988c489667ca\",\"type\":\"Grid\"},{\"attributes\":{\"formatter\":{\"id\":\"361d62ad-5e76-4a6f-a49b-e428ac4c65c7\",\"type\":\"BasicTickFormatter\"},\"plot\":{\"id\":\"a731cb1a-c93e-4efe-a0b6-02328ac32c68\",\"subtype\":\"Figure\",\"type\":\"Plot\"},\"ticker\":{\"id\":\"af6503dc-7118-45f6-acaa-a733ba8e260c\",\"type\":\"BasicTicker\"}},\"id\":\"87e74b7f-12b1-4491-a9a0-49d89bd2eaa8\",\"type\":\"LinearAxis\"},{\"attributes\":{},\"id\":\"af6503dc-7118-45f6-acaa-a733ba8e260c\",\"type\":\"BasicTicker\"},{\"attributes\":{\"plot\":null,\"text\":\"\"},\"id\":\"1ca3bccd-b27f-4b13-b477-14ddface918e\",\"type\":\"Title\"},{\"attributes\":{\"active_drag\":\"auto\",\"active_inspect\":\"auto\",\"active_scroll\":\"auto\",\"active_tap\":\"auto\",\"tools\":[{\"id\":\"61f3e4ab-3b37-434c-9d4b-eeb63884c8e5\",\"type\":\"PanTool\"},{\"id\":\"65937adc-d2b1-46f0-b0c9-811a95ed865b\",\"type\":\"WheelZoomTool\"},{\"id\":\"7875cb0e-7842-4756-b35f-1deeec70caab\",\"type\":\"BoxZoomTool\"},{\"id\":\"c691eba6-ebfc-451c-ae7e-630fdb5e5485\",\"type\":\"SaveTool\"},{\"id\":\"af41d57c-c103-4912-8c97-14fc2933c1a0\",\"type\":\"ResetTool\"},{\"id\":\"1c5630fe-3dd6-46df-b65d-0194ccaf7021\",\"type\":\"HelpTool\"}]},\"id\":\"1d8b366a-2369-4e84-9e2b-10c845be0af4\",\"type\":\"Toolbar\"},{\"attributes\":{\"plot\":null,\"text\":\"\"},\"id\":\"0a5ce1a9-86b8-485a-a5f8-f1c089ad48f2\",\"type\":\"Title\"},{\"attributes\":{\"bottom_units\":\"screen\",\"fill_alpha\":{\"value\":0.5},\"fill_color\":{\"value\":\"lightgrey\"},\"left_units\":\"screen\",\"level\":\"overlay\",\"line_alpha\":{\"value\":1.0},\"line_color\":{\"value\":\"black\"},\"line_dash\":[4,4],\"line_width\":{\"value\":2},\"plot\":null,\"render_mode\":\"css\",\"right_units\":\"screen\",\"top_units\":\"screen\"},\"id\":\"6a7defb6-986b-4c24-bddf-8a707c36679b\",\"type\":\"BoxAnnotation\"},{\"attributes\":{},\"id\":\"90e22c6a-ffd8-4f65-98fd-39f2f47fe921\",\"type\":\"PanTool\"},{\"attributes\":{\"callback\":null},\"id\":\"04e9da6f-d7ee-4832-9134-a734f24e71e8\",\"type\":\"DataRange1d\"},{\"attributes\":{},\"id\":\"4d753603-66c8-440b-a797-51e09bfb9a22\",\"type\":\"WheelZoomTool\"},{\"attributes\":{\"overlay\":{\"id\":\"6a7defb6-986b-4c24-bddf-8a707c36679b\",\"type\":\"BoxAnnotation\"}},\"id\":\"7421c79b-dbc7-47cd-861b-29c7d3c36552\",\"type\":\"BoxZoomTool\"},{\"attributes\":{},\"id\":\"c149a7ad-1c12-4767-becb-07ac13b3204c\",\"type\":\"SaveTool\"},{\"attributes\":{},\"id\":\"017bc669-d0f8-4431-b6f0-14c84d871856\",\"type\":\"ResetTool\"},{\"attributes\":{},\"id\":\"9a87c5e0-050c-44b0-a24d-8f5048848918\",\"type\":\"HelpTool\"},{\"attributes\":{\"plot\":{\"id\":\"a8354839-04ae-45bd-84ea-f8427bac2864\",\"subtype\":\"Figure\",\"type\":\"Plot\"},\"ticker\":{\"id\":\"6c28fec3-180e-4b1f-a74f-fc447c4e0c3e\",\"type\":\"BasicTicker\"}},\"id\":\"5af3ba9d-450d-4785-8127-898dd552d13b\",\"type\":\"Grid\"},{\"attributes\":{},\"id\":\"cc4784e1-cac8-4f08-b537-9729ff4817df\",\"type\":\"LinearScale\"},{\"attributes\":{},\"id\":\"2855ad3f-0089-47eb-8085-cccd0f6ca978\",\"type\":\"LinearScale\"},{\"attributes\":{\"formatter\":{\"id\":\"6ce653f3-eb86-4f63-9820-e44f2f75a7f2\",\"type\":\"BasicTickFormatter\"},\"plot\":{\"id\":\"a8354839-04ae-45bd-84ea-f8427bac2864\",\"subtype\":\"Figure\",\"type\":\"Plot\"},\"ticker\":{\"id\":\"6c28fec3-180e-4b1f-a74f-fc447c4e0c3e\",\"type\":\"BasicTicker\"}},\"id\":\"354736be-8c68-4c5e-ae3d-f0ee889de149\",\"type\":\"LinearAxis\"},{\"attributes\":{},\"id\":\"b9f7c3bc-fa88-4c5b-a6ae-0b2ed354c6b6\",\"type\":\"BasicTickFormatter\"},{\"attributes\":{\"formatter\":{\"id\":\"b9f7c3bc-fa88-4c5b-a6ae-0b2ed354c6b6\",\"type\":\"BasicTickFormatter\"},\"plot\":{\"id\":\"a8354839-04ae-45bd-84ea-f8427bac2864\",\"subtype\":\"Figure\",\"type\":\"Plot\"},\"ticker\":{\"id\":\"df1ac839-f1c2-4718-9353-991ea93a2637\",\"type\":\"BasicTicker\"}},\"id\":\"08127c06-b7cf-497b-b129-2b521f7fcac6\",\"type\":\"LinearAxis\"},{\"attributes\":{},\"id\":\"6c28fec3-180e-4b1f-a74f-fc447c4e0c3e\",\"type\":\"BasicTicker\"},{\"attributes\":{\"dimension\":1,\"plot\":{\"id\":\"a8354839-04ae-45bd-84ea-f8427bac2864\",\"subtype\":\"Figure\",\"type\":\"Plot\"},\"ticker\":{\"id\":\"df1ac839-f1c2-4718-9353-991ea93a2637\",\"type\":\"BasicTicker\"}},\"id\":\"6cc4939c-4d09-43b5-939d-65cb5f8f376f\",\"type\":\"Grid\"},{\"attributes\":{},\"id\":\"df1ac839-f1c2-4718-9353-991ea93a2637\",\"type\":\"BasicTicker\"},{\"attributes\":{\"below\":[{\"id\":\"354736be-8c68-4c5e-ae3d-f0ee889de149\",\"type\":\"LinearAxis\"}],\"left\":[{\"id\":\"08127c06-b7cf-497b-b129-2b521f7fcac6\",\"type\":\"LinearAxis\"}],\"plot_height\":200,\"plot_width\":200,\"renderers\":[{\"id\":\"354736be-8c68-4c5e-ae3d-f0ee889de149\",\"type\":\"LinearAxis\"},{\"id\":\"5af3ba9d-450d-4785-8127-898dd552d13b\",\"type\":\"Grid\"},{\"id\":\"08127c06-b7cf-497b-b129-2b521f7fcac6\",\"type\":\"LinearAxis\"},{\"id\":\"6cc4939c-4d09-43b5-939d-65cb5f8f376f\",\"type\":\"Grid\"},{\"id\":\"be5bdc3c-a6cc-43d4-b6da-38894249b569\",\"type\":\"BoxAnnotation\"}],\"title\":{\"id\":\"1ca3bccd-b27f-4b13-b477-14ddface918e\",\"type\":\"Title\"},\"toolbar\":{\"id\":\"1d8b366a-2369-4e84-9e2b-10c845be0af4\",\"type\":\"Toolbar\"},\"x_range\":{\"id\":\"5b98c950-14bc-4c4a-9ec3-9e127c513eea\",\"type\":\"DataRange1d\"},\"x_scale\":{\"id\":\"cc4784e1-cac8-4f08-b537-9729ff4817df\",\"type\":\"LinearScale\"},\"y_range\":{\"id\":\"04e9da6f-d7ee-4832-9134-a734f24e71e8\",\"type\":\"DataRange1d\"},\"y_scale\":{\"id\":\"2855ad3f-0089-47eb-8085-cccd0f6ca978\",\"type\":\"LinearScale\"}},\"id\":\"a8354839-04ae-45bd-84ea-f8427bac2864\",\"subtype\":\"Figure\",\"type\":\"Plot\"},{\"attributes\":{\"children\":[{\"id\":\"a731cb1a-c93e-4efe-a0b6-02328ac32c68\",\"subtype\":\"Figure\",\"type\":\"Plot\"},{\"id\":\"a8354839-04ae-45bd-84ea-f8427bac2864\",\"subtype\":\"Figure\",\"type\":\"Plot\"}]},\"id\":\"ad0133fd-1c8d-4507-bc9a-413c3c0da254\",\"type\":\"Column\"},{\"attributes\":{\"bottom_units\":\"screen\",\"fill_alpha\":{\"value\":0.5},\"fill_color\":{\"value\":\"lightgrey\"},\"left_units\":\"screen\",\"level\":\"overlay\",\"line_alpha\":{\"value\":1.0},\"line_color\":{\"value\":\"black\"},\"line_dash\":[4,4],\"line_width\":{\"value\":2},\"plot\":null,\"render_mode\":\"css\",\"right_units\":\"screen\",\"top_units\":\"screen\"},\"id\":\"be5bdc3c-a6cc-43d4-b6da-38894249b569\",\"type\":\"BoxAnnotation\"},{\"attributes\":{\"below\":[{\"id\":\"87e74b7f-12b1-4491-a9a0-49d89bd2eaa8\",\"type\":\"LinearAxis\"}],\"left\":[{\"id\":\"11027304-5516-4615-928f-b38c3e0461ac\",\"type\":\"LinearAxis\"}],\"plot_height\":200,\"plot_width\":200,\"renderers\":[{\"id\":\"87e74b7f-12b1-4491-a9a0-49d89bd2eaa8\",\"type\":\"LinearAxis\"},{\"id\":\"bca7a552-d9d7-48f2-bb6f-0a37d92b21ab\",\"type\":\"Grid\"},{\"id\":\"11027304-5516-4615-928f-b38c3e0461ac\",\"type\":\"LinearAxis\"},{\"id\":\"56948ef7-0bf7-4fd4-86ea-988c489667ca\",\"type\":\"Grid\"},{\"id\":\"6a7defb6-986b-4c24-bddf-8a707c36679b\",\"type\":\"BoxAnnotation\"}],\"title\":{\"id\":\"0a5ce1a9-86b8-485a-a5f8-f1c089ad48f2\",\"type\":\"Title\"},\"toolbar\":{\"id\":\"c04bf879-69d3-4150-8037-be1dfb19b796\",\"type\":\"Toolbar\"},\"x_range\":{\"id\":\"af9853a8-8af0-4d53-a8b8-94905c0c5f3d\",\"type\":\"DataRange1d\"},\"x_scale\":{\"id\":\"bdeeb111-b48b-4155-a25f-db291ca52a53\",\"type\":\"LinearScale\"},\"y_range\":{\"id\":\"79a23b98-e1b6-40c6-95d2-f3f4454a6683\",\"type\":\"DataRange1d\"},\"y_scale\":{\"id\":\"15699deb-3556-4fe8-af84-a5d5dc451ae8\",\"type\":\"LinearScale\"}},\"id\":\"a731cb1a-c93e-4efe-a0b6-02328ac32c68\",\"subtype\":\"Figure\",\"type\":\"Plot\"},{\"attributes\":{},\"id\":\"61f3e4ab-3b37-434c-9d4b-eeb63884c8e5\",\"type\":\"PanTool\"},{\"attributes\":{},\"id\":\"65937adc-d2b1-46f0-b0c9-811a95ed865b\",\"type\":\"WheelZoomTool\"},{\"attributes\":{\"overlay\":{\"id\":\"be5bdc3c-a6cc-43d4-b6da-38894249b569\",\"type\":\"BoxAnnotation\"}},\"id\":\"7875cb0e-7842-4756-b35f-1deeec70caab\",\"type\":\"BoxZoomTool\"},{\"attributes\":{},\"id\":\"c691eba6-ebfc-451c-ae7e-630fdb5e5485\",\"type\":\"SaveTool\"},{\"attributes\":{},\"id\":\"af41d57c-c103-4912-8c97-14fc2933c1a0\",\"type\":\"ResetTool\"},{\"attributes\":{},\"id\":\"1c5630fe-3dd6-46df-b65d-0194ccaf7021\",\"type\":\"HelpTool\"},{\"attributes\":{},\"id\":\"e01e7820-2c67-4e2d-b1d3-5a2a9293331d\",\"type\":\"BasicTickFormatter\"},{\"attributes\":{},\"id\":\"361d62ad-5e76-4a6f-a49b-e428ac4c65c7\",\"type\":\"BasicTickFormatter\"},{\"attributes\":{\"plot\":{\"id\":\"a731cb1a-c93e-4efe-a0b6-02328ac32c68\",\"subtype\":\"Figure\",\"type\":\"Plot\"},\"ticker\":{\"id\":\"af6503dc-7118-45f6-acaa-a733ba8e260c\",\"type\":\"BasicTicker\"}},\"id\":\"bca7a552-d9d7-48f2-bb6f-0a37d92b21ab\",\"type\":\"Grid\"},{\"attributes\":{},\"id\":\"6ce653f3-eb86-4f63-9820-e44f2f75a7f2\",\"type\":\"BasicTickFormatter\"}],\"root_ids\":[\"ad0133fd-1c8d-4507-bc9a-413c3c0da254\"]},\"title\":\"Bokeh Application\",\"version\":\"0.12.10\"}};\n",
       "    var render_items = [{\"docid\":\"852d070a-3c7c-4e3d-9c5c-133bafcedf33\",\"elementid\":\"98b8fcf0-f64d-4d9f-8f1b-5a8f09171002\",\"modelid\":\"ad0133fd-1c8d-4507-bc9a-413c3c0da254\"}];\n",
       "\n",
       "    root.Bokeh.embed.embed_items(docs_json, render_items);\n",
       "  }\n",
       "\n",
       "  if (root.Bokeh !== undefined) {\n",
       "    embed_document(root);\n",
       "  } else {\n",
       "    var attempts = 0;\n",
       "    var timer = setInterval(function(root) {\n",
       "      if (root.Bokeh !== undefined) {\n",
       "        embed_document(root);\n",
       "        clearInterval(timer);\n",
       "      }\n",
       "      attempts++;\n",
       "      if (attempts > 100) {\n",
       "        console.log(\"Bokeh: ERROR: Unable to embed document because BokehJS library is missing\")\n",
       "        clearInterval(timer);\n",
       "      }\n",
       "    }, 10, root)\n",
       "  }\n",
       "})(window);"
      ],
      "application/vnd.bokehjs_exec.v0+json": ""
     },
     "metadata": {
      "application/vnd.bokehjs_exec.v0+json": {
       "id": "ad0133fd-1c8d-4507-bc9a-413c3c0da254"
      }
     },
     "output_type": "display_data"
    }
   ],
   "source": [
    "from bokeh.plotting import figure, output_notebook, show\n",
    "from bokeh.layouts import column\n",
    "\n",
    "output_notebook()\n",
    "\n",
    "# column()関数で縦に並べる\n",
    "p1 = figure(plot_width=200, plot_height=200)\n",
    "p2 = figure(plot_width=200, plot_height=200)\n",
    "\n",
    "show(column(p1, p2))"
   ]
  },
  {
   "cell_type": "code",
   "execution_count": 4,
   "metadata": {},
   "outputs": [
    {
     "name": "stderr",
     "output_type": "stream",
     "text": [
      "W-1001 (NO_DATA_RENDERERS): Plot has no data renderers: Figure(id='1207fc89-dd15-43a4-b05d-cf95ca0ed91f', ...)\n",
      "W-1001 (NO_DATA_RENDERERS): Plot has no data renderers: Figure(id='7edaf274-3d7f-417f-9517-0ae09a244c93', ...)\n"
     ]
    },
    {
     "data": {
      "text/html": [
       "\n",
       "<div class=\"bk-root\">\n",
       "    <div class=\"bk-plotdiv\" id=\"839c2e35-3f16-4e10-9507-25dc6a142bcb\"></div>\n",
       "</div>"
      ]
     },
     "metadata": {},
     "output_type": "display_data"
    },
    {
     "data": {
      "application/javascript": [
       "(function(root) {\n",
       "  function embed_document(root) {\n",
       "    var docs_json = {\"dcd849f7-1e6d-4ea0-be7e-6712203c851b\":{\"roots\":{\"references\":[{\"attributes\":{\"callback\":null},\"id\":\"4a9d40bc-bf8a-46f5-aa67-f0592701d7b9\",\"type\":\"DataRange1d\"},{\"attributes\":{},\"id\":\"c327f902-78d1-4b33-a1cd-d61329ae69e0\",\"type\":\"BasicTickFormatter\"},{\"attributes\":{},\"id\":\"fa4daed0-99cb-4e70-9cc9-670c91dc9bfe\",\"type\":\"BasicTickFormatter\"},{\"attributes\":{\"callback\":null},\"id\":\"e2886aa1-cb70-450e-938d-64f158835162\",\"type\":\"DataRange1d\"},{\"attributes\":{\"below\":[{\"id\":\"a78aac9a-82cf-452d-9755-70c43b62caa9\",\"type\":\"LinearAxis\"}],\"left\":[{\"id\":\"31719ef8-9e2f-4e67-96ae-c9ae8ff0bad5\",\"type\":\"LinearAxis\"}],\"plot_height\":200,\"plot_width\":200,\"renderers\":[{\"id\":\"a78aac9a-82cf-452d-9755-70c43b62caa9\",\"type\":\"LinearAxis\"},{\"id\":\"5c0c75d3-c976-4013-8e46-ff61a3c7eb37\",\"type\":\"Grid\"},{\"id\":\"31719ef8-9e2f-4e67-96ae-c9ae8ff0bad5\",\"type\":\"LinearAxis\"},{\"id\":\"63ac031c-7cc6-4bde-bb6c-0084c24be660\",\"type\":\"Grid\"},{\"id\":\"f79174b2-ea14-4d83-8eb6-ae9590197644\",\"type\":\"BoxAnnotation\"}],\"title\":{\"id\":\"18a0d4f1-45f5-4c9e-8db6-98c584b35bb1\",\"type\":\"Title\"},\"toolbar\":{\"id\":\"dc87a6f8-3909-40b6-bffb-cf84b257dbf9\",\"type\":\"Toolbar\"},\"x_range\":{\"id\":\"d1354c66-7f02-4b21-99c2-61aca91ffc4e\",\"type\":\"DataRange1d\"},\"x_scale\":{\"id\":\"dac21b21-324b-4139-9809-d25ea872418b\",\"type\":\"LinearScale\"},\"y_range\":{\"id\":\"d651c407-9bc5-4374-98b6-29d0c8501582\",\"type\":\"DataRange1d\"},\"y_scale\":{\"id\":\"c3ebf6dc-9b85-44cc-8855-d7a49c1c20e3\",\"type\":\"LinearScale\"}},\"id\":\"7edaf274-3d7f-417f-9517-0ae09a244c93\",\"subtype\":\"Figure\",\"type\":\"Plot\"},{\"attributes\":{},\"id\":\"7f9e46f7-e1fb-455f-9726-68643f87b05f\",\"type\":\"HelpTool\"},{\"attributes\":{\"children\":[{\"id\":\"1207fc89-dd15-43a4-b05d-cf95ca0ed91f\",\"subtype\":\"Figure\",\"type\":\"Plot\"},{\"id\":\"7edaf274-3d7f-417f-9517-0ae09a244c93\",\"subtype\":\"Figure\",\"type\":\"Plot\"}]},\"id\":\"a673a037-e178-4066-9e7a-6af273727b5f\",\"type\":\"Row\"},{\"attributes\":{},\"id\":\"696f1922-98d5-4188-8b80-e337d3a10acd\",\"type\":\"SaveTool\"},{\"attributes\":{},\"id\":\"7916691d-c449-4af8-9b2b-f6528dd007ca\",\"type\":\"PanTool\"},{\"attributes\":{\"callback\":null},\"id\":\"d651c407-9bc5-4374-98b6-29d0c8501582\",\"type\":\"DataRange1d\"},{\"attributes\":{},\"id\":\"d945ec7a-b340-439a-a6ac-2943db1889fd\",\"type\":\"ResetTool\"},{\"attributes\":{},\"id\":\"ebfb7d57-bcd9-41ec-b416-c277c5997bce\",\"type\":\"HelpTool\"},{\"attributes\":{\"overlay\":{\"id\":\"f79174b2-ea14-4d83-8eb6-ae9590197644\",\"type\":\"BoxAnnotation\"}},\"id\":\"0c3e0347-1137-466f-b2ce-67df6c1397b1\",\"type\":\"BoxZoomTool\"},{\"attributes\":{},\"id\":\"fb00dadb-09e6-4dbb-96cc-5339e6ca9cd7\",\"type\":\"WheelZoomTool\"},{\"attributes\":{\"bottom_units\":\"screen\",\"fill_alpha\":{\"value\":0.5},\"fill_color\":{\"value\":\"lightgrey\"},\"left_units\":\"screen\",\"level\":\"overlay\",\"line_alpha\":{\"value\":1.0},\"line_color\":{\"value\":\"black\"},\"line_dash\":[4,4],\"line_width\":{\"value\":2},\"plot\":null,\"render_mode\":\"css\",\"right_units\":\"screen\",\"top_units\":\"screen\"},\"id\":\"f79174b2-ea14-4d83-8eb6-ae9590197644\",\"type\":\"BoxAnnotation\"},{\"attributes\":{},\"id\":\"b914152c-b61f-4174-8e96-297cb9e84f8b\",\"type\":\"BasicTickFormatter\"},{\"attributes\":{\"plot\":null,\"text\":\"\"},\"id\":\"367ab546-df37-4aa3-b3e4-efb68cd01dbe\",\"type\":\"Title\"},{\"attributes\":{},\"id\":\"358bed8b-e29b-434b-8409-5de157603b56\",\"type\":\"BasicTicker\"},{\"attributes\":{},\"id\":\"6bc4b17a-cce1-4953-95d3-8336a20acab4\",\"type\":\"BasicTickFormatter\"},{\"attributes\":{\"dimension\":1,\"plot\":{\"id\":\"7edaf274-3d7f-417f-9517-0ae09a244c93\",\"subtype\":\"Figure\",\"type\":\"Plot\"},\"ticker\":{\"id\":\"358bed8b-e29b-434b-8409-5de157603b56\",\"type\":\"BasicTicker\"}},\"id\":\"63ac031c-7cc6-4bde-bb6c-0084c24be660\",\"type\":\"Grid\"},{\"attributes\":{\"formatter\":{\"id\":\"6bc4b17a-cce1-4953-95d3-8336a20acab4\",\"type\":\"BasicTickFormatter\"},\"plot\":{\"id\":\"7edaf274-3d7f-417f-9517-0ae09a244c93\",\"subtype\":\"Figure\",\"type\":\"Plot\"},\"ticker\":{\"id\":\"358bed8b-e29b-434b-8409-5de157603b56\",\"type\":\"BasicTicker\"}},\"id\":\"31719ef8-9e2f-4e67-96ae-c9ae8ff0bad5\",\"type\":\"LinearAxis\"},{\"attributes\":{\"formatter\":{\"id\":\"b914152c-b61f-4174-8e96-297cb9e84f8b\",\"type\":\"BasicTickFormatter\"},\"plot\":{\"id\":\"7edaf274-3d7f-417f-9517-0ae09a244c93\",\"subtype\":\"Figure\",\"type\":\"Plot\"},\"ticker\":{\"id\":\"3437af6f-4184-4f3f-ab54-00e4bbd88237\",\"type\":\"BasicTicker\"}},\"id\":\"a78aac9a-82cf-452d-9755-70c43b62caa9\",\"type\":\"LinearAxis\"},{\"attributes\":{},\"id\":\"3437af6f-4184-4f3f-ab54-00e4bbd88237\",\"type\":\"BasicTicker\"},{\"attributes\":{\"overlay\":{\"id\":\"120e979a-a8fb-4dfa-94ca-667db93f5df2\",\"type\":\"BoxAnnotation\"}},\"id\":\"0117b58e-1d03-4b8b-8ef6-ba7277f6f145\",\"type\":\"BoxZoomTool\"},{\"attributes\":{},\"id\":\"a22cb4c0-aad9-4b5d-82f7-2dde0320937e\",\"type\":\"LinearScale\"},{\"attributes\":{},\"id\":\"02779caa-3b09-4864-917c-4f3160f5218b\",\"type\":\"SaveTool\"},{\"attributes\":{\"plot\":{\"id\":\"7edaf274-3d7f-417f-9517-0ae09a244c93\",\"subtype\":\"Figure\",\"type\":\"Plot\"},\"ticker\":{\"id\":\"3437af6f-4184-4f3f-ab54-00e4bbd88237\",\"type\":\"BasicTicker\"}},\"id\":\"5c0c75d3-c976-4013-8e46-ff61a3c7eb37\",\"type\":\"Grid\"},{\"attributes\":{},\"id\":\"e201e271-d255-438c-b9e5-ae64cd135dca\",\"type\":\"ResetTool\"},{\"attributes\":{},\"id\":\"23290bf6-a269-4265-a90c-f4106f66b6c2\",\"type\":\"WheelZoomTool\"},{\"attributes\":{},\"id\":\"c3ebf6dc-9b85-44cc-8855-d7a49c1c20e3\",\"type\":\"LinearScale\"},{\"attributes\":{\"bottom_units\":\"screen\",\"fill_alpha\":{\"value\":0.5},\"fill_color\":{\"value\":\"lightgrey\"},\"left_units\":\"screen\",\"level\":\"overlay\",\"line_alpha\":{\"value\":1.0},\"line_color\":{\"value\":\"black\"},\"line_dash\":[4,4],\"line_width\":{\"value\":2},\"plot\":null,\"render_mode\":\"css\",\"right_units\":\"screen\",\"top_units\":\"screen\"},\"id\":\"120e979a-a8fb-4dfa-94ca-667db93f5df2\",\"type\":\"BoxAnnotation\"},{\"attributes\":{},\"id\":\"11057ffa-f130-4e4e-9809-c360a39e01f9\",\"type\":\"PanTool\"},{\"attributes\":{\"plot\":null,\"text\":\"\"},\"id\":\"18a0d4f1-45f5-4c9e-8db6-98c584b35bb1\",\"type\":\"Title\"},{\"attributes\":{\"dimension\":1,\"plot\":{\"id\":\"1207fc89-dd15-43a4-b05d-cf95ca0ed91f\",\"subtype\":\"Figure\",\"type\":\"Plot\"},\"ticker\":{\"id\":\"a08b276d-59b6-4717-b68f-747238f3e802\",\"type\":\"BasicTicker\"}},\"id\":\"ec57cfe7-f2ad-489a-bad6-ec76ec2a5e80\",\"type\":\"Grid\"},{\"attributes\":{\"plot\":{\"id\":\"1207fc89-dd15-43a4-b05d-cf95ca0ed91f\",\"subtype\":\"Figure\",\"type\":\"Plot\"},\"ticker\":{\"id\":\"efa1c2e6-1f5f-48a9-a602-304d8993001e\",\"type\":\"BasicTicker\"}},\"id\":\"f3dc739f-e774-424a-8ac7-bae90413ecd0\",\"type\":\"Grid\"},{\"attributes\":{},\"id\":\"dac21b21-324b-4139-9809-d25ea872418b\",\"type\":\"LinearScale\"},{\"attributes\":{\"callback\":null},\"id\":\"d1354c66-7f02-4b21-99c2-61aca91ffc4e\",\"type\":\"DataRange1d\"},{\"attributes\":{\"active_drag\":\"auto\",\"active_inspect\":\"auto\",\"active_scroll\":\"auto\",\"active_tap\":\"auto\",\"tools\":[{\"id\":\"7916691d-c449-4af8-9b2b-f6528dd007ca\",\"type\":\"PanTool\"},{\"id\":\"fb00dadb-09e6-4dbb-96cc-5339e6ca9cd7\",\"type\":\"WheelZoomTool\"},{\"id\":\"0c3e0347-1137-466f-b2ce-67df6c1397b1\",\"type\":\"BoxZoomTool\"},{\"id\":\"696f1922-98d5-4188-8b80-e337d3a10acd\",\"type\":\"SaveTool\"},{\"id\":\"d945ec7a-b340-439a-a6ac-2943db1889fd\",\"type\":\"ResetTool\"},{\"id\":\"7f9e46f7-e1fb-455f-9726-68643f87b05f\",\"type\":\"HelpTool\"}]},\"id\":\"dc87a6f8-3909-40b6-bffb-cf84b257dbf9\",\"type\":\"Toolbar\"},{\"attributes\":{\"formatter\":{\"id\":\"c327f902-78d1-4b33-a1cd-d61329ae69e0\",\"type\":\"BasicTickFormatter\"},\"plot\":{\"id\":\"1207fc89-dd15-43a4-b05d-cf95ca0ed91f\",\"subtype\":\"Figure\",\"type\":\"Plot\"},\"ticker\":{\"id\":\"a08b276d-59b6-4717-b68f-747238f3e802\",\"type\":\"BasicTicker\"}},\"id\":\"209aa6de-d9b2-4baf-94bb-e941f6588f39\",\"type\":\"LinearAxis\"},{\"attributes\":{},\"id\":\"a08b276d-59b6-4717-b68f-747238f3e802\",\"type\":\"BasicTicker\"},{\"attributes\":{\"formatter\":{\"id\":\"fa4daed0-99cb-4e70-9cc9-670c91dc9bfe\",\"type\":\"BasicTickFormatter\"},\"plot\":{\"id\":\"1207fc89-dd15-43a4-b05d-cf95ca0ed91f\",\"subtype\":\"Figure\",\"type\":\"Plot\"},\"ticker\":{\"id\":\"efa1c2e6-1f5f-48a9-a602-304d8993001e\",\"type\":\"BasicTicker\"}},\"id\":\"55a5b43f-9269-49dc-9da3-d892b94460d1\",\"type\":\"LinearAxis\"},{\"attributes\":{},\"id\":\"efa1c2e6-1f5f-48a9-a602-304d8993001e\",\"type\":\"BasicTicker\"},{\"attributes\":{\"below\":[{\"id\":\"55a5b43f-9269-49dc-9da3-d892b94460d1\",\"type\":\"LinearAxis\"}],\"left\":[{\"id\":\"209aa6de-d9b2-4baf-94bb-e941f6588f39\",\"type\":\"LinearAxis\"}],\"plot_height\":200,\"plot_width\":200,\"renderers\":[{\"id\":\"55a5b43f-9269-49dc-9da3-d892b94460d1\",\"type\":\"LinearAxis\"},{\"id\":\"f3dc739f-e774-424a-8ac7-bae90413ecd0\",\"type\":\"Grid\"},{\"id\":\"209aa6de-d9b2-4baf-94bb-e941f6588f39\",\"type\":\"LinearAxis\"},{\"id\":\"ec57cfe7-f2ad-489a-bad6-ec76ec2a5e80\",\"type\":\"Grid\"},{\"id\":\"120e979a-a8fb-4dfa-94ca-667db93f5df2\",\"type\":\"BoxAnnotation\"}],\"title\":{\"id\":\"367ab546-df37-4aa3-b3e4-efb68cd01dbe\",\"type\":\"Title\"},\"toolbar\":{\"id\":\"9480ee65-2527-4b87-a9bd-fc2deaaede41\",\"type\":\"Toolbar\"},\"x_range\":{\"id\":\"e2886aa1-cb70-450e-938d-64f158835162\",\"type\":\"DataRange1d\"},\"x_scale\":{\"id\":\"6d4f0266-5433-464c-a757-0636f39ef01a\",\"type\":\"LinearScale\"},\"y_range\":{\"id\":\"4a9d40bc-bf8a-46f5-aa67-f0592701d7b9\",\"type\":\"DataRange1d\"},\"y_scale\":{\"id\":\"a22cb4c0-aad9-4b5d-82f7-2dde0320937e\",\"type\":\"LinearScale\"}},\"id\":\"1207fc89-dd15-43a4-b05d-cf95ca0ed91f\",\"subtype\":\"Figure\",\"type\":\"Plot\"},{\"attributes\":{\"active_drag\":\"auto\",\"active_inspect\":\"auto\",\"active_scroll\":\"auto\",\"active_tap\":\"auto\",\"tools\":[{\"id\":\"11057ffa-f130-4e4e-9809-c360a39e01f9\",\"type\":\"PanTool\"},{\"id\":\"23290bf6-a269-4265-a90c-f4106f66b6c2\",\"type\":\"WheelZoomTool\"},{\"id\":\"0117b58e-1d03-4b8b-8ef6-ba7277f6f145\",\"type\":\"BoxZoomTool\"},{\"id\":\"02779caa-3b09-4864-917c-4f3160f5218b\",\"type\":\"SaveTool\"},{\"id\":\"e201e271-d255-438c-b9e5-ae64cd135dca\",\"type\":\"ResetTool\"},{\"id\":\"ebfb7d57-bcd9-41ec-b416-c277c5997bce\",\"type\":\"HelpTool\"}]},\"id\":\"9480ee65-2527-4b87-a9bd-fc2deaaede41\",\"type\":\"Toolbar\"},{\"attributes\":{},\"id\":\"6d4f0266-5433-464c-a757-0636f39ef01a\",\"type\":\"LinearScale\"}],\"root_ids\":[\"a673a037-e178-4066-9e7a-6af273727b5f\"]},\"title\":\"Bokeh Application\",\"version\":\"0.12.10\"}};\n",
       "    var render_items = [{\"docid\":\"dcd849f7-1e6d-4ea0-be7e-6712203c851b\",\"elementid\":\"839c2e35-3f16-4e10-9507-25dc6a142bcb\",\"modelid\":\"a673a037-e178-4066-9e7a-6af273727b5f\"}];\n",
       "\n",
       "    root.Bokeh.embed.embed_items(docs_json, render_items);\n",
       "  }\n",
       "\n",
       "  if (root.Bokeh !== undefined) {\n",
       "    embed_document(root);\n",
       "  } else {\n",
       "    var attempts = 0;\n",
       "    var timer = setInterval(function(root) {\n",
       "      if (root.Bokeh !== undefined) {\n",
       "        embed_document(root);\n",
       "        clearInterval(timer);\n",
       "      }\n",
       "      attempts++;\n",
       "      if (attempts > 100) {\n",
       "        console.log(\"Bokeh: ERROR: Unable to embed document because BokehJS library is missing\")\n",
       "        clearInterval(timer);\n",
       "      }\n",
       "    }, 10, root)\n",
       "  }\n",
       "})(window);"
      ],
      "application/vnd.bokehjs_exec.v0+json": ""
     },
     "metadata": {
      "application/vnd.bokehjs_exec.v0+json": {
       "id": "a673a037-e178-4066-9e7a-6af273727b5f"
      }
     },
     "output_type": "display_data"
    }
   ],
   "source": [
    "# row()関数で横に並べる\n",
    "from bokeh.layouts import row\n",
    "\n",
    "p1 = figure(plot_width=200, plot_height=200)\n",
    "p2 = figure(plot_width=200, plot_height=200)\n",
    "\n",
    "show(row(p1, p2))"
   ]
  },
  {
   "cell_type": "code",
   "execution_count": 5,
   "metadata": {},
   "outputs": [
    {
     "data": {
      "text/html": [
       "\n",
       "<div class=\"bk-root\">\n",
       "    <div class=\"bk-plotdiv\" id=\"0a83e5de-5905-4fb5-9e83-e8a804facdc6\"></div>\n",
       "</div>"
      ]
     },
     "metadata": {},
     "output_type": "display_data"
    },
    {
     "data": {
      "application/javascript": [
       "(function(root) {\n",
       "  function embed_document(root) {\n",
       "    var docs_json = {\"a96a9061-8d69-43da-8c12-7fa02a834430\":{\"roots\":{\"references\":[{\"attributes\":{\"fill_alpha\":{\"value\":0.1},\"fill_color\":{\"value\":\"#1f77b4\"},\"line_alpha\":{\"value\":0.1},\"line_color\":{\"value\":\"#1f77b4\"},\"size\":{\"units\":\"screen\",\"value\":50},\"x\":{\"field\":\"x\"},\"y\":{\"field\":\"y\"}},\"id\":\"bc1bdabb-d3eb-45ae-8f0f-4bb9990e7518\",\"type\":\"Circle\"},{\"attributes\":{},\"id\":\"28c2a9a7-4fd2-4a60-b623-f3424242f1b5\",\"type\":\"WheelZoomTool\"},{\"attributes\":{\"callback\":null},\"id\":\"e0ed2646-49e3-4ebc-bd32-cf724c2fe82e\",\"type\":\"DataRange1d\"},{\"attributes\":{},\"id\":\"92100bf6-d89a-4bd7-99e4-5c8fb9ccb721\",\"type\":\"SaveTool\"},{\"attributes\":{},\"id\":\"732b29af-89d5-44c4-a4b5-a7afbcd2d42a\",\"type\":\"HelpTool\"},{\"attributes\":{},\"id\":\"21cc0d0a-8e0e-4a25-b4cb-445b59d371ef\",\"type\":\"PanTool\"},{\"attributes\":{\"bottom_units\":\"screen\",\"fill_alpha\":{\"value\":0.5},\"fill_color\":{\"value\":\"lightgrey\"},\"left_units\":\"screen\",\"level\":\"overlay\",\"line_alpha\":{\"value\":1.0},\"line_color\":{\"value\":\"black\"},\"line_dash\":[4,4],\"line_width\":{\"value\":2},\"plot\":null,\"render_mode\":\"css\",\"right_units\":\"screen\",\"top_units\":\"screen\"},\"id\":\"8ecb5c8d-58f7-4d9d-988a-a71dcb8660e7\",\"type\":\"BoxAnnotation\"},{\"attributes\":{\"overlay\":{\"id\":\"8ecb5c8d-58f7-4d9d-988a-a71dcb8660e7\",\"type\":\"BoxAnnotation\"}},\"id\":\"e278825e-9e82-4912-a5fe-b3d762a21f0f\",\"type\":\"BoxZoomTool\"},{\"attributes\":{},\"id\":\"cea7521a-5085-4eb4-8ac9-8d03f1796562\",\"type\":\"ResetTool\"},{\"attributes\":{\"callback\":null},\"id\":\"1af00f27-e8a8-4754-9c93-cafda40f5f8e\",\"type\":\"DataRange1d\"},{\"attributes\":{\"data_source\":{\"id\":\"f6254d7d-b7bf-46ef-836a-352aa343fd5f\",\"type\":\"ColumnDataSource\"},\"glyph\":{\"id\":\"34f5f2f5-02f5-428d-912c-dbec7002cbb4\",\"type\":\"Circle\"},\"hover_glyph\":null,\"muted_glyph\":null,\"nonselection_glyph\":{\"id\":\"bc1bdabb-d3eb-45ae-8f0f-4bb9990e7518\",\"type\":\"Circle\"},\"selection_glyph\":null,\"view\":{\"id\":\"821b3c69-3032-441a-9de8-89c9e24a7aa3\",\"type\":\"CDSView\"}},\"id\":\"8f248ede-bc06-4092-92d7-e48947bcf84c\",\"type\":\"GlyphRenderer\"},{\"attributes\":{\"callback\":null,\"column_names\":[\"x\",\"y\"],\"data\":{\"x\":[0],\"y\":[0]}},\"id\":\"50b2ab9c-7ced-4984-903b-72eff64915a4\",\"type\":\"ColumnDataSource\"},{\"attributes\":{\"fill_alpha\":{\"value\":0.1},\"fill_color\":{\"value\":\"#1f77b4\"},\"line_alpha\":{\"value\":0.1},\"line_color\":{\"value\":\"#1f77b4\"},\"size\":{\"units\":\"screen\",\"value\":50},\"x\":{\"field\":\"x\"},\"y\":{\"field\":\"y\"}},\"id\":\"27e3db2d-49d4-45db-b713-3044319ce630\",\"type\":\"Square\"},{\"attributes\":{\"children\":[{\"id\":\"d7bd9546-b36e-469a-a3fe-062ccfef5c71\",\"subtype\":\"Figure\",\"type\":\"Plot\"},{\"id\":\"0e18a7d4-2342-4ebc-9468-cfb3967bb313\",\"subtype\":\"Figure\",\"type\":\"Plot\"}]},\"id\":\"7739d81c-67fe-4eff-8e0f-114080085b21\",\"type\":\"Row\"},{\"attributes\":{\"plot\":null,\"text\":\"\"},\"id\":\"45a890b3-9377-4049-932d-5bfe5b4df34d\",\"type\":\"Title\"},{\"attributes\":{\"data_source\":{\"id\":\"a8d94821-52fd-4600-aac9-73c4fb68fcb2\",\"type\":\"ColumnDataSource\"},\"glyph\":{\"id\":\"8b285f45-8b18-434f-bf11-9cc30402eb2e\",\"type\":\"Square\"},\"hover_glyph\":null,\"muted_glyph\":null,\"nonselection_glyph\":{\"id\":\"27e3db2d-49d4-45db-b713-3044319ce630\",\"type\":\"Square\"},\"selection_glyph\":null,\"view\":{\"id\":\"71905efe-02d4-4a56-ba10-30d10b18902f\",\"type\":\"CDSView\"}},\"id\":\"554a585c-9152-4c3a-88d9-926e906dac3e\",\"type\":\"GlyphRenderer\"},{\"attributes\":{},\"id\":\"a0be7ed6-ee04-45ad-83b3-9ac471d68ebd\",\"type\":\"LinearScale\"},{\"attributes\":{},\"id\":\"b956691b-60da-464b-8be3-c413e72b5100\",\"type\":\"BasicTickFormatter\"},{\"attributes\":{\"fill_color\":{\"value\":\"#1f77b4\"},\"line_color\":{\"value\":\"#1f77b4\"},\"size\":{\"units\":\"screen\",\"value\":50},\"x\":{\"field\":\"x\"},\"y\":{\"field\":\"y\"}},\"id\":\"8b285f45-8b18-434f-bf11-9cc30402eb2e\",\"type\":\"Square\"},{\"attributes\":{\"plot\":null,\"text\":\"\"},\"id\":\"2ba93179-07da-465f-a154-9b1c68b0a3d9\",\"type\":\"Title\"},{\"attributes\":{},\"id\":\"da5a82e3-24c1-4268-9dea-23c63e7f6943\",\"type\":\"BasicTickFormatter\"},{\"attributes\":{\"source\":{\"id\":\"a8d94821-52fd-4600-aac9-73c4fb68fcb2\",\"type\":\"ColumnDataSource\"}},\"id\":\"71905efe-02d4-4a56-ba10-30d10b18902f\",\"type\":\"CDSView\"},{\"attributes\":{\"children\":[{\"id\":\"7739d81c-67fe-4eff-8e0f-114080085b21\",\"type\":\"Row\"},{\"id\":\"6695dbfe-06db-481c-af09-5f54529c80e7\",\"type\":\"Row\"}]},\"id\":\"4f77be64-763f-43cf-9f33-20bbe7269d54\",\"type\":\"Column\"},{\"attributes\":{},\"id\":\"76dd90a1-0d73-4f76-bea3-af1c776b66bc\",\"type\":\"BasicTickFormatter\"},{\"attributes\":{\"fill_alpha\":{\"value\":0.1},\"fill_color\":{\"value\":\"#1f77b4\"},\"line_alpha\":{\"value\":0.1},\"line_color\":{\"value\":\"#1f77b4\"},\"size\":{\"units\":\"screen\",\"value\":50},\"x\":{\"field\":\"x\"},\"y\":{\"field\":\"y\"}},\"id\":\"469fa900-6143-4737-b693-529064b4d826\",\"type\":\"Triangle\"},{\"attributes\":{},\"id\":\"c2484cfc-0874-48a3-85a8-9343ae44c390\",\"type\":\"BasicTickFormatter\"},{\"attributes\":{\"data_source\":{\"id\":\"50b2ab9c-7ced-4984-903b-72eff64915a4\",\"type\":\"ColumnDataSource\"},\"glyph\":{\"id\":\"9c64a3ad-7457-46f4-84b8-78199b54da9b\",\"type\":\"Triangle\"},\"hover_glyph\":null,\"muted_glyph\":null,\"nonselection_glyph\":{\"id\":\"469fa900-6143-4737-b693-529064b4d826\",\"type\":\"Triangle\"},\"selection_glyph\":null,\"view\":{\"id\":\"8ec20240-64a6-42c9-a696-306b883c06a7\",\"type\":\"CDSView\"}},\"id\":\"d1e578e4-f82d-43b9-8d81-1e4b15b48ac7\",\"type\":\"GlyphRenderer\"},{\"attributes\":{},\"id\":\"8c5ab7c1-fbb2-43fe-8b26-2682bedc9e5c\",\"type\":\"BasicTickFormatter\"},{\"attributes\":{\"fill_color\":{\"value\":\"#1f77b4\"},\"line_color\":{\"value\":\"#1f77b4\"},\"size\":{\"units\":\"screen\",\"value\":50},\"x\":{\"field\":\"x\"},\"y\":{\"field\":\"y\"}},\"id\":\"9c64a3ad-7457-46f4-84b8-78199b54da9b\",\"type\":\"Triangle\"},{\"attributes\":{\"plot\":null,\"text\":\"\"},\"id\":\"a9e65498-d991-4e79-962c-029d4c4009ea\",\"type\":\"Title\"},{\"attributes\":{\"source\":{\"id\":\"50b2ab9c-7ced-4984-903b-72eff64915a4\",\"type\":\"ColumnDataSource\"}},\"id\":\"8ec20240-64a6-42c9-a696-306b883c06a7\",\"type\":\"CDSView\"},{\"attributes\":{\"children\":[{\"id\":\"dde8ece0-4a9d-4f89-88e1-99da9d116e47\",\"type\":\"Spacer\"},{\"id\":\"d5ee5ac7-4658-4b7b-8877-35498defc0a2\",\"subtype\":\"Figure\",\"type\":\"Plot\"}]},\"id\":\"6695dbfe-06db-481c-af09-5f54529c80e7\",\"type\":\"Row\"},{\"attributes\":{},\"id\":\"c5de60db-ca74-4465-bbb1-1c7eda936525\",\"type\":\"BasicTickFormatter\"},{\"attributes\":{\"children\":[{\"id\":\"bb61a16d-8f35-4f02-a52f-0f1335b799c0\",\"type\":\"ToolbarBox\"},{\"id\":\"4f77be64-763f-43cf-9f33-20bbe7269d54\",\"type\":\"Column\"}]},\"id\":\"c08aef50-c874-457c-bfe6-4388269d25e3\",\"type\":\"Column\"},{\"attributes\":{\"sizing_mode\":\"scale_width\",\"toolbar_location\":\"above\",\"tools\":[{\"id\":\"4f2f1c2b-ff62-4441-8581-2d4edf030d5c\",\"type\":\"PanTool\"},{\"id\":\"7250a33e-2e90-4aae-9a01-91ee766e205b\",\"type\":\"WheelZoomTool\"},{\"id\":\"0bdf815f-df66-430a-947f-c3f177995f39\",\"type\":\"BoxZoomTool\"},{\"id\":\"fffceeae-2153-46da-af53-b0d56faf4bd8\",\"type\":\"SaveTool\"},{\"id\":\"3ed8f398-e635-4a98-8c9e-51a80439cfe3\",\"type\":\"ResetTool\"},{\"id\":\"922c770b-cb1b-4ede-854a-f111724323c5\",\"type\":\"HelpTool\"},{\"id\":\"8d9ab185-ec21-4a1b-8bf0-255ba5b75b88\",\"type\":\"PanTool\"},{\"id\":\"816babb3-d56d-43f7-bd70-317b4e31d714\",\"type\":\"WheelZoomTool\"},{\"id\":\"fe5a8098-4ec2-46f7-9033-8f79d9c8b22a\",\"type\":\"BoxZoomTool\"},{\"id\":\"f8073b5c-c72e-4554-8c55-c8f8a28286f7\",\"type\":\"SaveTool\"},{\"id\":\"b025fada-e156-4b95-b905-11536a1c33e5\",\"type\":\"ResetTool\"},{\"id\":\"9adbd7fe-c835-4033-ac68-d8a50d41fa79\",\"type\":\"HelpTool\"},{\"id\":\"21cc0d0a-8e0e-4a25-b4cb-445b59d371ef\",\"type\":\"PanTool\"},{\"id\":\"28c2a9a7-4fd2-4a60-b623-f3424242f1b5\",\"type\":\"WheelZoomTool\"},{\"id\":\"e278825e-9e82-4912-a5fe-b3d762a21f0f\",\"type\":\"BoxZoomTool\"},{\"id\":\"92100bf6-d89a-4bd7-99e4-5c8fb9ccb721\",\"type\":\"SaveTool\"},{\"id\":\"cea7521a-5085-4eb4-8ac9-8d03f1796562\",\"type\":\"ResetTool\"},{\"id\":\"732b29af-89d5-44c4-a4b5-a7afbcd2d42a\",\"type\":\"HelpTool\"}]},\"id\":\"bb61a16d-8f35-4f02-a52f-0f1335b799c0\",\"type\":\"ToolbarBox\"},{\"attributes\":{\"height\":200,\"width\":200},\"id\":\"dde8ece0-4a9d-4f89-88e1-99da9d116e47\",\"type\":\"Spacer\"},{\"attributes\":{},\"id\":\"a6ab5343-cc1c-40b5-a740-37a17e0860a2\",\"type\":\"BasicTicker\"},{\"attributes\":{\"dimension\":1,\"plot\":{\"id\":\"d5ee5ac7-4658-4b7b-8877-35498defc0a2\",\"subtype\":\"Figure\",\"type\":\"Plot\"},\"ticker\":{\"id\":\"a6ab5343-cc1c-40b5-a740-37a17e0860a2\",\"type\":\"BasicTicker\"}},\"id\":\"a677290c-9a01-4353-be4b-c33f4e6878f0\",\"type\":\"Grid\"},{\"attributes\":{\"callback\":null,\"column_names\":[\"x\",\"y\"],\"data\":{\"x\":[0],\"y\":[0]}},\"id\":\"a8d94821-52fd-4600-aac9-73c4fb68fcb2\",\"type\":\"ColumnDataSource\"},{\"attributes\":{\"formatter\":{\"id\":\"8c5ab7c1-fbb2-43fe-8b26-2682bedc9e5c\",\"type\":\"BasicTickFormatter\"},\"plot\":{\"id\":\"d5ee5ac7-4658-4b7b-8877-35498defc0a2\",\"subtype\":\"Figure\",\"type\":\"Plot\"},\"ticker\":{\"id\":\"940ae687-04df-4150-bf12-eca17728056a\",\"type\":\"BasicTicker\"}},\"id\":\"38b9847b-4974-4ed9-8ae6-4e999a54ef48\",\"type\":\"LinearAxis\"},{\"attributes\":{},\"id\":\"940ae687-04df-4150-bf12-eca17728056a\",\"type\":\"BasicTicker\"},{\"attributes\":{},\"id\":\"f0c51e6b-bfc8-4834-bfe3-5a39bf7e3390\",\"type\":\"LinearScale\"},{\"attributes\":{},\"id\":\"f7a6decd-7c6f-4ad3-a5a4-55de721394f1\",\"type\":\"LinearScale\"},{\"attributes\":{},\"id\":\"9adbd7fe-c835-4033-ac68-d8a50d41fa79\",\"type\":\"HelpTool\"},{\"attributes\":{\"fill_color\":{\"value\":\"#1f77b4\"},\"line_color\":{\"value\":\"#1f77b4\"},\"size\":{\"units\":\"screen\",\"value\":50},\"x\":{\"field\":\"x\"},\"y\":{\"field\":\"y\"}},\"id\":\"34f5f2f5-02f5-428d-912c-dbec7002cbb4\",\"type\":\"Circle\"},{\"attributes\":{\"plot\":{\"id\":\"d5ee5ac7-4658-4b7b-8877-35498defc0a2\",\"subtype\":\"Figure\",\"type\":\"Plot\"},\"ticker\":{\"id\":\"940ae687-04df-4150-bf12-eca17728056a\",\"type\":\"BasicTicker\"}},\"id\":\"631220e6-48d0-49c5-974f-f2a562512c9e\",\"type\":\"Grid\"},{\"attributes\":{\"callback\":null,\"column_names\":[\"x\",\"y\"],\"data\":{\"x\":[0],\"y\":[0]}},\"id\":\"f6254d7d-b7bf-46ef-836a-352aa343fd5f\",\"type\":\"ColumnDataSource\"},{\"attributes\":{},\"id\":\"f8073b5c-c72e-4554-8c55-c8f8a28286f7\",\"type\":\"SaveTool\"},{\"attributes\":{},\"id\":\"b025fada-e156-4b95-b905-11536a1c33e5\",\"type\":\"ResetTool\"},{\"attributes\":{},\"id\":\"816babb3-d56d-43f7-bd70-317b4e31d714\",\"type\":\"WheelZoomTool\"},{\"attributes\":{\"overlay\":{\"id\":\"efecb806-08e1-4584-9c33-659652336d1d\",\"type\":\"BoxAnnotation\"}},\"id\":\"fe5a8098-4ec2-46f7-9033-8f79d9c8b22a\",\"type\":\"BoxZoomTool\"},{\"attributes\":{},\"id\":\"e511e454-0ea3-4eb2-80b3-18b4d9573272\",\"type\":\"LinearScale\"},{\"attributes\":{},\"id\":\"8d9ab185-ec21-4a1b-8bf0-255ba5b75b88\",\"type\":\"PanTool\"},{\"attributes\":{\"callback\":null},\"id\":\"8f03755c-2373-4df0-8472-e1c49845df86\",\"type\":\"DataRange1d\"},{\"attributes\":{\"bottom_units\":\"screen\",\"fill_alpha\":{\"value\":0.5},\"fill_color\":{\"value\":\"lightgrey\"},\"left_units\":\"screen\",\"level\":\"overlay\",\"line_alpha\":{\"value\":1.0},\"line_color\":{\"value\":\"black\"},\"line_dash\":[4,4],\"line_width\":{\"value\":2},\"plot\":null,\"render_mode\":\"css\",\"right_units\":\"screen\",\"top_units\":\"screen\"},\"id\":\"efecb806-08e1-4584-9c33-659652336d1d\",\"type\":\"BoxAnnotation\"},{\"attributes\":{\"callback\":null},\"id\":\"f1641fe6-f02b-42aa-96a0-bf551b8c34c1\",\"type\":\"DataRange1d\"},{\"attributes\":{},\"id\":\"fffceeae-2153-46da-af53-b0d56faf4bd8\",\"type\":\"SaveTool\"},{\"attributes\":{\"formatter\":{\"id\":\"c2484cfc-0874-48a3-85a8-9343ae44c390\",\"type\":\"BasicTickFormatter\"},\"plot\":{\"id\":\"0e18a7d4-2342-4ebc-9468-cfb3967bb313\",\"subtype\":\"Figure\",\"type\":\"Plot\"},\"ticker\":{\"id\":\"546b0a77-0e02-4da5-8115-1336edf23b46\",\"type\":\"BasicTicker\"}},\"id\":\"f9904cf7-8f73-42bb-be10-2161a7549e74\",\"type\":\"LinearAxis\"},{\"attributes\":{},\"id\":\"546b0a77-0e02-4da5-8115-1336edf23b46\",\"type\":\"BasicTicker\"},{\"attributes\":{},\"id\":\"9b5da717-59ef-4bea-af22-3be7a0fae18e\",\"type\":\"BasicTicker\"},{\"attributes\":{\"dimension\":1,\"plot\":{\"id\":\"0e18a7d4-2342-4ebc-9468-cfb3967bb313\",\"subtype\":\"Figure\",\"type\":\"Plot\"},\"ticker\":{\"id\":\"546b0a77-0e02-4da5-8115-1336edf23b46\",\"type\":\"BasicTicker\"}},\"id\":\"1c29b808-882f-495c-90a0-8492e9ea5ec9\",\"type\":\"Grid\"},{\"attributes\":{},\"id\":\"7bc17e88-a753-4c92-9fb5-0f17f57b7d71\",\"type\":\"LinearScale\"},{\"attributes\":{},\"id\":\"0f374c6d-00f9-4df7-8213-55c626ab967d\",\"type\":\"LinearScale\"},{\"attributes\":{\"formatter\":{\"id\":\"da5a82e3-24c1-4268-9dea-23c63e7f6943\",\"type\":\"BasicTickFormatter\"},\"plot\":{\"id\":\"0e18a7d4-2342-4ebc-9468-cfb3967bb313\",\"subtype\":\"Figure\",\"type\":\"Plot\"},\"ticker\":{\"id\":\"9b5da717-59ef-4bea-af22-3be7a0fae18e\",\"type\":\"BasicTicker\"}},\"id\":\"35f659d0-d6e1-40d0-bf4b-824e8b284406\",\"type\":\"LinearAxis\"},{\"attributes\":{\"source\":{\"id\":\"f6254d7d-b7bf-46ef-836a-352aa343fd5f\",\"type\":\"ColumnDataSource\"}},\"id\":\"821b3c69-3032-441a-9de8-89c9e24a7aa3\",\"type\":\"CDSView\"},{\"attributes\":{\"plot\":{\"id\":\"0e18a7d4-2342-4ebc-9468-cfb3967bb313\",\"subtype\":\"Figure\",\"type\":\"Plot\"},\"ticker\":{\"id\":\"9b5da717-59ef-4bea-af22-3be7a0fae18e\",\"type\":\"BasicTicker\"}},\"id\":\"652bb2b4-4a5f-4e31-9275-423f7f7009cf\",\"type\":\"Grid\"},{\"attributes\":{},\"id\":\"3ed8f398-e635-4a98-8c9e-51a80439cfe3\",\"type\":\"ResetTool\"},{\"attributes\":{},\"id\":\"922c770b-cb1b-4ede-854a-f111724323c5\",\"type\":\"HelpTool\"},{\"attributes\":{},\"id\":\"4f2f1c2b-ff62-4441-8581-2d4edf030d5c\",\"type\":\"PanTool\"},{\"attributes\":{\"callback\":null},\"id\":\"4406a517-8694-47ac-85fc-33be228d6cd4\",\"type\":\"DataRange1d\"},{\"attributes\":{\"overlay\":{\"id\":\"573f0397-1ece-43f3-89fd-110270b27b61\",\"type\":\"BoxAnnotation\"}},\"id\":\"0bdf815f-df66-430a-947f-c3f177995f39\",\"type\":\"BoxZoomTool\"},{\"attributes\":{},\"id\":\"7250a33e-2e90-4aae-9a01-91ee766e205b\",\"type\":\"WheelZoomTool\"},{\"attributes\":{\"bottom_units\":\"screen\",\"fill_alpha\":{\"value\":0.5},\"fill_color\":{\"value\":\"lightgrey\"},\"left_units\":\"screen\",\"level\":\"overlay\",\"line_alpha\":{\"value\":1.0},\"line_color\":{\"value\":\"black\"},\"line_dash\":[4,4],\"line_width\":{\"value\":2},\"plot\":null,\"render_mode\":\"css\",\"right_units\":\"screen\",\"top_units\":\"screen\"},\"id\":\"573f0397-1ece-43f3-89fd-110270b27b61\",\"type\":\"BoxAnnotation\"},{\"attributes\":{\"below\":[{\"id\":\"38b9847b-4974-4ed9-8ae6-4e999a54ef48\",\"type\":\"LinearAxis\"}],\"left\":[{\"id\":\"f43be6e3-6a20-40e1-91c8-f614da5aacfb\",\"type\":\"LinearAxis\"}],\"plot_height\":200,\"plot_width\":200,\"renderers\":[{\"id\":\"38b9847b-4974-4ed9-8ae6-4e999a54ef48\",\"type\":\"LinearAxis\"},{\"id\":\"631220e6-48d0-49c5-974f-f2a562512c9e\",\"type\":\"Grid\"},{\"id\":\"f43be6e3-6a20-40e1-91c8-f614da5aacfb\",\"type\":\"LinearAxis\"},{\"id\":\"a677290c-9a01-4353-be4b-c33f4e6878f0\",\"type\":\"Grid\"},{\"id\":\"8ecb5c8d-58f7-4d9d-988a-a71dcb8660e7\",\"type\":\"BoxAnnotation\"},{\"id\":\"d1e578e4-f82d-43b9-8d81-1e4b15b48ac7\",\"type\":\"GlyphRenderer\"}],\"title\":{\"id\":\"a9e65498-d991-4e79-962c-029d4c4009ea\",\"type\":\"Title\"},\"toolbar\":{\"id\":\"fead0629-270d-4d63-b8a3-e89900daf758\",\"type\":\"Toolbar\"},\"toolbar_location\":null,\"x_range\":{\"id\":\"f1641fe6-f02b-42aa-96a0-bf551b8c34c1\",\"type\":\"DataRange1d\"},\"x_scale\":{\"id\":\"f0c51e6b-bfc8-4834-bfe3-5a39bf7e3390\",\"type\":\"LinearScale\"},\"y_range\":{\"id\":\"8f03755c-2373-4df0-8472-e1c49845df86\",\"type\":\"DataRange1d\"},\"y_scale\":{\"id\":\"f7a6decd-7c6f-4ad3-a5a4-55de721394f1\",\"type\":\"LinearScale\"}},\"id\":\"d5ee5ac7-4658-4b7b-8877-35498defc0a2\",\"subtype\":\"Figure\",\"type\":\"Plot\"},{\"attributes\":{\"callback\":null},\"id\":\"c7118755-4dcb-4ebd-b19d-2479e194eae7\",\"type\":\"DataRange1d\"},{\"attributes\":{},\"id\":\"4770e644-baa0-427a-8bdf-a141283985a7\",\"type\":\"BasicTicker\"},{\"attributes\":{\"dimension\":1,\"plot\":{\"id\":\"d7bd9546-b36e-469a-a3fe-062ccfef5c71\",\"subtype\":\"Figure\",\"type\":\"Plot\"},\"ticker\":{\"id\":\"4770e644-baa0-427a-8bdf-a141283985a7\",\"type\":\"BasicTicker\"}},\"id\":\"7dba70e6-d666-434e-9253-55f98587ab39\",\"type\":\"Grid\"},{\"attributes\":{\"formatter\":{\"id\":\"b956691b-60da-464b-8be3-c413e72b5100\",\"type\":\"BasicTickFormatter\"},\"plot\":{\"id\":\"d7bd9546-b36e-469a-a3fe-062ccfef5c71\",\"subtype\":\"Figure\",\"type\":\"Plot\"},\"ticker\":{\"id\":\"4770e644-baa0-427a-8bdf-a141283985a7\",\"type\":\"BasicTicker\"}},\"id\":\"a399951b-db6d-4eab-b808-1cf35a74565e\",\"type\":\"LinearAxis\"},{\"attributes\":{\"active_drag\":\"auto\",\"active_inspect\":\"auto\",\"active_scroll\":\"auto\",\"active_tap\":\"auto\",\"tools\":[{\"id\":\"8d9ab185-ec21-4a1b-8bf0-255ba5b75b88\",\"type\":\"PanTool\"},{\"id\":\"816babb3-d56d-43f7-bd70-317b4e31d714\",\"type\":\"WheelZoomTool\"},{\"id\":\"fe5a8098-4ec2-46f7-9033-8f79d9c8b22a\",\"type\":\"BoxZoomTool\"},{\"id\":\"f8073b5c-c72e-4554-8c55-c8f8a28286f7\",\"type\":\"SaveTool\"},{\"id\":\"b025fada-e156-4b95-b905-11536a1c33e5\",\"type\":\"ResetTool\"},{\"id\":\"9adbd7fe-c835-4033-ac68-d8a50d41fa79\",\"type\":\"HelpTool\"}]},\"id\":\"ea2ba8e9-bcdc-4286-ab23-c029b7b89546\",\"type\":\"Toolbar\"},{\"attributes\":{},\"id\":\"8351d355-9593-4116-92fc-1acb6683a58e\",\"type\":\"BasicTicker\"},{\"attributes\":{\"plot\":{\"id\":\"d7bd9546-b36e-469a-a3fe-062ccfef5c71\",\"subtype\":\"Figure\",\"type\":\"Plot\"},\"ticker\":{\"id\":\"8351d355-9593-4116-92fc-1acb6683a58e\",\"type\":\"BasicTicker\"}},\"id\":\"23c5c025-9758-4b23-a093-6336ac38f633\",\"type\":\"Grid\"},{\"attributes\":{\"formatter\":{\"id\":\"c5de60db-ca74-4465-bbb1-1c7eda936525\",\"type\":\"BasicTickFormatter\"},\"plot\":{\"id\":\"d5ee5ac7-4658-4b7b-8877-35498defc0a2\",\"subtype\":\"Figure\",\"type\":\"Plot\"},\"ticker\":{\"id\":\"a6ab5343-cc1c-40b5-a740-37a17e0860a2\",\"type\":\"BasicTicker\"}},\"id\":\"f43be6e3-6a20-40e1-91c8-f614da5aacfb\",\"type\":\"LinearAxis\"},{\"attributes\":{\"below\":[{\"id\":\"35457d53-2067-42a7-ab10-186ae7503e02\",\"type\":\"LinearAxis\"}],\"left\":[{\"id\":\"a399951b-db6d-4eab-b808-1cf35a74565e\",\"type\":\"LinearAxis\"}],\"plot_height\":200,\"plot_width\":200,\"renderers\":[{\"id\":\"35457d53-2067-42a7-ab10-186ae7503e02\",\"type\":\"LinearAxis\"},{\"id\":\"23c5c025-9758-4b23-a093-6336ac38f633\",\"type\":\"Grid\"},{\"id\":\"a399951b-db6d-4eab-b808-1cf35a74565e\",\"type\":\"LinearAxis\"},{\"id\":\"7dba70e6-d666-434e-9253-55f98587ab39\",\"type\":\"Grid\"},{\"id\":\"573f0397-1ece-43f3-89fd-110270b27b61\",\"type\":\"BoxAnnotation\"},{\"id\":\"8f248ede-bc06-4092-92d7-e48947bcf84c\",\"type\":\"GlyphRenderer\"}],\"title\":{\"id\":\"2ba93179-07da-465f-a154-9b1c68b0a3d9\",\"type\":\"Title\"},\"toolbar\":{\"id\":\"7c0c001a-cf53-4e39-b3f8-7d799050af0a\",\"type\":\"Toolbar\"},\"toolbar_location\":null,\"x_range\":{\"id\":\"1af00f27-e8a8-4754-9c93-cafda40f5f8e\",\"type\":\"DataRange1d\"},\"x_scale\":{\"id\":\"e511e454-0ea3-4eb2-80b3-18b4d9573272\",\"type\":\"LinearScale\"},\"y_range\":{\"id\":\"e0ed2646-49e3-4ebc-bd32-cf724c2fe82e\",\"type\":\"DataRange1d\"},\"y_scale\":{\"id\":\"a0be7ed6-ee04-45ad-83b3-9ac471d68ebd\",\"type\":\"LinearScale\"}},\"id\":\"d7bd9546-b36e-469a-a3fe-062ccfef5c71\",\"subtype\":\"Figure\",\"type\":\"Plot\"},{\"attributes\":{\"below\":[{\"id\":\"35f659d0-d6e1-40d0-bf4b-824e8b284406\",\"type\":\"LinearAxis\"}],\"left\":[{\"id\":\"f9904cf7-8f73-42bb-be10-2161a7549e74\",\"type\":\"LinearAxis\"}],\"plot_height\":200,\"plot_width\":200,\"renderers\":[{\"id\":\"35f659d0-d6e1-40d0-bf4b-824e8b284406\",\"type\":\"LinearAxis\"},{\"id\":\"652bb2b4-4a5f-4e31-9275-423f7f7009cf\",\"type\":\"Grid\"},{\"id\":\"f9904cf7-8f73-42bb-be10-2161a7549e74\",\"type\":\"LinearAxis\"},{\"id\":\"1c29b808-882f-495c-90a0-8492e9ea5ec9\",\"type\":\"Grid\"},{\"id\":\"efecb806-08e1-4584-9c33-659652336d1d\",\"type\":\"BoxAnnotation\"},{\"id\":\"554a585c-9152-4c3a-88d9-926e906dac3e\",\"type\":\"GlyphRenderer\"}],\"title\":{\"id\":\"45a890b3-9377-4049-932d-5bfe5b4df34d\",\"type\":\"Title\"},\"toolbar\":{\"id\":\"ea2ba8e9-bcdc-4286-ab23-c029b7b89546\",\"type\":\"Toolbar\"},\"toolbar_location\":null,\"x_range\":{\"id\":\"c7118755-4dcb-4ebd-b19d-2479e194eae7\",\"type\":\"DataRange1d\"},\"x_scale\":{\"id\":\"7bc17e88-a753-4c92-9fb5-0f17f57b7d71\",\"type\":\"LinearScale\"},\"y_range\":{\"id\":\"4406a517-8694-47ac-85fc-33be228d6cd4\",\"type\":\"DataRange1d\"},\"y_scale\":{\"id\":\"0f374c6d-00f9-4df7-8213-55c626ab967d\",\"type\":\"LinearScale\"}},\"id\":\"0e18a7d4-2342-4ebc-9468-cfb3967bb313\",\"subtype\":\"Figure\",\"type\":\"Plot\"},{\"attributes\":{\"active_drag\":\"auto\",\"active_inspect\":\"auto\",\"active_scroll\":\"auto\",\"active_tap\":\"auto\",\"tools\":[{\"id\":\"4f2f1c2b-ff62-4441-8581-2d4edf030d5c\",\"type\":\"PanTool\"},{\"id\":\"7250a33e-2e90-4aae-9a01-91ee766e205b\",\"type\":\"WheelZoomTool\"},{\"id\":\"0bdf815f-df66-430a-947f-c3f177995f39\",\"type\":\"BoxZoomTool\"},{\"id\":\"fffceeae-2153-46da-af53-b0d56faf4bd8\",\"type\":\"SaveTool\"},{\"id\":\"3ed8f398-e635-4a98-8c9e-51a80439cfe3\",\"type\":\"ResetTool\"},{\"id\":\"922c770b-cb1b-4ede-854a-f111724323c5\",\"type\":\"HelpTool\"}]},\"id\":\"7c0c001a-cf53-4e39-b3f8-7d799050af0a\",\"type\":\"Toolbar\"},{\"attributes\":{\"formatter\":{\"id\":\"76dd90a1-0d73-4f76-bea3-af1c776b66bc\",\"type\":\"BasicTickFormatter\"},\"plot\":{\"id\":\"d7bd9546-b36e-469a-a3fe-062ccfef5c71\",\"subtype\":\"Figure\",\"type\":\"Plot\"},\"ticker\":{\"id\":\"8351d355-9593-4116-92fc-1acb6683a58e\",\"type\":\"BasicTicker\"}},\"id\":\"35457d53-2067-42a7-ab10-186ae7503e02\",\"type\":\"LinearAxis\"},{\"attributes\":{\"active_drag\":\"auto\",\"active_inspect\":\"auto\",\"active_scroll\":\"auto\",\"active_tap\":\"auto\",\"tools\":[{\"id\":\"21cc0d0a-8e0e-4a25-b4cb-445b59d371ef\",\"type\":\"PanTool\"},{\"id\":\"28c2a9a7-4fd2-4a60-b623-f3424242f1b5\",\"type\":\"WheelZoomTool\"},{\"id\":\"e278825e-9e82-4912-a5fe-b3d762a21f0f\",\"type\":\"BoxZoomTool\"},{\"id\":\"92100bf6-d89a-4bd7-99e4-5c8fb9ccb721\",\"type\":\"SaveTool\"},{\"id\":\"cea7521a-5085-4eb4-8ac9-8d03f1796562\",\"type\":\"ResetTool\"},{\"id\":\"732b29af-89d5-44c4-a4b5-a7afbcd2d42a\",\"type\":\"HelpTool\"}]},\"id\":\"fead0629-270d-4d63-b8a3-e89900daf758\",\"type\":\"Toolbar\"}],\"root_ids\":[\"c08aef50-c874-457c-bfe6-4388269d25e3\"]},\"title\":\"Bokeh Application\",\"version\":\"0.12.10\"}};\n",
       "    var render_items = [{\"docid\":\"a96a9061-8d69-43da-8c12-7fa02a834430\",\"elementid\":\"0a83e5de-5905-4fb5-9e83-e8a804facdc6\",\"modelid\":\"c08aef50-c874-457c-bfe6-4388269d25e3\"}];\n",
       "\n",
       "    root.Bokeh.embed.embed_items(docs_json, render_items);\n",
       "  }\n",
       "\n",
       "  if (root.Bokeh !== undefined) {\n",
       "    embed_document(root);\n",
       "  } else {\n",
       "    var attempts = 0;\n",
       "    var timer = setInterval(function(root) {\n",
       "      if (root.Bokeh !== undefined) {\n",
       "        embed_document(root);\n",
       "        clearInterval(timer);\n",
       "      }\n",
       "      attempts++;\n",
       "      if (attempts > 100) {\n",
       "        console.log(\"Bokeh: ERROR: Unable to embed document because BokehJS library is missing\")\n",
       "        clearInterval(timer);\n",
       "      }\n",
       "    }, 10, root)\n",
       "  }\n",
       "})(window);"
      ],
      "application/vnd.bokehjs_exec.v0+json": ""
     },
     "metadata": {
      "application/vnd.bokehjs_exec.v0+json": {
       "id": "c08aef50-c874-457c-bfe6-4388269d25e3"
      }
     },
     "output_type": "display_data"
    }
   ],
   "source": [
    "# gridplot()関数で並べる\n",
    "from bokeh.layouts import gridplot\n",
    "\n",
    "p1 = figure(plot_width=200, plot_height=200)\n",
    "p2 = figure(plot_width=200, plot_height=200)\n",
    "p3 = figure(plot_width=200, plot_height=200)\n",
    "\n",
    "p1.circle([0], [0], size=50)\n",
    "p2.square([0], [0], size=50)\n",
    "p3.triangle([0], [0], size=50)\n",
    "\n",
    "show(gridplot([[p1, p2], [None, p3]]))"
   ]
  },
  {
   "cell_type": "code",
   "execution_count": 6,
   "metadata": {},
   "outputs": [
    {
     "data": {
      "text/html": [
       "\n",
       "<div class=\"bk-root\">\n",
       "    <div class=\"bk-plotdiv\" id=\"1462ae6c-78fc-46b7-b18a-8b88c4ae8da3\"></div>\n",
       "</div>"
      ]
     },
     "metadata": {},
     "output_type": "display_data"
    },
    {
     "data": {
      "application/javascript": [
       "(function(root) {\n",
       "  function embed_document(root) {\n",
       "    var docs_json = {\"bd184dbc-92b2-401f-9e3b-6fe36cf523f8\":{\"roots\":{\"references\":[{\"attributes\":{},\"id\":\"4adb4aef-c5a3-4724-a661-b80cec705f0b\",\"type\":\"PanTool\"},{\"attributes\":{\"callback\":null},\"id\":\"c3c77dba-b037-4dce-8333-f43613b0b6a2\",\"type\":\"DataRange1d\"},{\"attributes\":{\"formatter\":{\"id\":\"34df2b14-0a49-4b88-894c-1da63881bcf2\",\"type\":\"BasicTickFormatter\"},\"plot\":{\"id\":\"b1cb5a05-2079-4eb8-9efb-ab9def4611c4\",\"subtype\":\"Figure\",\"type\":\"Plot\"},\"ticker\":{\"id\":\"1e79f69c-a7c9-42b4-8e2c-febb2b96fbf9\",\"type\":\"BasicTicker\"}},\"id\":\"36ec2706-e58b-4e7f-9adb-8e5ca6a5f73e\",\"type\":\"LinearAxis\"},{\"attributes\":{\"active_drag\":\"auto\",\"active_inspect\":\"auto\",\"active_scroll\":\"auto\",\"active_tap\":\"auto\",\"tools\":[{\"id\":\"a83efb86-7849-43b9-b173-2b2ab2a52bbd\",\"type\":\"PanTool\"},{\"id\":\"3521d1a9-e703-47ef-9bb5-648b5de63c08\",\"type\":\"WheelZoomTool\"},{\"id\":\"8dab4302-57b5-4a4b-95ad-ec95497db29f\",\"type\":\"BoxZoomTool\"},{\"id\":\"8df08f16-be19-457b-b1fc-e1d9c9307cd4\",\"type\":\"SaveTool\"},{\"id\":\"e13a0bff-77e0-41ce-9bc5-012de9e4621e\",\"type\":\"ResetTool\"},{\"id\":\"220a5ee7-76d5-4573-ad0e-96763a235eda\",\"type\":\"HelpTool\"}]},\"id\":\"4894db96-df65-45e6-9fa3-0272f217bb07\",\"type\":\"Toolbar\"},{\"attributes\":{},\"id\":\"763bdf30-f06b-45da-a081-a4f3af5d92c4\",\"type\":\"LinearScale\"},{\"attributes\":{\"below\":[{\"id\":\"fbcbb93f-0f14-49c5-8599-8696f9f4316d\",\"type\":\"LinearAxis\"}],\"left\":[{\"id\":\"df9b89c2-da28-4895-82e3-3ae8a2ff3c42\",\"type\":\"LinearAxis\"}],\"plot_height\":200,\"plot_width\":200,\"renderers\":[{\"id\":\"fbcbb93f-0f14-49c5-8599-8696f9f4316d\",\"type\":\"LinearAxis\"},{\"id\":\"5d801c6c-2029-4018-b48f-34ed7b0e802c\",\"type\":\"Grid\"},{\"id\":\"df9b89c2-da28-4895-82e3-3ae8a2ff3c42\",\"type\":\"LinearAxis\"},{\"id\":\"c716a208-82e5-4cff-8059-b6d1632ea6e1\",\"type\":\"Grid\"},{\"id\":\"55a04d61-5f08-475f-9857-d35d13c3e003\",\"type\":\"BoxAnnotation\"},{\"id\":\"235eb48b-6b2b-45f6-93f7-a57a1957deeb\",\"type\":\"GlyphRenderer\"}],\"title\":{\"id\":\"a276a430-9909-45d7-abbc-18100cb2e227\",\"type\":\"Title\"},\"toolbar\":{\"id\":\"4894db96-df65-45e6-9fa3-0272f217bb07\",\"type\":\"Toolbar\"},\"toolbar_location\":null,\"x_range\":{\"id\":\"6dc45106-dfd3-4e99-b357-b8c90c4d6dfd\",\"type\":\"DataRange1d\"},\"x_scale\":{\"id\":\"763bdf30-f06b-45da-a081-a4f3af5d92c4\",\"type\":\"LinearScale\"},\"y_range\":{\"id\":\"c3c77dba-b037-4dce-8333-f43613b0b6a2\",\"type\":\"DataRange1d\"},\"y_scale\":{\"id\":\"1b0f9d8b-1e0e-48da-a830-542a7f8a3e35\",\"type\":\"LinearScale\"}},\"id\":\"3674d197-1c16-4e3f-8e9f-c0e2d8e68312\",\"subtype\":\"Figure\",\"type\":\"Plot\"},{\"attributes\":{},\"id\":\"906ce974-41d5-4663-9bf7-81214fb869c4\",\"type\":\"BasicTicker\"},{\"attributes\":{\"formatter\":{\"id\":\"ab84d7ae-ff8f-4ab2-8266-d4de082dfc7e\",\"type\":\"BasicTickFormatter\"},\"plot\":{\"id\":\"b1cb5a05-2079-4eb8-9efb-ab9def4611c4\",\"subtype\":\"Figure\",\"type\":\"Plot\"},\"ticker\":{\"id\":\"906ce974-41d5-4663-9bf7-81214fb869c4\",\"type\":\"BasicTicker\"}},\"id\":\"5f7a1bb5-2f35-4114-a081-c4e869cd11c6\",\"type\":\"LinearAxis\"},{\"attributes\":{\"callback\":null,\"column_names\":[\"x\",\"y\"],\"data\":{\"x\":[0],\"y\":[0]}},\"id\":\"27222dcc-c32d-455d-8006-a2a771daee97\",\"type\":\"ColumnDataSource\"},{\"attributes\":{\"dimension\":1,\"plot\":{\"id\":\"b1cb5a05-2079-4eb8-9efb-ab9def4611c4\",\"subtype\":\"Figure\",\"type\":\"Plot\"},\"ticker\":{\"id\":\"1e79f69c-a7c9-42b4-8e2c-febb2b96fbf9\",\"type\":\"BasicTicker\"}},\"id\":\"3289363e-b69b-4b53-9b6e-5080a20cc659\",\"type\":\"Grid\"},{\"attributes\":{\"callback\":null},\"id\":\"3e72798e-0327-4aeb-b514-b25d0c61cb0c\",\"type\":\"DataRange1d\"},{\"attributes\":{\"plot\":{\"id\":\"b1cb5a05-2079-4eb8-9efb-ab9def4611c4\",\"subtype\":\"Figure\",\"type\":\"Plot\"},\"ticker\":{\"id\":\"906ce974-41d5-4663-9bf7-81214fb869c4\",\"type\":\"BasicTicker\"}},\"id\":\"af16dde1-ef77-4173-8570-6d5b5562e189\",\"type\":\"Grid\"},{\"attributes\":{},\"id\":\"1e79f69c-a7c9-42b4-8e2c-febb2b96fbf9\",\"type\":\"BasicTicker\"},{\"attributes\":{\"callback\":null,\"column_names\":[\"x\",\"y\"],\"data\":{\"x\":[0],\"y\":[0]}},\"id\":\"85ff4ae7-0f32-41c7-bf5a-12001ff51a03\",\"type\":\"ColumnDataSource\"},{\"attributes\":{\"below\":[{\"id\":\"5f7a1bb5-2f35-4114-a081-c4e869cd11c6\",\"type\":\"LinearAxis\"}],\"left\":[{\"id\":\"36ec2706-e58b-4e7f-9adb-8e5ca6a5f73e\",\"type\":\"LinearAxis\"}],\"plot_height\":200,\"plot_width\":200,\"renderers\":[{\"id\":\"5f7a1bb5-2f35-4114-a081-c4e869cd11c6\",\"type\":\"LinearAxis\"},{\"id\":\"af16dde1-ef77-4173-8570-6d5b5562e189\",\"type\":\"Grid\"},{\"id\":\"36ec2706-e58b-4e7f-9adb-8e5ca6a5f73e\",\"type\":\"LinearAxis\"},{\"id\":\"3289363e-b69b-4b53-9b6e-5080a20cc659\",\"type\":\"Grid\"},{\"id\":\"280f8a9e-a961-4b6c-815c-6dbfccc5504f\",\"type\":\"BoxAnnotation\"},{\"id\":\"98e5dcf9-185e-4760-9823-7166fab02f94\",\"type\":\"GlyphRenderer\"}],\"title\":{\"id\":\"03aa8d1c-ab1d-41ef-ad2e-dfb8728d467a\",\"type\":\"Title\"},\"toolbar\":{\"id\":\"54d8ffdc-c322-41fe-90ab-a4f11c4adb6a\",\"type\":\"Toolbar\"},\"toolbar_location\":null,\"x_range\":{\"id\":\"3e72798e-0327-4aeb-b514-b25d0c61cb0c\",\"type\":\"DataRange1d\"},\"x_scale\":{\"id\":\"9f4ecc46-64ef-4e38-819f-1d5b7efbc370\",\"type\":\"LinearScale\"},\"y_range\":{\"id\":\"b08985f9-4a5d-41e2-8af3-19b5c0bd5f56\",\"type\":\"DataRange1d\"},\"y_scale\":{\"id\":\"3b59ea65-176c-441c-b27f-6859061f336f\",\"type\":\"LinearScale\"}},\"id\":\"b1cb5a05-2079-4eb8-9efb-ab9def4611c4\",\"subtype\":\"Figure\",\"type\":\"Plot\"},{\"attributes\":{\"below\":[{\"id\":\"ea60fb71-b6c9-450a-814b-d94b9b404c18\",\"type\":\"LinearAxis\"}],\"left\":[{\"id\":\"41c70cb3-305d-4484-8ca6-8e040fd44bae\",\"type\":\"LinearAxis\"}],\"plot_height\":200,\"plot_width\":400,\"renderers\":[{\"id\":\"ea60fb71-b6c9-450a-814b-d94b9b404c18\",\"type\":\"LinearAxis\"},{\"id\":\"87827c38-b335-400c-a16c-917f250f56bd\",\"type\":\"Grid\"},{\"id\":\"41c70cb3-305d-4484-8ca6-8e040fd44bae\",\"type\":\"LinearAxis\"},{\"id\":\"35873b72-7a76-45ee-b6bf-44af9a7f5a0f\",\"type\":\"Grid\"},{\"id\":\"f817805c-f326-4fcf-af29-688a7f6d2b9f\",\"type\":\"BoxAnnotation\"},{\"id\":\"131b5775-82fc-4ffb-a84a-03c7645fb718\",\"type\":\"GlyphRenderer\"}],\"title\":{\"id\":\"c6995db8-8208-4b22-a506-017fe737d6be\",\"type\":\"Title\"},\"toolbar\":{\"id\":\"3c8dda7e-8efb-4833-abb1-0dcb91fea39c\",\"type\":\"Toolbar\"},\"toolbar_location\":null,\"x_range\":{\"id\":\"17cb21a6-2804-45df-a6f6-e66034ecf370\",\"type\":\"DataRange1d\"},\"x_scale\":{\"id\":\"11780004-06ac-47e2-92e3-181e8b81d667\",\"type\":\"LinearScale\"},\"y_range\":{\"id\":\"ff8aaf8a-206b-4a68-8e7a-c9361d36c729\",\"type\":\"DataRange1d\"},\"y_scale\":{\"id\":\"f06a5cd0-153e-4826-a771-4f6963d238f3\",\"type\":\"LinearScale\"}},\"id\":\"d72ba19a-c0e7-4548-a86c-d29825322f40\",\"subtype\":\"Figure\",\"type\":\"Plot\"},{\"attributes\":{\"active_drag\":\"auto\",\"active_inspect\":\"auto\",\"active_scroll\":\"auto\",\"active_tap\":\"auto\",\"tools\":[{\"id\":\"4adb4aef-c5a3-4724-a661-b80cec705f0b\",\"type\":\"PanTool\"},{\"id\":\"716f0178-7445-46fd-a6b8-971f1d2ead87\",\"type\":\"WheelZoomTool\"},{\"id\":\"502de253-a88c-465e-a4a3-4b7df0c542a3\",\"type\":\"BoxZoomTool\"},{\"id\":\"d6e867a9-5c48-4d6e-ac78-4b92c8afa616\",\"type\":\"SaveTool\"},{\"id\":\"00fc8886-202c-4f1f-b0a4-ca52e943aa74\",\"type\":\"ResetTool\"},{\"id\":\"3b340c3b-c0c2-46c9-a243-3f546eb18fd7\",\"type\":\"HelpTool\"}]},\"id\":\"54d8ffdc-c322-41fe-90ab-a4f11c4adb6a\",\"type\":\"Toolbar\"},{\"attributes\":{\"callback\":null},\"id\":\"6dc45106-dfd3-4e99-b357-b8c90c4d6dfd\",\"type\":\"DataRange1d\"},{\"attributes\":{\"bottom_units\":\"screen\",\"fill_alpha\":{\"value\":0.5},\"fill_color\":{\"value\":\"lightgrey\"},\"left_units\":\"screen\",\"level\":\"overlay\",\"line_alpha\":{\"value\":1.0},\"line_color\":{\"value\":\"black\"},\"line_dash\":[4,4],\"line_width\":{\"value\":2},\"plot\":null,\"render_mode\":\"css\",\"right_units\":\"screen\",\"top_units\":\"screen\"},\"id\":\"280f8a9e-a961-4b6c-815c-6dbfccc5504f\",\"type\":\"BoxAnnotation\"},{\"attributes\":{},\"id\":\"716f0178-7445-46fd-a6b8-971f1d2ead87\",\"type\":\"WheelZoomTool\"},{\"attributes\":{\"overlay\":{\"id\":\"280f8a9e-a961-4b6c-815c-6dbfccc5504f\",\"type\":\"BoxAnnotation\"}},\"id\":\"502de253-a88c-465e-a4a3-4b7df0c542a3\",\"type\":\"BoxZoomTool\"},{\"attributes\":{},\"id\":\"d6e867a9-5c48-4d6e-ac78-4b92c8afa616\",\"type\":\"SaveTool\"},{\"attributes\":{},\"id\":\"00fc8886-202c-4f1f-b0a4-ca52e943aa74\",\"type\":\"ResetTool\"},{\"attributes\":{\"callback\":null},\"id\":\"b08985f9-4a5d-41e2-8af3-19b5c0bd5f56\",\"type\":\"DataRange1d\"},{\"attributes\":{},\"id\":\"3b340c3b-c0c2-46c9-a243-3f546eb18fd7\",\"type\":\"HelpTool\"},{\"attributes\":{\"plot\":{\"id\":\"3674d197-1c16-4e3f-8e9f-c0e2d8e68312\",\"subtype\":\"Figure\",\"type\":\"Plot\"},\"ticker\":{\"id\":\"3f96b364-42b5-49e3-961e-d96b46ba0894\",\"type\":\"BasicTicker\"}},\"id\":\"5d801c6c-2029-4018-b48f-34ed7b0e802c\",\"type\":\"Grid\"},{\"attributes\":{\"callback\":null},\"id\":\"17cb21a6-2804-45df-a6f6-e66034ecf370\",\"type\":\"DataRange1d\"},{\"attributes\":{},\"id\":\"1b0f9d8b-1e0e-48da-a830-542a7f8a3e35\",\"type\":\"LinearScale\"},{\"attributes\":{\"formatter\":{\"id\":\"cf64f26d-603b-4f25-8c46-310c7717896a\",\"type\":\"BasicTickFormatter\"},\"plot\":{\"id\":\"3674d197-1c16-4e3f-8e9f-c0e2d8e68312\",\"subtype\":\"Figure\",\"type\":\"Plot\"},\"ticker\":{\"id\":\"3f96b364-42b5-49e3-961e-d96b46ba0894\",\"type\":\"BasicTicker\"}},\"id\":\"fbcbb93f-0f14-49c5-8599-8696f9f4316d\",\"type\":\"LinearAxis\"},{\"attributes\":{\"data_source\":{\"id\":\"85ff4ae7-0f32-41c7-bf5a-12001ff51a03\",\"type\":\"ColumnDataSource\"},\"glyph\":{\"id\":\"5b0e1ea2-b495-4843-9c9c-a7f26d2f23f8\",\"type\":\"Circle\"},\"hover_glyph\":null,\"muted_glyph\":null,\"nonselection_glyph\":{\"id\":\"8b25ad6c-69db-41c5-8af2-827ca5709747\",\"type\":\"Circle\"},\"selection_glyph\":null,\"view\":{\"id\":\"9833a1b8-d131-4dea-8f89-df6578295afb\",\"type\":\"CDSView\"}},\"id\":\"98e5dcf9-185e-4760-9823-7166fab02f94\",\"type\":\"GlyphRenderer\"},{\"attributes\":{\"formatter\":{\"id\":\"33eacaaa-2a6f-4a2b-902a-93060c7c1788\",\"type\":\"BasicTickFormatter\"},\"plot\":{\"id\":\"3674d197-1c16-4e3f-8e9f-c0e2d8e68312\",\"subtype\":\"Figure\",\"type\":\"Plot\"},\"ticker\":{\"id\":\"317d4733-6946-43ef-9faa-73605a27f91b\",\"type\":\"BasicTicker\"}},\"id\":\"df9b89c2-da28-4895-82e3-3ae8a2ff3c42\",\"type\":\"LinearAxis\"},{\"attributes\":{},\"id\":\"3f96b364-42b5-49e3-961e-d96b46ba0894\",\"type\":\"BasicTicker\"},{\"attributes\":{\"dimension\":1,\"plot\":{\"id\":\"3674d197-1c16-4e3f-8e9f-c0e2d8e68312\",\"subtype\":\"Figure\",\"type\":\"Plot\"},\"ticker\":{\"id\":\"317d4733-6946-43ef-9faa-73605a27f91b\",\"type\":\"BasicTicker\"}},\"id\":\"c716a208-82e5-4cff-8059-b6d1632ea6e1\",\"type\":\"Grid\"},{\"attributes\":{},\"id\":\"317d4733-6946-43ef-9faa-73605a27f91b\",\"type\":\"BasicTicker\"},{\"attributes\":{\"children\":[{\"id\":\"b1cb5a05-2079-4eb8-9efb-ab9def4611c4\",\"subtype\":\"Figure\",\"type\":\"Plot\"},{\"id\":\"3674d197-1c16-4e3f-8e9f-c0e2d8e68312\",\"subtype\":\"Figure\",\"type\":\"Plot\"}]},\"id\":\"dff18652-5fa3-482a-805f-62bf8b51eeeb\",\"type\":\"Row\"},{\"attributes\":{\"active_drag\":\"auto\",\"active_inspect\":\"auto\",\"active_scroll\":\"auto\",\"active_tap\":\"auto\",\"tools\":[{\"id\":\"163536cb-cb3d-4d57-abcd-08efe3ed08e5\",\"type\":\"PanTool\"},{\"id\":\"a5e14f50-9c6c-4ff4-92f6-41e349bf129f\",\"type\":\"WheelZoomTool\"},{\"id\":\"69ce3c3c-b96f-486f-94a5-5c209e6b5d43\",\"type\":\"BoxZoomTool\"},{\"id\":\"755dab72-ff42-4324-9289-9ba1781d468b\",\"type\":\"SaveTool\"},{\"id\":\"7d7f2da6-8bf3-444e-a575-c53c628d8199\",\"type\":\"ResetTool\"},{\"id\":\"9b73007f-20e5-4fc4-a425-61c42cb9b873\",\"type\":\"HelpTool\"}]},\"id\":\"3c8dda7e-8efb-4833-abb1-0dcb91fea39c\",\"type\":\"Toolbar\"},{\"attributes\":{\"bottom_units\":\"screen\",\"fill_alpha\":{\"value\":0.5},\"fill_color\":{\"value\":\"lightgrey\"},\"left_units\":\"screen\",\"level\":\"overlay\",\"line_alpha\":{\"value\":1.0},\"line_color\":{\"value\":\"black\"},\"line_dash\":[4,4],\"line_width\":{\"value\":2},\"plot\":null,\"render_mode\":\"css\",\"right_units\":\"screen\",\"top_units\":\"screen\"},\"id\":\"55a04d61-5f08-475f-9857-d35d13c3e003\",\"type\":\"BoxAnnotation\"},{\"attributes\":{},\"id\":\"a83efb86-7849-43b9-b173-2b2ab2a52bbd\",\"type\":\"PanTool\"},{\"attributes\":{\"callback\":null},\"id\":\"ff8aaf8a-206b-4a68-8e7a-c9361d36c729\",\"type\":\"DataRange1d\"},{\"attributes\":{},\"id\":\"3521d1a9-e703-47ef-9bb5-648b5de63c08\",\"type\":\"WheelZoomTool\"},{\"attributes\":{\"overlay\":{\"id\":\"55a04d61-5f08-475f-9857-d35d13c3e003\",\"type\":\"BoxAnnotation\"}},\"id\":\"8dab4302-57b5-4a4b-95ad-ec95497db29f\",\"type\":\"BoxZoomTool\"},{\"attributes\":{},\"id\":\"8df08f16-be19-457b-b1fc-e1d9c9307cd4\",\"type\":\"SaveTool\"},{\"attributes\":{},\"id\":\"e13a0bff-77e0-41ce-9bc5-012de9e4621e\",\"type\":\"ResetTool\"},{\"attributes\":{},\"id\":\"220a5ee7-76d5-4573-ad0e-96763a235eda\",\"type\":\"HelpTool\"},{\"attributes\":{\"plot\":{\"id\":\"d72ba19a-c0e7-4548-a86c-d29825322f40\",\"subtype\":\"Figure\",\"type\":\"Plot\"},\"ticker\":{\"id\":\"99aa3daf-0692-42f2-aa56-08b85d601230\",\"type\":\"BasicTicker\"}},\"id\":\"87827c38-b335-400c-a16c-917f250f56bd\",\"type\":\"Grid\"},{\"attributes\":{},\"id\":\"9f4ecc46-64ef-4e38-819f-1d5b7efbc370\",\"type\":\"LinearScale\"},{\"attributes\":{},\"id\":\"11780004-06ac-47e2-92e3-181e8b81d667\",\"type\":\"LinearScale\"},{\"attributes\":{},\"id\":\"f06a5cd0-153e-4826-a771-4f6963d238f3\",\"type\":\"LinearScale\"},{\"attributes\":{\"formatter\":{\"id\":\"f9fc330b-7ae1-4055-bde6-52f16380e050\",\"type\":\"BasicTickFormatter\"},\"plot\":{\"id\":\"d72ba19a-c0e7-4548-a86c-d29825322f40\",\"subtype\":\"Figure\",\"type\":\"Plot\"},\"ticker\":{\"id\":\"99aa3daf-0692-42f2-aa56-08b85d601230\",\"type\":\"BasicTicker\"}},\"id\":\"ea60fb71-b6c9-450a-814b-d94b9b404c18\",\"type\":\"LinearAxis\"},{\"attributes\":{\"source\":{\"id\":\"85ff4ae7-0f32-41c7-bf5a-12001ff51a03\",\"type\":\"ColumnDataSource\"}},\"id\":\"9833a1b8-d131-4dea-8f89-df6578295afb\",\"type\":\"CDSView\"},{\"attributes\":{\"formatter\":{\"id\":\"916e32c0-4d5f-4b95-9629-40ea080ee458\",\"type\":\"BasicTickFormatter\"},\"plot\":{\"id\":\"d72ba19a-c0e7-4548-a86c-d29825322f40\",\"subtype\":\"Figure\",\"type\":\"Plot\"},\"ticker\":{\"id\":\"6da9a0f8-3a72-4e68-bf94-2493cb84ae0e\",\"type\":\"BasicTicker\"}},\"id\":\"41c70cb3-305d-4484-8ca6-8e040fd44bae\",\"type\":\"LinearAxis\"},{\"attributes\":{},\"id\":\"99aa3daf-0692-42f2-aa56-08b85d601230\",\"type\":\"BasicTicker\"},{\"attributes\":{\"dimension\":1,\"plot\":{\"id\":\"d72ba19a-c0e7-4548-a86c-d29825322f40\",\"subtype\":\"Figure\",\"type\":\"Plot\"},\"ticker\":{\"id\":\"6da9a0f8-3a72-4e68-bf94-2493cb84ae0e\",\"type\":\"BasicTicker\"}},\"id\":\"35873b72-7a76-45ee-b6bf-44af9a7f5a0f\",\"type\":\"Grid\"},{\"attributes\":{},\"id\":\"6da9a0f8-3a72-4e68-bf94-2493cb84ae0e\",\"type\":\"BasicTicker\"},{\"attributes\":{\"fill_alpha\":{\"value\":0.1},\"fill_color\":{\"value\":\"#1f77b4\"},\"line_alpha\":{\"value\":0.1},\"line_color\":{\"value\":\"#1f77b4\"},\"size\":{\"units\":\"screen\",\"value\":50},\"x\":{\"field\":\"x\"},\"y\":{\"field\":\"y\"}},\"id\":\"8b25ad6c-69db-41c5-8af2-827ca5709747\",\"type\":\"Circle\"},{\"attributes\":{\"fill_color\":{\"value\":\"#1f77b4\"},\"line_color\":{\"value\":\"#1f77b4\"},\"size\":{\"units\":\"screen\",\"value\":50},\"x\":{\"field\":\"x\"},\"y\":{\"field\":\"y\"}},\"id\":\"5b0e1ea2-b495-4843-9c9c-a7f26d2f23f8\",\"type\":\"Circle\"},{\"attributes\":{\"bottom_units\":\"screen\",\"fill_alpha\":{\"value\":0.5},\"fill_color\":{\"value\":\"lightgrey\"},\"left_units\":\"screen\",\"level\":\"overlay\",\"line_alpha\":{\"value\":1.0},\"line_color\":{\"value\":\"black\"},\"line_dash\":[4,4],\"line_width\":{\"value\":2},\"plot\":null,\"render_mode\":\"css\",\"right_units\":\"screen\",\"top_units\":\"screen\"},\"id\":\"f817805c-f326-4fcf-af29-688a7f6d2b9f\",\"type\":\"BoxAnnotation\"},{\"attributes\":{},\"id\":\"163536cb-cb3d-4d57-abcd-08efe3ed08e5\",\"type\":\"PanTool\"},{\"attributes\":{\"callback\":null,\"column_names\":[\"x\",\"y\"],\"data\":{\"x\":[0],\"y\":[0]}},\"id\":\"1242c67e-e92b-4b5a-a7dc-811df44232fd\",\"type\":\"ColumnDataSource\"},{\"attributes\":{},\"id\":\"a5e14f50-9c6c-4ff4-92f6-41e349bf129f\",\"type\":\"WheelZoomTool\"},{\"attributes\":{\"overlay\":{\"id\":\"f817805c-f326-4fcf-af29-688a7f6d2b9f\",\"type\":\"BoxAnnotation\"}},\"id\":\"69ce3c3c-b96f-486f-94a5-5c209e6b5d43\",\"type\":\"BoxZoomTool\"},{\"attributes\":{},\"id\":\"755dab72-ff42-4324-9289-9ba1781d468b\",\"type\":\"SaveTool\"},{\"attributes\":{},\"id\":\"7d7f2da6-8bf3-444e-a575-c53c628d8199\",\"type\":\"ResetTool\"},{\"attributes\":{},\"id\":\"9b73007f-20e5-4fc4-a425-61c42cb9b873\",\"type\":\"HelpTool\"},{\"attributes\":{\"fill_alpha\":{\"value\":0.1},\"fill_color\":{\"value\":\"#1f77b4\"},\"line_alpha\":{\"value\":0.1},\"line_color\":{\"value\":\"#1f77b4\"},\"size\":{\"units\":\"screen\",\"value\":50},\"x\":{\"field\":\"x\"},\"y\":{\"field\":\"y\"}},\"id\":\"8d245a02-9203-4410-8d21-b7a4d816874e\",\"type\":\"Square\"},{\"attributes\":{\"plot\":null,\"text\":\"\"},\"id\":\"03aa8d1c-ab1d-41ef-ad2e-dfb8728d467a\",\"type\":\"Title\"},{\"attributes\":{},\"id\":\"ab84d7ae-ff8f-4ab2-8266-d4de082dfc7e\",\"type\":\"BasicTickFormatter\"},{\"attributes\":{},\"id\":\"3b59ea65-176c-441c-b27f-6859061f336f\",\"type\":\"LinearScale\"},{\"attributes\":{},\"id\":\"34df2b14-0a49-4b88-894c-1da63881bcf2\",\"type\":\"BasicTickFormatter\"},{\"attributes\":{\"source\":{\"id\":\"27222dcc-c32d-455d-8006-a2a771daee97\",\"type\":\"ColumnDataSource\"}},\"id\":\"86e1429b-360b-4bf0-b785-1f1ff50903e1\",\"type\":\"CDSView\"},{\"attributes\":{},\"id\":\"cf64f26d-603b-4f25-8c46-310c7717896a\",\"type\":\"BasicTickFormatter\"},{\"attributes\":{\"data_source\":{\"id\":\"27222dcc-c32d-455d-8006-a2a771daee97\",\"type\":\"ColumnDataSource\"},\"glyph\":{\"id\":\"fb373aa9-cc34-4d74-b291-d025e46c58ab\",\"type\":\"Square\"},\"hover_glyph\":null,\"muted_glyph\":null,\"nonselection_glyph\":{\"id\":\"8d245a02-9203-4410-8d21-b7a4d816874e\",\"type\":\"Square\"},\"selection_glyph\":null,\"view\":{\"id\":\"86e1429b-360b-4bf0-b785-1f1ff50903e1\",\"type\":\"CDSView\"}},\"id\":\"235eb48b-6b2b-45f6-93f7-a57a1957deeb\",\"type\":\"GlyphRenderer\"},{\"attributes\":{\"plot\":null,\"text\":\"\"},\"id\":\"a276a430-9909-45d7-abbc-18100cb2e227\",\"type\":\"Title\"},{\"attributes\":{\"fill_color\":{\"value\":\"#1f77b4\"},\"line_color\":{\"value\":\"#1f77b4\"},\"size\":{\"units\":\"screen\",\"value\":50},\"x\":{\"field\":\"x\"},\"y\":{\"field\":\"y\"}},\"id\":\"fb373aa9-cc34-4d74-b291-d025e46c58ab\",\"type\":\"Square\"},{\"attributes\":{\"children\":[{\"id\":\"dff18652-5fa3-482a-805f-62bf8b51eeeb\",\"type\":\"Row\"},{\"id\":\"643c0765-3aeb-46bb-b9c6-507f126d4996\",\"type\":\"Row\"}]},\"id\":\"5cd3a637-6b05-4e81-a761-bb4760d7d938\",\"type\":\"Column\"},{\"attributes\":{\"fill_alpha\":{\"value\":0.1},\"fill_color\":{\"value\":\"#1f77b4\"},\"line_alpha\":{\"value\":0.1},\"line_color\":{\"value\":\"#1f77b4\"},\"size\":{\"units\":\"screen\",\"value\":50},\"x\":{\"field\":\"x\"},\"y\":{\"field\":\"y\"}},\"id\":\"9044abd2-0190-4dc7-973f-d1a112cca13e\",\"type\":\"Triangle\"},{\"attributes\":{},\"id\":\"33eacaaa-2a6f-4a2b-902a-93060c7c1788\",\"type\":\"BasicTickFormatter\"},{\"attributes\":{\"data_source\":{\"id\":\"1242c67e-e92b-4b5a-a7dc-811df44232fd\",\"type\":\"ColumnDataSource\"},\"glyph\":{\"id\":\"dd14acc2-8ad2-4a6c-9c00-c516ab6faa3e\",\"type\":\"Triangle\"},\"hover_glyph\":null,\"muted_glyph\":null,\"nonselection_glyph\":{\"id\":\"9044abd2-0190-4dc7-973f-d1a112cca13e\",\"type\":\"Triangle\"},\"selection_glyph\":null,\"view\":{\"id\":\"215e3667-0d47-4114-9833-3e7683f5cc3c\",\"type\":\"CDSView\"}},\"id\":\"131b5775-82fc-4ffb-a84a-03c7645fb718\",\"type\":\"GlyphRenderer\"},{\"attributes\":{},\"id\":\"f9fc330b-7ae1-4055-bde6-52f16380e050\",\"type\":\"BasicTickFormatter\"},{\"attributes\":{\"fill_color\":{\"value\":\"#1f77b4\"},\"line_color\":{\"value\":\"#1f77b4\"},\"size\":{\"units\":\"screen\",\"value\":50},\"x\":{\"field\":\"x\"},\"y\":{\"field\":\"y\"}},\"id\":\"dd14acc2-8ad2-4a6c-9c00-c516ab6faa3e\",\"type\":\"Triangle\"},{\"attributes\":{\"plot\":null,\"text\":\"\"},\"id\":\"c6995db8-8208-4b22-a506-017fe737d6be\",\"type\":\"Title\"},{\"attributes\":{\"source\":{\"id\":\"1242c67e-e92b-4b5a-a7dc-811df44232fd\",\"type\":\"ColumnDataSource\"}},\"id\":\"215e3667-0d47-4114-9833-3e7683f5cc3c\",\"type\":\"CDSView\"},{\"attributes\":{\"children\":[{\"id\":\"d72ba19a-c0e7-4548-a86c-d29825322f40\",\"subtype\":\"Figure\",\"type\":\"Plot\"}]},\"id\":\"643c0765-3aeb-46bb-b9c6-507f126d4996\",\"type\":\"Row\"},{\"attributes\":{},\"id\":\"916e32c0-4d5f-4b95-9629-40ea080ee458\",\"type\":\"BasicTickFormatter\"},{\"attributes\":{\"children\":[{\"id\":\"db05663a-b213-4650-9cac-d07d321b919b\",\"type\":\"ToolbarBox\"},{\"id\":\"5cd3a637-6b05-4e81-a761-bb4760d7d938\",\"type\":\"Column\"}]},\"id\":\"f61016a4-0c31-4f67-abd7-564cd9048c8d\",\"type\":\"Column\"},{\"attributes\":{\"sizing_mode\":\"scale_width\",\"toolbar_location\":\"above\",\"tools\":[{\"id\":\"4adb4aef-c5a3-4724-a661-b80cec705f0b\",\"type\":\"PanTool\"},{\"id\":\"716f0178-7445-46fd-a6b8-971f1d2ead87\",\"type\":\"WheelZoomTool\"},{\"id\":\"502de253-a88c-465e-a4a3-4b7df0c542a3\",\"type\":\"BoxZoomTool\"},{\"id\":\"d6e867a9-5c48-4d6e-ac78-4b92c8afa616\",\"type\":\"SaveTool\"},{\"id\":\"00fc8886-202c-4f1f-b0a4-ca52e943aa74\",\"type\":\"ResetTool\"},{\"id\":\"3b340c3b-c0c2-46c9-a243-3f546eb18fd7\",\"type\":\"HelpTool\"},{\"id\":\"a83efb86-7849-43b9-b173-2b2ab2a52bbd\",\"type\":\"PanTool\"},{\"id\":\"3521d1a9-e703-47ef-9bb5-648b5de63c08\",\"type\":\"WheelZoomTool\"},{\"id\":\"8dab4302-57b5-4a4b-95ad-ec95497db29f\",\"type\":\"BoxZoomTool\"},{\"id\":\"8df08f16-be19-457b-b1fc-e1d9c9307cd4\",\"type\":\"SaveTool\"},{\"id\":\"e13a0bff-77e0-41ce-9bc5-012de9e4621e\",\"type\":\"ResetTool\"},{\"id\":\"220a5ee7-76d5-4573-ad0e-96763a235eda\",\"type\":\"HelpTool\"},{\"id\":\"163536cb-cb3d-4d57-abcd-08efe3ed08e5\",\"type\":\"PanTool\"},{\"id\":\"a5e14f50-9c6c-4ff4-92f6-41e349bf129f\",\"type\":\"WheelZoomTool\"},{\"id\":\"69ce3c3c-b96f-486f-94a5-5c209e6b5d43\",\"type\":\"BoxZoomTool\"},{\"id\":\"755dab72-ff42-4324-9289-9ba1781d468b\",\"type\":\"SaveTool\"},{\"id\":\"7d7f2da6-8bf3-444e-a575-c53c628d8199\",\"type\":\"ResetTool\"},{\"id\":\"9b73007f-20e5-4fc4-a425-61c42cb9b873\",\"type\":\"HelpTool\"}]},\"id\":\"db05663a-b213-4650-9cac-d07d321b919b\",\"type\":\"ToolbarBox\"}],\"root_ids\":[\"f61016a4-0c31-4f67-abd7-564cd9048c8d\"]},\"title\":\"Bokeh Application\",\"version\":\"0.12.10\"}};\n",
       "    var render_items = [{\"docid\":\"bd184dbc-92b2-401f-9e3b-6fe36cf523f8\",\"elementid\":\"1462ae6c-78fc-46b7-b18a-8b88c4ae8da3\",\"modelid\":\"f61016a4-0c31-4f67-abd7-564cd9048c8d\"}];\n",
       "\n",
       "    root.Bokeh.embed.embed_items(docs_json, render_items);\n",
       "  }\n",
       "\n",
       "  if (root.Bokeh !== undefined) {\n",
       "    embed_document(root);\n",
       "  } else {\n",
       "    var attempts = 0;\n",
       "    var timer = setInterval(function(root) {\n",
       "      if (root.Bokeh !== undefined) {\n",
       "        embed_document(root);\n",
       "        clearInterval(timer);\n",
       "      }\n",
       "      attempts++;\n",
       "      if (attempts > 100) {\n",
       "        console.log(\"Bokeh: ERROR: Unable to embed document because BokehJS library is missing\")\n",
       "        clearInterval(timer);\n",
       "      }\n",
       "    }, 10, root)\n",
       "  }\n",
       "})(window);"
      ],
      "application/vnd.bokehjs_exec.v0+json": ""
     },
     "metadata": {
      "application/vnd.bokehjs_exec.v0+json": {
       "id": "f61016a4-0c31-4f67-abd7-564cd9048c8d"
      }
     },
     "output_type": "display_data"
    }
   ],
   "source": [
    "# layout()関数で並べる\n",
    "from bokeh.layouts import layout\n",
    "\n",
    "p1 = figure(plot_width=200, plot_height=200)\n",
    "p2 = figure(plot_width=200, plot_height=200)\n",
    "p3 = figure(plot_width=400, plot_height=200)\n",
    "\n",
    "p1.circle([0], [0], size=50)\n",
    "p2.square([0], [0], size=50)\n",
    "p3.triangle([0], [0], size=50)\n",
    "\n",
    "show(gridplot([[p1, p2], [p3]]))"
   ]
  }
 ],
 "metadata": {
  "kernelspec": {
   "display_name": "Python 3",
   "language": "python",
   "name": "python3"
  },
  "language_info": {
   "codemirror_mode": {
    "name": "ipython",
    "version": 3
   },
   "file_extension": ".py",
   "mimetype": "text/x-python",
   "name": "python",
   "nbconvert_exporter": "python",
   "pygments_lexer": "ipython3",
   "version": "3.6.1"
  }
 },
 "nbformat": 4,
 "nbformat_minor": 2
}
