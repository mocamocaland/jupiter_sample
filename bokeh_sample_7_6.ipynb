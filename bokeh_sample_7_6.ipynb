{
 "cells": [
  {
   "cell_type": "code",
   "execution_count": 9,
   "metadata": {},
   "outputs": [
    {
     "data": {
      "text/html": [
       "\n",
       "    <div class=\"bk-root\">\n",
       "        <a href=\"https://bokeh.pydata.org\" target=\"_blank\" class=\"bk-logo bk-logo-small bk-logo-notebook\"></a>\n",
       "        <span id=\"0a35b57a-69dd-4057-a21f-01551871087f\">Loading BokehJS ...</span>\n",
       "    </div>"
      ]
     },
     "metadata": {},
     "output_type": "display_data"
    },
    {
     "data": {
      "application/javascript": [
       "\n",
       "(function(root) {\n",
       "  function now() {\n",
       "    return new Date();\n",
       "  }\n",
       "\n",
       "  var force = true;\n",
       "\n",
       "  if (typeof (root._bokeh_onload_callbacks) === \"undefined\" || force === true) {\n",
       "    root._bokeh_onload_callbacks = [];\n",
       "    root._bokeh_is_loading = undefined;\n",
       "  }\n",
       "\n",
       "  var JS_MIME_TYPE = 'application/javascript';\n",
       "  var HTML_MIME_TYPE = 'text/html';\n",
       "  var EXEC_MIME_TYPE = 'application/vnd.bokehjs_exec.v0+json';\n",
       "  var CLASS_NAME = 'output_bokeh rendered_html';\n",
       "\n",
       "  /**\n",
       "   * Render data to the DOM node\n",
       "   */\n",
       "  function render(props, node) {\n",
       "    var script = document.createElement(\"script\");\n",
       "    node.appendChild(script);\n",
       "  }\n",
       "\n",
       "  /**\n",
       "   * Handle when an output is cleared or removed\n",
       "   */\n",
       "  function handleClearOutput(event, handle) {\n",
       "    var cell = handle.cell;\n",
       "\n",
       "    var id = cell.output_area._bokeh_element_id;\n",
       "    var server_id = cell.output_area._bokeh_server_id;\n",
       "    // Clean up Bokeh references\n",
       "    if (id !== undefined) {\n",
       "      Bokeh.index[id].model.document.clear();\n",
       "      delete Bokeh.index[id];\n",
       "    }\n",
       "\n",
       "    if (server_id !== undefined) {\n",
       "      // Clean up Bokeh references\n",
       "      var cmd = \"from bokeh.io.state import curstate; print(curstate().uuid_to_server['\" + server_id + \"'].get_sessions()[0].document.roots[0]._id)\";\n",
       "      cell.notebook.kernel.execute(cmd, {\n",
       "        iopub: {\n",
       "          output: function(msg) {\n",
       "            var element_id = msg.content.text.trim();\n",
       "            Bokeh.index[element_id].model.document.clear();\n",
       "            delete Bokeh.index[element_id];\n",
       "          }\n",
       "        }\n",
       "      });\n",
       "      // Destroy server and session\n",
       "      var cmd = \"import bokeh.io.notebook as ion; ion.destroy_server('\" + server_id + \"')\";\n",
       "      cell.notebook.kernel.execute(cmd);\n",
       "    }\n",
       "  }\n",
       "\n",
       "  /**\n",
       "   * Handle when a new output is added\n",
       "   */\n",
       "  function handleAddOutput(event, handle) {\n",
       "    var output_area = handle.output_area;\n",
       "    var output = handle.output;\n",
       "\n",
       "    // limit handleAddOutput to display_data with EXEC_MIME_TYPE content only\n",
       "    if ((output.output_type != \"display_data\") || (!output.data.hasOwnProperty(EXEC_MIME_TYPE))) {\n",
       "      return\n",
       "    }\n",
       "\n",
       "    var toinsert = output_area.element.find(`.${CLASS_NAME.split(' ')[0]}`);\n",
       "\n",
       "    if (output.metadata[EXEC_MIME_TYPE][\"id\"] !== undefined) {\n",
       "      toinsert[0].firstChild.textContent = output.data[JS_MIME_TYPE];\n",
       "      // store reference to embed id on output_area\n",
       "      output_area._bokeh_element_id = output.metadata[EXEC_MIME_TYPE][\"id\"];\n",
       "    }\n",
       "    if (output.metadata[EXEC_MIME_TYPE][\"server_id\"] !== undefined) {\n",
       "      var bk_div = document.createElement(\"div\");\n",
       "      bk_div.innerHTML = output.data[HTML_MIME_TYPE];\n",
       "      var script_attrs = bk_div.children[0].attributes;\n",
       "      for (var i = 0; i < script_attrs.length; i++) {\n",
       "        toinsert[0].firstChild.setAttribute(script_attrs[i].name, script_attrs[i].value);\n",
       "      }\n",
       "      // store reference to server id on output_area\n",
       "      output_area._bokeh_server_id = output.metadata[EXEC_MIME_TYPE][\"server_id\"];\n",
       "    }\n",
       "  }\n",
       "\n",
       "  function register_renderer(events, OutputArea) {\n",
       "\n",
       "    function append_mime(data, metadata, element) {\n",
       "      // create a DOM node to render to\n",
       "      var toinsert = this.create_output_subarea(\n",
       "        metadata,\n",
       "        CLASS_NAME,\n",
       "        EXEC_MIME_TYPE\n",
       "      );\n",
       "      this.keyboard_manager.register_events(toinsert);\n",
       "      // Render to node\n",
       "      var props = {data: data, metadata: metadata[EXEC_MIME_TYPE]};\n",
       "      render(props, toinsert[0]);\n",
       "      element.append(toinsert);\n",
       "      return toinsert\n",
       "    }\n",
       "\n",
       "    /* Handle when an output is cleared or removed */\n",
       "    events.on('clear_output.CodeCell', handleClearOutput);\n",
       "    events.on('delete.Cell', handleClearOutput);\n",
       "\n",
       "    /* Handle when a new output is added */\n",
       "    events.on('output_added.OutputArea', handleAddOutput);\n",
       "\n",
       "    /**\n",
       "     * Register the mime type and append_mime function with output_area\n",
       "     */\n",
       "    OutputArea.prototype.register_mime_type(EXEC_MIME_TYPE, append_mime, {\n",
       "      /* Is output safe? */\n",
       "      safe: true,\n",
       "      /* Index of renderer in `output_area.display_order` */\n",
       "      index: 0\n",
       "    });\n",
       "  }\n",
       "\n",
       "  // register the mime type if in Jupyter Notebook environment and previously unregistered\n",
       "  if (root.Jupyter !== undefined) {\n",
       "    var events = require('base/js/events');\n",
       "    var OutputArea = require('notebook/js/outputarea').OutputArea;\n",
       "\n",
       "    if (OutputArea.prototype.mime_types().indexOf(EXEC_MIME_TYPE) == -1) {\n",
       "      register_renderer(events, OutputArea);\n",
       "    }\n",
       "  }\n",
       "\n",
       "  \n",
       "  if (typeof (root._bokeh_timeout) === \"undefined\" || force === true) {\n",
       "    root._bokeh_timeout = Date.now() + 5000;\n",
       "    root._bokeh_failed_load = false;\n",
       "  }\n",
       "\n",
       "  var NB_LOAD_WARNING = {'data': {'text/html':\n",
       "     \"<div style='background-color: #fdd'>\\n\"+\n",
       "     \"<p>\\n\"+\n",
       "     \"BokehJS does not appear to have successfully loaded. If loading BokehJS from CDN, this \\n\"+\n",
       "     \"may be due to a slow or bad network connection. Possible fixes:\\n\"+\n",
       "     \"</p>\\n\"+\n",
       "     \"<ul>\\n\"+\n",
       "     \"<li>re-rerun `output_notebook()` to attempt to load from CDN again, or</li>\\n\"+\n",
       "     \"<li>use INLINE resources instead, as so:</li>\\n\"+\n",
       "     \"</ul>\\n\"+\n",
       "     \"<code>\\n\"+\n",
       "     \"from bokeh.resources import INLINE\\n\"+\n",
       "     \"output_notebook(resources=INLINE)\\n\"+\n",
       "     \"</code>\\n\"+\n",
       "     \"</div>\"}};\n",
       "\n",
       "  function display_loaded() {\n",
       "    var el = document.getElementById(\"0a35b57a-69dd-4057-a21f-01551871087f\");\n",
       "    if (el != null) {\n",
       "      el.textContent = \"BokehJS is loading...\";\n",
       "    }\n",
       "    if (root.Bokeh !== undefined) {\n",
       "      if (el != null) {\n",
       "        el.textContent = \"BokehJS \" + root.Bokeh.version + \" successfully loaded.\";\n",
       "      }\n",
       "    } else if (Date.now() < root._bokeh_timeout) {\n",
       "      setTimeout(display_loaded, 100)\n",
       "    }\n",
       "  }\n",
       "\n",
       "\n",
       "  function run_callbacks() {\n",
       "    try {\n",
       "      root._bokeh_onload_callbacks.forEach(function(callback) { callback() });\n",
       "    }\n",
       "    finally {\n",
       "      delete root._bokeh_onload_callbacks\n",
       "    }\n",
       "    console.info(\"Bokeh: all callbacks have finished\");\n",
       "  }\n",
       "\n",
       "  function load_libs(js_urls, callback) {\n",
       "    root._bokeh_onload_callbacks.push(callback);\n",
       "    if (root._bokeh_is_loading > 0) {\n",
       "      console.log(\"Bokeh: BokehJS is being loaded, scheduling callback at\", now());\n",
       "      return null;\n",
       "    }\n",
       "    if (js_urls == null || js_urls.length === 0) {\n",
       "      run_callbacks();\n",
       "      return null;\n",
       "    }\n",
       "    console.log(\"Bokeh: BokehJS not loaded, scheduling load and callback at\", now());\n",
       "    root._bokeh_is_loading = js_urls.length;\n",
       "    for (var i = 0; i < js_urls.length; i++) {\n",
       "      var url = js_urls[i];\n",
       "      var s = document.createElement('script');\n",
       "      s.src = url;\n",
       "      s.async = false;\n",
       "      s.onreadystatechange = s.onload = function() {\n",
       "        root._bokeh_is_loading--;\n",
       "        if (root._bokeh_is_loading === 0) {\n",
       "          console.log(\"Bokeh: all BokehJS libraries loaded\");\n",
       "          run_callbacks()\n",
       "        }\n",
       "      };\n",
       "      s.onerror = function() {\n",
       "        console.warn(\"failed to load library \" + url);\n",
       "      };\n",
       "      console.log(\"Bokeh: injecting script tag for BokehJS library: \", url);\n",
       "      document.getElementsByTagName(\"head\")[0].appendChild(s);\n",
       "    }\n",
       "  };var element = document.getElementById(\"0a35b57a-69dd-4057-a21f-01551871087f\");\n",
       "  if (element == null) {\n",
       "    console.log(\"Bokeh: ERROR: autoload.js configured with elementid '0a35b57a-69dd-4057-a21f-01551871087f' but no matching script tag was found. \")\n",
       "    return false;\n",
       "  }\n",
       "\n",
       "  var js_urls = [\"https://cdn.pydata.org/bokeh/release/bokeh-0.12.10.min.js\", \"https://cdn.pydata.org/bokeh/release/bokeh-widgets-0.12.10.min.js\", \"https://cdn.pydata.org/bokeh/release/bokeh-tables-0.12.10.min.js\", \"https://cdn.pydata.org/bokeh/release/bokeh-gl-0.12.10.min.js\"];\n",
       "\n",
       "  var inline_js = [\n",
       "    function(Bokeh) {\n",
       "      Bokeh.set_log_level(\"info\");\n",
       "    },\n",
       "    \n",
       "    function(Bokeh) {\n",
       "      \n",
       "    },\n",
       "    function(Bokeh) {\n",
       "      console.log(\"Bokeh: injecting CSS: https://cdn.pydata.org/bokeh/release/bokeh-0.12.10.min.css\");\n",
       "      Bokeh.embed.inject_css(\"https://cdn.pydata.org/bokeh/release/bokeh-0.12.10.min.css\");\n",
       "      console.log(\"Bokeh: injecting CSS: https://cdn.pydata.org/bokeh/release/bokeh-widgets-0.12.10.min.css\");\n",
       "      Bokeh.embed.inject_css(\"https://cdn.pydata.org/bokeh/release/bokeh-widgets-0.12.10.min.css\");\n",
       "      console.log(\"Bokeh: injecting CSS: https://cdn.pydata.org/bokeh/release/bokeh-tables-0.12.10.min.css\");\n",
       "      Bokeh.embed.inject_css(\"https://cdn.pydata.org/bokeh/release/bokeh-tables-0.12.10.min.css\");\n",
       "    }\n",
       "  ];\n",
       "\n",
       "  function run_inline_js() {\n",
       "    \n",
       "    if ((root.Bokeh !== undefined) || (force === true)) {\n",
       "      for (var i = 0; i < inline_js.length; i++) {\n",
       "        inline_js[i].call(root, root.Bokeh);\n",
       "      }if (force === true) {\n",
       "        display_loaded();\n",
       "      }} else if (Date.now() < root._bokeh_timeout) {\n",
       "      setTimeout(run_inline_js, 100);\n",
       "    } else if (!root._bokeh_failed_load) {\n",
       "      console.log(\"Bokeh: BokehJS failed to load within specified timeout.\");\n",
       "      root._bokeh_failed_load = true;\n",
       "    } else if (force !== true) {\n",
       "      var cell = $(document.getElementById(\"0a35b57a-69dd-4057-a21f-01551871087f\")).parents('.cell').data().cell;\n",
       "      cell.output_area.append_execute_result(NB_LOAD_WARNING)\n",
       "    }\n",
       "\n",
       "  }\n",
       "\n",
       "  if (root._bokeh_is_loading === 0) {\n",
       "    console.log(\"Bokeh: BokehJS loaded, going straight to plotting\");\n",
       "    run_inline_js();\n",
       "  } else {\n",
       "    load_libs(js_urls, function() {\n",
       "      console.log(\"Bokeh: BokehJS plotting callback run at\", now());\n",
       "      run_inline_js();\n",
       "    });\n",
       "  }\n",
       "}(window));"
      ],
      "application/vnd.bokehjs_load.v0+json": "\n(function(root) {\n  function now() {\n    return new Date();\n  }\n\n  var force = true;\n\n  if (typeof (root._bokeh_onload_callbacks) === \"undefined\" || force === true) {\n    root._bokeh_onload_callbacks = [];\n    root._bokeh_is_loading = undefined;\n  }\n\n  \n\n  \n  if (typeof (root._bokeh_timeout) === \"undefined\" || force === true) {\n    root._bokeh_timeout = Date.now() + 5000;\n    root._bokeh_failed_load = false;\n  }\n\n  var NB_LOAD_WARNING = {'data': {'text/html':\n     \"<div style='background-color: #fdd'>\\n\"+\n     \"<p>\\n\"+\n     \"BokehJS does not appear to have successfully loaded. If loading BokehJS from CDN, this \\n\"+\n     \"may be due to a slow or bad network connection. Possible fixes:\\n\"+\n     \"</p>\\n\"+\n     \"<ul>\\n\"+\n     \"<li>re-rerun `output_notebook()` to attempt to load from CDN again, or</li>\\n\"+\n     \"<li>use INLINE resources instead, as so:</li>\\n\"+\n     \"</ul>\\n\"+\n     \"<code>\\n\"+\n     \"from bokeh.resources import INLINE\\n\"+\n     \"output_notebook(resources=INLINE)\\n\"+\n     \"</code>\\n\"+\n     \"</div>\"}};\n\n  function display_loaded() {\n    var el = document.getElementById(\"0a35b57a-69dd-4057-a21f-01551871087f\");\n    if (el != null) {\n      el.textContent = \"BokehJS is loading...\";\n    }\n    if (root.Bokeh !== undefined) {\n      if (el != null) {\n        el.textContent = \"BokehJS \" + root.Bokeh.version + \" successfully loaded.\";\n      }\n    } else if (Date.now() < root._bokeh_timeout) {\n      setTimeout(display_loaded, 100)\n    }\n  }\n\n\n  function run_callbacks() {\n    try {\n      root._bokeh_onload_callbacks.forEach(function(callback) { callback() });\n    }\n    finally {\n      delete root._bokeh_onload_callbacks\n    }\n    console.info(\"Bokeh: all callbacks have finished\");\n  }\n\n  function load_libs(js_urls, callback) {\n    root._bokeh_onload_callbacks.push(callback);\n    if (root._bokeh_is_loading > 0) {\n      console.log(\"Bokeh: BokehJS is being loaded, scheduling callback at\", now());\n      return null;\n    }\n    if (js_urls == null || js_urls.length === 0) {\n      run_callbacks();\n      return null;\n    }\n    console.log(\"Bokeh: BokehJS not loaded, scheduling load and callback at\", now());\n    root._bokeh_is_loading = js_urls.length;\n    for (var i = 0; i < js_urls.length; i++) {\n      var url = js_urls[i];\n      var s = document.createElement('script');\n      s.src = url;\n      s.async = false;\n      s.onreadystatechange = s.onload = function() {\n        root._bokeh_is_loading--;\n        if (root._bokeh_is_loading === 0) {\n          console.log(\"Bokeh: all BokehJS libraries loaded\");\n          run_callbacks()\n        }\n      };\n      s.onerror = function() {\n        console.warn(\"failed to load library \" + url);\n      };\n      console.log(\"Bokeh: injecting script tag for BokehJS library: \", url);\n      document.getElementsByTagName(\"head\")[0].appendChild(s);\n    }\n  };var element = document.getElementById(\"0a35b57a-69dd-4057-a21f-01551871087f\");\n  if (element == null) {\n    console.log(\"Bokeh: ERROR: autoload.js configured with elementid '0a35b57a-69dd-4057-a21f-01551871087f' but no matching script tag was found. \")\n    return false;\n  }\n\n  var js_urls = [\"https://cdn.pydata.org/bokeh/release/bokeh-0.12.10.min.js\", \"https://cdn.pydata.org/bokeh/release/bokeh-widgets-0.12.10.min.js\", \"https://cdn.pydata.org/bokeh/release/bokeh-tables-0.12.10.min.js\", \"https://cdn.pydata.org/bokeh/release/bokeh-gl-0.12.10.min.js\"];\n\n  var inline_js = [\n    function(Bokeh) {\n      Bokeh.set_log_level(\"info\");\n    },\n    \n    function(Bokeh) {\n      \n    },\n    function(Bokeh) {\n      console.log(\"Bokeh: injecting CSS: https://cdn.pydata.org/bokeh/release/bokeh-0.12.10.min.css\");\n      Bokeh.embed.inject_css(\"https://cdn.pydata.org/bokeh/release/bokeh-0.12.10.min.css\");\n      console.log(\"Bokeh: injecting CSS: https://cdn.pydata.org/bokeh/release/bokeh-widgets-0.12.10.min.css\");\n      Bokeh.embed.inject_css(\"https://cdn.pydata.org/bokeh/release/bokeh-widgets-0.12.10.min.css\");\n      console.log(\"Bokeh: injecting CSS: https://cdn.pydata.org/bokeh/release/bokeh-tables-0.12.10.min.css\");\n      Bokeh.embed.inject_css(\"https://cdn.pydata.org/bokeh/release/bokeh-tables-0.12.10.min.css\");\n    }\n  ];\n\n  function run_inline_js() {\n    \n    if ((root.Bokeh !== undefined) || (force === true)) {\n      for (var i = 0; i < inline_js.length; i++) {\n        inline_js[i].call(root, root.Bokeh);\n      }if (force === true) {\n        display_loaded();\n      }} else if (Date.now() < root._bokeh_timeout) {\n      setTimeout(run_inline_js, 100);\n    } else if (!root._bokeh_failed_load) {\n      console.log(\"Bokeh: BokehJS failed to load within specified timeout.\");\n      root._bokeh_failed_load = true;\n    } else if (force !== true) {\n      var cell = $(document.getElementById(\"0a35b57a-69dd-4057-a21f-01551871087f\")).parents('.cell').data().cell;\n      cell.output_area.append_execute_result(NB_LOAD_WARNING)\n    }\n\n  }\n\n  if (root._bokeh_is_loading === 0) {\n    console.log(\"Bokeh: BokehJS loaded, going straight to plotting\");\n    run_inline_js();\n  } else {\n    load_libs(js_urls, function() {\n      console.log(\"Bokeh: BokehJS plotting callback run at\", now());\n      run_inline_js();\n    });\n  }\n}(window));"
     },
     "metadata": {},
     "output_type": "display_data"
    },
    {
     "name": "stderr",
     "output_type": "stream",
     "text": [
      "WARNING:/Users/chiseinotoya/jupyter_notebook/env/lib/python3.6/site-packages/bokeh/core/validation/check.py:W-1001 (NO_DATA_RENDERERS): Plot has no data renderers: Figure(id='551fdc14-3e27-45db-8ada-c2bec7e144ba', ...)\n"
     ]
    },
    {
     "data": {
      "text/html": [
       "\n",
       "<div class=\"bk-root\">\n",
       "    <div class=\"bk-plotdiv\" id=\"546fbc2c-a816-46a0-b8d1-e4b2f6b7b8da\"></div>\n",
       "</div>"
      ]
     },
     "metadata": {},
     "output_type": "display_data"
    },
    {
     "data": {
      "application/javascript": [
       "(function(root) {\n",
       "  function embed_document(root) {\n",
       "    var docs_json = {\"bbb4e866-b3dd-45e0-9240-360c941c213c\":{\"roots\":{\"references\":[{\"attributes\":{},\"id\":\"d38a31b9-1f11-453a-a7bf-d1d50f48033f\",\"type\":\"BasicTickFormatter\"},{\"attributes\":{},\"id\":\"0fe27be6-5de9-42c7-a132-8a4b48c11b19\",\"type\":\"HelpTool\"},{\"attributes\":{},\"id\":\"b64a7e82-31d8-4b83-94d3-28646754bc47\",\"type\":\"BasicTicker\"},{\"attributes\":{\"callback\":null},\"id\":\"52ff8eee-2217-448a-8e8b-774b205922aa\",\"type\":\"DataRange1d\"},{\"attributes\":{},\"id\":\"7ab24b36-2b45-44d0-9019-35784c9c39c7\",\"type\":\"LinearScale\"},{\"attributes\":{\"bottom_units\":\"screen\",\"fill_alpha\":{\"value\":0.5},\"fill_color\":{\"value\":\"lightgrey\"},\"left_units\":\"screen\",\"level\":\"overlay\",\"line_alpha\":{\"value\":1.0},\"line_color\":{\"value\":\"black\"},\"line_dash\":[4,4],\"line_width\":{\"value\":2},\"plot\":null,\"render_mode\":\"css\",\"right_units\":\"screen\",\"top_units\":\"screen\"},\"id\":\"e81d7a5c-3323-4993-bb4a-51cf9316b265\",\"type\":\"BoxAnnotation\"},{\"attributes\":{\"plot\":null,\"text\":\"\"},\"id\":\"e92bdbec-fc94-4bd2-b171-c28176890c64\",\"type\":\"Title\"},{\"attributes\":{},\"id\":\"d6102914-a58b-4869-b323-b8b936bd5d12\",\"type\":\"PanTool\"},{\"attributes\":{},\"id\":\"ed3b00e8-a0ae-4b69-b4bd-7239623c18c9\",\"type\":\"SaveTool\"},{\"attributes\":{},\"id\":\"75eff2b9-1915-425a-9a2c-b21987cb1937\",\"type\":\"LinearScale\"},{\"attributes\":{\"callback\":null},\"id\":\"fc2cc504-eb30-42bb-a90d-b767feb13994\",\"type\":\"DataRange1d\"},{\"attributes\":{},\"id\":\"457e1da4-2050-4e9f-bfe5-14162e5c021b\",\"type\":\"BasicTicker\"},{\"attributes\":{\"below\":[{\"id\":\"c907148e-874b-4b36-bd7d-960a0ac286e2\",\"type\":\"LinearAxis\"}],\"left\":[{\"id\":\"364d458b-7af7-4e23-9827-1f439e03a83e\",\"type\":\"LinearAxis\"}],\"plot_height\":200,\"plot_width\":400,\"renderers\":[{\"id\":\"c907148e-874b-4b36-bd7d-960a0ac286e2\",\"type\":\"LinearAxis\"},{\"id\":\"1e3fab3f-1929-4c72-8787-cbbf00a26314\",\"type\":\"Grid\"},{\"id\":\"364d458b-7af7-4e23-9827-1f439e03a83e\",\"type\":\"LinearAxis\"},{\"id\":\"984f3501-6abe-4d10-a89a-6678c43d2e79\",\"type\":\"Grid\"},{\"id\":\"e81d7a5c-3323-4993-bb4a-51cf9316b265\",\"type\":\"BoxAnnotation\"}],\"title\":{\"id\":\"e92bdbec-fc94-4bd2-b171-c28176890c64\",\"type\":\"Title\"},\"toolbar\":{\"id\":\"99c4a5d3-2077-4b3b-b5e0-e2551d6f4da5\",\"type\":\"Toolbar\"},\"x_range\":{\"id\":\"fc2cc504-eb30-42bb-a90d-b767feb13994\",\"type\":\"DataRange1d\"},\"x_scale\":{\"id\":\"75eff2b9-1915-425a-9a2c-b21987cb1937\",\"type\":\"LinearScale\"},\"y_range\":{\"id\":\"52ff8eee-2217-448a-8e8b-774b205922aa\",\"type\":\"DataRange1d\"},\"y_scale\":{\"id\":\"7ab24b36-2b45-44d0-9019-35784c9c39c7\",\"type\":\"LinearScale\"}},\"id\":\"551fdc14-3e27-45db-8ada-c2bec7e144ba\",\"subtype\":\"Figure\",\"type\":\"Plot\"},{\"attributes\":{},\"id\":\"f7bfa815-bebf-4df6-9d41-dec6737ed181\",\"type\":\"ResetTool\"},{\"attributes\":{\"overlay\":{\"id\":\"e81d7a5c-3323-4993-bb4a-51cf9316b265\",\"type\":\"BoxAnnotation\"}},\"id\":\"e601f22b-79a6-4cce-a31a-02740e5ea775\",\"type\":\"BoxZoomTool\"},{\"attributes\":{},\"id\":\"347dd2d2-1d55-4870-9b5a-66c1d7e282fc\",\"type\":\"BasicTickFormatter\"},{\"attributes\":{\"formatter\":{\"id\":\"d38a31b9-1f11-453a-a7bf-d1d50f48033f\",\"type\":\"BasicTickFormatter\"},\"plot\":{\"id\":\"551fdc14-3e27-45db-8ada-c2bec7e144ba\",\"subtype\":\"Figure\",\"type\":\"Plot\"},\"ticker\":{\"id\":\"b64a7e82-31d8-4b83-94d3-28646754bc47\",\"type\":\"BasicTicker\"}},\"id\":\"c907148e-874b-4b36-bd7d-960a0ac286e2\",\"type\":\"LinearAxis\"},{\"attributes\":{},\"id\":\"4de8c27f-cd42-4e08-af6e-65be81ae81dc\",\"type\":\"WheelZoomTool\"},{\"attributes\":{\"plot\":{\"id\":\"551fdc14-3e27-45db-8ada-c2bec7e144ba\",\"subtype\":\"Figure\",\"type\":\"Plot\"},\"ticker\":{\"id\":\"b64a7e82-31d8-4b83-94d3-28646754bc47\",\"type\":\"BasicTicker\"}},\"id\":\"1e3fab3f-1929-4c72-8787-cbbf00a26314\",\"type\":\"Grid\"},{\"attributes\":{\"active_drag\":\"auto\",\"active_inspect\":\"auto\",\"active_scroll\":\"auto\",\"active_tap\":\"auto\",\"tools\":[{\"id\":\"d6102914-a58b-4869-b323-b8b936bd5d12\",\"type\":\"PanTool\"},{\"id\":\"4de8c27f-cd42-4e08-af6e-65be81ae81dc\",\"type\":\"WheelZoomTool\"},{\"id\":\"e601f22b-79a6-4cce-a31a-02740e5ea775\",\"type\":\"BoxZoomTool\"},{\"id\":\"ed3b00e8-a0ae-4b69-b4bd-7239623c18c9\",\"type\":\"SaveTool\"},{\"id\":\"f7bfa815-bebf-4df6-9d41-dec6737ed181\",\"type\":\"ResetTool\"},{\"id\":\"0fe27be6-5de9-42c7-a132-8a4b48c11b19\",\"type\":\"HelpTool\"}]},\"id\":\"99c4a5d3-2077-4b3b-b5e0-e2551d6f4da5\",\"type\":\"Toolbar\"},{\"attributes\":{\"formatter\":{\"id\":\"347dd2d2-1d55-4870-9b5a-66c1d7e282fc\",\"type\":\"BasicTickFormatter\"},\"plot\":{\"id\":\"551fdc14-3e27-45db-8ada-c2bec7e144ba\",\"subtype\":\"Figure\",\"type\":\"Plot\"},\"ticker\":{\"id\":\"457e1da4-2050-4e9f-bfe5-14162e5c021b\",\"type\":\"BasicTicker\"}},\"id\":\"364d458b-7af7-4e23-9827-1f439e03a83e\",\"type\":\"LinearAxis\"},{\"attributes\":{\"dimension\":1,\"plot\":{\"id\":\"551fdc14-3e27-45db-8ada-c2bec7e144ba\",\"subtype\":\"Figure\",\"type\":\"Plot\"},\"ticker\":{\"id\":\"457e1da4-2050-4e9f-bfe5-14162e5c021b\",\"type\":\"BasicTicker\"}},\"id\":\"984f3501-6abe-4d10-a89a-6678c43d2e79\",\"type\":\"Grid\"}],\"root_ids\":[\"551fdc14-3e27-45db-8ada-c2bec7e144ba\"]},\"title\":\"Bokeh Application\",\"version\":\"0.12.10\"}};\n",
       "    var render_items = [{\"docid\":\"bbb4e866-b3dd-45e0-9240-360c941c213c\",\"elementid\":\"546fbc2c-a816-46a0-b8d1-e4b2f6b7b8da\",\"modelid\":\"551fdc14-3e27-45db-8ada-c2bec7e144ba\"}];\n",
       "\n",
       "    root.Bokeh.embed.embed_items(docs_json, render_items);\n",
       "  }\n",
       "\n",
       "  if (root.Bokeh !== undefined) {\n",
       "    embed_document(root);\n",
       "  } else {\n",
       "    var attempts = 0;\n",
       "    var timer = setInterval(function(root) {\n",
       "      if (root.Bokeh !== undefined) {\n",
       "        embed_document(root);\n",
       "        clearInterval(timer);\n",
       "      }\n",
       "      attempts++;\n",
       "      if (attempts > 100) {\n",
       "        console.log(\"Bokeh: ERROR: Unable to embed document because BokehJS library is missing\")\n",
       "        clearInterval(timer);\n",
       "      }\n",
       "    }, 10, root)\n",
       "  }\n",
       "})(window);"
      ],
      "application/vnd.bokehjs_exec.v0+json": ""
     },
     "metadata": {
      "application/vnd.bokehjs_exec.v0+json": {
       "id": "551fdc14-3e27-45db-8ada-c2bec7e144ba"
      }
     },
     "output_type": "display_data"
    }
   ],
   "source": [
    "from bokeh.plotting import figure, output_notebook, show\n",
    "output_notebook()\n",
    "#図のサイズの設定\n",
    "p = figure(plot_width=400, plot_height=200)\n",
    "show(p)"
   ]
  },
  {
   "cell_type": "code",
   "execution_count": 10,
   "metadata": {},
   "outputs": [
    {
     "name": "stderr",
     "output_type": "stream",
     "text": [
      "WARNING:/Users/chiseinotoya/jupyter_notebook/env/lib/python3.6/site-packages/bokeh/core/validation/check.py:W-1001 (NO_DATA_RENDERERS): Plot has no data renderers: Figure(id='772f3e33-3c39-43f0-842a-55c526ac32f6', ...)\n"
     ]
    },
    {
     "data": {
      "text/html": [
       "\n",
       "<div class=\"bk-root\">\n",
       "    <div class=\"bk-plotdiv\" id=\"baf03540-6ed0-4838-902b-676b456268b6\"></div>\n",
       "</div>"
      ]
     },
     "metadata": {},
     "output_type": "display_data"
    },
    {
     "data": {
      "application/javascript": [
       "(function(root) {\n",
       "  function embed_document(root) {\n",
       "    var docs_json = {\"e6685779-07d2-475b-a76c-d41e3d6a441e\":{\"roots\":{\"references\":[{\"attributes\":{},\"id\":\"253ebc55-8609-4788-a8bb-6fb7787b2b3c\",\"type\":\"PanTool\"},{\"attributes\":{},\"id\":\"d88012d3-144e-4a6c-9571-b7f986539561\",\"type\":\"LinearScale\"},{\"attributes\":{\"background_fill_alpha\":{\"value\":0.5},\"background_fill_color\":{\"value\":\"red\"},\"below\":[{\"id\":\"5d7da3fb-15a6-41ed-8ba5-bdc69e28b42e\",\"type\":\"LinearAxis\"}],\"left\":[{\"id\":\"08d1ec81-6a1c-49e4-9f66-8bd22322f12c\",\"type\":\"LinearAxis\"}],\"plot_height\":200,\"plot_width\":200,\"renderers\":[{\"id\":\"5d7da3fb-15a6-41ed-8ba5-bdc69e28b42e\",\"type\":\"LinearAxis\"},{\"id\":\"e5d68e25-dbfb-4081-a5e8-fc837c6cb1c1\",\"type\":\"Grid\"},{\"id\":\"08d1ec81-6a1c-49e4-9f66-8bd22322f12c\",\"type\":\"LinearAxis\"},{\"id\":\"e7f1e309-8a03-4701-8b9a-ab538286267f\",\"type\":\"Grid\"},{\"id\":\"ae51b088-a7fe-4e89-bb26-06d2bae12ffe\",\"type\":\"BoxAnnotation\"}],\"title\":{\"id\":\"a0e67645-dd16-4b65-af3a-d548869a586d\",\"type\":\"Title\"},\"toolbar\":{\"id\":\"911021fd-fc63-4f42-83e2-76005a98b989\",\"type\":\"Toolbar\"},\"x_range\":{\"id\":\"441df8e5-c1e7-4842-bcb6-e084c2966199\",\"type\":\"DataRange1d\"},\"x_scale\":{\"id\":\"d88012d3-144e-4a6c-9571-b7f986539561\",\"type\":\"LinearScale\"},\"y_range\":{\"id\":\"962c1d2c-2b77-4967-bb65-89a181025c52\",\"type\":\"DataRange1d\"},\"y_scale\":{\"id\":\"b6e95aab-0cf7-427b-b195-385dc74cb7f0\",\"type\":\"LinearScale\"}},\"id\":\"772f3e33-3c39-43f0-842a-55c526ac32f6\",\"subtype\":\"Figure\",\"type\":\"Plot\"},{\"attributes\":{},\"id\":\"504ea819-ddc0-4326-8414-50194e700b47\",\"type\":\"WheelZoomTool\"},{\"attributes\":{},\"id\":\"e343e173-c787-4232-9e81-05e91b16007a\",\"type\":\"BasicTicker\"},{\"attributes\":{},\"id\":\"36677d77-cd11-4eed-b0ef-20ff911a433a\",\"type\":\"HelpTool\"},{\"attributes\":{\"dimension\":1,\"plot\":{\"id\":\"772f3e33-3c39-43f0-842a-55c526ac32f6\",\"subtype\":\"Figure\",\"type\":\"Plot\"},\"ticker\":{\"id\":\"e343e173-c787-4232-9e81-05e91b16007a\",\"type\":\"BasicTicker\"}},\"id\":\"e7f1e309-8a03-4701-8b9a-ab538286267f\",\"type\":\"Grid\"},{\"attributes\":{\"bottom_units\":\"screen\",\"fill_alpha\":{\"value\":0.5},\"fill_color\":{\"value\":\"lightgrey\"},\"left_units\":\"screen\",\"level\":\"overlay\",\"line_alpha\":{\"value\":1.0},\"line_color\":{\"value\":\"black\"},\"line_dash\":[4,4],\"line_width\":{\"value\":2},\"plot\":null,\"render_mode\":\"css\",\"right_units\":\"screen\",\"top_units\":\"screen\"},\"id\":\"ae51b088-a7fe-4e89-bb26-06d2bae12ffe\",\"type\":\"BoxAnnotation\"},{\"attributes\":{\"overlay\":{\"id\":\"ae51b088-a7fe-4e89-bb26-06d2bae12ffe\",\"type\":\"BoxAnnotation\"}},\"id\":\"10c2163c-da08-4b2c-a466-e1371d260e11\",\"type\":\"BoxZoomTool\"},{\"attributes\":{},\"id\":\"4f7b894c-6a3b-46b8-a68e-704bcdbfd130\",\"type\":\"SaveTool\"},{\"attributes\":{},\"id\":\"b6e95aab-0cf7-427b-b195-385dc74cb7f0\",\"type\":\"LinearScale\"},{\"attributes\":{\"formatter\":{\"id\":\"0d7f4a89-a9d3-4de5-8465-eee3f2e63e32\",\"type\":\"BasicTickFormatter\"},\"plot\":{\"id\":\"772f3e33-3c39-43f0-842a-55c526ac32f6\",\"subtype\":\"Figure\",\"type\":\"Plot\"},\"ticker\":{\"id\":\"e343e173-c787-4232-9e81-05e91b16007a\",\"type\":\"BasicTicker\"}},\"id\":\"08d1ec81-6a1c-49e4-9f66-8bd22322f12c\",\"type\":\"LinearAxis\"},{\"attributes\":{},\"id\":\"f4232b56-3a0c-486b-9df0-e2fc8df5ad60\",\"type\":\"BasicTicker\"},{\"attributes\":{},\"id\":\"0d7f4a89-a9d3-4de5-8465-eee3f2e63e32\",\"type\":\"BasicTickFormatter\"},{\"attributes\":{},\"id\":\"af5d643e-aa7e-4e23-9efa-5a3008769da5\",\"type\":\"BasicTickFormatter\"},{\"attributes\":{},\"id\":\"ca22021c-3389-4895-8f42-429b0ad1e5ca\",\"type\":\"ResetTool\"},{\"attributes\":{\"formatter\":{\"id\":\"af5d643e-aa7e-4e23-9efa-5a3008769da5\",\"type\":\"BasicTickFormatter\"},\"plot\":{\"id\":\"772f3e33-3c39-43f0-842a-55c526ac32f6\",\"subtype\":\"Figure\",\"type\":\"Plot\"},\"ticker\":{\"id\":\"f4232b56-3a0c-486b-9df0-e2fc8df5ad60\",\"type\":\"BasicTicker\"}},\"id\":\"5d7da3fb-15a6-41ed-8ba5-bdc69e28b42e\",\"type\":\"LinearAxis\"},{\"attributes\":{\"plot\":null,\"text\":\"\"},\"id\":\"a0e67645-dd16-4b65-af3a-d548869a586d\",\"type\":\"Title\"},{\"attributes\":{\"active_drag\":\"auto\",\"active_inspect\":\"auto\",\"active_scroll\":\"auto\",\"active_tap\":\"auto\",\"tools\":[{\"id\":\"253ebc55-8609-4788-a8bb-6fb7787b2b3c\",\"type\":\"PanTool\"},{\"id\":\"504ea819-ddc0-4326-8414-50194e700b47\",\"type\":\"WheelZoomTool\"},{\"id\":\"10c2163c-da08-4b2c-a466-e1371d260e11\",\"type\":\"BoxZoomTool\"},{\"id\":\"4f7b894c-6a3b-46b8-a68e-704bcdbfd130\",\"type\":\"SaveTool\"},{\"id\":\"ca22021c-3389-4895-8f42-429b0ad1e5ca\",\"type\":\"ResetTool\"},{\"id\":\"36677d77-cd11-4eed-b0ef-20ff911a433a\",\"type\":\"HelpTool\"}]},\"id\":\"911021fd-fc63-4f42-83e2-76005a98b989\",\"type\":\"Toolbar\"},{\"attributes\":{\"callback\":null},\"id\":\"962c1d2c-2b77-4967-bb65-89a181025c52\",\"type\":\"DataRange1d\"},{\"attributes\":{\"callback\":null},\"id\":\"441df8e5-c1e7-4842-bcb6-e084c2966199\",\"type\":\"DataRange1d\"},{\"attributes\":{\"plot\":{\"id\":\"772f3e33-3c39-43f0-842a-55c526ac32f6\",\"subtype\":\"Figure\",\"type\":\"Plot\"},\"ticker\":{\"id\":\"f4232b56-3a0c-486b-9df0-e2fc8df5ad60\",\"type\":\"BasicTicker\"}},\"id\":\"e5d68e25-dbfb-4081-a5e8-fc837c6cb1c1\",\"type\":\"Grid\"}],\"root_ids\":[\"772f3e33-3c39-43f0-842a-55c526ac32f6\"]},\"title\":\"Bokeh Application\",\"version\":\"0.12.10\"}};\n",
       "    var render_items = [{\"docid\":\"e6685779-07d2-475b-a76c-d41e3d6a441e\",\"elementid\":\"baf03540-6ed0-4838-902b-676b456268b6\",\"modelid\":\"772f3e33-3c39-43f0-842a-55c526ac32f6\"}];\n",
       "\n",
       "    root.Bokeh.embed.embed_items(docs_json, render_items);\n",
       "  }\n",
       "\n",
       "  if (root.Bokeh !== undefined) {\n",
       "    embed_document(root);\n",
       "  } else {\n",
       "    var attempts = 0;\n",
       "    var timer = setInterval(function(root) {\n",
       "      if (root.Bokeh !== undefined) {\n",
       "        embed_document(root);\n",
       "        clearInterval(timer);\n",
       "      }\n",
       "      attempts++;\n",
       "      if (attempts > 100) {\n",
       "        console.log(\"Bokeh: ERROR: Unable to embed document because BokehJS library is missing\")\n",
       "        clearInterval(timer);\n",
       "      }\n",
       "    }, 10, root)\n",
       "  }\n",
       "})(window);"
      ],
      "application/vnd.bokehjs_exec.v0+json": ""
     },
     "metadata": {
      "application/vnd.bokehjs_exec.v0+json": {
       "id": "772f3e33-3c39-43f0-842a-55c526ac32f6"
      }
     },
     "output_type": "display_data"
    }
   ],
   "source": [
    "# 図の背景色の設定\n",
    "p = figure(\n",
    "    plot_width=200,\n",
    "    plot_height=200,\n",
    "    background_fill_color='red',\n",
    "    background_fill_alpha=0.5)\n",
    "show(p)"
   ]
  },
  {
   "cell_type": "code",
   "execution_count": 11,
   "metadata": {},
   "outputs": [
    {
     "name": "stderr",
     "output_type": "stream",
     "text": [
      "WARNING:/Users/chiseinotoya/jupyter_notebook/env/lib/python3.6/site-packages/bokeh/core/validation/check.py:W-1001 (NO_DATA_RENDERERS): Plot has no data renderers: Figure(id='7ff03619-705f-4565-9a68-8fa024587440', ...)\n"
     ]
    },
    {
     "data": {
      "text/html": [
       "\n",
       "<div class=\"bk-root\">\n",
       "    <div class=\"bk-plotdiv\" id=\"1b117dc4-e7b8-4fb9-8f66-1812436a8ee1\"></div>\n",
       "</div>"
      ]
     },
     "metadata": {},
     "output_type": "display_data"
    },
    {
     "data": {
      "application/javascript": [
       "(function(root) {\n",
       "  function embed_document(root) {\n",
       "    var docs_json = {\"39737bc5-205d-4597-b7e9-a8231c2e3791\":{\"roots\":{\"references\":[{\"attributes\":{\"active_drag\":\"auto\",\"active_inspect\":\"auto\",\"active_scroll\":\"auto\",\"active_tap\":\"auto\",\"tools\":[{\"id\":\"c3fd641a-b348-4355-a3bc-121de6d6d5f7\",\"type\":\"PanTool\"},{\"id\":\"5ca17328-a5b9-4c2a-b6f7-9ed809955a43\",\"type\":\"WheelZoomTool\"},{\"id\":\"35fa600a-2a35-4580-b04d-ee92dec7d6df\",\"type\":\"BoxZoomTool\"},{\"id\":\"388c5c40-5b8e-46ae-a71a-0799c8d57138\",\"type\":\"SaveTool\"},{\"id\":\"eb0766dd-83f3-46a6-a150-80feacf2b6b4\",\"type\":\"ResetTool\"},{\"id\":\"9f8b09e5-ab49-4b67-aad5-52ffb37bda60\",\"type\":\"HelpTool\"}]},\"id\":\"e0014a2d-7934-4998-83cc-3cfefd942598\",\"type\":\"Toolbar\"},{\"attributes\":{\"formatter\":{\"id\":\"c59b8851-358f-496e-8ffd-d88ac0381e76\",\"type\":\"BasicTickFormatter\"},\"plot\":{\"id\":\"7ff03619-705f-4565-9a68-8fa024587440\",\"subtype\":\"Figure\",\"type\":\"Plot\"},\"ticker\":{\"id\":\"73d89dc0-1d08-4d47-a629-e6ac5f9b0727\",\"type\":\"BasicTicker\"}},\"id\":\"03dd6b30-8c91-4f0a-b1f6-0e731902a29b\",\"type\":\"LinearAxis\"},{\"attributes\":{},\"id\":\"eb0766dd-83f3-46a6-a150-80feacf2b6b4\",\"type\":\"ResetTool\"},{\"attributes\":{},\"id\":\"9f8b09e5-ab49-4b67-aad5-52ffb37bda60\",\"type\":\"HelpTool\"},{\"attributes\":{\"plot\":{\"id\":\"7ff03619-705f-4565-9a68-8fa024587440\",\"subtype\":\"Figure\",\"type\":\"Plot\"},\"ticker\":{\"id\":\"73d89dc0-1d08-4d47-a629-e6ac5f9b0727\",\"type\":\"BasicTicker\"}},\"id\":\"e79b1d16-1cc2-4060-ba0d-5f5aa1420848\",\"type\":\"Grid\"},{\"attributes\":{},\"id\":\"b2a65704-a2e5-4374-8f8d-896adca8b98d\",\"type\":\"LinearScale\"},{\"attributes\":{\"overlay\":{\"id\":\"52615e8e-29d8-4fdb-8ec9-aefcd66d205e\",\"type\":\"BoxAnnotation\"}},\"id\":\"35fa600a-2a35-4580-b04d-ee92dec7d6df\",\"type\":\"BoxZoomTool\"},{\"attributes\":{\"callback\":null},\"id\":\"ac07409b-7b95-4950-9201-ac3a5b52ea07\",\"type\":\"DataRange1d\"},{\"attributes\":{},\"id\":\"c3fd641a-b348-4355-a3bc-121de6d6d5f7\",\"type\":\"PanTool\"},{\"attributes\":{},\"id\":\"5ca17328-a5b9-4c2a-b6f7-9ed809955a43\",\"type\":\"WheelZoomTool\"},{\"attributes\":{},\"id\":\"673a2ad6-a56b-4196-9b17-f10ae68b618f\",\"type\":\"LinearScale\"},{\"attributes\":{},\"id\":\"c59b8851-358f-496e-8ffd-d88ac0381e76\",\"type\":\"BasicTickFormatter\"},{\"attributes\":{},\"id\":\"b0ccc4d1-407f-49e5-b6b6-2bd7f89e4921\",\"type\":\"BasicTickFormatter\"},{\"attributes\":{\"plot\":null,\"text\":\"\"},\"id\":\"fdb00123-7c31-4036-83a6-1b4fa6ec1f6a\",\"type\":\"Title\"},{\"attributes\":{\"formatter\":{\"id\":\"b0ccc4d1-407f-49e5-b6b6-2bd7f89e4921\",\"type\":\"BasicTickFormatter\"},\"plot\":{\"id\":\"7ff03619-705f-4565-9a68-8fa024587440\",\"subtype\":\"Figure\",\"type\":\"Plot\"},\"ticker\":{\"id\":\"431c88c0-4876-4e30-96f6-ea41fca86446\",\"type\":\"BasicTicker\"}},\"id\":\"d79a15d6-28f4-41c8-b1b7-d9cbf558ed96\",\"type\":\"LinearAxis\"},{\"attributes\":{},\"id\":\"431c88c0-4876-4e30-96f6-ea41fca86446\",\"type\":\"BasicTicker\"},{\"attributes\":{\"bottom_units\":\"screen\",\"fill_alpha\":{\"value\":0.5},\"fill_color\":{\"value\":\"lightgrey\"},\"left_units\":\"screen\",\"level\":\"overlay\",\"line_alpha\":{\"value\":1.0},\"line_color\":{\"value\":\"black\"},\"line_dash\":[4,4],\"line_width\":{\"value\":2},\"plot\":null,\"render_mode\":\"css\",\"right_units\":\"screen\",\"top_units\":\"screen\"},\"id\":\"52615e8e-29d8-4fdb-8ec9-aefcd66d205e\",\"type\":\"BoxAnnotation\"},{\"attributes\":{},\"id\":\"73d89dc0-1d08-4d47-a629-e6ac5f9b0727\",\"type\":\"BasicTicker\"},{\"attributes\":{\"below\":[{\"id\":\"03dd6b30-8c91-4f0a-b1f6-0e731902a29b\",\"type\":\"LinearAxis\"}],\"border_fill_alpha\":{\"value\":0.5},\"border_fill_color\":{\"value\":\"red\"},\"left\":[{\"id\":\"d79a15d6-28f4-41c8-b1b7-d9cbf558ed96\",\"type\":\"LinearAxis\"}],\"min_border\":10,\"plot_height\":200,\"plot_width\":200,\"renderers\":[{\"id\":\"03dd6b30-8c91-4f0a-b1f6-0e731902a29b\",\"type\":\"LinearAxis\"},{\"id\":\"e79b1d16-1cc2-4060-ba0d-5f5aa1420848\",\"type\":\"Grid\"},{\"id\":\"d79a15d6-28f4-41c8-b1b7-d9cbf558ed96\",\"type\":\"LinearAxis\"},{\"id\":\"8f9aa53f-8ccb-4be3-90fb-3bef3d8e16a1\",\"type\":\"Grid\"},{\"id\":\"52615e8e-29d8-4fdb-8ec9-aefcd66d205e\",\"type\":\"BoxAnnotation\"}],\"title\":{\"id\":\"fdb00123-7c31-4036-83a6-1b4fa6ec1f6a\",\"type\":\"Title\"},\"toolbar\":{\"id\":\"e0014a2d-7934-4998-83cc-3cfefd942598\",\"type\":\"Toolbar\"},\"x_range\":{\"id\":\"bb985a79-1a01-48d1-9b79-4d69dc511da9\",\"type\":\"DataRange1d\"},\"x_scale\":{\"id\":\"b2a65704-a2e5-4374-8f8d-896adca8b98d\",\"type\":\"LinearScale\"},\"y_range\":{\"id\":\"ac07409b-7b95-4950-9201-ac3a5b52ea07\",\"type\":\"DataRange1d\"},\"y_scale\":{\"id\":\"673a2ad6-a56b-4196-9b17-f10ae68b618f\",\"type\":\"LinearScale\"}},\"id\":\"7ff03619-705f-4565-9a68-8fa024587440\",\"subtype\":\"Figure\",\"type\":\"Plot\"},{\"attributes\":{},\"id\":\"388c5c40-5b8e-46ae-a71a-0799c8d57138\",\"type\":\"SaveTool\"},{\"attributes\":{\"callback\":null},\"id\":\"bb985a79-1a01-48d1-9b79-4d69dc511da9\",\"type\":\"DataRange1d\"},{\"attributes\":{\"dimension\":1,\"plot\":{\"id\":\"7ff03619-705f-4565-9a68-8fa024587440\",\"subtype\":\"Figure\",\"type\":\"Plot\"},\"ticker\":{\"id\":\"431c88c0-4876-4e30-96f6-ea41fca86446\",\"type\":\"BasicTicker\"}},\"id\":\"8f9aa53f-8ccb-4be3-90fb-3bef3d8e16a1\",\"type\":\"Grid\"}],\"root_ids\":[\"7ff03619-705f-4565-9a68-8fa024587440\"]},\"title\":\"Bokeh Application\",\"version\":\"0.12.10\"}};\n",
       "    var render_items = [{\"docid\":\"39737bc5-205d-4597-b7e9-a8231c2e3791\",\"elementid\":\"1b117dc4-e7b8-4fb9-8f66-1812436a8ee1\",\"modelid\":\"7ff03619-705f-4565-9a68-8fa024587440\"}];\n",
       "\n",
       "    root.Bokeh.embed.embed_items(docs_json, render_items);\n",
       "  }\n",
       "\n",
       "  if (root.Bokeh !== undefined) {\n",
       "    embed_document(root);\n",
       "  } else {\n",
       "    var attempts = 0;\n",
       "    var timer = setInterval(function(root) {\n",
       "      if (root.Bokeh !== undefined) {\n",
       "        embed_document(root);\n",
       "        clearInterval(timer);\n",
       "      }\n",
       "      attempts++;\n",
       "      if (attempts > 100) {\n",
       "        console.log(\"Bokeh: ERROR: Unable to embed document because BokehJS library is missing\")\n",
       "        clearInterval(timer);\n",
       "      }\n",
       "    }, 10, root)\n",
       "  }\n",
       "})(window);"
      ],
      "application/vnd.bokehjs_exec.v0+json": ""
     },
     "metadata": {
      "application/vnd.bokehjs_exec.v0+json": {
       "id": "7ff03619-705f-4565-9a68-8fa024587440"
      }
     },
     "output_type": "display_data"
    }
   ],
   "source": [
    "# 余白の設定\n",
    "p = figure(plot_width=200, plot_height=200,\n",
    "           border_fill_color='red', border_fill_alpha=0.5)\n",
    "p.min_border = 10\n",
    "show(p)"
   ]
  },
  {
   "cell_type": "code",
   "execution_count": 12,
   "metadata": {},
   "outputs": [
    {
     "name": "stderr",
     "output_type": "stream",
     "text": [
      "WARNING:/Users/chiseinotoya/jupyter_notebook/env/lib/python3.6/site-packages/bokeh/core/validation/check.py:W-1001 (NO_DATA_RENDERERS): Plot has no data renderers: Figure(id='ffc94a12-3a28-4ed6-858c-df1ae7646023', ...)\n"
     ]
    },
    {
     "data": {
      "text/html": [
       "\n",
       "<div class=\"bk-root\">\n",
       "    <div class=\"bk-plotdiv\" id=\"5ac66b35-ec6d-4b06-9068-437c94d2a88c\"></div>\n",
       "</div>"
      ]
     },
     "metadata": {},
     "output_type": "display_data"
    },
    {
     "data": {
      "application/javascript": [
       "(function(root) {\n",
       "  function embed_document(root) {\n",
       "    var docs_json = {\"9e6fe78a-99dc-4d7b-95c1-8c78fb15a477\":{\"roots\":{\"references\":[{\"attributes\":{\"active_drag\":\"auto\",\"active_inspect\":\"auto\",\"active_scroll\":\"auto\",\"active_tap\":\"auto\",\"tools\":[{\"id\":\"66eaaa00-d046-41ef-a822-557b5cb316fb\",\"type\":\"PanTool\"},{\"id\":\"ef4b4f3c-9de5-429c-8cc3-94035ce9896b\",\"type\":\"WheelZoomTool\"},{\"id\":\"21b7a8f0-1c5c-4a4d-857b-326db910256c\",\"type\":\"BoxZoomTool\"},{\"id\":\"f6da095d-36d6-481f-8479-c3a305454aef\",\"type\":\"SaveTool\"},{\"id\":\"1c47f5fc-d055-4a18-a3ef-aa4c2c8f7850\",\"type\":\"ResetTool\"},{\"id\":\"5eb84d76-3400-481f-99ab-af2c1a5691a6\",\"type\":\"HelpTool\"}]},\"id\":\"ddd9d136-a7b8-4e8a-9415-27447292e32a\",\"type\":\"Toolbar\"},{\"attributes\":{},\"id\":\"7c28fdf4-e043-4676-85ab-6683c45b458a\",\"type\":\"LinearScale\"},{\"attributes\":{\"formatter\":{\"id\":\"3ea27017-00d3-48cd-9757-f6c34eb522dc\",\"type\":\"BasicTickFormatter\"},\"plot\":{\"id\":\"ffc94a12-3a28-4ed6-858c-df1ae7646023\",\"subtype\":\"Figure\",\"type\":\"Plot\"},\"ticker\":{\"id\":\"c6c41fb0-635c-4ada-bee6-8e0bb559da46\",\"type\":\"BasicTicker\"}},\"id\":\"f6f90103-4a6e-416b-8d27-5cbae92e0b4a\",\"type\":\"LinearAxis\"},{\"attributes\":{},\"id\":\"ac68c2ef-0664-4488-bdb1-eede10eae181\",\"type\":\"LinearScale\"},{\"attributes\":{},\"id\":\"95d24902-5b37-4056-a86d-f4c9284b002e\",\"type\":\"BasicTicker\"},{\"attributes\":{\"plot\":{\"id\":\"ffc94a12-3a28-4ed6-858c-df1ae7646023\",\"subtype\":\"Figure\",\"type\":\"Plot\"},\"ticker\":{\"id\":\"95d24902-5b37-4056-a86d-f4c9284b002e\",\"type\":\"BasicTicker\"}},\"id\":\"a1931fef-735f-4327-8e62-15dd4e976f86\",\"type\":\"Grid\"},{\"attributes\":{},\"id\":\"005789e8-a221-459f-9391-fab72b512b16\",\"type\":\"BasicTickFormatter\"},{\"attributes\":{\"dimension\":1,\"plot\":{\"id\":\"ffc94a12-3a28-4ed6-858c-df1ae7646023\",\"subtype\":\"Figure\",\"type\":\"Plot\"},\"ticker\":{\"id\":\"c6c41fb0-635c-4ada-bee6-8e0bb559da46\",\"type\":\"BasicTicker\"}},\"id\":\"804bed4e-930f-4f8c-a625-0d0ecc08e366\",\"type\":\"Grid\"},{\"attributes\":{},\"id\":\"c6c41fb0-635c-4ada-bee6-8e0bb559da46\",\"type\":\"BasicTicker\"},{\"attributes\":{\"callback\":null},\"id\":\"9d387fc7-e7b7-464f-9961-f261c249f9ee\",\"type\":\"DataRange1d\"},{\"attributes\":{\"bottom_units\":\"screen\",\"fill_alpha\":{\"value\":0.5},\"fill_color\":{\"value\":\"lightgrey\"},\"left_units\":\"screen\",\"level\":\"overlay\",\"line_alpha\":{\"value\":1.0},\"line_color\":{\"value\":\"black\"},\"line_dash\":[4,4],\"line_width\":{\"value\":2},\"plot\":null,\"render_mode\":\"css\",\"right_units\":\"screen\",\"top_units\":\"screen\"},\"id\":\"2a82d4f1-a741-458b-9882-2f02096acc56\",\"type\":\"BoxAnnotation\"},{\"attributes\":{\"formatter\":{\"id\":\"005789e8-a221-459f-9391-fab72b512b16\",\"type\":\"BasicTickFormatter\"},\"plot\":{\"id\":\"ffc94a12-3a28-4ed6-858c-df1ae7646023\",\"subtype\":\"Figure\",\"type\":\"Plot\"},\"ticker\":{\"id\":\"95d24902-5b37-4056-a86d-f4c9284b002e\",\"type\":\"BasicTicker\"}},\"id\":\"4aa28faa-bed8-4f63-9331-97070167aab0\",\"type\":\"LinearAxis\"},{\"attributes\":{},\"id\":\"ef4b4f3c-9de5-429c-8cc3-94035ce9896b\",\"type\":\"WheelZoomTool\"},{\"attributes\":{},\"id\":\"5eb84d76-3400-481f-99ab-af2c1a5691a6\",\"type\":\"HelpTool\"},{\"attributes\":{},\"id\":\"66eaaa00-d046-41ef-a822-557b5cb316fb\",\"type\":\"PanTool\"},{\"attributes\":{\"below\":[{\"id\":\"4aa28faa-bed8-4f63-9331-97070167aab0\",\"type\":\"LinearAxis\"}],\"border_fill_color\":{\"value\":\"red\"},\"left\":[{\"id\":\"f6f90103-4a6e-416b-8d27-5cbae92e0b4a\",\"type\":\"LinearAxis\"}],\"min_border_bottom\":50,\"min_border_left\":20,\"min_border_right\":60,\"min_border_top\":30,\"plot_height\":200,\"plot_width\":200,\"renderers\":[{\"id\":\"4aa28faa-bed8-4f63-9331-97070167aab0\",\"type\":\"LinearAxis\"},{\"id\":\"a1931fef-735f-4327-8e62-15dd4e976f86\",\"type\":\"Grid\"},{\"id\":\"f6f90103-4a6e-416b-8d27-5cbae92e0b4a\",\"type\":\"LinearAxis\"},{\"id\":\"804bed4e-930f-4f8c-a625-0d0ecc08e366\",\"type\":\"Grid\"},{\"id\":\"2a82d4f1-a741-458b-9882-2f02096acc56\",\"type\":\"BoxAnnotation\"}],\"title\":{\"id\":\"fbfcc70b-2312-468b-a1af-0c4fac1feb5c\",\"type\":\"Title\"},\"toolbar\":{\"id\":\"ddd9d136-a7b8-4e8a-9415-27447292e32a\",\"type\":\"Toolbar\"},\"x_range\":{\"id\":\"54cfae59-9dc5-404d-8b5e-ab3df77e6d01\",\"type\":\"DataRange1d\"},\"x_scale\":{\"id\":\"7c28fdf4-e043-4676-85ab-6683c45b458a\",\"type\":\"LinearScale\"},\"y_range\":{\"id\":\"9d387fc7-e7b7-464f-9961-f261c249f9ee\",\"type\":\"DataRange1d\"},\"y_scale\":{\"id\":\"ac68c2ef-0664-4488-bdb1-eede10eae181\",\"type\":\"LinearScale\"}},\"id\":\"ffc94a12-3a28-4ed6-858c-df1ae7646023\",\"subtype\":\"Figure\",\"type\":\"Plot\"},{\"attributes\":{\"overlay\":{\"id\":\"2a82d4f1-a741-458b-9882-2f02096acc56\",\"type\":\"BoxAnnotation\"}},\"id\":\"21b7a8f0-1c5c-4a4d-857b-326db910256c\",\"type\":\"BoxZoomTool\"},{\"attributes\":{},\"id\":\"f6da095d-36d6-481f-8479-c3a305454aef\",\"type\":\"SaveTool\"},{\"attributes\":{},\"id\":\"1c47f5fc-d055-4a18-a3ef-aa4c2c8f7850\",\"type\":\"ResetTool\"},{\"attributes\":{},\"id\":\"3ea27017-00d3-48cd-9757-f6c34eb522dc\",\"type\":\"BasicTickFormatter\"},{\"attributes\":{\"plot\":null,\"text\":\"\"},\"id\":\"fbfcc70b-2312-468b-a1af-0c4fac1feb5c\",\"type\":\"Title\"},{\"attributes\":{\"callback\":null},\"id\":\"54cfae59-9dc5-404d-8b5e-ab3df77e6d01\",\"type\":\"DataRange1d\"}],\"root_ids\":[\"ffc94a12-3a28-4ed6-858c-df1ae7646023\"]},\"title\":\"Bokeh Application\",\"version\":\"0.12.10\"}};\n",
       "    var render_items = [{\"docid\":\"9e6fe78a-99dc-4d7b-95c1-8c78fb15a477\",\"elementid\":\"5ac66b35-ec6d-4b06-9068-437c94d2a88c\",\"modelid\":\"ffc94a12-3a28-4ed6-858c-df1ae7646023\"}];\n",
       "\n",
       "    root.Bokeh.embed.embed_items(docs_json, render_items);\n",
       "  }\n",
       "\n",
       "  if (root.Bokeh !== undefined) {\n",
       "    embed_document(root);\n",
       "  } else {\n",
       "    var attempts = 0;\n",
       "    var timer = setInterval(function(root) {\n",
       "      if (root.Bokeh !== undefined) {\n",
       "        embed_document(root);\n",
       "        clearInterval(timer);\n",
       "      }\n",
       "      attempts++;\n",
       "      if (attempts > 100) {\n",
       "        console.log(\"Bokeh: ERROR: Unable to embed document because BokehJS library is missing\")\n",
       "        clearInterval(timer);\n",
       "      }\n",
       "    }, 10, root)\n",
       "  }\n",
       "})(window);"
      ],
      "application/vnd.bokehjs_exec.v0+json": ""
     },
     "metadata": {
      "application/vnd.bokehjs_exec.v0+json": {
       "id": "ffc94a12-3a28-4ed6-858c-df1ae7646023"
      }
     },
     "output_type": "display_data"
    }
   ],
   "source": [
    "# 個別に余白を設定\n",
    "p = figure(plot_width=200, plot_height=200)\n",
    "p.border_fill_color = 'red'\n",
    "p.min_border_left = 20\n",
    "p.min_border_right = 60\n",
    "p.min_border_top = 30\n",
    "p.min_border_bottom = 50\n",
    "show(p)"
   ]
  },
  {
   "cell_type": "code",
   "execution_count": 13,
   "metadata": {},
   "outputs": [
    {
     "name": "stderr",
     "output_type": "stream",
     "text": [
      "WARNING:/Users/chiseinotoya/jupyter_notebook/env/lib/python3.6/site-packages/bokeh/core/validation/check.py:W-1001 (NO_DATA_RENDERERS): Plot has no data renderers: Figure(id='3cbddba3-ff27-47e2-88bd-133f1d034c3c', ...)\n"
     ]
    },
    {
     "data": {
      "text/html": [
       "\n",
       "<div class=\"bk-root\">\n",
       "    <div class=\"bk-plotdiv\" id=\"92ac5add-df46-48d0-a0a2-093dd180e9f8\"></div>\n",
       "</div>"
      ]
     },
     "metadata": {},
     "output_type": "display_data"
    },
    {
     "data": {
      "application/javascript": [
       "(function(root) {\n",
       "  function embed_document(root) {\n",
       "    var docs_json = {\"6b3d90c7-cda9-41c2-8913-6bf8c06a3af5\":{\"roots\":{\"references\":[{\"attributes\":{},\"id\":\"f514d398-72e3-42a4-a0e6-b8d9fc8f7581\",\"type\":\"WheelZoomTool\"},{\"attributes\":{},\"id\":\"e9c2e4ea-e44a-41fd-afd7-a6ce6836b69e\",\"type\":\"SaveTool\"},{\"attributes\":{},\"id\":\"ab2b97a9-0708-47f2-b0fb-b968512f7e5a\",\"type\":\"BasicTickFormatter\"},{\"attributes\":{\"overlay\":{\"id\":\"1c7e1408-d8b2-4415-9eb6-805ff08b0348\",\"type\":\"BoxAnnotation\"}},\"id\":\"0f6a0ed2-380d-4172-a7f3-0fd5e53b441f\",\"type\":\"BoxZoomTool\"},{\"attributes\":{},\"id\":\"842c4f11-0111-4754-b5e6-3e51cfa33cc1\",\"type\":\"PanTool\"},{\"attributes\":{\"formatter\":{\"id\":\"ab2b97a9-0708-47f2-b0fb-b968512f7e5a\",\"type\":\"BasicTickFormatter\"},\"plot\":{\"id\":\"3cbddba3-ff27-47e2-88bd-133f1d034c3c\",\"subtype\":\"Figure\",\"type\":\"Plot\"},\"ticker\":{\"id\":\"1850ca53-e04f-42a1-8ef8-4966fd5d0d9c\",\"type\":\"BasicTicker\"}},\"id\":\"a4ed22cf-7e1b-48da-979d-926d6232c5c7\",\"type\":\"LinearAxis\"},{\"attributes\":{\"bottom_units\":\"screen\",\"fill_alpha\":{\"value\":0.5},\"fill_color\":{\"value\":\"lightgrey\"},\"left_units\":\"screen\",\"level\":\"overlay\",\"line_alpha\":{\"value\":1.0},\"line_color\":{\"value\":\"black\"},\"line_dash\":[4,4],\"line_width\":{\"value\":2},\"plot\":null,\"render_mode\":\"css\",\"right_units\":\"screen\",\"top_units\":\"screen\"},\"id\":\"1c7e1408-d8b2-4415-9eb6-805ff08b0348\",\"type\":\"BoxAnnotation\"},{\"attributes\":{},\"id\":\"63816cfb-0049-4397-a5dd-a935939e2e3f\",\"type\":\"LinearScale\"},{\"attributes\":{\"active_drag\":\"auto\",\"active_inspect\":\"auto\",\"active_scroll\":\"auto\",\"active_tap\":\"auto\",\"tools\":[{\"id\":\"842c4f11-0111-4754-b5e6-3e51cfa33cc1\",\"type\":\"PanTool\"},{\"id\":\"f514d398-72e3-42a4-a0e6-b8d9fc8f7581\",\"type\":\"WheelZoomTool\"},{\"id\":\"0f6a0ed2-380d-4172-a7f3-0fd5e53b441f\",\"type\":\"BoxZoomTool\"},{\"id\":\"e9c2e4ea-e44a-41fd-afd7-a6ce6836b69e\",\"type\":\"SaveTool\"},{\"id\":\"c6ae5fc0-e871-468f-98c7-76445eb55124\",\"type\":\"ResetTool\"},{\"id\":\"05074de7-446c-4078-b6c7-5307276e8376\",\"type\":\"HelpTool\"}]},\"id\":\"104cb30b-833c-41de-a5b7-2ddfa92422d9\",\"type\":\"Toolbar\"},{\"attributes\":{},\"id\":\"d69cc670-0fa1-4c4a-a1ed-be20a39670b8\",\"type\":\"BasicTickFormatter\"},{\"attributes\":{\"dimension\":1,\"plot\":{\"id\":\"3cbddba3-ff27-47e2-88bd-133f1d034c3c\",\"subtype\":\"Figure\",\"type\":\"Plot\"},\"ticker\":{\"id\":\"1850ca53-e04f-42a1-8ef8-4966fd5d0d9c\",\"type\":\"BasicTicker\"}},\"id\":\"b38fa8fc-a0ad-423d-b6c3-0c9fd07df3f7\",\"type\":\"Grid\"},{\"attributes\":{\"below\":[{\"id\":\"0ae53fb8-6ad4-4b44-9bfc-98d1b0ce5e9f\",\"type\":\"LinearAxis\"}],\"left\":[{\"id\":\"a4ed22cf-7e1b-48da-979d-926d6232c5c7\",\"type\":\"LinearAxis\"}],\"outline_line_alpha\":{\"value\":0.5},\"outline_line_cap\":\"round\",\"outline_line_color\":{\"value\":\"red\"},\"outline_line_dash\":[5,20],\"outline_line_width\":{\"value\":10},\"plot_height\":200,\"plot_width\":200,\"renderers\":[{\"id\":\"0ae53fb8-6ad4-4b44-9bfc-98d1b0ce5e9f\",\"type\":\"LinearAxis\"},{\"id\":\"7ad52e82-01ed-452c-928e-85d924585234\",\"type\":\"Grid\"},{\"id\":\"a4ed22cf-7e1b-48da-979d-926d6232c5c7\",\"type\":\"LinearAxis\"},{\"id\":\"b38fa8fc-a0ad-423d-b6c3-0c9fd07df3f7\",\"type\":\"Grid\"},{\"id\":\"1c7e1408-d8b2-4415-9eb6-805ff08b0348\",\"type\":\"BoxAnnotation\"}],\"title\":{\"id\":\"1be73909-009f-4350-b945-34c3debcb65e\",\"type\":\"Title\"},\"toolbar\":{\"id\":\"104cb30b-833c-41de-a5b7-2ddfa92422d9\",\"type\":\"Toolbar\"},\"x_range\":{\"id\":\"d9c16195-c9e9-4095-bb43-f406e2a4a294\",\"type\":\"DataRange1d\"},\"x_scale\":{\"id\":\"63816cfb-0049-4397-a5dd-a935939e2e3f\",\"type\":\"LinearScale\"},\"y_range\":{\"id\":\"12af23cb-31b2-450e-844f-7c83c7830649\",\"type\":\"DataRange1d\"},\"y_scale\":{\"id\":\"d58052a7-6ff2-409e-a0d9-d99a26462a71\",\"type\":\"LinearScale\"}},\"id\":\"3cbddba3-ff27-47e2-88bd-133f1d034c3c\",\"subtype\":\"Figure\",\"type\":\"Plot\"},{\"attributes\":{\"callback\":null},\"id\":\"12af23cb-31b2-450e-844f-7c83c7830649\",\"type\":\"DataRange1d\"},{\"attributes\":{\"formatter\":{\"id\":\"d69cc670-0fa1-4c4a-a1ed-be20a39670b8\",\"type\":\"BasicTickFormatter\"},\"plot\":{\"id\":\"3cbddba3-ff27-47e2-88bd-133f1d034c3c\",\"subtype\":\"Figure\",\"type\":\"Plot\"},\"ticker\":{\"id\":\"2e24a546-2ffa-4d1d-89b2-ba25ab8b97c1\",\"type\":\"BasicTicker\"}},\"id\":\"0ae53fb8-6ad4-4b44-9bfc-98d1b0ce5e9f\",\"type\":\"LinearAxis\"},{\"attributes\":{},\"id\":\"1850ca53-e04f-42a1-8ef8-4966fd5d0d9c\",\"type\":\"BasicTicker\"},{\"attributes\":{\"plot\":{\"id\":\"3cbddba3-ff27-47e2-88bd-133f1d034c3c\",\"subtype\":\"Figure\",\"type\":\"Plot\"},\"ticker\":{\"id\":\"2e24a546-2ffa-4d1d-89b2-ba25ab8b97c1\",\"type\":\"BasicTicker\"}},\"id\":\"7ad52e82-01ed-452c-928e-85d924585234\",\"type\":\"Grid\"},{\"attributes\":{},\"id\":\"2e24a546-2ffa-4d1d-89b2-ba25ab8b97c1\",\"type\":\"BasicTicker\"},{\"attributes\":{\"callback\":null},\"id\":\"d9c16195-c9e9-4095-bb43-f406e2a4a294\",\"type\":\"DataRange1d\"},{\"attributes\":{},\"id\":\"d58052a7-6ff2-409e-a0d9-d99a26462a71\",\"type\":\"LinearScale\"},{\"attributes\":{},\"id\":\"05074de7-446c-4078-b6c7-5307276e8376\",\"type\":\"HelpTool\"},{\"attributes\":{\"plot\":null,\"text\":\"\"},\"id\":\"1be73909-009f-4350-b945-34c3debcb65e\",\"type\":\"Title\"},{\"attributes\":{},\"id\":\"c6ae5fc0-e871-468f-98c7-76445eb55124\",\"type\":\"ResetTool\"}],\"root_ids\":[\"3cbddba3-ff27-47e2-88bd-133f1d034c3c\"]},\"title\":\"Bokeh Application\",\"version\":\"0.12.10\"}};\n",
       "    var render_items = [{\"docid\":\"6b3d90c7-cda9-41c2-8913-6bf8c06a3af5\",\"elementid\":\"92ac5add-df46-48d0-a0a2-093dd180e9f8\",\"modelid\":\"3cbddba3-ff27-47e2-88bd-133f1d034c3c\"}];\n",
       "\n",
       "    root.Bokeh.embed.embed_items(docs_json, render_items);\n",
       "  }\n",
       "\n",
       "  if (root.Bokeh !== undefined) {\n",
       "    embed_document(root);\n",
       "  } else {\n",
       "    var attempts = 0;\n",
       "    var timer = setInterval(function(root) {\n",
       "      if (root.Bokeh !== undefined) {\n",
       "        embed_document(root);\n",
       "        clearInterval(timer);\n",
       "      }\n",
       "      attempts++;\n",
       "      if (attempts > 100) {\n",
       "        console.log(\"Bokeh: ERROR: Unable to embed document because BokehJS library is missing\")\n",
       "        clearInterval(timer);\n",
       "      }\n",
       "    }, 10, root)\n",
       "  }\n",
       "})(window);"
      ],
      "application/vnd.bokehjs_exec.v0+json": ""
     },
     "metadata": {
      "application/vnd.bokehjs_exec.v0+json": {
       "id": "3cbddba3-ff27-47e2-88bd-133f1d034c3c"
      }
     },
     "output_type": "display_data"
    }
   ],
   "source": [
    "#図の外枠を設定\n",
    "p = figure(plot_width=200, plot_height=200)\n",
    "p.outline_line_width = 10\n",
    "p.outline_line_color = 'red'\n",
    "p.outline_line_alpha = 0.5\n",
    "p.outline_line_dash = (5, 20)\n",
    "p.outline_line_cap = 'round'\n",
    "show(p)"
   ]
  },
  {
   "cell_type": "code",
   "execution_count": 14,
   "metadata": {},
   "outputs": [
    {
     "name": "stderr",
     "output_type": "stream",
     "text": [
      "WARNING:/Users/chiseinotoya/jupyter_notebook/env/lib/python3.6/site-packages/bokeh/core/validation/check.py:W-1001 (NO_DATA_RENDERERS): Plot has no data renderers: Figure(id='bb1cd2bf-45a5-477a-b9cb-823e594320a7', ...)\n"
     ]
    },
    {
     "data": {
      "text/html": [
       "\n",
       "<div class=\"bk-root\">\n",
       "    <div class=\"bk-plotdiv\" id=\"d3603afa-2f28-4a3a-823d-6b8c2345f58c\"></div>\n",
       "</div>"
      ]
     },
     "metadata": {},
     "output_type": "display_data"
    },
    {
     "data": {
      "application/javascript": [
       "(function(root) {\n",
       "  function embed_document(root) {\n",
       "    var docs_json = {\"f955daab-36b6-4f32-b80a-db47e4f81a3f\":{\"roots\":{\"references\":[{\"attributes\":{\"formatter\":{\"id\":\"36b45829-f0fa-4fc2-a3a4-6aceed448eb3\",\"type\":\"BasicTickFormatter\"},\"plot\":{\"id\":\"bb1cd2bf-45a5-477a-b9cb-823e594320a7\",\"subtype\":\"Figure\",\"type\":\"Plot\"},\"ticker\":{\"id\":\"2026a267-9804-4b68-9036-fedcffa88d14\",\"type\":\"BasicTicker\"}},\"id\":\"1e6ec501-b5ff-4f51-bed8-f1154a09a8dc\",\"type\":\"LinearAxis\"},{\"attributes\":{\"below\":[{\"id\":\"2252fa7e-550a-49db-a2f1-db2368f57e24\",\"type\":\"LinearAxis\"}],\"left\":[{\"id\":\"1e6ec501-b5ff-4f51-bed8-f1154a09a8dc\",\"type\":\"LinearAxis\"}],\"plot_height\":200,\"renderers\":[{\"id\":\"2252fa7e-550a-49db-a2f1-db2368f57e24\",\"type\":\"LinearAxis\"},{\"id\":\"b8f9e2b7-8766-4d8e-953f-c5d0223cb899\",\"type\":\"Grid\"},{\"id\":\"1e6ec501-b5ff-4f51-bed8-f1154a09a8dc\",\"type\":\"LinearAxis\"},{\"id\":\"1c2ca5d7-1502-4b08-8635-55cdbe0433b4\",\"type\":\"Grid\"},{\"id\":\"39f8301d-5503-432b-9370-bea2318bd04b\",\"type\":\"BoxAnnotation\"}],\"title\":{\"id\":\"cca0cf5b-65bf-49c1-82c1-8e680b2e47b7\",\"type\":\"Title\"},\"toolbar\":{\"id\":\"d8638dee-2261-4f89-a9d6-40b9ca41ea7a\",\"type\":\"Toolbar\"},\"x_range\":{\"id\":\"423fc920-b5cd-4a81-a8b5-09f0a582613e\",\"type\":\"DataRange1d\"},\"x_scale\":{\"id\":\"21fdef6f-58b9-462d-a385-969094373635\",\"type\":\"LinearScale\"},\"y_range\":{\"id\":\"c6cd7eb6-471c-4246-8907-40f81a4a3ffc\",\"type\":\"DataRange1d\"},\"y_scale\":{\"id\":\"acdebd33-888d-464c-aa39-035fbda3cd06\",\"type\":\"LinearScale\"}},\"id\":\"bb1cd2bf-45a5-477a-b9cb-823e594320a7\",\"subtype\":\"Figure\",\"type\":\"Plot\"},{\"attributes\":{\"bottom_units\":\"screen\",\"fill_alpha\":{\"value\":0.5},\"fill_color\":{\"value\":\"lightgrey\"},\"left_units\":\"screen\",\"level\":\"overlay\",\"line_alpha\":{\"value\":1.0},\"line_color\":{\"value\":\"black\"},\"line_dash\":[4,4],\"line_width\":{\"value\":2},\"plot\":null,\"render_mode\":\"css\",\"right_units\":\"screen\",\"top_units\":\"screen\"},\"id\":\"39f8301d-5503-432b-9370-bea2318bd04b\",\"type\":\"BoxAnnotation\"},{\"attributes\":{\"callback\":null},\"id\":\"c6cd7eb6-471c-4246-8907-40f81a4a3ffc\",\"type\":\"DataRange1d\"},{\"attributes\":{},\"id\":\"af2748b7-fb7b-4d7f-8b36-5d222db287e8\",\"type\":\"PanTool\"},{\"attributes\":{\"dimension\":1,\"plot\":{\"id\":\"bb1cd2bf-45a5-477a-b9cb-823e594320a7\",\"subtype\":\"Figure\",\"type\":\"Plot\"},\"ticker\":{\"id\":\"2026a267-9804-4b68-9036-fedcffa88d14\",\"type\":\"BasicTicker\"}},\"id\":\"1c2ca5d7-1502-4b08-8635-55cdbe0433b4\",\"type\":\"Grid\"},{\"attributes\":{\"callback\":null},\"id\":\"423fc920-b5cd-4a81-a8b5-09f0a582613e\",\"type\":\"DataRange1d\"},{\"attributes\":{},\"id\":\"ef4eb455-a9f6-417f-b016-409c4fe56baa\",\"type\":\"BasicTicker\"},{\"attributes\":{\"overlay\":{\"id\":\"39f8301d-5503-432b-9370-bea2318bd04b\",\"type\":\"BoxAnnotation\"}},\"id\":\"62111926-25b0-48ff-8486-c42532b16ff1\",\"type\":\"BoxZoomTool\"},{\"attributes\":{\"formatter\":{\"id\":\"1a44f45f-c71a-4593-8a55-257d7e43047a\",\"type\":\"BasicTickFormatter\"},\"plot\":{\"id\":\"bb1cd2bf-45a5-477a-b9cb-823e594320a7\",\"subtype\":\"Figure\",\"type\":\"Plot\"},\"ticker\":{\"id\":\"ef4eb455-a9f6-417f-b016-409c4fe56baa\",\"type\":\"BasicTicker\"}},\"id\":\"2252fa7e-550a-49db-a2f1-db2368f57e24\",\"type\":\"LinearAxis\"},{\"attributes\":{},\"id\":\"acdebd33-888d-464c-aa39-035fbda3cd06\",\"type\":\"LinearScale\"},{\"attributes\":{},\"id\":\"1a44f45f-c71a-4593-8a55-257d7e43047a\",\"type\":\"BasicTickFormatter\"},{\"attributes\":{},\"id\":\"18bd5e16-8281-45b7-8268-c8d346bbd0bd\",\"type\":\"WheelZoomTool\"},{\"attributes\":{},\"id\":\"7ab7d8a6-8309-4e94-8657-d79551228adf\",\"type\":\"ResetTool\"},{\"attributes\":{},\"id\":\"21fdef6f-58b9-462d-a385-969094373635\",\"type\":\"LinearScale\"},{\"attributes\":{\"plot\":null,\"text\":\"title\"},\"id\":\"cca0cf5b-65bf-49c1-82c1-8e680b2e47b7\",\"type\":\"Title\"},{\"attributes\":{\"plot\":{\"id\":\"bb1cd2bf-45a5-477a-b9cb-823e594320a7\",\"subtype\":\"Figure\",\"type\":\"Plot\"},\"ticker\":{\"id\":\"ef4eb455-a9f6-417f-b016-409c4fe56baa\",\"type\":\"BasicTicker\"}},\"id\":\"b8f9e2b7-8766-4d8e-953f-c5d0223cb899\",\"type\":\"Grid\"},{\"attributes\":{},\"id\":\"b7d77eaf-0ac1-4c73-9b44-257f67dcd5eb\",\"type\":\"HelpTool\"},{\"attributes\":{\"active_drag\":\"auto\",\"active_inspect\":\"auto\",\"active_scroll\":\"auto\",\"active_tap\":\"auto\",\"tools\":[{\"id\":\"af2748b7-fb7b-4d7f-8b36-5d222db287e8\",\"type\":\"PanTool\"},{\"id\":\"18bd5e16-8281-45b7-8268-c8d346bbd0bd\",\"type\":\"WheelZoomTool\"},{\"id\":\"62111926-25b0-48ff-8486-c42532b16ff1\",\"type\":\"BoxZoomTool\"},{\"id\":\"353cf229-5fc1-422a-802a-fd159b4ed4a3\",\"type\":\"SaveTool\"},{\"id\":\"7ab7d8a6-8309-4e94-8657-d79551228adf\",\"type\":\"ResetTool\"},{\"id\":\"b7d77eaf-0ac1-4c73-9b44-257f67dcd5eb\",\"type\":\"HelpTool\"}]},\"id\":\"d8638dee-2261-4f89-a9d6-40b9ca41ea7a\",\"type\":\"Toolbar\"},{\"attributes\":{},\"id\":\"353cf229-5fc1-422a-802a-fd159b4ed4a3\",\"type\":\"SaveTool\"},{\"attributes\":{},\"id\":\"2026a267-9804-4b68-9036-fedcffa88d14\",\"type\":\"BasicTicker\"},{\"attributes\":{},\"id\":\"36b45829-f0fa-4fc2-a3a4-6aceed448eb3\",\"type\":\"BasicTickFormatter\"}],\"root_ids\":[\"bb1cd2bf-45a5-477a-b9cb-823e594320a7\"]},\"title\":\"Bokeh Application\",\"version\":\"0.12.10\"}};\n",
       "    var render_items = [{\"docid\":\"f955daab-36b6-4f32-b80a-db47e4f81a3f\",\"elementid\":\"d3603afa-2f28-4a3a-823d-6b8c2345f58c\",\"modelid\":\"bb1cd2bf-45a5-477a-b9cb-823e594320a7\"}];\n",
       "\n",
       "    root.Bokeh.embed.embed_items(docs_json, render_items);\n",
       "  }\n",
       "\n",
       "  if (root.Bokeh !== undefined) {\n",
       "    embed_document(root);\n",
       "  } else {\n",
       "    var attempts = 0;\n",
       "    var timer = setInterval(function(root) {\n",
       "      if (root.Bokeh !== undefined) {\n",
       "        embed_document(root);\n",
       "        clearInterval(timer);\n",
       "      }\n",
       "      attempts++;\n",
       "      if (attempts > 100) {\n",
       "        console.log(\"Bokeh: ERROR: Unable to embed document because BokehJS library is missing\")\n",
       "        clearInterval(timer);\n",
       "      }\n",
       "    }, 10, root)\n",
       "  }\n",
       "})(window);"
      ],
      "application/vnd.bokehjs_exec.v0+json": ""
     },
     "metadata": {
      "application/vnd.bokehjs_exec.v0+json": {
       "id": "bb1cd2bf-45a5-477a-b9cb-823e594320a7"
      }
     },
     "output_type": "display_data"
    }
   ],
   "source": [
    "#　タイトルを設定1\n",
    "p = figure(plot_width=600, plot_height=200, title='title')\n",
    "show(p)"
   ]
  },
  {
   "cell_type": "code",
   "execution_count": 18,
   "metadata": {},
   "outputs": [
    {
     "name": "stderr",
     "output_type": "stream",
     "text": [
      "WARNING:/Users/chiseinotoya/jupyter_notebook/env/lib/python3.6/site-packages/bokeh/core/validation/check.py:W-1001 (NO_DATA_RENDERERS): Plot has no data renderers: Figure(id='b29dfd09-0d2a-4f97-8cf7-3991e379eaab', ...)\n"
     ]
    },
    {
     "data": {
      "text/html": [
       "\n",
       "<div class=\"bk-root\">\n",
       "    <div class=\"bk-plotdiv\" id=\"dddad7ac-a9a0-4c42-8d68-5e1a579a5588\"></div>\n",
       "</div>"
      ]
     },
     "metadata": {},
     "output_type": "display_data"
    },
    {
     "data": {
      "application/javascript": [
       "(function(root) {\n",
       "  function embed_document(root) {\n",
       "    var docs_json = {\"8207814b-4067-4f4e-bc7e-3009f1d9f338\":{\"roots\":{\"references\":[{\"attributes\":{},\"id\":\"c50f6d67-e0b6-4680-aa55-4570128278fa\",\"type\":\"LinearScale\"},{\"attributes\":{},\"id\":\"a6fb7ded-bcb7-4cf7-bc8d-76e4429b7bb9\",\"type\":\"PanTool\"},{\"attributes\":{\"overlay\":{\"id\":\"4cae4444-0a66-4ecb-ae67-9740f393fb1c\",\"type\":\"BoxAnnotation\"}},\"id\":\"ff0e7286-de9d-4671-8615-c3152a322753\",\"type\":\"BoxZoomTool\"},{\"attributes\":{\"callback\":null},\"id\":\"b3e62f01-e9f6-4de1-80b8-b2379b97c289\",\"type\":\"DataRange1d\"},{\"attributes\":{\"below\":[{\"id\":\"b5eeda1f-6dac-40ce-964f-39259d015f93\",\"type\":\"LinearAxis\"}],\"left\":[{\"id\":\"90caabc3-5f56-4c8c-bb4c-1c55fac76499\",\"type\":\"LinearAxis\"}],\"plot_height\":200,\"plot_width\":200,\"renderers\":[{\"id\":\"b5eeda1f-6dac-40ce-964f-39259d015f93\",\"type\":\"LinearAxis\"},{\"id\":\"7bfdb7b8-dba0-4f74-bed6-b60925a75001\",\"type\":\"Grid\"},{\"id\":\"90caabc3-5f56-4c8c-bb4c-1c55fac76499\",\"type\":\"LinearAxis\"},{\"id\":\"9cdb43b6-e3ab-446d-bec0-33e9285e239f\",\"type\":\"Grid\"},{\"id\":\"4cae4444-0a66-4ecb-ae67-9740f393fb1c\",\"type\":\"BoxAnnotation\"}],\"title\":{\"id\":\"75b5fa39-3d25-4989-b446-0a0f767b33d7\",\"type\":\"Title\"},\"toolbar\":{\"id\":\"8b9c9ecb-05e8-44c4-9a85-23714a31e7e8\",\"type\":\"Toolbar\"},\"x_range\":{\"id\":\"b3e62f01-e9f6-4de1-80b8-b2379b97c289\",\"type\":\"DataRange1d\"},\"x_scale\":{\"id\":\"c50f6d67-e0b6-4680-aa55-4570128278fa\",\"type\":\"LinearScale\"},\"y_range\":{\"id\":\"d7530151-e002-4f73-af44-dcf47bb014a4\",\"type\":\"DataRange1d\"},\"y_scale\":{\"id\":\"37320a97-9b13-450d-99dc-9db2379e2214\",\"type\":\"LinearScale\"}},\"id\":\"b29dfd09-0d2a-4f97-8cf7-3991e379eaab\",\"subtype\":\"Figure\",\"type\":\"Plot\"},{\"attributes\":{\"formatter\":{\"id\":\"84a44b36-c866-45e7-b769-a7e7bec6f0a6\",\"type\":\"BasicTickFormatter\"},\"plot\":{\"id\":\"b29dfd09-0d2a-4f97-8cf7-3991e379eaab\",\"subtype\":\"Figure\",\"type\":\"Plot\"},\"ticker\":{\"id\":\"d790437b-4332-46bc-8eb1-35abce2d0cec\",\"type\":\"BasicTicker\"}},\"id\":\"90caabc3-5f56-4c8c-bb4c-1c55fac76499\",\"type\":\"LinearAxis\"},{\"attributes\":{\"callback\":null},\"id\":\"d7530151-e002-4f73-af44-dcf47bb014a4\",\"type\":\"DataRange1d\"},{\"attributes\":{},\"id\":\"8bc1ba5d-4947-4961-a072-3390811e88e9\",\"type\":\"BasicTickFormatter\"},{\"attributes\":{\"plot\":null,\"text\":\"Title\"},\"id\":\"75b5fa39-3d25-4989-b446-0a0f767b33d7\",\"type\":\"Title\"},{\"attributes\":{},\"id\":\"37320a97-9b13-450d-99dc-9db2379e2214\",\"type\":\"LinearScale\"},{\"attributes\":{},\"id\":\"b8b30ab7-9c5e-4df6-88ff-c3d14ec7f761\",\"type\":\"BasicTicker\"},{\"attributes\":{},\"id\":\"84a44b36-c866-45e7-b769-a7e7bec6f0a6\",\"type\":\"BasicTickFormatter\"},{\"attributes\":{},\"id\":\"9af9a705-ab7b-4530-89ff-cc9a840a6cfa\",\"type\":\"SaveTool\"},{\"attributes\":{},\"id\":\"897617a3-5d95-4f4c-b16f-e075c35761fd\",\"type\":\"ResetTool\"},{\"attributes\":{},\"id\":\"79dbb28c-4a62-4f8a-88b1-f93f246dbe1a\",\"type\":\"WheelZoomTool\"},{\"attributes\":{},\"id\":\"d790437b-4332-46bc-8eb1-35abce2d0cec\",\"type\":\"BasicTicker\"},{\"attributes\":{\"active_drag\":\"auto\",\"active_inspect\":\"auto\",\"active_scroll\":\"auto\",\"active_tap\":\"auto\",\"tools\":[{\"id\":\"a6fb7ded-bcb7-4cf7-bc8d-76e4429b7bb9\",\"type\":\"PanTool\"},{\"id\":\"79dbb28c-4a62-4f8a-88b1-f93f246dbe1a\",\"type\":\"WheelZoomTool\"},{\"id\":\"ff0e7286-de9d-4671-8615-c3152a322753\",\"type\":\"BoxZoomTool\"},{\"id\":\"9af9a705-ab7b-4530-89ff-cc9a840a6cfa\",\"type\":\"SaveTool\"},{\"id\":\"897617a3-5d95-4f4c-b16f-e075c35761fd\",\"type\":\"ResetTool\"},{\"id\":\"da157543-5276-4e88-9460-98e255741f9c\",\"type\":\"HelpTool\"}]},\"id\":\"8b9c9ecb-05e8-44c4-9a85-23714a31e7e8\",\"type\":\"Toolbar\"},{\"attributes\":{},\"id\":\"da157543-5276-4e88-9460-98e255741f9c\",\"type\":\"HelpTool\"},{\"attributes\":{\"formatter\":{\"id\":\"8bc1ba5d-4947-4961-a072-3390811e88e9\",\"type\":\"BasicTickFormatter\"},\"plot\":{\"id\":\"b29dfd09-0d2a-4f97-8cf7-3991e379eaab\",\"subtype\":\"Figure\",\"type\":\"Plot\"},\"ticker\":{\"id\":\"b8b30ab7-9c5e-4df6-88ff-c3d14ec7f761\",\"type\":\"BasicTicker\"}},\"id\":\"b5eeda1f-6dac-40ce-964f-39259d015f93\",\"type\":\"LinearAxis\"},{\"attributes\":{\"dimension\":1,\"plot\":{\"id\":\"b29dfd09-0d2a-4f97-8cf7-3991e379eaab\",\"subtype\":\"Figure\",\"type\":\"Plot\"},\"ticker\":{\"id\":\"d790437b-4332-46bc-8eb1-35abce2d0cec\",\"type\":\"BasicTicker\"}},\"id\":\"9cdb43b6-e3ab-446d-bec0-33e9285e239f\",\"type\":\"Grid\"},{\"attributes\":{\"plot\":{\"id\":\"b29dfd09-0d2a-4f97-8cf7-3991e379eaab\",\"subtype\":\"Figure\",\"type\":\"Plot\"},\"ticker\":{\"id\":\"b8b30ab7-9c5e-4df6-88ff-c3d14ec7f761\",\"type\":\"BasicTicker\"}},\"id\":\"7bfdb7b8-dba0-4f74-bed6-b60925a75001\",\"type\":\"Grid\"},{\"attributes\":{\"bottom_units\":\"screen\",\"fill_alpha\":{\"value\":0.5},\"fill_color\":{\"value\":\"lightgrey\"},\"left_units\":\"screen\",\"level\":\"overlay\",\"line_alpha\":{\"value\":1.0},\"line_color\":{\"value\":\"black\"},\"line_dash\":[4,4],\"line_width\":{\"value\":2},\"plot\":null,\"render_mode\":\"css\",\"right_units\":\"screen\",\"top_units\":\"screen\"},\"id\":\"4cae4444-0a66-4ecb-ae67-9740f393fb1c\",\"type\":\"BoxAnnotation\"}],\"root_ids\":[\"b29dfd09-0d2a-4f97-8cf7-3991e379eaab\"]},\"title\":\"Bokeh Application\",\"version\":\"0.12.10\"}};\n",
       "    var render_items = [{\"docid\":\"8207814b-4067-4f4e-bc7e-3009f1d9f338\",\"elementid\":\"dddad7ac-a9a0-4c42-8d68-5e1a579a5588\",\"modelid\":\"b29dfd09-0d2a-4f97-8cf7-3991e379eaab\"}];\n",
       "\n",
       "    root.Bokeh.embed.embed_items(docs_json, render_items);\n",
       "  }\n",
       "\n",
       "  if (root.Bokeh !== undefined) {\n",
       "    embed_document(root);\n",
       "  } else {\n",
       "    var attempts = 0;\n",
       "    var timer = setInterval(function(root) {\n",
       "      if (root.Bokeh !== undefined) {\n",
       "        embed_document(root);\n",
       "        clearInterval(timer);\n",
       "      }\n",
       "      attempts++;\n",
       "      if (attempts > 100) {\n",
       "        console.log(\"Bokeh: ERROR: Unable to embed document because BokehJS library is missing\")\n",
       "        clearInterval(timer);\n",
       "      }\n",
       "    }, 10, root)\n",
       "  }\n",
       "})(window);"
      ],
      "application/vnd.bokehjs_exec.v0+json": ""
     },
     "metadata": {
      "application/vnd.bokehjs_exec.v0+json": {
       "id": "b29dfd09-0d2a-4f97-8cf7-3991e379eaab"
      }
     },
     "output_type": "display_data"
    }
   ],
   "source": [
    "#　タイトルを設定2\n",
    "p = figure(plot_width=200, plot_height=200)\n",
    "p.title.text ='Title'\n",
    "show(p)"
   ]
  },
  {
   "cell_type": "code",
   "execution_count": 19,
   "metadata": {},
   "outputs": [
    {
     "name": "stderr",
     "output_type": "stream",
     "text": [
      "WARNING:/Users/chiseinotoya/jupyter_notebook/env/lib/python3.6/site-packages/bokeh/core/validation/check.py:W-1001 (NO_DATA_RENDERERS): Plot has no data renderers: Figure(id='6b7f8e63-019e-4bb4-9489-66c8e6176dbe', ...)\n"
     ]
    },
    {
     "data": {
      "text/html": [
       "\n",
       "<div class=\"bk-root\">\n",
       "    <div class=\"bk-plotdiv\" id=\"dc114332-5d9b-49dc-8102-46271dc8cdf1\"></div>\n",
       "</div>"
      ]
     },
     "metadata": {},
     "output_type": "display_data"
    },
    {
     "data": {
      "application/javascript": [
       "(function(root) {\n",
       "  function embed_document(root) {\n",
       "    var docs_json = {\"d4ebc39e-c795-454f-8ded-8dd98dd02b2c\":{\"roots\":{\"references\":[{\"attributes\":{\"active_drag\":\"auto\",\"active_inspect\":\"auto\",\"active_scroll\":\"auto\",\"active_tap\":\"auto\",\"tools\":[{\"id\":\"05986603-7560-485b-8639-2606104e6d47\",\"type\":\"PanTool\"},{\"id\":\"bea934e1-7112-4a9a-afe2-539fb6911401\",\"type\":\"WheelZoomTool\"},{\"id\":\"dec53d6c-5f9f-4187-aa19-cf3878d11ca0\",\"type\":\"BoxZoomTool\"},{\"id\":\"5e0a97b7-84b2-45d4-8c90-f8011d4ff0be\",\"type\":\"SaveTool\"},{\"id\":\"8998dfac-95e5-4708-b110-68428f1441a8\",\"type\":\"ResetTool\"},{\"id\":\"8b030f09-190b-4583-bc98-4d05aa50bde5\",\"type\":\"HelpTool\"}]},\"id\":\"f512bb95-12e4-444b-9967-a01a4dc24937\",\"type\":\"Toolbar\"},{\"attributes\":{\"below\":[{\"id\":\"0620f676-0dbc-42ef-b970-1cc665a3222a\",\"type\":\"LinearAxis\"}],\"left\":[{\"id\":\"545afd34-d491-487d-877b-daf5c668aa76\",\"type\":\"LinearAxis\"}],\"plot_height\":200,\"plot_width\":200,\"renderers\":[{\"id\":\"0620f676-0dbc-42ef-b970-1cc665a3222a\",\"type\":\"LinearAxis\"},{\"id\":\"c66ba668-7bd9-4952-93c2-776e151540b0\",\"type\":\"Grid\"},{\"id\":\"545afd34-d491-487d-877b-daf5c668aa76\",\"type\":\"LinearAxis\"},{\"id\":\"bb95d252-66e1-4996-8282-431564716dc2\",\"type\":\"Grid\"},{\"id\":\"26962b07-b198-41f7-9c57-0c53f7ff2e82\",\"type\":\"BoxAnnotation\"}],\"title\":{\"id\":\"0268168f-5f64-442b-a7cd-21c24f80463b\",\"type\":\"Title\"},\"toolbar\":{\"id\":\"f512bb95-12e4-444b-9967-a01a4dc24937\",\"type\":\"Toolbar\"},\"x_range\":{\"id\":\"4a52e04d-cd3e-440e-9eca-321b050c8360\",\"type\":\"DataRange1d\"},\"x_scale\":{\"id\":\"09d311ee-82d1-492a-9a92-ff9f5573cc6a\",\"type\":\"LinearScale\"},\"y_range\":{\"id\":\"c7bf7ca2-c38c-4f4a-9b95-3b0f2e8a4c7e\",\"type\":\"DataRange1d\"},\"y_scale\":{\"id\":\"6b23fd9c-9fc4-4087-9c76-89371b4d3798\",\"type\":\"LinearScale\"}},\"id\":\"6b7f8e63-019e-4bb4-9489-66c8e6176dbe\",\"subtype\":\"Figure\",\"type\":\"Plot\"},{\"attributes\":{\"formatter\":{\"id\":\"cbe4f520-cb3b-4f9c-9302-fd3b8bf1f358\",\"type\":\"BasicTickFormatter\"},\"plot\":{\"id\":\"6b7f8e63-019e-4bb4-9489-66c8e6176dbe\",\"subtype\":\"Figure\",\"type\":\"Plot\"},\"ticker\":{\"id\":\"6c6cb74a-c4c2-4c3a-90c6-4a85aee04a12\",\"type\":\"BasicTicker\"}},\"id\":\"0620f676-0dbc-42ef-b970-1cc665a3222a\",\"type\":\"LinearAxis\"},{\"attributes\":{\"align\":\"center\",\"plot\":null,\"text\":\"Title\"},\"id\":\"0268168f-5f64-442b-a7cd-21c24f80463b\",\"type\":\"Title\"},{\"attributes\":{},\"id\":\"6c6cb74a-c4c2-4c3a-90c6-4a85aee04a12\",\"type\":\"BasicTicker\"},{\"attributes\":{\"formatter\":{\"id\":\"835cb6f9-b990-48bb-9bc6-96fdc9ccf930\",\"type\":\"BasicTickFormatter\"},\"plot\":{\"id\":\"6b7f8e63-019e-4bb4-9489-66c8e6176dbe\",\"subtype\":\"Figure\",\"type\":\"Plot\"},\"ticker\":{\"id\":\"2f96e19d-1d67-452c-a14a-d18de7e9699e\",\"type\":\"BasicTicker\"}},\"id\":\"545afd34-d491-487d-877b-daf5c668aa76\",\"type\":\"LinearAxis\"},{\"attributes\":{},\"id\":\"05986603-7560-485b-8639-2606104e6d47\",\"type\":\"PanTool\"},{\"attributes\":{\"bottom_units\":\"screen\",\"fill_alpha\":{\"value\":0.5},\"fill_color\":{\"value\":\"lightgrey\"},\"left_units\":\"screen\",\"level\":\"overlay\",\"line_alpha\":{\"value\":1.0},\"line_color\":{\"value\":\"black\"},\"line_dash\":[4,4],\"line_width\":{\"value\":2},\"plot\":null,\"render_mode\":\"css\",\"right_units\":\"screen\",\"top_units\":\"screen\"},\"id\":\"26962b07-b198-41f7-9c57-0c53f7ff2e82\",\"type\":\"BoxAnnotation\"},{\"attributes\":{},\"id\":\"835cb6f9-b990-48bb-9bc6-96fdc9ccf930\",\"type\":\"BasicTickFormatter\"},{\"attributes\":{},\"id\":\"8b030f09-190b-4583-bc98-4d05aa50bde5\",\"type\":\"HelpTool\"},{\"attributes\":{},\"id\":\"6b23fd9c-9fc4-4087-9c76-89371b4d3798\",\"type\":\"LinearScale\"},{\"attributes\":{},\"id\":\"cbe4f520-cb3b-4f9c-9302-fd3b8bf1f358\",\"type\":\"BasicTickFormatter\"},{\"attributes\":{},\"id\":\"2f96e19d-1d67-452c-a14a-d18de7e9699e\",\"type\":\"BasicTicker\"},{\"attributes\":{\"dimension\":1,\"plot\":{\"id\":\"6b7f8e63-019e-4bb4-9489-66c8e6176dbe\",\"subtype\":\"Figure\",\"type\":\"Plot\"},\"ticker\":{\"id\":\"2f96e19d-1d67-452c-a14a-d18de7e9699e\",\"type\":\"BasicTicker\"}},\"id\":\"bb95d252-66e1-4996-8282-431564716dc2\",\"type\":\"Grid\"},{\"attributes\":{\"callback\":null},\"id\":\"4a52e04d-cd3e-440e-9eca-321b050c8360\",\"type\":\"DataRange1d\"},{\"attributes\":{\"plot\":{\"id\":\"6b7f8e63-019e-4bb4-9489-66c8e6176dbe\",\"subtype\":\"Figure\",\"type\":\"Plot\"},\"ticker\":{\"id\":\"6c6cb74a-c4c2-4c3a-90c6-4a85aee04a12\",\"type\":\"BasicTicker\"}},\"id\":\"c66ba668-7bd9-4952-93c2-776e151540b0\",\"type\":\"Grid\"},{\"attributes\":{},\"id\":\"5e0a97b7-84b2-45d4-8c90-f8011d4ff0be\",\"type\":\"SaveTool\"},{\"attributes\":{},\"id\":\"8998dfac-95e5-4708-b110-68428f1441a8\",\"type\":\"ResetTool\"},{\"attributes\":{\"overlay\":{\"id\":\"26962b07-b198-41f7-9c57-0c53f7ff2e82\",\"type\":\"BoxAnnotation\"}},\"id\":\"dec53d6c-5f9f-4187-aa19-cf3878d11ca0\",\"type\":\"BoxZoomTool\"},{\"attributes\":{},\"id\":\"09d311ee-82d1-492a-9a92-ff9f5573cc6a\",\"type\":\"LinearScale\"},{\"attributes\":{},\"id\":\"bea934e1-7112-4a9a-afe2-539fb6911401\",\"type\":\"WheelZoomTool\"},{\"attributes\":{\"callback\":null},\"id\":\"c7bf7ca2-c38c-4f4a-9b95-3b0f2e8a4c7e\",\"type\":\"DataRange1d\"}],\"root_ids\":[\"6b7f8e63-019e-4bb4-9489-66c8e6176dbe\"]},\"title\":\"Bokeh Application\",\"version\":\"0.12.10\"}};\n",
       "    var render_items = [{\"docid\":\"d4ebc39e-c795-454f-8ded-8dd98dd02b2c\",\"elementid\":\"dc114332-5d9b-49dc-8102-46271dc8cdf1\",\"modelid\":\"6b7f8e63-019e-4bb4-9489-66c8e6176dbe\"}];\n",
       "\n",
       "    root.Bokeh.embed.embed_items(docs_json, render_items);\n",
       "  }\n",
       "\n",
       "  if (root.Bokeh !== undefined) {\n",
       "    embed_document(root);\n",
       "  } else {\n",
       "    var attempts = 0;\n",
       "    var timer = setInterval(function(root) {\n",
       "      if (root.Bokeh !== undefined) {\n",
       "        embed_document(root);\n",
       "        clearInterval(timer);\n",
       "      }\n",
       "      attempts++;\n",
       "      if (attempts > 100) {\n",
       "        console.log(\"Bokeh: ERROR: Unable to embed document because BokehJS library is missing\")\n",
       "        clearInterval(timer);\n",
       "      }\n",
       "    }, 10, root)\n",
       "  }\n",
       "})(window);"
      ],
      "application/vnd.bokehjs_exec.v0+json": ""
     },
     "metadata": {
      "application/vnd.bokehjs_exec.v0+json": {
       "id": "6b7f8e63-019e-4bb4-9489-66c8e6176dbe"
      }
     },
     "output_type": "display_data"
    }
   ],
   "source": [
    "# タイトルの水平位置の設定\n",
    "p = figure(plot_width=200, plot_height=200, title='Title')\n",
    "p.title.align ='center'\n",
    "show(p)"
   ]
  },
  {
   "cell_type": "code",
   "execution_count": null,
   "metadata": {},
   "outputs": [],
   "source": [
    "# タイトルの書式設定\n",
    "p = figure(plot_width=200, plot_height=200, title='Title')\n",
    "p.title.text_font ='times'\n",
    "p.title.text_font_size = '20pt'\n",
    "p.title.text_font_style = 'bold'\n",
    "p\n",
    "show(p)"
   ]
  }
 ],
 "metadata": {
  "kernelspec": {
   "display_name": "Python 3",
   "language": "python",
   "name": "python3"
  },
  "language_info": {
   "codemirror_mode": {
    "name": "ipython",
    "version": 3
   },
   "file_extension": ".py",
   "mimetype": "text/x-python",
   "name": "python",
   "nbconvert_exporter": "python",
   "pygments_lexer": "ipython3",
   "version": "3.6.1"
  }
 },
 "nbformat": 4,
 "nbformat_minor": 2
}
