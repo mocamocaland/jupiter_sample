{
 "cells": [
  {
   "cell_type": "code",
   "execution_count": 23,
   "metadata": {},
   "outputs": [
    {
     "name": "stderr",
     "output_type": "stream",
     "text": [
      "WARNING:/Users/chiseinotoya/jupyter_notebook/env/lib/python3.6/site-packages/bokeh/core/validation/check.py:W-1001 (NO_DATA_RENDERERS): Plot has no data renderers: Figure(id='2d436120-3b4e-4931-afb1-567572ef5882', ...)\n"
     ]
    }
   ],
   "source": [
    "from bokeh.plotting import figure, output_notebook, show\n",
    "from numpy import pi\n",
    "\n",
    "output_notebook\n",
    "\n",
    "p = figure(plot_width=400, plot_height=400, x_range=(-0.5, 5.5))\n",
    "\n",
    "#patch\n",
    "p.patch([0, 2, 1], [0, 0, 1], alpha=0.5)\n",
    "#patches\n",
    "p.patches([[3, 4, 3], [4, 5, 5]], [[0, 0, 1],[1, 1, 0]], alpha=0.5)\n",
    "\n",
    "show(p) #多角形の描画"
   ]
  },
  {
   "cell_type": "code",
   "execution_count": 24,
   "metadata": {},
   "outputs": [
    {
     "name": "stderr",
     "output_type": "stream",
     "text": [
      "WARNING:/Users/chiseinotoya/jupyter_notebook/env/lib/python3.6/site-packages/bokeh/core/validation/check.py:W-1001 (NO_DATA_RENDERERS): Plot has no data renderers: Figure(id='2d436120-3b4e-4931-afb1-567572ef5882', ...)\n"
     ]
    }
   ],
   "source": [
    "#注釈\n",
    "#patch\n",
    "p.text(\n",
    "    [1, 1, 1], [0.6, 0.5, 0.4],\n",
    "    text=['patch', 'x=[0, 2, 1]', 'y=[0, 0, 1]'],\n",
    "    text_align='center', text_baseline='middle')\n",
    "p.text(\n",
    "    [0, 2, 1], [0, 0, 1],\n",
    "    text=['(0, 0)', '(2, 0)', '(1, 1)'],\n",
    "    text_align='center', text_baseline='middle')\n",
    "#patches\n",
    "p.text(\n",
    "    [4, 4, 4], [0.6, 0.5, 0.4],\n",
    "    text=['patches', 'xs=[[3, 4, 3],[4, 5, 5]]', 'ys=[[0, 0, 1], [1, 1, 0]]'],\n",
    "    text_align='center', text_baseline='middle')\n",
    "p.text(\n",
    "    [3, 4, 3], [0, 0, 1],\n",
    "    text=['(3, 0)', '(4, 0)', '(3, 1)'],\n",
    "    text_align='center', text_baseline='middle')\n",
    "\n",
    "p.text(\n",
    "    [4, 5, 5], [1, 1, 0],\n",
    "    text=['(4, 1)', '(5, 1)', '(5, 0)'],\n",
    "    text_align='center', text_baseline='middle')\n",
    "\n",
    "show(p)"
   ]
  },
  {
   "cell_type": "code",
   "execution_count": 25,
   "metadata": {},
   "outputs": [
    {
     "name": "stderr",
     "output_type": "stream",
     "text": [
      "WARNING:/Users/chiseinotoya/jupyter_notebook/env/lib/python3.6/site-packages/bokeh/core/validation/check.py:W-1001 (NO_DATA_RENDERERS): Plot has no data renderers: Figure(id='2d436120-3b4e-4931-afb1-567572ef5882', ...)\n"
     ]
    }
   ],
   "source": [
    "# 楕円の描画\n",
    "p= figure(plot_width=400, plot_height=200, x_range=(-0.5, 1.5), y_range=(-0.5, 0.5))\n",
    "\n",
    "#oval\n",
    "p.oval(x=[0], y=[0], width=1, height=1, alpha=0.5)\n",
    "# ellipse\n",
    "p.ellipse(x=[1], y=[0], width=1, height=1, alpha=0.5)\n",
    "\n",
    "# 注釈\n",
    "# oval\n",
    "p.text(\n",
    "    x=[0], y=[0], text=['oval'], text_align='center', text_baseline='middle')\n",
    "# eclipse\n",
    "p.text(\n",
    "    x=[1], y=[0], text=['eclipse'],\n",
    "    text_align='center', text_baseline='middle')\n",
    "\n",
    "show(p)"
   ]
  },
  {
   "cell_type": "code",
   "execution_count": 26,
   "metadata": {},
   "outputs": [
    {
     "name": "stderr",
     "output_type": "stream",
     "text": [
      "WARNING:/Users/chiseinotoya/jupyter_notebook/env/lib/python3.6/site-packages/bokeh/core/validation/check.py:W-1001 (NO_DATA_RENDERERS): Plot has no data renderers: Figure(id='2d436120-3b4e-4931-afb1-567572ef5882', ...)\n"
     ]
    }
   ],
   "source": [
    "#円形の描画\n",
    "p = figure(plot_width=400, plot_height=400, x_range=(-0.5, 1.5), y_range=(0.5, 2.5))\n",
    "\n",
    "p.arc(x=[0], y=[2], radius=0.5, start_angle=0, end_angle=pi * 1.5)\n",
    "p.wedge(x=[0], y=[1], radius=0.5, start_angle=pi * 1.5, end_angle=0)\n",
    "p.annulus(x=[1], y=[2], inner_radius=0.3, outer_radius=0.5)\n",
    "p.annular_wedge(x=[1], y=[1], inner_radius=0.3, outer_radius=0.5,\n",
    "                start_angle=0, end_angle=pi * 1)\n",
    "\n",
    "# 注釈\n",
    "# arc\n",
    "p.text(x=[0], y=[2], text=['arc'],\n",
    "       text_align='center', text_baseline='middle')\n",
    "# wedge\n",
    "p.text(x=[0], y=[1], text=['wedge'],\n",
    "       text_align='center', text_baseline='bottom')\n",
    "\n",
    "#annulus\n",
    "p.text(x=[1], y=[2], text=['annulus'],\n",
    "       text_align='center', text_baseline='middle')\n",
    "\n",
    "#annular_wedge\n",
    "p.text(x=[1], y=[1], text=['annular_wedge'],\n",
    "       text_align='center', text_baseline='top')\n",
    "\n",
    "show(p)"
   ]
  },
  {
   "cell_type": "code",
   "execution_count": 27,
   "metadata": {},
   "outputs": [
    {
     "name": "stderr",
     "output_type": "stream",
     "text": [
      "WARNING:/Users/chiseinotoya/jupyter_notebook/env/lib/python3.6/site-packages/bokeh/core/validation/check.py:W-1001 (NO_DATA_RENDERERS): Plot has no data renderers: Figure(id='2d436120-3b4e-4931-afb1-567572ef5882', ...)\n"
     ]
    }
   ],
   "source": [
    "# 線を描画　line() multi_line() segment()\n",
    "p = figure(plot_width=200, plot_height=200)\n",
    "p.line([0, 1],[0, 1])\n",
    "p.line([1, 2],[0, 1])\n",
    "show(p)"
   ]
  },
  {
   "cell_type": "code",
   "execution_count": 28,
   "metadata": {},
   "outputs": [
    {
     "name": "stderr",
     "output_type": "stream",
     "text": [
      "WARNING:/Users/chiseinotoya/jupyter_notebook/env/lib/python3.6/site-packages/bokeh/core/validation/check.py:W-1001 (NO_DATA_RENDERERS): Plot has no data renderers: Figure(id='2d436120-3b4e-4931-afb1-567572ef5882', ...)\n"
     ]
    }
   ],
   "source": [
    "p = figure(plot_width=200, plot_height=200)\n",
    "p.multi_line([[0, 1],[1, 2]], [[0, 1], [0, 1]])\n",
    "show(p)"
   ]
  },
  {
   "cell_type": "code",
   "execution_count": 29,
   "metadata": {},
   "outputs": [
    {
     "name": "stderr",
     "output_type": "stream",
     "text": [
      "WARNING:/Users/chiseinotoya/jupyter_notebook/env/lib/python3.6/site-packages/bokeh/core/validation/check.py:W-1001 (NO_DATA_RENDERERS): Plot has no data renderers: Figure(id='2d436120-3b4e-4931-afb1-567572ef5882', ...)\n"
     ]
    }
   ],
   "source": [
    "p = figure(plot_width=200, plot_height=200)\n",
    "p.segment(x0=[0, 1], y0=[0, 0], x1=[1, 2], y1=[1, 1])\n",
    "show(p)"
   ]
  },
  {
   "cell_type": "code",
   "execution_count": 30,
   "metadata": {},
   "outputs": [
    {
     "name": "stderr",
     "output_type": "stream",
     "text": [
      "WARNING:/Users/chiseinotoya/jupyter_notebook/env/lib/python3.6/site-packages/bokeh/core/validation/check.py:W-1001 (NO_DATA_RENDERERS): Plot has no data renderers: Figure(id='2d436120-3b4e-4931-afb1-567572ef5882', ...)\n"
     ]
    }
   ],
   "source": [
    "#ラベルを持ったデータ\n",
    "data_dict = {'x':[1, 2], 'y':[1, 1], 'text':['a','b']}\n",
    "\n",
    "p = figure(plot_width=200, plot_height=200, x_range=(0.5, 2.5))\n",
    "\n",
    "p.circle(x='x', y='y', source=data_dict)\n",
    "p.line(x='x', y='y', source=data_dict)\n",
    "p.text(x='x', y='y', text='text', source=data_dict)\n",
    "\n",
    "show(p)"
   ]
  },
  {
   "cell_type": "code",
   "execution_count": null,
   "metadata": {},
   "outputs": [],
   "source": [
    "import pandas as pd\n",
    "df = pd.DataFrame(data_dict)\n",
    "\n",
    "p = figure(plot_width=200, plot_height=200, x_range=(0.5, 2.5))\n",
    "p.circle(x='x', y='y', source=df)\n",
    "p.line()"
   ]
  }
 ],
 "metadata": {
  "kernelspec": {
   "display_name": "Python 3",
   "language": "python",
   "name": "python3"
  },
  "language_info": {
   "codemirror_mode": {
    "name": "ipython",
    "version": 3
   },
   "file_extension": ".py",
   "mimetype": "text/x-python",
   "name": "python",
   "nbconvert_exporter": "python",
   "pygments_lexer": "ipython3",
   "version": "3.6.1"
  }
 },
 "nbformat": 4,
 "nbformat_minor": 2
}
