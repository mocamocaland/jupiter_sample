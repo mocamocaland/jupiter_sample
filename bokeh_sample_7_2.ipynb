{
 "cells": [
  {
   "cell_type": "code",
   "execution_count": 13,
   "metadata": {},
   "outputs": [
    {
     "name": "stderr",
     "output_type": "stream",
     "text": [
      "WARNING:/Users/chiseinotoya/jupyter_notebook/env/lib/python3.6/site-packages/bokeh/core/validation/check.py:W-1001 (NO_DATA_RENDERERS): Plot has no data renderers: Figure(id='2d436120-3b4e-4931-afb1-567572ef5882', ...)\n"
     ]
    }
   ],
   "source": [
    "from bokeh.plotting import figure, output_notebook, show\n",
    "from numpy import pi\n",
    "\n",
    "output_notebook\n",
    "\n",
    "p = figure(plot_width=400, plot_height=400, x_range=(-0.5, 5.5))\n",
    "\n",
    "#patch\n",
    "p.patch([0, 2, 1], [0, 0, 1], alpha=0.5)\n",
    "#patches\n",
    "p.patches([[3, 4, 3], [4, 5, 5]], [[0, 0, 1],[1, 1, 0]], alpha=0.5)\n",
    "\n",
    "show(p) #多角形の描画"
   ]
  },
  {
   "cell_type": "code",
   "execution_count": 14,
   "metadata": {},
   "outputs": [
    {
     "name": "stderr",
     "output_type": "stream",
     "text": [
      "WARNING:/Users/chiseinotoya/jupyter_notebook/env/lib/python3.6/site-packages/bokeh/core/validation/check.py:W-1001 (NO_DATA_RENDERERS): Plot has no data renderers: Figure(id='2d436120-3b4e-4931-afb1-567572ef5882', ...)\n"
     ]
    }
   ],
   "source": [
    "#注釈\n",
    "#patch\n",
    "p.text(\n",
    "    [1, 1, 1], [0.6, 0.5, 0.4],\n",
    "    text=['patch', 'x=[0, 2, 1]', 'y=[0, 0, 1]'],\n",
    "    text_align='center', text_baseline='middle')\n",
    "p.text(\n",
    "    [0, 2, 1], [0, 0, 1],\n",
    "    text=['(0, 0)', '(2, 0)', '(1, 1)'],\n",
    "    text_align='center', text_baseline='middle')\n",
    "#patches\n",
    "p.text(\n",
    "    [4, 4, 4], [0.6, 0.5, 0.4],\n",
    "    text=['patches', 'xs=[[3, 4, 3],[4, 5, 5]]', 'ys=[[0, 0, 1], [1, 1, 0]]'],\n",
    "    text_align='center', text_baseline='middle')\n",
    "p.text(\n",
    "    [3, 4, 3], [0, 0, 1],\n",
    "    text=['(3, 0)', '(4, 0)', '(3, 1)'],\n",
    "    text_align='center', text_baseline='middle')\n",
    "\n",
    "p.text(\n",
    "    [4, 5, 5], [1, 1, 0],\n",
    "    text=['(4, 1)', '(5, 1)', '(5, 0)'],\n",
    "    text_align='center', text_baseline='middle')\n",
    "\n",
    "show(p)"
   ]
  },
  {
   "cell_type": "code",
   "execution_count": 16,
   "metadata": {},
   "outputs": [
    {
     "name": "stderr",
     "output_type": "stream",
     "text": [
      "WARNING:/Users/chiseinotoya/jupyter_notebook/env/lib/python3.6/site-packages/bokeh/core/validation/check.py:W-1001 (NO_DATA_RENDERERS): Plot has no data renderers: Figure(id='2d436120-3b4e-4931-afb1-567572ef5882', ...)\n"
     ]
    }
   ],
   "source": [
    "# 楕円の描画\n",
    "p= figure(plot_width=400, plot_height=200, x_range=(-0.5, 1.5), y_range=(-0.5, 0.5))\n",
    "\n",
    "#oval\n",
    "p.oval(x=[0], y=[0], width=1, height=1, alpha=0.5)\n",
    "# ellipse\n",
    "p.ellipse(x=[1], y=[0], width=1, height=1, alpha=0.5)\n",
    "\n",
    "# 注釈\n",
    "# oval\n",
    "p.text(\n",
    "    x=[0], y=[0], text=['oval'], text_align='center', text_baseline='middle')\n",
    "# eclipse\n",
    "p.text(\n",
    "    x=[1], y=[0], text=['eclipse'],\n",
    "    text_align='center', text_baseline='middle')\n",
    "\n",
    "show(p)"
   ]
  },
  {
   "cell_type": "code",
   "execution_count": null,
   "metadata": {},
   "outputs": [],
   "source": []
  }
 ],
 "metadata": {
  "kernelspec": {
   "display_name": "Python 3",
   "language": "python",
   "name": "python3"
  },
  "language_info": {
   "codemirror_mode": {
    "name": "ipython",
    "version": 3
   },
   "file_extension": ".py",
   "mimetype": "text/x-python",
   "name": "python",
   "nbconvert_exporter": "python",
   "pygments_lexer": "ipython3",
   "version": "3.6.1"
  }
 },
 "nbformat": 4,
 "nbformat_minor": 2
}
