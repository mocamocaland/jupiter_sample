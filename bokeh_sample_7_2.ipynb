{
 "cells": [
  {
   "cell_type": "code",
   "execution_count": 2,
   "metadata": {},
   "outputs": [],
   "source": [
    "from bokeh.plotting import figure, output_notebook, show\n",
    "from numpy import pi\n",
    "\n",
    "output_notebook\n",
    "\n",
    "p = figure(plot_width=400, plot_height=400, x_range=(-0.5, 5.5))\n",
    "\n",
    "#patch\n",
    "p.patch([0, 2, 1], [0, 0, 1], alpha=0.5)\n",
    "#patches\n",
    "p.patches([[3, 4, 3], [4, 5, 5]], [[0, 0, 1],[1, 1, 0]], alpha=0.5)\n",
    "\n",
    "show(p) #多角形の描画"
   ]
  },
  {
   "cell_type": "code",
   "execution_count": 3,
   "metadata": {},
   "outputs": [],
   "source": [
    "#注釈\n",
    "#patch\n",
    "p.text(\n",
    "    [1, 1, 1], [0.6, 0.5, 0.4],\n",
    "    text=['patch', 'x=[0, 2, 1]', 'y=[0, 0, 1]'],\n",
    "    text_align='center', text_baseline='middle')\n",
    "p.text(\n",
    "    [0, 2, 1], [0, 0, 1],\n",
    "    text=['(0, 0)', '(2, 0)', '(1, 1)'],\n",
    "    text_align='center', text_baseline='middle')\n",
    "#patches\n",
    "p.text(\n",
    "    [4, 4, 4], [0.6, 0.5, 0.4],\n",
    "    text=['patches', 'xs=[[3, 4, 3],[4, 5, 5]]', 'ys=[[0, 0, 1], [1, 1, 0]]'],\n",
    "    text_align='center', text_baseline='middle')\n",
    "p.text(\n",
    "    [3, 4, 3], [0, 0, 1],\n",
    "    text=['(3, 0)', '(4, 0)', '(3, 1)'],\n",
    "    text_align='center', text_baseline='middle')\n",
    "\n",
    "p.text(\n",
    "    [4, 5, 5], [1, 1, 0],\n",
    "    text=['(4, 1)', '(5, 1)', '(5, 0)'],\n",
    "    text_align='center', text_baseline='middle')\n",
    "\n",
    "show(p)"
   ]
  },
  {
   "cell_type": "code",
   "execution_count": 4,
   "metadata": {},
   "outputs": [],
   "source": [
    "# 楕円の描画\n",
    "p= figure(plot_width=400, plot_height=200, x_range=(-0.5, 1.5), y_range=(-0.5, 0.5))\n",
    "\n",
    "#oval\n",
    "p.oval(x=[0], y=[0], width=1, height=1, alpha=0.5)\n",
    "# ellipse\n",
    "p.ellipse(x=[1], y=[0], width=1, height=1, alpha=0.5)\n",
    "\n",
    "# 注釈\n",
    "# oval\n",
    "p.text(\n",
    "    x=[0], y=[0], text=['oval'], text_align='center', text_baseline='middle')\n",
    "# eclipse\n",
    "p.text(\n",
    "    x=[1], y=[0], text=['eclipse'],\n",
    "    text_align='center', text_baseline='middle')\n",
    "\n",
    "show(p)"
   ]
  },
  {
   "cell_type": "code",
   "execution_count": 5,
   "metadata": {},
   "outputs": [],
   "source": [
    "#円形の描画\n",
    "p = figure(plot_width=400, plot_height=400, x_range=(-0.5, 1.5), y_range=(0.5, 2.5))\n",
    "\n",
    "p.arc(x=[0], y=[2], radius=0.5, start_angle=0, end_angle=pi * 1.5)\n",
    "p.wedge(x=[0], y=[1], radius=0.5, start_angle=pi * 1.5, end_angle=0)\n",
    "p.annulus(x=[1], y=[2], inner_radius=0.3, outer_radius=0.5)\n",
    "p.annular_wedge(x=[1], y=[1], inner_radius=0.3, outer_radius=0.5,\n",
    "                start_angle=0, end_angle=pi * 1)\n",
    "\n",
    "# 注釈\n",
    "# arc\n",
    "p.text(x=[0], y=[2], text=['arc'],\n",
    "       text_align='center', text_baseline='middle')\n",
    "# wedge\n",
    "p.text(x=[0], y=[1], text=['wedge'],\n",
    "       text_align='center', text_baseline='bottom')\n",
    "\n",
    "#annulus\n",
    "p.text(x=[1], y=[2], text=['annulus'],\n",
    "       text_align='center', text_baseline='middle')\n",
    "\n",
    "#annular_wedge\n",
    "p.text(x=[1], y=[1], text=['annular_wedge'],\n",
    "       text_align='center', text_baseline='top')\n",
    "\n",
    "show(p)"
   ]
  },
  {
   "cell_type": "code",
   "execution_count": 6,
   "metadata": {},
   "outputs": [],
   "source": [
    "# 線を描画　line() multi_line() segment()\n",
    "p = figure(plot_width=200, plot_height=200)\n",
    "p.line([0, 1],[0, 1])\n",
    "p.line([1, 2],[0, 1])\n",
    "show(p)"
   ]
  },
  {
   "cell_type": "code",
   "execution_count": 7,
   "metadata": {},
   "outputs": [],
   "source": [
    "p = figure(plot_width=200, plot_height=200)\n",
    "p.multi_line([[0, 1],[1, 2]], [[0, 1], [0, 1]])\n",
    "show(p)"
   ]
  },
  {
   "cell_type": "code",
   "execution_count": 8,
   "metadata": {},
   "outputs": [],
   "source": [
    "p = figure(plot_width=200, plot_height=200)\n",
    "p.segment(x0=[0, 1], y0=[0, 0], x1=[1, 2], y1=[1, 1])\n",
    "show(p)"
   ]
  },
  {
   "cell_type": "code",
   "execution_count": 9,
   "metadata": {},
   "outputs": [],
   "source": [
    "#ラベルを持ったデータ\n",
    "data_dict = {'x':[1, 2], 'y':[1, 1], 'text':['a','b']}\n",
    "\n",
    "p = figure(plot_width=200, plot_height=200, x_range=(0.5, 2.5))\n",
    "\n",
    "p.circle(x='x', y='y', source=data_dict)\n",
    "p.line(x='x', y='y', source=data_dict)\n",
    "p.text(x='x', y='y', text='text', source=data_dict)\n",
    "\n",
    "show(p)"
   ]
  },
  {
   "cell_type": "code",
   "execution_count": 10,
   "metadata": {},
   "outputs": [],
   "source": [
    "import pandas as pd\n",
    "df = pd.DataFrame(data_dict)\n",
    "\n",
    "p = figure(plot_width=200, plot_height=200, x_range=(0.5, 2.5))\n",
    "p.circle(x='x', y='y', source=df)\n",
    "p.line(x='x', y='y', source=df)\n",
    "p.text(x='x', y='y', text='text', source=df)\n",
    "\n",
    "show(p)"
   ]
  },
  {
   "cell_type": "code",
   "execution_count": 14,
   "metadata": {},
   "outputs": [
    {
     "name": "stdout",
     "output_type": "stream",
     "text": [
      "mid-level\n"
     ]
    }
   ],
   "source": [
    "# figure関数のキーワード引数でタイトルを設定\n",
    "from bokeh.plotting import figure\n",
    "\n",
    "plot_mid = figure(title='mid-level')\n",
    "print(plot_mid.title.text)"
   ]
  },
  {
   "cell_type": "code",
   "execution_count": null,
   "metadata": {},
   "outputs": [],
   "source": [
    "plot_mid.title.text = 'Mid-Level'\n",
    "\n",
    "print(plot_mid.title.text)"
   ]
  }
 ],
 "metadata": {
  "kernelspec": {
   "display_name": "Python 3",
   "language": "python",
   "name": "python3"
  },
  "language_info": {
   "codemirror_mode": {
    "name": "ipython",
    "version": 3
   },
   "file_extension": ".py",
   "mimetype": "text/x-python",
   "name": "python",
   "nbconvert_exporter": "python",
   "pygments_lexer": "ipython3",
   "version": "3.6.1"
  }
 },
 "nbformat": 4,
 "nbformat_minor": 2
}
