{
 "cells": [
  {
   "cell_type": "code",
   "execution_count": 4,
   "metadata": {},
   "outputs": [
    {
     "data": {
      "text/html": [
       "\n",
       "    <div class=\"bk-root\">\n",
       "        <a href=\"https://bokeh.pydata.org\" target=\"_blank\" class=\"bk-logo bk-logo-small bk-logo-notebook\"></a>\n",
       "        <span id=\"2deb1f8e-ba54-41df-8270-fd208cfc566b\">Loading BokehJS ...</span>\n",
       "    </div>"
      ]
     },
     "metadata": {},
     "output_type": "display_data"
    },
    {
     "data": {
      "application/javascript": [
       "\n",
       "(function(root) {\n",
       "  function now() {\n",
       "    return new Date();\n",
       "  }\n",
       "\n",
       "  var force = true;\n",
       "\n",
       "  if (typeof (root._bokeh_onload_callbacks) === \"undefined\" || force === true) {\n",
       "    root._bokeh_onload_callbacks = [];\n",
       "    root._bokeh_is_loading = undefined;\n",
       "  }\n",
       "\n",
       "  var JS_MIME_TYPE = 'application/javascript';\n",
       "  var HTML_MIME_TYPE = 'text/html';\n",
       "  var EXEC_MIME_TYPE = 'application/vnd.bokehjs_exec.v0+json';\n",
       "  var CLASS_NAME = 'output_bokeh rendered_html';\n",
       "\n",
       "  /**\n",
       "   * Render data to the DOM node\n",
       "   */\n",
       "  function render(props, node) {\n",
       "    var script = document.createElement(\"script\");\n",
       "    node.appendChild(script);\n",
       "  }\n",
       "\n",
       "  /**\n",
       "   * Handle when an output is cleared or removed\n",
       "   */\n",
       "  function handleClearOutput(event, handle) {\n",
       "    var cell = handle.cell;\n",
       "\n",
       "    var id = cell.output_area._bokeh_element_id;\n",
       "    var server_id = cell.output_area._bokeh_server_id;\n",
       "    // Clean up Bokeh references\n",
       "    if (id !== undefined) {\n",
       "      Bokeh.index[id].model.document.clear();\n",
       "      delete Bokeh.index[id];\n",
       "    }\n",
       "\n",
       "    if (server_id !== undefined) {\n",
       "      // Clean up Bokeh references\n",
       "      var cmd = \"from bokeh.io.state import curstate; print(curstate().uuid_to_server['\" + server_id + \"'].get_sessions()[0].document.roots[0]._id)\";\n",
       "      cell.notebook.kernel.execute(cmd, {\n",
       "        iopub: {\n",
       "          output: function(msg) {\n",
       "            var element_id = msg.content.text.trim();\n",
       "            Bokeh.index[element_id].model.document.clear();\n",
       "            delete Bokeh.index[element_id];\n",
       "          }\n",
       "        }\n",
       "      });\n",
       "      // Destroy server and session\n",
       "      var cmd = \"import bokeh.io.notebook as ion; ion.destroy_server('\" + server_id + \"')\";\n",
       "      cell.notebook.kernel.execute(cmd);\n",
       "    }\n",
       "  }\n",
       "\n",
       "  /**\n",
       "   * Handle when a new output is added\n",
       "   */\n",
       "  function handleAddOutput(event, handle) {\n",
       "    var output_area = handle.output_area;\n",
       "    var output = handle.output;\n",
       "\n",
       "    // limit handleAddOutput to display_data with EXEC_MIME_TYPE content only\n",
       "    if ((output.output_type != \"display_data\") || (!output.data.hasOwnProperty(EXEC_MIME_TYPE))) {\n",
       "      return\n",
       "    }\n",
       "\n",
       "    var toinsert = output_area.element.find(`.${CLASS_NAME.split(' ')[0]}`);\n",
       "\n",
       "    if (output.metadata[EXEC_MIME_TYPE][\"id\"] !== undefined) {\n",
       "      toinsert[0].firstChild.textContent = output.data[JS_MIME_TYPE];\n",
       "      // store reference to embed id on output_area\n",
       "      output_area._bokeh_element_id = output.metadata[EXEC_MIME_TYPE][\"id\"];\n",
       "    }\n",
       "    if (output.metadata[EXEC_MIME_TYPE][\"server_id\"] !== undefined) {\n",
       "      var bk_div = document.createElement(\"div\");\n",
       "      bk_div.innerHTML = output.data[HTML_MIME_TYPE];\n",
       "      var script_attrs = bk_div.children[0].attributes;\n",
       "      for (var i = 0; i < script_attrs.length; i++) {\n",
       "        toinsert[0].firstChild.setAttribute(script_attrs[i].name, script_attrs[i].value);\n",
       "      }\n",
       "      // store reference to server id on output_area\n",
       "      output_area._bokeh_server_id = output.metadata[EXEC_MIME_TYPE][\"server_id\"];\n",
       "    }\n",
       "  }\n",
       "\n",
       "  function register_renderer(events, OutputArea) {\n",
       "\n",
       "    function append_mime(data, metadata, element) {\n",
       "      // create a DOM node to render to\n",
       "      var toinsert = this.create_output_subarea(\n",
       "        metadata,\n",
       "        CLASS_NAME,\n",
       "        EXEC_MIME_TYPE\n",
       "      );\n",
       "      this.keyboard_manager.register_events(toinsert);\n",
       "      // Render to node\n",
       "      var props = {data: data, metadata: metadata[EXEC_MIME_TYPE]};\n",
       "      render(props, toinsert[0]);\n",
       "      element.append(toinsert);\n",
       "      return toinsert\n",
       "    }\n",
       "\n",
       "    /* Handle when an output is cleared or removed */\n",
       "    events.on('clear_output.CodeCell', handleClearOutput);\n",
       "    events.on('delete.Cell', handleClearOutput);\n",
       "\n",
       "    /* Handle when a new output is added */\n",
       "    events.on('output_added.OutputArea', handleAddOutput);\n",
       "\n",
       "    /**\n",
       "     * Register the mime type and append_mime function with output_area\n",
       "     */\n",
       "    OutputArea.prototype.register_mime_type(EXEC_MIME_TYPE, append_mime, {\n",
       "      /* Is output safe? */\n",
       "      safe: true,\n",
       "      /* Index of renderer in `output_area.display_order` */\n",
       "      index: 0\n",
       "    });\n",
       "  }\n",
       "\n",
       "  // register the mime type if in Jupyter Notebook environment and previously unregistered\n",
       "  if (root.Jupyter !== undefined) {\n",
       "    var events = require('base/js/events');\n",
       "    var OutputArea = require('notebook/js/outputarea').OutputArea;\n",
       "\n",
       "    if (OutputArea.prototype.mime_types().indexOf(EXEC_MIME_TYPE) == -1) {\n",
       "      register_renderer(events, OutputArea);\n",
       "    }\n",
       "  }\n",
       "\n",
       "  \n",
       "  if (typeof (root._bokeh_timeout) === \"undefined\" || force === true) {\n",
       "    root._bokeh_timeout = Date.now() + 5000;\n",
       "    root._bokeh_failed_load = false;\n",
       "  }\n",
       "\n",
       "  var NB_LOAD_WARNING = {'data': {'text/html':\n",
       "     \"<div style='background-color: #fdd'>\\n\"+\n",
       "     \"<p>\\n\"+\n",
       "     \"BokehJS does not appear to have successfully loaded. If loading BokehJS from CDN, this \\n\"+\n",
       "     \"may be due to a slow or bad network connection. Possible fixes:\\n\"+\n",
       "     \"</p>\\n\"+\n",
       "     \"<ul>\\n\"+\n",
       "     \"<li>re-rerun `output_notebook()` to attempt to load from CDN again, or</li>\\n\"+\n",
       "     \"<li>use INLINE resources instead, as so:</li>\\n\"+\n",
       "     \"</ul>\\n\"+\n",
       "     \"<code>\\n\"+\n",
       "     \"from bokeh.resources import INLINE\\n\"+\n",
       "     \"output_notebook(resources=INLINE)\\n\"+\n",
       "     \"</code>\\n\"+\n",
       "     \"</div>\"}};\n",
       "\n",
       "  function display_loaded() {\n",
       "    var el = document.getElementById(\"2deb1f8e-ba54-41df-8270-fd208cfc566b\");\n",
       "    if (el != null) {\n",
       "      el.textContent = \"BokehJS is loading...\";\n",
       "    }\n",
       "    if (root.Bokeh !== undefined) {\n",
       "      if (el != null) {\n",
       "        el.textContent = \"BokehJS \" + root.Bokeh.version + \" successfully loaded.\";\n",
       "      }\n",
       "    } else if (Date.now() < root._bokeh_timeout) {\n",
       "      setTimeout(display_loaded, 100)\n",
       "    }\n",
       "  }\n",
       "\n",
       "\n",
       "  function run_callbacks() {\n",
       "    try {\n",
       "      root._bokeh_onload_callbacks.forEach(function(callback) { callback() });\n",
       "    }\n",
       "    finally {\n",
       "      delete root._bokeh_onload_callbacks\n",
       "    }\n",
       "    console.info(\"Bokeh: all callbacks have finished\");\n",
       "  }\n",
       "\n",
       "  function load_libs(js_urls, callback) {\n",
       "    root._bokeh_onload_callbacks.push(callback);\n",
       "    if (root._bokeh_is_loading > 0) {\n",
       "      console.log(\"Bokeh: BokehJS is being loaded, scheduling callback at\", now());\n",
       "      return null;\n",
       "    }\n",
       "    if (js_urls == null || js_urls.length === 0) {\n",
       "      run_callbacks();\n",
       "      return null;\n",
       "    }\n",
       "    console.log(\"Bokeh: BokehJS not loaded, scheduling load and callback at\", now());\n",
       "    root._bokeh_is_loading = js_urls.length;\n",
       "    for (var i = 0; i < js_urls.length; i++) {\n",
       "      var url = js_urls[i];\n",
       "      var s = document.createElement('script');\n",
       "      s.src = url;\n",
       "      s.async = false;\n",
       "      s.onreadystatechange = s.onload = function() {\n",
       "        root._bokeh_is_loading--;\n",
       "        if (root._bokeh_is_loading === 0) {\n",
       "          console.log(\"Bokeh: all BokehJS libraries loaded\");\n",
       "          run_callbacks()\n",
       "        }\n",
       "      };\n",
       "      s.onerror = function() {\n",
       "        console.warn(\"failed to load library \" + url);\n",
       "      };\n",
       "      console.log(\"Bokeh: injecting script tag for BokehJS library: \", url);\n",
       "      document.getElementsByTagName(\"head\")[0].appendChild(s);\n",
       "    }\n",
       "  };var element = document.getElementById(\"2deb1f8e-ba54-41df-8270-fd208cfc566b\");\n",
       "  if (element == null) {\n",
       "    console.log(\"Bokeh: ERROR: autoload.js configured with elementid '2deb1f8e-ba54-41df-8270-fd208cfc566b' but no matching script tag was found. \")\n",
       "    return false;\n",
       "  }\n",
       "\n",
       "  var js_urls = [\"https://cdn.pydata.org/bokeh/release/bokeh-0.12.10.min.js\", \"https://cdn.pydata.org/bokeh/release/bokeh-widgets-0.12.10.min.js\", \"https://cdn.pydata.org/bokeh/release/bokeh-tables-0.12.10.min.js\", \"https://cdn.pydata.org/bokeh/release/bokeh-gl-0.12.10.min.js\"];\n",
       "\n",
       "  var inline_js = [\n",
       "    function(Bokeh) {\n",
       "      Bokeh.set_log_level(\"info\");\n",
       "    },\n",
       "    \n",
       "    function(Bokeh) {\n",
       "      \n",
       "    },\n",
       "    function(Bokeh) {\n",
       "      console.log(\"Bokeh: injecting CSS: https://cdn.pydata.org/bokeh/release/bokeh-0.12.10.min.css\");\n",
       "      Bokeh.embed.inject_css(\"https://cdn.pydata.org/bokeh/release/bokeh-0.12.10.min.css\");\n",
       "      console.log(\"Bokeh: injecting CSS: https://cdn.pydata.org/bokeh/release/bokeh-widgets-0.12.10.min.css\");\n",
       "      Bokeh.embed.inject_css(\"https://cdn.pydata.org/bokeh/release/bokeh-widgets-0.12.10.min.css\");\n",
       "      console.log(\"Bokeh: injecting CSS: https://cdn.pydata.org/bokeh/release/bokeh-tables-0.12.10.min.css\");\n",
       "      Bokeh.embed.inject_css(\"https://cdn.pydata.org/bokeh/release/bokeh-tables-0.12.10.min.css\");\n",
       "    }\n",
       "  ];\n",
       "\n",
       "  function run_inline_js() {\n",
       "    \n",
       "    if ((root.Bokeh !== undefined) || (force === true)) {\n",
       "      for (var i = 0; i < inline_js.length; i++) {\n",
       "        inline_js[i].call(root, root.Bokeh);\n",
       "      }if (force === true) {\n",
       "        display_loaded();\n",
       "      }} else if (Date.now() < root._bokeh_timeout) {\n",
       "      setTimeout(run_inline_js, 100);\n",
       "    } else if (!root._bokeh_failed_load) {\n",
       "      console.log(\"Bokeh: BokehJS failed to load within specified timeout.\");\n",
       "      root._bokeh_failed_load = true;\n",
       "    } else if (force !== true) {\n",
       "      var cell = $(document.getElementById(\"2deb1f8e-ba54-41df-8270-fd208cfc566b\")).parents('.cell').data().cell;\n",
       "      cell.output_area.append_execute_result(NB_LOAD_WARNING)\n",
       "    }\n",
       "\n",
       "  }\n",
       "\n",
       "  if (root._bokeh_is_loading === 0) {\n",
       "    console.log(\"Bokeh: BokehJS loaded, going straight to plotting\");\n",
       "    run_inline_js();\n",
       "  } else {\n",
       "    load_libs(js_urls, function() {\n",
       "      console.log(\"Bokeh: BokehJS plotting callback run at\", now());\n",
       "      run_inline_js();\n",
       "    });\n",
       "  }\n",
       "}(window));"
      ],
      "application/vnd.bokehjs_load.v0+json": "\n(function(root) {\n  function now() {\n    return new Date();\n  }\n\n  var force = true;\n\n  if (typeof (root._bokeh_onload_callbacks) === \"undefined\" || force === true) {\n    root._bokeh_onload_callbacks = [];\n    root._bokeh_is_loading = undefined;\n  }\n\n  \n\n  \n  if (typeof (root._bokeh_timeout) === \"undefined\" || force === true) {\n    root._bokeh_timeout = Date.now() + 5000;\n    root._bokeh_failed_load = false;\n  }\n\n  var NB_LOAD_WARNING = {'data': {'text/html':\n     \"<div style='background-color: #fdd'>\\n\"+\n     \"<p>\\n\"+\n     \"BokehJS does not appear to have successfully loaded. If loading BokehJS from CDN, this \\n\"+\n     \"may be due to a slow or bad network connection. Possible fixes:\\n\"+\n     \"</p>\\n\"+\n     \"<ul>\\n\"+\n     \"<li>re-rerun `output_notebook()` to attempt to load from CDN again, or</li>\\n\"+\n     \"<li>use INLINE resources instead, as so:</li>\\n\"+\n     \"</ul>\\n\"+\n     \"<code>\\n\"+\n     \"from bokeh.resources import INLINE\\n\"+\n     \"output_notebook(resources=INLINE)\\n\"+\n     \"</code>\\n\"+\n     \"</div>\"}};\n\n  function display_loaded() {\n    var el = document.getElementById(\"2deb1f8e-ba54-41df-8270-fd208cfc566b\");\n    if (el != null) {\n      el.textContent = \"BokehJS is loading...\";\n    }\n    if (root.Bokeh !== undefined) {\n      if (el != null) {\n        el.textContent = \"BokehJS \" + root.Bokeh.version + \" successfully loaded.\";\n      }\n    } else if (Date.now() < root._bokeh_timeout) {\n      setTimeout(display_loaded, 100)\n    }\n  }\n\n\n  function run_callbacks() {\n    try {\n      root._bokeh_onload_callbacks.forEach(function(callback) { callback() });\n    }\n    finally {\n      delete root._bokeh_onload_callbacks\n    }\n    console.info(\"Bokeh: all callbacks have finished\");\n  }\n\n  function load_libs(js_urls, callback) {\n    root._bokeh_onload_callbacks.push(callback);\n    if (root._bokeh_is_loading > 0) {\n      console.log(\"Bokeh: BokehJS is being loaded, scheduling callback at\", now());\n      return null;\n    }\n    if (js_urls == null || js_urls.length === 0) {\n      run_callbacks();\n      return null;\n    }\n    console.log(\"Bokeh: BokehJS not loaded, scheduling load and callback at\", now());\n    root._bokeh_is_loading = js_urls.length;\n    for (var i = 0; i < js_urls.length; i++) {\n      var url = js_urls[i];\n      var s = document.createElement('script');\n      s.src = url;\n      s.async = false;\n      s.onreadystatechange = s.onload = function() {\n        root._bokeh_is_loading--;\n        if (root._bokeh_is_loading === 0) {\n          console.log(\"Bokeh: all BokehJS libraries loaded\");\n          run_callbacks()\n        }\n      };\n      s.onerror = function() {\n        console.warn(\"failed to load library \" + url);\n      };\n      console.log(\"Bokeh: injecting script tag for BokehJS library: \", url);\n      document.getElementsByTagName(\"head\")[0].appendChild(s);\n    }\n  };var element = document.getElementById(\"2deb1f8e-ba54-41df-8270-fd208cfc566b\");\n  if (element == null) {\n    console.log(\"Bokeh: ERROR: autoload.js configured with elementid '2deb1f8e-ba54-41df-8270-fd208cfc566b' but no matching script tag was found. \")\n    return false;\n  }\n\n  var js_urls = [\"https://cdn.pydata.org/bokeh/release/bokeh-0.12.10.min.js\", \"https://cdn.pydata.org/bokeh/release/bokeh-widgets-0.12.10.min.js\", \"https://cdn.pydata.org/bokeh/release/bokeh-tables-0.12.10.min.js\", \"https://cdn.pydata.org/bokeh/release/bokeh-gl-0.12.10.min.js\"];\n\n  var inline_js = [\n    function(Bokeh) {\n      Bokeh.set_log_level(\"info\");\n    },\n    \n    function(Bokeh) {\n      \n    },\n    function(Bokeh) {\n      console.log(\"Bokeh: injecting CSS: https://cdn.pydata.org/bokeh/release/bokeh-0.12.10.min.css\");\n      Bokeh.embed.inject_css(\"https://cdn.pydata.org/bokeh/release/bokeh-0.12.10.min.css\");\n      console.log(\"Bokeh: injecting CSS: https://cdn.pydata.org/bokeh/release/bokeh-widgets-0.12.10.min.css\");\n      Bokeh.embed.inject_css(\"https://cdn.pydata.org/bokeh/release/bokeh-widgets-0.12.10.min.css\");\n      console.log(\"Bokeh: injecting CSS: https://cdn.pydata.org/bokeh/release/bokeh-tables-0.12.10.min.css\");\n      Bokeh.embed.inject_css(\"https://cdn.pydata.org/bokeh/release/bokeh-tables-0.12.10.min.css\");\n    }\n  ];\n\n  function run_inline_js() {\n    \n    if ((root.Bokeh !== undefined) || (force === true)) {\n      for (var i = 0; i < inline_js.length; i++) {\n        inline_js[i].call(root, root.Bokeh);\n      }if (force === true) {\n        display_loaded();\n      }} else if (Date.now() < root._bokeh_timeout) {\n      setTimeout(run_inline_js, 100);\n    } else if (!root._bokeh_failed_load) {\n      console.log(\"Bokeh: BokehJS failed to load within specified timeout.\");\n      root._bokeh_failed_load = true;\n    } else if (force !== true) {\n      var cell = $(document.getElementById(\"2deb1f8e-ba54-41df-8270-fd208cfc566b\")).parents('.cell').data().cell;\n      cell.output_area.append_execute_result(NB_LOAD_WARNING)\n    }\n\n  }\n\n  if (root._bokeh_is_loading === 0) {\n    console.log(\"Bokeh: BokehJS loaded, going straight to plotting\");\n    run_inline_js();\n  } else {\n    load_libs(js_urls, function() {\n      console.log(\"Bokeh: BokehJS plotting callback run at\", now());\n      run_inline_js();\n    });\n  }\n}(window));"
     },
     "metadata": {},
     "output_type": "display_data"
    },
    {
     "data": {
      "text/html": [
       "\n",
       "<div class=\"bk-root\">\n",
       "    <div class=\"bk-plotdiv\" id=\"ba2d891d-36a5-4988-8304-102553f80b8f\"></div>\n",
       "</div>"
      ]
     },
     "metadata": {},
     "output_type": "display_data"
    },
    {
     "data": {
      "application/javascript": [
       "(function(root) {\n",
       "  function embed_document(root) {\n",
       "    var docs_json = {\"8b2ec624-ee0c-4d0d-b393-2a049c46c794\":{\"roots\":{\"references\":[{\"attributes\":{\"callback\":null},\"id\":\"9e8d8976-99ba-4e78-bc2e-e42db40bada3\",\"type\":\"DataRange1d\"},{\"attributes\":{\"callback\":null},\"id\":\"5d1578a7-e981-4035-9fc0-50b3f2c64312\",\"type\":\"DataRange1d\"},{\"attributes\":{\"formatter\":{\"id\":\"1a2dcb8f-e846-4632-aabc-7745d1b30dbb\",\"type\":\"BasicTickFormatter\"},\"plot\":{\"id\":\"217c9bd8-0a49-4c21-8e57-6eee2a107095\",\"subtype\":\"Figure\",\"type\":\"Plot\"},\"ticker\":{\"id\":\"ec9304b0-7dbc-4e60-b2e8-28efa5b83cdd\",\"type\":\"BasicTicker\"}},\"id\":\"2281b509-7b7c-4ba4-8ab7-6201cda13f69\",\"type\":\"LinearAxis\"},{\"attributes\":{},\"id\":\"42f571b5-f19c-44ff-9cc0-1bada697077a\",\"type\":\"BasicTicker\"},{\"attributes\":{},\"id\":\"9ba26dcd-8aa4-4a5d-a0bc-37d6448e34b0\",\"type\":\"BasicTickFormatter\"},{\"attributes\":{\"fill_color\":{\"value\":\"black\"},\"size\":{\"units\":\"screen\",\"value\":30},\"x\":{\"field\":\"x\"},\"y\":{\"field\":\"y\"}},\"id\":\"17079d37-c8ce-485c-9968-08c9862cb115\",\"type\":\"Circle\"},{\"attributes\":{\"callback\":null,\"column_names\":[\"x\",\"y\"],\"data\":{\"x\":[0],\"y\":[0]}},\"id\":\"5df82632-fe22-40b3-963e-4ee29997966b\",\"type\":\"ColumnDataSource\"},{\"attributes\":{\"overlay\":{\"id\":\"3bed303b-41c1-4007-8714-30a97871154e\",\"type\":\"BoxAnnotation\"}},\"id\":\"36e28f06-eda2-4b50-bcc6-d8ec90b20a9a\",\"type\":\"BoxZoomTool\"},{\"attributes\":{},\"id\":\"1c5025dd-3049-4a10-a32e-6981afa6e3e9\",\"type\":\"SaveTool\"},{\"attributes\":{},\"id\":\"2b6da520-1eda-4202-9e90-64025e9cfd24\",\"type\":\"ResetTool\"},{\"attributes\":{},\"id\":\"e5128c43-bb7c-4e51-9895-a166912468c9\",\"type\":\"HelpTool\"},{\"attributes\":{},\"id\":\"c3f26e46-f53a-4f44-9d71-f7b877741ef1\",\"type\":\"WheelZoomTool\"},{\"attributes\":{},\"id\":\"d3e9a808-3fbd-4596-99d5-c9bc54a923e8\",\"type\":\"LinearScale\"},{\"attributes\":{},\"id\":\"c7d410b9-b9ca-4133-9ae2-05633dc77793\",\"type\":\"LinearScale\"},{\"attributes\":{\"plot\":{\"id\":\"217c9bd8-0a49-4c21-8e57-6eee2a107095\",\"subtype\":\"Figure\",\"type\":\"Plot\"},\"ticker\":{\"id\":\"42f571b5-f19c-44ff-9cc0-1bada697077a\",\"type\":\"BasicTicker\"}},\"id\":\"86f78624-122f-45ab-95e5-54f91ae36ddd\",\"type\":\"Grid\"},{\"attributes\":{},\"id\":\"ec9304b0-7dbc-4e60-b2e8-28efa5b83cdd\",\"type\":\"BasicTicker\"},{\"attributes\":{\"dimension\":1,\"plot\":{\"id\":\"217c9bd8-0a49-4c21-8e57-6eee2a107095\",\"subtype\":\"Figure\",\"type\":\"Plot\"},\"ticker\":{\"id\":\"ec9304b0-7dbc-4e60-b2e8-28efa5b83cdd\",\"type\":\"BasicTicker\"}},\"id\":\"09a996a4-2a5d-4195-b215-4670d7ab34ac\",\"type\":\"Grid\"},{\"attributes\":{},\"id\":\"b47fdd48-572e-430e-986c-5fc0a29b7db8\",\"type\":\"PanTool\"},{\"attributes\":{\"source\":{\"id\":\"5df82632-fe22-40b3-963e-4ee29997966b\",\"type\":\"ColumnDataSource\"}},\"id\":\"f4f11e8e-daf7-462a-b01b-3d6ab369ebd5\",\"type\":\"CDSView\"},{\"attributes\":{\"bottom_units\":\"screen\",\"fill_alpha\":{\"value\":0.5},\"fill_color\":{\"value\":\"lightgrey\"},\"left_units\":\"screen\",\"level\":\"overlay\",\"line_alpha\":{\"value\":1.0},\"line_color\":{\"value\":\"black\"},\"line_dash\":[4,4],\"line_width\":{\"value\":2},\"plot\":null,\"render_mode\":\"css\",\"right_units\":\"screen\",\"top_units\":\"screen\"},\"id\":\"3bed303b-41c1-4007-8714-30a97871154e\",\"type\":\"BoxAnnotation\"},{\"attributes\":{\"below\":[{\"id\":\"068719d1-44ac-47c3-8787-46978c44337a\",\"type\":\"LinearAxis\"}],\"left\":[{\"id\":\"2281b509-7b7c-4ba4-8ab7-6201cda13f69\",\"type\":\"LinearAxis\"}],\"plot_height\":200,\"plot_width\":200,\"renderers\":[{\"id\":\"068719d1-44ac-47c3-8787-46978c44337a\",\"type\":\"LinearAxis\"},{\"id\":\"86f78624-122f-45ab-95e5-54f91ae36ddd\",\"type\":\"Grid\"},{\"id\":\"2281b509-7b7c-4ba4-8ab7-6201cda13f69\",\"type\":\"LinearAxis\"},{\"id\":\"09a996a4-2a5d-4195-b215-4670d7ab34ac\",\"type\":\"Grid\"},{\"id\":\"3bed303b-41c1-4007-8714-30a97871154e\",\"type\":\"BoxAnnotation\"},{\"id\":\"6fe49c55-fff4-4a34-aa55-a9b86b9af0a5\",\"type\":\"GlyphRenderer\"}],\"title\":{\"id\":\"6cb545c9-8a52-45c2-a180-f10776a67f16\",\"type\":\"Title\"},\"toolbar\":{\"id\":\"86f2115a-700f-411b-9190-37319fe70df7\",\"type\":\"Toolbar\"},\"x_range\":{\"id\":\"5d1578a7-e981-4035-9fc0-50b3f2c64312\",\"type\":\"DataRange1d\"},\"x_scale\":{\"id\":\"d3e9a808-3fbd-4596-99d5-c9bc54a923e8\",\"type\":\"LinearScale\"},\"y_range\":{\"id\":\"9e8d8976-99ba-4e78-bc2e-e42db40bada3\",\"type\":\"DataRange1d\"},\"y_scale\":{\"id\":\"c7d410b9-b9ca-4133-9ae2-05633dc77793\",\"type\":\"LinearScale\"}},\"id\":\"217c9bd8-0a49-4c21-8e57-6eee2a107095\",\"subtype\":\"Figure\",\"type\":\"Plot\"},{\"attributes\":{\"plot\":null,\"text\":\"\"},\"id\":\"6cb545c9-8a52-45c2-a180-f10776a67f16\",\"type\":\"Title\"},{\"attributes\":{\"fill_alpha\":{\"value\":0.1},\"fill_color\":{\"value\":\"#1f77b4\"},\"line_alpha\":{\"value\":0.1},\"line_color\":{\"value\":\"#1f77b4\"},\"size\":{\"units\":\"screen\",\"value\":30},\"x\":{\"field\":\"x\"},\"y\":{\"field\":\"y\"}},\"id\":\"ccfd7978-e111-4154-9d08-04815bcbf76c\",\"type\":\"Circle\"},{\"attributes\":{},\"id\":\"1a2dcb8f-e846-4632-aabc-7745d1b30dbb\",\"type\":\"BasicTickFormatter\"},{\"attributes\":{\"formatter\":{\"id\":\"9ba26dcd-8aa4-4a5d-a0bc-37d6448e34b0\",\"type\":\"BasicTickFormatter\"},\"plot\":{\"id\":\"217c9bd8-0a49-4c21-8e57-6eee2a107095\",\"subtype\":\"Figure\",\"type\":\"Plot\"},\"ticker\":{\"id\":\"42f571b5-f19c-44ff-9cc0-1bada697077a\",\"type\":\"BasicTicker\"}},\"id\":\"068719d1-44ac-47c3-8787-46978c44337a\",\"type\":\"LinearAxis\"},{\"attributes\":{\"data_source\":{\"id\":\"5df82632-fe22-40b3-963e-4ee29997966b\",\"type\":\"ColumnDataSource\"},\"glyph\":{\"id\":\"17079d37-c8ce-485c-9968-08c9862cb115\",\"type\":\"Circle\"},\"hover_glyph\":null,\"muted_glyph\":null,\"nonselection_glyph\":{\"id\":\"ccfd7978-e111-4154-9d08-04815bcbf76c\",\"type\":\"Circle\"},\"selection_glyph\":null,\"view\":{\"id\":\"f4f11e8e-daf7-462a-b01b-3d6ab369ebd5\",\"type\":\"CDSView\"}},\"id\":\"6fe49c55-fff4-4a34-aa55-a9b86b9af0a5\",\"type\":\"GlyphRenderer\"},{\"attributes\":{\"active_drag\":\"auto\",\"active_inspect\":\"auto\",\"active_scroll\":\"auto\",\"active_tap\":\"auto\",\"tools\":[{\"id\":\"b47fdd48-572e-430e-986c-5fc0a29b7db8\",\"type\":\"PanTool\"},{\"id\":\"c3f26e46-f53a-4f44-9d71-f7b877741ef1\",\"type\":\"WheelZoomTool\"},{\"id\":\"36e28f06-eda2-4b50-bcc6-d8ec90b20a9a\",\"type\":\"BoxZoomTool\"},{\"id\":\"1c5025dd-3049-4a10-a32e-6981afa6e3e9\",\"type\":\"SaveTool\"},{\"id\":\"2b6da520-1eda-4202-9e90-64025e9cfd24\",\"type\":\"ResetTool\"},{\"id\":\"e5128c43-bb7c-4e51-9895-a166912468c9\",\"type\":\"HelpTool\"}]},\"id\":\"86f2115a-700f-411b-9190-37319fe70df7\",\"type\":\"Toolbar\"}],\"root_ids\":[\"217c9bd8-0a49-4c21-8e57-6eee2a107095\"]},\"title\":\"Bokeh Application\",\"version\":\"0.12.10\"}};\n",
       "    var render_items = [{\"docid\":\"8b2ec624-ee0c-4d0d-b393-2a049c46c794\",\"elementid\":\"ba2d891d-36a5-4988-8304-102553f80b8f\",\"modelid\":\"217c9bd8-0a49-4c21-8e57-6eee2a107095\"}];\n",
       "\n",
       "    root.Bokeh.embed.embed_items(docs_json, render_items);\n",
       "  }\n",
       "\n",
       "  if (root.Bokeh !== undefined) {\n",
       "    embed_document(root);\n",
       "  } else {\n",
       "    var attempts = 0;\n",
       "    var timer = setInterval(function(root) {\n",
       "      if (root.Bokeh !== undefined) {\n",
       "        embed_document(root);\n",
       "        clearInterval(timer);\n",
       "      }\n",
       "      attempts++;\n",
       "      if (attempts > 100) {\n",
       "        console.log(\"Bokeh: ERROR: Unable to embed document because BokehJS library is missing\")\n",
       "        clearInterval(timer);\n",
       "      }\n",
       "    }, 10, root)\n",
       "  }\n",
       "})(window);"
      ],
      "application/vnd.bokehjs_exec.v0+json": ""
     },
     "metadata": {
      "application/vnd.bokehjs_exec.v0+json": {
       "id": "217c9bd8-0a49-4c21-8e57-6eee2a107095"
      }
     },
     "output_type": "display_data"
    }
   ],
   "source": [
    "from bokeh.plotting import figure, output_notebook, show\n",
    "output_notebook()\n",
    "\n",
    "p = figure(plot_width=200, plot_height=200)\n",
    "p.circle([0], [0], size=30, color='black')\n",
    "\n",
    "show(p) #カラーネームによる色の設定"
   ]
  },
  {
   "cell_type": "code",
   "execution_count": 5,
   "metadata": {},
   "outputs": [
    {
     "data": {
      "text/html": [
       "\n",
       "<div class=\"bk-root\">\n",
       "    <div class=\"bk-plotdiv\" id=\"7fb2a976-1ff9-48b4-89e9-974769adf80c\"></div>\n",
       "</div>"
      ]
     },
     "metadata": {},
     "output_type": "display_data"
    },
    {
     "data": {
      "application/javascript": [
       "(function(root) {\n",
       "  function embed_document(root) {\n",
       "    var docs_json = {\"5c9e0aba-2d6a-4adc-9aea-a3df5faeb379\":{\"roots\":{\"references\":[{\"attributes\":{},\"id\":\"6d6b1585-deff-442a-bc1e-67ab91a96545\",\"type\":\"LinearScale\"},{\"attributes\":{\"callback\":null,\"column_names\":[\"x\",\"y\"],\"data\":{\"x\":[0],\"y\":[0]}},\"id\":\"b3f4d31c-4c5c-4948-acd4-ad02ee41b931\",\"type\":\"ColumnDataSource\"},{\"attributes\":{\"data_source\":{\"id\":\"b3f4d31c-4c5c-4948-acd4-ad02ee41b931\",\"type\":\"ColumnDataSource\"},\"glyph\":{\"id\":\"99a057c6-c93c-47fb-bad9-3a8dbb05aab9\",\"type\":\"Circle\"},\"hover_glyph\":null,\"muted_glyph\":null,\"nonselection_glyph\":{\"id\":\"52ee9fe7-f6a4-47d1-a60b-b8ee90d058e5\",\"type\":\"Circle\"},\"selection_glyph\":null,\"view\":{\"id\":\"8526dd6e-0f30-4799-b8fd-aaf64e8ec0cf\",\"type\":\"CDSView\"}},\"id\":\"2dd49f02-b2a7-4425-b599-4ba1559a132a\",\"type\":\"GlyphRenderer\"},{\"attributes\":{\"dimension\":1,\"plot\":{\"id\":\"e4e6c523-b8d3-4465-8f16-f669cc69c604\",\"subtype\":\"Figure\",\"type\":\"Plot\"},\"ticker\":{\"id\":\"660c4fb5-d418-49d0-9dc9-3c55afab0928\",\"type\":\"BasicTicker\"}},\"id\":\"c9ff0a7a-20aa-4cad-9ae0-39b1b66fda0b\",\"type\":\"Grid\"},{\"attributes\":{},\"id\":\"786d5d68-663a-4d8d-8f95-15c98ca61c6a\",\"type\":\"LinearScale\"},{\"attributes\":{\"source\":{\"id\":\"b3f4d31c-4c5c-4948-acd4-ad02ee41b931\",\"type\":\"ColumnDataSource\"}},\"id\":\"8526dd6e-0f30-4799-b8fd-aaf64e8ec0cf\",\"type\":\"CDSView\"},{\"attributes\":{\"callback\":null},\"id\":\"90ba2b8c-e319-44b9-93c8-e3f7322ea324\",\"type\":\"DataRange1d\"},{\"attributes\":{\"active_drag\":\"auto\",\"active_inspect\":\"auto\",\"active_scroll\":\"auto\",\"active_tap\":\"auto\",\"tools\":[{\"id\":\"5e72318b-8560-49ee-ac6c-7b0a59ee74f1\",\"type\":\"PanTool\"},{\"id\":\"36e3d393-0456-476d-bf5d-ba675ae4ff34\",\"type\":\"WheelZoomTool\"},{\"id\":\"90ab56ad-028a-44b8-a66f-bc524d9dea2c\",\"type\":\"BoxZoomTool\"},{\"id\":\"7e02120b-59a2-4a46-aeef-72dd0d045366\",\"type\":\"SaveTool\"},{\"id\":\"724a7368-fd62-4e88-960a-c9b2703b96e1\",\"type\":\"ResetTool\"},{\"id\":\"b3182bbc-d963-4e11-8003-28074df1bf2d\",\"type\":\"HelpTool\"}]},\"id\":\"dfeeb40c-53b7-4c54-a720-9183084e2acf\",\"type\":\"Toolbar\"},{\"attributes\":{\"formatter\":{\"id\":\"41b283e2-1b56-4ea3-bc3c-b9534f283820\",\"type\":\"BasicTickFormatter\"},\"plot\":{\"id\":\"e4e6c523-b8d3-4465-8f16-f669cc69c604\",\"subtype\":\"Figure\",\"type\":\"Plot\"},\"ticker\":{\"id\":\"c13f34ea-63c5-4397-b4b5-435f31bfb811\",\"type\":\"BasicTicker\"}},\"id\":\"6b75ea11-4c38-4e8c-b01d-d93871c0f9e7\",\"type\":\"LinearAxis\"},{\"attributes\":{},\"id\":\"c13f34ea-63c5-4397-b4b5-435f31bfb811\",\"type\":\"BasicTicker\"},{\"attributes\":{},\"id\":\"660c4fb5-d418-49d0-9dc9-3c55afab0928\",\"type\":\"BasicTicker\"},{\"attributes\":{\"fill_alpha\":{\"value\":0.1},\"fill_color\":{\"value\":\"#1f77b4\"},\"line_alpha\":{\"value\":0.1},\"line_color\":{\"value\":\"#1f77b4\"},\"size\":{\"units\":\"screen\",\"value\":30},\"x\":{\"field\":\"x\"},\"y\":{\"field\":\"y\"}},\"id\":\"52ee9fe7-f6a4-47d1-a60b-b8ee90d058e5\",\"type\":\"Circle\"},{\"attributes\":{},\"id\":\"41b283e2-1b56-4ea3-bc3c-b9534f283820\",\"type\":\"BasicTickFormatter\"},{\"attributes\":{\"bottom_units\":\"screen\",\"fill_alpha\":{\"value\":0.5},\"fill_color\":{\"value\":\"lightgrey\"},\"left_units\":\"screen\",\"level\":\"overlay\",\"line_alpha\":{\"value\":1.0},\"line_color\":{\"value\":\"black\"},\"line_dash\":[4,4],\"line_width\":{\"value\":2},\"plot\":null,\"render_mode\":\"css\",\"right_units\":\"screen\",\"top_units\":\"screen\"},\"id\":\"7707f520-6a5d-44fd-8ac9-d68959f09515\",\"type\":\"BoxAnnotation\"},{\"attributes\":{},\"id\":\"5e72318b-8560-49ee-ac6c-7b0a59ee74f1\",\"type\":\"PanTool\"},{\"attributes\":{\"below\":[{\"id\":\"6b75ea11-4c38-4e8c-b01d-d93871c0f9e7\",\"type\":\"LinearAxis\"}],\"left\":[{\"id\":\"58cfaf60-c383-4508-985e-68963e3ec73e\",\"type\":\"LinearAxis\"}],\"plot_height\":200,\"plot_width\":200,\"renderers\":[{\"id\":\"6b75ea11-4c38-4e8c-b01d-d93871c0f9e7\",\"type\":\"LinearAxis\"},{\"id\":\"84e73f4a-c31b-434f-9533-ce73a2ddadfd\",\"type\":\"Grid\"},{\"id\":\"58cfaf60-c383-4508-985e-68963e3ec73e\",\"type\":\"LinearAxis\"},{\"id\":\"c9ff0a7a-20aa-4cad-9ae0-39b1b66fda0b\",\"type\":\"Grid\"},{\"id\":\"7707f520-6a5d-44fd-8ac9-d68959f09515\",\"type\":\"BoxAnnotation\"},{\"id\":\"2dd49f02-b2a7-4425-b599-4ba1559a132a\",\"type\":\"GlyphRenderer\"}],\"title\":{\"id\":\"577657bb-4afb-4344-a573-0d8e755555ed\",\"type\":\"Title\"},\"toolbar\":{\"id\":\"dfeeb40c-53b7-4c54-a720-9183084e2acf\",\"type\":\"Toolbar\"},\"x_range\":{\"id\":\"31588694-04ed-45d5-af1f-bd3e0c84c373\",\"type\":\"DataRange1d\"},\"x_scale\":{\"id\":\"786d5d68-663a-4d8d-8f95-15c98ca61c6a\",\"type\":\"LinearScale\"},\"y_range\":{\"id\":\"90ba2b8c-e319-44b9-93c8-e3f7322ea324\",\"type\":\"DataRange1d\"},\"y_scale\":{\"id\":\"6d6b1585-deff-442a-bc1e-67ab91a96545\",\"type\":\"LinearScale\"}},\"id\":\"e4e6c523-b8d3-4465-8f16-f669cc69c604\",\"subtype\":\"Figure\",\"type\":\"Plot\"},{\"attributes\":{},\"id\":\"36e3d393-0456-476d-bf5d-ba675ae4ff34\",\"type\":\"WheelZoomTool\"},{\"attributes\":{\"overlay\":{\"id\":\"7707f520-6a5d-44fd-8ac9-d68959f09515\",\"type\":\"BoxAnnotation\"}},\"id\":\"90ab56ad-028a-44b8-a66f-bc524d9dea2c\",\"type\":\"BoxZoomTool\"},{\"attributes\":{},\"id\":\"7e02120b-59a2-4a46-aeef-72dd0d045366\",\"type\":\"SaveTool\"},{\"attributes\":{},\"id\":\"724a7368-fd62-4e88-960a-c9b2703b96e1\",\"type\":\"ResetTool\"},{\"attributes\":{},\"id\":\"b3182bbc-d963-4e11-8003-28074df1bf2d\",\"type\":\"HelpTool\"},{\"attributes\":{\"callback\":null},\"id\":\"31588694-04ed-45d5-af1f-bd3e0c84c373\",\"type\":\"DataRange1d\"},{\"attributes\":{\"plot\":null,\"text\":\"\"},\"id\":\"577657bb-4afb-4344-a573-0d8e755555ed\",\"type\":\"Title\"},{\"attributes\":{},\"id\":\"fde8f13d-5d29-4ed7-8e0c-3d38620a2a69\",\"type\":\"BasicTickFormatter\"},{\"attributes\":{\"formatter\":{\"id\":\"fde8f13d-5d29-4ed7-8e0c-3d38620a2a69\",\"type\":\"BasicTickFormatter\"},\"plot\":{\"id\":\"e4e6c523-b8d3-4465-8f16-f669cc69c604\",\"subtype\":\"Figure\",\"type\":\"Plot\"},\"ticker\":{\"id\":\"660c4fb5-d418-49d0-9dc9-3c55afab0928\",\"type\":\"BasicTicker\"}},\"id\":\"58cfaf60-c383-4508-985e-68963e3ec73e\",\"type\":\"LinearAxis\"},{\"attributes\":{\"fill_color\":{\"value\":\"#FF0000\"},\"line_color\":{\"value\":\"#FF0000\"},\"size\":{\"units\":\"screen\",\"value\":30},\"x\":{\"field\":\"x\"},\"y\":{\"field\":\"y\"}},\"id\":\"99a057c6-c93c-47fb-bad9-3a8dbb05aab9\",\"type\":\"Circle\"},{\"attributes\":{\"plot\":{\"id\":\"e4e6c523-b8d3-4465-8f16-f669cc69c604\",\"subtype\":\"Figure\",\"type\":\"Plot\"},\"ticker\":{\"id\":\"c13f34ea-63c5-4397-b4b5-435f31bfb811\",\"type\":\"BasicTicker\"}},\"id\":\"84e73f4a-c31b-434f-9533-ce73a2ddadfd\",\"type\":\"Grid\"}],\"root_ids\":[\"e4e6c523-b8d3-4465-8f16-f669cc69c604\"]},\"title\":\"Bokeh Application\",\"version\":\"0.12.10\"}};\n",
       "    var render_items = [{\"docid\":\"5c9e0aba-2d6a-4adc-9aea-a3df5faeb379\",\"elementid\":\"7fb2a976-1ff9-48b4-89e9-974769adf80c\",\"modelid\":\"e4e6c523-b8d3-4465-8f16-f669cc69c604\"}];\n",
       "\n",
       "    root.Bokeh.embed.embed_items(docs_json, render_items);\n",
       "  }\n",
       "\n",
       "  if (root.Bokeh !== undefined) {\n",
       "    embed_document(root);\n",
       "  } else {\n",
       "    var attempts = 0;\n",
       "    var timer = setInterval(function(root) {\n",
       "      if (root.Bokeh !== undefined) {\n",
       "        embed_document(root);\n",
       "        clearInterval(timer);\n",
       "      }\n",
       "      attempts++;\n",
       "      if (attempts > 100) {\n",
       "        console.log(\"Bokeh: ERROR: Unable to embed document because BokehJS library is missing\")\n",
       "        clearInterval(timer);\n",
       "      }\n",
       "    }, 10, root)\n",
       "  }\n",
       "})(window);"
      ],
      "application/vnd.bokehjs_exec.v0+json": ""
     },
     "metadata": {
      "application/vnd.bokehjs_exec.v0+json": {
       "id": "e4e6c523-b8d3-4465-8f16-f669cc69c604"
      }
     },
     "output_type": "display_data"
    }
   ],
   "source": [
    "# 16進数カラーコードによる色の設定\n",
    "p = figure(plot_width=200, plot_height=200)\n",
    "p.circle([0], [0], size=30, color='#FF0000')\n",
    "show(p)"
   ]
  },
  {
   "cell_type": "code",
   "execution_count": 7,
   "metadata": {},
   "outputs": [
    {
     "data": {
      "text/html": [
       "\n",
       "<div class=\"bk-root\">\n",
       "    <div class=\"bk-plotdiv\" id=\"41cf8ca6-e3d8-44e3-b28d-0c7d4e74d5c5\"></div>\n",
       "</div>"
      ]
     },
     "metadata": {},
     "output_type": "display_data"
    },
    {
     "data": {
      "application/javascript": [
       "(function(root) {\n",
       "  function embed_document(root) {\n",
       "    var docs_json = {\"dbb4c548-bcb5-40d0-a03f-a63f463eef3b\":{\"roots\":{\"references\":[{\"attributes\":{\"callback\":null},\"id\":\"f67d2a8b-b994-44bb-a751-d65c2dc6ff32\",\"type\":\"DataRange1d\"},{\"attributes\":{},\"id\":\"d93edd6e-f9d4-46c1-8e23-89374efadc53\",\"type\":\"LinearScale\"},{\"attributes\":{},\"id\":\"1410fe77-f1c5-4745-8805-c7b9e671d972\",\"type\":\"LinearScale\"},{\"attributes\":{\"plot\":{\"id\":\"6af847cc-7c12-40f3-9a4a-51d928adc226\",\"subtype\":\"Figure\",\"type\":\"Plot\"},\"ticker\":{\"id\":\"97e73753-97b1-4048-aa45-fd5fbb49334c\",\"type\":\"BasicTicker\"}},\"id\":\"b3108c60-d35e-4ba8-90d0-90df6598bc19\",\"type\":\"Grid\"},{\"attributes\":{\"formatter\":{\"id\":\"035a0a75-0287-41f2-bdd0-12b56cd08796\",\"type\":\"BasicTickFormatter\"},\"plot\":{\"id\":\"6af847cc-7c12-40f3-9a4a-51d928adc226\",\"subtype\":\"Figure\",\"type\":\"Plot\"},\"ticker\":{\"id\":\"97e73753-97b1-4048-aa45-fd5fbb49334c\",\"type\":\"BasicTicker\"}},\"id\":\"7ed0ad33-b90a-4cf1-81e4-799f0f1faa00\",\"type\":\"LinearAxis\"},{\"attributes\":{},\"id\":\"97e73753-97b1-4048-aa45-fd5fbb49334c\",\"type\":\"BasicTicker\"},{\"attributes\":{\"formatter\":{\"id\":\"a6c11b91-cb93-412c-85c4-b4e12bb9c015\",\"type\":\"BasicTickFormatter\"},\"plot\":{\"id\":\"6af847cc-7c12-40f3-9a4a-51d928adc226\",\"subtype\":\"Figure\",\"type\":\"Plot\"},\"ticker\":{\"id\":\"3b928fbb-0aea-47ed-805a-58e79077a104\",\"type\":\"BasicTicker\"}},\"id\":\"bf832fe6-2933-468d-8652-c8a16c884d01\",\"type\":\"LinearAxis\"},{\"attributes\":{},\"id\":\"3b928fbb-0aea-47ed-805a-58e79077a104\",\"type\":\"BasicTicker\"},{\"attributes\":{\"dimension\":1,\"plot\":{\"id\":\"6af847cc-7c12-40f3-9a4a-51d928adc226\",\"subtype\":\"Figure\",\"type\":\"Plot\"},\"ticker\":{\"id\":\"3b928fbb-0aea-47ed-805a-58e79077a104\",\"type\":\"BasicTicker\"}},\"id\":\"efcef33b-1059-419c-a582-f3ee732b3403\",\"type\":\"Grid\"},{\"attributes\":{\"source\":{\"id\":\"a2e5291e-9634-4153-b310-8ac38d6fea4a\",\"type\":\"ColumnDataSource\"}},\"id\":\"d31af6bc-a00a-4e6e-88d8-9d686e09e165\",\"type\":\"CDSView\"},{\"attributes\":{\"fill_alpha\":{\"value\":0.1},\"fill_color\":{\"value\":\"#1f77b4\"},\"line_alpha\":{\"value\":0.1},\"line_color\":{\"value\":\"#1f77b4\"},\"size\":{\"units\":\"screen\",\"value\":30},\"x\":{\"field\":\"x\"},\"y\":{\"field\":\"y\"}},\"id\":\"d65d5d8a-3602-4913-84d9-4cdc87c2eec1\",\"type\":\"Circle\"},{\"attributes\":{\"fill_color\":{\"value\":\"rgb(255, 0, 0)\"},\"line_color\":{\"value\":\"rgb(255, 0, 0)\"},\"size\":{\"units\":\"screen\",\"value\":30},\"x\":{\"field\":\"x\"},\"y\":{\"field\":\"y\"}},\"id\":\"9f11e416-9b9d-4d22-add2-50caa0b4f853\",\"type\":\"Circle\"},{\"attributes\":{\"bottom_units\":\"screen\",\"fill_alpha\":{\"value\":0.5},\"fill_color\":{\"value\":\"lightgrey\"},\"left_units\":\"screen\",\"level\":\"overlay\",\"line_alpha\":{\"value\":1.0},\"line_color\":{\"value\":\"black\"},\"line_dash\":[4,4],\"line_width\":{\"value\":2},\"plot\":null,\"render_mode\":\"css\",\"right_units\":\"screen\",\"top_units\":\"screen\"},\"id\":\"93fc841c-6e7f-4982-a9e3-2d8f564c7aa7\",\"type\":\"BoxAnnotation\"},{\"attributes\":{},\"id\":\"6afa61c7-f0b7-4b92-9581-a37f57ab17d7\",\"type\":\"PanTool\"},{\"attributes\":{},\"id\":\"6c8338c2-62bb-4fe6-a191-33c17d938c2f\",\"type\":\"WheelZoomTool\"},{\"attributes\":{\"overlay\":{\"id\":\"93fc841c-6e7f-4982-a9e3-2d8f564c7aa7\",\"type\":\"BoxAnnotation\"}},\"id\":\"823f6102-f855-4237-980d-245604fcce27\",\"type\":\"BoxZoomTool\"},{\"attributes\":{},\"id\":\"37a559e6-ee85-45cf-8760-4105a5c1661e\",\"type\":\"SaveTool\"},{\"attributes\":{},\"id\":\"17386c2e-2ecb-4f8d-b94b-361354f7cc36\",\"type\":\"ResetTool\"},{\"attributes\":{},\"id\":\"cfea634d-0db5-4a75-b210-735094f9ade0\",\"type\":\"HelpTool\"},{\"attributes\":{\"plot\":null,\"text\":\"\"},\"id\":\"7393972f-80f9-4c55-b991-877cdcdf546a\",\"type\":\"Title\"},{\"attributes\":{},\"id\":\"035a0a75-0287-41f2-bdd0-12b56cd08796\",\"type\":\"BasicTickFormatter\"},{\"attributes\":{\"below\":[{\"id\":\"7ed0ad33-b90a-4cf1-81e4-799f0f1faa00\",\"type\":\"LinearAxis\"}],\"left\":[{\"id\":\"bf832fe6-2933-468d-8652-c8a16c884d01\",\"type\":\"LinearAxis\"}],\"plot_height\":200,\"plot_width\":200,\"renderers\":[{\"id\":\"7ed0ad33-b90a-4cf1-81e4-799f0f1faa00\",\"type\":\"LinearAxis\"},{\"id\":\"b3108c60-d35e-4ba8-90d0-90df6598bc19\",\"type\":\"Grid\"},{\"id\":\"bf832fe6-2933-468d-8652-c8a16c884d01\",\"type\":\"LinearAxis\"},{\"id\":\"efcef33b-1059-419c-a582-f3ee732b3403\",\"type\":\"Grid\"},{\"id\":\"93fc841c-6e7f-4982-a9e3-2d8f564c7aa7\",\"type\":\"BoxAnnotation\"},{\"id\":\"6120a37a-8eef-407b-97af-d425f66a17ba\",\"type\":\"GlyphRenderer\"}],\"title\":{\"id\":\"7393972f-80f9-4c55-b991-877cdcdf546a\",\"type\":\"Title\"},\"toolbar\":{\"id\":\"dca41886-3833-43c7-8f5c-c9a6c2a75d6a\",\"type\":\"Toolbar\"},\"x_range\":{\"id\":\"a10a1ec3-4e3f-48d5-a354-5b55660726a1\",\"type\":\"DataRange1d\"},\"x_scale\":{\"id\":\"d93edd6e-f9d4-46c1-8e23-89374efadc53\",\"type\":\"LinearScale\"},\"y_range\":{\"id\":\"f67d2a8b-b994-44bb-a751-d65c2dc6ff32\",\"type\":\"DataRange1d\"},\"y_scale\":{\"id\":\"1410fe77-f1c5-4745-8805-c7b9e671d972\",\"type\":\"LinearScale\"}},\"id\":\"6af847cc-7c12-40f3-9a4a-51d928adc226\",\"subtype\":\"Figure\",\"type\":\"Plot\"},{\"attributes\":{\"callback\":null,\"column_names\":[\"x\",\"y\"],\"data\":{\"x\":[0],\"y\":[0]}},\"id\":\"a2e5291e-9634-4153-b310-8ac38d6fea4a\",\"type\":\"ColumnDataSource\"},{\"attributes\":{},\"id\":\"a6c11b91-cb93-412c-85c4-b4e12bb9c015\",\"type\":\"BasicTickFormatter\"},{\"attributes\":{\"active_drag\":\"auto\",\"active_inspect\":\"auto\",\"active_scroll\":\"auto\",\"active_tap\":\"auto\",\"tools\":[{\"id\":\"6afa61c7-f0b7-4b92-9581-a37f57ab17d7\",\"type\":\"PanTool\"},{\"id\":\"6c8338c2-62bb-4fe6-a191-33c17d938c2f\",\"type\":\"WheelZoomTool\"},{\"id\":\"823f6102-f855-4237-980d-245604fcce27\",\"type\":\"BoxZoomTool\"},{\"id\":\"37a559e6-ee85-45cf-8760-4105a5c1661e\",\"type\":\"SaveTool\"},{\"id\":\"17386c2e-2ecb-4f8d-b94b-361354f7cc36\",\"type\":\"ResetTool\"},{\"id\":\"cfea634d-0db5-4a75-b210-735094f9ade0\",\"type\":\"HelpTool\"}]},\"id\":\"dca41886-3833-43c7-8f5c-c9a6c2a75d6a\",\"type\":\"Toolbar\"},{\"attributes\":{\"data_source\":{\"id\":\"a2e5291e-9634-4153-b310-8ac38d6fea4a\",\"type\":\"ColumnDataSource\"},\"glyph\":{\"id\":\"9f11e416-9b9d-4d22-add2-50caa0b4f853\",\"type\":\"Circle\"},\"hover_glyph\":null,\"muted_glyph\":null,\"nonselection_glyph\":{\"id\":\"d65d5d8a-3602-4913-84d9-4cdc87c2eec1\",\"type\":\"Circle\"},\"selection_glyph\":null,\"view\":{\"id\":\"d31af6bc-a00a-4e6e-88d8-9d686e09e165\",\"type\":\"CDSView\"}},\"id\":\"6120a37a-8eef-407b-97af-d425f66a17ba\",\"type\":\"GlyphRenderer\"},{\"attributes\":{\"callback\":null},\"id\":\"a10a1ec3-4e3f-48d5-a354-5b55660726a1\",\"type\":\"DataRange1d\"}],\"root_ids\":[\"6af847cc-7c12-40f3-9a4a-51d928adc226\"]},\"title\":\"Bokeh Application\",\"version\":\"0.12.10\"}};\n",
       "    var render_items = [{\"docid\":\"dbb4c548-bcb5-40d0-a03f-a63f463eef3b\",\"elementid\":\"41cf8ca6-e3d8-44e3-b28d-0c7d4e74d5c5\",\"modelid\":\"6af847cc-7c12-40f3-9a4a-51d928adc226\"}];\n",
       "\n",
       "    root.Bokeh.embed.embed_items(docs_json, render_items);\n",
       "  }\n",
       "\n",
       "  if (root.Bokeh !== undefined) {\n",
       "    embed_document(root);\n",
       "  } else {\n",
       "    var attempts = 0;\n",
       "    var timer = setInterval(function(root) {\n",
       "      if (root.Bokeh !== undefined) {\n",
       "        embed_document(root);\n",
       "        clearInterval(timer);\n",
       "      }\n",
       "      attempts++;\n",
       "      if (attempts > 100) {\n",
       "        console.log(\"Bokeh: ERROR: Unable to embed document because BokehJS library is missing\")\n",
       "        clearInterval(timer);\n",
       "      }\n",
       "    }, 10, root)\n",
       "  }\n",
       "})(window);"
      ],
      "application/vnd.bokehjs_exec.v0+json": ""
     },
     "metadata": {
      "application/vnd.bokehjs_exec.v0+json": {
       "id": "6af847cc-7c12-40f3-9a4a-51d928adc226"
      }
     },
     "output_type": "display_data"
    }
   ],
   "source": [
    "#RGBカラーコードによる設定\n",
    "p = figure(plot_width=200, plot_height=200)\n",
    "p.circle([0], [0], size=30, color=(255, 0, 0))\n",
    "show(p)"
   ]
  },
  {
   "cell_type": "code",
   "execution_count": 13,
   "metadata": {},
   "outputs": [
    {
     "data": {
      "text/html": [
       "\n",
       "<div class=\"bk-root\">\n",
       "    <div class=\"bk-plotdiv\" id=\"d7b43fa8-538a-4837-b154-3b6ab8cca621\"></div>\n",
       "</div>"
      ]
     },
     "metadata": {},
     "output_type": "display_data"
    },
    {
     "data": {
      "application/javascript": [
       "(function(root) {\n",
       "  function embed_document(root) {\n",
       "    var docs_json = {\"f8e8a5ab-ac94-49e3-a4cb-e0027926f4d7\":{\"roots\":{\"references\":[{\"attributes\":{\"overlay\":{\"id\":\"f0c7c8b5-f3c1-4de5-beb9-386df6731046\",\"type\":\"BoxAnnotation\"}},\"id\":\"6d3f3aa4-8947-40ef-bea7-ad77ee0a48aa\",\"type\":\"BoxZoomTool\"},{\"attributes\":{\"bottom_units\":\"screen\",\"fill_alpha\":{\"value\":0.5},\"fill_color\":{\"value\":\"lightgrey\"},\"left_units\":\"screen\",\"level\":\"overlay\",\"line_alpha\":{\"value\":1.0},\"line_color\":{\"value\":\"black\"},\"line_dash\":[4,4],\"line_width\":{\"value\":2},\"plot\":null,\"render_mode\":\"css\",\"right_units\":\"screen\",\"top_units\":\"screen\"},\"id\":\"f0c7c8b5-f3c1-4de5-beb9-386df6731046\",\"type\":\"BoxAnnotation\"},{\"attributes\":{},\"id\":\"1d2ea0fd-70b3-4630-b145-d551e93045c7\",\"type\":\"SaveTool\"},{\"attributes\":{},\"id\":\"064f3988-fe06-42b7-8d86-999ee156dd23\",\"type\":\"WheelZoomTool\"},{\"attributes\":{},\"id\":\"9a918b03-b708-4026-a57b-5656644acabe\",\"type\":\"HelpTool\"},{\"attributes\":{},\"id\":\"99a8f847-5694-4046-8a89-78f89e2cf975\",\"type\":\"PanTool\"},{\"attributes\":{\"plot\":{\"id\":\"289eb88b-d06b-42d0-93b8-01e0dcba6cc4\",\"subtype\":\"Figure\",\"type\":\"Plot\"},\"ticker\":{\"id\":\"7c13744a-6afe-4951-932c-0a67d753597e\",\"type\":\"BasicTicker\"}},\"id\":\"d1775d16-4cce-4f04-b55f-d5e488129c91\",\"type\":\"Grid\"},{\"attributes\":{\"plot\":null,\"text\":\"\"},\"id\":\"e5991ff5-1178-46c8-b959-2ee5922e56ae\",\"type\":\"Title\"},{\"attributes\":{\"callback\":null},\"id\":\"66016aad-c261-40d1-bf60-c71eb4089460\",\"type\":\"DataRange1d\"},{\"attributes\":{\"source\":{\"id\":\"fc9c5671-99bb-4eaa-82b2-b5f054a8021b\",\"type\":\"ColumnDataSource\"}},\"id\":\"1ae90e3b-8726-4b2a-a1a8-ab816001f8a9\",\"type\":\"CDSView\"},{\"attributes\":{},\"id\":\"7488bdb7-a24a-4ea8-ab54-9325c436aabf\",\"type\":\"ResetTool\"},{\"attributes\":{\"fill_color\":{\"value\":\"rgba(255, 0, 0, 0.3)\"},\"line_color\":{\"value\":\"rgba(255, 0, 0, 0.3)\"},\"size\":{\"units\":\"screen\",\"value\":50},\"x\":{\"field\":\"x\"},\"y\":{\"field\":\"y\"}},\"id\":\"f3cc7fd8-d3ea-4f70-afb6-6dc41b8b9b0d\",\"type\":\"Circle\"},{\"attributes\":{},\"id\":\"99255c4f-48d4-45d1-9b83-bdf81314126a\",\"type\":\"BasicTickFormatter\"},{\"attributes\":{\"active_drag\":\"auto\",\"active_inspect\":\"auto\",\"active_scroll\":\"auto\",\"active_tap\":\"auto\",\"tools\":[{\"id\":\"99a8f847-5694-4046-8a89-78f89e2cf975\",\"type\":\"PanTool\"},{\"id\":\"064f3988-fe06-42b7-8d86-999ee156dd23\",\"type\":\"WheelZoomTool\"},{\"id\":\"6d3f3aa4-8947-40ef-bea7-ad77ee0a48aa\",\"type\":\"BoxZoomTool\"},{\"id\":\"1d2ea0fd-70b3-4630-b145-d551e93045c7\",\"type\":\"SaveTool\"},{\"id\":\"7488bdb7-a24a-4ea8-ab54-9325c436aabf\",\"type\":\"ResetTool\"},{\"id\":\"9a918b03-b708-4026-a57b-5656644acabe\",\"type\":\"HelpTool\"}]},\"id\":\"74a71a56-5685-4614-9f34-328dc5821c32\",\"type\":\"Toolbar\"},{\"attributes\":{\"fill_alpha\":{\"value\":0.1},\"fill_color\":{\"value\":\"#1f77b4\"},\"line_alpha\":{\"value\":0.1},\"line_color\":{\"value\":\"#1f77b4\"},\"size\":{\"units\":\"screen\",\"value\":50},\"x\":{\"field\":\"x\"},\"y\":{\"field\":\"y\"}},\"id\":\"e286aa52-222b-4054-8285-a3f8f77f38bc\",\"type\":\"Circle\"},{\"attributes\":{\"callback\":null,\"column_names\":[\"x\",\"y\"],\"data\":{\"x\":[0,0.5,1],\"y\":[0,0,0]}},\"id\":\"86b58258-775a-47b0-8485-3c164c2e14a5\",\"type\":\"ColumnDataSource\"},{\"attributes\":{\"below\":[{\"id\":\"0133e18e-c838-41b0-a329-695851b8c7fd\",\"type\":\"LinearAxis\"}],\"left\":[{\"id\":\"42f9e108-9c6c-4146-b055-3f250bd9a47e\",\"type\":\"LinearAxis\"}],\"plot_height\":200,\"plot_width\":200,\"renderers\":[{\"id\":\"0133e18e-c838-41b0-a329-695851b8c7fd\",\"type\":\"LinearAxis\"},{\"id\":\"d1775d16-4cce-4f04-b55f-d5e488129c91\",\"type\":\"Grid\"},{\"id\":\"42f9e108-9c6c-4146-b055-3f250bd9a47e\",\"type\":\"LinearAxis\"},{\"id\":\"1c35e717-1794-493e-b4b9-0f6dafc6211e\",\"type\":\"Grid\"},{\"id\":\"f0c7c8b5-f3c1-4de5-beb9-386df6731046\",\"type\":\"BoxAnnotation\"},{\"id\":\"2e6d6711-3039-4381-8eb4-8b434f8329f9\",\"type\":\"GlyphRenderer\"},{\"id\":\"23b2c19f-f2cf-4b71-b62d-c11e1d695820\",\"type\":\"GlyphRenderer\"}],\"title\":{\"id\":\"e5991ff5-1178-46c8-b959-2ee5922e56ae\",\"type\":\"Title\"},\"toolbar\":{\"id\":\"74a71a56-5685-4614-9f34-328dc5821c32\",\"type\":\"Toolbar\"},\"x_range\":{\"id\":\"66016aad-c261-40d1-bf60-c71eb4089460\",\"type\":\"DataRange1d\"},\"x_scale\":{\"id\":\"0cf02f71-ee34-4016-936e-207cc9c094ce\",\"type\":\"LinearScale\"},\"y_range\":{\"id\":\"fc04062c-4301-4486-bddb-dcd773010e28\",\"type\":\"DataRange1d\"},\"y_scale\":{\"id\":\"417043d9-cf59-4cae-9e97-e9bef79f838a\",\"type\":\"LinearScale\"}},\"id\":\"289eb88b-d06b-42d0-93b8-01e0dcba6cc4\",\"subtype\":\"Figure\",\"type\":\"Plot\"},{\"attributes\":{},\"id\":\"17a1dc2d-92f9-483d-bbb5-9e1079390fd8\",\"type\":\"BasicTicker\"},{\"attributes\":{\"callback\":null,\"column_names\":[\"x\",\"y\"],\"data\":{\"x\":[0.25,0.75],\"y\":[0,0]}},\"id\":\"fc9c5671-99bb-4eaa-82b2-b5f054a8021b\",\"type\":\"ColumnDataSource\"},{\"attributes\":{\"fill_alpha\":{\"value\":0.1},\"fill_color\":{\"value\":\"#1f77b4\"},\"line_alpha\":{\"value\":0.1},\"line_color\":{\"value\":\"#1f77b4\"},\"size\":{\"units\":\"screen\",\"value\":30},\"x\":{\"field\":\"x\"},\"y\":{\"field\":\"y\"}},\"id\":\"c5e83a9d-402e-4976-88b5-0f9c5945e242\",\"type\":\"Circle\"},{\"attributes\":{},\"id\":\"9a3d1491-460b-47c7-9b22-8eb99a2aa085\",\"type\":\"BasicTickFormatter\"},{\"attributes\":{},\"id\":\"0cf02f71-ee34-4016-936e-207cc9c094ce\",\"type\":\"LinearScale\"},{\"attributes\":{},\"id\":\"417043d9-cf59-4cae-9e97-e9bef79f838a\",\"type\":\"LinearScale\"},{\"attributes\":{\"data_source\":{\"id\":\"86b58258-775a-47b0-8485-3c164c2e14a5\",\"type\":\"ColumnDataSource\"},\"glyph\":{\"id\":\"3fe20712-e6fd-4651-989c-51048ed4edba\",\"type\":\"Circle\"},\"hover_glyph\":null,\"muted_glyph\":null,\"nonselection_glyph\":{\"id\":\"c5e83a9d-402e-4976-88b5-0f9c5945e242\",\"type\":\"Circle\"},\"selection_glyph\":null,\"view\":{\"id\":\"d5d31ccb-f7cb-42e7-9248-bb36004148d7\",\"type\":\"CDSView\"}},\"id\":\"2e6d6711-3039-4381-8eb4-8b434f8329f9\",\"type\":\"GlyphRenderer\"},{\"attributes\":{\"formatter\":{\"id\":\"9a3d1491-460b-47c7-9b22-8eb99a2aa085\",\"type\":\"BasicTickFormatter\"},\"plot\":{\"id\":\"289eb88b-d06b-42d0-93b8-01e0dcba6cc4\",\"subtype\":\"Figure\",\"type\":\"Plot\"},\"ticker\":{\"id\":\"17a1dc2d-92f9-483d-bbb5-9e1079390fd8\",\"type\":\"BasicTicker\"}},\"id\":\"42f9e108-9c6c-4146-b055-3f250bd9a47e\",\"type\":\"LinearAxis\"},{\"attributes\":{\"fill_color\":{\"value\":\"rgb(0, 0, 255)\"},\"line_color\":{\"value\":\"rgb(0, 0, 255)\"},\"size\":{\"units\":\"screen\",\"value\":30},\"x\":{\"field\":\"x\"},\"y\":{\"field\":\"y\"}},\"id\":\"3fe20712-e6fd-4651-989c-51048ed4edba\",\"type\":\"Circle\"},{\"attributes\":{\"callback\":null},\"id\":\"fc04062c-4301-4486-bddb-dcd773010e28\",\"type\":\"DataRange1d\"},{\"attributes\":{\"data_source\":{\"id\":\"fc9c5671-99bb-4eaa-82b2-b5f054a8021b\",\"type\":\"ColumnDataSource\"},\"glyph\":{\"id\":\"f3cc7fd8-d3ea-4f70-afb6-6dc41b8b9b0d\",\"type\":\"Circle\"},\"hover_glyph\":null,\"muted_glyph\":null,\"nonselection_glyph\":{\"id\":\"e286aa52-222b-4054-8285-a3f8f77f38bc\",\"type\":\"Circle\"},\"selection_glyph\":null,\"view\":{\"id\":\"1ae90e3b-8726-4b2a-a1a8-ab816001f8a9\",\"type\":\"CDSView\"}},\"id\":\"23b2c19f-f2cf-4b71-b62d-c11e1d695820\",\"type\":\"GlyphRenderer\"},{\"attributes\":{\"source\":{\"id\":\"86b58258-775a-47b0-8485-3c164c2e14a5\",\"type\":\"ColumnDataSource\"}},\"id\":\"d5d31ccb-f7cb-42e7-9248-bb36004148d7\",\"type\":\"CDSView\"},{\"attributes\":{\"dimension\":1,\"plot\":{\"id\":\"289eb88b-d06b-42d0-93b8-01e0dcba6cc4\",\"subtype\":\"Figure\",\"type\":\"Plot\"},\"ticker\":{\"id\":\"17a1dc2d-92f9-483d-bbb5-9e1079390fd8\",\"type\":\"BasicTicker\"}},\"id\":\"1c35e717-1794-493e-b4b9-0f6dafc6211e\",\"type\":\"Grid\"},{\"attributes\":{},\"id\":\"7c13744a-6afe-4951-932c-0a67d753597e\",\"type\":\"BasicTicker\"},{\"attributes\":{\"formatter\":{\"id\":\"99255c4f-48d4-45d1-9b83-bdf81314126a\",\"type\":\"BasicTickFormatter\"},\"plot\":{\"id\":\"289eb88b-d06b-42d0-93b8-01e0dcba6cc4\",\"subtype\":\"Figure\",\"type\":\"Plot\"},\"ticker\":{\"id\":\"7c13744a-6afe-4951-932c-0a67d753597e\",\"type\":\"BasicTicker\"}},\"id\":\"0133e18e-c838-41b0-a329-695851b8c7fd\",\"type\":\"LinearAxis\"}],\"root_ids\":[\"289eb88b-d06b-42d0-93b8-01e0dcba6cc4\"]},\"title\":\"Bokeh Application\",\"version\":\"0.12.10\"}};\n",
       "    var render_items = [{\"docid\":\"f8e8a5ab-ac94-49e3-a4cb-e0027926f4d7\",\"elementid\":\"d7b43fa8-538a-4837-b154-3b6ab8cca621\",\"modelid\":\"289eb88b-d06b-42d0-93b8-01e0dcba6cc4\"}];\n",
       "\n",
       "    root.Bokeh.embed.embed_items(docs_json, render_items);\n",
       "  }\n",
       "\n",
       "  if (root.Bokeh !== undefined) {\n",
       "    embed_document(root);\n",
       "  } else {\n",
       "    var attempts = 0;\n",
       "    var timer = setInterval(function(root) {\n",
       "      if (root.Bokeh !== undefined) {\n",
       "        embed_document(root);\n",
       "        clearInterval(timer);\n",
       "      }\n",
       "      attempts++;\n",
       "      if (attempts > 100) {\n",
       "        console.log(\"Bokeh: ERROR: Unable to embed document because BokehJS library is missing\")\n",
       "        clearInterval(timer);\n",
       "      }\n",
       "    }, 10, root)\n",
       "  }\n",
       "})(window);"
      ],
      "application/vnd.bokehjs_exec.v0+json": ""
     },
     "metadata": {
      "application/vnd.bokehjs_exec.v0+json": {
       "id": "289eb88b-d06b-42d0-93b8-01e0dcba6cc4"
      }
     },
     "output_type": "display_data"
    }
   ],
   "source": [
    "# RGBa カラーコード　オブジェクトの不透明度を設定\n",
    "p = figure(plot_width=200, plot_height=200)\n",
    "p.circle([0, 0.5, 1], [0, 0, 0], size=30, color=(0, 0, 255))\n",
    "p.circle([0.25, 0.75], [0, 0], size=50, color=(255, 0, 0, 0.3))\n",
    "show(p)"
   ]
  },
  {
   "cell_type": "code",
   "execution_count": 15,
   "metadata": {},
   "outputs": [
    {
     "data": {
      "text/html": [
       "\n",
       "<div class=\"bk-root\">\n",
       "    <div class=\"bk-plotdiv\" id=\"8ad9a1aa-785d-4bbd-af2e-6bc09deabcae\"></div>\n",
       "</div>"
      ]
     },
     "metadata": {},
     "output_type": "display_data"
    },
    {
     "data": {
      "application/javascript": [
       "(function(root) {\n",
       "  function embed_document(root) {\n",
       "    var docs_json = {\"2e5b9a61-3975-428a-8d14-75b59c547011\":{\"roots\":{\"references\":[{\"attributes\":{},\"id\":\"f3dea29d-5949-4cb6-9aa7-cc94847d432e\",\"type\":\"LinearScale\"},{\"attributes\":{\"below\":[{\"id\":\"3dd1da45-4dc3-4ba6-bdb5-535853ad6dd7\",\"type\":\"LinearAxis\"}],\"left\":[{\"id\":\"7f0f85b8-53d2-421e-93d1-896353708985\",\"type\":\"LinearAxis\"}],\"plot_height\":200,\"plot_width\":200,\"renderers\":[{\"id\":\"3dd1da45-4dc3-4ba6-bdb5-535853ad6dd7\",\"type\":\"LinearAxis\"},{\"id\":\"550497ef-a1cd-4f03-ba93-8290ea897c89\",\"type\":\"Grid\"},{\"id\":\"7f0f85b8-53d2-421e-93d1-896353708985\",\"type\":\"LinearAxis\"},{\"id\":\"41e3cb6f-79e2-4ab9-aeb1-53fe7d755540\",\"type\":\"Grid\"},{\"id\":\"eff541da-7a25-42be-9cd8-894b29444e68\",\"type\":\"BoxAnnotation\"},{\"id\":\"299b85f5-bce9-4b40-8fd0-269273539718\",\"type\":\"GlyphRenderer\"},{\"id\":\"3b5febe3-5e7c-4870-9ee7-835f03e88097\",\"type\":\"GlyphRenderer\"}],\"title\":{\"id\":\"c3e9bbe4-08f9-4929-97fb-3875f3eeb2e5\",\"type\":\"Title\"},\"toolbar\":{\"id\":\"ad594978-25f0-4d57-b0d3-07866064b9ba\",\"type\":\"Toolbar\"},\"x_range\":{\"id\":\"ba621321-fe23-47f1-8d2d-320112370444\",\"type\":\"DataRange1d\"},\"x_scale\":{\"id\":\"f3dea29d-5949-4cb6-9aa7-cc94847d432e\",\"type\":\"LinearScale\"},\"y_range\":{\"id\":\"cec22623-4656-4ff0-bdbf-d6ea9031e608\",\"type\":\"DataRange1d\"},\"y_scale\":{\"id\":\"36429d81-ed4e-4222-8c34-ea94d46e9db3\",\"type\":\"LinearScale\"}},\"id\":\"48ae4974-6499-43d5-b0d2-96afcce106bf\",\"subtype\":\"Figure\",\"type\":\"Plot\"},{\"attributes\":{\"callback\":null,\"column_names\":[\"x\",\"y\"],\"data\":{\"x\":[0,0.5,1],\"y\":[0,0,0]}},\"id\":\"039413b2-6663-466b-a37b-96f6a4ce5640\",\"type\":\"ColumnDataSource\"},{\"attributes\":{\"active_drag\":\"auto\",\"active_inspect\":\"auto\",\"active_scroll\":\"auto\",\"active_tap\":\"auto\",\"tools\":[{\"id\":\"22be19ce-b447-4e2a-b725-9d593f761be5\",\"type\":\"PanTool\"},{\"id\":\"3438eca9-3b7a-41a0-8553-b11619e33a8f\",\"type\":\"WheelZoomTool\"},{\"id\":\"9863286d-23ad-44f1-aada-46b1a6e79643\",\"type\":\"BoxZoomTool\"},{\"id\":\"74b7d229-9aff-40ba-bfc3-f19486cebe11\",\"type\":\"SaveTool\"},{\"id\":\"4ad5420a-cdf4-49ee-b12f-bd7c6f730fe2\",\"type\":\"ResetTool\"},{\"id\":\"bd570929-fe20-41ff-a632-d003424469bb\",\"type\":\"HelpTool\"}]},\"id\":\"ad594978-25f0-4d57-b0d3-07866064b9ba\",\"type\":\"Toolbar\"},{\"attributes\":{},\"id\":\"d95b65e7-ee23-41ea-985f-683c8a7f9dff\",\"type\":\"BasicTickFormatter\"},{\"attributes\":{\"data_source\":{\"id\":\"8ca8eb2a-7daf-4945-a9ff-66f9fd97c519\",\"type\":\"ColumnDataSource\"},\"glyph\":{\"id\":\"26e91203-9f4c-4c0e-9bd0-750df6cda645\",\"type\":\"Circle\"},\"hover_glyph\":null,\"muted_glyph\":null,\"nonselection_glyph\":{\"id\":\"dbe3d9d9-6581-4e9e-80e9-4ebb55426539\",\"type\":\"Circle\"},\"selection_glyph\":null,\"view\":{\"id\":\"f965087d-2a91-418c-a1bc-b34db58a46c1\",\"type\":\"CDSView\"}},\"id\":\"3b5febe3-5e7c-4870-9ee7-835f03e88097\",\"type\":\"GlyphRenderer\"},{\"attributes\":{\"callback\":null},\"id\":\"ba621321-fe23-47f1-8d2d-320112370444\",\"type\":\"DataRange1d\"},{\"attributes\":{\"dimension\":1,\"plot\":{\"id\":\"48ae4974-6499-43d5-b0d2-96afcce106bf\",\"subtype\":\"Figure\",\"type\":\"Plot\"},\"ticker\":{\"id\":\"97aa177c-2030-4153-bcff-cf9e6502c558\",\"type\":\"BasicTicker\"}},\"id\":\"41e3cb6f-79e2-4ab9-aeb1-53fe7d755540\",\"type\":\"Grid\"},{\"attributes\":{\"formatter\":{\"id\":\"d95b65e7-ee23-41ea-985f-683c8a7f9dff\",\"type\":\"BasicTickFormatter\"},\"plot\":{\"id\":\"48ae4974-6499-43d5-b0d2-96afcce106bf\",\"subtype\":\"Figure\",\"type\":\"Plot\"},\"ticker\":{\"id\":\"4f69ff40-1762-4d5d-8eeb-47c81ae4359f\",\"type\":\"BasicTicker\"}},\"id\":\"3dd1da45-4dc3-4ba6-bdb5-535853ad6dd7\",\"type\":\"LinearAxis\"},{\"attributes\":{\"bottom_units\":\"screen\",\"fill_alpha\":{\"value\":0.5},\"fill_color\":{\"value\":\"lightgrey\"},\"left_units\":\"screen\",\"level\":\"overlay\",\"line_alpha\":{\"value\":1.0},\"line_color\":{\"value\":\"black\"},\"line_dash\":[4,4],\"line_width\":{\"value\":2},\"plot\":null,\"render_mode\":\"css\",\"right_units\":\"screen\",\"top_units\":\"screen\"},\"id\":\"eff541da-7a25-42be-9cd8-894b29444e68\",\"type\":\"BoxAnnotation\"},{\"attributes\":{\"plot\":{\"id\":\"48ae4974-6499-43d5-b0d2-96afcce106bf\",\"subtype\":\"Figure\",\"type\":\"Plot\"},\"ticker\":{\"id\":\"4f69ff40-1762-4d5d-8eeb-47c81ae4359f\",\"type\":\"BasicTicker\"}},\"id\":\"550497ef-a1cd-4f03-ba93-8290ea897c89\",\"type\":\"Grid\"},{\"attributes\":{},\"id\":\"3438eca9-3b7a-41a0-8553-b11619e33a8f\",\"type\":\"WheelZoomTool\"},{\"attributes\":{},\"id\":\"36429d81-ed4e-4222-8c34-ea94d46e9db3\",\"type\":\"LinearScale\"},{\"attributes\":{\"callback\":null},\"id\":\"cec22623-4656-4ff0-bdbf-d6ea9031e608\",\"type\":\"DataRange1d\"},{\"attributes\":{},\"id\":\"bd570929-fe20-41ff-a632-d003424469bb\",\"type\":\"HelpTool\"},{\"attributes\":{\"data_source\":{\"id\":\"039413b2-6663-466b-a37b-96f6a4ce5640\",\"type\":\"ColumnDataSource\"},\"glyph\":{\"id\":\"0b89d9d3-6723-48b6-b363-a5d26ee83934\",\"type\":\"Circle\"},\"hover_glyph\":null,\"muted_glyph\":null,\"nonselection_glyph\":{\"id\":\"a4640820-75d2-4253-b15b-513a0df14f74\",\"type\":\"Circle\"},\"selection_glyph\":null,\"view\":{\"id\":\"b9e17da7-a39a-4e3b-b25c-9c5798062169\",\"type\":\"CDSView\"}},\"id\":\"299b85f5-bce9-4b40-8fd0-269273539718\",\"type\":\"GlyphRenderer\"},{\"attributes\":{},\"id\":\"97aa177c-2030-4153-bcff-cf9e6502c558\",\"type\":\"BasicTicker\"},{\"attributes\":{},\"id\":\"22be19ce-b447-4e2a-b725-9d593f761be5\",\"type\":\"PanTool\"},{\"attributes\":{\"fill_alpha\":{\"value\":0.1},\"fill_color\":{\"value\":\"#1f77b4\"},\"line_alpha\":{\"value\":0.1},\"line_color\":{\"value\":\"#1f77b4\"},\"size\":{\"units\":\"screen\",\"value\":30},\"x\":{\"field\":\"x\"},\"y\":{\"field\":\"y\"}},\"id\":\"a4640820-75d2-4253-b15b-513a0df14f74\",\"type\":\"Circle\"},{\"attributes\":{\"source\":{\"id\":\"039413b2-6663-466b-a37b-96f6a4ce5640\",\"type\":\"ColumnDataSource\"}},\"id\":\"b9e17da7-a39a-4e3b-b25c-9c5798062169\",\"type\":\"CDSView\"},{\"attributes\":{\"fill_color\":{\"value\":\"blue\"},\"line_color\":{\"value\":\"blue\"},\"size\":{\"units\":\"screen\",\"value\":30},\"x\":{\"field\":\"x\"},\"y\":{\"field\":\"y\"}},\"id\":\"0b89d9d3-6723-48b6-b363-a5d26ee83934\",\"type\":\"Circle\"},{\"attributes\":{},\"id\":\"4ad5420a-cdf4-49ee-b12f-bd7c6f730fe2\",\"type\":\"ResetTool\"},{\"attributes\":{\"formatter\":{\"id\":\"032c4b92-2a5e-42fe-9c87-4cef641ccefe\",\"type\":\"BasicTickFormatter\"},\"plot\":{\"id\":\"48ae4974-6499-43d5-b0d2-96afcce106bf\",\"subtype\":\"Figure\",\"type\":\"Plot\"},\"ticker\":{\"id\":\"97aa177c-2030-4153-bcff-cf9e6502c558\",\"type\":\"BasicTicker\"}},\"id\":\"7f0f85b8-53d2-421e-93d1-896353708985\",\"type\":\"LinearAxis\"},{\"attributes\":{},\"id\":\"4f69ff40-1762-4d5d-8eeb-47c81ae4359f\",\"type\":\"BasicTicker\"},{\"attributes\":{\"overlay\":{\"id\":\"eff541da-7a25-42be-9cd8-894b29444e68\",\"type\":\"BoxAnnotation\"}},\"id\":\"9863286d-23ad-44f1-aada-46b1a6e79643\",\"type\":\"BoxZoomTool\"},{\"attributes\":{},\"id\":\"74b7d229-9aff-40ba-bfc3-f19486cebe11\",\"type\":\"SaveTool\"},{\"attributes\":{},\"id\":\"032c4b92-2a5e-42fe-9c87-4cef641ccefe\",\"type\":\"BasicTickFormatter\"},{\"attributes\":{\"plot\":null,\"text\":\"\"},\"id\":\"c3e9bbe4-08f9-4929-97fb-3875f3eeb2e5\",\"type\":\"Title\"},{\"attributes\":{\"callback\":null,\"column_names\":[\"x\",\"y\"],\"data\":{\"x\":[0.25,0.75],\"y\":[0,0]}},\"id\":\"8ca8eb2a-7daf-4945-a9ff-66f9fd97c519\",\"type\":\"ColumnDataSource\"},{\"attributes\":{\"fill_alpha\":{\"value\":0.25},\"fill_color\":{\"value\":\"red\"},\"line_alpha\":{\"value\":0.25},\"line_color\":{\"value\":\"red\"},\"size\":{\"units\":\"screen\",\"value\":50},\"x\":{\"field\":\"x\"},\"y\":{\"field\":\"y\"}},\"id\":\"26e91203-9f4c-4c0e-9bd0-750df6cda645\",\"type\":\"Circle\"},{\"attributes\":{\"source\":{\"id\":\"8ca8eb2a-7daf-4945-a9ff-66f9fd97c519\",\"type\":\"ColumnDataSource\"}},\"id\":\"f965087d-2a91-418c-a1bc-b34db58a46c1\",\"type\":\"CDSView\"},{\"attributes\":{\"fill_alpha\":{\"value\":0.1},\"fill_color\":{\"value\":\"#1f77b4\"},\"line_alpha\":{\"value\":0.1},\"line_color\":{\"value\":\"#1f77b4\"},\"size\":{\"units\":\"screen\",\"value\":50},\"x\":{\"field\":\"x\"},\"y\":{\"field\":\"y\"}},\"id\":\"dbe3d9d9-6581-4e9e-80e9-4ebb55426539\",\"type\":\"Circle\"}],\"root_ids\":[\"48ae4974-6499-43d5-b0d2-96afcce106bf\"]},\"title\":\"Bokeh Application\",\"version\":\"0.12.10\"}};\n",
       "    var render_items = [{\"docid\":\"2e5b9a61-3975-428a-8d14-75b59c547011\",\"elementid\":\"8ad9a1aa-785d-4bbd-af2e-6bc09deabcae\",\"modelid\":\"48ae4974-6499-43d5-b0d2-96afcce106bf\"}];\n",
       "\n",
       "    root.Bokeh.embed.embed_items(docs_json, render_items);\n",
       "  }\n",
       "\n",
       "  if (root.Bokeh !== undefined) {\n",
       "    embed_document(root);\n",
       "  } else {\n",
       "    var attempts = 0;\n",
       "    var timer = setInterval(function(root) {\n",
       "      if (root.Bokeh !== undefined) {\n",
       "        embed_document(root);\n",
       "        clearInterval(timer);\n",
       "      }\n",
       "      attempts++;\n",
       "      if (attempts > 100) {\n",
       "        console.log(\"Bokeh: ERROR: Unable to embed document because BokehJS library is missing\")\n",
       "        clearInterval(timer);\n",
       "      }\n",
       "    }, 10, root)\n",
       "  }\n",
       "})(window);"
      ],
      "application/vnd.bokehjs_exec.v0+json": ""
     },
     "metadata": {
      "application/vnd.bokehjs_exec.v0+json": {
       "id": "48ae4974-6499-43d5-b0d2-96afcce106bf"
      }
     },
     "output_type": "display_data"
    }
   ],
   "source": [
    "# alphaによる透過設定\n",
    "p = figure(plot_width=200, plot_height=200)\n",
    "p.circle([0, 0.5, 1], [0, 0, 0], size=30, color='blue')\n",
    "p.circle([0.25, 0.75], [0, 0], size=50, color='red', alpha=0.25)\n",
    "show(p)"
   ]
  },
  {
   "cell_type": "code",
   "execution_count": 16,
   "metadata": {},
   "outputs": [
    {
     "data": {
      "text/html": [
       "\n",
       "<div class=\"bk-root\">\n",
       "    <div class=\"bk-plotdiv\" id=\"471da4ec-227f-43ff-b50c-a5ea6537d065\"></div>\n",
       "</div>"
      ]
     },
     "metadata": {},
     "output_type": "display_data"
    },
    {
     "data": {
      "application/javascript": [
       "(function(root) {\n",
       "  function embed_document(root) {\n",
       "    var docs_json = {\"74e14aba-da20-4d8c-aa7d-f6da31d1502e\":{\"roots\":{\"references\":[{\"attributes\":{\"dimension\":1,\"plot\":{\"id\":\"36daa4e0-c206-4366-80a3-56ecac009f84\",\"subtype\":\"Figure\",\"type\":\"Plot\"},\"ticker\":{\"id\":\"d9771844-8cb2-4cb2-8dac-de47ad012156\",\"type\":\"BasicTicker\"}},\"id\":\"22489907-2784-4c09-960d-d56a8205f03d\",\"type\":\"Grid\"},{\"attributes\":{},\"id\":\"30dc53ab-12f0-4227-ba1a-5781cac6f1a3\",\"type\":\"LinearScale\"},{\"attributes\":{},\"id\":\"860ee608-4a16-4382-8bbb-f2db975db1c8\",\"type\":\"BasicTicker\"},{\"attributes\":{},\"id\":\"029723b8-08b6-467e-82b2-5f6131651750\",\"type\":\"WheelZoomTool\"},{\"attributes\":{\"fill_alpha\":{\"value\":0.1},\"fill_color\":{\"value\":\"#1f77b4\"},\"line_alpha\":{\"value\":0.1},\"line_color\":{\"value\":\"#1f77b4\"},\"line_width\":{\"value\":5},\"size\":{\"units\":\"screen\",\"value\":30},\"x\":{\"field\":\"x\"},\"y\":{\"field\":\"y\"}},\"id\":\"0d5b31cc-00e9-4c66-ade2-ef19ac2940b7\",\"type\":\"Circle\"},{\"attributes\":{\"below\":[{\"id\":\"8ff146fe-f4bb-4479-ad48-58f33dda5c72\",\"type\":\"LinearAxis\"}],\"left\":[{\"id\":\"abe7fc2b-db10-45a9-9434-c0298cd81037\",\"type\":\"LinearAxis\"}],\"plot_height\":200,\"plot_width\":200,\"renderers\":[{\"id\":\"8ff146fe-f4bb-4479-ad48-58f33dda5c72\",\"type\":\"LinearAxis\"},{\"id\":\"d131c514-4191-4fdf-a34a-9cde4c3d479f\",\"type\":\"Grid\"},{\"id\":\"abe7fc2b-db10-45a9-9434-c0298cd81037\",\"type\":\"LinearAxis\"},{\"id\":\"22489907-2784-4c09-960d-d56a8205f03d\",\"type\":\"Grid\"},{\"id\":\"d144c749-1643-4b51-b584-ad781195a187\",\"type\":\"BoxAnnotation\"},{\"id\":\"8dcc6d7b-eb45-4c8d-bc5a-2fdafcac3b9d\",\"type\":\"GlyphRenderer\"}],\"title\":{\"id\":\"1371fab6-5417-4879-b218-3e39c2cf4e19\",\"type\":\"Title\"},\"toolbar\":{\"id\":\"1cfd9568-88c3-4600-a8ec-b46d5da50696\",\"type\":\"Toolbar\"},\"x_range\":{\"id\":\"1bf44dc1-2c58-4338-9dc6-e860440743e0\",\"type\":\"DataRange1d\"},\"x_scale\":{\"id\":\"30dc53ab-12f0-4227-ba1a-5781cac6f1a3\",\"type\":\"LinearScale\"},\"y_range\":{\"id\":\"1613da11-11af-45c4-add4-e0dc63312caa\",\"type\":\"DataRange1d\"},\"y_scale\":{\"id\":\"028c9051-0edb-44b0-8581-404d5a54b354\",\"type\":\"LinearScale\"}},\"id\":\"36daa4e0-c206-4366-80a3-56ecac009f84\",\"subtype\":\"Figure\",\"type\":\"Plot\"},{\"attributes\":{\"plot\":{\"id\":\"36daa4e0-c206-4366-80a3-56ecac009f84\",\"subtype\":\"Figure\",\"type\":\"Plot\"},\"ticker\":{\"id\":\"860ee608-4a16-4382-8bbb-f2db975db1c8\",\"type\":\"BasicTicker\"}},\"id\":\"d131c514-4191-4fdf-a34a-9cde4c3d479f\",\"type\":\"Grid\"},{\"attributes\":{\"overlay\":{\"id\":\"d144c749-1643-4b51-b584-ad781195a187\",\"type\":\"BoxAnnotation\"}},\"id\":\"a4d771a2-e97f-4962-8100-f56aabe18308\",\"type\":\"BoxZoomTool\"},{\"attributes\":{\"callback\":null,\"column_names\":[\"x\",\"y\"],\"data\":{\"x\":[0],\"y\":[0]}},\"id\":\"9d467306-874f-4e48-b8cf-0cda8275a135\",\"type\":\"ColumnDataSource\"},{\"attributes\":{\"fill_color\":{\"value\":\"red\"},\"line_color\":{\"value\":\"#1f77b4\"},\"line_width\":{\"value\":5},\"size\":{\"units\":\"screen\",\"value\":30},\"x\":{\"field\":\"x\"},\"y\":{\"field\":\"y\"}},\"id\":\"e6f2ed7e-e426-446f-bfff-6ca907c2d33f\",\"type\":\"Circle\"},{\"attributes\":{\"formatter\":{\"id\":\"c3d384d8-f402-408d-8f43-d50d2b812db1\",\"type\":\"BasicTickFormatter\"},\"plot\":{\"id\":\"36daa4e0-c206-4366-80a3-56ecac009f84\",\"subtype\":\"Figure\",\"type\":\"Plot\"},\"ticker\":{\"id\":\"d9771844-8cb2-4cb2-8dac-de47ad012156\",\"type\":\"BasicTicker\"}},\"id\":\"abe7fc2b-db10-45a9-9434-c0298cd81037\",\"type\":\"LinearAxis\"},{\"attributes\":{},\"id\":\"cf1068dc-a301-4ad8-9020-754a62345b97\",\"type\":\"SaveTool\"},{\"attributes\":{\"formatter\":{\"id\":\"e1ea67be-27f1-4f3e-b7bd-5ef6b2415215\",\"type\":\"BasicTickFormatter\"},\"plot\":{\"id\":\"36daa4e0-c206-4366-80a3-56ecac009f84\",\"subtype\":\"Figure\",\"type\":\"Plot\"},\"ticker\":{\"id\":\"860ee608-4a16-4382-8bbb-f2db975db1c8\",\"type\":\"BasicTicker\"}},\"id\":\"8ff146fe-f4bb-4479-ad48-58f33dda5c72\",\"type\":\"LinearAxis\"},{\"attributes\":{},\"id\":\"b2b7cd55-6e27-4e92-ae2e-4f35d2e410d7\",\"type\":\"HelpTool\"},{\"attributes\":{\"plot\":null,\"text\":\"\"},\"id\":\"1371fab6-5417-4879-b218-3e39c2cf4e19\",\"type\":\"Title\"},{\"attributes\":{},\"id\":\"028c9051-0edb-44b0-8581-404d5a54b354\",\"type\":\"LinearScale\"},{\"attributes\":{\"callback\":null},\"id\":\"1bf44dc1-2c58-4338-9dc6-e860440743e0\",\"type\":\"DataRange1d\"},{\"attributes\":{\"data_source\":{\"id\":\"9d467306-874f-4e48-b8cf-0cda8275a135\",\"type\":\"ColumnDataSource\"},\"glyph\":{\"id\":\"e6f2ed7e-e426-446f-bfff-6ca907c2d33f\",\"type\":\"Circle\"},\"hover_glyph\":null,\"muted_glyph\":null,\"nonselection_glyph\":{\"id\":\"0d5b31cc-00e9-4c66-ade2-ef19ac2940b7\",\"type\":\"Circle\"},\"selection_glyph\":null,\"view\":{\"id\":\"5e0c85bb-05ec-4c34-8219-d60e635e25fc\",\"type\":\"CDSView\"}},\"id\":\"8dcc6d7b-eb45-4c8d-bc5a-2fdafcac3b9d\",\"type\":\"GlyphRenderer\"},{\"attributes\":{},\"id\":\"e1ea67be-27f1-4f3e-b7bd-5ef6b2415215\",\"type\":\"BasicTickFormatter\"},{\"attributes\":{},\"id\":\"c3d384d8-f402-408d-8f43-d50d2b812db1\",\"type\":\"BasicTickFormatter\"},{\"attributes\":{},\"id\":\"e6c9ae4b-2594-42a7-ac5e-2f432ad89ab0\",\"type\":\"PanTool\"},{\"attributes\":{\"source\":{\"id\":\"9d467306-874f-4e48-b8cf-0cda8275a135\",\"type\":\"ColumnDataSource\"}},\"id\":\"5e0c85bb-05ec-4c34-8219-d60e635e25fc\",\"type\":\"CDSView\"},{\"attributes\":{},\"id\":\"d9771844-8cb2-4cb2-8dac-de47ad012156\",\"type\":\"BasicTicker\"},{\"attributes\":{\"callback\":null},\"id\":\"1613da11-11af-45c4-add4-e0dc63312caa\",\"type\":\"DataRange1d\"},{\"attributes\":{},\"id\":\"7d98ea8f-c2a0-4236-a49b-115de2478e91\",\"type\":\"ResetTool\"},{\"attributes\":{\"bottom_units\":\"screen\",\"fill_alpha\":{\"value\":0.5},\"fill_color\":{\"value\":\"lightgrey\"},\"left_units\":\"screen\",\"level\":\"overlay\",\"line_alpha\":{\"value\":1.0},\"line_color\":{\"value\":\"black\"},\"line_dash\":[4,4],\"line_width\":{\"value\":2},\"plot\":null,\"render_mode\":\"css\",\"right_units\":\"screen\",\"top_units\":\"screen\"},\"id\":\"d144c749-1643-4b51-b584-ad781195a187\",\"type\":\"BoxAnnotation\"},{\"attributes\":{\"active_drag\":\"auto\",\"active_inspect\":\"auto\",\"active_scroll\":\"auto\",\"active_tap\":\"auto\",\"tools\":[{\"id\":\"e6c9ae4b-2594-42a7-ac5e-2f432ad89ab0\",\"type\":\"PanTool\"},{\"id\":\"029723b8-08b6-467e-82b2-5f6131651750\",\"type\":\"WheelZoomTool\"},{\"id\":\"a4d771a2-e97f-4962-8100-f56aabe18308\",\"type\":\"BoxZoomTool\"},{\"id\":\"cf1068dc-a301-4ad8-9020-754a62345b97\",\"type\":\"SaveTool\"},{\"id\":\"7d98ea8f-c2a0-4236-a49b-115de2478e91\",\"type\":\"ResetTool\"},{\"id\":\"b2b7cd55-6e27-4e92-ae2e-4f35d2e410d7\",\"type\":\"HelpTool\"}]},\"id\":\"1cfd9568-88c3-4600-a8ec-b46d5da50696\",\"type\":\"Toolbar\"}],\"root_ids\":[\"36daa4e0-c206-4366-80a3-56ecac009f84\"]},\"title\":\"Bokeh Application\",\"version\":\"0.12.10\"}};\n",
       "    var render_items = [{\"docid\":\"74e14aba-da20-4d8c-aa7d-f6da31d1502e\",\"elementid\":\"471da4ec-227f-43ff-b50c-a5ea6537d065\",\"modelid\":\"36daa4e0-c206-4366-80a3-56ecac009f84\"}];\n",
       "\n",
       "    root.Bokeh.embed.embed_items(docs_json, render_items);\n",
       "  }\n",
       "\n",
       "  if (root.Bokeh !== undefined) {\n",
       "    embed_document(root);\n",
       "  } else {\n",
       "    var attempts = 0;\n",
       "    var timer = setInterval(function(root) {\n",
       "      if (root.Bokeh !== undefined) {\n",
       "        embed_document(root);\n",
       "        clearInterval(timer);\n",
       "      }\n",
       "      attempts++;\n",
       "      if (attempts > 100) {\n",
       "        console.log(\"Bokeh: ERROR: Unable to embed document because BokehJS library is missing\")\n",
       "        clearInterval(timer);\n",
       "      }\n",
       "    }, 10, root)\n",
       "  }\n",
       "})(window);"
      ],
      "application/vnd.bokehjs_exec.v0+json": ""
     },
     "metadata": {
      "application/vnd.bokehjs_exec.v0+json": {
       "id": "36daa4e0-c206-4366-80a3-56ecac009f84"
      }
     },
     "output_type": "display_data"
    }
   ],
   "source": [
    "# 色を設定する場合の使い分け\n",
    "# fill_color\n",
    "p = figure(plot_width=200, plot_height=200)\n",
    "p.circle([0], [0], size=30, fill_color='red', line_width=5)\n",
    "show(p)"
   ]
  },
  {
   "cell_type": "code",
   "execution_count": 18,
   "metadata": {},
   "outputs": [
    {
     "data": {
      "text/html": [
       "\n",
       "<div class=\"bk-root\">\n",
       "    <div class=\"bk-plotdiv\" id=\"b74804d5-7123-4376-8077-9a6db96c50c5\"></div>\n",
       "</div>"
      ]
     },
     "metadata": {},
     "output_type": "display_data"
    },
    {
     "data": {
      "application/javascript": [
       "(function(root) {\n",
       "  function embed_document(root) {\n",
       "    var docs_json = {\"bc67b6ac-7076-407f-b81f-8a2ff4ef2e8c\":{\"roots\":{\"references\":[{\"attributes\":{},\"id\":\"e3ada173-9e54-4a0e-a736-57569aa1408a\",\"type\":\"BasicTickFormatter\"},{\"attributes\":{\"below\":[{\"id\":\"464b7800-5519-4d8b-97de-dfa9df9c44a8\",\"type\":\"LinearAxis\"}],\"left\":[{\"id\":\"96d0de9d-21ed-46d8-be4f-4c01db35f00b\",\"type\":\"LinearAxis\"}],\"plot_height\":200,\"plot_width\":200,\"renderers\":[{\"id\":\"464b7800-5519-4d8b-97de-dfa9df9c44a8\",\"type\":\"LinearAxis\"},{\"id\":\"97dab878-3e5b-49eb-bbe1-8fbaaa2a5e5d\",\"type\":\"Grid\"},{\"id\":\"96d0de9d-21ed-46d8-be4f-4c01db35f00b\",\"type\":\"LinearAxis\"},{\"id\":\"97c4e421-a83b-4238-8464-b84ea91fb231\",\"type\":\"Grid\"},{\"id\":\"35fa9b66-6e8e-4da2-8c86-50c94330fe3b\",\"type\":\"BoxAnnotation\"},{\"id\":\"a9699f3d-ed1f-4b54-a4e2-59a240dd2fdc\",\"type\":\"GlyphRenderer\"}],\"title\":{\"id\":\"dd58e1d2-7100-4b0f-8e58-b6ee4c02d37f\",\"type\":\"Title\"},\"toolbar\":{\"id\":\"d4101cc6-723d-4011-8f30-b19f090d7acb\",\"type\":\"Toolbar\"},\"x_range\":{\"id\":\"a24eb499-cc40-47a3-8e5e-122ecbb434be\",\"type\":\"DataRange1d\"},\"x_scale\":{\"id\":\"22cf44d9-34fe-4e0d-ae4a-9a300e5ead4b\",\"type\":\"LinearScale\"},\"y_range\":{\"id\":\"5452af84-96a8-4118-b326-446f25cd5eba\",\"type\":\"DataRange1d\"},\"y_scale\":{\"id\":\"7fc99523-f83a-40d3-949e-34fca28f3fe1\",\"type\":\"LinearScale\"}},\"id\":\"5345ee9e-f16f-4c06-922c-0776113647ab\",\"subtype\":\"Figure\",\"type\":\"Plot\"},{\"attributes\":{\"callback\":null,\"column_names\":[\"x\",\"y\"],\"data\":{\"x\":[0],\"y\":[0]}},\"id\":\"14e3875d-de20-4010-8d0c-47e94f27d564\",\"type\":\"ColumnDataSource\"},{\"attributes\":{},\"id\":\"dec3d90c-1682-476d-b618-3a2bbac43018\",\"type\":\"BasicTickFormatter\"},{\"attributes\":{\"active_drag\":\"auto\",\"active_inspect\":\"auto\",\"active_scroll\":\"auto\",\"active_tap\":\"auto\",\"tools\":[{\"id\":\"0b4ad5f6-2dcd-4b6b-bee7-62695666816e\",\"type\":\"PanTool\"},{\"id\":\"a69a2d8a-44ff-4620-aaf1-b3fa12fa52e5\",\"type\":\"WheelZoomTool\"},{\"id\":\"54625a10-28dc-4c16-9d98-cdaa7ed2649b\",\"type\":\"BoxZoomTool\"},{\"id\":\"a41e03a5-3da9-4f1b-9e69-613866dc261c\",\"type\":\"SaveTool\"},{\"id\":\"57732e6d-26f0-4d5c-8162-fde0d330348d\",\"type\":\"ResetTool\"},{\"id\":\"c7f25cfe-3142-4344-88cb-90bcda0d731a\",\"type\":\"HelpTool\"}]},\"id\":\"d4101cc6-723d-4011-8f30-b19f090d7acb\",\"type\":\"Toolbar\"},{\"attributes\":{\"bottom_units\":\"screen\",\"fill_alpha\":{\"value\":0.5},\"fill_color\":{\"value\":\"lightgrey\"},\"left_units\":\"screen\",\"level\":\"overlay\",\"line_alpha\":{\"value\":1.0},\"line_color\":{\"value\":\"black\"},\"line_dash\":[4,4],\"line_width\":{\"value\":2},\"plot\":null,\"render_mode\":\"css\",\"right_units\":\"screen\",\"top_units\":\"screen\"},\"id\":\"35fa9b66-6e8e-4da2-8c86-50c94330fe3b\",\"type\":\"BoxAnnotation\"},{\"attributes\":{\"data_source\":{\"id\":\"14e3875d-de20-4010-8d0c-47e94f27d564\",\"type\":\"ColumnDataSource\"},\"glyph\":{\"id\":\"b6940be5-27a0-457d-8f6e-110c19033056\",\"type\":\"Circle\"},\"hover_glyph\":null,\"muted_glyph\":null,\"nonselection_glyph\":{\"id\":\"7d37b378-a36b-4066-82af-609d7c82503a\",\"type\":\"Circle\"},\"selection_glyph\":null,\"view\":{\"id\":\"bfb4ade9-e8a8-4dc3-8acf-1c0dda8535a7\",\"type\":\"CDSView\"}},\"id\":\"a9699f3d-ed1f-4b54-a4e2-59a240dd2fdc\",\"type\":\"GlyphRenderer\"},{\"attributes\":{},\"id\":\"194fe808-28b9-40a4-bb8e-2dfb1a65a014\",\"type\":\"BasicTicker\"},{\"attributes\":{\"plot\":null,\"text\":\"\"},\"id\":\"dd58e1d2-7100-4b0f-8e58-b6ee4c02d37f\",\"type\":\"Title\"},{\"attributes\":{\"dimension\":1,\"plot\":{\"id\":\"5345ee9e-f16f-4c06-922c-0776113647ab\",\"subtype\":\"Figure\",\"type\":\"Plot\"},\"ticker\":{\"id\":\"d1a0f1e8-ebe1-422b-bb80-b32798372f8c\",\"type\":\"BasicTicker\"}},\"id\":\"97c4e421-a83b-4238-8464-b84ea91fb231\",\"type\":\"Grid\"},{\"attributes\":{},\"id\":\"d1a0f1e8-ebe1-422b-bb80-b32798372f8c\",\"type\":\"BasicTicker\"},{\"attributes\":{\"source\":{\"id\":\"14e3875d-de20-4010-8d0c-47e94f27d564\",\"type\":\"ColumnDataSource\"}},\"id\":\"bfb4ade9-e8a8-4dc3-8acf-1c0dda8535a7\",\"type\":\"CDSView\"},{\"attributes\":{},\"id\":\"c7f25cfe-3142-4344-88cb-90bcda0d731a\",\"type\":\"HelpTool\"},{\"attributes\":{\"callback\":null},\"id\":\"a24eb499-cc40-47a3-8e5e-122ecbb434be\",\"type\":\"DataRange1d\"},{\"attributes\":{\"callback\":null},\"id\":\"5452af84-96a8-4118-b326-446f25cd5eba\",\"type\":\"DataRange1d\"},{\"attributes\":{},\"id\":\"22cf44d9-34fe-4e0d-ae4a-9a300e5ead4b\",\"type\":\"LinearScale\"},{\"attributes\":{},\"id\":\"7fc99523-f83a-40d3-949e-34fca28f3fe1\",\"type\":\"LinearScale\"},{\"attributes\":{\"formatter\":{\"id\":\"dec3d90c-1682-476d-b618-3a2bbac43018\",\"type\":\"BasicTickFormatter\"},\"plot\":{\"id\":\"5345ee9e-f16f-4c06-922c-0776113647ab\",\"subtype\":\"Figure\",\"type\":\"Plot\"},\"ticker\":{\"id\":\"d1a0f1e8-ebe1-422b-bb80-b32798372f8c\",\"type\":\"BasicTicker\"}},\"id\":\"96d0de9d-21ed-46d8-be4f-4c01db35f00b\",\"type\":\"LinearAxis\"},{\"attributes\":{\"formatter\":{\"id\":\"e3ada173-9e54-4a0e-a736-57569aa1408a\",\"type\":\"BasicTickFormatter\"},\"plot\":{\"id\":\"5345ee9e-f16f-4c06-922c-0776113647ab\",\"subtype\":\"Figure\",\"type\":\"Plot\"},\"ticker\":{\"id\":\"194fe808-28b9-40a4-bb8e-2dfb1a65a014\",\"type\":\"BasicTicker\"}},\"id\":\"464b7800-5519-4d8b-97de-dfa9df9c44a8\",\"type\":\"LinearAxis\"},{\"attributes\":{\"plot\":{\"id\":\"5345ee9e-f16f-4c06-922c-0776113647ab\",\"subtype\":\"Figure\",\"type\":\"Plot\"},\"ticker\":{\"id\":\"194fe808-28b9-40a4-bb8e-2dfb1a65a014\",\"type\":\"BasicTicker\"}},\"id\":\"97dab878-3e5b-49eb-bbe1-8fbaaa2a5e5d\",\"type\":\"Grid\"},{\"attributes\":{\"fill_alpha\":{\"value\":0.1},\"fill_color\":{\"value\":\"#1f77b4\"},\"line_alpha\":{\"value\":0.1},\"line_color\":{\"value\":\"#1f77b4\"},\"line_width\":{\"value\":5},\"size\":{\"units\":\"screen\",\"value\":30},\"x\":{\"field\":\"x\"},\"y\":{\"field\":\"y\"}},\"id\":\"7d37b378-a36b-4066-82af-609d7c82503a\",\"type\":\"Circle\"},{\"attributes\":{\"fill_color\":{\"value\":\"red\"},\"line_width\":{\"value\":5},\"size\":{\"units\":\"screen\",\"value\":30},\"x\":{\"field\":\"x\"},\"y\":{\"field\":\"y\"}},\"id\":\"b6940be5-27a0-457d-8f6e-110c19033056\",\"type\":\"Circle\"},{\"attributes\":{},\"id\":\"0b4ad5f6-2dcd-4b6b-bee7-62695666816e\",\"type\":\"PanTool\"},{\"attributes\":{},\"id\":\"a69a2d8a-44ff-4620-aaf1-b3fa12fa52e5\",\"type\":\"WheelZoomTool\"},{\"attributes\":{\"overlay\":{\"id\":\"35fa9b66-6e8e-4da2-8c86-50c94330fe3b\",\"type\":\"BoxAnnotation\"}},\"id\":\"54625a10-28dc-4c16-9d98-cdaa7ed2649b\",\"type\":\"BoxZoomTool\"},{\"attributes\":{},\"id\":\"a41e03a5-3da9-4f1b-9e69-613866dc261c\",\"type\":\"SaveTool\"},{\"attributes\":{},\"id\":\"57732e6d-26f0-4d5c-8162-fde0d330348d\",\"type\":\"ResetTool\"}],\"root_ids\":[\"5345ee9e-f16f-4c06-922c-0776113647ab\"]},\"title\":\"Bokeh Application\",\"version\":\"0.12.10\"}};\n",
       "    var render_items = [{\"docid\":\"bc67b6ac-7076-407f-b81f-8a2ff4ef2e8c\",\"elementid\":\"b74804d5-7123-4376-8077-9a6db96c50c5\",\"modelid\":\"5345ee9e-f16f-4c06-922c-0776113647ab\"}];\n",
       "\n",
       "    root.Bokeh.embed.embed_items(docs_json, render_items);\n",
       "  }\n",
       "\n",
       "  if (root.Bokeh !== undefined) {\n",
       "    embed_document(root);\n",
       "  } else {\n",
       "    var attempts = 0;\n",
       "    var timer = setInterval(function(root) {\n",
       "      if (root.Bokeh !== undefined) {\n",
       "        embed_document(root);\n",
       "        clearInterval(timer);\n",
       "      }\n",
       "      attempts++;\n",
       "      if (attempts > 100) {\n",
       "        console.log(\"Bokeh: ERROR: Unable to embed document because BokehJS library is missing\")\n",
       "        clearInterval(timer);\n",
       "      }\n",
       "    }, 10, root)\n",
       "  }\n",
       "})(window);"
      ],
      "application/vnd.bokehjs_exec.v0+json": ""
     },
     "metadata": {
      "application/vnd.bokehjs_exec.v0+json": {
       "id": "5345ee9e-f16f-4c06-922c-0776113647ab"
      }
     },
     "output_type": "display_data"
    }
   ],
   "source": [
    "#line_color\n",
    "p = figure(plot_width=200, plot_height=200)\n",
    "p.circle([0], [0], size=30, fill_color='red', line_color='black', line_width=5)\n",
    "show(p)"
   ]
  },
  {
   "cell_type": "code",
   "execution_count": 19,
   "metadata": {},
   "outputs": [
    {
     "data": {
      "text/plain": [
       "['#08519c', '#3182bd', '#6baed6', '#9ecae1', '#c6dbef', '#eff3ff']"
      ]
     },
     "execution_count": 19,
     "metadata": {},
     "output_type": "execute_result"
    }
   ],
   "source": [
    "# bokeh.palettes Blue6 module\n",
    "from bokeh.palettes import Blues6\n",
    "\n",
    "Blues6"
   ]
  },
  {
   "cell_type": "code",
   "execution_count": 22,
   "metadata": {},
   "outputs": [
    {
     "data": {
      "text/plain": [
       "{3: ['#3182bd', '#9ecae1', '#deebf7'],\n",
       " 4: ['#2171b5', '#6baed6', '#bdd7e7', '#eff3ff'],\n",
       " 5: ['#08519c', '#3182bd', '#6baed6', '#bdd7e7', '#eff3ff'],\n",
       " 6: ['#08519c', '#3182bd', '#6baed6', '#9ecae1', '#c6dbef', '#eff3ff'],\n",
       " 7: ['#084594',\n",
       "  '#2171b5',\n",
       "  '#4292c6',\n",
       "  '#6baed6',\n",
       "  '#9ecae1',\n",
       "  '#c6dbef',\n",
       "  '#eff3ff'],\n",
       " 8: ['#084594',\n",
       "  '#2171b5',\n",
       "  '#4292c6',\n",
       "  '#6baed6',\n",
       "  '#9ecae1',\n",
       "  '#c6dbef',\n",
       "  '#deebf7',\n",
       "  '#f7fbff'],\n",
       " 9: ['#08306b',\n",
       "  '#08519c',\n",
       "  '#2171b5',\n",
       "  '#4292c6',\n",
       "  '#6baed6',\n",
       "  '#9ecae1',\n",
       "  '#c6dbef',\n",
       "  '#deebf7',\n",
       "  '#f7fbff']}"
      ]
     },
     "execution_count": 22,
     "metadata": {},
     "output_type": "execute_result"
    }
   ],
   "source": [
    "#Blue module\n",
    "from bokeh.palettes import Blues\n",
    "Blues"
   ]
  },
  {
   "cell_type": "code",
   "execution_count": 24,
   "metadata": {},
   "outputs": [
    {
     "data": {
      "text/html": [
       "\n",
       "<div class=\"bk-root\">\n",
       "    <div class=\"bk-plotdiv\" id=\"2df794a0-4ee9-4871-a5ca-d7b07a5fb56c\"></div>\n",
       "</div>"
      ]
     },
     "metadata": {},
     "output_type": "display_data"
    },
    {
     "data": {
      "application/javascript": [
       "(function(root) {\n",
       "  function embed_document(root) {\n",
       "    var docs_json = {\"2775afbb-d385-4792-bbe2-350641cd2c47\":{\"roots\":{\"references\":[{\"attributes\":{\"dimension\":1,\"plot\":{\"id\":\"b0ff9c9f-ad20-4186-92b2-5318c71597e9\",\"subtype\":\"Figure\",\"type\":\"Plot\"},\"ticker\":{\"id\":\"f2d48c67-b50e-4fad-ae1a-347fb41caf9b\",\"type\":\"BasicTicker\"}},\"id\":\"f7f829a2-917e-4d1c-bc82-842080f3325c\",\"type\":\"Grid\"},{\"attributes\":{\"callback\":null,\"end\":2},\"id\":\"20d45d46-685c-49d5-ac3f-1a027394da7e\",\"type\":\"Range1d\"},{\"attributes\":{},\"id\":\"91c3987d-8eaa-419a-80d4-4c2c71f271e2\",\"type\":\"LinearScale\"},{\"attributes\":{},\"id\":\"f3c27702-a39e-44f6-a478-c92ea718fac0\",\"type\":\"LinearScale\"},{\"attributes\":{\"callback\":null,\"data\":{}},\"id\":\"c420afc6-5c5c-4b2b-be11-e320594f96de\",\"type\":\"ColumnDataSource\"},{\"attributes\":{\"below\":[{\"id\":\"bf23b461-f54f-4e10-a27c-8ef6edeab579\",\"type\":\"LinearAxis\"}],\"left\":[{\"id\":\"b6f67fab-7b88-44a6-8200-289fe4b1da6c\",\"type\":\"LinearAxis\"}],\"plot_height\":200,\"plot_width\":200,\"renderers\":[{\"id\":\"bf23b461-f54f-4e10-a27c-8ef6edeab579\",\"type\":\"LinearAxis\"},{\"id\":\"935be240-2199-4790-9624-1a637d7d011e\",\"type\":\"Grid\"},{\"id\":\"b6f67fab-7b88-44a6-8200-289fe4b1da6c\",\"type\":\"LinearAxis\"},{\"id\":\"f7f829a2-917e-4d1c-bc82-842080f3325c\",\"type\":\"Grid\"},{\"id\":\"64e173f8-b1ab-4638-9e06-21056fb1516a\",\"type\":\"BoxAnnotation\"},{\"id\":\"e59fa652-df90-4d4d-83c1-a04aa352d8d3\",\"type\":\"GlyphRenderer\"},{\"id\":\"168de14f-376d-462c-baef-6a8f5258f35c\",\"type\":\"GlyphRenderer\"},{\"id\":\"67926bc4-43d2-4b65-af8b-21b0622d1176\",\"type\":\"GlyphRenderer\"},{\"id\":\"9b8aceb5-536a-4f2b-a44a-ac916ef58236\",\"type\":\"GlyphRenderer\"},{\"id\":\"6edc0f8b-40c6-4cdc-ae6e-d3e4eb7fed84\",\"type\":\"GlyphRenderer\"},{\"id\":\"40e8bc13-d6a6-4205-bbe0-6ca97e30ceca\",\"type\":\"GlyphRenderer\"},{\"id\":\"12f3b5b4-e44b-4014-9a62-1892a53042ce\",\"type\":\"GlyphRenderer\"},{\"id\":\"c70b4db5-ad43-47b6-b7f8-e89af22978d2\",\"type\":\"GlyphRenderer\"},{\"id\":\"acd20cbf-32bc-4cf3-aa9a-1d014d9a2fe2\",\"type\":\"GlyphRenderer\"},{\"id\":\"dd8b4dc4-666c-469b-8aa3-a08d965948b9\",\"type\":\"GlyphRenderer\"},{\"id\":\"9170c1d2-ab1f-4732-b358-4d6a4fa24a2c\",\"type\":\"GlyphRenderer\"},{\"id\":\"e8164512-220a-4054-838a-6c54be6c68ee\",\"type\":\"GlyphRenderer\"}],\"title\":{\"id\":\"b8c0a16a-4301-49be-a5ed-7873a0507c0b\",\"type\":\"Title\"},\"toolbar\":{\"id\":\"9afa6011-ee7e-411d-a7bc-b2a591014e8a\",\"type\":\"Toolbar\"},\"x_range\":{\"id\":\"20d45d46-685c-49d5-ac3f-1a027394da7e\",\"type\":\"Range1d\"},\"x_scale\":{\"id\":\"91c3987d-8eaa-419a-80d4-4c2c71f271e2\",\"type\":\"LinearScale\"},\"y_range\":{\"id\":\"8a8dba5c-5596-4187-80c1-edbbe3f45339\",\"type\":\"Range1d\"},\"y_scale\":{\"id\":\"f3c27702-a39e-44f6-a478-c92ea718fac0\",\"type\":\"LinearScale\"}},\"id\":\"b0ff9c9f-ad20-4186-92b2-5318c71597e9\",\"subtype\":\"Figure\",\"type\":\"Plot\"},{\"attributes\":{\"fill_color\":{\"value\":\"#08519c\"},\"line_color\":{\"value\":\"#08519c\"},\"size\":{\"units\":\"screen\",\"value\":20},\"x\":{\"value\":0.5},\"y\":{\"value\":0}},\"id\":\"0000b987-7b26-40c8-8bed-100547493834\",\"type\":\"Square\"},{\"attributes\":{\"active_drag\":\"auto\",\"active_inspect\":\"auto\",\"active_scroll\":\"auto\",\"active_tap\":\"auto\",\"tools\":[{\"id\":\"2bfd694e-b265-40c3-9d76-f75f808db76a\",\"type\":\"PanTool\"},{\"id\":\"683d29b0-27ff-4f85-b8c8-2380db32a898\",\"type\":\"WheelZoomTool\"},{\"id\":\"760de880-48c8-43cc-b90b-7742a08a6323\",\"type\":\"BoxZoomTool\"},{\"id\":\"4d7720b3-0bd3-4e2b-8aa7-8ecc0e613593\",\"type\":\"SaveTool\"},{\"id\":\"33716699-a349-4fa6-afd9-083f32515bb6\",\"type\":\"ResetTool\"},{\"id\":\"252ebc3f-635b-4726-b049-5d3f53ec82e1\",\"type\":\"HelpTool\"}]},\"id\":\"9afa6011-ee7e-411d-a7bc-b2a591014e8a\",\"type\":\"Toolbar\"},{\"attributes\":{\"fill_alpha\":{\"value\":0.1},\"fill_color\":{\"value\":\"#1f77b4\"},\"line_alpha\":{\"value\":0.1},\"line_color\":{\"value\":\"#1f77b4\"},\"size\":{\"units\":\"screen\",\"value\":20},\"x\":{\"value\":0.5},\"y\":{\"value\":0}},\"id\":\"2eec93c4-91af-4b18-9e8a-5dbde990a635\",\"type\":\"Square\"},{\"attributes\":{},\"id\":\"5e27afa7-f322-4f42-bc3c-1b07621c55c0\",\"type\":\"BasicTickFormatter\"},{\"attributes\":{\"callback\":null,\"end\":5.5,\"start\":-0.5},\"id\":\"8a8dba5c-5596-4187-80c1-edbbe3f45339\",\"type\":\"Range1d\"},{\"attributes\":{\"plot\":{\"id\":\"b0ff9c9f-ad20-4186-92b2-5318c71597e9\",\"subtype\":\"Figure\",\"type\":\"Plot\"},\"ticker\":{\"id\":\"ec520382-9198-447d-89c6-782d1c738f24\",\"type\":\"BasicTicker\"}},\"id\":\"935be240-2199-4790-9624-1a637d7d011e\",\"type\":\"Grid\"},{\"attributes\":{\"formatter\":{\"id\":\"5e27afa7-f322-4f42-bc3c-1b07621c55c0\",\"type\":\"BasicTickFormatter\"},\"plot\":{\"id\":\"b0ff9c9f-ad20-4186-92b2-5318c71597e9\",\"subtype\":\"Figure\",\"type\":\"Plot\"},\"ticker\":{\"id\":\"ec520382-9198-447d-89c6-782d1c738f24\",\"type\":\"BasicTicker\"}},\"id\":\"bf23b461-f54f-4e10-a27c-8ef6edeab579\",\"type\":\"LinearAxis\"},{\"attributes\":{},\"id\":\"445e37c6-4250-407d-9845-d5d4317e3b95\",\"type\":\"BasicTickFormatter\"},{\"attributes\":{\"bottom_units\":\"screen\",\"fill_alpha\":{\"value\":0.5},\"fill_color\":{\"value\":\"lightgrey\"},\"left_units\":\"screen\",\"level\":\"overlay\",\"line_alpha\":{\"value\":1.0},\"line_color\":{\"value\":\"black\"},\"line_dash\":[4,4],\"line_width\":{\"value\":2},\"plot\":null,\"render_mode\":\"css\",\"right_units\":\"screen\",\"top_units\":\"screen\"},\"id\":\"64e173f8-b1ab-4638-9e06-21056fb1516a\",\"type\":\"BoxAnnotation\"},{\"attributes\":{},\"id\":\"ec520382-9198-447d-89c6-782d1c738f24\",\"type\":\"BasicTicker\"},{\"attributes\":{\"formatter\":{\"id\":\"445e37c6-4250-407d-9845-d5d4317e3b95\",\"type\":\"BasicTickFormatter\"},\"plot\":{\"id\":\"b0ff9c9f-ad20-4186-92b2-5318c71597e9\",\"subtype\":\"Figure\",\"type\":\"Plot\"},\"ticker\":{\"id\":\"f2d48c67-b50e-4fad-ae1a-347fb41caf9b\",\"type\":\"BasicTicker\"}},\"id\":\"b6f67fab-7b88-44a6-8200-289fe4b1da6c\",\"type\":\"LinearAxis\"},{\"attributes\":{},\"id\":\"f2d48c67-b50e-4fad-ae1a-347fb41caf9b\",\"type\":\"BasicTicker\"},{\"attributes\":{},\"id\":\"2bfd694e-b265-40c3-9d76-f75f808db76a\",\"type\":\"PanTool\"},{\"attributes\":{\"data_source\":{\"id\":\"6a8ba793-983d-45b2-8673-dc539e2641c1\",\"type\":\"ColumnDataSource\"},\"glyph\":{\"id\":\"5155e962-0bd9-4a74-8397-4abe0c9ce951\",\"type\":\"Square\"},\"hover_glyph\":null,\"muted_glyph\":null,\"nonselection_glyph\":{\"id\":\"9b93d36b-75bc-4e7a-8d16-f5babc169315\",\"type\":\"Square\"},\"selection_glyph\":null,\"view\":{\"id\":\"5d7bc6f9-313b-4796-bb45-4140875d4b4a\",\"type\":\"CDSView\"}},\"id\":\"67926bc4-43d2-4b65-af8b-21b0622d1176\",\"type\":\"GlyphRenderer\"},{\"attributes\":{},\"id\":\"683d29b0-27ff-4f85-b8c8-2380db32a898\",\"type\":\"WheelZoomTool\"},{\"attributes\":{\"overlay\":{\"id\":\"64e173f8-b1ab-4638-9e06-21056fb1516a\",\"type\":\"BoxAnnotation\"}},\"id\":\"760de880-48c8-43cc-b90b-7742a08a6323\",\"type\":\"BoxZoomTool\"},{\"attributes\":{},\"id\":\"4d7720b3-0bd3-4e2b-8aa7-8ecc0e613593\",\"type\":\"SaveTool\"},{\"attributes\":{},\"id\":\"33716699-a349-4fa6-afd9-083f32515bb6\",\"type\":\"ResetTool\"},{\"attributes\":{},\"id\":\"252ebc3f-635b-4726-b049-5d3f53ec82e1\",\"type\":\"HelpTool\"},{\"attributes\":{\"callback\":null,\"data\":{}},\"id\":\"6a8ba793-983d-45b2-8673-dc539e2641c1\",\"type\":\"ColumnDataSource\"},{\"attributes\":{\"callback\":null,\"column_names\":[\"text\"],\"data\":{\"text\":[\"#08519c\"]}},\"id\":\"9ad29e98-f4e8-4cd9-9bc0-7749d47953b2\",\"type\":\"ColumnDataSource\"},{\"attributes\":{\"data_source\":{\"id\":\"9ad29e98-f4e8-4cd9-9bc0-7749d47953b2\",\"type\":\"ColumnDataSource\"},\"glyph\":{\"id\":\"5f934b69-f60f-403d-ac8f-703f7bda7514\",\"type\":\"Text\"},\"hover_glyph\":null,\"muted_glyph\":null,\"nonselection_glyph\":{\"id\":\"0f4d693e-edb1-4284-bc84-a3cd1671b12d\",\"type\":\"Text\"},\"selection_glyph\":null,\"view\":{\"id\":\"53183a32-ab68-4ea0-bcb9-eb992f265bd7\",\"type\":\"CDSView\"}},\"id\":\"168de14f-376d-462c-baef-6a8f5258f35c\",\"type\":\"GlyphRenderer\"},{\"attributes\":{\"text_alpha\":{\"value\":0.1},\"text_baseline\":\"middle\",\"text_color\":{\"value\":\"black\"},\"x\":{\"value\":1},\"y\":{\"value\":0}},\"id\":\"0f4d693e-edb1-4284-bc84-a3cd1671b12d\",\"type\":\"Text\"},{\"attributes\":{\"source\":{\"id\":\"9ad29e98-f4e8-4cd9-9bc0-7749d47953b2\",\"type\":\"ColumnDataSource\"}},\"id\":\"53183a32-ab68-4ea0-bcb9-eb992f265bd7\",\"type\":\"CDSView\"},{\"attributes\":{\"text_baseline\":\"middle\",\"text_color\":{\"value\":\"black\"},\"x\":{\"value\":1},\"y\":{\"value\":2}},\"id\":\"e433ff17-e5ad-4ca8-b833-f5da83f4165e\",\"type\":\"Text\"},{\"attributes\":{\"fill_color\":{\"value\":\"#3182bd\"},\"line_color\":{\"value\":\"#3182bd\"},\"size\":{\"units\":\"screen\",\"value\":20},\"x\":{\"value\":0.5},\"y\":{\"value\":1}},\"id\":\"5155e962-0bd9-4a74-8397-4abe0c9ce951\",\"type\":\"Square\"},{\"attributes\":{\"text_baseline\":\"middle\",\"text_color\":{\"value\":\"black\"},\"x\":{\"value\":1},\"y\":{\"value\":0}},\"id\":\"5f934b69-f60f-403d-ac8f-703f7bda7514\",\"type\":\"Text\"},{\"attributes\":{\"fill_alpha\":{\"value\":0.1},\"fill_color\":{\"value\":\"#1f77b4\"},\"line_alpha\":{\"value\":0.1},\"line_color\":{\"value\":\"#1f77b4\"},\"size\":{\"units\":\"screen\",\"value\":20},\"x\":{\"value\":0.5},\"y\":{\"value\":1}},\"id\":\"9b93d36b-75bc-4e7a-8d16-f5babc169315\",\"type\":\"Square\"},{\"attributes\":{\"callback\":null,\"column_names\":[\"text\"],\"data\":{\"text\":[\"#3182bd\"]}},\"id\":\"eeb66dce-4e15-4087-882d-36f29e5bbaf2\",\"type\":\"ColumnDataSource\"},{\"attributes\":{\"source\":{\"id\":\"eeb66dce-4e15-4087-882d-36f29e5bbaf2\",\"type\":\"ColumnDataSource\"}},\"id\":\"c856aa8d-5e16-458a-b7d1-44cf76609b5f\",\"type\":\"CDSView\"},{\"attributes\":{\"source\":{\"id\":\"6a8ba793-983d-45b2-8673-dc539e2641c1\",\"type\":\"ColumnDataSource\"}},\"id\":\"5d7bc6f9-313b-4796-bb45-4140875d4b4a\",\"type\":\"CDSView\"},{\"attributes\":{\"text_baseline\":\"middle\",\"text_color\":{\"value\":\"black\"},\"x\":{\"value\":1},\"y\":{\"value\":1}},\"id\":\"8c14fe62-343e-4576-87e4-19ab1e1e3946\",\"type\":\"Text\"},{\"attributes\":{\"text_alpha\":{\"value\":0.1},\"text_baseline\":\"middle\",\"text_color\":{\"value\":\"black\"},\"x\":{\"value\":1},\"y\":{\"value\":1}},\"id\":\"156302b4-f8a3-4163-81c8-0a8bedd02914\",\"type\":\"Text\"},{\"attributes\":{\"callback\":null,\"data\":{}},\"id\":\"eca3047d-e94e-46aa-b5a4-2b379936b85f\",\"type\":\"ColumnDataSource\"},{\"attributes\":{\"source\":{\"id\":\"eca3047d-e94e-46aa-b5a4-2b379936b85f\",\"type\":\"ColumnDataSource\"}},\"id\":\"8b31135d-4a24-47c1-9bd4-af00d4269e1b\",\"type\":\"CDSView\"},{\"attributes\":{\"data_source\":{\"id\":\"eeb66dce-4e15-4087-882d-36f29e5bbaf2\",\"type\":\"ColumnDataSource\"},\"glyph\":{\"id\":\"8c14fe62-343e-4576-87e4-19ab1e1e3946\",\"type\":\"Text\"},\"hover_glyph\":null,\"muted_glyph\":null,\"nonselection_glyph\":{\"id\":\"156302b4-f8a3-4163-81c8-0a8bedd02914\",\"type\":\"Text\"},\"selection_glyph\":null,\"view\":{\"id\":\"c856aa8d-5e16-458a-b7d1-44cf76609b5f\",\"type\":\"CDSView\"}},\"id\":\"9b8aceb5-536a-4f2b-a44a-ac916ef58236\",\"type\":\"GlyphRenderer\"},{\"attributes\":{\"fill_color\":{\"value\":\"#6baed6\"},\"line_color\":{\"value\":\"#6baed6\"},\"size\":{\"units\":\"screen\",\"value\":20},\"x\":{\"value\":0.5},\"y\":{\"value\":2}},\"id\":\"1e78a74d-7e2c-4721-bee6-98d30eb92ffb\",\"type\":\"Square\"},{\"attributes\":{\"fill_alpha\":{\"value\":0.1},\"fill_color\":{\"value\":\"#1f77b4\"},\"line_alpha\":{\"value\":0.1},\"line_color\":{\"value\":\"#1f77b4\"},\"size\":{\"units\":\"screen\",\"value\":20},\"x\":{\"value\":0.5},\"y\":{\"value\":2}},\"id\":\"b8ba08bd-f0de-4a81-baba-d4950e72807e\",\"type\":\"Square\"},{\"attributes\":{\"callback\":null,\"column_names\":[\"text\"],\"data\":{\"text\":[\"#6baed6\"]}},\"id\":\"6ddc2fa0-8e13-4425-92e5-93bca5ae9a08\",\"type\":\"ColumnDataSource\"},{\"attributes\":{\"data_source\":{\"id\":\"6ddc2fa0-8e13-4425-92e5-93bca5ae9a08\",\"type\":\"ColumnDataSource\"},\"glyph\":{\"id\":\"e433ff17-e5ad-4ca8-b833-f5da83f4165e\",\"type\":\"Text\"},\"hover_glyph\":null,\"muted_glyph\":null,\"nonselection_glyph\":{\"id\":\"d0ebc278-714d-4223-ad9d-d344fd23fd0f\",\"type\":\"Text\"},\"selection_glyph\":null,\"view\":{\"id\":\"2e35ff00-2fe0-41d2-924c-40b1355251ff\",\"type\":\"CDSView\"}},\"id\":\"40e8bc13-d6a6-4205-bbe0-6ca97e30ceca\",\"type\":\"GlyphRenderer\"},{\"attributes\":{\"data_source\":{\"id\":\"eca3047d-e94e-46aa-b5a4-2b379936b85f\",\"type\":\"ColumnDataSource\"},\"glyph\":{\"id\":\"1e78a74d-7e2c-4721-bee6-98d30eb92ffb\",\"type\":\"Square\"},\"hover_glyph\":null,\"muted_glyph\":null,\"nonselection_glyph\":{\"id\":\"b8ba08bd-f0de-4a81-baba-d4950e72807e\",\"type\":\"Square\"},\"selection_glyph\":null,\"view\":{\"id\":\"8b31135d-4a24-47c1-9bd4-af00d4269e1b\",\"type\":\"CDSView\"}},\"id\":\"6edc0f8b-40c6-4cdc-ae6e-d3e4eb7fed84\",\"type\":\"GlyphRenderer\"},{\"attributes\":{\"fill_color\":{\"value\":\"#9ecae1\"},\"line_color\":{\"value\":\"#9ecae1\"},\"size\":{\"units\":\"screen\",\"value\":20},\"x\":{\"value\":0.5},\"y\":{\"value\":3}},\"id\":\"d7177ba5-7945-4062-a3c1-3c5f7ee53e3a\",\"type\":\"Square\"},{\"attributes\":{\"text_alpha\":{\"value\":0.1},\"text_baseline\":\"middle\",\"text_color\":{\"value\":\"black\"},\"x\":{\"value\":1},\"y\":{\"value\":2}},\"id\":\"d0ebc278-714d-4223-ad9d-d344fd23fd0f\",\"type\":\"Text\"},{\"attributes\":{\"callback\":null,\"data\":{}},\"id\":\"7c11cb82-55a7-4861-81e4-386286720628\",\"type\":\"ColumnDataSource\"},{\"attributes\":{\"data_source\":{\"id\":\"7c11cb82-55a7-4861-81e4-386286720628\",\"type\":\"ColumnDataSource\"},\"glyph\":{\"id\":\"d7177ba5-7945-4062-a3c1-3c5f7ee53e3a\",\"type\":\"Square\"},\"hover_glyph\":null,\"muted_glyph\":null,\"nonselection_glyph\":{\"id\":\"540bb41d-8495-4307-aa38-7f0aed3c9c2d\",\"type\":\"Square\"},\"selection_glyph\":null,\"view\":{\"id\":\"d5f7340f-0bac-4581-9095-76bd6edc74c1\",\"type\":\"CDSView\"}},\"id\":\"12f3b5b4-e44b-4014-9a62-1892a53042ce\",\"type\":\"GlyphRenderer\"},{\"attributes\":{\"source\":{\"id\":\"6ddc2fa0-8e13-4425-92e5-93bca5ae9a08\",\"type\":\"ColumnDataSource\"}},\"id\":\"2e35ff00-2fe0-41d2-924c-40b1355251ff\",\"type\":\"CDSView\"},{\"attributes\":{\"text_baseline\":\"middle\",\"text_color\":{\"value\":\"black\"},\"x\":{\"value\":1},\"y\":{\"value\":4}},\"id\":\"390b4645-cb76-419f-afa5-858c5d77e2fc\",\"type\":\"Text\"},{\"attributes\":{\"fill_alpha\":{\"value\":0.1},\"fill_color\":{\"value\":\"#1f77b4\"},\"line_alpha\":{\"value\":0.1},\"line_color\":{\"value\":\"#1f77b4\"},\"size\":{\"units\":\"screen\",\"value\":20},\"x\":{\"value\":0.5},\"y\":{\"value\":3}},\"id\":\"540bb41d-8495-4307-aa38-7f0aed3c9c2d\",\"type\":\"Square\"},{\"attributes\":{\"callback\":null,\"column_names\":[\"text\"],\"data\":{\"text\":[\"#9ecae1\"]}},\"id\":\"f5a9a84e-db23-4dfa-aef9-ad9bdb1e7b67\",\"type\":\"ColumnDataSource\"},{\"attributes\":{\"source\":{\"id\":\"f5a9a84e-db23-4dfa-aef9-ad9bdb1e7b67\",\"type\":\"ColumnDataSource\"}},\"id\":\"9c812d5a-3ed0-40b3-9c87-0bd115d364ec\",\"type\":\"CDSView\"},{\"attributes\":{\"source\":{\"id\":\"7c11cb82-55a7-4861-81e4-386286720628\",\"type\":\"ColumnDataSource\"}},\"id\":\"d5f7340f-0bac-4581-9095-76bd6edc74c1\",\"type\":\"CDSView\"},{\"attributes\":{\"text_baseline\":\"middle\",\"text_color\":{\"value\":\"black\"},\"x\":{\"value\":1},\"y\":{\"value\":3}},\"id\":\"79070725-d987-4e20-b8a7-b68f1eed8d9d\",\"type\":\"Text\"},{\"attributes\":{\"source\":{\"id\":\"c420afc6-5c5c-4b2b-be11-e320594f96de\",\"type\":\"ColumnDataSource\"}},\"id\":\"50ea70e4-369a-46c1-89f4-1064561580e9\",\"type\":\"CDSView\"},{\"attributes\":{\"text_alpha\":{\"value\":0.1},\"text_baseline\":\"middle\",\"text_color\":{\"value\":\"black\"},\"x\":{\"value\":1},\"y\":{\"value\":3}},\"id\":\"ba010eb3-e465-4d43-81ca-363f32b71758\",\"type\":\"Text\"},{\"attributes\":{\"callback\":null,\"data\":{}},\"id\":\"80c554ca-336b-4690-837d-8a4566e063ec\",\"type\":\"ColumnDataSource\"},{\"attributes\":{\"source\":{\"id\":\"80c554ca-336b-4690-837d-8a4566e063ec\",\"type\":\"ColumnDataSource\"}},\"id\":\"70e60f02-ef95-49ec-8b2f-b8e33ce4cefc\",\"type\":\"CDSView\"},{\"attributes\":{\"data_source\":{\"id\":\"f5a9a84e-db23-4dfa-aef9-ad9bdb1e7b67\",\"type\":\"ColumnDataSource\"},\"glyph\":{\"id\":\"79070725-d987-4e20-b8a7-b68f1eed8d9d\",\"type\":\"Text\"},\"hover_glyph\":null,\"muted_glyph\":null,\"nonselection_glyph\":{\"id\":\"ba010eb3-e465-4d43-81ca-363f32b71758\",\"type\":\"Text\"},\"selection_glyph\":null,\"view\":{\"id\":\"9c812d5a-3ed0-40b3-9c87-0bd115d364ec\",\"type\":\"CDSView\"}},\"id\":\"c70b4db5-ad43-47b6-b7f8-e89af22978d2\",\"type\":\"GlyphRenderer\"},{\"attributes\":{\"plot\":null,\"text\":\"\"},\"id\":\"b8c0a16a-4301-49be-a5ed-7873a0507c0b\",\"type\":\"Title\"},{\"attributes\":{\"fill_color\":{\"value\":\"#c6dbef\"},\"line_color\":{\"value\":\"#c6dbef\"},\"size\":{\"units\":\"screen\",\"value\":20},\"x\":{\"value\":0.5},\"y\":{\"value\":4}},\"id\":\"9baae8e5-7ddf-4941-ab3c-117b5cbdd6fa\",\"type\":\"Square\"},{\"attributes\":{\"fill_alpha\":{\"value\":0.1},\"fill_color\":{\"value\":\"#1f77b4\"},\"line_alpha\":{\"value\":0.1},\"line_color\":{\"value\":\"#1f77b4\"},\"size\":{\"units\":\"screen\",\"value\":20},\"x\":{\"value\":0.5},\"y\":{\"value\":4}},\"id\":\"ad139321-ae0a-4746-a54f-ee5976252337\",\"type\":\"Square\"},{\"attributes\":{\"callback\":null,\"column_names\":[\"text\"],\"data\":{\"text\":[\"#c6dbef\"]}},\"id\":\"e8706687-4e4d-4033-9753-63fc944a7f64\",\"type\":\"ColumnDataSource\"},{\"attributes\":{\"data_source\":{\"id\":\"e8706687-4e4d-4033-9753-63fc944a7f64\",\"type\":\"ColumnDataSource\"},\"glyph\":{\"id\":\"390b4645-cb76-419f-afa5-858c5d77e2fc\",\"type\":\"Text\"},\"hover_glyph\":null,\"muted_glyph\":null,\"nonselection_glyph\":{\"id\":\"a7a0b402-3394-46b9-89f0-16357d3471d1\",\"type\":\"Text\"},\"selection_glyph\":null,\"view\":{\"id\":\"b04c6713-ee6d-4791-982b-fceb326c6eaa\",\"type\":\"CDSView\"}},\"id\":\"dd8b4dc4-666c-469b-8aa3-a08d965948b9\",\"type\":\"GlyphRenderer\"},{\"attributes\":{\"data_source\":{\"id\":\"80c554ca-336b-4690-837d-8a4566e063ec\",\"type\":\"ColumnDataSource\"},\"glyph\":{\"id\":\"9baae8e5-7ddf-4941-ab3c-117b5cbdd6fa\",\"type\":\"Square\"},\"hover_glyph\":null,\"muted_glyph\":null,\"nonselection_glyph\":{\"id\":\"ad139321-ae0a-4746-a54f-ee5976252337\",\"type\":\"Square\"},\"selection_glyph\":null,\"view\":{\"id\":\"70e60f02-ef95-49ec-8b2f-b8e33ce4cefc\",\"type\":\"CDSView\"}},\"id\":\"acd20cbf-32bc-4cf3-aa9a-1d014d9a2fe2\",\"type\":\"GlyphRenderer\"},{\"attributes\":{\"fill_color\":{\"value\":\"#eff3ff\"},\"line_color\":{\"value\":\"#eff3ff\"},\"size\":{\"units\":\"screen\",\"value\":20},\"x\":{\"value\":0.5},\"y\":{\"value\":5}},\"id\":\"70280475-9b65-44eb-96b5-0d58e596d99c\",\"type\":\"Square\"},{\"attributes\":{\"data_source\":{\"id\":\"c420afc6-5c5c-4b2b-be11-e320594f96de\",\"type\":\"ColumnDataSource\"},\"glyph\":{\"id\":\"0000b987-7b26-40c8-8bed-100547493834\",\"type\":\"Square\"},\"hover_glyph\":null,\"muted_glyph\":null,\"nonselection_glyph\":{\"id\":\"2eec93c4-91af-4b18-9e8a-5dbde990a635\",\"type\":\"Square\"},\"selection_glyph\":null,\"view\":{\"id\":\"50ea70e4-369a-46c1-89f4-1064561580e9\",\"type\":\"CDSView\"}},\"id\":\"e59fa652-df90-4d4d-83c1-a04aa352d8d3\",\"type\":\"GlyphRenderer\"},{\"attributes\":{\"text_alpha\":{\"value\":0.1},\"text_baseline\":\"middle\",\"text_color\":{\"value\":\"black\"},\"x\":{\"value\":1},\"y\":{\"value\":4}},\"id\":\"a7a0b402-3394-46b9-89f0-16357d3471d1\",\"type\":\"Text\"},{\"attributes\":{\"callback\":null,\"data\":{}},\"id\":\"79ae683d-7b3c-438b-ae66-f14ee6584b28\",\"type\":\"ColumnDataSource\"},{\"attributes\":{\"data_source\":{\"id\":\"79ae683d-7b3c-438b-ae66-f14ee6584b28\",\"type\":\"ColumnDataSource\"},\"glyph\":{\"id\":\"70280475-9b65-44eb-96b5-0d58e596d99c\",\"type\":\"Square\"},\"hover_glyph\":null,\"muted_glyph\":null,\"nonselection_glyph\":{\"id\":\"06bfc027-9f13-4b4c-a234-5c531fb8009c\",\"type\":\"Square\"},\"selection_glyph\":null,\"view\":{\"id\":\"4ca2164b-cf90-4de5-8690-aad2074ba4d0\",\"type\":\"CDSView\"}},\"id\":\"9170c1d2-ab1f-4732-b358-4d6a4fa24a2c\",\"type\":\"GlyphRenderer\"},{\"attributes\":{\"source\":{\"id\":\"e8706687-4e4d-4033-9753-63fc944a7f64\",\"type\":\"ColumnDataSource\"}},\"id\":\"b04c6713-ee6d-4791-982b-fceb326c6eaa\",\"type\":\"CDSView\"},{\"attributes\":{\"fill_alpha\":{\"value\":0.1},\"fill_color\":{\"value\":\"#1f77b4\"},\"line_alpha\":{\"value\":0.1},\"line_color\":{\"value\":\"#1f77b4\"},\"size\":{\"units\":\"screen\",\"value\":20},\"x\":{\"value\":0.5},\"y\":{\"value\":5}},\"id\":\"06bfc027-9f13-4b4c-a234-5c531fb8009c\",\"type\":\"Square\"},{\"attributes\":{\"callback\":null,\"column_names\":[\"text\"],\"data\":{\"text\":[\"#eff3ff\"]}},\"id\":\"60aac7b4-5bcd-4efb-947e-3eed97b72c0f\",\"type\":\"ColumnDataSource\"},{\"attributes\":{\"source\":{\"id\":\"60aac7b4-5bcd-4efb-947e-3eed97b72c0f\",\"type\":\"ColumnDataSource\"}},\"id\":\"fb65b0a8-c521-4ccd-b12a-66e6b1644be0\",\"type\":\"CDSView\"},{\"attributes\":{\"source\":{\"id\":\"79ae683d-7b3c-438b-ae66-f14ee6584b28\",\"type\":\"ColumnDataSource\"}},\"id\":\"4ca2164b-cf90-4de5-8690-aad2074ba4d0\",\"type\":\"CDSView\"},{\"attributes\":{\"text_baseline\":\"middle\",\"text_color\":{\"value\":\"black\"},\"x\":{\"value\":1},\"y\":{\"value\":5}},\"id\":\"b1f9b243-bf14-470c-b06f-5002cd364261\",\"type\":\"Text\"},{\"attributes\":{\"text_alpha\":{\"value\":0.1},\"text_baseline\":\"middle\",\"text_color\":{\"value\":\"black\"},\"x\":{\"value\":1},\"y\":{\"value\":5}},\"id\":\"3668259d-5d25-4d71-9a5b-7ca511f2cc2a\",\"type\":\"Text\"},{\"attributes\":{\"data_source\":{\"id\":\"60aac7b4-5bcd-4efb-947e-3eed97b72c0f\",\"type\":\"ColumnDataSource\"},\"glyph\":{\"id\":\"b1f9b243-bf14-470c-b06f-5002cd364261\",\"type\":\"Text\"},\"hover_glyph\":null,\"muted_glyph\":null,\"nonselection_glyph\":{\"id\":\"3668259d-5d25-4d71-9a5b-7ca511f2cc2a\",\"type\":\"Text\"},\"selection_glyph\":null,\"view\":{\"id\":\"fb65b0a8-c521-4ccd-b12a-66e6b1644be0\",\"type\":\"CDSView\"}},\"id\":\"e8164512-220a-4054-838a-6c54be6c68ee\",\"type\":\"GlyphRenderer\"}],\"root_ids\":[\"b0ff9c9f-ad20-4186-92b2-5318c71597e9\"]},\"title\":\"Bokeh Application\",\"version\":\"0.12.10\"}};\n",
       "    var render_items = [{\"docid\":\"2775afbb-d385-4792-bbe2-350641cd2c47\",\"elementid\":\"2df794a0-4ee9-4871-a5ca-d7b07a5fb56c\",\"modelid\":\"b0ff9c9f-ad20-4186-92b2-5318c71597e9\"}];\n",
       "\n",
       "    root.Bokeh.embed.embed_items(docs_json, render_items);\n",
       "  }\n",
       "\n",
       "  if (root.Bokeh !== undefined) {\n",
       "    embed_document(root);\n",
       "  } else {\n",
       "    var attempts = 0;\n",
       "    var timer = setInterval(function(root) {\n",
       "      if (root.Bokeh !== undefined) {\n",
       "        embed_document(root);\n",
       "        clearInterval(timer);\n",
       "      }\n",
       "      attempts++;\n",
       "      if (attempts > 100) {\n",
       "        console.log(\"Bokeh: ERROR: Unable to embed document because BokehJS library is missing\")\n",
       "        clearInterval(timer);\n",
       "      }\n",
       "    }, 10, root)\n",
       "  }\n",
       "})(window);"
      ],
      "application/vnd.bokehjs_exec.v0+json": ""
     },
     "metadata": {
      "application/vnd.bokehjs_exec.v0+json": {
       "id": "b0ff9c9f-ad20-4186-92b2-5318c71597e9"
      }
     },
     "output_type": "display_data"
    }
   ],
   "source": [
    "# Blue6による着色\n",
    "p = figure(plot_width=200, plot_height=200, x_range=(0, 2), y_range=(-0.5, 5.5))\n",
    "\n",
    "for i, color in enumerate(Blues6):\n",
    "    p.square(0.5, i, color=color, size=20)\n",
    "    p.text(1, i, text=[color], text_baseline='middle')\n",
    "    \n",
    "show(p)"
   ]
  },
  {
   "cell_type": "code",
   "execution_count": null,
   "metadata": {},
   "outputs": [],
   "source": []
  }
 ],
 "metadata": {
  "kernelspec": {
   "display_name": "Python 3",
   "language": "python",
   "name": "python3"
  },
  "language_info": {
   "codemirror_mode": {
    "name": "ipython",
    "version": 3
   },
   "file_extension": ".py",
   "mimetype": "text/x-python",
   "name": "python",
   "nbconvert_exporter": "python",
   "pygments_lexer": "ipython3",
   "version": "3.6.1"
  }
 },
 "nbformat": 4,
 "nbformat_minor": 2
}
