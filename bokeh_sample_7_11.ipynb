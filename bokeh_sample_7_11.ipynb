{
 "cells": [
  {
   "cell_type": "code",
   "execution_count": 12,
   "metadata": {},
   "outputs": [
    {
     "data": {
      "text/html": [
       "\n",
       "    <div class=\"bk-root\">\n",
       "        <a href=\"https://bokeh.pydata.org\" target=\"_blank\" class=\"bk-logo bk-logo-small bk-logo-notebook\"></a>\n",
       "        <span id=\"64460f5e-9cc5-427a-9985-2d0466426d5f\">Loading BokehJS ...</span>\n",
       "    </div>"
      ]
     },
     "metadata": {},
     "output_type": "display_data"
    },
    {
     "data": {
      "application/javascript": [
       "\n",
       "(function(root) {\n",
       "  function now() {\n",
       "    return new Date();\n",
       "  }\n",
       "\n",
       "  var force = true;\n",
       "\n",
       "  if (typeof (root._bokeh_onload_callbacks) === \"undefined\" || force === true) {\n",
       "    root._bokeh_onload_callbacks = [];\n",
       "    root._bokeh_is_loading = undefined;\n",
       "  }\n",
       "\n",
       "  var JS_MIME_TYPE = 'application/javascript';\n",
       "  var HTML_MIME_TYPE = 'text/html';\n",
       "  var EXEC_MIME_TYPE = 'application/vnd.bokehjs_exec.v0+json';\n",
       "  var CLASS_NAME = 'output_bokeh rendered_html';\n",
       "\n",
       "  /**\n",
       "   * Render data to the DOM node\n",
       "   */\n",
       "  function render(props, node) {\n",
       "    var script = document.createElement(\"script\");\n",
       "    node.appendChild(script);\n",
       "  }\n",
       "\n",
       "  /**\n",
       "   * Handle when an output is cleared or removed\n",
       "   */\n",
       "  function handleClearOutput(event, handle) {\n",
       "    var cell = handle.cell;\n",
       "\n",
       "    var id = cell.output_area._bokeh_element_id;\n",
       "    var server_id = cell.output_area._bokeh_server_id;\n",
       "    // Clean up Bokeh references\n",
       "    if (id !== undefined) {\n",
       "      Bokeh.index[id].model.document.clear();\n",
       "      delete Bokeh.index[id];\n",
       "    }\n",
       "\n",
       "    if (server_id !== undefined) {\n",
       "      // Clean up Bokeh references\n",
       "      var cmd = \"from bokeh.io.state import curstate; print(curstate().uuid_to_server['\" + server_id + \"'].get_sessions()[0].document.roots[0]._id)\";\n",
       "      cell.notebook.kernel.execute(cmd, {\n",
       "        iopub: {\n",
       "          output: function(msg) {\n",
       "            var element_id = msg.content.text.trim();\n",
       "            Bokeh.index[element_id].model.document.clear();\n",
       "            delete Bokeh.index[element_id];\n",
       "          }\n",
       "        }\n",
       "      });\n",
       "      // Destroy server and session\n",
       "      var cmd = \"import bokeh.io.notebook as ion; ion.destroy_server('\" + server_id + \"')\";\n",
       "      cell.notebook.kernel.execute(cmd);\n",
       "    }\n",
       "  }\n",
       "\n",
       "  /**\n",
       "   * Handle when a new output is added\n",
       "   */\n",
       "  function handleAddOutput(event, handle) {\n",
       "    var output_area = handle.output_area;\n",
       "    var output = handle.output;\n",
       "\n",
       "    // limit handleAddOutput to display_data with EXEC_MIME_TYPE content only\n",
       "    if ((output.output_type != \"display_data\") || (!output.data.hasOwnProperty(EXEC_MIME_TYPE))) {\n",
       "      return\n",
       "    }\n",
       "\n",
       "    var toinsert = output_area.element.find(`.${CLASS_NAME.split(' ')[0]}`);\n",
       "\n",
       "    if (output.metadata[EXEC_MIME_TYPE][\"id\"] !== undefined) {\n",
       "      toinsert[0].firstChild.textContent = output.data[JS_MIME_TYPE];\n",
       "      // store reference to embed id on output_area\n",
       "      output_area._bokeh_element_id = output.metadata[EXEC_MIME_TYPE][\"id\"];\n",
       "    }\n",
       "    if (output.metadata[EXEC_MIME_TYPE][\"server_id\"] !== undefined) {\n",
       "      var bk_div = document.createElement(\"div\");\n",
       "      bk_div.innerHTML = output.data[HTML_MIME_TYPE];\n",
       "      var script_attrs = bk_div.children[0].attributes;\n",
       "      for (var i = 0; i < script_attrs.length; i++) {\n",
       "        toinsert[0].firstChild.setAttribute(script_attrs[i].name, script_attrs[i].value);\n",
       "      }\n",
       "      // store reference to server id on output_area\n",
       "      output_area._bokeh_server_id = output.metadata[EXEC_MIME_TYPE][\"server_id\"];\n",
       "    }\n",
       "  }\n",
       "\n",
       "  function register_renderer(events, OutputArea) {\n",
       "\n",
       "    function append_mime(data, metadata, element) {\n",
       "      // create a DOM node to render to\n",
       "      var toinsert = this.create_output_subarea(\n",
       "        metadata,\n",
       "        CLASS_NAME,\n",
       "        EXEC_MIME_TYPE\n",
       "      );\n",
       "      this.keyboard_manager.register_events(toinsert);\n",
       "      // Render to node\n",
       "      var props = {data: data, metadata: metadata[EXEC_MIME_TYPE]};\n",
       "      render(props, toinsert[0]);\n",
       "      element.append(toinsert);\n",
       "      return toinsert\n",
       "    }\n",
       "\n",
       "    /* Handle when an output is cleared or removed */\n",
       "    events.on('clear_output.CodeCell', handleClearOutput);\n",
       "    events.on('delete.Cell', handleClearOutput);\n",
       "\n",
       "    /* Handle when a new output is added */\n",
       "    events.on('output_added.OutputArea', handleAddOutput);\n",
       "\n",
       "    /**\n",
       "     * Register the mime type and append_mime function with output_area\n",
       "     */\n",
       "    OutputArea.prototype.register_mime_type(EXEC_MIME_TYPE, append_mime, {\n",
       "      /* Is output safe? */\n",
       "      safe: true,\n",
       "      /* Index of renderer in `output_area.display_order` */\n",
       "      index: 0\n",
       "    });\n",
       "  }\n",
       "\n",
       "  // register the mime type if in Jupyter Notebook environment and previously unregistered\n",
       "  if (root.Jupyter !== undefined) {\n",
       "    var events = require('base/js/events');\n",
       "    var OutputArea = require('notebook/js/outputarea').OutputArea;\n",
       "\n",
       "    if (OutputArea.prototype.mime_types().indexOf(EXEC_MIME_TYPE) == -1) {\n",
       "      register_renderer(events, OutputArea);\n",
       "    }\n",
       "  }\n",
       "\n",
       "  \n",
       "  if (typeof (root._bokeh_timeout) === \"undefined\" || force === true) {\n",
       "    root._bokeh_timeout = Date.now() + 5000;\n",
       "    root._bokeh_failed_load = false;\n",
       "  }\n",
       "\n",
       "  var NB_LOAD_WARNING = {'data': {'text/html':\n",
       "     \"<div style='background-color: #fdd'>\\n\"+\n",
       "     \"<p>\\n\"+\n",
       "     \"BokehJS does not appear to have successfully loaded. If loading BokehJS from CDN, this \\n\"+\n",
       "     \"may be due to a slow or bad network connection. Possible fixes:\\n\"+\n",
       "     \"</p>\\n\"+\n",
       "     \"<ul>\\n\"+\n",
       "     \"<li>re-rerun `output_notebook()` to attempt to load from CDN again, or</li>\\n\"+\n",
       "     \"<li>use INLINE resources instead, as so:</li>\\n\"+\n",
       "     \"</ul>\\n\"+\n",
       "     \"<code>\\n\"+\n",
       "     \"from bokeh.resources import INLINE\\n\"+\n",
       "     \"output_notebook(resources=INLINE)\\n\"+\n",
       "     \"</code>\\n\"+\n",
       "     \"</div>\"}};\n",
       "\n",
       "  function display_loaded() {\n",
       "    var el = document.getElementById(\"64460f5e-9cc5-427a-9985-2d0466426d5f\");\n",
       "    if (el != null) {\n",
       "      el.textContent = \"BokehJS is loading...\";\n",
       "    }\n",
       "    if (root.Bokeh !== undefined) {\n",
       "      if (el != null) {\n",
       "        el.textContent = \"BokehJS \" + root.Bokeh.version + \" successfully loaded.\";\n",
       "      }\n",
       "    } else if (Date.now() < root._bokeh_timeout) {\n",
       "      setTimeout(display_loaded, 100)\n",
       "    }\n",
       "  }\n",
       "\n",
       "\n",
       "  function run_callbacks() {\n",
       "    try {\n",
       "      root._bokeh_onload_callbacks.forEach(function(callback) { callback() });\n",
       "    }\n",
       "    finally {\n",
       "      delete root._bokeh_onload_callbacks\n",
       "    }\n",
       "    console.info(\"Bokeh: all callbacks have finished\");\n",
       "  }\n",
       "\n",
       "  function load_libs(js_urls, callback) {\n",
       "    root._bokeh_onload_callbacks.push(callback);\n",
       "    if (root._bokeh_is_loading > 0) {\n",
       "      console.log(\"Bokeh: BokehJS is being loaded, scheduling callback at\", now());\n",
       "      return null;\n",
       "    }\n",
       "    if (js_urls == null || js_urls.length === 0) {\n",
       "      run_callbacks();\n",
       "      return null;\n",
       "    }\n",
       "    console.log(\"Bokeh: BokehJS not loaded, scheduling load and callback at\", now());\n",
       "    root._bokeh_is_loading = js_urls.length;\n",
       "    for (var i = 0; i < js_urls.length; i++) {\n",
       "      var url = js_urls[i];\n",
       "      var s = document.createElement('script');\n",
       "      s.src = url;\n",
       "      s.async = false;\n",
       "      s.onreadystatechange = s.onload = function() {\n",
       "        root._bokeh_is_loading--;\n",
       "        if (root._bokeh_is_loading === 0) {\n",
       "          console.log(\"Bokeh: all BokehJS libraries loaded\");\n",
       "          run_callbacks()\n",
       "        }\n",
       "      };\n",
       "      s.onerror = function() {\n",
       "        console.warn(\"failed to load library \" + url);\n",
       "      };\n",
       "      console.log(\"Bokeh: injecting script tag for BokehJS library: \", url);\n",
       "      document.getElementsByTagName(\"head\")[0].appendChild(s);\n",
       "    }\n",
       "  };var element = document.getElementById(\"64460f5e-9cc5-427a-9985-2d0466426d5f\");\n",
       "  if (element == null) {\n",
       "    console.log(\"Bokeh: ERROR: autoload.js configured with elementid '64460f5e-9cc5-427a-9985-2d0466426d5f' but no matching script tag was found. \")\n",
       "    return false;\n",
       "  }\n",
       "\n",
       "  var js_urls = [\"https://cdn.pydata.org/bokeh/release/bokeh-0.12.10.min.js\", \"https://cdn.pydata.org/bokeh/release/bokeh-widgets-0.12.10.min.js\", \"https://cdn.pydata.org/bokeh/release/bokeh-tables-0.12.10.min.js\", \"https://cdn.pydata.org/bokeh/release/bokeh-gl-0.12.10.min.js\"];\n",
       "\n",
       "  var inline_js = [\n",
       "    function(Bokeh) {\n",
       "      Bokeh.set_log_level(\"info\");\n",
       "    },\n",
       "    \n",
       "    function(Bokeh) {\n",
       "      \n",
       "    },\n",
       "    function(Bokeh) {\n",
       "      console.log(\"Bokeh: injecting CSS: https://cdn.pydata.org/bokeh/release/bokeh-0.12.10.min.css\");\n",
       "      Bokeh.embed.inject_css(\"https://cdn.pydata.org/bokeh/release/bokeh-0.12.10.min.css\");\n",
       "      console.log(\"Bokeh: injecting CSS: https://cdn.pydata.org/bokeh/release/bokeh-widgets-0.12.10.min.css\");\n",
       "      Bokeh.embed.inject_css(\"https://cdn.pydata.org/bokeh/release/bokeh-widgets-0.12.10.min.css\");\n",
       "      console.log(\"Bokeh: injecting CSS: https://cdn.pydata.org/bokeh/release/bokeh-tables-0.12.10.min.css\");\n",
       "      Bokeh.embed.inject_css(\"https://cdn.pydata.org/bokeh/release/bokeh-tables-0.12.10.min.css\");\n",
       "    }\n",
       "  ];\n",
       "\n",
       "  function run_inline_js() {\n",
       "    \n",
       "    if ((root.Bokeh !== undefined) || (force === true)) {\n",
       "      for (var i = 0; i < inline_js.length; i++) {\n",
       "        inline_js[i].call(root, root.Bokeh);\n",
       "      }if (force === true) {\n",
       "        display_loaded();\n",
       "      }} else if (Date.now() < root._bokeh_timeout) {\n",
       "      setTimeout(run_inline_js, 100);\n",
       "    } else if (!root._bokeh_failed_load) {\n",
       "      console.log(\"Bokeh: BokehJS failed to load within specified timeout.\");\n",
       "      root._bokeh_failed_load = true;\n",
       "    } else if (force !== true) {\n",
       "      var cell = $(document.getElementById(\"64460f5e-9cc5-427a-9985-2d0466426d5f\")).parents('.cell').data().cell;\n",
       "      cell.output_area.append_execute_result(NB_LOAD_WARNING)\n",
       "    }\n",
       "\n",
       "  }\n",
       "\n",
       "  if (root._bokeh_is_loading === 0) {\n",
       "    console.log(\"Bokeh: BokehJS loaded, going straight to plotting\");\n",
       "    run_inline_js();\n",
       "  } else {\n",
       "    load_libs(js_urls, function() {\n",
       "      console.log(\"Bokeh: BokehJS plotting callback run at\", now());\n",
       "      run_inline_js();\n",
       "    });\n",
       "  }\n",
       "}(window));"
      ],
      "application/vnd.bokehjs_load.v0+json": "\n(function(root) {\n  function now() {\n    return new Date();\n  }\n\n  var force = true;\n\n  if (typeof (root._bokeh_onload_callbacks) === \"undefined\" || force === true) {\n    root._bokeh_onload_callbacks = [];\n    root._bokeh_is_loading = undefined;\n  }\n\n  \n\n  \n  if (typeof (root._bokeh_timeout) === \"undefined\" || force === true) {\n    root._bokeh_timeout = Date.now() + 5000;\n    root._bokeh_failed_load = false;\n  }\n\n  var NB_LOAD_WARNING = {'data': {'text/html':\n     \"<div style='background-color: #fdd'>\\n\"+\n     \"<p>\\n\"+\n     \"BokehJS does not appear to have successfully loaded. If loading BokehJS from CDN, this \\n\"+\n     \"may be due to a slow or bad network connection. Possible fixes:\\n\"+\n     \"</p>\\n\"+\n     \"<ul>\\n\"+\n     \"<li>re-rerun `output_notebook()` to attempt to load from CDN again, or</li>\\n\"+\n     \"<li>use INLINE resources instead, as so:</li>\\n\"+\n     \"</ul>\\n\"+\n     \"<code>\\n\"+\n     \"from bokeh.resources import INLINE\\n\"+\n     \"output_notebook(resources=INLINE)\\n\"+\n     \"</code>\\n\"+\n     \"</div>\"}};\n\n  function display_loaded() {\n    var el = document.getElementById(\"64460f5e-9cc5-427a-9985-2d0466426d5f\");\n    if (el != null) {\n      el.textContent = \"BokehJS is loading...\";\n    }\n    if (root.Bokeh !== undefined) {\n      if (el != null) {\n        el.textContent = \"BokehJS \" + root.Bokeh.version + \" successfully loaded.\";\n      }\n    } else if (Date.now() < root._bokeh_timeout) {\n      setTimeout(display_loaded, 100)\n    }\n  }\n\n\n  function run_callbacks() {\n    try {\n      root._bokeh_onload_callbacks.forEach(function(callback) { callback() });\n    }\n    finally {\n      delete root._bokeh_onload_callbacks\n    }\n    console.info(\"Bokeh: all callbacks have finished\");\n  }\n\n  function load_libs(js_urls, callback) {\n    root._bokeh_onload_callbacks.push(callback);\n    if (root._bokeh_is_loading > 0) {\n      console.log(\"Bokeh: BokehJS is being loaded, scheduling callback at\", now());\n      return null;\n    }\n    if (js_urls == null || js_urls.length === 0) {\n      run_callbacks();\n      return null;\n    }\n    console.log(\"Bokeh: BokehJS not loaded, scheduling load and callback at\", now());\n    root._bokeh_is_loading = js_urls.length;\n    for (var i = 0; i < js_urls.length; i++) {\n      var url = js_urls[i];\n      var s = document.createElement('script');\n      s.src = url;\n      s.async = false;\n      s.onreadystatechange = s.onload = function() {\n        root._bokeh_is_loading--;\n        if (root._bokeh_is_loading === 0) {\n          console.log(\"Bokeh: all BokehJS libraries loaded\");\n          run_callbacks()\n        }\n      };\n      s.onerror = function() {\n        console.warn(\"failed to load library \" + url);\n      };\n      console.log(\"Bokeh: injecting script tag for BokehJS library: \", url);\n      document.getElementsByTagName(\"head\")[0].appendChild(s);\n    }\n  };var element = document.getElementById(\"64460f5e-9cc5-427a-9985-2d0466426d5f\");\n  if (element == null) {\n    console.log(\"Bokeh: ERROR: autoload.js configured with elementid '64460f5e-9cc5-427a-9985-2d0466426d5f' but no matching script tag was found. \")\n    return false;\n  }\n\n  var js_urls = [\"https://cdn.pydata.org/bokeh/release/bokeh-0.12.10.min.js\", \"https://cdn.pydata.org/bokeh/release/bokeh-widgets-0.12.10.min.js\", \"https://cdn.pydata.org/bokeh/release/bokeh-tables-0.12.10.min.js\", \"https://cdn.pydata.org/bokeh/release/bokeh-gl-0.12.10.min.js\"];\n\n  var inline_js = [\n    function(Bokeh) {\n      Bokeh.set_log_level(\"info\");\n    },\n    \n    function(Bokeh) {\n      \n    },\n    function(Bokeh) {\n      console.log(\"Bokeh: injecting CSS: https://cdn.pydata.org/bokeh/release/bokeh-0.12.10.min.css\");\n      Bokeh.embed.inject_css(\"https://cdn.pydata.org/bokeh/release/bokeh-0.12.10.min.css\");\n      console.log(\"Bokeh: injecting CSS: https://cdn.pydata.org/bokeh/release/bokeh-widgets-0.12.10.min.css\");\n      Bokeh.embed.inject_css(\"https://cdn.pydata.org/bokeh/release/bokeh-widgets-0.12.10.min.css\");\n      console.log(\"Bokeh: injecting CSS: https://cdn.pydata.org/bokeh/release/bokeh-tables-0.12.10.min.css\");\n      Bokeh.embed.inject_css(\"https://cdn.pydata.org/bokeh/release/bokeh-tables-0.12.10.min.css\");\n    }\n  ];\n\n  function run_inline_js() {\n    \n    if ((root.Bokeh !== undefined) || (force === true)) {\n      for (var i = 0; i < inline_js.length; i++) {\n        inline_js[i].call(root, root.Bokeh);\n      }if (force === true) {\n        display_loaded();\n      }} else if (Date.now() < root._bokeh_timeout) {\n      setTimeout(run_inline_js, 100);\n    } else if (!root._bokeh_failed_load) {\n      console.log(\"Bokeh: BokehJS failed to load within specified timeout.\");\n      root._bokeh_failed_load = true;\n    } else if (force !== true) {\n      var cell = $(document.getElementById(\"64460f5e-9cc5-427a-9985-2d0466426d5f\")).parents('.cell').data().cell;\n      cell.output_area.append_execute_result(NB_LOAD_WARNING)\n    }\n\n  }\n\n  if (root._bokeh_is_loading === 0) {\n    console.log(\"Bokeh: BokehJS loaded, going straight to plotting\");\n    run_inline_js();\n  } else {\n    load_libs(js_urls, function() {\n      console.log(\"Bokeh: BokehJS plotting callback run at\", now());\n      run_inline_js();\n    });\n  }\n}(window));"
     },
     "metadata": {},
     "output_type": "display_data"
    },
    {
     "data": {
      "text/html": [
       "\n",
       "<div class=\"bk-root\">\n",
       "    <div class=\"bk-plotdiv\" id=\"159de98b-7722-4f20-8e0b-620f98f164ed\"></div>\n",
       "</div>"
      ]
     },
     "metadata": {},
     "output_type": "display_data"
    },
    {
     "data": {
      "application/javascript": [
       "(function(root) {\n",
       "  function embed_document(root) {\n",
       "    var docs_json = {\"049746d7-a906-4625-af07-9ab00196d336\":{\"roots\":{\"references\":[{\"attributes\":{\"source\":{\"id\":\"f094e13e-1076-4f9e-90f2-6d004252881b\",\"type\":\"ColumnDataSource\"}},\"id\":\"f5ada961-c5de-4f33-a6a6-3e969e65d220\",\"type\":\"CDSView\"},{\"attributes\":{\"fill_alpha\":{\"value\":0.1},\"fill_color\":{\"value\":\"#1f77b4\"},\"line_alpha\":{\"value\":0.1},\"line_color\":{\"value\":\"#1f77b4\"},\"x\":{\"field\":\"x\"},\"y\":{\"field\":\"y\"}},\"id\":\"b3ded1a6-b8be-406f-8514-b7c4ee17d9e3\",\"type\":\"Circle\"},{\"attributes\":{\"label\":{\"value\":\"square\"},\"renderers\":[{\"id\":\"167e274b-13e3-4fdd-98a8-8a5bf05f6df2\",\"type\":\"GlyphRenderer\"}]},\"id\":\"872e2caa-c81b-4800-bd84-4a7422c80b09\",\"type\":\"LegendItem\"},{\"attributes\":{\"fill_alpha\":{\"value\":0.1},\"fill_color\":{\"value\":\"#1f77b4\"},\"line_alpha\":{\"value\":0.1},\"line_color\":{\"value\":\"#1f77b4\"},\"x\":{\"field\":\"x\"},\"y\":{\"field\":\"y\"}},\"id\":\"58b4f8fa-64cd-4d12-8b6f-37ed68f72e73\",\"type\":\"Square\"},{\"attributes\":{\"below\":[{\"id\":\"04233ca0-36ca-442c-a05e-33baf636ca24\",\"type\":\"LinearAxis\"}],\"left\":[{\"id\":\"942680f7-6839-4d82-bf86-59a5eca7620b\",\"type\":\"LinearAxis\"}],\"plot_height\":200,\"plot_width\":200,\"renderers\":[{\"id\":\"04233ca0-36ca-442c-a05e-33baf636ca24\",\"type\":\"LinearAxis\"},{\"id\":\"50763e47-de2c-43ee-b2b5-5f883b451cae\",\"type\":\"Grid\"},{\"id\":\"942680f7-6839-4d82-bf86-59a5eca7620b\",\"type\":\"LinearAxis\"},{\"id\":\"14e1afd2-ebfe-47ad-aa7a-1ac4fdf5e6fc\",\"type\":\"Grid\"},{\"id\":\"5a14ee8a-9dee-45e5-8d7a-e71e57efbfe1\",\"type\":\"BoxAnnotation\"},{\"id\":\"5fe65730-da16-405f-a0b7-7d1c46fe0365\",\"type\":\"Legend\"},{\"id\":\"49e3999f-7c7e-4065-9dfb-5488343b9f0a\",\"type\":\"GlyphRenderer\"},{\"id\":\"167e274b-13e3-4fdd-98a8-8a5bf05f6df2\",\"type\":\"GlyphRenderer\"}],\"title\":{\"id\":\"7d194692-198f-427f-bff8-867c2ffcfcd8\",\"type\":\"Title\"},\"toolbar\":{\"id\":\"38bde121-adb8-4920-9fa1-18d471f6dc9f\",\"type\":\"Toolbar\"},\"x_range\":{\"id\":\"7252ecab-b378-44b1-95b3-8e8aa9985ebf\",\"type\":\"DataRange1d\"},\"x_scale\":{\"id\":\"ffed9e07-1b0a-4b9a-8bf5-5c131ccd05ea\",\"type\":\"LinearScale\"},\"y_range\":{\"id\":\"efaa7ab8-ebc1-43e0-9e67-ae5da6b757b6\",\"type\":\"DataRange1d\"},\"y_scale\":{\"id\":\"8c271b95-8825-40f2-9301-235538a5470f\",\"type\":\"LinearScale\"}},\"id\":\"36aae0cb-cac8-4078-a3b1-5dd29ef7939b\",\"subtype\":\"Figure\",\"type\":\"Plot\"},{\"attributes\":{\"data_source\":{\"id\":\"f094e13e-1076-4f9e-90f2-6d004252881b\",\"type\":\"ColumnDataSource\"},\"glyph\":{\"id\":\"2121e6ef-e1f5-4317-8c9f-38c55c0c4001\",\"type\":\"Square\"},\"hover_glyph\":null,\"muted_glyph\":null,\"nonselection_glyph\":{\"id\":\"58b4f8fa-64cd-4d12-8b6f-37ed68f72e73\",\"type\":\"Square\"},\"selection_glyph\":null,\"view\":{\"id\":\"f5ada961-c5de-4f33-a6a6-3e969e65d220\",\"type\":\"CDSView\"}},\"id\":\"167e274b-13e3-4fdd-98a8-8a5bf05f6df2\",\"type\":\"GlyphRenderer\"},{\"attributes\":{\"callback\":null,\"column_names\":[\"x\",\"y\"],\"data\":{\"x\":[0,1],\"y\":[1,1]}},\"id\":\"014f1681-effb-45a7-b967-db704fb5f3e3\",\"type\":\"ColumnDataSource\"},{\"attributes\":{\"callback\":null,\"column_names\":[\"x\",\"y\"],\"data\":{\"x\":[0,1],\"y\":[2,2]}},\"id\":\"f094e13e-1076-4f9e-90f2-6d004252881b\",\"type\":\"ColumnDataSource\"},{\"attributes\":{\"formatter\":{\"id\":\"09d49ae7-2681-4c6a-a800-d84f24963593\",\"type\":\"BasicTickFormatter\"},\"plot\":{\"id\":\"36aae0cb-cac8-4078-a3b1-5dd29ef7939b\",\"subtype\":\"Figure\",\"type\":\"Plot\"},\"ticker\":{\"id\":\"fe669845-7bc9-447c-9782-4aa8838838a1\",\"type\":\"BasicTicker\"}},\"id\":\"942680f7-6839-4d82-bf86-59a5eca7620b\",\"type\":\"LinearAxis\"},{\"attributes\":{\"callback\":null},\"id\":\"7252ecab-b378-44b1-95b3-8e8aa9985ebf\",\"type\":\"DataRange1d\"},{\"attributes\":{\"source\":{\"id\":\"014f1681-effb-45a7-b967-db704fb5f3e3\",\"type\":\"ColumnDataSource\"}},\"id\":\"1c98f208-02af-4baf-8551-92164b603410\",\"type\":\"CDSView\"},{\"attributes\":{\"callback\":null},\"id\":\"efaa7ab8-ebc1-43e0-9e67-ae5da6b757b6\",\"type\":\"DataRange1d\"},{\"attributes\":{},\"id\":\"8c271b95-8825-40f2-9301-235538a5470f\",\"type\":\"LinearScale\"},{\"attributes\":{\"active_drag\":\"auto\",\"active_inspect\":\"auto\",\"active_scroll\":\"auto\",\"active_tap\":\"auto\",\"tools\":[{\"id\":\"61758713-5360-40fa-977a-8f6cc470b552\",\"type\":\"PanTool\"},{\"id\":\"82a30124-abf7-4639-8de4-0df44830d90b\",\"type\":\"WheelZoomTool\"},{\"id\":\"715a88b0-9b34-4550-88c2-3b3d4a3097b6\",\"type\":\"BoxZoomTool\"},{\"id\":\"68cf962b-5a6f-46dc-a59e-49ebfcfd6f20\",\"type\":\"SaveTool\"},{\"id\":\"7e8520d0-2c53-4fd7-9882-99d9e39a6252\",\"type\":\"ResetTool\"},{\"id\":\"3248976e-c19a-471d-a4bc-d366a8b1d9a5\",\"type\":\"HelpTool\"}]},\"id\":\"38bde121-adb8-4920-9fa1-18d471f6dc9f\",\"type\":\"Toolbar\"},{\"attributes\":{\"fill_color\":{\"value\":\"#1f77b4\"},\"line_color\":{\"value\":\"#1f77b4\"},\"x\":{\"field\":\"x\"},\"y\":{\"field\":\"y\"}},\"id\":\"75c70670-117e-46f9-ac1d-6358a7347239\",\"type\":\"Circle\"},{\"attributes\":{\"plot\":{\"id\":\"36aae0cb-cac8-4078-a3b1-5dd29ef7939b\",\"subtype\":\"Figure\",\"type\":\"Plot\"},\"ticker\":{\"id\":\"449a2545-4442-4a83-b9a6-ce83150cfb73\",\"type\":\"BasicTicker\"}},\"id\":\"50763e47-de2c-43ee-b2b5-5f883b451cae\",\"type\":\"Grid\"},{\"attributes\":{},\"id\":\"09d49ae7-2681-4c6a-a800-d84f24963593\",\"type\":\"BasicTickFormatter\"},{\"attributes\":{},\"id\":\"ffed9e07-1b0a-4b9a-8bf5-5c131ccd05ea\",\"type\":\"LinearScale\"},{\"attributes\":{\"fill_color\":{\"value\":\"#1f77b4\"},\"line_color\":{\"value\":\"#1f77b4\"},\"x\":{\"field\":\"x\"},\"y\":{\"field\":\"y\"}},\"id\":\"2121e6ef-e1f5-4317-8c9f-38c55c0c4001\",\"type\":\"Square\"},{\"attributes\":{},\"id\":\"82a30124-abf7-4639-8de4-0df44830d90b\",\"type\":\"WheelZoomTool\"},{\"attributes\":{\"plot\":null,\"text\":\"\"},\"id\":\"7d194692-198f-427f-bff8-867c2ffcfcd8\",\"type\":\"Title\"},{\"attributes\":{\"bottom_units\":\"screen\",\"fill_alpha\":{\"value\":0.5},\"fill_color\":{\"value\":\"lightgrey\"},\"left_units\":\"screen\",\"level\":\"overlay\",\"line_alpha\":{\"value\":1.0},\"line_color\":{\"value\":\"black\"},\"line_dash\":[4,4],\"line_width\":{\"value\":2},\"plot\":null,\"render_mode\":\"css\",\"right_units\":\"screen\",\"top_units\":\"screen\"},\"id\":\"5a14ee8a-9dee-45e5-8d7a-e71e57efbfe1\",\"type\":\"BoxAnnotation\"},{\"attributes\":{},\"id\":\"29636558-c3cf-4490-b3f4-6d3c0569ca41\",\"type\":\"BasicTickFormatter\"},{\"attributes\":{},\"id\":\"61758713-5360-40fa-977a-8f6cc470b552\",\"type\":\"PanTool\"},{\"attributes\":{},\"id\":\"449a2545-4442-4a83-b9a6-ce83150cfb73\",\"type\":\"BasicTicker\"},{\"attributes\":{\"dimension\":1,\"plot\":{\"id\":\"36aae0cb-cac8-4078-a3b1-5dd29ef7939b\",\"subtype\":\"Figure\",\"type\":\"Plot\"},\"ticker\":{\"id\":\"fe669845-7bc9-447c-9782-4aa8838838a1\",\"type\":\"BasicTicker\"}},\"id\":\"14e1afd2-ebfe-47ad-aa7a-1ac4fdf5e6fc\",\"type\":\"Grid\"},{\"attributes\":{},\"id\":\"3248976e-c19a-471d-a4bc-d366a8b1d9a5\",\"type\":\"HelpTool\"},{\"attributes\":{\"data_source\":{\"id\":\"014f1681-effb-45a7-b967-db704fb5f3e3\",\"type\":\"ColumnDataSource\"},\"glyph\":{\"id\":\"75c70670-117e-46f9-ac1d-6358a7347239\",\"type\":\"Circle\"},\"hover_glyph\":null,\"muted_glyph\":null,\"nonselection_glyph\":{\"id\":\"b3ded1a6-b8be-406f-8514-b7c4ee17d9e3\",\"type\":\"Circle\"},\"selection_glyph\":null,\"view\":{\"id\":\"1c98f208-02af-4baf-8551-92164b603410\",\"type\":\"CDSView\"}},\"id\":\"49e3999f-7c7e-4065-9dfb-5488343b9f0a\",\"type\":\"GlyphRenderer\"},{\"attributes\":{},\"id\":\"7e8520d0-2c53-4fd7-9882-99d9e39a6252\",\"type\":\"ResetTool\"},{\"attributes\":{},\"id\":\"fe669845-7bc9-447c-9782-4aa8838838a1\",\"type\":\"BasicTicker\"},{\"attributes\":{},\"id\":\"68cf962b-5a6f-46dc-a59e-49ebfcfd6f20\",\"type\":\"SaveTool\"},{\"attributes\":{\"formatter\":{\"id\":\"29636558-c3cf-4490-b3f4-6d3c0569ca41\",\"type\":\"BasicTickFormatter\"},\"plot\":{\"id\":\"36aae0cb-cac8-4078-a3b1-5dd29ef7939b\",\"subtype\":\"Figure\",\"type\":\"Plot\"},\"ticker\":{\"id\":\"449a2545-4442-4a83-b9a6-ce83150cfb73\",\"type\":\"BasicTicker\"}},\"id\":\"04233ca0-36ca-442c-a05e-33baf636ca24\",\"type\":\"LinearAxis\"},{\"attributes\":{\"label\":{\"value\":\"circle\"},\"renderers\":[{\"id\":\"49e3999f-7c7e-4065-9dfb-5488343b9f0a\",\"type\":\"GlyphRenderer\"}]},\"id\":\"74bb05c0-ae59-443f-8326-c084783fa6eb\",\"type\":\"LegendItem\"},{\"attributes\":{\"overlay\":{\"id\":\"5a14ee8a-9dee-45e5-8d7a-e71e57efbfe1\",\"type\":\"BoxAnnotation\"}},\"id\":\"715a88b0-9b34-4550-88c2-3b3d4a3097b6\",\"type\":\"BoxZoomTool\"},{\"attributes\":{\"items\":[{\"id\":\"74bb05c0-ae59-443f-8326-c084783fa6eb\",\"type\":\"LegendItem\"},{\"id\":\"872e2caa-c81b-4800-bd84-4a7422c80b09\",\"type\":\"LegendItem\"}],\"plot\":{\"id\":\"36aae0cb-cac8-4078-a3b1-5dd29ef7939b\",\"subtype\":\"Figure\",\"type\":\"Plot\"}},\"id\":\"5fe65730-da16-405f-a0b7-7d1c46fe0365\",\"type\":\"Legend\"}],\"root_ids\":[\"36aae0cb-cac8-4078-a3b1-5dd29ef7939b\"]},\"title\":\"Bokeh Application\",\"version\":\"0.12.10\"}};\n",
       "    var render_items = [{\"docid\":\"049746d7-a906-4625-af07-9ab00196d336\",\"elementid\":\"159de98b-7722-4f20-8e0b-620f98f164ed\",\"modelid\":\"36aae0cb-cac8-4078-a3b1-5dd29ef7939b\"}];\n",
       "\n",
       "    root.Bokeh.embed.embed_items(docs_json, render_items);\n",
       "  }\n",
       "\n",
       "  if (root.Bokeh !== undefined) {\n",
       "    embed_document(root);\n",
       "  } else {\n",
       "    var attempts = 0;\n",
       "    var timer = setInterval(function(root) {\n",
       "      if (root.Bokeh !== undefined) {\n",
       "        embed_document(root);\n",
       "        clearInterval(timer);\n",
       "      }\n",
       "      attempts++;\n",
       "      if (attempts > 100) {\n",
       "        console.log(\"Bokeh: ERROR: Unable to embed document because BokehJS library is missing\")\n",
       "        clearInterval(timer);\n",
       "      }\n",
       "    }, 10, root)\n",
       "  }\n",
       "})(window);"
      ],
      "application/vnd.bokehjs_exec.v0+json": ""
     },
     "metadata": {
      "application/vnd.bokehjs_exec.v0+json": {
       "id": "36aae0cb-cac8-4078-a3b1-5dd29ef7939b"
      }
     },
     "output_type": "display_data"
    }
   ],
   "source": [
    "from bokeh.plotting import figure, output_notebook, show\n",
    "\n",
    "output_notebook()\n",
    "\n",
    "# 凡例の設定\n",
    "p = figure(plot_width=200, plot_height=200)\n",
    "p.circle([0, 1], [1, 1], legend='circle')\n",
    "p.square([0, 1], [2, 2], legend='square')\n",
    "\n",
    "show(p)"
   ]
  },
  {
   "cell_type": "code",
   "execution_count": 13,
   "metadata": {},
   "outputs": [
    {
     "data": {
      "text/html": [
       "\n",
       "<div class=\"bk-root\">\n",
       "    <div class=\"bk-plotdiv\" id=\"8d4b3f53-c12d-40d9-84fa-960a7feb0184\"></div>\n",
       "</div>"
      ]
     },
     "metadata": {},
     "output_type": "display_data"
    },
    {
     "data": {
      "application/javascript": [
       "(function(root) {\n",
       "  function embed_document(root) {\n",
       "    var docs_json = {\"d496dd5c-014c-4ffb-9b3d-ebfec81da2cc\":{\"roots\":{\"references\":[{\"attributes\":{},\"id\":\"f5bccf00-e384-4bd5-9f50-f94d180c095b\",\"type\":\"LinearScale\"},{\"attributes\":{\"callback\":null},\"id\":\"79eb74fe-150d-43a0-a660-d067d1b83591\",\"type\":\"DataRange1d\"},{\"attributes\":{},\"id\":\"84f8c9bd-d627-40a2-8808-1e2c0cef99d9\",\"type\":\"BasicTickFormatter\"},{\"attributes\":{\"callback\":null},\"id\":\"25e0bfd7-c06e-4de2-86cb-8f060f6651cf\",\"type\":\"DataRange1d\"},{\"attributes\":{},\"id\":\"b84d501a-2643-47a2-8779-26b48c617ebe\",\"type\":\"BasicTicker\"},{\"attributes\":{\"plot\":{\"id\":\"84f7db3e-ef1f-4610-bacb-5c3412b8d724\",\"subtype\":\"Figure\",\"type\":\"Plot\"},\"ticker\":{\"id\":\"b84d501a-2643-47a2-8779-26b48c617ebe\",\"type\":\"BasicTicker\"}},\"id\":\"73333ba1-2752-4836-be4b-32351c0a79c7\",\"type\":\"Grid\"},{\"attributes\":{},\"id\":\"2bce7a30-a65e-419b-b72a-2bb148322b3e\",\"type\":\"BasicTicker\"},{\"attributes\":{},\"id\":\"9ad78804-d5fb-4e45-8bac-fa911e44dd4a\",\"type\":\"BasicTickFormatter\"},{\"attributes\":{\"formatter\":{\"id\":\"84f8c9bd-d627-40a2-8808-1e2c0cef99d9\",\"type\":\"BasicTickFormatter\"},\"plot\":{\"id\":\"84f7db3e-ef1f-4610-bacb-5c3412b8d724\",\"subtype\":\"Figure\",\"type\":\"Plot\"},\"ticker\":{\"id\":\"b84d501a-2643-47a2-8779-26b48c617ebe\",\"type\":\"BasicTicker\"}},\"id\":\"19007f7b-0bc7-4596-a3b6-c27c6537651b\",\"type\":\"LinearAxis\"},{\"attributes\":{\"label\":{\"value\":\"circle\"},\"renderers\":[{\"id\":\"f49c2cc6-d9cd-4518-980d-6861c9aa5089\",\"type\":\"GlyphRenderer\"}]},\"id\":\"25198f09-1b74-444d-8aa5-3ff6b8a3ae52\",\"type\":\"LegendItem\"},{\"attributes\":{\"dimension\":1,\"plot\":{\"id\":\"84f7db3e-ef1f-4610-bacb-5c3412b8d724\",\"subtype\":\"Figure\",\"type\":\"Plot\"},\"ticker\":{\"id\":\"2bce7a30-a65e-419b-b72a-2bb148322b3e\",\"type\":\"BasicTicker\"}},\"id\":\"edb25b6f-2ca1-4a76-8036-247d53824601\",\"type\":\"Grid\"},{\"attributes\":{},\"id\":\"5d98a10d-2731-4685-8caf-fb4fa518695e\",\"type\":\"WheelZoomTool\"},{\"attributes\":{},\"id\":\"605a592d-8b32-4d2b-8909-b2437f217b15\",\"type\":\"PanTool\"},{\"attributes\":{\"items\":[{\"id\":\"25198f09-1b74-444d-8aa5-3ff6b8a3ae52\",\"type\":\"LegendItem\"}],\"label_text_color\":{\"value\":\"red\"},\"label_text_font\":\"times\",\"label_text_font_size\":{\"value\":\"15pt\"},\"label_text_font_style\":\"bold\",\"plot\":{\"id\":\"84f7db3e-ef1f-4610-bacb-5c3412b8d724\",\"subtype\":\"Figure\",\"type\":\"Plot\"}},\"id\":\"7866eb47-7faa-440d-9fdc-98a287e926b1\",\"type\":\"Legend\"},{\"attributes\":{\"bottom_units\":\"screen\",\"fill_alpha\":{\"value\":0.5},\"fill_color\":{\"value\":\"lightgrey\"},\"left_units\":\"screen\",\"level\":\"overlay\",\"line_alpha\":{\"value\":1.0},\"line_color\":{\"value\":\"black\"},\"line_dash\":[4,4],\"line_width\":{\"value\":2},\"plot\":null,\"render_mode\":\"css\",\"right_units\":\"screen\",\"top_units\":\"screen\"},\"id\":\"def70508-4e14-448a-ae7b-c98d8d7b30d4\",\"type\":\"BoxAnnotation\"},{\"attributes\":{\"callback\":null,\"column_names\":[\"x\",\"y\"],\"data\":{\"x\":[0],\"y\":[0]}},\"id\":\"41d17668-bded-499e-a13a-46bff120d98b\",\"type\":\"ColumnDataSource\"},{\"attributes\":{\"fill_alpha\":{\"value\":0.1},\"fill_color\":{\"value\":\"#1f77b4\"},\"line_alpha\":{\"value\":0.1},\"line_color\":{\"value\":\"#1f77b4\"},\"x\":{\"field\":\"x\"},\"y\":{\"field\":\"y\"}},\"id\":\"b0c3593b-a911-4e40-af29-33c146b7ca36\",\"type\":\"Circle\"},{\"attributes\":{\"data_source\":{\"id\":\"41d17668-bded-499e-a13a-46bff120d98b\",\"type\":\"ColumnDataSource\"},\"glyph\":{\"id\":\"ae2095e3-0870-46d8-a8cb-67c78daa6203\",\"type\":\"Circle\"},\"hover_glyph\":null,\"muted_glyph\":null,\"nonselection_glyph\":{\"id\":\"b0c3593b-a911-4e40-af29-33c146b7ca36\",\"type\":\"Circle\"},\"selection_glyph\":null,\"view\":{\"id\":\"6d9eff1a-35d6-4581-99a9-b1b882a67e19\",\"type\":\"CDSView\"}},\"id\":\"f49c2cc6-d9cd-4518-980d-6861c9aa5089\",\"type\":\"GlyphRenderer\"},{\"attributes\":{},\"id\":\"a0ee8a96-04a3-4874-a6d5-87095794b780\",\"type\":\"ResetTool\"},{\"attributes\":{},\"id\":\"50c1b1da-c84c-413c-bde7-12f4678f20f3\",\"type\":\"SaveTool\"},{\"attributes\":{\"overlay\":{\"id\":\"def70508-4e14-448a-ae7b-c98d8d7b30d4\",\"type\":\"BoxAnnotation\"}},\"id\":\"214e7ed2-4ef1-40bb-9d27-c9e11035ce72\",\"type\":\"BoxZoomTool\"},{\"attributes\":{\"source\":{\"id\":\"41d17668-bded-499e-a13a-46bff120d98b\",\"type\":\"ColumnDataSource\"}},\"id\":\"6d9eff1a-35d6-4581-99a9-b1b882a67e19\",\"type\":\"CDSView\"},{\"attributes\":{\"plot\":null,\"text\":\"\"},\"id\":\"314a9bf5-4b8f-42ce-b50d-b398e81a3129\",\"type\":\"Title\"},{\"attributes\":{\"active_drag\":\"auto\",\"active_inspect\":\"auto\",\"active_scroll\":\"auto\",\"active_tap\":\"auto\",\"tools\":[{\"id\":\"605a592d-8b32-4d2b-8909-b2437f217b15\",\"type\":\"PanTool\"},{\"id\":\"5d98a10d-2731-4685-8caf-fb4fa518695e\",\"type\":\"WheelZoomTool\"},{\"id\":\"214e7ed2-4ef1-40bb-9d27-c9e11035ce72\",\"type\":\"BoxZoomTool\"},{\"id\":\"50c1b1da-c84c-413c-bde7-12f4678f20f3\",\"type\":\"SaveTool\"},{\"id\":\"a0ee8a96-04a3-4874-a6d5-87095794b780\",\"type\":\"ResetTool\"},{\"id\":\"9081ac7a-c331-4364-9115-87f3650c0ae2\",\"type\":\"HelpTool\"}]},\"id\":\"0fe38fda-7c47-4619-abfc-a0dec669d6d6\",\"type\":\"Toolbar\"},{\"attributes\":{\"below\":[{\"id\":\"19007f7b-0bc7-4596-a3b6-c27c6537651b\",\"type\":\"LinearAxis\"}],\"left\":[{\"id\":\"1e1209bb-e09f-4168-8d24-a38c2d591e9e\",\"type\":\"LinearAxis\"}],\"plot_height\":200,\"plot_width\":200,\"renderers\":[{\"id\":\"19007f7b-0bc7-4596-a3b6-c27c6537651b\",\"type\":\"LinearAxis\"},{\"id\":\"73333ba1-2752-4836-be4b-32351c0a79c7\",\"type\":\"Grid\"},{\"id\":\"1e1209bb-e09f-4168-8d24-a38c2d591e9e\",\"type\":\"LinearAxis\"},{\"id\":\"edb25b6f-2ca1-4a76-8036-247d53824601\",\"type\":\"Grid\"},{\"id\":\"def70508-4e14-448a-ae7b-c98d8d7b30d4\",\"type\":\"BoxAnnotation\"},{\"id\":\"7866eb47-7faa-440d-9fdc-98a287e926b1\",\"type\":\"Legend\"},{\"id\":\"f49c2cc6-d9cd-4518-980d-6861c9aa5089\",\"type\":\"GlyphRenderer\"}],\"title\":{\"id\":\"314a9bf5-4b8f-42ce-b50d-b398e81a3129\",\"type\":\"Title\"},\"toolbar\":{\"id\":\"0fe38fda-7c47-4619-abfc-a0dec669d6d6\",\"type\":\"Toolbar\"},\"x_range\":{\"id\":\"79eb74fe-150d-43a0-a660-d067d1b83591\",\"type\":\"DataRange1d\"},\"x_scale\":{\"id\":\"3fba1bea-d3c3-4cf9-8887-b02572cd4507\",\"type\":\"LinearScale\"},\"y_range\":{\"id\":\"25e0bfd7-c06e-4de2-86cb-8f060f6651cf\",\"type\":\"DataRange1d\"},\"y_scale\":{\"id\":\"f5bccf00-e384-4bd5-9f50-f94d180c095b\",\"type\":\"LinearScale\"}},\"id\":\"84f7db3e-ef1f-4610-bacb-5c3412b8d724\",\"subtype\":\"Figure\",\"type\":\"Plot\"},{\"attributes\":{},\"id\":\"9081ac7a-c331-4364-9115-87f3650c0ae2\",\"type\":\"HelpTool\"},{\"attributes\":{\"fill_color\":{\"value\":\"#1f77b4\"},\"line_color\":{\"value\":\"#1f77b4\"},\"x\":{\"field\":\"x\"},\"y\":{\"field\":\"y\"}},\"id\":\"ae2095e3-0870-46d8-a8cb-67c78daa6203\",\"type\":\"Circle\"},{\"attributes\":{\"formatter\":{\"id\":\"9ad78804-d5fb-4e45-8bac-fa911e44dd4a\",\"type\":\"BasicTickFormatter\"},\"plot\":{\"id\":\"84f7db3e-ef1f-4610-bacb-5c3412b8d724\",\"subtype\":\"Figure\",\"type\":\"Plot\"},\"ticker\":{\"id\":\"2bce7a30-a65e-419b-b72a-2bb148322b3e\",\"type\":\"BasicTicker\"}},\"id\":\"1e1209bb-e09f-4168-8d24-a38c2d591e9e\",\"type\":\"LinearAxis\"},{\"attributes\":{},\"id\":\"3fba1bea-d3c3-4cf9-8887-b02572cd4507\",\"type\":\"LinearScale\"}],\"root_ids\":[\"84f7db3e-ef1f-4610-bacb-5c3412b8d724\"]},\"title\":\"Bokeh Application\",\"version\":\"0.12.10\"}};\n",
       "    var render_items = [{\"docid\":\"d496dd5c-014c-4ffb-9b3d-ebfec81da2cc\",\"elementid\":\"8d4b3f53-c12d-40d9-84fa-960a7feb0184\",\"modelid\":\"84f7db3e-ef1f-4610-bacb-5c3412b8d724\"}];\n",
       "\n",
       "    root.Bokeh.embed.embed_items(docs_json, render_items);\n",
       "  }\n",
       "\n",
       "  if (root.Bokeh !== undefined) {\n",
       "    embed_document(root);\n",
       "  } else {\n",
       "    var attempts = 0;\n",
       "    var timer = setInterval(function(root) {\n",
       "      if (root.Bokeh !== undefined) {\n",
       "        embed_document(root);\n",
       "        clearInterval(timer);\n",
       "      }\n",
       "      attempts++;\n",
       "      if (attempts > 100) {\n",
       "        console.log(\"Bokeh: ERROR: Unable to embed document because BokehJS library is missing\")\n",
       "        clearInterval(timer);\n",
       "      }\n",
       "    }, 10, root)\n",
       "  }\n",
       "})(window);"
      ],
      "application/vnd.bokehjs_exec.v0+json": ""
     },
     "metadata": {
      "application/vnd.bokehjs_exec.v0+json": {
       "id": "84f7db3e-ef1f-4610-bacb-5c3412b8d724"
      }
     },
     "output_type": "display_data"
    }
   ],
   "source": [
    "#　凡例のテキストの書式設定\n",
    "p = figure(plot_width=200, plot_height=200)\n",
    "p.circle([0], [0], legend='circle')\n",
    "p.legend.label_text_font = 'times'\n",
    "p.legend.label_text_font_size = '15pt'\n",
    "p.legend.label_text_color = 'red'\n",
    "p.legend.label_text_font_style = 'bold'\n",
    "\n",
    "show(p)"
   ]
  },
  {
   "cell_type": "code",
   "execution_count": 14,
   "metadata": {},
   "outputs": [
    {
     "data": {
      "text/html": [
       "\n",
       "<div class=\"bk-root\">\n",
       "    <div class=\"bk-plotdiv\" id=\"5176c888-d1b7-45df-b0e5-26f484982fb6\"></div>\n",
       "</div>"
      ]
     },
     "metadata": {},
     "output_type": "display_data"
    },
    {
     "data": {
      "application/javascript": [
       "(function(root) {\n",
       "  function embed_document(root) {\n",
       "    var docs_json = {\"4a74bbe3-a25f-4a77-84bf-84a5f8b47951\":{\"roots\":{\"references\":[{\"attributes\":{},\"id\":\"2f450b43-ad45-42df-9330-e60592e8ad44\",\"type\":\"WheelZoomTool\"},{\"attributes\":{\"bottom_units\":\"screen\",\"fill_alpha\":{\"value\":0.5},\"fill_color\":{\"value\":\"lightgrey\"},\"left_units\":\"screen\",\"level\":\"overlay\",\"line_alpha\":{\"value\":1.0},\"line_color\":{\"value\":\"black\"},\"line_dash\":[4,4],\"line_width\":{\"value\":2},\"plot\":null,\"render_mode\":\"css\",\"right_units\":\"screen\",\"top_units\":\"screen\"},\"id\":\"3b5e8f42-34ee-46de-b257-927017a538ad\",\"type\":\"BoxAnnotation\"},{\"attributes\":{},\"id\":\"6e77293e-7fe9-4a75-91d0-80ea31265dc4\",\"type\":\"PanTool\"},{\"attributes\":{},\"id\":\"d072b2ce-c51e-4483-8a99-5d67b4821351\",\"type\":\"BasicTickFormatter\"},{\"attributes\":{},\"id\":\"5439430f-0921-44ac-8077-7294d46b64be\",\"type\":\"ResetTool\"},{\"attributes\":{\"fill_color\":{\"value\":\"#1f77b4\"},\"line_color\":{\"value\":\"#1f77b4\"},\"x\":{\"field\":\"x\"},\"y\":{\"field\":\"y\"}},\"id\":\"4d6e323b-41dc-44f8-94b7-f262b5673e0f\",\"type\":\"Circle\"},{\"attributes\":{},\"id\":\"15c7f5b0-3546-43d1-a484-b9f09071c7ca\",\"type\":\"SaveTool\"},{\"attributes\":{\"data_source\":{\"id\":\"78cf8ad2-9247-4160-85a8-f82d169aac3a\",\"type\":\"ColumnDataSource\"},\"glyph\":{\"id\":\"4d6e323b-41dc-44f8-94b7-f262b5673e0f\",\"type\":\"Circle\"},\"hover_glyph\":null,\"muted_glyph\":null,\"nonselection_glyph\":{\"id\":\"389dd640-5496-4b3f-89e3-dce0cb41e69c\",\"type\":\"Circle\"},\"selection_glyph\":null,\"view\":{\"id\":\"169cc5df-581e-4553-aa91-1e67ef5e531a\",\"type\":\"CDSView\"}},\"id\":\"859fea17-36fd-4e7a-9ab5-3284faed89b3\",\"type\":\"GlyphRenderer\"},{\"attributes\":{\"overlay\":{\"id\":\"3b5e8f42-34ee-46de-b257-927017a538ad\",\"type\":\"BoxAnnotation\"}},\"id\":\"baf47d2c-0a65-4e37-a017-1874400e8cfe\",\"type\":\"BoxZoomTool\"},{\"attributes\":{\"formatter\":{\"id\":\"1ed7c171-7a54-42e1-b5ac-2a45a94f2427\",\"type\":\"BasicTickFormatter\"},\"plot\":{\"id\":\"694a297f-e247-4daa-945c-af1d084b8a27\",\"subtype\":\"Figure\",\"type\":\"Plot\"},\"ticker\":{\"id\":\"14d8bc6d-a28b-40bb-859c-052c50406412\",\"type\":\"BasicTicker\"}},\"id\":\"31e937d2-0344-49fd-be3c-57928fda5171\",\"type\":\"LinearAxis\"},{\"attributes\":{},\"id\":\"1ed7c171-7a54-42e1-b5ac-2a45a94f2427\",\"type\":\"BasicTickFormatter\"},{\"attributes\":{\"label\":{\"value\":\"circle\"},\"renderers\":[{\"id\":\"859fea17-36fd-4e7a-9ab5-3284faed89b3\",\"type\":\"GlyphRenderer\"}]},\"id\":\"8eec14dd-3425-4613-8a0a-b2900d9c8316\",\"type\":\"LegendItem\"},{\"attributes\":{\"fill_alpha\":{\"value\":0.1},\"fill_color\":{\"value\":\"#1f77b4\"},\"line_alpha\":{\"value\":0.1},\"line_color\":{\"value\":\"#1f77b4\"},\"x\":{\"field\":\"x\"},\"y\":{\"field\":\"y\"}},\"id\":\"389dd640-5496-4b3f-89e3-dce0cb41e69c\",\"type\":\"Circle\"},{\"attributes\":{},\"id\":\"4530c954-9061-40f6-a5da-571fdb1bb82a\",\"type\":\"HelpTool\"},{\"attributes\":{\"active_drag\":\"auto\",\"active_inspect\":\"auto\",\"active_scroll\":\"auto\",\"active_tap\":\"auto\",\"tools\":[{\"id\":\"6e77293e-7fe9-4a75-91d0-80ea31265dc4\",\"type\":\"PanTool\"},{\"id\":\"2f450b43-ad45-42df-9330-e60592e8ad44\",\"type\":\"WheelZoomTool\"},{\"id\":\"baf47d2c-0a65-4e37-a017-1874400e8cfe\",\"type\":\"BoxZoomTool\"},{\"id\":\"15c7f5b0-3546-43d1-a484-b9f09071c7ca\",\"type\":\"SaveTool\"},{\"id\":\"5439430f-0921-44ac-8077-7294d46b64be\",\"type\":\"ResetTool\"},{\"id\":\"4530c954-9061-40f6-a5da-571fdb1bb82a\",\"type\":\"HelpTool\"}]},\"id\":\"cf4eb54d-6807-478f-9547-d3dd1afcd81d\",\"type\":\"Toolbar\"},{\"attributes\":{\"callback\":null},\"id\":\"d2743f0b-b07b-4deb-a888-c73df1e9942f\",\"type\":\"DataRange1d\"},{\"attributes\":{\"border_line_color\":{\"value\":\"red\"},\"border_line_dash\":[6],\"border_line_width\":{\"value\":3},\"items\":[{\"id\":\"8eec14dd-3425-4613-8a0a-b2900d9c8316\",\"type\":\"LegendItem\"}],\"plot\":{\"id\":\"694a297f-e247-4daa-945c-af1d084b8a27\",\"subtype\":\"Figure\",\"type\":\"Plot\"}},\"id\":\"2d734fc5-9d83-4ba6-8635-fe2e81396258\",\"type\":\"Legend\"},{\"attributes\":{\"formatter\":{\"id\":\"d072b2ce-c51e-4483-8a99-5d67b4821351\",\"type\":\"BasicTickFormatter\"},\"plot\":{\"id\":\"694a297f-e247-4daa-945c-af1d084b8a27\",\"subtype\":\"Figure\",\"type\":\"Plot\"},\"ticker\":{\"id\":\"59961baf-1781-40a2-a4a0-1077bb249757\",\"type\":\"BasicTicker\"}},\"id\":\"038b2be4-0e8c-4a57-95ae-97eb25c9c5f9\",\"type\":\"LinearAxis\"},{\"attributes\":{\"plot\":null,\"text\":\"\"},\"id\":\"2de991a9-97d9-4cbb-8932-c87dadc1ad09\",\"type\":\"Title\"},{\"attributes\":{},\"id\":\"fdc26733-c766-4f08-8322-c8d083726bdd\",\"type\":\"LinearScale\"},{\"attributes\":{\"source\":{\"id\":\"78cf8ad2-9247-4160-85a8-f82d169aac3a\",\"type\":\"ColumnDataSource\"}},\"id\":\"169cc5df-581e-4553-aa91-1e67ef5e531a\",\"type\":\"CDSView\"},{\"attributes\":{\"plot\":{\"id\":\"694a297f-e247-4daa-945c-af1d084b8a27\",\"subtype\":\"Figure\",\"type\":\"Plot\"},\"ticker\":{\"id\":\"59961baf-1781-40a2-a4a0-1077bb249757\",\"type\":\"BasicTicker\"}},\"id\":\"184feb2a-c5a6-4e1b-830f-71618edbd8a1\",\"type\":\"Grid\"},{\"attributes\":{},\"id\":\"59961baf-1781-40a2-a4a0-1077bb249757\",\"type\":\"BasicTicker\"},{\"attributes\":{\"callback\":null,\"column_names\":[\"x\",\"y\"],\"data\":{\"x\":[0],\"y\":[0]}},\"id\":\"78cf8ad2-9247-4160-85a8-f82d169aac3a\",\"type\":\"ColumnDataSource\"},{\"attributes\":{},\"id\":\"a9eb3a20-79bb-4962-b7aa-151f08cdbe79\",\"type\":\"LinearScale\"},{\"attributes\":{\"below\":[{\"id\":\"038b2be4-0e8c-4a57-95ae-97eb25c9c5f9\",\"type\":\"LinearAxis\"}],\"left\":[{\"id\":\"31e937d2-0344-49fd-be3c-57928fda5171\",\"type\":\"LinearAxis\"}],\"plot_height\":200,\"plot_width\":200,\"renderers\":[{\"id\":\"038b2be4-0e8c-4a57-95ae-97eb25c9c5f9\",\"type\":\"LinearAxis\"},{\"id\":\"184feb2a-c5a6-4e1b-830f-71618edbd8a1\",\"type\":\"Grid\"},{\"id\":\"31e937d2-0344-49fd-be3c-57928fda5171\",\"type\":\"LinearAxis\"},{\"id\":\"0ff31ec6-269b-461b-bfba-9c0ef6058750\",\"type\":\"Grid\"},{\"id\":\"3b5e8f42-34ee-46de-b257-927017a538ad\",\"type\":\"BoxAnnotation\"},{\"id\":\"2d734fc5-9d83-4ba6-8635-fe2e81396258\",\"type\":\"Legend\"},{\"id\":\"859fea17-36fd-4e7a-9ab5-3284faed89b3\",\"type\":\"GlyphRenderer\"}],\"title\":{\"id\":\"2de991a9-97d9-4cbb-8932-c87dadc1ad09\",\"type\":\"Title\"},\"toolbar\":{\"id\":\"cf4eb54d-6807-478f-9547-d3dd1afcd81d\",\"type\":\"Toolbar\"},\"x_range\":{\"id\":\"d2743f0b-b07b-4deb-a888-c73df1e9942f\",\"type\":\"DataRange1d\"},\"x_scale\":{\"id\":\"a9eb3a20-79bb-4962-b7aa-151f08cdbe79\",\"type\":\"LinearScale\"},\"y_range\":{\"id\":\"e7a8afc1-9190-4c4c-9c27-8ddede9f6623\",\"type\":\"DataRange1d\"},\"y_scale\":{\"id\":\"fdc26733-c766-4f08-8322-c8d083726bdd\",\"type\":\"LinearScale\"}},\"id\":\"694a297f-e247-4daa-945c-af1d084b8a27\",\"subtype\":\"Figure\",\"type\":\"Plot\"},{\"attributes\":{\"callback\":null},\"id\":\"e7a8afc1-9190-4c4c-9c27-8ddede9f6623\",\"type\":\"DataRange1d\"},{\"attributes\":{},\"id\":\"14d8bc6d-a28b-40bb-859c-052c50406412\",\"type\":\"BasicTicker\"},{\"attributes\":{\"dimension\":1,\"plot\":{\"id\":\"694a297f-e247-4daa-945c-af1d084b8a27\",\"subtype\":\"Figure\",\"type\":\"Plot\"},\"ticker\":{\"id\":\"14d8bc6d-a28b-40bb-859c-052c50406412\",\"type\":\"BasicTicker\"}},\"id\":\"0ff31ec6-269b-461b-bfba-9c0ef6058750\",\"type\":\"Grid\"}],\"root_ids\":[\"694a297f-e247-4daa-945c-af1d084b8a27\"]},\"title\":\"Bokeh Application\",\"version\":\"0.12.10\"}};\n",
       "    var render_items = [{\"docid\":\"4a74bbe3-a25f-4a77-84bf-84a5f8b47951\",\"elementid\":\"5176c888-d1b7-45df-b0e5-26f484982fb6\",\"modelid\":\"694a297f-e247-4daa-945c-af1d084b8a27\"}];\n",
       "\n",
       "    root.Bokeh.embed.embed_items(docs_json, render_items);\n",
       "  }\n",
       "\n",
       "  if (root.Bokeh !== undefined) {\n",
       "    embed_document(root);\n",
       "  } else {\n",
       "    var attempts = 0;\n",
       "    var timer = setInterval(function(root) {\n",
       "      if (root.Bokeh !== undefined) {\n",
       "        embed_document(root);\n",
       "        clearInterval(timer);\n",
       "      }\n",
       "      attempts++;\n",
       "      if (attempts > 100) {\n",
       "        console.log(\"Bokeh: ERROR: Unable to embed document because BokehJS library is missing\")\n",
       "        clearInterval(timer);\n",
       "      }\n",
       "    }, 10, root)\n",
       "  }\n",
       "})(window);"
      ],
      "application/vnd.bokehjs_exec.v0+json": ""
     },
     "metadata": {
      "application/vnd.bokehjs_exec.v0+json": {
       "id": "694a297f-e247-4daa-945c-af1d084b8a27"
      }
     },
     "output_type": "display_data"
    }
   ],
   "source": [
    "#　凡例の枠線の設定\n",
    "p = figure(plot_width=200, plot_height=200)\n",
    "p.circle([0], [0], legend='circle')\n",
    "p.legend.border_line_width = 3\n",
    "p.legend.border_line_color = 'red'\n",
    "p.legend.border_line_alpha = 0.5\n",
    "p.legend.border_line_dash = 'dashed'\n",
    "show(p)"
   ]
  },
  {
   "cell_type": "code",
   "execution_count": 15,
   "metadata": {},
   "outputs": [
    {
     "data": {
      "text/html": [
       "\n",
       "<div class=\"bk-root\">\n",
       "    <div class=\"bk-plotdiv\" id=\"8c16704e-723a-47e0-8785-7738debc77fc\"></div>\n",
       "</div>"
      ]
     },
     "metadata": {},
     "output_type": "display_data"
    },
    {
     "data": {
      "application/javascript": [
       "(function(root) {\n",
       "  function embed_document(root) {\n",
       "    var docs_json = {\"c26deec6-4659-417e-961d-090ef49ccf72\":{\"roots\":{\"references\":[{\"attributes\":{\"below\":[{\"id\":\"b5155abf-c27a-4d60-bb31-e6b4840c956a\",\"type\":\"LinearAxis\"}],\"left\":[{\"id\":\"c96855e2-0032-4ea3-bc42-aa7af039f3ab\",\"type\":\"LinearAxis\"}],\"plot_height\":200,\"plot_width\":200,\"renderers\":[{\"id\":\"b5155abf-c27a-4d60-bb31-e6b4840c956a\",\"type\":\"LinearAxis\"},{\"id\":\"820324fe-5ea1-4493-b581-d471e8b6500f\",\"type\":\"Grid\"},{\"id\":\"c96855e2-0032-4ea3-bc42-aa7af039f3ab\",\"type\":\"LinearAxis\"},{\"id\":\"ff5c76f5-05f5-47e6-966d-b52c33e62058\",\"type\":\"Grid\"},{\"id\":\"6f0c2023-720e-4910-9fd2-7e03d5af587b\",\"type\":\"BoxAnnotation\"},{\"id\":\"bd3c9ad5-01cd-435f-a6a9-6d64767f40e1\",\"type\":\"Legend\"},{\"id\":\"ad7e4379-644c-4446-9c16-b87531264cee\",\"type\":\"GlyphRenderer\"}],\"title\":{\"id\":\"347b366d-0da4-4c14-b927-c6441a780bea\",\"type\":\"Title\"},\"toolbar\":{\"id\":\"9930a21c-2747-4da7-bbe5-0f14bab9bfd8\",\"type\":\"Toolbar\"},\"x_range\":{\"id\":\"56587fd6-2010-4139-a6a8-006d27627569\",\"type\":\"DataRange1d\"},\"x_scale\":{\"id\":\"860bf727-3d3c-4d14-9884-c8928e302dfa\",\"type\":\"LinearScale\"},\"y_range\":{\"id\":\"b12502c2-300f-4876-a2f6-d667d83ec26d\",\"type\":\"DataRange1d\"},\"y_scale\":{\"id\":\"b5759d6b-4cf0-4de4-9e10-f625ce1a47ba\",\"type\":\"LinearScale\"}},\"id\":\"7e2ffd24-6d86-4c31-b7dc-83444ed67315\",\"subtype\":\"Figure\",\"type\":\"Plot\"},{\"attributes\":{},\"id\":\"b79bac98-1503-44b7-8e6a-a8e771dd7171\",\"type\":\"WheelZoomTool\"},{\"attributes\":{\"bottom_units\":\"screen\",\"fill_alpha\":{\"value\":0.5},\"fill_color\":{\"value\":\"lightgrey\"},\"left_units\":\"screen\",\"level\":\"overlay\",\"line_alpha\":{\"value\":1.0},\"line_color\":{\"value\":\"black\"},\"line_dash\":[4,4],\"line_width\":{\"value\":2},\"plot\":null,\"render_mode\":\"css\",\"right_units\":\"screen\",\"top_units\":\"screen\"},\"id\":\"6f0c2023-720e-4910-9fd2-7e03d5af587b\",\"type\":\"BoxAnnotation\"},{\"attributes\":{},\"id\":\"5bbe98ca-cfe3-4f62-b48f-641819967169\",\"type\":\"PanTool\"},{\"attributes\":{\"overlay\":{\"id\":\"6f0c2023-720e-4910-9fd2-7e03d5af587b\",\"type\":\"BoxAnnotation\"}},\"id\":\"1d39d26f-7447-46a9-b84d-e5d5c6f2ac98\",\"type\":\"BoxZoomTool\"},{\"attributes\":{},\"id\":\"a1b37d22-f482-4cf4-a064-d5d5a50a2dc4\",\"type\":\"SaveTool\"},{\"attributes\":{},\"id\":\"69355edb-fc7d-43f5-b59d-457216a3b0ee\",\"type\":\"ResetTool\"},{\"attributes\":{},\"id\":\"f757ea37-5c5b-4429-8ca8-562256f482ba\",\"type\":\"HelpTool\"},{\"attributes\":{},\"id\":\"0eb02ec6-d48b-49b1-ae62-7b711fa5c86d\",\"type\":\"BasicTickFormatter\"},{\"attributes\":{\"background_fill_alpha\":{\"value\":0.5},\"background_fill_color\":{\"value\":\"red\"},\"items\":[{\"id\":\"f21dc373-aacf-4452-a14c-f2580bc96a5a\",\"type\":\"LegendItem\"}],\"plot\":{\"id\":\"7e2ffd24-6d86-4c31-b7dc-83444ed67315\",\"subtype\":\"Figure\",\"type\":\"Plot\"}},\"id\":\"bd3c9ad5-01cd-435f-a6a9-6d64767f40e1\",\"type\":\"Legend\"},{\"attributes\":{\"callback\":null},\"id\":\"56587fd6-2010-4139-a6a8-006d27627569\",\"type\":\"DataRange1d\"},{\"attributes\":{\"data_source\":{\"id\":\"c9209f7b-42dd-4dfb-aa32-af98b0308c2c\",\"type\":\"ColumnDataSource\"},\"glyph\":{\"id\":\"3d60e794-4386-4a9b-b88f-dbf596c76399\",\"type\":\"Circle\"},\"hover_glyph\":null,\"muted_glyph\":null,\"nonselection_glyph\":{\"id\":\"64f5f3b1-2e4b-4893-ad48-75155768811c\",\"type\":\"Circle\"},\"selection_glyph\":null,\"view\":{\"id\":\"82ff90eb-df1d-4387-b43f-df142e95dfc2\",\"type\":\"CDSView\"}},\"id\":\"ad7e4379-644c-4446-9c16-b87531264cee\",\"type\":\"GlyphRenderer\"},{\"attributes\":{\"plot\":{\"id\":\"7e2ffd24-6d86-4c31-b7dc-83444ed67315\",\"subtype\":\"Figure\",\"type\":\"Plot\"},\"ticker\":{\"id\":\"8eb5b6dd-1c87-4b7f-a018-0f639311ef02\",\"type\":\"BasicTicker\"}},\"id\":\"820324fe-5ea1-4493-b581-d471e8b6500f\",\"type\":\"Grid\"},{\"attributes\":{\"label\":{\"value\":\"circle\"},\"renderers\":[{\"id\":\"ad7e4379-644c-4446-9c16-b87531264cee\",\"type\":\"GlyphRenderer\"}]},\"id\":\"f21dc373-aacf-4452-a14c-f2580bc96a5a\",\"type\":\"LegendItem\"},{\"attributes\":{\"source\":{\"id\":\"c9209f7b-42dd-4dfb-aa32-af98b0308c2c\",\"type\":\"ColumnDataSource\"}},\"id\":\"82ff90eb-df1d-4387-b43f-df142e95dfc2\",\"type\":\"CDSView\"},{\"attributes\":{},\"id\":\"b5759d6b-4cf0-4de4-9e10-f625ce1a47ba\",\"type\":\"LinearScale\"},{\"attributes\":{\"fill_alpha\":{\"value\":0.1},\"fill_color\":{\"value\":\"#1f77b4\"},\"line_alpha\":{\"value\":0.1},\"line_color\":{\"value\":\"#1f77b4\"},\"x\":{\"field\":\"x\"},\"y\":{\"field\":\"y\"}},\"id\":\"64f5f3b1-2e4b-4893-ad48-75155768811c\",\"type\":\"Circle\"},{\"attributes\":{},\"id\":\"8f73d6ad-5299-4350-827f-2c0efc45ad3f\",\"type\":\"BasicTickFormatter\"},{\"attributes\":{\"formatter\":{\"id\":\"8f73d6ad-5299-4350-827f-2c0efc45ad3f\",\"type\":\"BasicTickFormatter\"},\"plot\":{\"id\":\"7e2ffd24-6d86-4c31-b7dc-83444ed67315\",\"subtype\":\"Figure\",\"type\":\"Plot\"},\"ticker\":{\"id\":\"22a2862d-2f2a-404d-961d-b8a5ac7ba2bd\",\"type\":\"BasicTicker\"}},\"id\":\"c96855e2-0032-4ea3-bc42-aa7af039f3ab\",\"type\":\"LinearAxis\"},{\"attributes\":{},\"id\":\"860bf727-3d3c-4d14-9884-c8928e302dfa\",\"type\":\"LinearScale\"},{\"attributes\":{},\"id\":\"8eb5b6dd-1c87-4b7f-a018-0f639311ef02\",\"type\":\"BasicTicker\"},{\"attributes\":{\"formatter\":{\"id\":\"0eb02ec6-d48b-49b1-ae62-7b711fa5c86d\",\"type\":\"BasicTickFormatter\"},\"plot\":{\"id\":\"7e2ffd24-6d86-4c31-b7dc-83444ed67315\",\"subtype\":\"Figure\",\"type\":\"Plot\"},\"ticker\":{\"id\":\"8eb5b6dd-1c87-4b7f-a018-0f639311ef02\",\"type\":\"BasicTicker\"}},\"id\":\"b5155abf-c27a-4d60-bb31-e6b4840c956a\",\"type\":\"LinearAxis\"},{\"attributes\":{\"fill_color\":{\"value\":\"#1f77b4\"},\"line_color\":{\"value\":\"#1f77b4\"},\"x\":{\"field\":\"x\"},\"y\":{\"field\":\"y\"}},\"id\":\"3d60e794-4386-4a9b-b88f-dbf596c76399\",\"type\":\"Circle\"},{\"attributes\":{},\"id\":\"22a2862d-2f2a-404d-961d-b8a5ac7ba2bd\",\"type\":\"BasicTicker\"},{\"attributes\":{\"callback\":null,\"column_names\":[\"x\",\"y\"],\"data\":{\"x\":[0],\"y\":[0]}},\"id\":\"c9209f7b-42dd-4dfb-aa32-af98b0308c2c\",\"type\":\"ColumnDataSource\"},{\"attributes\":{\"active_drag\":\"auto\",\"active_inspect\":\"auto\",\"active_scroll\":\"auto\",\"active_tap\":\"auto\",\"tools\":[{\"id\":\"5bbe98ca-cfe3-4f62-b48f-641819967169\",\"type\":\"PanTool\"},{\"id\":\"b79bac98-1503-44b7-8e6a-a8e771dd7171\",\"type\":\"WheelZoomTool\"},{\"id\":\"1d39d26f-7447-46a9-b84d-e5d5c6f2ac98\",\"type\":\"BoxZoomTool\"},{\"id\":\"a1b37d22-f482-4cf4-a064-d5d5a50a2dc4\",\"type\":\"SaveTool\"},{\"id\":\"69355edb-fc7d-43f5-b59d-457216a3b0ee\",\"type\":\"ResetTool\"},{\"id\":\"f757ea37-5c5b-4429-8ca8-562256f482ba\",\"type\":\"HelpTool\"}]},\"id\":\"9930a21c-2747-4da7-bbe5-0f14bab9bfd8\",\"type\":\"Toolbar\"},{\"attributes\":{\"callback\":null},\"id\":\"b12502c2-300f-4876-a2f6-d667d83ec26d\",\"type\":\"DataRange1d\"},{\"attributes\":{\"dimension\":1,\"plot\":{\"id\":\"7e2ffd24-6d86-4c31-b7dc-83444ed67315\",\"subtype\":\"Figure\",\"type\":\"Plot\"},\"ticker\":{\"id\":\"22a2862d-2f2a-404d-961d-b8a5ac7ba2bd\",\"type\":\"BasicTicker\"}},\"id\":\"ff5c76f5-05f5-47e6-966d-b52c33e62058\",\"type\":\"Grid\"},{\"attributes\":{\"plot\":null,\"text\":\"\"},\"id\":\"347b366d-0da4-4c14-b927-c6441a780bea\",\"type\":\"Title\"}],\"root_ids\":[\"7e2ffd24-6d86-4c31-b7dc-83444ed67315\"]},\"title\":\"Bokeh Application\",\"version\":\"0.12.10\"}};\n",
       "    var render_items = [{\"docid\":\"c26deec6-4659-417e-961d-090ef49ccf72\",\"elementid\":\"8c16704e-723a-47e0-8785-7738debc77fc\",\"modelid\":\"7e2ffd24-6d86-4c31-b7dc-83444ed67315\"}];\n",
       "\n",
       "    root.Bokeh.embed.embed_items(docs_json, render_items);\n",
       "  }\n",
       "\n",
       "  if (root.Bokeh !== undefined) {\n",
       "    embed_document(root);\n",
       "  } else {\n",
       "    var attempts = 0;\n",
       "    var timer = setInterval(function(root) {\n",
       "      if (root.Bokeh !== undefined) {\n",
       "        embed_document(root);\n",
       "        clearInterval(timer);\n",
       "      }\n",
       "      attempts++;\n",
       "      if (attempts > 100) {\n",
       "        console.log(\"Bokeh: ERROR: Unable to embed document because BokehJS library is missing\")\n",
       "        clearInterval(timer);\n",
       "      }\n",
       "    }, 10, root)\n",
       "  }\n",
       "})(window);"
      ],
      "application/vnd.bokehjs_exec.v0+json": ""
     },
     "metadata": {
      "application/vnd.bokehjs_exec.v0+json": {
       "id": "7e2ffd24-6d86-4c31-b7dc-83444ed67315"
      }
     },
     "output_type": "display_data"
    }
   ],
   "source": [
    "#　凡例の背景色の設定\n",
    "p = figure(plot_width=200, plot_height=200)\n",
    "p.circle([0], [0], legend='circle')\n",
    "p.legend.background_fill_color = 'red'\n",
    "p.legend.background_fill_alpha = 0.5\n",
    "show(p)"
   ]
  },
  {
   "cell_type": "code",
   "execution_count": 8,
   "metadata": {},
   "outputs": [
    {
     "data": {
      "text/html": [
       "\n",
       "<div class=\"bk-root\">\n",
       "    <div class=\"bk-plotdiv\" id=\"3854b000-5179-4352-b150-7fc74c9f7bc2\"></div>\n",
       "</div>"
      ]
     },
     "metadata": {},
     "output_type": "display_data"
    },
    {
     "data": {
      "application/javascript": [
       "(function(root) {\n",
       "  function embed_document(root) {\n",
       "    var docs_json = {\"7aad9b83-0cfc-47dc-a641-018b19d05e14\":{\"roots\":{\"references\":[{\"attributes\":{\"plot\":null,\"text\":\"\"},\"id\":\"734ff486-3348-4829-b9ce-1d6568e938a0\",\"type\":\"Title\"},{\"attributes\":{},\"id\":\"538503b4-bd8c-44ab-8627-4830a70ab7f2\",\"type\":\"BasicTickFormatter\"},{\"attributes\":{\"plot\":{\"id\":\"4fb677fa-a1eb-41e1-977c-cf02407c1c17\",\"subtype\":\"Figure\",\"type\":\"Plot\"},\"ticker\":{\"id\":\"3bd600a0-5f33-4202-ac17-51a937eb0a76\",\"type\":\"BasicTicker\"}},\"id\":\"1e4805c3-182c-410f-8711-25b43bcae7ba\",\"type\":\"Grid\"},{\"attributes\":{\"overlay\":{\"id\":\"bdbd425d-f064-406d-ac96-7aa7e0af1f92\",\"type\":\"BoxAnnotation\"}},\"id\":\"ef7b1218-37f2-4ef3-bbcb-59abd40ffa3c\",\"type\":\"BoxZoomTool\"},{\"attributes\":{\"data_source\":{\"id\":\"0a64dcc4-a63c-4733-9dd2-0e8505c626d8\",\"type\":\"ColumnDataSource\"},\"glyph\":{\"id\":\"e1566abd-e88a-47f9-8844-8be8a104db0e\",\"type\":\"Circle\"},\"hover_glyph\":null,\"muted_glyph\":null,\"nonselection_glyph\":{\"id\":\"2043d04d-3c2f-423f-be76-4159d5a93fcb\",\"type\":\"Circle\"},\"selection_glyph\":null,\"view\":{\"id\":\"66e94d31-f7b7-4402-bcf6-672f44f52439\",\"type\":\"CDSView\"}},\"id\":\"5bbb18fd-4ff6-49e0-b104-1f9d6b6cf103\",\"type\":\"GlyphRenderer\"},{\"attributes\":{},\"id\":\"e5232521-dc31-4e45-8f88-e90a19d9cd39\",\"type\":\"LinearScale\"},{\"attributes\":{\"callback\":null},\"id\":\"0675f80d-162f-4f91-93d9-9a3d9390091c\",\"type\":\"DataRange1d\"},{\"attributes\":{},\"id\":\"a78925d9-7769-4f94-b7dd-9896d94d3613\",\"type\":\"ResetTool\"},{\"attributes\":{\"formatter\":{\"id\":\"538503b4-bd8c-44ab-8627-4830a70ab7f2\",\"type\":\"BasicTickFormatter\"},\"plot\":{\"id\":\"4fb677fa-a1eb-41e1-977c-cf02407c1c17\",\"subtype\":\"Figure\",\"type\":\"Plot\"},\"ticker\":{\"id\":\"3bd600a0-5f33-4202-ac17-51a937eb0a76\",\"type\":\"BasicTicker\"}},\"id\":\"6561552b-7af3-4c14-b538-076ec751a307\",\"type\":\"LinearAxis\"},{\"attributes\":{\"items\":[{\"id\":\"93b73e88-d4e3-4be5-9c9b-eb8ed4002091\",\"type\":\"LegendItem\"}],\"location\":\"bottom_left\",\"plot\":{\"id\":\"4fb677fa-a1eb-41e1-977c-cf02407c1c17\",\"subtype\":\"Figure\",\"type\":\"Plot\"}},\"id\":\"6a498f79-9df8-4260-987e-aa130e7db720\",\"type\":\"Legend\"},{\"attributes\":{\"fill_alpha\":{\"value\":0.1},\"fill_color\":{\"value\":\"#1f77b4\"},\"line_alpha\":{\"value\":0.1},\"line_color\":{\"value\":\"#1f77b4\"},\"x\":{\"field\":\"x\"},\"y\":{\"field\":\"y\"}},\"id\":\"2043d04d-3c2f-423f-be76-4159d5a93fcb\",\"type\":\"Circle\"},{\"attributes\":{\"source\":{\"id\":\"0a64dcc4-a63c-4733-9dd2-0e8505c626d8\",\"type\":\"ColumnDataSource\"}},\"id\":\"66e94d31-f7b7-4402-bcf6-672f44f52439\",\"type\":\"CDSView\"},{\"attributes\":{\"label\":{\"value\":\"circle\"},\"renderers\":[{\"id\":\"5bbb18fd-4ff6-49e0-b104-1f9d6b6cf103\",\"type\":\"GlyphRenderer\"}]},\"id\":\"93b73e88-d4e3-4be5-9c9b-eb8ed4002091\",\"type\":\"LegendItem\"},{\"attributes\":{\"bottom_units\":\"screen\",\"fill_alpha\":{\"value\":0.5},\"fill_color\":{\"value\":\"lightgrey\"},\"left_units\":\"screen\",\"level\":\"overlay\",\"line_alpha\":{\"value\":1.0},\"line_color\":{\"value\":\"black\"},\"line_dash\":[4,4],\"line_width\":{\"value\":2},\"plot\":null,\"render_mode\":\"css\",\"right_units\":\"screen\",\"top_units\":\"screen\"},\"id\":\"bdbd425d-f064-406d-ac96-7aa7e0af1f92\",\"type\":\"BoxAnnotation\"},{\"attributes\":{\"callback\":null,\"column_names\":[\"x\",\"y\"],\"data\":{\"x\":[0],\"y\":[0]}},\"id\":\"0a64dcc4-a63c-4733-9dd2-0e8505c626d8\",\"type\":\"ColumnDataSource\"},{\"attributes\":{},\"id\":\"7c8c876c-2d33-49b0-854a-519e6f8637bb\",\"type\":\"SaveTool\"},{\"attributes\":{},\"id\":\"35976b6e-1087-4d9c-aa69-fd310008caf6\",\"type\":\"BasicTickFormatter\"},{\"attributes\":{\"dimension\":1,\"plot\":{\"id\":\"4fb677fa-a1eb-41e1-977c-cf02407c1c17\",\"subtype\":\"Figure\",\"type\":\"Plot\"},\"ticker\":{\"id\":\"80ce8365-2e5e-451f-a716-57acf41e00c3\",\"type\":\"BasicTicker\"}},\"id\":\"a7552e18-42e8-493b-aa86-2ad4456bf410\",\"type\":\"Grid\"},{\"attributes\":{\"formatter\":{\"id\":\"35976b6e-1087-4d9c-aa69-fd310008caf6\",\"type\":\"BasicTickFormatter\"},\"plot\":{\"id\":\"4fb677fa-a1eb-41e1-977c-cf02407c1c17\",\"subtype\":\"Figure\",\"type\":\"Plot\"},\"ticker\":{\"id\":\"80ce8365-2e5e-451f-a716-57acf41e00c3\",\"type\":\"BasicTicker\"}},\"id\":\"03d442d1-2415-42ad-bd11-c56dca9586e2\",\"type\":\"LinearAxis\"},{\"attributes\":{},\"id\":\"80ce8365-2e5e-451f-a716-57acf41e00c3\",\"type\":\"BasicTicker\"},{\"attributes\":{\"fill_color\":{\"value\":\"#1f77b4\"},\"line_color\":{\"value\":\"#1f77b4\"},\"x\":{\"field\":\"x\"},\"y\":{\"field\":\"y\"}},\"id\":\"e1566abd-e88a-47f9-8844-8be8a104db0e\",\"type\":\"Circle\"},{\"attributes\":{},\"id\":\"13b4fe94-c62e-4148-829b-50550cd8aa25\",\"type\":\"HelpTool\"},{\"attributes\":{},\"id\":\"486a7990-ae61-4c4c-bed0-22f74038bf36\",\"type\":\"LinearScale\"},{\"attributes\":{},\"id\":\"0847c8fb-00de-4b76-b039-ccf5f81b033d\",\"type\":\"WheelZoomTool\"},{\"attributes\":{\"active_drag\":\"auto\",\"active_inspect\":\"auto\",\"active_scroll\":\"auto\",\"active_tap\":\"auto\",\"tools\":[{\"id\":\"f85aea7c-0f3c-49eb-a928-550b1df43cb3\",\"type\":\"PanTool\"},{\"id\":\"0847c8fb-00de-4b76-b039-ccf5f81b033d\",\"type\":\"WheelZoomTool\"},{\"id\":\"ef7b1218-37f2-4ef3-bbcb-59abd40ffa3c\",\"type\":\"BoxZoomTool\"},{\"id\":\"7c8c876c-2d33-49b0-854a-519e6f8637bb\",\"type\":\"SaveTool\"},{\"id\":\"a78925d9-7769-4f94-b7dd-9896d94d3613\",\"type\":\"ResetTool\"},{\"id\":\"13b4fe94-c62e-4148-829b-50550cd8aa25\",\"type\":\"HelpTool\"}]},\"id\":\"2c5518ed-cf94-4e29-bec5-8ce8d24a9e05\",\"type\":\"Toolbar\"},{\"attributes\":{},\"id\":\"f85aea7c-0f3c-49eb-a928-550b1df43cb3\",\"type\":\"PanTool\"},{\"attributes\":{},\"id\":\"3bd600a0-5f33-4202-ac17-51a937eb0a76\",\"type\":\"BasicTicker\"},{\"attributes\":{\"below\":[{\"id\":\"6561552b-7af3-4c14-b538-076ec751a307\",\"type\":\"LinearAxis\"}],\"left\":[{\"id\":\"03d442d1-2415-42ad-bd11-c56dca9586e2\",\"type\":\"LinearAxis\"}],\"plot_height\":200,\"plot_width\":200,\"renderers\":[{\"id\":\"6561552b-7af3-4c14-b538-076ec751a307\",\"type\":\"LinearAxis\"},{\"id\":\"1e4805c3-182c-410f-8711-25b43bcae7ba\",\"type\":\"Grid\"},{\"id\":\"03d442d1-2415-42ad-bd11-c56dca9586e2\",\"type\":\"LinearAxis\"},{\"id\":\"a7552e18-42e8-493b-aa86-2ad4456bf410\",\"type\":\"Grid\"},{\"id\":\"bdbd425d-f064-406d-ac96-7aa7e0af1f92\",\"type\":\"BoxAnnotation\"},{\"id\":\"6a498f79-9df8-4260-987e-aa130e7db720\",\"type\":\"Legend\"},{\"id\":\"5bbb18fd-4ff6-49e0-b104-1f9d6b6cf103\",\"type\":\"GlyphRenderer\"}],\"title\":{\"id\":\"734ff486-3348-4829-b9ce-1d6568e938a0\",\"type\":\"Title\"},\"toolbar\":{\"id\":\"2c5518ed-cf94-4e29-bec5-8ce8d24a9e05\",\"type\":\"Toolbar\"},\"x_range\":{\"id\":\"feb32f52-52b7-465d-bee5-c6750970329d\",\"type\":\"DataRange1d\"},\"x_scale\":{\"id\":\"486a7990-ae61-4c4c-bed0-22f74038bf36\",\"type\":\"LinearScale\"},\"y_range\":{\"id\":\"0675f80d-162f-4f91-93d9-9a3d9390091c\",\"type\":\"DataRange1d\"},\"y_scale\":{\"id\":\"e5232521-dc31-4e45-8f88-e90a19d9cd39\",\"type\":\"LinearScale\"}},\"id\":\"4fb677fa-a1eb-41e1-977c-cf02407c1c17\",\"subtype\":\"Figure\",\"type\":\"Plot\"},{\"attributes\":{\"callback\":null},\"id\":\"feb32f52-52b7-465d-bee5-c6750970329d\",\"type\":\"DataRange1d\"}],\"root_ids\":[\"4fb677fa-a1eb-41e1-977c-cf02407c1c17\"]},\"title\":\"Bokeh Application\",\"version\":\"0.12.10\"}};\n",
       "    var render_items = [{\"docid\":\"7aad9b83-0cfc-47dc-a641-018b19d05e14\",\"elementid\":\"3854b000-5179-4352-b150-7fc74c9f7bc2\",\"modelid\":\"4fb677fa-a1eb-41e1-977c-cf02407c1c17\"}];\n",
       "\n",
       "    root.Bokeh.embed.embed_items(docs_json, render_items);\n",
       "  }\n",
       "\n",
       "  if (root.Bokeh !== undefined) {\n",
       "    embed_document(root);\n",
       "  } else {\n",
       "    var attempts = 0;\n",
       "    var timer = setInterval(function(root) {\n",
       "      if (root.Bokeh !== undefined) {\n",
       "        embed_document(root);\n",
       "        clearInterval(timer);\n",
       "      }\n",
       "      attempts++;\n",
       "      if (attempts > 100) {\n",
       "        console.log(\"Bokeh: ERROR: Unable to embed document because BokehJS library is missing\")\n",
       "        clearInterval(timer);\n",
       "      }\n",
       "    }, 10, root)\n",
       "  }\n",
       "})(window);"
      ],
      "application/vnd.bokehjs_exec.v0+json": ""
     },
     "metadata": {
      "application/vnd.bokehjs_exec.v0+json": {
       "id": "4fb677fa-a1eb-41e1-977c-cf02407c1c17"
      }
     },
     "output_type": "display_data"
    }
   ],
   "source": [
    "#　凡例の位置の設定\n",
    "p = figure(plot_width=200, plot_height=200)\n",
    "p.circle([0], [0], legend='circle')\n",
    "p.legend.location = 'bottom_left'\n",
    "show(p)"
   ]
  },
  {
   "cell_type": "code",
   "execution_count": 16,
   "metadata": {},
   "outputs": [
    {
     "data": {
      "text/html": [
       "\n",
       "<div class=\"bk-root\">\n",
       "    <div class=\"bk-plotdiv\" id=\"eacb4e14-b853-48d2-8f01-1491da5492c2\"></div>\n",
       "</div>"
      ]
     },
     "metadata": {},
     "output_type": "display_data"
    },
    {
     "data": {
      "application/javascript": [
       "(function(root) {\n",
       "  function embed_document(root) {\n",
       "    var docs_json = {\"27e6ab19-1f43-4524-84a7-0f761d5b4f2a\":{\"roots\":{\"references\":[{\"attributes\":{},\"id\":\"5191fdc7-0f95-4c34-b33f-fc6685d111a3\",\"type\":\"HelpTool\"},{\"attributes\":{},\"id\":\"03e64ef9-03eb-4160-b2a2-207786ab8281\",\"type\":\"ResetTool\"},{\"attributes\":{\"fill_color\":{\"value\":\"#1f77b4\"},\"line_color\":{\"value\":\"#1f77b4\"},\"x\":{\"field\":\"x\"},\"y\":{\"field\":\"y\"}},\"id\":\"85714522-261f-4d6e-b0b1-73ded9067475\",\"type\":\"Circle\"},{\"attributes\":{},\"id\":\"6ff8666d-e0d6-4f57-a586-ddf5c4eaf48d\",\"type\":\"SaveTool\"},{\"attributes\":{\"overlay\":{\"id\":\"9594a843-2070-41e5-a772-bb9499d47686\",\"type\":\"BoxAnnotation\"}},\"id\":\"8fc8a476-34b3-4d6f-b8b3-78fa03325309\",\"type\":\"BoxZoomTool\"},{\"attributes\":{},\"id\":\"f9fefbcf-bc84-4942-a8bc-e8b5f4af2b99\",\"type\":\"PanTool\"},{\"attributes\":{\"bottom_units\":\"screen\",\"fill_alpha\":{\"value\":0.5},\"fill_color\":{\"value\":\"lightgrey\"},\"left_units\":\"screen\",\"level\":\"overlay\",\"line_alpha\":{\"value\":1.0},\"line_color\":{\"value\":\"black\"},\"line_dash\":[4,4],\"line_width\":{\"value\":2},\"plot\":null,\"render_mode\":\"css\",\"right_units\":\"screen\",\"top_units\":\"screen\"},\"id\":\"9594a843-2070-41e5-a772-bb9499d47686\",\"type\":\"BoxAnnotation\"},{\"attributes\":{},\"id\":\"66ca3ae7-e13b-48c3-8981-e5b4b7f508df\",\"type\":\"WheelZoomTool\"},{\"attributes\":{\"label\":{\"value\":\"circle\"},\"renderers\":[{\"id\":\"4a07af9a-0081-4b20-9e8c-098f3caca5a3\",\"type\":\"GlyphRenderer\"}]},\"id\":\"62ad81d8-f677-47c8-a5ba-6760d982d5ba\",\"type\":\"LegendItem\"},{\"attributes\":{\"source\":{\"id\":\"04262215-305e-45fe-8f07-922896a8ccf4\",\"type\":\"ColumnDataSource\"}},\"id\":\"797f00d0-838c-4433-a5af-2c2a56d358c8\",\"type\":\"CDSView\"},{\"attributes\":{\"callback\":null},\"id\":\"7031b0bd-2c5b-4ec8-8f8e-56aaad82dfc0\",\"type\":\"DataRange1d\"},{\"attributes\":{},\"id\":\"f2d7af18-f133-424b-a06a-491b69aebc1c\",\"type\":\"BasicTicker\"},{\"attributes\":{\"formatter\":{\"id\":\"7cfc29a0-4638-46a8-9e06-898469fbdd93\",\"type\":\"BasicTickFormatter\"},\"plot\":{\"id\":\"753203c2-1822-43b0-9a4a-26b31966a523\",\"subtype\":\"Figure\",\"type\":\"Plot\"},\"ticker\":{\"id\":\"f2d7af18-f133-424b-a06a-491b69aebc1c\",\"type\":\"BasicTicker\"}},\"id\":\"bbaf643c-f71b-491a-b271-aa3cf2ea1766\",\"type\":\"LinearAxis\"},{\"attributes\":{\"callback\":null,\"column_names\":[\"x\",\"y\"],\"data\":{\"x\":[0],\"y\":[0]}},\"id\":\"04262215-305e-45fe-8f07-922896a8ccf4\",\"type\":\"ColumnDataSource\"},{\"attributes\":{},\"id\":\"2d67188f-2df1-4bb7-b93c-6c3bc59b994d\",\"type\":\"BasicTicker\"},{\"attributes\":{\"formatter\":{\"id\":\"cd065d99-57db-4d1f-8b9b-883edff4c067\",\"type\":\"BasicTickFormatter\"},\"plot\":{\"id\":\"753203c2-1822-43b0-9a4a-26b31966a523\",\"subtype\":\"Figure\",\"type\":\"Plot\"},\"ticker\":{\"id\":\"2d67188f-2df1-4bb7-b93c-6c3bc59b994d\",\"type\":\"BasicTicker\"}},\"id\":\"c4a5bfd5-9b10-49e9-8736-06a8bf76558b\",\"type\":\"LinearAxis\"},{\"attributes\":{\"plot\":{\"id\":\"753203c2-1822-43b0-9a4a-26b31966a523\",\"subtype\":\"Figure\",\"type\":\"Plot\"},\"ticker\":{\"id\":\"2d67188f-2df1-4bb7-b93c-6c3bc59b994d\",\"type\":\"BasicTicker\"}},\"id\":\"d0c05ff1-71a0-4ffe-b467-829f97f02ef9\",\"type\":\"Grid\"},{\"attributes\":{},\"id\":\"fc901cb5-527c-4d2b-a329-a41d14f00863\",\"type\":\"LinearScale\"},{\"attributes\":{\"dimension\":1,\"plot\":{\"id\":\"753203c2-1822-43b0-9a4a-26b31966a523\",\"subtype\":\"Figure\",\"type\":\"Plot\"},\"ticker\":{\"id\":\"f2d7af18-f133-424b-a06a-491b69aebc1c\",\"type\":\"BasicTicker\"}},\"id\":\"fd5bb9ba-1d3e-48cd-9030-0b8ad7f77eeb\",\"type\":\"Grid\"},{\"attributes\":{},\"id\":\"9c4c7df3-2e26-43b2-8931-086b6f58562c\",\"type\":\"LinearScale\"},{\"attributes\":{\"callback\":null},\"id\":\"0385e818-44a0-4d4e-9a1a-485c0ff825fc\",\"type\":\"DataRange1d\"},{\"attributes\":{\"items\":[{\"id\":\"62ad81d8-f677-47c8-a5ba-6760d982d5ba\",\"type\":\"LegendItem\"}],\"location\":\"bottom_left\",\"plot\":{\"id\":\"753203c2-1822-43b0-9a4a-26b31966a523\",\"subtype\":\"Figure\",\"type\":\"Plot\"}},\"id\":\"845fe810-422e-402f-9e75-ef208bdee798\",\"type\":\"Legend\"},{\"attributes\":{\"fill_alpha\":{\"value\":0.1},\"fill_color\":{\"value\":\"#1f77b4\"},\"line_alpha\":{\"value\":0.1},\"line_color\":{\"value\":\"#1f77b4\"},\"x\":{\"field\":\"x\"},\"y\":{\"field\":\"y\"}},\"id\":\"a24a2efa-07ac-425c-b5b9-745693ad07b7\",\"type\":\"Circle\"},{\"attributes\":{},\"id\":\"cd065d99-57db-4d1f-8b9b-883edff4c067\",\"type\":\"BasicTickFormatter\"},{\"attributes\":{\"data_source\":{\"id\":\"04262215-305e-45fe-8f07-922896a8ccf4\",\"type\":\"ColumnDataSource\"},\"glyph\":{\"id\":\"85714522-261f-4d6e-b0b1-73ded9067475\",\"type\":\"Circle\"},\"hover_glyph\":null,\"muted_glyph\":null,\"nonselection_glyph\":{\"id\":\"a24a2efa-07ac-425c-b5b9-745693ad07b7\",\"type\":\"Circle\"},\"selection_glyph\":null,\"view\":{\"id\":\"797f00d0-838c-4433-a5af-2c2a56d358c8\",\"type\":\"CDSView\"}},\"id\":\"4a07af9a-0081-4b20-9e8c-098f3caca5a3\",\"type\":\"GlyphRenderer\"},{\"attributes\":{\"plot\":null,\"text\":\"\"},\"id\":\"5d2d5643-6e80-4df7-bbed-6e6b776437b4\",\"type\":\"Title\"},{\"attributes\":{},\"id\":\"7cfc29a0-4638-46a8-9e06-898469fbdd93\",\"type\":\"BasicTickFormatter\"},{\"attributes\":{\"active_drag\":\"auto\",\"active_inspect\":\"auto\",\"active_scroll\":\"auto\",\"active_tap\":\"auto\",\"tools\":[{\"id\":\"f9fefbcf-bc84-4942-a8bc-e8b5f4af2b99\",\"type\":\"PanTool\"},{\"id\":\"66ca3ae7-e13b-48c3-8981-e5b4b7f508df\",\"type\":\"WheelZoomTool\"},{\"id\":\"8fc8a476-34b3-4d6f-b8b3-78fa03325309\",\"type\":\"BoxZoomTool\"},{\"id\":\"6ff8666d-e0d6-4f57-a586-ddf5c4eaf48d\",\"type\":\"SaveTool\"},{\"id\":\"03e64ef9-03eb-4160-b2a2-207786ab8281\",\"type\":\"ResetTool\"},{\"id\":\"5191fdc7-0f95-4c34-b33f-fc6685d111a3\",\"type\":\"HelpTool\"}]},\"id\":\"2002c868-d845-4359-b19e-1b1dc4c9c737\",\"type\":\"Toolbar\"},{\"attributes\":{\"below\":[{\"id\":\"c4a5bfd5-9b10-49e9-8736-06a8bf76558b\",\"type\":\"LinearAxis\"}],\"left\":[{\"id\":\"bbaf643c-f71b-491a-b271-aa3cf2ea1766\",\"type\":\"LinearAxis\"},{\"id\":\"845fe810-422e-402f-9e75-ef208bdee798\",\"type\":\"Legend\"}],\"plot_height\":200,\"plot_width\":300,\"renderers\":[{\"id\":\"c4a5bfd5-9b10-49e9-8736-06a8bf76558b\",\"type\":\"LinearAxis\"},{\"id\":\"d0c05ff1-71a0-4ffe-b467-829f97f02ef9\",\"type\":\"Grid\"},{\"id\":\"bbaf643c-f71b-491a-b271-aa3cf2ea1766\",\"type\":\"LinearAxis\"},{\"id\":\"fd5bb9ba-1d3e-48cd-9030-0b8ad7f77eeb\",\"type\":\"Grid\"},{\"id\":\"9594a843-2070-41e5-a772-bb9499d47686\",\"type\":\"BoxAnnotation\"},{\"id\":\"4a07af9a-0081-4b20-9e8c-098f3caca5a3\",\"type\":\"GlyphRenderer\"},{\"id\":\"845fe810-422e-402f-9e75-ef208bdee798\",\"type\":\"Legend\"}],\"title\":{\"id\":\"5d2d5643-6e80-4df7-bbed-6e6b776437b4\",\"type\":\"Title\"},\"toolbar\":{\"id\":\"2002c868-d845-4359-b19e-1b1dc4c9c737\",\"type\":\"Toolbar\"},\"x_range\":{\"id\":\"7031b0bd-2c5b-4ec8-8f8e-56aaad82dfc0\",\"type\":\"DataRange1d\"},\"x_scale\":{\"id\":\"9c4c7df3-2e26-43b2-8931-086b6f58562c\",\"type\":\"LinearScale\"},\"y_range\":{\"id\":\"0385e818-44a0-4d4e-9a1a-485c0ff825fc\",\"type\":\"DataRange1d\"},\"y_scale\":{\"id\":\"fc901cb5-527c-4d2b-a329-a41d14f00863\",\"type\":\"LinearScale\"}},\"id\":\"753203c2-1822-43b0-9a4a-26b31966a523\",\"subtype\":\"Figure\",\"type\":\"Plot\"}],\"root_ids\":[\"753203c2-1822-43b0-9a4a-26b31966a523\"]},\"title\":\"Bokeh Application\",\"version\":\"0.12.10\"}};\n",
       "    var render_items = [{\"docid\":\"27e6ab19-1f43-4524-84a7-0f761d5b4f2a\",\"elementid\":\"eacb4e14-b853-48d2-8f01-1491da5492c2\",\"modelid\":\"753203c2-1822-43b0-9a4a-26b31966a523\"}];\n",
       "\n",
       "    root.Bokeh.embed.embed_items(docs_json, render_items);\n",
       "  }\n",
       "\n",
       "  if (root.Bokeh !== undefined) {\n",
       "    embed_document(root);\n",
       "  } else {\n",
       "    var attempts = 0;\n",
       "    var timer = setInterval(function(root) {\n",
       "      if (root.Bokeh !== undefined) {\n",
       "        embed_document(root);\n",
       "        clearInterval(timer);\n",
       "      }\n",
       "      attempts++;\n",
       "      if (attempts > 100) {\n",
       "        console.log(\"Bokeh: ERROR: Unable to embed document because BokehJS library is missing\")\n",
       "        clearInterval(timer);\n",
       "      }\n",
       "    }, 10, root)\n",
       "  }\n",
       "})(window);"
      ],
      "application/vnd.bokehjs_exec.v0+json": ""
     },
     "metadata": {
      "application/vnd.bokehjs_exec.v0+json": {
       "id": "753203c2-1822-43b0-9a4a-26b31966a523"
      }
     },
     "output_type": "display_data"
    }
   ],
   "source": [
    "# レイアウトの設定\n",
    "from bokeh.models import Legend\n",
    "\n",
    "p = figure(plot_width=300, plot_height=200)\n",
    "r = p.circle([0], [0])\n",
    "legend = Legend(items=[('circle', [r])], location='bottom_left')\n",
    "p.add_layout(legend, 'left')\n",
    "\n",
    "show(p)"
   ]
  },
  {
   "cell_type": "code",
   "execution_count": 17,
   "metadata": {},
   "outputs": [
    {
     "data": {
      "text/html": [
       "\n",
       "<div class=\"bk-root\">\n",
       "    <div class=\"bk-plotdiv\" id=\"a0940b1f-cbb0-4d4a-9087-b4689748001a\"></div>\n",
       "</div>"
      ]
     },
     "metadata": {},
     "output_type": "display_data"
    },
    {
     "data": {
      "application/javascript": [
       "(function(root) {\n",
       "  function embed_document(root) {\n",
       "    var docs_json = {\"5d48a4d3-02ad-4f32-a564-45b01843e428\":{\"roots\":{\"references\":[{\"attributes\":{},\"id\":\"432950bf-9944-482f-a48a-1dccf88264b1\",\"type\":\"HelpTool\"},{\"attributes\":{\"fill_alpha\":{\"value\":0.1},\"fill_color\":{\"value\":\"#1f77b4\"},\"line_alpha\":{\"value\":0.1},\"line_color\":{\"value\":\"#1f77b4\"},\"x\":{\"field\":\"x\"},\"y\":{\"field\":\"y\"}},\"id\":\"218b7579-0abc-46bd-9976-68e0956bdb68\",\"type\":\"Circle\"},{\"attributes\":{\"plot\":{\"id\":\"430df561-2afb-4352-8528-a44efc414fba\",\"subtype\":\"Figure\",\"type\":\"Plot\"},\"ticker\":{\"id\":\"9eaceaa6-f2ef-4529-adfa-25e6bbbae66a\",\"type\":\"BasicTicker\"}},\"id\":\"95334c80-1650-4dbf-aa4e-7149ee9468a1\",\"type\":\"Grid\"},{\"attributes\":{},\"id\":\"a7d0cf1e-b395-4bcb-ba8b-bdcb1a84622f\",\"type\":\"SaveTool\"},{\"attributes\":{},\"id\":\"8d4c95f5-3eb0-472d-a9cf-1a1566517b9d\",\"type\":\"PanTool\"},{\"attributes\":{},\"id\":\"9eaceaa6-f2ef-4529-adfa-25e6bbbae66a\",\"type\":\"BasicTicker\"},{\"attributes\":{},\"id\":\"89f75c26-4a9b-4d63-b7d1-24a7fdd6877e\",\"type\":\"ResetTool\"},{\"attributes\":{\"formatter\":{\"id\":\"c403b741-ce69-4678-8654-60bbf9d2ab85\",\"type\":\"BasicTickFormatter\"},\"plot\":{\"id\":\"430df561-2afb-4352-8528-a44efc414fba\",\"subtype\":\"Figure\",\"type\":\"Plot\"},\"ticker\":{\"id\":\"9eaceaa6-f2ef-4529-adfa-25e6bbbae66a\",\"type\":\"BasicTicker\"}},\"id\":\"9bb47124-ded3-4c9d-989a-0fb914ed97f9\",\"type\":\"LinearAxis\"},{\"attributes\":{\"source\":{\"id\":\"2adfe5aa-a72c-470b-9ab7-374a01b44461\",\"type\":\"ColumnDataSource\"}},\"id\":\"2147c75a-b06d-45d6-b2d4-7d962a35e4bc\",\"type\":\"CDSView\"},{\"attributes\":{},\"id\":\"c83a3ccf-00ba-48ec-b206-ea31c52f9eeb\",\"type\":\"LinearScale\"},{\"attributes\":{},\"id\":\"b1035057-44c0-45e2-a9e6-9f03ccc8313e\",\"type\":\"WheelZoomTool\"},{\"attributes\":{},\"id\":\"da85ef2c-561f-4006-81ec-b0348f301e38\",\"type\":\"LinearScale\"},{\"attributes\":{},\"id\":\"5f715aa2-6996-408d-bb97-5c399887b87d\",\"type\":\"BasicTickFormatter\"},{\"attributes\":{\"callback\":null},\"id\":\"16b95ade-f6e6-46af-b88e-c836debbf1d8\",\"type\":\"DataRange1d\"},{\"attributes\":{\"bottom_units\":\"screen\",\"fill_alpha\":{\"value\":0.5},\"fill_color\":{\"value\":\"lightgrey\"},\"left_units\":\"screen\",\"level\":\"overlay\",\"line_alpha\":{\"value\":1.0},\"line_color\":{\"value\":\"black\"},\"line_dash\":[4,4],\"line_width\":{\"value\":2},\"plot\":null,\"render_mode\":\"css\",\"right_units\":\"screen\",\"top_units\":\"screen\"},\"id\":\"ed637f32-41c1-4977-af00-c8445311721b\",\"type\":\"BoxAnnotation\"},{\"attributes\":{\"callback\":null},\"id\":\"da4a1d95-5386-4dd6-beb1-f2d90d5fd0cb\",\"type\":\"DataRange1d\"},{\"attributes\":{\"overlay\":{\"id\":\"ed637f32-41c1-4977-af00-c8445311721b\",\"type\":\"BoxAnnotation\"}},\"id\":\"ba65febe-13c6-4e6b-a59c-2c3d36747a60\",\"type\":\"BoxZoomTool\"},{\"attributes\":{\"items\":[{\"id\":\"ae3ea3d8-f948-46c9-8654-2dd19f1682dc\",\"type\":\"LegendItem\"},{\"id\":\"e6d5c4da-0a05-40f2-adad-683e8676826d\",\"type\":\"LegendItem\"}],\"orientation\":\"horizontal\",\"plot\":{\"id\":\"430df561-2afb-4352-8528-a44efc414fba\",\"subtype\":\"Figure\",\"type\":\"Plot\"}},\"id\":\"da8efb59-5a54-42ac-827b-774e783346fe\",\"type\":\"Legend\"},{\"attributes\":{\"fill_alpha\":{\"value\":0.1},\"fill_color\":{\"value\":\"#1f77b4\"},\"line_alpha\":{\"value\":0.1},\"line_color\":{\"value\":\"#1f77b4\"},\"x\":{\"field\":\"x\"},\"y\":{\"field\":\"y\"}},\"id\":\"4b8d2695-806d-4d6b-a693-0a718e35c421\",\"type\":\"Square\"},{\"attributes\":{\"source\":{\"id\":\"63fc3188-2d43-4456-b929-8800d1c3894e\",\"type\":\"ColumnDataSource\"}},\"id\":\"4c0687a3-1fb4-4864-81bb-9f38f28137fb\",\"type\":\"CDSView\"},{\"attributes\":{\"callback\":null,\"column_names\":[\"x\",\"y\"],\"data\":{\"x\":[0,1],\"y\":[2,2]}},\"id\":\"63fc3188-2d43-4456-b929-8800d1c3894e\",\"type\":\"ColumnDataSource\"},{\"attributes\":{\"label\":{\"value\":\"square\"},\"renderers\":[{\"id\":\"819b71aa-2edc-4c6c-a801-dda34b00ac94\",\"type\":\"GlyphRenderer\"}]},\"id\":\"e6d5c4da-0a05-40f2-adad-683e8676826d\",\"type\":\"LegendItem\"},{\"attributes\":{\"dimension\":1,\"plot\":{\"id\":\"430df561-2afb-4352-8528-a44efc414fba\",\"subtype\":\"Figure\",\"type\":\"Plot\"},\"ticker\":{\"id\":\"9729ffc5-83ce-4429-b430-b2957d73a7f5\",\"type\":\"BasicTicker\"}},\"id\":\"555afd49-8e68-420e-923f-03498a3975d9\",\"type\":\"Grid\"},{\"attributes\":{},\"id\":\"c403b741-ce69-4678-8654-60bbf9d2ab85\",\"type\":\"BasicTickFormatter\"},{\"attributes\":{\"formatter\":{\"id\":\"5f715aa2-6996-408d-bb97-5c399887b87d\",\"type\":\"BasicTickFormatter\"},\"plot\":{\"id\":\"430df561-2afb-4352-8528-a44efc414fba\",\"subtype\":\"Figure\",\"type\":\"Plot\"},\"ticker\":{\"id\":\"9729ffc5-83ce-4429-b430-b2957d73a7f5\",\"type\":\"BasicTicker\"}},\"id\":\"94bc0b2b-b495-4488-87db-0e0cebcb7da8\",\"type\":\"LinearAxis\"},{\"attributes\":{\"data_source\":{\"id\":\"63fc3188-2d43-4456-b929-8800d1c3894e\",\"type\":\"ColumnDataSource\"},\"glyph\":{\"id\":\"ca72e487-7851-47d5-b9bb-dd4e40ae07fb\",\"type\":\"Square\"},\"hover_glyph\":null,\"muted_glyph\":null,\"nonselection_glyph\":{\"id\":\"4b8d2695-806d-4d6b-a693-0a718e35c421\",\"type\":\"Square\"},\"selection_glyph\":null,\"view\":{\"id\":\"4c0687a3-1fb4-4864-81bb-9f38f28137fb\",\"type\":\"CDSView\"}},\"id\":\"819b71aa-2edc-4c6c-a801-dda34b00ac94\",\"type\":\"GlyphRenderer\"},{\"attributes\":{\"label\":{\"value\":\"circle\"},\"renderers\":[{\"id\":\"2c408a35-aebf-4d7e-9fdf-ad7f20d9ccaa\",\"type\":\"GlyphRenderer\"}]},\"id\":\"ae3ea3d8-f948-46c9-8654-2dd19f1682dc\",\"type\":\"LegendItem\"},{\"attributes\":{\"plot\":null,\"text\":\"\"},\"id\":\"424cda4e-4a28-4e1f-9d44-51614f106c1d\",\"type\":\"Title\"},{\"attributes\":{\"fill_color\":{\"value\":\"#1f77b4\"},\"line_color\":{\"value\":\"#1f77b4\"},\"x\":{\"field\":\"x\"},\"y\":{\"field\":\"y\"}},\"id\":\"481f188a-d992-44bf-8a2d-26e1a04bd85d\",\"type\":\"Circle\"},{\"attributes\":{\"fill_color\":{\"value\":\"#1f77b4\"},\"line_color\":{\"value\":\"#1f77b4\"},\"x\":{\"field\":\"x\"},\"y\":{\"field\":\"y\"}},\"id\":\"ca72e487-7851-47d5-b9bb-dd4e40ae07fb\",\"type\":\"Square\"},{\"attributes\":{\"active_drag\":\"auto\",\"active_inspect\":\"auto\",\"active_scroll\":\"auto\",\"active_tap\":\"auto\",\"tools\":[{\"id\":\"8d4c95f5-3eb0-472d-a9cf-1a1566517b9d\",\"type\":\"PanTool\"},{\"id\":\"b1035057-44c0-45e2-a9e6-9f03ccc8313e\",\"type\":\"WheelZoomTool\"},{\"id\":\"ba65febe-13c6-4e6b-a59c-2c3d36747a60\",\"type\":\"BoxZoomTool\"},{\"id\":\"a7d0cf1e-b395-4bcb-ba8b-bdcb1a84622f\",\"type\":\"SaveTool\"},{\"id\":\"89f75c26-4a9b-4d63-b7d1-24a7fdd6877e\",\"type\":\"ResetTool\"},{\"id\":\"432950bf-9944-482f-a48a-1dccf88264b1\",\"type\":\"HelpTool\"}]},\"id\":\"9cf9ef90-13fa-4c47-bb05-72125ebe9cc7\",\"type\":\"Toolbar\"},{\"attributes\":{},\"id\":\"9729ffc5-83ce-4429-b430-b2957d73a7f5\",\"type\":\"BasicTicker\"},{\"attributes\":{\"below\":[{\"id\":\"9bb47124-ded3-4c9d-989a-0fb914ed97f9\",\"type\":\"LinearAxis\"}],\"left\":[{\"id\":\"94bc0b2b-b495-4488-87db-0e0cebcb7da8\",\"type\":\"LinearAxis\"}],\"plot_height\":200,\"plot_width\":200,\"renderers\":[{\"id\":\"9bb47124-ded3-4c9d-989a-0fb914ed97f9\",\"type\":\"LinearAxis\"},{\"id\":\"95334c80-1650-4dbf-aa4e-7149ee9468a1\",\"type\":\"Grid\"},{\"id\":\"94bc0b2b-b495-4488-87db-0e0cebcb7da8\",\"type\":\"LinearAxis\"},{\"id\":\"555afd49-8e68-420e-923f-03498a3975d9\",\"type\":\"Grid\"},{\"id\":\"ed637f32-41c1-4977-af00-c8445311721b\",\"type\":\"BoxAnnotation\"},{\"id\":\"da8efb59-5a54-42ac-827b-774e783346fe\",\"type\":\"Legend\"},{\"id\":\"2c408a35-aebf-4d7e-9fdf-ad7f20d9ccaa\",\"type\":\"GlyphRenderer\"},{\"id\":\"819b71aa-2edc-4c6c-a801-dda34b00ac94\",\"type\":\"GlyphRenderer\"}],\"title\":{\"id\":\"424cda4e-4a28-4e1f-9d44-51614f106c1d\",\"type\":\"Title\"},\"toolbar\":{\"id\":\"9cf9ef90-13fa-4c47-bb05-72125ebe9cc7\",\"type\":\"Toolbar\"},\"x_range\":{\"id\":\"16b95ade-f6e6-46af-b88e-c836debbf1d8\",\"type\":\"DataRange1d\"},\"x_scale\":{\"id\":\"da85ef2c-561f-4006-81ec-b0348f301e38\",\"type\":\"LinearScale\"},\"y_range\":{\"id\":\"da4a1d95-5386-4dd6-beb1-f2d90d5fd0cb\",\"type\":\"DataRange1d\"},\"y_scale\":{\"id\":\"c83a3ccf-00ba-48ec-b206-ea31c52f9eeb\",\"type\":\"LinearScale\"}},\"id\":\"430df561-2afb-4352-8528-a44efc414fba\",\"subtype\":\"Figure\",\"type\":\"Plot\"},{\"attributes\":{\"callback\":null,\"column_names\":[\"x\",\"y\"],\"data\":{\"x\":[0,1],\"y\":[1,1]}},\"id\":\"2adfe5aa-a72c-470b-9ab7-374a01b44461\",\"type\":\"ColumnDataSource\"},{\"attributes\":{\"data_source\":{\"id\":\"2adfe5aa-a72c-470b-9ab7-374a01b44461\",\"type\":\"ColumnDataSource\"},\"glyph\":{\"id\":\"481f188a-d992-44bf-8a2d-26e1a04bd85d\",\"type\":\"Circle\"},\"hover_glyph\":null,\"muted_glyph\":null,\"nonselection_glyph\":{\"id\":\"218b7579-0abc-46bd-9976-68e0956bdb68\",\"type\":\"Circle\"},\"selection_glyph\":null,\"view\":{\"id\":\"2147c75a-b06d-45d6-b2d4-7d962a35e4bc\",\"type\":\"CDSView\"}},\"id\":\"2c408a35-aebf-4d7e-9fdf-ad7f20d9ccaa\",\"type\":\"GlyphRenderer\"}],\"root_ids\":[\"430df561-2afb-4352-8528-a44efc414fba\"]},\"title\":\"Bokeh Application\",\"version\":\"0.12.10\"}};\n",
       "    var render_items = [{\"docid\":\"5d48a4d3-02ad-4f32-a564-45b01843e428\",\"elementid\":\"a0940b1f-cbb0-4d4a-9087-b4689748001a\",\"modelid\":\"430df561-2afb-4352-8528-a44efc414fba\"}];\n",
       "\n",
       "    root.Bokeh.embed.embed_items(docs_json, render_items);\n",
       "  }\n",
       "\n",
       "  if (root.Bokeh !== undefined) {\n",
       "    embed_document(root);\n",
       "  } else {\n",
       "    var attempts = 0;\n",
       "    var timer = setInterval(function(root) {\n",
       "      if (root.Bokeh !== undefined) {\n",
       "        embed_document(root);\n",
       "        clearInterval(timer);\n",
       "      }\n",
       "      attempts++;\n",
       "      if (attempts > 100) {\n",
       "        console.log(\"Bokeh: ERROR: Unable to embed document because BokehJS library is missing\")\n",
       "        clearInterval(timer);\n",
       "      }\n",
       "    }, 10, root)\n",
       "  }\n",
       "})(window);"
      ],
      "application/vnd.bokehjs_exec.v0+json": ""
     },
     "metadata": {
      "application/vnd.bokehjs_exec.v0+json": {
       "id": "430df561-2afb-4352-8528-a44efc414fba"
      }
     },
     "output_type": "display_data"
    }
   ],
   "source": [
    "# orientation\n",
    "\n",
    "p = figure(plot_width=200, plot_height=200)\n",
    "p.circle([0, 1], [1, 1], legend='circle')\n",
    "p.square([0, 1], [2, 2], legend='square')\n",
    "p.legend.orientation = 'horizontal'\n",
    "\n",
    "show(p)"
   ]
  },
  {
   "cell_type": "code",
   "execution_count": 18,
   "metadata": {},
   "outputs": [
    {
     "data": {
      "text/html": [
       "\n",
       "<div class=\"bk-root\">\n",
       "    <div class=\"bk-plotdiv\" id=\"73c8a247-57c4-47a8-b89d-12cae9f3212f\"></div>\n",
       "</div>"
      ]
     },
     "metadata": {},
     "output_type": "display_data"
    },
    {
     "data": {
      "application/javascript": [
       "(function(root) {\n",
       "  function embed_document(root) {\n",
       "    var docs_json = {\"33499695-c129-4dc8-aa86-6f6becffabdf\":{\"roots\":{\"references\":[{\"attributes\":{\"callback\":null},\"id\":\"58c2ab62-b521-4d69-864b-ea4d1041d465\",\"type\":\"DataRange1d\"},{\"attributes\":{\"bottom_units\":\"screen\",\"fill_alpha\":{\"value\":0.5},\"fill_color\":{\"value\":\"lightgrey\"},\"left_units\":\"screen\",\"level\":\"overlay\",\"line_alpha\":{\"value\":1.0},\"line_color\":{\"value\":\"black\"},\"line_dash\":[4,4],\"line_width\":{\"value\":2},\"plot\":null,\"render_mode\":\"css\",\"right_units\":\"screen\",\"top_units\":\"screen\"},\"id\":\"460e1788-3f89-4400-affd-33df6f94a326\",\"type\":\"BoxAnnotation\"},{\"attributes\":{},\"id\":\"e96fb845-bc43-491d-9ca9-a6d30c6ffbe1\",\"type\":\"BasicTicker\"},{\"attributes\":{\"source\":{\"id\":\"5b597a3d-1374-40d9-b00f-ce226f55f965\",\"type\":\"ColumnDataSource\"}},\"id\":\"1cbef24e-c3a8-47fa-a5c8-ad1093a70229\",\"type\":\"CDSView\"},{\"attributes\":{},\"id\":\"f7a83b42-560e-483d-9a43-caf5c32c900b\",\"type\":\"LinearScale\"},{\"attributes\":{},\"id\":\"37f4625b-d043-4a20-8b2e-922edca133dd\",\"type\":\"BasicTickFormatter\"},{\"attributes\":{\"below\":[{\"id\":\"9256578e-055a-47b3-8570-2370e30f225b\",\"type\":\"LinearAxis\"}],\"left\":[{\"id\":\"432a4da5-ab12-4578-9178-cfd0d5924010\",\"type\":\"LinearAxis\"}],\"plot_height\":200,\"plot_width\":200,\"renderers\":[{\"id\":\"9256578e-055a-47b3-8570-2370e30f225b\",\"type\":\"LinearAxis\"},{\"id\":\"54dfdd20-79a7-495f-941f-d19e010e0c33\",\"type\":\"Grid\"},{\"id\":\"432a4da5-ab12-4578-9178-cfd0d5924010\",\"type\":\"LinearAxis\"},{\"id\":\"620829ba-419b-45a5-a8ef-681b2480d4ac\",\"type\":\"Grid\"},{\"id\":\"460e1788-3f89-4400-affd-33df6f94a326\",\"type\":\"BoxAnnotation\"},{\"id\":\"99ecf67b-2794-4fd9-806a-cf8d24534749\",\"type\":\"Legend\"},{\"id\":\"6b49e36d-a41d-442a-9249-5f886287a648\",\"type\":\"GlyphRenderer\"},{\"id\":\"c1c445ef-92b1-4fc2-aac6-5665d7966b6f\",\"type\":\"GlyphRenderer\"}],\"title\":{\"id\":\"ae659a22-fd29-4aca-8c05-cde450548167\",\"type\":\"Title\"},\"toolbar\":{\"id\":\"65400159-297a-41b4-86bc-bc5099430bc9\",\"type\":\"Toolbar\"},\"x_range\":{\"id\":\"cf023211-a26f-4747-9bfb-907dd1ef8c0e\",\"type\":\"DataRange1d\"},\"x_scale\":{\"id\":\"f7a83b42-560e-483d-9a43-caf5c32c900b\",\"type\":\"LinearScale\"},\"y_range\":{\"id\":\"58c2ab62-b521-4d69-864b-ea4d1041d465\",\"type\":\"DataRange1d\"},\"y_scale\":{\"id\":\"92a40f25-b124-4ef4-b323-799fab81a89f\",\"type\":\"LinearScale\"}},\"id\":\"d608b34f-dc9c-4f9b-ab91-99ebbccdf205\",\"subtype\":\"Figure\",\"type\":\"Plot\"},{\"attributes\":{\"active_drag\":\"auto\",\"active_inspect\":\"auto\",\"active_scroll\":\"auto\",\"active_tap\":\"auto\",\"tools\":[{\"id\":\"bcdb8885-7a25-45a8-b1f4-125bd508343f\",\"type\":\"PanTool\"},{\"id\":\"12dd9210-d2bd-40f3-a58e-5da05f4b37d0\",\"type\":\"WheelZoomTool\"},{\"id\":\"4c994b70-c173-4daa-9976-d0a07ef66856\",\"type\":\"BoxZoomTool\"},{\"id\":\"6401fc94-2245-4a7e-8f4d-20c0a071e000\",\"type\":\"SaveTool\"},{\"id\":\"63353a0f-60b7-4c66-991b-a8fcd7a3b2a0\",\"type\":\"ResetTool\"},{\"id\":\"f4375317-ebed-4c64-a4ec-40041732002f\",\"type\":\"HelpTool\"}]},\"id\":\"65400159-297a-41b4-86bc-bc5099430bc9\",\"type\":\"Toolbar\"},{\"attributes\":{\"callback\":null},\"id\":\"cf023211-a26f-4747-9bfb-907dd1ef8c0e\",\"type\":\"DataRange1d\"},{\"attributes\":{\"callback\":null,\"column_names\":[\"x\",\"y\"],\"data\":{\"x\":[0,1],\"y\":[1,1]}},\"id\":\"5b597a3d-1374-40d9-b00f-ce226f55f965\",\"type\":\"ColumnDataSource\"},{\"attributes\":{\"fill_color\":{\"value\":\"#1f77b4\"},\"line_color\":{\"value\":\"#1f77b4\"},\"x\":{\"field\":\"x\"},\"y\":{\"field\":\"y\"}},\"id\":\"babd964b-4aa8-4af6-a5fb-1cd43665fb87\",\"type\":\"Circle\"},{\"attributes\":{\"fill_alpha\":{\"value\":0.1},\"fill_color\":{\"value\":\"#1f77b4\"},\"line_alpha\":{\"value\":0.1},\"line_color\":{\"value\":\"#1f77b4\"},\"x\":{\"field\":\"x\"},\"y\":{\"field\":\"y\"}},\"id\":\"34806c37-8ffb-4d7a-9958-9587f2ed193a\",\"type\":\"Circle\"},{\"attributes\":{\"data_source\":{\"id\":\"5b597a3d-1374-40d9-b00f-ce226f55f965\",\"type\":\"ColumnDataSource\"},\"glyph\":{\"id\":\"babd964b-4aa8-4af6-a5fb-1cd43665fb87\",\"type\":\"Circle\"},\"hover_glyph\":null,\"muted_glyph\":null,\"nonselection_glyph\":{\"id\":\"34806c37-8ffb-4d7a-9958-9587f2ed193a\",\"type\":\"Circle\"},\"selection_glyph\":null,\"view\":{\"id\":\"1cbef24e-c3a8-47fa-a5c8-ad1093a70229\",\"type\":\"CDSView\"}},\"id\":\"6b49e36d-a41d-442a-9249-5f886287a648\",\"type\":\"GlyphRenderer\"},{\"attributes\":{\"callback\":null,\"column_names\":[\"x\",\"y\"],\"data\":{\"x\":[0,1],\"y\":[2,2]}},\"id\":\"f727ce03-9717-4526-b994-676eeab12a0e\",\"type\":\"ColumnDataSource\"},{\"attributes\":{\"plot\":null,\"text\":\"\"},\"id\":\"ae659a22-fd29-4aca-8c05-cde450548167\",\"type\":\"Title\"},{\"attributes\":{\"plot\":{\"id\":\"d608b34f-dc9c-4f9b-ab91-99ebbccdf205\",\"subtype\":\"Figure\",\"type\":\"Plot\"},\"ticker\":{\"id\":\"e96fb845-bc43-491d-9ca9-a6d30c6ffbe1\",\"type\":\"BasicTicker\"}},\"id\":\"54dfdd20-79a7-495f-941f-d19e010e0c33\",\"type\":\"Grid\"},{\"attributes\":{\"fill_color\":{\"value\":\"#1f77b4\"},\"line_color\":{\"value\":\"#1f77b4\"},\"x\":{\"field\":\"x\"},\"y\":{\"field\":\"y\"}},\"id\":\"ea292433-e6bc-43a3-9c45-db0722bfbf5d\",\"type\":\"Square\"},{\"attributes\":{},\"id\":\"92a40f25-b124-4ef4-b323-799fab81a89f\",\"type\":\"LinearScale\"},{\"attributes\":{\"data_source\":{\"id\":\"f727ce03-9717-4526-b994-676eeab12a0e\",\"type\":\"ColumnDataSource\"},\"glyph\":{\"id\":\"ea292433-e6bc-43a3-9c45-db0722bfbf5d\",\"type\":\"Square\"},\"hover_glyph\":null,\"muted_glyph\":null,\"nonselection_glyph\":{\"id\":\"adaf9601-095a-480f-a1c7-c3f3150aaf6a\",\"type\":\"Square\"},\"selection_glyph\":null,\"view\":{\"id\":\"e6a1b42a-ad01-4865-85ae-d89c60124b75\",\"type\":\"CDSView\"}},\"id\":\"c1c445ef-92b1-4fc2-aac6-5665d7966b6f\",\"type\":\"GlyphRenderer\"},{\"attributes\":{},\"id\":\"f4375317-ebed-4c64-a4ec-40041732002f\",\"type\":\"HelpTool\"},{\"attributes\":{\"source\":{\"id\":\"f727ce03-9717-4526-b994-676eeab12a0e\",\"type\":\"ColumnDataSource\"}},\"id\":\"e6a1b42a-ad01-4865-85ae-d89c60124b75\",\"type\":\"CDSView\"},{\"attributes\":{\"fill_alpha\":{\"value\":0.1},\"fill_color\":{\"value\":\"#1f77b4\"},\"line_alpha\":{\"value\":0.1},\"line_color\":{\"value\":\"#1f77b4\"},\"x\":{\"field\":\"x\"},\"y\":{\"field\":\"y\"}},\"id\":\"adaf9601-095a-480f-a1c7-c3f3150aaf6a\",\"type\":\"Square\"},{\"attributes\":{\"label\":{\"value\":\"square\"},\"renderers\":[{\"id\":\"c1c445ef-92b1-4fc2-aac6-5665d7966b6f\",\"type\":\"GlyphRenderer\"}]},\"id\":\"3848b5e0-6728-4446-bf61-4429be7ca882\",\"type\":\"LegendItem\"},{\"attributes\":{},\"id\":\"bcdb8885-7a25-45a8-b1f4-125bd508343f\",\"type\":\"PanTool\"},{\"attributes\":{\"formatter\":{\"id\":\"37f4625b-d043-4a20-8b2e-922edca133dd\",\"type\":\"BasicTickFormatter\"},\"plot\":{\"id\":\"d608b34f-dc9c-4f9b-ab91-99ebbccdf205\",\"subtype\":\"Figure\",\"type\":\"Plot\"},\"ticker\":{\"id\":\"e96fb845-bc43-491d-9ca9-a6d30c6ffbe1\",\"type\":\"BasicTicker\"}},\"id\":\"9256578e-055a-47b3-8570-2370e30f225b\",\"type\":\"LinearAxis\"},{\"attributes\":{\"label\":{\"value\":\"circle\"},\"renderers\":[{\"id\":\"6b49e36d-a41d-442a-9249-5f886287a648\",\"type\":\"GlyphRenderer\"}]},\"id\":\"7dac5f48-151c-44d0-ac1e-7ae018efb29a\",\"type\":\"LegendItem\"},{\"attributes\":{},\"id\":\"63353a0f-60b7-4c66-991b-a8fcd7a3b2a0\",\"type\":\"ResetTool\"},{\"attributes\":{\"overlay\":{\"id\":\"460e1788-3f89-4400-affd-33df6f94a326\",\"type\":\"BoxAnnotation\"}},\"id\":\"4c994b70-c173-4daa-9976-d0a07ef66856\",\"type\":\"BoxZoomTool\"},{\"attributes\":{\"border_line_color\":{\"value\":\"black\"},\"items\":[{\"id\":\"7dac5f48-151c-44d0-ac1e-7ae018efb29a\",\"type\":\"LegendItem\"},{\"id\":\"3848b5e0-6728-4446-bf61-4429be7ca882\",\"type\":\"LegendItem\"}],\"location\":\"center\",\"padding\":20,\"plot\":{\"id\":\"d608b34f-dc9c-4f9b-ab91-99ebbccdf205\",\"subtype\":\"Figure\",\"type\":\"Plot\"},\"spacing\":15},\"id\":\"99ecf67b-2794-4fd9-806a-cf8d24534749\",\"type\":\"Legend\"},{\"attributes\":{\"dimension\":1,\"plot\":{\"id\":\"d608b34f-dc9c-4f9b-ab91-99ebbccdf205\",\"subtype\":\"Figure\",\"type\":\"Plot\"},\"ticker\":{\"id\":\"703b7d70-9036-4616-8f83-542f6bdf06e7\",\"type\":\"BasicTicker\"}},\"id\":\"620829ba-419b-45a5-a8ef-681b2480d4ac\",\"type\":\"Grid\"},{\"attributes\":{},\"id\":\"12dd9210-d2bd-40f3-a58e-5da05f4b37d0\",\"type\":\"WheelZoomTool\"},{\"attributes\":{},\"id\":\"e185f2a1-e3d8-4efa-9cb7-306c98f7a3f7\",\"type\":\"BasicTickFormatter\"},{\"attributes\":{\"formatter\":{\"id\":\"e185f2a1-e3d8-4efa-9cb7-306c98f7a3f7\",\"type\":\"BasicTickFormatter\"},\"plot\":{\"id\":\"d608b34f-dc9c-4f9b-ab91-99ebbccdf205\",\"subtype\":\"Figure\",\"type\":\"Plot\"},\"ticker\":{\"id\":\"703b7d70-9036-4616-8f83-542f6bdf06e7\",\"type\":\"BasicTicker\"}},\"id\":\"432a4da5-ab12-4578-9178-cfd0d5924010\",\"type\":\"LinearAxis\"},{\"attributes\":{},\"id\":\"703b7d70-9036-4616-8f83-542f6bdf06e7\",\"type\":\"BasicTicker\"},{\"attributes\":{},\"id\":\"6401fc94-2245-4a7e-8f4d-20c0a071e000\",\"type\":\"SaveTool\"}],\"root_ids\":[\"d608b34f-dc9c-4f9b-ab91-99ebbccdf205\"]},\"title\":\"Bokeh Application\",\"version\":\"0.12.10\"}};\n",
       "    var render_items = [{\"docid\":\"33499695-c129-4dc8-aa86-6f6becffabdf\",\"elementid\":\"73c8a247-57c4-47a8-b89d-12cae9f3212f\",\"modelid\":\"d608b34f-dc9c-4f9b-ab91-99ebbccdf205\"}];\n",
       "\n",
       "    root.Bokeh.embed.embed_items(docs_json, render_items);\n",
       "  }\n",
       "\n",
       "  if (root.Bokeh !== undefined) {\n",
       "    embed_document(root);\n",
       "  } else {\n",
       "    var attempts = 0;\n",
       "    var timer = setInterval(function(root) {\n",
       "      if (root.Bokeh !== undefined) {\n",
       "        embed_document(root);\n",
       "        clearInterval(timer);\n",
       "      }\n",
       "      attempts++;\n",
       "      if (attempts > 100) {\n",
       "        console.log(\"Bokeh: ERROR: Unable to embed document because BokehJS library is missing\")\n",
       "        clearInterval(timer);\n",
       "      }\n",
       "    }, 10, root)\n",
       "  }\n",
       "})(window);"
      ],
      "application/vnd.bokehjs_exec.v0+json": ""
     },
     "metadata": {
      "application/vnd.bokehjs_exec.v0+json": {
       "id": "d608b34f-dc9c-4f9b-ab91-99ebbccdf205"
      }
     },
     "output_type": "display_data"
    }
   ],
   "source": [
    "# 凡例の調整\n",
    "\n",
    "p = figure(plot_width=200, plot_height=200)\n",
    "p.circle([0, 1], [1, 1], legend='circle')\n",
    "p.square([0, 1], [2, 2], legend='square')\n",
    "p.legend.border_line_color = 'black'\n",
    "p.legend.location = 'center'\n",
    "p.legend.spacing = 15\n",
    "p.legend.padding = 20\n",
    "show(p)"
   ]
  },
  {
   "cell_type": "code",
   "execution_count": null,
   "metadata": {},
   "outputs": [],
   "source": []
  }
 ],
 "metadata": {
  "kernelspec": {
   "display_name": "Python 3",
   "language": "python",
   "name": "python3"
  },
  "language_info": {
   "codemirror_mode": {
    "name": "ipython",
    "version": 3
   },
   "file_extension": ".py",
   "mimetype": "text/x-python",
   "name": "python",
   "nbconvert_exporter": "python",
   "pygments_lexer": "ipython3",
   "version": "3.6.1"
  }
 },
 "nbformat": 4,
 "nbformat_minor": 2
}
